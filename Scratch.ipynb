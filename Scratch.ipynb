{
 "cells": [
  {
   "cell_type": "code",
   "execution_count": null,
   "metadata": {},
   "outputs": [],
   "source": [
    "import pandas as pd\n",
    "import numpy as np"
   ]
  },
  {
   "cell_type": "code",
   "execution_count": null,
   "metadata": {},
   "outputs": [],
   "source": [
    "from corpus_reading import read_dump\n",
    "\n",
    "chords_tsv = 'data/chord_list.tsv'\n",
    "notes_tsv = 'data/note_list.tsv'\n",
    "measures_tsv = 'data/measure_list.tsv'\n",
    "files_tsv = 'data/note_list.tsv'\n",
    "\n",
    "chords_df = read_dump(chords_tsv)\n",
    "notes_df = read_dump(notes_tsv, index_col=[0,1,2])\n",
    "measures_df = read_dump(measures_tsv)\n",
    "files_df = read_dump(files_tsv, index_col=0)"
   ]
  },
  {
   "cell_type": "code",
   "execution_count": null,
   "metadata": {},
   "outputs": [],
   "source": [
    "files_df"
   ]
  },
  {
   "cell_type": "code",
   "execution_count": null,
   "metadata": {},
   "outputs": [],
   "source": [
    "chords_df"
   ]
  },
  {
   "cell_type": "code",
   "execution_count": null,
   "metadata": {},
   "outputs": [],
   "source": [
    "measures_df.loc[measures_df.duration != measures_df.act_dur]"
   ]
  },
  {
   "cell_type": "code",
   "execution_count": null,
   "metadata": {},
   "outputs": [],
   "source": [
    "notes_df"
   ]
  },
  {
   "cell_type": "code",
   "execution_count": null,
   "metadata": {},
   "outputs": [],
   "source": [
    "import corpus_utils\n",
    "import importlib\n",
    "importlib.reload(corpus_utils)\n",
    "\n",
    "measures_removed_df = corpus_utils.remove_repeats(measures_df)\n",
    "offset_mc, offset_beat = corpus_utils.get_offsets(notes_df, measures_removed_df)\n",
    "offset_df = notes_df.assign(offset_mc=offset_mc, offset_beat=offset_beat)\n",
    "merged_notes_df = corpus_utils.merge_ties(offset_df, measures=measures_removed_df)"
   ]
  },
  {
   "cell_type": "code",
   "execution_count": null,
   "metadata": {},
   "outputs": [],
   "source": [
    "import harmonic_inference_data as hid\n",
    "import importlib\n",
    "importlib.reload(hid)\n",
    "\n",
    "dataset = hid.MusicScoreDataset(chords_df=chords_df, notes_df=merged_notes_df,\n",
    "                                measures_df=measures_removed_df, files_df=files_df,\n",
    "                                merge_ties=False)"
   ]
  },
  {
   "cell_type": "code",
   "execution_count": null,
   "metadata": {},
   "outputs": [],
   "source": [
    "# np.concatenate((np.array([midi_pitch_norm]), tpc_one_hot, octave_one_hot,\n",
    "#                               np.array([onset_level]), np.array([offset_level]),\n",
    "#                               np.array([float(onset)]), np.array([float(offset)]), np.array([float(duration)]),\n",
    "#                               np.array([is_lowest])))\n",
    "notes = np.vstack([data['notes'] for data in dataset])"
   ]
  },
  {
   "cell_type": "code",
   "execution_count": null,
   "metadata": {},
   "outputs": [],
   "source": [
    "for i, data in enumerate(dataset):\n",
    "    print(i)"
   ]
  },
  {
   "cell_type": "code",
   "execution_count": null,
   "metadata": {},
   "outputs": [],
   "source": [
    "print(dataset[320])"
   ]
  },
  {
   "cell_type": "code",
   "execution_count": null,
   "metadata": {},
   "outputs": [],
   "source": [
    "print(chords_df.iloc[320])"
   ]
  },
  {
   "cell_type": "code",
   "execution_count": null,
   "metadata": {},
   "outputs": [],
   "source": []
  }
 ],
 "metadata": {
  "kernelspec": {
   "display_name": "Python 3",
   "language": "python",
   "name": "python3"
  }
 },
 "nbformat": 4,
 "nbformat_minor": 4
}
