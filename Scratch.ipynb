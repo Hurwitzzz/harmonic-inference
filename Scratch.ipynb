{
 "cells": [
  {
   "cell_type": "code",
   "execution_count": 1,
   "metadata": {},
   "outputs": [],
   "source": [
    "import pandas as pd\n",
    "import corpus_reading"
   ]
  },
  {
   "cell_type": "code",
   "execution_count": 2,
   "metadata": {},
   "outputs": [
    {
     "data": {
      "text/html": [
       "<div>\n",
       "<style scoped>\n",
       "    .dataframe tbody tr th:only-of-type {\n",
       "        vertical-align: middle;\n",
       "    }\n",
       "\n",
       "    .dataframe tbody tr th {\n",
       "        vertical-align: top;\n",
       "    }\n",
       "\n",
       "    .dataframe thead th {\n",
       "        text-align: right;\n",
       "    }\n",
       "</style>\n",
       "<table border=\"1\" class=\"dataframe\">\n",
       "  <thead>\n",
       "    <tr style=\"text-align: right;\">\n",
       "      <th></th>\n",
       "      <th>extension</th>\n",
       "      <th>filename</th>\n",
       "      <th>md5</th>\n",
       "      <th>name</th>\n",
       "      <th>rel_path</th>\n",
       "      <th>subcorpus</th>\n",
       "    </tr>\n",
       "    <tr>\n",
       "      <th>id</th>\n",
       "      <th></th>\n",
       "      <th></th>\n",
       "      <th></th>\n",
       "      <th></th>\n",
       "      <th></th>\n",
       "      <th></th>\n",
       "    </tr>\n",
       "  </thead>\n",
       "  <tbody>\n",
       "    <tr>\n",
       "      <th>0</th>\n",
       "      <td>.mscx</td>\n",
       "      <td>BWV806_01_Prélude.mscx</td>\n",
       "      <td>e81d2b409a3c696e733ac86b86f522ee</td>\n",
       "      <td>BWV806_01_Prélude</td>\n",
       "      <td>annotations/Bach_Suites/English Suites</td>\n",
       "      <td>English Suites</td>\n",
       "    </tr>\n",
       "    <tr>\n",
       "      <th>1</th>\n",
       "      <td>.mscx</td>\n",
       "      <td>BWV806_02_Allemande.mscx</td>\n",
       "      <td>891f360ce282304a05b6172a67961b1a</td>\n",
       "      <td>BWV806_02_Allemande</td>\n",
       "      <td>annotations/Bach_Suites/English Suites</td>\n",
       "      <td>English Suites</td>\n",
       "    </tr>\n",
       "    <tr>\n",
       "      <th>2</th>\n",
       "      <td>.mscx</td>\n",
       "      <td>BWV806_03_Courante_I.mscx</td>\n",
       "      <td>30885cb1c729ef726e7d7f6dbb96c71b</td>\n",
       "      <td>BWV806_03_Courante_I</td>\n",
       "      <td>annotations/Bach_Suites/English Suites</td>\n",
       "      <td>English Suites</td>\n",
       "    </tr>\n",
       "    <tr>\n",
       "      <th>3</th>\n",
       "      <td>.mscx</td>\n",
       "      <td>BWV806_04_Courante_II.mscx</td>\n",
       "      <td>10f21162c887d978f95ffdd34c03bc50</td>\n",
       "      <td>BWV806_04_Courante_II</td>\n",
       "      <td>annotations/Bach_Suites/English Suites</td>\n",
       "      <td>English Suites</td>\n",
       "    </tr>\n",
       "    <tr>\n",
       "      <th>4</th>\n",
       "      <td>.mscx</td>\n",
       "      <td>BWV806_05_Double_I.mscx</td>\n",
       "      <td>afe9dccb3ee6a23457c84450fdf33a65</td>\n",
       "      <td>BWV806_05_Double_I</td>\n",
       "      <td>annotations/Bach_Suites/English Suites</td>\n",
       "      <td>English Suites</td>\n",
       "    </tr>\n",
       "    <tr>\n",
       "      <th>...</th>\n",
       "      <td>...</td>\n",
       "      <td>...</td>\n",
       "      <td>...</td>\n",
       "      <td>...</td>\n",
       "      <td>...</td>\n",
       "      <td>...</td>\n",
       "    </tr>\n",
       "    <tr>\n",
       "      <th>691</th>\n",
       "      <td>.mscx</td>\n",
       "      <td>n15op132_04.mscx</td>\n",
       "      <td>ed0476e8bb2a0280cbf44d45cac40d9d</td>\n",
       "      <td>n15op132_04</td>\n",
       "      <td>data/mscx</td>\n",
       "      <td>mscx</td>\n",
       "    </tr>\n",
       "    <tr>\n",
       "      <th>693</th>\n",
       "      <td>.mscx</td>\n",
       "      <td>n16op135_01.mscx</td>\n",
       "      <td>a60fdfa4c0a2a9b80f0884859fbb4ae4</td>\n",
       "      <td>n16op135_01</td>\n",
       "      <td>data/mscx</td>\n",
       "      <td>mscx</td>\n",
       "    </tr>\n",
       "    <tr>\n",
       "      <th>694</th>\n",
       "      <td>.mscx</td>\n",
       "      <td>n16op135_02.mscx</td>\n",
       "      <td>196149b8165016829d4075e0b6dc617b</td>\n",
       "      <td>n16op135_02</td>\n",
       "      <td>data/mscx</td>\n",
       "      <td>mscx</td>\n",
       "    </tr>\n",
       "    <tr>\n",
       "      <th>695</th>\n",
       "      <td>.mscx</td>\n",
       "      <td>n16op135_03.mscx</td>\n",
       "      <td>be7e21f67cf1231c3ad4300e42849666</td>\n",
       "      <td>n16op135_03</td>\n",
       "      <td>data/mscx</td>\n",
       "      <td>mscx</td>\n",
       "    </tr>\n",
       "    <tr>\n",
       "      <th>696</th>\n",
       "      <td>.mscx</td>\n",
       "      <td>n16op135_04.mscx</td>\n",
       "      <td>6aa7b426ef6f1d29a7909c16be1f43dc</td>\n",
       "      <td>n16op135_04</td>\n",
       "      <td>data/mscx</td>\n",
       "      <td>mscx</td>\n",
       "    </tr>\n",
       "  </tbody>\n",
       "</table>\n",
       "<p>634 rows × 6 columns</p>\n",
       "</div>"
      ],
      "text/plain": [
       "    extension                    filename                               md5  \\\n",
       "id                                                                            \n",
       "0       .mscx      BWV806_01_Prélude.mscx  e81d2b409a3c696e733ac86b86f522ee   \n",
       "1       .mscx    BWV806_02_Allemande.mscx  891f360ce282304a05b6172a67961b1a   \n",
       "2       .mscx   BWV806_03_Courante_I.mscx  30885cb1c729ef726e7d7f6dbb96c71b   \n",
       "3       .mscx  BWV806_04_Courante_II.mscx  10f21162c887d978f95ffdd34c03bc50   \n",
       "4       .mscx     BWV806_05_Double_I.mscx  afe9dccb3ee6a23457c84450fdf33a65   \n",
       "..        ...                         ...                               ...   \n",
       "691     .mscx            n15op132_04.mscx  ed0476e8bb2a0280cbf44d45cac40d9d   \n",
       "693     .mscx            n16op135_01.mscx  a60fdfa4c0a2a9b80f0884859fbb4ae4   \n",
       "694     .mscx            n16op135_02.mscx  196149b8165016829d4075e0b6dc617b   \n",
       "695     .mscx            n16op135_03.mscx  be7e21f67cf1231c3ad4300e42849666   \n",
       "696     .mscx            n16op135_04.mscx  6aa7b426ef6f1d29a7909c16be1f43dc   \n",
       "\n",
       "                      name                                rel_path  \\\n",
       "id                                                                   \n",
       "0        BWV806_01_Prélude  annotations/Bach_Suites/English Suites   \n",
       "1      BWV806_02_Allemande  annotations/Bach_Suites/English Suites   \n",
       "2     BWV806_03_Courante_I  annotations/Bach_Suites/English Suites   \n",
       "3    BWV806_04_Courante_II  annotations/Bach_Suites/English Suites   \n",
       "4       BWV806_05_Double_I  annotations/Bach_Suites/English Suites   \n",
       "..                     ...                                     ...   \n",
       "691            n15op132_04                               data/mscx   \n",
       "693            n16op135_01                               data/mscx   \n",
       "694            n16op135_02                               data/mscx   \n",
       "695            n16op135_03                               data/mscx   \n",
       "696            n16op135_04                               data/mscx   \n",
       "\n",
       "          subcorpus  \n",
       "id                   \n",
       "0    English Suites  \n",
       "1    English Suites  \n",
       "2    English Suites  \n",
       "3    English Suites  \n",
       "4    English Suites  \n",
       "..              ...  \n",
       "691            mscx  \n",
       "693            mscx  \n",
       "694            mscx  \n",
       "695            mscx  \n",
       "696            mscx  \n",
       "\n",
       "[634 rows x 6 columns]"
      ]
     },
     "execution_count": 2,
     "metadata": {},
     "output_type": "execute_result"
    }
   ],
   "source": [
    "files = corpus_reading.read_dump('data/selected_files.tsv', index_col=0)\n",
    "files"
   ]
  },
  {
   "cell_type": "code",
   "execution_count": 3,
   "metadata": {},
   "outputs": [
    {
     "data": {
      "text/html": [
       "<div>\n",
       "<style scoped>\n",
       "    .dataframe tbody tr th:only-of-type {\n",
       "        vertical-align: middle;\n",
       "    }\n",
       "\n",
       "    .dataframe tbody tr th {\n",
       "        vertical-align: top;\n",
       "    }\n",
       "\n",
       "    .dataframe thead th {\n",
       "        text-align: right;\n",
       "    }\n",
       "</style>\n",
       "<table border=\"1\" class=\"dataframe\">\n",
       "  <thead>\n",
       "    <tr style=\"text-align: right;\">\n",
       "      <th></th>\n",
       "      <th></th>\n",
       "      <th>mc</th>\n",
       "      <th>mn</th>\n",
       "      <th>onset</th>\n",
       "      <th>chords</th>\n",
       "      <th>chord</th>\n",
       "      <th>key</th>\n",
       "      <th>pedal</th>\n",
       "      <th>numeral</th>\n",
       "      <th>form</th>\n",
       "      <th>figbass</th>\n",
       "      <th>...</th>\n",
       "      <th>relativeroot</th>\n",
       "      <th>phraseend</th>\n",
       "      <th>globalkey</th>\n",
       "      <th>bass_step</th>\n",
       "      <th>mc_next</th>\n",
       "      <th>onset_next</th>\n",
       "      <th>next_chord_id</th>\n",
       "      <th>chord_length</th>\n",
       "      <th>globalminor</th>\n",
       "      <th>localminor</th>\n",
       "    </tr>\n",
       "    <tr>\n",
       "      <th>id</th>\n",
       "      <th>chord_id</th>\n",
       "      <th></th>\n",
       "      <th></th>\n",
       "      <th></th>\n",
       "      <th></th>\n",
       "      <th></th>\n",
       "      <th></th>\n",
       "      <th></th>\n",
       "      <th></th>\n",
       "      <th></th>\n",
       "      <th></th>\n",
       "      <th></th>\n",
       "      <th></th>\n",
       "      <th></th>\n",
       "      <th></th>\n",
       "      <th></th>\n",
       "      <th></th>\n",
       "      <th></th>\n",
       "      <th></th>\n",
       "      <th></th>\n",
       "      <th></th>\n",
       "      <th></th>\n",
       "    </tr>\n",
       "  </thead>\n",
       "  <tbody>\n",
       "    <tr>\n",
       "      <th rowspan=\"5\" valign=\"top\">0</th>\n",
       "      <th>0</th>\n",
       "      <td>0</td>\n",
       "      <td>1</td>\n",
       "      <td>0</td>\n",
       "      <td>.A.I</td>\n",
       "      <td>I</td>\n",
       "      <td>I</td>\n",
       "      <td>&lt;NA&gt;</td>\n",
       "      <td>I</td>\n",
       "      <td>&lt;NA&gt;</td>\n",
       "      <td>&lt;NA&gt;</td>\n",
       "      <td>...</td>\n",
       "      <td>&lt;NA&gt;</td>\n",
       "      <td>&lt;NA&gt;</td>\n",
       "      <td>A</td>\n",
       "      <td>1</td>\n",
       "      <td>0</td>\n",
       "      <td>3/8</td>\n",
       "      <td>1</td>\n",
       "      <td>3/8</td>\n",
       "      <td>False</td>\n",
       "      <td>False</td>\n",
       "    </tr>\n",
       "    <tr>\n",
       "      <th>1</th>\n",
       "      <td>0</td>\n",
       "      <td>1</td>\n",
       "      <td>3/8</td>\n",
       "      <td>V7</td>\n",
       "      <td>V7</td>\n",
       "      <td>I</td>\n",
       "      <td>&lt;NA&gt;</td>\n",
       "      <td>V</td>\n",
       "      <td>&lt;NA&gt;</td>\n",
       "      <td>7</td>\n",
       "      <td>...</td>\n",
       "      <td>&lt;NA&gt;</td>\n",
       "      <td>&lt;NA&gt;</td>\n",
       "      <td>A</td>\n",
       "      <td>5</td>\n",
       "      <td>0</td>\n",
       "      <td>3/4</td>\n",
       "      <td>2</td>\n",
       "      <td>3/8</td>\n",
       "      <td>False</td>\n",
       "      <td>False</td>\n",
       "    </tr>\n",
       "    <tr>\n",
       "      <th>2</th>\n",
       "      <td>0</td>\n",
       "      <td>1</td>\n",
       "      <td>3/4</td>\n",
       "      <td>I</td>\n",
       "      <td>I</td>\n",
       "      <td>I</td>\n",
       "      <td>&lt;NA&gt;</td>\n",
       "      <td>I</td>\n",
       "      <td>&lt;NA&gt;</td>\n",
       "      <td>&lt;NA&gt;</td>\n",
       "      <td>...</td>\n",
       "      <td>&lt;NA&gt;</td>\n",
       "      <td>&lt;NA&gt;</td>\n",
       "      <td>A</td>\n",
       "      <td>1</td>\n",
       "      <td>0</td>\n",
       "      <td>9/8</td>\n",
       "      <td>3</td>\n",
       "      <td>3/8</td>\n",
       "      <td>False</td>\n",
       "      <td>False</td>\n",
       "    </tr>\n",
       "    <tr>\n",
       "      <th>3</th>\n",
       "      <td>0</td>\n",
       "      <td>1</td>\n",
       "      <td>9/8</td>\n",
       "      <td>V7</td>\n",
       "      <td>V7</td>\n",
       "      <td>I</td>\n",
       "      <td>&lt;NA&gt;</td>\n",
       "      <td>V</td>\n",
       "      <td>&lt;NA&gt;</td>\n",
       "      <td>7</td>\n",
       "      <td>...</td>\n",
       "      <td>&lt;NA&gt;</td>\n",
       "      <td>&lt;NA&gt;</td>\n",
       "      <td>A</td>\n",
       "      <td>5</td>\n",
       "      <td>1</td>\n",
       "      <td>0</td>\n",
       "      <td>4</td>\n",
       "      <td>3/8</td>\n",
       "      <td>False</td>\n",
       "      <td>False</td>\n",
       "    </tr>\n",
       "    <tr>\n",
       "      <th>4</th>\n",
       "      <td>1</td>\n",
       "      <td>2</td>\n",
       "      <td>0</td>\n",
       "      <td>I</td>\n",
       "      <td>I</td>\n",
       "      <td>I</td>\n",
       "      <td>&lt;NA&gt;</td>\n",
       "      <td>I</td>\n",
       "      <td>&lt;NA&gt;</td>\n",
       "      <td>&lt;NA&gt;</td>\n",
       "      <td>...</td>\n",
       "      <td>&lt;NA&gt;</td>\n",
       "      <td>&lt;NA&gt;</td>\n",
       "      <td>A</td>\n",
       "      <td>1</td>\n",
       "      <td>1</td>\n",
       "      <td>3/8</td>\n",
       "      <td>5</td>\n",
       "      <td>3/8</td>\n",
       "      <td>False</td>\n",
       "      <td>False</td>\n",
       "    </tr>\n",
       "    <tr>\n",
       "      <th>...</th>\n",
       "      <th>...</th>\n",
       "      <td>...</td>\n",
       "      <td>...</td>\n",
       "      <td>...</td>\n",
       "      <td>...</td>\n",
       "      <td>...</td>\n",
       "      <td>...</td>\n",
       "      <td>...</td>\n",
       "      <td>...</td>\n",
       "      <td>...</td>\n",
       "      <td>...</td>\n",
       "      <td>...</td>\n",
       "      <td>...</td>\n",
       "      <td>...</td>\n",
       "      <td>...</td>\n",
       "      <td>...</td>\n",
       "      <td>...</td>\n",
       "      <td>...</td>\n",
       "      <td>...</td>\n",
       "      <td>...</td>\n",
       "      <td>...</td>\n",
       "      <td>...</td>\n",
       "    </tr>\n",
       "    <tr>\n",
       "      <th rowspan=\"5\" valign=\"top\">696</th>\n",
       "      <th>160058</th>\n",
       "      <td>280</td>\n",
       "      <td>281</td>\n",
       "      <td>1/2</td>\n",
       "      <td>I</td>\n",
       "      <td>I</td>\n",
       "      <td>I</td>\n",
       "      <td>&lt;NA&gt;</td>\n",
       "      <td>I</td>\n",
       "      <td>&lt;NA&gt;</td>\n",
       "      <td>&lt;NA&gt;</td>\n",
       "      <td>...</td>\n",
       "      <td>&lt;NA&gt;</td>\n",
       "      <td>&lt;NA&gt;</td>\n",
       "      <td>f</td>\n",
       "      <td>1</td>\n",
       "      <td>280</td>\n",
       "      <td>3/4</td>\n",
       "      <td>160059</td>\n",
       "      <td>1/4</td>\n",
       "      <td>True</td>\n",
       "      <td>False</td>\n",
       "    </tr>\n",
       "    <tr>\n",
       "      <th>160059</th>\n",
       "      <td>280</td>\n",
       "      <td>281</td>\n",
       "      <td>3/4</td>\n",
       "      <td>I6</td>\n",
       "      <td>I6</td>\n",
       "      <td>I</td>\n",
       "      <td>&lt;NA&gt;</td>\n",
       "      <td>I</td>\n",
       "      <td>&lt;NA&gt;</td>\n",
       "      <td>6</td>\n",
       "      <td>...</td>\n",
       "      <td>&lt;NA&gt;</td>\n",
       "      <td>&lt;NA&gt;</td>\n",
       "      <td>f</td>\n",
       "      <td>3</td>\n",
       "      <td>281</td>\n",
       "      <td>0</td>\n",
       "      <td>160060</td>\n",
       "      <td>1/4</td>\n",
       "      <td>True</td>\n",
       "      <td>False</td>\n",
       "    </tr>\n",
       "    <tr>\n",
       "      <th>160060</th>\n",
       "      <td>281</td>\n",
       "      <td>282</td>\n",
       "      <td>0</td>\n",
       "      <td>V(64)</td>\n",
       "      <td>V(64)</td>\n",
       "      <td>I</td>\n",
       "      <td>&lt;NA&gt;</td>\n",
       "      <td>V</td>\n",
       "      <td>&lt;NA&gt;</td>\n",
       "      <td>&lt;NA&gt;</td>\n",
       "      <td>...</td>\n",
       "      <td>&lt;NA&gt;</td>\n",
       "      <td>&lt;NA&gt;</td>\n",
       "      <td>f</td>\n",
       "      <td>5</td>\n",
       "      <td>281</td>\n",
       "      <td>1/2</td>\n",
       "      <td>160061</td>\n",
       "      <td>1/2</td>\n",
       "      <td>True</td>\n",
       "      <td>False</td>\n",
       "    </tr>\n",
       "    <tr>\n",
       "      <th>160061</th>\n",
       "      <td>281</td>\n",
       "      <td>282</td>\n",
       "      <td>1/2</td>\n",
       "      <td>V7</td>\n",
       "      <td>V7</td>\n",
       "      <td>I</td>\n",
       "      <td>&lt;NA&gt;</td>\n",
       "      <td>V</td>\n",
       "      <td>&lt;NA&gt;</td>\n",
       "      <td>7</td>\n",
       "      <td>...</td>\n",
       "      <td>&lt;NA&gt;</td>\n",
       "      <td>&lt;NA&gt;</td>\n",
       "      <td>f</td>\n",
       "      <td>5</td>\n",
       "      <td>282</td>\n",
       "      <td>0</td>\n",
       "      <td>160062</td>\n",
       "      <td>1/2</td>\n",
       "      <td>True</td>\n",
       "      <td>False</td>\n",
       "    </tr>\n",
       "    <tr>\n",
       "      <th>160062</th>\n",
       "      <td>282</td>\n",
       "      <td>283</td>\n",
       "      <td>0</td>\n",
       "      <td>I\\\\</td>\n",
       "      <td>I</td>\n",
       "      <td>I</td>\n",
       "      <td>&lt;NA&gt;</td>\n",
       "      <td>I</td>\n",
       "      <td>&lt;NA&gt;</td>\n",
       "      <td>&lt;NA&gt;</td>\n",
       "      <td>...</td>\n",
       "      <td>&lt;NA&gt;</td>\n",
       "      <td>\\\\</td>\n",
       "      <td>f</td>\n",
       "      <td>1</td>\n",
       "      <td>283</td>\n",
       "      <td>0</td>\n",
       "      <td>&lt;NA&gt;</td>\n",
       "      <td>1</td>\n",
       "      <td>True</td>\n",
       "      <td>False</td>\n",
       "    </tr>\n",
       "  </tbody>\n",
       "</table>\n",
       "<p>142511 rows × 21 columns</p>\n",
       "</div>"
      ],
      "text/plain": [
       "               mc   mn onset chords  chord key pedal numeral  form figbass  \\\n",
       "id  chord_id                                                                 \n",
       "0   0           0    1     0   .A.I      I   I  <NA>       I  <NA>    <NA>   \n",
       "    1           0    1   3/8     V7     V7   I  <NA>       V  <NA>       7   \n",
       "    2           0    1   3/4      I      I   I  <NA>       I  <NA>    <NA>   \n",
       "    3           0    1   9/8     V7     V7   I  <NA>       V  <NA>       7   \n",
       "    4           1    2     0      I      I   I  <NA>       I  <NA>    <NA>   \n",
       "...           ...  ...   ...    ...    ...  ..   ...     ...   ...     ...   \n",
       "696 160058    280  281   1/2      I      I   I  <NA>       I  <NA>    <NA>   \n",
       "    160059    280  281   3/4     I6     I6   I  <NA>       I  <NA>       6   \n",
       "    160060    281  282     0  V(64)  V(64)   I  <NA>       V  <NA>    <NA>   \n",
       "    160061    281  282   1/2     V7     V7   I  <NA>       V  <NA>       7   \n",
       "    160062    282  283     0    I\\\\      I   I  <NA>       I  <NA>    <NA>   \n",
       "\n",
       "              ... relativeroot phraseend globalkey bass_step mc_next  \\\n",
       "id  chord_id  ...                                                      \n",
       "0   0         ...         <NA>      <NA>         A         1       0   \n",
       "    1         ...         <NA>      <NA>         A         5       0   \n",
       "    2         ...         <NA>      <NA>         A         1       0   \n",
       "    3         ...         <NA>      <NA>         A         5       1   \n",
       "    4         ...         <NA>      <NA>         A         1       1   \n",
       "...           ...          ...       ...       ...       ...     ...   \n",
       "696 160058    ...         <NA>      <NA>         f         1     280   \n",
       "    160059    ...         <NA>      <NA>         f         3     281   \n",
       "    160060    ...         <NA>      <NA>         f         5     281   \n",
       "    160061    ...         <NA>      <NA>         f         5     282   \n",
       "    160062    ...         <NA>        \\\\         f         1     283   \n",
       "\n",
       "              onset_next next_chord_id  chord_length globalminor  localminor  \n",
       "id  chord_id                                                                  \n",
       "0   0                3/8             1           3/8       False       False  \n",
       "    1                3/4             2           3/8       False       False  \n",
       "    2                9/8             3           3/8       False       False  \n",
       "    3                  0             4           3/8       False       False  \n",
       "    4                3/8             5           3/8       False       False  \n",
       "...                  ...           ...           ...         ...         ...  \n",
       "696 160058           3/4        160059           1/4        True       False  \n",
       "    160059             0        160060           1/4        True       False  \n",
       "    160060           1/2        160061           1/2        True       False  \n",
       "    160061             0        160062           1/2        True       False  \n",
       "    160062             0          <NA>             1        True       False  \n",
       "\n",
       "[142511 rows x 21 columns]"
      ]
     },
     "execution_count": 3,
     "metadata": {},
     "output_type": "execute_result"
    }
   ],
   "source": [
    "chords = corpus_reading.read_dump('data/chord_list.tsv')\n",
    "chords"
   ]
  },
  {
   "cell_type": "code",
   "execution_count": 4,
   "metadata": {},
   "outputs": [
    {
     "name": "stderr",
     "output_type": "stream",
     "text": [
      "/home/apmcleod/anaconda3/envs/harmony/lib/python3.8/site-packages/numpy/lib/arraysetops.py:569: FutureWarning: elementwise comparison failed; returning scalar instead, but in the future will perform elementwise comparison\n",
      "  mask |= (ar1 == a)\n"
     ]
    },
    {
     "data": {
      "text/html": [
       "<div>\n",
       "<style scoped>\n",
       "    .dataframe tbody tr th:only-of-type {\n",
       "        vertical-align: middle;\n",
       "    }\n",
       "\n",
       "    .dataframe tbody tr th {\n",
       "        vertical-align: top;\n",
       "    }\n",
       "\n",
       "    .dataframe thead th {\n",
       "        text-align: right;\n",
       "    }\n",
       "</style>\n",
       "<table border=\"1\" class=\"dataframe\">\n",
       "  <thead>\n",
       "    <tr style=\"text-align: right;\">\n",
       "      <th></th>\n",
       "      <th></th>\n",
       "      <th></th>\n",
       "      <th>mc</th>\n",
       "      <th>mn</th>\n",
       "      <th>onset</th>\n",
       "      <th>duration</th>\n",
       "      <th>gracenote</th>\n",
       "      <th>nominal_duration</th>\n",
       "      <th>scalar</th>\n",
       "      <th>tied</th>\n",
       "      <th>tpc</th>\n",
       "      <th>midi</th>\n",
       "      <th>staff</th>\n",
       "      <th>voice</th>\n",
       "      <th>volta</th>\n",
       "      <th>octaves</th>\n",
       "      <th>note_names</th>\n",
       "      <th>keysig</th>\n",
       "      <th>timesig</th>\n",
       "      <th>beats</th>\n",
       "    </tr>\n",
       "    <tr>\n",
       "      <th>id</th>\n",
       "      <th>section</th>\n",
       "      <th>ix</th>\n",
       "      <th></th>\n",
       "      <th></th>\n",
       "      <th></th>\n",
       "      <th></th>\n",
       "      <th></th>\n",
       "      <th></th>\n",
       "      <th></th>\n",
       "      <th></th>\n",
       "      <th></th>\n",
       "      <th></th>\n",
       "      <th></th>\n",
       "      <th></th>\n",
       "      <th></th>\n",
       "      <th></th>\n",
       "      <th></th>\n",
       "      <th></th>\n",
       "      <th></th>\n",
       "      <th></th>\n",
       "    </tr>\n",
       "  </thead>\n",
       "  <tbody>\n",
       "    <tr>\n",
       "      <th rowspan=\"5\" valign=\"top\">0</th>\n",
       "      <th rowspan=\"5\" valign=\"top\">0</th>\n",
       "      <th>0</th>\n",
       "      <td>0</td>\n",
       "      <td>1</td>\n",
       "      <td>0</td>\n",
       "      <td>1/16</td>\n",
       "      <td>&lt;NA&gt;</td>\n",
       "      <td>1/16</td>\n",
       "      <td>1</td>\n",
       "      <td>&lt;NA&gt;</td>\n",
       "      <td>3</td>\n",
       "      <td>45</td>\n",
       "      <td>2</td>\n",
       "      <td>2</td>\n",
       "      <td>&lt;NA&gt;</td>\n",
       "      <td>2</td>\n",
       "      <td>A</td>\n",
       "      <td>3</td>\n",
       "      <td>12/8</td>\n",
       "      <td>1</td>\n",
       "    </tr>\n",
       "    <tr>\n",
       "      <th>1</th>\n",
       "      <td>0</td>\n",
       "      <td>1</td>\n",
       "      <td>1/16</td>\n",
       "      <td>1/16</td>\n",
       "      <td>&lt;NA&gt;</td>\n",
       "      <td>1/16</td>\n",
       "      <td>1</td>\n",
       "      <td>&lt;NA&gt;</td>\n",
       "      <td>7</td>\n",
       "      <td>49</td>\n",
       "      <td>2</td>\n",
       "      <td>2</td>\n",
       "      <td>&lt;NA&gt;</td>\n",
       "      <td>3</td>\n",
       "      <td>C#</td>\n",
       "      <td>3</td>\n",
       "      <td>12/8</td>\n",
       "      <td>1.1/6</td>\n",
       "    </tr>\n",
       "    <tr>\n",
       "      <th>2</th>\n",
       "      <td>0</td>\n",
       "      <td>1</td>\n",
       "      <td>1/8</td>\n",
       "      <td>1/16</td>\n",
       "      <td>&lt;NA&gt;</td>\n",
       "      <td>1/16</td>\n",
       "      <td>1</td>\n",
       "      <td>&lt;NA&gt;</td>\n",
       "      <td>4</td>\n",
       "      <td>52</td>\n",
       "      <td>2</td>\n",
       "      <td>2</td>\n",
       "      <td>&lt;NA&gt;</td>\n",
       "      <td>3</td>\n",
       "      <td>E</td>\n",
       "      <td>3</td>\n",
       "      <td>12/8</td>\n",
       "      <td>1.1/3</td>\n",
       "    </tr>\n",
       "    <tr>\n",
       "      <th>3</th>\n",
       "      <td>0</td>\n",
       "      <td>1</td>\n",
       "      <td>3/16</td>\n",
       "      <td>1/16</td>\n",
       "      <td>&lt;NA&gt;</td>\n",
       "      <td>1/16</td>\n",
       "      <td>1</td>\n",
       "      <td>&lt;NA&gt;</td>\n",
       "      <td>3</td>\n",
       "      <td>57</td>\n",
       "      <td>2</td>\n",
       "      <td>1</td>\n",
       "      <td>&lt;NA&gt;</td>\n",
       "      <td>3</td>\n",
       "      <td>A</td>\n",
       "      <td>3</td>\n",
       "      <td>12/8</td>\n",
       "      <td>1.1/2</td>\n",
       "    </tr>\n",
       "    <tr>\n",
       "      <th>4</th>\n",
       "      <td>0</td>\n",
       "      <td>1</td>\n",
       "      <td>1/4</td>\n",
       "      <td>1/16</td>\n",
       "      <td>&lt;NA&gt;</td>\n",
       "      <td>1/16</td>\n",
       "      <td>1</td>\n",
       "      <td>&lt;NA&gt;</td>\n",
       "      <td>8</td>\n",
       "      <td>56</td>\n",
       "      <td>2</td>\n",
       "      <td>1</td>\n",
       "      <td>&lt;NA&gt;</td>\n",
       "      <td>3</td>\n",
       "      <td>G#</td>\n",
       "      <td>3</td>\n",
       "      <td>12/8</td>\n",
       "      <td>1.2/3</td>\n",
       "    </tr>\n",
       "    <tr>\n",
       "      <th>...</th>\n",
       "      <th>...</th>\n",
       "      <th>...</th>\n",
       "      <td>...</td>\n",
       "      <td>...</td>\n",
       "      <td>...</td>\n",
       "      <td>...</td>\n",
       "      <td>...</td>\n",
       "      <td>...</td>\n",
       "      <td>...</td>\n",
       "      <td>...</td>\n",
       "      <td>...</td>\n",
       "      <td>...</td>\n",
       "      <td>...</td>\n",
       "      <td>...</td>\n",
       "      <td>...</td>\n",
       "      <td>...</td>\n",
       "      <td>...</td>\n",
       "      <td>...</td>\n",
       "      <td>...</td>\n",
       "      <td>...</td>\n",
       "    </tr>\n",
       "    <tr>\n",
       "      <th rowspan=\"5\" valign=\"top\">696</th>\n",
       "      <th rowspan=\"5\" valign=\"top\">13</th>\n",
       "      <th>309</th>\n",
       "      <td>282</td>\n",
       "      <td>283</td>\n",
       "      <td>0</td>\n",
       "      <td>1/4</td>\n",
       "      <td>&lt;NA&gt;</td>\n",
       "      <td>1/4</td>\n",
       "      <td>1</td>\n",
       "      <td>&lt;NA&gt;</td>\n",
       "      <td>-1</td>\n",
       "      <td>53</td>\n",
       "      <td>3</td>\n",
       "      <td>1</td>\n",
       "      <td>&lt;NA&gt;</td>\n",
       "      <td>3</td>\n",
       "      <td>F</td>\n",
       "      <td>-1</td>\n",
       "      <td>4/4</td>\n",
       "      <td>1</td>\n",
       "    </tr>\n",
       "    <tr>\n",
       "      <th>310</th>\n",
       "      <td>282</td>\n",
       "      <td>283</td>\n",
       "      <td>0</td>\n",
       "      <td>1/4</td>\n",
       "      <td>&lt;NA&gt;</td>\n",
       "      <td>1/4</td>\n",
       "      <td>1</td>\n",
       "      <td>&lt;NA&gt;</td>\n",
       "      <td>3</td>\n",
       "      <td>69</td>\n",
       "      <td>1</td>\n",
       "      <td>1</td>\n",
       "      <td>&lt;NA&gt;</td>\n",
       "      <td>4</td>\n",
       "      <td>A</td>\n",
       "      <td>-1</td>\n",
       "      <td>4/4</td>\n",
       "      <td>1</td>\n",
       "    </tr>\n",
       "    <tr>\n",
       "      <th>311</th>\n",
       "      <td>282</td>\n",
       "      <td>283</td>\n",
       "      <td>0</td>\n",
       "      <td>1/4</td>\n",
       "      <td>&lt;NA&gt;</td>\n",
       "      <td>1/4</td>\n",
       "      <td>1</td>\n",
       "      <td>&lt;NA&gt;</td>\n",
       "      <td>3</td>\n",
       "      <td>69</td>\n",
       "      <td>2</td>\n",
       "      <td>1</td>\n",
       "      <td>&lt;NA&gt;</td>\n",
       "      <td>4</td>\n",
       "      <td>A</td>\n",
       "      <td>-1</td>\n",
       "      <td>4/4</td>\n",
       "      <td>1</td>\n",
       "    </tr>\n",
       "    <tr>\n",
       "      <th>312</th>\n",
       "      <td>282</td>\n",
       "      <td>283</td>\n",
       "      <td>0</td>\n",
       "      <td>1/4</td>\n",
       "      <td>&lt;NA&gt;</td>\n",
       "      <td>1/4</td>\n",
       "      <td>1</td>\n",
       "      <td>&lt;NA&gt;</td>\n",
       "      <td>-1</td>\n",
       "      <td>77</td>\n",
       "      <td>2</td>\n",
       "      <td>1</td>\n",
       "      <td>&lt;NA&gt;</td>\n",
       "      <td>5</td>\n",
       "      <td>F</td>\n",
       "      <td>-1</td>\n",
       "      <td>4/4</td>\n",
       "      <td>1</td>\n",
       "    </tr>\n",
       "    <tr>\n",
       "      <th>313</th>\n",
       "      <td>282</td>\n",
       "      <td>283</td>\n",
       "      <td>0</td>\n",
       "      <td>1/4</td>\n",
       "      <td>&lt;NA&gt;</td>\n",
       "      <td>1/4</td>\n",
       "      <td>1</td>\n",
       "      <td>&lt;NA&gt;</td>\n",
       "      <td>-1</td>\n",
       "      <td>89</td>\n",
       "      <td>1</td>\n",
       "      <td>1</td>\n",
       "      <td>&lt;NA&gt;</td>\n",
       "      <td>6</td>\n",
       "      <td>F</td>\n",
       "      <td>-1</td>\n",
       "      <td>4/4</td>\n",
       "      <td>1</td>\n",
       "    </tr>\n",
       "  </tbody>\n",
       "</table>\n",
       "<p>1079574 rows × 18 columns</p>\n",
       "</div>"
      ],
      "text/plain": [
       "                  mc   mn onset duration gracenote nominal_duration scalar  \\\n",
       "id  section ix                                                               \n",
       "0   0       0      0    1     0     1/16      <NA>             1/16      1   \n",
       "            1      0    1  1/16     1/16      <NA>             1/16      1   \n",
       "            2      0    1   1/8     1/16      <NA>             1/16      1   \n",
       "            3      0    1  3/16     1/16      <NA>             1/16      1   \n",
       "            4      0    1   1/4     1/16      <NA>             1/16      1   \n",
       "...              ...  ...   ...      ...       ...              ...    ...   \n",
       "696 13      309  282  283     0      1/4      <NA>              1/4      1   \n",
       "            310  282  283     0      1/4      <NA>              1/4      1   \n",
       "            311  282  283     0      1/4      <NA>              1/4      1   \n",
       "            312  282  283     0      1/4      <NA>              1/4      1   \n",
       "            313  282  283     0      1/4      <NA>              1/4      1   \n",
       "\n",
       "                 tied  tpc  midi  staff  voice  volta  octaves note_names  \\\n",
       "id  section ix                                                              \n",
       "0   0       0    <NA>    3    45      2      2   <NA>        2          A   \n",
       "            1    <NA>    7    49      2      2   <NA>        3         C#   \n",
       "            2    <NA>    4    52      2      2   <NA>        3          E   \n",
       "            3    <NA>    3    57      2      1   <NA>        3          A   \n",
       "            4    <NA>    8    56      2      1   <NA>        3         G#   \n",
       "...               ...  ...   ...    ...    ...    ...      ...        ...   \n",
       "696 13      309  <NA>   -1    53      3      1   <NA>        3          F   \n",
       "            310  <NA>    3    69      1      1   <NA>        4          A   \n",
       "            311  <NA>    3    69      2      1   <NA>        4          A   \n",
       "            312  <NA>   -1    77      2      1   <NA>        5          F   \n",
       "            313  <NA>   -1    89      1      1   <NA>        6          F   \n",
       "\n",
       "                 keysig timesig  beats  \n",
       "id  section ix                          \n",
       "0   0       0         3    12/8      1  \n",
       "            1         3    12/8  1.1/6  \n",
       "            2         3    12/8  1.1/3  \n",
       "            3         3    12/8  1.1/2  \n",
       "            4         3    12/8  1.2/3  \n",
       "...                 ...     ...    ...  \n",
       "696 13      309      -1     4/4      1  \n",
       "            310      -1     4/4      1  \n",
       "            311      -1     4/4      1  \n",
       "            312      -1     4/4      1  \n",
       "            313      -1     4/4      1  \n",
       "\n",
       "[1079574 rows x 18 columns]"
      ]
     },
     "execution_count": 4,
     "metadata": {},
     "output_type": "execute_result"
    }
   ],
   "source": [
    "notes = corpus_reading.read_dump('data/note_list.tsv', index_col=[0,1,2])\n",
    "notes"
   ]
  },
  {
   "cell_type": "code",
   "execution_count": 5,
   "metadata": {},
   "outputs": [
    {
     "data": {
      "text/html": [
       "<div>\n",
       "<style scoped>\n",
       "    .dataframe tbody tr th:only-of-type {\n",
       "        vertical-align: middle;\n",
       "    }\n",
       "\n",
       "    .dataframe tbody tr th {\n",
       "        vertical-align: top;\n",
       "    }\n",
       "\n",
       "    .dataframe thead th {\n",
       "        text-align: right;\n",
       "    }\n",
       "</style>\n",
       "<table border=\"1\" class=\"dataframe\">\n",
       "  <thead>\n",
       "    <tr style=\"text-align: right;\">\n",
       "      <th></th>\n",
       "      <th></th>\n",
       "      <th>section</th>\n",
       "      <th>keysig</th>\n",
       "      <th>timesig</th>\n",
       "      <th>duration</th>\n",
       "      <th>act_dur</th>\n",
       "      <th>offset</th>\n",
       "      <th>voices</th>\n",
       "      <th>repeats</th>\n",
       "      <th>volta</th>\n",
       "      <th>barline</th>\n",
       "      <th>numbering_offset</th>\n",
       "      <th>dont_count</th>\n",
       "      <th>marker</th>\n",
       "      <th>mn</th>\n",
       "      <th>next</th>\n",
       "    </tr>\n",
       "    <tr>\n",
       "      <th>id</th>\n",
       "      <th>mc</th>\n",
       "      <th></th>\n",
       "      <th></th>\n",
       "      <th></th>\n",
       "      <th></th>\n",
       "      <th></th>\n",
       "      <th></th>\n",
       "      <th></th>\n",
       "      <th></th>\n",
       "      <th></th>\n",
       "      <th></th>\n",
       "      <th></th>\n",
       "      <th></th>\n",
       "      <th></th>\n",
       "      <th></th>\n",
       "      <th></th>\n",
       "    </tr>\n",
       "  </thead>\n",
       "  <tbody>\n",
       "    <tr>\n",
       "      <th rowspan=\"5\" valign=\"top\">0</th>\n",
       "      <th>0</th>\n",
       "      <td>0</td>\n",
       "      <td>3</td>\n",
       "      <td>12/8</td>\n",
       "      <td>3/2</td>\n",
       "      <td>3/2</td>\n",
       "      <td>0</td>\n",
       "      <td>4</td>\n",
       "      <td>firstMeasure</td>\n",
       "      <td>&lt;NA&gt;</td>\n",
       "      <td>&lt;NA&gt;</td>\n",
       "      <td>&lt;NA&gt;</td>\n",
       "      <td>&lt;NA&gt;</td>\n",
       "      <td>&lt;NA&gt;</td>\n",
       "      <td>1</td>\n",
       "      <td>[1]</td>\n",
       "    </tr>\n",
       "    <tr>\n",
       "      <th>1</th>\n",
       "      <td>0</td>\n",
       "      <td>3</td>\n",
       "      <td>12/8</td>\n",
       "      <td>3/2</td>\n",
       "      <td>3/2</td>\n",
       "      <td>0</td>\n",
       "      <td>5</td>\n",
       "      <td>&lt;NA&gt;</td>\n",
       "      <td>&lt;NA&gt;</td>\n",
       "      <td>&lt;NA&gt;</td>\n",
       "      <td>&lt;NA&gt;</td>\n",
       "      <td>&lt;NA&gt;</td>\n",
       "      <td>&lt;NA&gt;</td>\n",
       "      <td>2</td>\n",
       "      <td>[2]</td>\n",
       "    </tr>\n",
       "    <tr>\n",
       "      <th>2</th>\n",
       "      <td>0</td>\n",
       "      <td>3</td>\n",
       "      <td>12/8</td>\n",
       "      <td>3/2</td>\n",
       "      <td>3/2</td>\n",
       "      <td>0</td>\n",
       "      <td>6</td>\n",
       "      <td>&lt;NA&gt;</td>\n",
       "      <td>&lt;NA&gt;</td>\n",
       "      <td>&lt;NA&gt;</td>\n",
       "      <td>&lt;NA&gt;</td>\n",
       "      <td>&lt;NA&gt;</td>\n",
       "      <td>&lt;NA&gt;</td>\n",
       "      <td>3</td>\n",
       "      <td>[3]</td>\n",
       "    </tr>\n",
       "    <tr>\n",
       "      <th>3</th>\n",
       "      <td>0</td>\n",
       "      <td>3</td>\n",
       "      <td>12/8</td>\n",
       "      <td>3/2</td>\n",
       "      <td>3/2</td>\n",
       "      <td>0</td>\n",
       "      <td>3</td>\n",
       "      <td>&lt;NA&gt;</td>\n",
       "      <td>&lt;NA&gt;</td>\n",
       "      <td>&lt;NA&gt;</td>\n",
       "      <td>&lt;NA&gt;</td>\n",
       "      <td>&lt;NA&gt;</td>\n",
       "      <td>&lt;NA&gt;</td>\n",
       "      <td>4</td>\n",
       "      <td>[4]</td>\n",
       "    </tr>\n",
       "    <tr>\n",
       "      <th>4</th>\n",
       "      <td>0</td>\n",
       "      <td>3</td>\n",
       "      <td>12/8</td>\n",
       "      <td>3/2</td>\n",
       "      <td>3/2</td>\n",
       "      <td>0</td>\n",
       "      <td>4</td>\n",
       "      <td>&lt;NA&gt;</td>\n",
       "      <td>&lt;NA&gt;</td>\n",
       "      <td>&lt;NA&gt;</td>\n",
       "      <td>&lt;NA&gt;</td>\n",
       "      <td>&lt;NA&gt;</td>\n",
       "      <td>&lt;NA&gt;</td>\n",
       "      <td>5</td>\n",
       "      <td>[5]</td>\n",
       "    </tr>\n",
       "    <tr>\n",
       "      <th>...</th>\n",
       "      <th>...</th>\n",
       "      <td>...</td>\n",
       "      <td>...</td>\n",
       "      <td>...</td>\n",
       "      <td>...</td>\n",
       "      <td>...</td>\n",
       "      <td>...</td>\n",
       "      <td>...</td>\n",
       "      <td>...</td>\n",
       "      <td>...</td>\n",
       "      <td>...</td>\n",
       "      <td>...</td>\n",
       "      <td>...</td>\n",
       "      <td>...</td>\n",
       "      <td>...</td>\n",
       "      <td>...</td>\n",
       "    </tr>\n",
       "    <tr>\n",
       "      <th rowspan=\"5\" valign=\"top\">696</th>\n",
       "      <th>278</th>\n",
       "      <td>13</td>\n",
       "      <td>-1</td>\n",
       "      <td>4/4</td>\n",
       "      <td>1</td>\n",
       "      <td>1</td>\n",
       "      <td>0</td>\n",
       "      <td>4</td>\n",
       "      <td>&lt;NA&gt;</td>\n",
       "      <td>&lt;NA&gt;</td>\n",
       "      <td>&lt;NA&gt;</td>\n",
       "      <td>&lt;NA&gt;</td>\n",
       "      <td>&lt;NA&gt;</td>\n",
       "      <td>&lt;NA&gt;</td>\n",
       "      <td>279</td>\n",
       "      <td>[279]</td>\n",
       "    </tr>\n",
       "    <tr>\n",
       "      <th>279</th>\n",
       "      <td>13</td>\n",
       "      <td>-1</td>\n",
       "      <td>4/4</td>\n",
       "      <td>1</td>\n",
       "      <td>1</td>\n",
       "      <td>0</td>\n",
       "      <td>4</td>\n",
       "      <td>&lt;NA&gt;</td>\n",
       "      <td>&lt;NA&gt;</td>\n",
       "      <td>&lt;NA&gt;</td>\n",
       "      <td>&lt;NA&gt;</td>\n",
       "      <td>&lt;NA&gt;</td>\n",
       "      <td>&lt;NA&gt;</td>\n",
       "      <td>280</td>\n",
       "      <td>[280]</td>\n",
       "    </tr>\n",
       "    <tr>\n",
       "      <th>280</th>\n",
       "      <td>13</td>\n",
       "      <td>-1</td>\n",
       "      <td>4/4</td>\n",
       "      <td>1</td>\n",
       "      <td>1</td>\n",
       "      <td>0</td>\n",
       "      <td>4</td>\n",
       "      <td>&lt;NA&gt;</td>\n",
       "      <td>&lt;NA&gt;</td>\n",
       "      <td>&lt;NA&gt;</td>\n",
       "      <td>&lt;NA&gt;</td>\n",
       "      <td>&lt;NA&gt;</td>\n",
       "      <td>&lt;NA&gt;</td>\n",
       "      <td>281</td>\n",
       "      <td>[281]</td>\n",
       "    </tr>\n",
       "    <tr>\n",
       "      <th>281</th>\n",
       "      <td>13</td>\n",
       "      <td>-1</td>\n",
       "      <td>4/4</td>\n",
       "      <td>1</td>\n",
       "      <td>1</td>\n",
       "      <td>0</td>\n",
       "      <td>4</td>\n",
       "      <td>&lt;NA&gt;</td>\n",
       "      <td>&lt;NA&gt;</td>\n",
       "      <td>&lt;NA&gt;</td>\n",
       "      <td>&lt;NA&gt;</td>\n",
       "      <td>&lt;NA&gt;</td>\n",
       "      <td>&lt;NA&gt;</td>\n",
       "      <td>282</td>\n",
       "      <td>[282]</td>\n",
       "    </tr>\n",
       "    <tr>\n",
       "      <th>282</th>\n",
       "      <td>13</td>\n",
       "      <td>-1</td>\n",
       "      <td>4/4</td>\n",
       "      <td>1</td>\n",
       "      <td>1</td>\n",
       "      <td>0</td>\n",
       "      <td>4</td>\n",
       "      <td>lastMeasure</td>\n",
       "      <td>&lt;NA&gt;</td>\n",
       "      <td>end</td>\n",
       "      <td>&lt;NA&gt;</td>\n",
       "      <td>&lt;NA&gt;</td>\n",
       "      <td>&lt;NA&gt;</td>\n",
       "      <td>283</td>\n",
       "      <td>[]</td>\n",
       "    </tr>\n",
       "  </tbody>\n",
       "</table>\n",
       "<p>75318 rows × 15 columns</p>\n",
       "</div>"
      ],
      "text/plain": [
       "         section  keysig timesig duration act_dur offset  voices  \\\n",
       "id  mc                                                             \n",
       "0   0          0       3    12/8      3/2     3/2      0       4   \n",
       "    1          0       3    12/8      3/2     3/2      0       5   \n",
       "    2          0       3    12/8      3/2     3/2      0       6   \n",
       "    3          0       3    12/8      3/2     3/2      0       3   \n",
       "    4          0       3    12/8      3/2     3/2      0       4   \n",
       "...          ...     ...     ...      ...     ...    ...     ...   \n",
       "696 278       13      -1     4/4        1       1      0       4   \n",
       "    279       13      -1     4/4        1       1      0       4   \n",
       "    280       13      -1     4/4        1       1      0       4   \n",
       "    281       13      -1     4/4        1       1      0       4   \n",
       "    282       13      -1     4/4        1       1      0       4   \n",
       "\n",
       "              repeats  volta barline  numbering_offset  dont_count marker  \\\n",
       "id  mc                                                                      \n",
       "0   0    firstMeasure   <NA>    <NA>              <NA>        <NA>   <NA>   \n",
       "    1            <NA>   <NA>    <NA>              <NA>        <NA>   <NA>   \n",
       "    2            <NA>   <NA>    <NA>              <NA>        <NA>   <NA>   \n",
       "    3            <NA>   <NA>    <NA>              <NA>        <NA>   <NA>   \n",
       "    4            <NA>   <NA>    <NA>              <NA>        <NA>   <NA>   \n",
       "...               ...    ...     ...               ...         ...    ...   \n",
       "696 278          <NA>   <NA>    <NA>              <NA>        <NA>   <NA>   \n",
       "    279          <NA>   <NA>    <NA>              <NA>        <NA>   <NA>   \n",
       "    280          <NA>   <NA>    <NA>              <NA>        <NA>   <NA>   \n",
       "    281          <NA>   <NA>    <NA>              <NA>        <NA>   <NA>   \n",
       "    282   lastMeasure   <NA>     end              <NA>        <NA>   <NA>   \n",
       "\n",
       "          mn   next  \n",
       "id  mc               \n",
       "0   0      1    [1]  \n",
       "    1      2    [2]  \n",
       "    2      3    [3]  \n",
       "    3      4    [4]  \n",
       "    4      5    [5]  \n",
       "...      ...    ...  \n",
       "696 278  279  [279]  \n",
       "    279  280  [280]  \n",
       "    280  281  [281]  \n",
       "    281  282  [282]  \n",
       "    282  283     []  \n",
       "\n",
       "[75318 rows x 15 columns]"
      ]
     },
     "execution_count": 5,
     "metadata": {},
     "output_type": "execute_result"
    }
   ],
   "source": [
    "measures = corpus_reading.read_dump('data/measure_list.tsv')\n",
    "measures"
   ]
  },
  {
   "cell_type": "code",
   "execution_count": 6,
   "metadata": {},
   "outputs": [],
   "source": [
    "def get_block(note_list, start, end, cut_durations=False, staff=None, merge_ties=True):\n",
    "    \"\"\" Whereas get_slice() gets sounding notes at a point, get_block() retrieves\n",
    "    sounding notes within a range.\n",
    "    The function adds the column `overlapping` whose values follow the same logic as `tied`:\n",
    "        NaN for events that lie entirely within the block.\n",
    "        -1  for events crossing `start` and ending within the block.\n",
    "        1   for events crossing `end`.\n",
    "        0   for events that start before and end after the block.\n",
    "    Parameters\n",
    "    ----------\n",
    "    note_list : :obj:`pandas.DataFrame`\n",
    "        Note list from which to retrieve the block.\n",
    "    start, end : :obj:`tuple` of (:obj:int, numerical)\n",
    "        Pass (mc, onset) tuples. `end` is exclusive\n",
    "    cut_durations : :obj:`bool`, optional\n",
    "        Set to True if the original note durations should be cut at the block boundaries.\n",
    "    staff : :obj:`int`, optional\n",
    "        Return block from this staff only.\n",
    "    merge_ties : :obj:`bool`, optional\n",
    "        By default, tied notes are merged so that they do not appear as two different onsets.\n",
    "    \"\"\"\n",
    "    a_mc, a_onset = start\n",
    "    b_mc, b_onset = end\n",
    "    a_mc, b_mc = int(a_mc), int(b_mc)\n",
    "    assert a_mc <= b_mc, f\"Start MC ({a_mc}) needs to be at most end MC ({b_mc}).\"\n",
    "    a_onset, b_onset = frac(a_onset), frac(b_onset)\n",
    "    if a_mc == b_mc:\n",
    "        assert a_onset <= b_onset, \"Start onset needs to be at most end onset.\"\n",
    "\n",
    "    res = note_list[(note_list.mc >= a_mc) & (note_list.mc <= b_mc)]\n",
    "\n",
    "    if staff is not None:\n",
    "        res = res[res.staff == staff]\n",
    "\n",
    "    in_a = (res.mc == a_mc)\n",
    "    in_b = (res.mc == b_mc)\n",
    "    endpoint = res.onset + res.duration\n",
    "    crossing_left = in_a & (res.onset < a_onset) & (a_onset < endpoint)\n",
    "    on_onset = in_a & (res.onset == a_onset)\n",
    "    crossing_right = in_b & (endpoint > b_onset)\n",
    "\n",
    "    if a_mc == b_mc:\n",
    "        in_between = in_a & (res.onset >= a_onset) & (res.onset < b_onset)\n",
    "    else:\n",
    "        onset_in_a = in_a & (res.onset >= a_onset)\n",
    "        onset_in_b = in_b & (res.onset < b_onset)\n",
    "        in_between = onset_in_a | onset_in_b\n",
    "    if a_mc + 1 < b_mc:\n",
    "        in_between = in_between | ((res.mc > a_mc) & (res.mc < b_mc))\n",
    "\n",
    "\n",
    "    res = res[crossing_left | in_between].copy()\n",
    "    res['overlapping'] = pd.Series([pd.NA]*len(res.index), index=res.index, dtype='Int64')\n",
    "\n",
    "    start_tie = lambda S: S.fillna(1).replace({-1: 0, 0: 0})\n",
    "    end_tie   = lambda S: S.fillna(-1).replace({0: 0, 1: 0})\n",
    "\n",
    "    if crossing_left.any():\n",
    "        res.loc[crossing_left, 'overlapping'] = end_tie(res.loc[crossing_left, 'overlapping'])\n",
    "\n",
    "    if crossing_right.any():\n",
    "        res.loc[crossing_right, 'overlapping'] = start_tie(res.loc[crossing_right, 'overlapping'])\n",
    "\n",
    "    if res.tied.notna().any():\n",
    "        tied_from_left = on_onset & res.tied.isin([-1, 0])\n",
    "        if tied_from_left.any():\n",
    "            res.loc[tied_from_left, 'overlapping'] = end_tie(res.loc[tied_from_left, 'overlapping'])\n",
    "        tied_to_right = in_b & (endpoint == b_onset) & res.tied.isin([0, 1])\n",
    "        if tied_to_right.any():\n",
    "            res.loc[tied_to_right, 'overlapping'] = start_tie(res.loc[tied_to_right, 'overlapping'])\n",
    "\n",
    "\n",
    "    if cut_durations:\n",
    "        if crossing_left.any():\n",
    "            res.loc[crossing_left, 'duration'] = res.loc[crossing_left, 'duration'] - a_onset + res.loc[crossing_left, 'onset']\n",
    "            res.loc[crossing_left, ['mc', 'onset']] = [a_mc, a_onset]\n",
    "        if crossing_right.any():\n",
    "            res.loc[crossing_right, 'duration'] = b_onset - res.loc[crossing_right, 'onset']\n",
    "\n",
    "    print(type(res.tied.loc[0]))\n",
    "    if merge_ties & res.tied.any():\n",
    "        merged, changes = merge_tied_notes(res, return_changed=True)\n",
    "        if len(changes) > 0:\n",
    "            new = [ix for ix, index_list in changes.items() if len(index_list) > 0 and na_to_dummy(res.at[index_list[-1], 'overlapping'], None) in [0,1] ]\n",
    "            tie_over = merged.index.isin(new)\n",
    "            merged.loc[tie_over, 'overlapping'] = start_tie(merged.loc[tie_over, 'overlapping'])\n",
    "            res = merged\n",
    "\n",
    "    return res\n",
    "    \n",
    "    \n",
    "    \n",
    "def merge_tied_notes(df, return_changed=False):\n",
    "    \"\"\" In a note list, merge tied notes to single events with accumulated durations.\n",
    "    Input dataframe needs columns ['duration', 'tied', 'midi', 'staff', 'voice']\n",
    "    \"\"\"\n",
    "    df = df.copy()\n",
    "    notna = df[df.tied.notna()]\n",
    "    starts = notna[notna.tied == 1]\n",
    "    drops = []\n",
    "\n",
    "    def merge(i, midi, staff, voice):\n",
    "        \"\"\"Looks for the ending(s) and recursively accumulates.\"\"\"\n",
    "        dur = 0\n",
    "        ixs = []\n",
    "        if i == len(notna):\n",
    "            return dur, ixs\n",
    "        else:\n",
    "            end = notna.iloc[i]\n",
    "        while end.tied == 1 or end.midi != midi\\\n",
    "                            or end.staff != staff:\n",
    "                           #or end.voice != voice:  <-- caused errors\n",
    "            i += 1\n",
    "            if i == len(notna):\n",
    "                return dur, ixs\n",
    "            else:\n",
    "                end = notna.iloc[i]\n",
    "        dur += end.duration\n",
    "        ixs.append(end.name)\n",
    "        if end.tied == 0:\n",
    "            d, i = merge(i+1, midi, staff, voice)\n",
    "            dur += d\n",
    "            ixs.extend(i)\n",
    "        return dur, ixs\n",
    "\n",
    "\n",
    "    for ix, r in starts.iterrows():\n",
    "        add_dur, ixs = merge(notna.index.get_loc(ix)+1, r.midi, r.staff, r.voice)\n",
    "        df.loc[ix, 'duration'] += add_dur\n",
    "        drops.append(ixs)\n",
    "    df.drop([e for l in drops for e in l], inplace=True)\n",
    "    if return_changed:\n",
    "        return df, {k: v for k, v in zip(starts.index.to_list(), drops)}\n",
    "    else:\n",
    "        return df\n",
    "        \n",
    "        \n",
    "        \n",
    "def na_to_dummy(val, dummy):\n",
    "    \"\"\" If `val` is pd.NA (or other null value), return `dummy` to make it comparable.\n",
    "    Otherwise, return `val` as is.\n",
    "    \"\"\"\n",
    "    return dummy if pd.isnull(val) else val"
   ]
  },
  {
   "cell_type": "code",
   "execution_count": 7,
   "metadata": {},
   "outputs": [
    {
     "name": "stderr",
     "output_type": "stream",
     "text": [
      "/mnt/c/Users/apmcl/Documents/GitHub/harmonic-inference/corpus_utils.py:63: UserWarning: Repeats have not been unrolled or removed. Calculating offsets as if they were removed (by using only the last 'next' pointer for each measure).\n",
      "  warnings.warn(\"Repeats have not been unrolled or removed. Calculating offsets as if they \"\n"
     ]
    }
   ],
   "source": [
    "import corpus_utils\n",
    "import importlib\n",
    "importlib.reload(corpus_utils)\n",
    "\n",
    "offset_mc, offset_beat = corpus_utils.get_offsets(notes, measures)"
   ]
  },
  {
   "cell_type": "code",
   "execution_count": 37,
   "metadata": {},
   "outputs": [
    {
     "name": "stdout",
     "output_type": "stream",
     "text": [
      "Index 0 / 696\n"
     ]
    },
    {
     "name": "stderr",
     "output_type": "stream",
     "text": [
      "/mnt/c/Users/apmcl/Documents/GitHub/harmonic-inference/corpus_utils.py:128: UserWarning: No matching tied note (MultiIndex([], names=['section', 'ix'])) found for note index (0, 0, 105) and duration 5/4. Returning the first one.\n",
      "  warnings.warn(f\"No matching tied note ({matching_notes.index}) found for note index \"\n",
      "/mnt/c/Users/apmcl/Documents/GitHub/harmonic-inference/corpus_utils.py:128: UserWarning: No matching tied note (MultiIndex([], names=['section', 'ix'])) found for note index (0, 0, 446) and duration 1/2. Returning the first one.\n",
      "  warnings.warn(f\"No matching tied note ({matching_notes.index}) found for note index \"\n"
     ]
    },
    {
     "name": "stdout",
     "output_type": "stream",
     "text": [
      "Index 1 / 696\n"
     ]
    },
    {
     "name": "stderr",
     "output_type": "stream",
     "text": [
      "/mnt/c/Users/apmcl/Documents/GitHub/harmonic-inference/corpus_utils.py:128: UserWarning: No matching tied note (MultiIndex([], names=['section', 'ix'])) found for note index (1, 0, 233) and duration 1/16. Returning the first one.\n",
      "  warnings.warn(f\"No matching tied note ({matching_notes.index}) found for note index \"\n",
      "/mnt/c/Users/apmcl/Documents/GitHub/harmonic-inference/corpus_utils.py:128: UserWarning: No matching tied note (MultiIndex([], names=['section', 'ix'])) found for note index (1, 0, 359) and duration 1/8. Returning the first one.\n",
      "  warnings.warn(f\"No matching tied note ({matching_notes.index}) found for note index \"\n"
     ]
    },
    {
     "name": "stdout",
     "output_type": "stream",
     "text": [
      "Index 2 / 696\n",
      "Index 3 / 696\n",
      "Index 4 / 696\n"
     ]
    },
    {
     "name": "stderr",
     "output_type": "stream",
     "text": [
      "/mnt/c/Users/apmcl/Documents/GitHub/harmonic-inference/corpus_utils.py:134: UserWarning: Multiple matching tied notes (MultiIndex([(0, 148),\n",
      "            (0, 149)],\n",
      "           names=['section', 'ix'])) found for note index (4, 0, 141) and duration 1/2. Returning the first one.\n",
      "  warnings.warn(f\"Multiple matching tied notes ({matching_notes.index}) found for note index \"\n",
      "/mnt/c/Users/apmcl/Documents/GitHub/harmonic-inference/corpus_utils.py:134: UserWarning: Multiple matching tied notes (MultiIndex([(0, 148),\n",
      "            (0, 149)],\n",
      "           names=['section', 'ix'])) found for note index (4, 0, 142) and duration 1/2. Returning the first one.\n",
      "  warnings.warn(f\"Multiple matching tied notes ({matching_notes.index}) found for note index \"\n",
      "/mnt/c/Users/apmcl/Documents/GitHub/harmonic-inference/corpus_utils.py:134: UserWarning: Multiple matching tied notes (MultiIndex([(1, 332),\n",
      "            (1, 333)],\n",
      "           names=['section', 'ix'])) found for note index (4, 1, 325) and duration 1/2. Returning the first one.\n",
      "  warnings.warn(f\"Multiple matching tied notes ({matching_notes.index}) found for note index \"\n",
      "/mnt/c/Users/apmcl/Documents/GitHub/harmonic-inference/corpus_utils.py:134: UserWarning: Multiple matching tied notes (MultiIndex([(1, 332),\n",
      "            (1, 333)],\n",
      "           names=['section', 'ix'])) found for note index (4, 1, 326) and duration 1/2. Returning the first one.\n",
      "  warnings.warn(f\"Multiple matching tied notes ({matching_notes.index}) found for note index \"\n"
     ]
    },
    {
     "name": "stdout",
     "output_type": "stream",
     "text": [
      "Index 5 / 696\n",
      "Index 6 / 696\n",
      "Index 8 / 696\n",
      "Index 9 / 696\n",
      "Index 10 / 696\n",
      "Index 11 / 696\n",
      "Index 12 / 696\n",
      "Index 13 / 696\n",
      "Index 15 / 696\n",
      "Index 16 / 696\n",
      "Index 17 / 696\n",
      "Index 18 / 696\n"
     ]
    },
    {
     "name": "stderr",
     "output_type": "stream",
     "text": [
      "/mnt/c/Users/apmcl/Documents/GitHub/harmonic-inference/corpus_utils.py:128: UserWarning: No matching tied note (MultiIndex([], names=['section', 'ix'])) found for note index (18, 0, 370) and duration 1/8. Returning the first one.\n",
      "  warnings.warn(f\"No matching tied note ({matching_notes.index}) found for note index \"\n",
      "/mnt/c/Users/apmcl/Documents/GitHub/harmonic-inference/corpus_utils.py:128: UserWarning: No matching tied note (MultiIndex([], names=['section', 'ix'])) found for note index (18, 0, 972) and duration 1/4. Returning the first one.\n",
      "  warnings.warn(f\"No matching tied note ({matching_notes.index}) found for note index \"\n",
      "/mnt/c/Users/apmcl/Documents/GitHub/harmonic-inference/corpus_utils.py:128: UserWarning: No matching tied note (MultiIndex([], names=['section', 'ix'])) found for note index (18, 0, 1769) and duration 3/4. Returning the first one.\n",
      "  warnings.warn(f\"No matching tied note ({matching_notes.index}) found for note index \"\n"
     ]
    },
    {
     "name": "stdout",
     "output_type": "stream",
     "text": [
      "Index 19 / 696\n",
      "Index 20 / 696\n",
      "Index 21 / 696\n",
      "Index 22 / 696\n",
      "Index 23 / 696\n",
      "Index 24 / 696\n",
      "Index 25 / 696\n",
      "Index 26 / 696\n",
      "Index 27 / 696\n",
      "Index 28 / 696\n",
      "Index 29 / 696\n",
      "Index 30 / 696\n",
      "Index 31 / 696\n",
      "Index 32 / 696\n",
      "Index 33 / 696\n",
      "Index 34 / 696\n",
      "Index 35 / 696\n",
      "Index 36 / 696\n",
      "Index 37 / 696\n",
      "Index 38 / 696\n",
      "Index 39 / 696\n",
      "Index 40 / 696\n",
      "Index 41 / 696\n",
      "Index 42 / 696\n",
      "Index 43 / 696\n",
      "Index 44 / 696\n",
      "Index 45 / 696\n",
      "Index 47 / 696\n",
      "Index 48 / 696\n",
      "Index 49 / 696\n",
      "Index 50 / 696\n",
      "Index 51 / 696\n",
      "Index 52 / 696\n",
      "Index 53 / 696\n",
      "Index 54 / 696\n",
      "Index 55 / 696\n",
      "Index 56 / 696\n",
      "Index 57 / 696\n",
      "Index 58 / 696\n",
      "Index 59 / 696\n",
      "Index 60 / 696\n",
      "Index 61 / 696\n",
      "Index 62 / 696\n",
      "Index 63 / 696\n",
      "Index 65 / 696\n",
      "Index 66 / 696\n",
      "Index 67 / 696\n",
      "Index 68 / 696\n",
      "Index 69 / 696\n",
      "Index 70 / 696\n",
      "Index 71 / 696\n",
      "Index 73 / 696\n",
      "Index 74 / 696\n",
      "Index 75 / 696\n",
      "Index 76 / 696\n",
      "Index 77 / 696\n",
      "Index 79 / 696\n",
      "Index 80 / 696\n",
      "Index 81 / 696\n",
      "Index 82 / 696\n",
      "Index 83 / 696\n",
      "Index 84 / 696\n",
      "Index 85 / 696\n",
      "Index 87 / 696\n",
      "Index 89 / 696\n",
      "Index 90 / 696\n",
      "Index 91 / 696\n",
      "Index 92 / 696\n",
      "Index 93 / 696\n",
      "Index 94 / 696\n",
      "Index 95 / 696\n",
      "Index 96 / 696\n",
      "Index 97 / 696\n",
      "Index 98 / 696\n",
      "Index 99 / 696\n",
      "Index 100 / 696\n",
      "Index 101 / 696\n",
      "Index 102 / 696\n",
      "Index 103 / 696\n",
      "Index 104 / 696\n",
      "Index 105 / 696\n",
      "Index 106 / 696\n",
      "Index 107 / 696\n",
      "Index 108 / 696\n",
      "Index 109 / 696\n"
     ]
    },
    {
     "name": "stderr",
     "output_type": "stream",
     "text": [
      "/mnt/c/Users/apmcl/Documents/GitHub/harmonic-inference/corpus_utils.py:128: UserWarning: No matching tied note (MultiIndex([], names=['section', 'ix'])) found for note index (109, 3, 143) and duration 1/8. Returning the first one.\n",
      "  warnings.warn(f\"No matching tied note ({matching_notes.index}) found for note index \"\n",
      "/mnt/c/Users/apmcl/Documents/GitHub/harmonic-inference/corpus_utils.py:128: UserWarning: No matching tied note (MultiIndex([], names=['section', 'ix'])) found for note index (109, 3, 144) and duration 1/8. Returning the first one.\n",
      "  warnings.warn(f\"No matching tied note ({matching_notes.index}) found for note index \"\n",
      "/mnt/c/Users/apmcl/Documents/GitHub/harmonic-inference/corpus_utils.py:128: UserWarning: No matching tied note (MultiIndex([], names=['section', 'ix'])) found for note index (109, 3, 145) and duration 1/8. Returning the first one.\n",
      "  warnings.warn(f\"No matching tied note ({matching_notes.index}) found for note index \"\n"
     ]
    },
    {
     "name": "stdout",
     "output_type": "stream",
     "text": [
      "Index 110 / 696\n",
      "Index 111 / 696\n",
      "Index 112 / 696\n",
      "Index 113 / 696\n"
     ]
    },
    {
     "name": "stderr",
     "output_type": "stream",
     "text": [
      "/mnt/c/Users/apmcl/Documents/GitHub/harmonic-inference/corpus_utils.py:128: UserWarning: No matching tied note (MultiIndex([], names=['section', 'ix'])) found for note index (113, 0, 1857) and duration 3/4. Returning the first one.\n",
      "  warnings.warn(f\"No matching tied note ({matching_notes.index}) found for note index \"\n"
     ]
    },
    {
     "name": "stdout",
     "output_type": "stream",
     "text": [
      "Index 114 / 696\n"
     ]
    },
    {
     "name": "stderr",
     "output_type": "stream",
     "text": [
      "/mnt/c/Users/apmcl/Documents/GitHub/harmonic-inference/corpus_utils.py:128: UserWarning: No matching tied note (MultiIndex([], names=['section', 'ix'])) found for note index (114, 0, 1857) and duration 3/4. Returning the first one.\n",
      "  warnings.warn(f\"No matching tied note ({matching_notes.index}) found for note index \"\n"
     ]
    },
    {
     "name": "stdout",
     "output_type": "stream",
     "text": [
      "Index 115 / 696\n",
      "Index 116 / 696\n",
      "Index 117 / 696\n",
      "Index 118 / 696\n"
     ]
    },
    {
     "name": "stderr",
     "output_type": "stream",
     "text": [
      "/mnt/c/Users/apmcl/Documents/GitHub/harmonic-inference/corpus_utils.py:128: UserWarning: No matching tied note (MultiIndex([], names=['section', 'ix'])) found for note index (118, 2, 888) and duration 1/16. Returning the first one.\n",
      "  warnings.warn(f\"No matching tied note ({matching_notes.index}) found for note index \"\n",
      "/mnt/c/Users/apmcl/Documents/GitHub/harmonic-inference/corpus_utils.py:128: UserWarning: No matching tied note (MultiIndex([], names=['section', 'ix'])) found for note index (118, 2, 915) and duration 1/16. Returning the first one.\n",
      "  warnings.warn(f\"No matching tied note ({matching_notes.index}) found for note index \"\n",
      "/mnt/c/Users/apmcl/Documents/GitHub/harmonic-inference/corpus_utils.py:128: UserWarning: No matching tied note (MultiIndex([], names=['section', 'ix'])) found for note index (118, 2, 942) and duration 1/16. Returning the first one.\n",
      "  warnings.warn(f\"No matching tied note ({matching_notes.index}) found for note index \"\n"
     ]
    },
    {
     "name": "stdout",
     "output_type": "stream",
     "text": [
      "Index 119 / 696\n"
     ]
    },
    {
     "name": "stderr",
     "output_type": "stream",
     "text": [
      "/mnt/c/Users/apmcl/Documents/GitHub/harmonic-inference/corpus_utils.py:128: UserWarning: No matching tied note (MultiIndex([], names=['section', 'ix'])) found for note index (119, 3, 53) and duration 1/8. Returning the first one.\n",
      "  warnings.warn(f\"No matching tied note ({matching_notes.index}) found for note index \"\n",
      "/mnt/c/Users/apmcl/Documents/GitHub/harmonic-inference/corpus_utils.py:128: UserWarning: No matching tied note (MultiIndex([], names=['section', 'ix'])) found for note index (119, 4, 80) and duration 1/8. Returning the first one.\n",
      "  warnings.warn(f\"No matching tied note ({matching_notes.index}) found for note index \"\n",
      "/mnt/c/Users/apmcl/Documents/GitHub/harmonic-inference/corpus_utils.py:128: UserWarning: No matching tied note (MultiIndex([], names=['section', 'ix'])) found for note index (119, 5, 70) and duration 1/4. Returning the first one.\n",
      "  warnings.warn(f\"No matching tied note ({matching_notes.index}) found for note index \"\n"
     ]
    },
    {
     "name": "stdout",
     "output_type": "stream",
     "text": [
      "Index 120 / 696\n",
      "Index 122 / 696\n",
      "Index 123 / 696\n",
      "Index 124 / 696\n",
      "Index 125 / 696\n",
      "Index 126 / 696\n",
      "Index 127 / 696\n",
      "Index 128 / 696\n",
      "Index 129 / 696\n"
     ]
    },
    {
     "name": "stderr",
     "output_type": "stream",
     "text": [
      "/mnt/c/Users/apmcl/Documents/GitHub/harmonic-inference/corpus_utils.py:128: UserWarning: No matching tied note (MultiIndex([], names=['section', 'ix'])) found for note index (129, 1, 106) and duration 1/4. Returning the first one.\n",
      "  warnings.warn(f\"No matching tied note ({matching_notes.index}) found for note index \"\n",
      "/mnt/c/Users/apmcl/Documents/GitHub/harmonic-inference/corpus_utils.py:128: UserWarning: No matching tied note (MultiIndex([], names=['section', 'ix'])) found for note index (129, 1, 108) and duration 1/4. Returning the first one.\n",
      "  warnings.warn(f\"No matching tied note ({matching_notes.index}) found for note index \"\n"
     ]
    },
    {
     "name": "stdout",
     "output_type": "stream",
     "text": [
      "Index 130 / 696\n",
      "Index 131 / 696\n",
      "Index 132 / 696\n",
      "Index 133 / 696\n",
      "Index 134 / 696\n",
      "Index 135 / 696\n",
      "Index 136 / 696\n",
      "Index 137 / 696\n",
      "Index 138 / 696\n",
      "Index 139 / 696\n",
      "Index 140 / 696\n"
     ]
    },
    {
     "name": "stderr",
     "output_type": "stream",
     "text": [
      "/mnt/c/Users/apmcl/Documents/GitHub/harmonic-inference/corpus_utils.py:128: UserWarning: No matching tied note (MultiIndex([], names=['section', 'ix'])) found for note index (140, 0, 105) and duration 1/2. Returning the first one.\n",
      "  warnings.warn(f\"No matching tied note ({matching_notes.index}) found for note index \"\n"
     ]
    },
    {
     "name": "stdout",
     "output_type": "stream",
     "text": [
      "Index 141 / 696\n",
      "Index 142 / 696\n",
      "Index 143 / 696\n",
      "Index 144 / 696\n",
      "Index 145 / 696\n",
      "Index 146 / 696\n",
      "Index 147 / 696\n",
      "Index 148 / 696\n",
      "Index 149 / 696\n",
      "Index 152 / 696\n"
     ]
    },
    {
     "name": "stderr",
     "output_type": "stream",
     "text": [
      "/mnt/c/Users/apmcl/Documents/GitHub/harmonic-inference/corpus_utils.py:128: UserWarning: No matching tied note (MultiIndex([], names=['section', 'ix'])) found for note index (152, 0, 348) and duration 1/4. Returning the first one.\n",
      "  warnings.warn(f\"No matching tied note ({matching_notes.index}) found for note index \"\n",
      "/mnt/c/Users/apmcl/Documents/GitHub/harmonic-inference/corpus_utils.py:128: UserWarning: No matching tied note (MultiIndex([], names=['section', 'ix'])) found for note index (152, 0, 360) and duration 1/4. Returning the first one.\n",
      "  warnings.warn(f\"No matching tied note ({matching_notes.index}) found for note index \"\n",
      "/mnt/c/Users/apmcl/Documents/GitHub/harmonic-inference/corpus_utils.py:128: UserWarning: No matching tied note (MultiIndex([], names=['section', 'ix'])) found for note index (152, 0, 372) and duration 1/4. Returning the first one.\n",
      "  warnings.warn(f\"No matching tied note ({matching_notes.index}) found for note index \"\n",
      "/mnt/c/Users/apmcl/Documents/GitHub/harmonic-inference/corpus_utils.py:128: UserWarning: No matching tied note (MultiIndex([], names=['section', 'ix'])) found for note index (152, 0, 384) and duration 1/4. Returning the first one.\n",
      "  warnings.warn(f\"No matching tied note ({matching_notes.index}) found for note index \"\n",
      "/mnt/c/Users/apmcl/Documents/GitHub/harmonic-inference/corpus_utils.py:128: UserWarning: No matching tied note (MultiIndex([], names=['section', 'ix'])) found for note index (152, 1, 286) and duration 1/4. Returning the first one.\n",
      "  warnings.warn(f\"No matching tied note ({matching_notes.index}) found for note index \"\n",
      "/mnt/c/Users/apmcl/Documents/GitHub/harmonic-inference/corpus_utils.py:128: UserWarning: No matching tied note (MultiIndex([], names=['section', 'ix'])) found for note index (152, 1, 298) and duration 1/4. Returning the first one.\n",
      "  warnings.warn(f\"No matching tied note ({matching_notes.index}) found for note index \"\n",
      "/mnt/c/Users/apmcl/Documents/GitHub/harmonic-inference/corpus_utils.py:128: UserWarning: No matching tied note (MultiIndex([], names=['section', 'ix'])) found for note index (152, 1, 310) and duration 1/4. Returning the first one.\n",
      "  warnings.warn(f\"No matching tied note ({matching_notes.index}) found for note index \"\n",
      "/mnt/c/Users/apmcl/Documents/GitHub/harmonic-inference/corpus_utils.py:128: UserWarning: No matching tied note (MultiIndex([], names=['section', 'ix'])) found for note index (152, 1, 322) and duration 1/4. Returning the first one.\n",
      "  warnings.warn(f\"No matching tied note ({matching_notes.index}) found for note index \"\n"
     ]
    },
    {
     "name": "stdout",
     "output_type": "stream",
     "text": [
      "Index 153 / 696\n",
      "Index 154 / 696\n",
      "Index 155 / 696\n",
      "Index 156 / 696\n",
      "Index 157 / 696\n",
      "Index 158 / 696\n",
      "Index 159 / 696\n",
      "Index 162 / 696\n",
      "Index 163 / 696\n",
      "Index 164 / 696\n",
      "Index 165 / 696\n",
      "Index 166 / 696\n",
      "Index 167 / 696\n",
      "Index 168 / 696\n",
      "Index 170 / 696\n",
      "Index 171 / 696\n",
      "Index 172 / 696\n",
      "Index 173 / 696\n",
      "Index 174 / 696\n",
      "Index 175 / 696\n",
      "Index 176 / 696\n",
      "Index 177 / 696\n"
     ]
    },
    {
     "name": "stderr",
     "output_type": "stream",
     "text": [
      "/mnt/c/Users/apmcl/Documents/GitHub/harmonic-inference/corpus_utils.py:134: UserWarning: Multiple matching tied notes (MultiIndex([(0, 46),\n",
      "            (0, 47)],\n",
      "           names=['section', 'ix'])) found for note index (177, 0, 42) and duration 1/4. Returning the first one.\n",
      "  warnings.warn(f\"Multiple matching tied notes ({matching_notes.index}) found for note index \"\n",
      "/mnt/c/Users/apmcl/Documents/GitHub/harmonic-inference/corpus_utils.py:134: UserWarning: Multiple matching tied notes (MultiIndex([(0, 46),\n",
      "            (0, 47)],\n",
      "           names=['section', 'ix'])) found for note index (177, 0, 43) and duration 1/4. Returning the first one.\n",
      "  warnings.warn(f\"Multiple matching tied notes ({matching_notes.index}) found for note index \"\n",
      "/mnt/c/Users/apmcl/Documents/GitHub/harmonic-inference/corpus_utils.py:134: UserWarning: Multiple matching tied notes (MultiIndex([(0, 82),\n",
      "            (0, 83)],\n",
      "           names=['section', 'ix'])) found for note index (177, 0, 78) and duration 1/4. Returning the first one.\n",
      "  warnings.warn(f\"Multiple matching tied notes ({matching_notes.index}) found for note index \"\n",
      "/mnt/c/Users/apmcl/Documents/GitHub/harmonic-inference/corpus_utils.py:134: UserWarning: Multiple matching tied notes (MultiIndex([(0, 82),\n",
      "            (0, 83)],\n",
      "           names=['section', 'ix'])) found for note index (177, 0, 79) and duration 1/4. Returning the first one.\n",
      "  warnings.warn(f\"Multiple matching tied notes ({matching_notes.index}) found for note index \"\n",
      "/mnt/c/Users/apmcl/Documents/GitHub/harmonic-inference/corpus_utils.py:134: UserWarning: Multiple matching tied notes (MultiIndex([(0, 222),\n",
      "            (0, 223)],\n",
      "           names=['section', 'ix'])) found for note index (177, 0, 218) and duration 1/4. Returning the first one.\n",
      "  warnings.warn(f\"Multiple matching tied notes ({matching_notes.index}) found for note index \"\n",
      "/mnt/c/Users/apmcl/Documents/GitHub/harmonic-inference/corpus_utils.py:134: UserWarning: Multiple matching tied notes (MultiIndex([(0, 222),\n",
      "            (0, 223)],\n",
      "           names=['section', 'ix'])) found for note index (177, 0, 219) and duration 1/4. Returning the first one.\n",
      "  warnings.warn(f\"Multiple matching tied notes ({matching_notes.index}) found for note index \"\n"
     ]
    },
    {
     "name": "stdout",
     "output_type": "stream",
     "text": [
      "Index 178 / 696\n",
      "Index 179 / 696\n"
     ]
    },
    {
     "name": "stderr",
     "output_type": "stream",
     "text": [
      "/mnt/c/Users/apmcl/Documents/GitHub/harmonic-inference/corpus_utils.py:134: UserWarning: Multiple matching tied notes (MultiIndex([(0, 41),\n",
      "            (0, 42)],\n",
      "           names=['section', 'ix'])) found for note index (179, 0, 37) and duration 1/4. Returning the first one.\n",
      "  warnings.warn(f\"Multiple matching tied notes ({matching_notes.index}) found for note index \"\n",
      "/mnt/c/Users/apmcl/Documents/GitHub/harmonic-inference/corpus_utils.py:134: UserWarning: Multiple matching tied notes (MultiIndex([(0, 41),\n",
      "            (0, 42)],\n",
      "           names=['section', 'ix'])) found for note index (179, 0, 38) and duration 1/4. Returning the first one.\n",
      "  warnings.warn(f\"Multiple matching tied notes ({matching_notes.index}) found for note index \"\n",
      "/mnt/c/Users/apmcl/Documents/GitHub/harmonic-inference/corpus_utils.py:134: UserWarning: Multiple matching tied notes (MultiIndex([(0, 69),\n",
      "            (0, 70)],\n",
      "           names=['section', 'ix'])) found for note index (179, 0, 65) and duration 1/4. Returning the first one.\n",
      "  warnings.warn(f\"Multiple matching tied notes ({matching_notes.index}) found for note index \"\n",
      "/mnt/c/Users/apmcl/Documents/GitHub/harmonic-inference/corpus_utils.py:134: UserWarning: Multiple matching tied notes (MultiIndex([(0, 69),\n",
      "            (0, 70)],\n",
      "           names=['section', 'ix'])) found for note index (179, 0, 66) and duration 1/4. Returning the first one.\n",
      "  warnings.warn(f\"Multiple matching tied notes ({matching_notes.index}) found for note index \"\n"
     ]
    },
    {
     "name": "stdout",
     "output_type": "stream",
     "text": [
      "Index 180 / 696\n"
     ]
    },
    {
     "name": "stderr",
     "output_type": "stream",
     "text": [
      "/mnt/c/Users/apmcl/Documents/GitHub/harmonic-inference/corpus_utils.py:134: UserWarning: Multiple matching tied notes (MultiIndex([(0, 259),\n",
      "            (0, 260)],\n",
      "           names=['section', 'ix'])) found for note index (180, 0, 253) and duration 1/4. Returning the first one.\n",
      "  warnings.warn(f\"Multiple matching tied notes ({matching_notes.index}) found for note index \"\n",
      "/mnt/c/Users/apmcl/Documents/GitHub/harmonic-inference/corpus_utils.py:134: UserWarning: Multiple matching tied notes (MultiIndex([(0, 259),\n",
      "            (0, 260)],\n",
      "           names=['section', 'ix'])) found for note index (180, 0, 254) and duration 1/4. Returning the first one.\n",
      "  warnings.warn(f\"Multiple matching tied notes ({matching_notes.index}) found for note index \"\n",
      "/mnt/c/Users/apmcl/Documents/GitHub/harmonic-inference/corpus_utils.py:134: UserWarning: Multiple matching tied notes (MultiIndex([(0, 772),\n",
      "            (0, 773)],\n",
      "           names=['section', 'ix'])) found for note index (180, 0, 766) and duration 1/4. Returning the first one.\n",
      "  warnings.warn(f\"Multiple matching tied notes ({matching_notes.index}) found for note index \"\n",
      "/mnt/c/Users/apmcl/Documents/GitHub/harmonic-inference/corpus_utils.py:134: UserWarning: Multiple matching tied notes (MultiIndex([(0, 772),\n",
      "            (0, 773)],\n",
      "           names=['section', 'ix'])) found for note index (180, 0, 767) and duration 1/4. Returning the first one.\n",
      "  warnings.warn(f\"Multiple matching tied notes ({matching_notes.index}) found for note index \"\n"
     ]
    },
    {
     "name": "stdout",
     "output_type": "stream",
     "text": [
      "Index 181 / 696\n",
      "Index 182 / 696\n"
     ]
    },
    {
     "name": "stderr",
     "output_type": "stream",
     "text": [
      "/mnt/c/Users/apmcl/Documents/GitHub/harmonic-inference/corpus_utils.py:134: UserWarning: Multiple matching tied notes (MultiIndex([(0, 539),\n",
      "            (0, 540)],\n",
      "           names=['section', 'ix'])) found for note index (182, 0, 533) and duration 1/4. Returning the first one.\n",
      "  warnings.warn(f\"Multiple matching tied notes ({matching_notes.index}) found for note index \"\n",
      "/mnt/c/Users/apmcl/Documents/GitHub/harmonic-inference/corpus_utils.py:134: UserWarning: Multiple matching tied notes (MultiIndex([(0, 539),\n",
      "            (0, 540)],\n",
      "           names=['section', 'ix'])) found for note index (182, 0, 534) and duration 1/4. Returning the first one.\n",
      "  warnings.warn(f\"Multiple matching tied notes ({matching_notes.index}) found for note index \"\n",
      "/mnt/c/Users/apmcl/Documents/GitHub/harmonic-inference/corpus_utils.py:134: UserWarning: Multiple matching tied notes (MultiIndex([(0, 553),\n",
      "            (0, 554)],\n",
      "           names=['section', 'ix'])) found for note index (182, 0, 549) and duration 1/4. Returning the first one.\n",
      "  warnings.warn(f\"Multiple matching tied notes ({matching_notes.index}) found for note index \"\n",
      "/mnt/c/Users/apmcl/Documents/GitHub/harmonic-inference/corpus_utils.py:134: UserWarning: Multiple matching tied notes (MultiIndex([(0, 553),\n",
      "            (0, 554)],\n",
      "           names=['section', 'ix'])) found for note index (182, 0, 550) and duration 1/4. Returning the first one.\n",
      "  warnings.warn(f\"Multiple matching tied notes ({matching_notes.index}) found for note index \"\n",
      "/mnt/c/Users/apmcl/Documents/GitHub/harmonic-inference/corpus_utils.py:134: UserWarning: Multiple matching tied notes (MultiIndex([(0, 561),\n",
      "            (0, 562)],\n",
      "           names=['section', 'ix'])) found for note index (182, 0, 557) and duration 1/4. Returning the first one.\n",
      "  warnings.warn(f\"Multiple matching tied notes ({matching_notes.index}) found for note index \"\n",
      "/mnt/c/Users/apmcl/Documents/GitHub/harmonic-inference/corpus_utils.py:134: UserWarning: Multiple matching tied notes (MultiIndex([(0, 561),\n",
      "            (0, 562)],\n",
      "           names=['section', 'ix'])) found for note index (182, 0, 558) and duration 1/4. Returning the first one.\n",
      "  warnings.warn(f\"Multiple matching tied notes ({matching_notes.index}) found for note index \"\n"
     ]
    },
    {
     "name": "stdout",
     "output_type": "stream",
     "text": [
      "Index 185 / 696\n",
      "Index 186 / 696\n"
     ]
    },
    {
     "name": "stderr",
     "output_type": "stream",
     "text": [
      "/mnt/c/Users/apmcl/Documents/GitHub/harmonic-inference/corpus_utils.py:134: UserWarning: Multiple matching tied notes (MultiIndex([(1, 363),\n",
      "            (1, 364)],\n",
      "           names=['section', 'ix'])) found for note index (186, 1, 353) and duration 1/2. Returning the first one.\n",
      "  warnings.warn(f\"Multiple matching tied notes ({matching_notes.index}) found for note index \"\n",
      "/mnt/c/Users/apmcl/Documents/GitHub/harmonic-inference/corpus_utils.py:134: UserWarning: Multiple matching tied notes (MultiIndex([(1, 363),\n",
      "            (1, 364)],\n",
      "           names=['section', 'ix'])) found for note index (186, 1, 354) and duration 1/2. Returning the first one.\n",
      "  warnings.warn(f\"Multiple matching tied notes ({matching_notes.index}) found for note index \"\n",
      "/mnt/c/Users/apmcl/Documents/GitHub/harmonic-inference/corpus_utils.py:134: UserWarning: Multiple matching tied notes (MultiIndex([(1, 408),\n",
      "            (1, 409)],\n",
      "           names=['section', 'ix'])) found for note index (186, 1, 398) and duration 1/2. Returning the first one.\n",
      "  warnings.warn(f\"Multiple matching tied notes ({matching_notes.index}) found for note index \"\n",
      "/mnt/c/Users/apmcl/Documents/GitHub/harmonic-inference/corpus_utils.py:134: UserWarning: Multiple matching tied notes (MultiIndex([(1, 408),\n",
      "            (1, 409)],\n",
      "           names=['section', 'ix'])) found for note index (186, 1, 399) and duration 1/2. Returning the first one.\n",
      "  warnings.warn(f\"Multiple matching tied notes ({matching_notes.index}) found for note index \"\n"
     ]
    },
    {
     "name": "stdout",
     "output_type": "stream",
     "text": [
      "Index 187 / 696\n"
     ]
    },
    {
     "name": "stderr",
     "output_type": "stream",
     "text": [
      "/mnt/c/Users/apmcl/Documents/GitHub/harmonic-inference/corpus_utils.py:134: UserWarning: Multiple matching tied notes (MultiIndex([(0, 4),\n",
      "            (0, 5)],\n",
      "           names=['section', 'ix'])) found for note index (187, 0, 0) and duration 1. Returning the first one.\n",
      "  warnings.warn(f\"Multiple matching tied notes ({matching_notes.index}) found for note index \"\n",
      "/mnt/c/Users/apmcl/Documents/GitHub/harmonic-inference/corpus_utils.py:134: UserWarning: Multiple matching tied notes (MultiIndex([(0, 4),\n",
      "            (0, 5)],\n",
      "           names=['section', 'ix'])) found for note index (187, 0, 1) and duration 1. Returning the first one.\n",
      "  warnings.warn(f\"Multiple matching tied notes ({matching_notes.index}) found for note index \"\n",
      "/mnt/c/Users/apmcl/Documents/GitHub/harmonic-inference/corpus_utils.py:134: UserWarning: Multiple matching tied notes (MultiIndex([(0, 101),\n",
      "            (0, 102)],\n",
      "           names=['section', 'ix'])) found for note index (187, 0, 97) and duration 1/2. Returning the first one.\n",
      "  warnings.warn(f\"Multiple matching tied notes ({matching_notes.index}) found for note index \"\n",
      "/mnt/c/Users/apmcl/Documents/GitHub/harmonic-inference/corpus_utils.py:134: UserWarning: Multiple matching tied notes (MultiIndex([(0, 101),\n",
      "            (0, 102)],\n",
      "           names=['section', 'ix'])) found for note index (187, 0, 98) and duration 1/2. Returning the first one.\n",
      "  warnings.warn(f\"Multiple matching tied notes ({matching_notes.index}) found for note index \"\n",
      "/mnt/c/Users/apmcl/Documents/GitHub/harmonic-inference/corpus_utils.py:134: UserWarning: Multiple matching tied notes (MultiIndex([(0, 109),\n",
      "            (0, 110)],\n",
      "           names=['section', 'ix'])) found for note index (187, 0, 105) and duration 1/2. Returning the first one.\n",
      "  warnings.warn(f\"Multiple matching tied notes ({matching_notes.index}) found for note index \"\n",
      "/mnt/c/Users/apmcl/Documents/GitHub/harmonic-inference/corpus_utils.py:134: UserWarning: Multiple matching tied notes (MultiIndex([(0, 109),\n",
      "            (0, 110)],\n",
      "           names=['section', 'ix'])) found for note index (187, 0, 106) and duration 1/2. Returning the first one.\n",
      "  warnings.warn(f\"Multiple matching tied notes ({matching_notes.index}) found for note index \"\n",
      "/mnt/c/Users/apmcl/Documents/GitHub/harmonic-inference/corpus_utils.py:134: UserWarning: Multiple matching tied notes (MultiIndex([(0, 117),\n",
      "            (0, 118)],\n",
      "           names=['section', 'ix'])) found for note index (187, 0, 113) and duration 1/2. Returning the first one.\n",
      "  warnings.warn(f\"Multiple matching tied notes ({matching_notes.index}) found for note index \"\n",
      "/mnt/c/Users/apmcl/Documents/GitHub/harmonic-inference/corpus_utils.py:134: UserWarning: Multiple matching tied notes (MultiIndex([(0, 117),\n",
      "            (0, 118)],\n",
      "           names=['section', 'ix'])) found for note index (187, 0, 114) and duration 1/2. Returning the first one.\n",
      "  warnings.warn(f\"Multiple matching tied notes ({matching_notes.index}) found for note index \"\n",
      "/mnt/c/Users/apmcl/Documents/GitHub/harmonic-inference/corpus_utils.py:134: UserWarning: Multiple matching tied notes (MultiIndex([(0, 359),\n",
      "            (0, 360)],\n",
      "           names=['section', 'ix'])) found for note index (187, 0, 355) and duration 1/2. Returning the first one.\n",
      "  warnings.warn(f\"Multiple matching tied notes ({matching_notes.index}) found for note index \"\n",
      "/mnt/c/Users/apmcl/Documents/GitHub/harmonic-inference/corpus_utils.py:134: UserWarning: Multiple matching tied notes (MultiIndex([(0, 359),\n",
      "            (0, 360)],\n",
      "           names=['section', 'ix'])) found for note index (187, 0, 356) and duration 1/2. Returning the first one.\n",
      "  warnings.warn(f\"Multiple matching tied notes ({matching_notes.index}) found for note index \"\n"
     ]
    },
    {
     "name": "stdout",
     "output_type": "stream",
     "text": [
      "Index 188 / 696\n"
     ]
    },
    {
     "name": "stderr",
     "output_type": "stream",
     "text": [
      "/mnt/c/Users/apmcl/Documents/GitHub/harmonic-inference/corpus_utils.py:134: UserWarning: Multiple matching tied notes (MultiIndex([(0, 169),\n",
      "            (0, 170)],\n",
      "           names=['section', 'ix'])) found for note index (188, 0, 164) and duration 1/4. Returning the first one.\n",
      "  warnings.warn(f\"Multiple matching tied notes ({matching_notes.index}) found for note index \"\n",
      "/mnt/c/Users/apmcl/Documents/GitHub/harmonic-inference/corpus_utils.py:134: UserWarning: Multiple matching tied notes (MultiIndex([(0, 169),\n",
      "            (0, 170)],\n",
      "           names=['section', 'ix'])) found for note index (188, 0, 165) and duration 1/4. Returning the first one.\n",
      "  warnings.warn(f\"Multiple matching tied notes ({matching_notes.index}) found for note index \"\n"
     ]
    },
    {
     "name": "stdout",
     "output_type": "stream",
     "text": [
      "Index 189 / 696\n"
     ]
    },
    {
     "name": "stderr",
     "output_type": "stream",
     "text": [
      "/mnt/c/Users/apmcl/Documents/GitHub/harmonic-inference/corpus_utils.py:134: UserWarning: Multiple matching tied notes (MultiIndex([(5, 4),\n",
      "            (5, 5)],\n",
      "           names=['section', 'ix'])) found for note index (189, 5, 0) and duration 1/2. Returning the first one.\n",
      "  warnings.warn(f\"Multiple matching tied notes ({matching_notes.index}) found for note index \"\n",
      "/mnt/c/Users/apmcl/Documents/GitHub/harmonic-inference/corpus_utils.py:134: UserWarning: Multiple matching tied notes (MultiIndex([(5, 4),\n",
      "            (5, 5)],\n",
      "           names=['section', 'ix'])) found for note index (189, 5, 1) and duration 1/2. Returning the first one.\n",
      "  warnings.warn(f\"Multiple matching tied notes ({matching_notes.index}) found for note index \"\n"
     ]
    },
    {
     "name": "stdout",
     "output_type": "stream",
     "text": [
      "Index 190 / 696\n"
     ]
    },
    {
     "name": "stderr",
     "output_type": "stream",
     "text": [
      "/mnt/c/Users/apmcl/Documents/GitHub/harmonic-inference/corpus_utils.py:134: UserWarning: Multiple matching tied notes (MultiIndex([(0, 332),\n",
      "            (0, 333)],\n",
      "           names=['section', 'ix'])) found for note index (190, 0, 326) and duration 3/8. Returning the first one.\n",
      "  warnings.warn(f\"Multiple matching tied notes ({matching_notes.index}) found for note index \"\n",
      "/mnt/c/Users/apmcl/Documents/GitHub/harmonic-inference/corpus_utils.py:134: UserWarning: Multiple matching tied notes (MultiIndex([(0, 332),\n",
      "            (0, 333)],\n",
      "           names=['section', 'ix'])) found for note index (190, 0, 327) and duration 3/8. Returning the first one.\n",
      "  warnings.warn(f\"Multiple matching tied notes ({matching_notes.index}) found for note index \"\n",
      "/mnt/c/Users/apmcl/Documents/GitHub/harmonic-inference/corpus_utils.py:134: UserWarning: Multiple matching tied notes (MultiIndex([(0, 465),\n",
      "            (0, 466)],\n",
      "           names=['section', 'ix'])) found for note index (190, 0, 459) and duration 3/8. Returning the first one.\n",
      "  warnings.warn(f\"Multiple matching tied notes ({matching_notes.index}) found for note index \"\n",
      "/mnt/c/Users/apmcl/Documents/GitHub/harmonic-inference/corpus_utils.py:134: UserWarning: Multiple matching tied notes (MultiIndex([(0, 465),\n",
      "            (0, 466)],\n",
      "           names=['section', 'ix'])) found for note index (190, 0, 460) and duration 3/8. Returning the first one.\n",
      "  warnings.warn(f\"Multiple matching tied notes ({matching_notes.index}) found for note index \"\n",
      "/mnt/c/Users/apmcl/Documents/GitHub/harmonic-inference/corpus_utils.py:134: UserWarning: Multiple matching tied notes (MultiIndex([(0, 481),\n",
      "            (0, 482)],\n",
      "           names=['section', 'ix'])) found for note index (190, 0, 475) and duration 3/8. Returning the first one.\n",
      "  warnings.warn(f\"Multiple matching tied notes ({matching_notes.index}) found for note index \"\n",
      "/mnt/c/Users/apmcl/Documents/GitHub/harmonic-inference/corpus_utils.py:134: UserWarning: Multiple matching tied notes (MultiIndex([(0, 481),\n",
      "            (0, 482)],\n",
      "           names=['section', 'ix'])) found for note index (190, 0, 476) and duration 3/8. Returning the first one.\n",
      "  warnings.warn(f\"Multiple matching tied notes ({matching_notes.index}) found for note index \"\n",
      "/mnt/c/Users/apmcl/Documents/GitHub/harmonic-inference/corpus_utils.py:134: UserWarning: Multiple matching tied notes (MultiIndex([(0, 544),\n",
      "            (0, 545)],\n",
      "           names=['section', 'ix'])) found for note index (190, 0, 538) and duration 3/8. Returning the first one.\n",
      "  warnings.warn(f\"Multiple matching tied notes ({matching_notes.index}) found for note index \"\n",
      "/mnt/c/Users/apmcl/Documents/GitHub/harmonic-inference/corpus_utils.py:134: UserWarning: Multiple matching tied notes (MultiIndex([(0, 544),\n",
      "            (0, 545)],\n",
      "           names=['section', 'ix'])) found for note index (190, 0, 539) and duration 3/8. Returning the first one.\n",
      "  warnings.warn(f\"Multiple matching tied notes ({matching_notes.index}) found for note index \"\n",
      "/mnt/c/Users/apmcl/Documents/GitHub/harmonic-inference/corpus_utils.py:134: UserWarning: Multiple matching tied notes (MultiIndex([(0, 556),\n",
      "            (0, 557)],\n",
      "           names=['section', 'ix'])) found for note index (190, 0, 550) and duration 3/8. Returning the first one.\n",
      "  warnings.warn(f\"Multiple matching tied notes ({matching_notes.index}) found for note index \"\n",
      "/mnt/c/Users/apmcl/Documents/GitHub/harmonic-inference/corpus_utils.py:134: UserWarning: Multiple matching tied notes (MultiIndex([(0, 556),\n",
      "            (0, 557)],\n",
      "           names=['section', 'ix'])) found for note index (190, 0, 551) and duration 3/8. Returning the first one.\n",
      "  warnings.warn(f\"Multiple matching tied notes ({matching_notes.index}) found for note index \"\n",
      "/mnt/c/Users/apmcl/Documents/GitHub/harmonic-inference/corpus_utils.py:134: UserWarning: Multiple matching tied notes (MultiIndex([(0, 568),\n",
      "            (0, 569)],\n",
      "           names=['section', 'ix'])) found for note index (190, 0, 562) and duration 3/8. Returning the first one.\n",
      "  warnings.warn(f\"Multiple matching tied notes ({matching_notes.index}) found for note index \"\n",
      "/mnt/c/Users/apmcl/Documents/GitHub/harmonic-inference/corpus_utils.py:134: UserWarning: Multiple matching tied notes (MultiIndex([(0, 568),\n",
      "            (0, 569)],\n",
      "           names=['section', 'ix'])) found for note index (190, 0, 563) and duration 3/8. Returning the first one.\n",
      "  warnings.warn(f\"Multiple matching tied notes ({matching_notes.index}) found for note index \"\n",
      "/mnt/c/Users/apmcl/Documents/GitHub/harmonic-inference/corpus_utils.py:134: UserWarning: Multiple matching tied notes (MultiIndex([(0, 580),\n",
      "            (0, 581)],\n",
      "           names=['section', 'ix'])) found for note index (190, 0, 574) and duration 3/8. Returning the first one.\n",
      "  warnings.warn(f\"Multiple matching tied notes ({matching_notes.index}) found for note index \"\n",
      "/mnt/c/Users/apmcl/Documents/GitHub/harmonic-inference/corpus_utils.py:134: UserWarning: Multiple matching tied notes (MultiIndex([(0, 580),\n",
      "            (0, 581)],\n",
      "           names=['section', 'ix'])) found for note index (190, 0, 575) and duration 3/8. Returning the first one.\n",
      "  warnings.warn(f\"Multiple matching tied notes ({matching_notes.index}) found for note index \"\n",
      "/mnt/c/Users/apmcl/Documents/GitHub/harmonic-inference/corpus_utils.py:134: UserWarning: Multiple matching tied notes (MultiIndex([(0, 614),\n",
      "            (0, 615)],\n",
      "           names=['section', 'ix'])) found for note index (190, 0, 608) and duration 3/8. Returning the first one.\n",
      "  warnings.warn(f\"Multiple matching tied notes ({matching_notes.index}) found for note index \"\n",
      "/mnt/c/Users/apmcl/Documents/GitHub/harmonic-inference/corpus_utils.py:134: UserWarning: Multiple matching tied notes (MultiIndex([(0, 624),\n",
      "            (0, 625)],\n",
      "           names=['section', 'ix'])) found for note index (190, 0, 608) and duration 9/8. Returning the first one.\n",
      "  warnings.warn(f\"Multiple matching tied notes ({matching_notes.index}) found for note index \"\n",
      "/mnt/c/Users/apmcl/Documents/GitHub/harmonic-inference/corpus_utils.py:134: UserWarning: Multiple matching tied notes (MultiIndex([(0, 634),\n",
      "            (0, 635)],\n",
      "           names=['section', 'ix'])) found for note index (190, 0, 608) and duration 15/8. Returning the first one.\n",
      "  warnings.warn(f\"Multiple matching tied notes ({matching_notes.index}) found for note index \"\n",
      "/mnt/c/Users/apmcl/Documents/GitHub/harmonic-inference/corpus_utils.py:134: UserWarning: Multiple matching tied notes (MultiIndex([(0, 644),\n",
      "            (0, 645)],\n",
      "           names=['section', 'ix'])) found for note index (190, 0, 608) and duration 21/8. Returning the first one.\n",
      "  warnings.warn(f\"Multiple matching tied notes ({matching_notes.index}) found for note index \"\n",
      "/mnt/c/Users/apmcl/Documents/GitHub/harmonic-inference/corpus_utils.py:134: UserWarning: Multiple matching tied notes (MultiIndex([(0, 614),\n",
      "            (0, 615)],\n",
      "           names=['section', 'ix'])) found for note index (190, 0, 609) and duration 3/8. Returning the first one.\n",
      "  warnings.warn(f\"Multiple matching tied notes ({matching_notes.index}) found for note index \"\n",
      "/mnt/c/Users/apmcl/Documents/GitHub/harmonic-inference/corpus_utils.py:134: UserWarning: Multiple matching tied notes (MultiIndex([(0, 624),\n",
      "            (0, 625)],\n",
      "           names=['section', 'ix'])) found for note index (190, 0, 609) and duration 9/8. Returning the first one.\n",
      "  warnings.warn(f\"Multiple matching tied notes ({matching_notes.index}) found for note index \"\n",
      "/mnt/c/Users/apmcl/Documents/GitHub/harmonic-inference/corpus_utils.py:134: UserWarning: Multiple matching tied notes (MultiIndex([(0, 634),\n",
      "            (0, 635)],\n",
      "           names=['section', 'ix'])) found for note index (190, 0, 609) and duration 15/8. Returning the first one.\n",
      "  warnings.warn(f\"Multiple matching tied notes ({matching_notes.index}) found for note index \"\n",
      "/mnt/c/Users/apmcl/Documents/GitHub/harmonic-inference/corpus_utils.py:134: UserWarning: Multiple matching tied notes (MultiIndex([(0, 644),\n",
      "            (0, 645)],\n",
      "           names=['section', 'ix'])) found for note index (190, 0, 609) and duration 21/8. Returning the first one.\n",
      "  warnings.warn(f\"Multiple matching tied notes ({matching_notes.index}) found for note index \"\n"
     ]
    },
    {
     "name": "stderr",
     "output_type": "stream",
     "text": [
      "/mnt/c/Users/apmcl/Documents/GitHub/harmonic-inference/corpus_utils.py:134: UserWarning: Multiple matching tied notes (MultiIndex([(0, 662),\n",
      "            (0, 663)],\n",
      "           names=['section', 'ix'])) found for note index (190, 0, 658) and duration 3/8. Returning the first one.\n",
      "  warnings.warn(f\"Multiple matching tied notes ({matching_notes.index}) found for note index \"\n",
      "/mnt/c/Users/apmcl/Documents/GitHub/harmonic-inference/corpus_utils.py:134: UserWarning: Multiple matching tied notes (MultiIndex([(0, 662),\n",
      "            (0, 663)],\n",
      "           names=['section', 'ix'])) found for note index (190, 0, 659) and duration 3/8. Returning the first one.\n",
      "  warnings.warn(f\"Multiple matching tied notes ({matching_notes.index}) found for note index \"\n"
     ]
    },
    {
     "name": "stdout",
     "output_type": "stream",
     "text": [
      "Index 191 / 696\n",
      "Index 192 / 696\n"
     ]
    },
    {
     "name": "stderr",
     "output_type": "stream",
     "text": [
      "/mnt/c/Users/apmcl/Documents/GitHub/harmonic-inference/corpus_utils.py:134: UserWarning: Multiple matching tied notes (MultiIndex([(0, 391),\n",
      "            (0, 392)],\n",
      "           names=['section', 'ix'])) found for note index (192, 0, 387) and duration 1/4. Returning the first one.\n",
      "  warnings.warn(f\"Multiple matching tied notes ({matching_notes.index}) found for note index \"\n",
      "/mnt/c/Users/apmcl/Documents/GitHub/harmonic-inference/corpus_utils.py:134: UserWarning: Multiple matching tied notes (MultiIndex([(0, 391),\n",
      "            (0, 392)],\n",
      "           names=['section', 'ix'])) found for note index (192, 0, 388) and duration 1/4. Returning the first one.\n",
      "  warnings.warn(f\"Multiple matching tied notes ({matching_notes.index}) found for note index \"\n",
      "/mnt/c/Users/apmcl/Documents/GitHub/harmonic-inference/corpus_utils.py:134: UserWarning: Multiple matching tied notes (MultiIndex([(0, 420),\n",
      "            (0, 421)],\n",
      "           names=['section', 'ix'])) found for note index (192, 0, 414) and duration 1/4. Returning the first one.\n",
      "  warnings.warn(f\"Multiple matching tied notes ({matching_notes.index}) found for note index \"\n",
      "/mnt/c/Users/apmcl/Documents/GitHub/harmonic-inference/corpus_utils.py:134: UserWarning: Multiple matching tied notes (MultiIndex([(0, 420),\n",
      "            (0, 421)],\n",
      "           names=['section', 'ix'])) found for note index (192, 0, 415) and duration 1/4. Returning the first one.\n",
      "  warnings.warn(f\"Multiple matching tied notes ({matching_notes.index}) found for note index \"\n"
     ]
    },
    {
     "name": "stdout",
     "output_type": "stream",
     "text": [
      "Index 193 / 696\n"
     ]
    },
    {
     "name": "stderr",
     "output_type": "stream",
     "text": [
      "/mnt/c/Users/apmcl/Documents/GitHub/harmonic-inference/corpus_utils.py:134: UserWarning: Multiple matching tied notes (MultiIndex([(0, 81),\n",
      "            (0, 82)],\n",
      "           names=['section', 'ix'])) found for note index (193, 0, 77) and duration 1/4. Returning the first one.\n",
      "  warnings.warn(f\"Multiple matching tied notes ({matching_notes.index}) found for note index \"\n",
      "/mnt/c/Users/apmcl/Documents/GitHub/harmonic-inference/corpus_utils.py:134: UserWarning: Multiple matching tied notes (MultiIndex([(0, 81),\n",
      "            (0, 82)],\n",
      "           names=['section', 'ix'])) found for note index (193, 0, 78) and duration 1/4. Returning the first one.\n",
      "  warnings.warn(f\"Multiple matching tied notes ({matching_notes.index}) found for note index \"\n",
      "/mnt/c/Users/apmcl/Documents/GitHub/harmonic-inference/corpus_utils.py:134: UserWarning: Multiple matching tied notes (MultiIndex([(0, 343),\n",
      "            (0, 344)],\n",
      "           names=['section', 'ix'])) found for note index (193, 0, 339) and duration 1/4. Returning the first one.\n",
      "  warnings.warn(f\"Multiple matching tied notes ({matching_notes.index}) found for note index \"\n",
      "/mnt/c/Users/apmcl/Documents/GitHub/harmonic-inference/corpus_utils.py:134: UserWarning: Multiple matching tied notes (MultiIndex([(0, 343),\n",
      "            (0, 344)],\n",
      "           names=['section', 'ix'])) found for note index (193, 0, 340) and duration 1/4. Returning the first one.\n",
      "  warnings.warn(f\"Multiple matching tied notes ({matching_notes.index}) found for note index \"\n"
     ]
    },
    {
     "name": "stdout",
     "output_type": "stream",
     "text": [
      "Index 194 / 696\n",
      "Index 195 / 696\n",
      "Index 196 / 696\n"
     ]
    },
    {
     "name": "stderr",
     "output_type": "stream",
     "text": [
      "/mnt/c/Users/apmcl/Documents/GitHub/harmonic-inference/corpus_utils.py:134: UserWarning: Multiple matching tied notes (MultiIndex([(0, 71),\n",
      "            (0, 72)],\n",
      "           names=['section', 'ix'])) found for note index (196, 0, 65) and duration 1/4. Returning the first one.\n",
      "  warnings.warn(f\"Multiple matching tied notes ({matching_notes.index}) found for note index \"\n",
      "/mnt/c/Users/apmcl/Documents/GitHub/harmonic-inference/corpus_utils.py:134: UserWarning: Multiple matching tied notes (MultiIndex([(0, 71),\n",
      "            (0, 72)],\n",
      "           names=['section', 'ix'])) found for note index (196, 0, 66) and duration 1/4. Returning the first one.\n",
      "  warnings.warn(f\"Multiple matching tied notes ({matching_notes.index}) found for note index \"\n",
      "/mnt/c/Users/apmcl/Documents/GitHub/harmonic-inference/corpus_utils.py:134: UserWarning: Multiple matching tied notes (MultiIndex([(0, 535),\n",
      "            (0, 536)],\n",
      "           names=['section', 'ix'])) found for note index (196, 0, 525) and duration 1/4. Returning the first one.\n",
      "  warnings.warn(f\"Multiple matching tied notes ({matching_notes.index}) found for note index \"\n",
      "/mnt/c/Users/apmcl/Documents/GitHub/harmonic-inference/corpus_utils.py:134: UserWarning: Multiple matching tied notes (MultiIndex([(0, 535),\n",
      "            (0, 536)],\n",
      "           names=['section', 'ix'])) found for note index (196, 0, 526) and duration 1/4. Returning the first one.\n",
      "  warnings.warn(f\"Multiple matching tied notes ({matching_notes.index}) found for note index \"\n"
     ]
    },
    {
     "name": "stdout",
     "output_type": "stream",
     "text": [
      "Index 197 / 696\n"
     ]
    },
    {
     "name": "stderr",
     "output_type": "stream",
     "text": [
      "/mnt/c/Users/apmcl/Documents/GitHub/harmonic-inference/corpus_utils.py:134: UserWarning: Multiple matching tied notes (MultiIndex([(0, 291),\n",
      "            (0, 292)],\n",
      "           names=['section', 'ix'])) found for note index (197, 0, 287) and duration 1/4. Returning the first one.\n",
      "  warnings.warn(f\"Multiple matching tied notes ({matching_notes.index}) found for note index \"\n",
      "/mnt/c/Users/apmcl/Documents/GitHub/harmonic-inference/corpus_utils.py:134: UserWarning: Multiple matching tied notes (MultiIndex([(0, 291),\n",
      "            (0, 292)],\n",
      "           names=['section', 'ix'])) found for note index (197, 0, 288) and duration 1/4. Returning the first one.\n",
      "  warnings.warn(f\"Multiple matching tied notes ({matching_notes.index}) found for note index \"\n",
      "/mnt/c/Users/apmcl/Documents/GitHub/harmonic-inference/corpus_utils.py:134: UserWarning: Multiple matching tied notes (MultiIndex([(1, 124),\n",
      "            (1, 125)],\n",
      "           names=['section', 'ix'])) found for note index (197, 1, 120) and duration 1/4. Returning the first one.\n",
      "  warnings.warn(f\"Multiple matching tied notes ({matching_notes.index}) found for note index \"\n",
      "/mnt/c/Users/apmcl/Documents/GitHub/harmonic-inference/corpus_utils.py:134: UserWarning: Multiple matching tied notes (MultiIndex([(1, 124),\n",
      "            (1, 125)],\n",
      "           names=['section', 'ix'])) found for note index (197, 1, 121) and duration 1/4. Returning the first one.\n",
      "  warnings.warn(f\"Multiple matching tied notes ({matching_notes.index}) found for note index \"\n",
      "/mnt/c/Users/apmcl/Documents/GitHub/harmonic-inference/corpus_utils.py:134: UserWarning: Multiple matching tied notes (MultiIndex([(1, 265),\n",
      "            (1, 266)],\n",
      "           names=['section', 'ix'])) found for note index (197, 1, 259) and duration 1/4. Returning the first one.\n",
      "  warnings.warn(f\"Multiple matching tied notes ({matching_notes.index}) found for note index \"\n",
      "/mnt/c/Users/apmcl/Documents/GitHub/harmonic-inference/corpus_utils.py:134: UserWarning: Multiple matching tied notes (MultiIndex([(1, 265),\n",
      "            (1, 266)],\n",
      "           names=['section', 'ix'])) found for note index (197, 1, 260) and duration 1/4. Returning the first one.\n",
      "  warnings.warn(f\"Multiple matching tied notes ({matching_notes.index}) found for note index \"\n"
     ]
    },
    {
     "name": "stdout",
     "output_type": "stream",
     "text": [
      "Index 198 / 696\n"
     ]
    },
    {
     "name": "stderr",
     "output_type": "stream",
     "text": [
      "/mnt/c/Users/apmcl/Documents/GitHub/harmonic-inference/corpus_utils.py:134: UserWarning: Multiple matching tied notes (MultiIndex([(0, 154),\n",
      "            (0, 155)],\n",
      "           names=['section', 'ix'])) found for note index (198, 0, 150) and duration 1/4. Returning the first one.\n",
      "  warnings.warn(f\"Multiple matching tied notes ({matching_notes.index}) found for note index \"\n",
      "/mnt/c/Users/apmcl/Documents/GitHub/harmonic-inference/corpus_utils.py:134: UserWarning: Multiple matching tied notes (MultiIndex([(0, 154),\n",
      "            (0, 155)],\n",
      "           names=['section', 'ix'])) found for note index (198, 0, 151) and duration 1/4. Returning the first one.\n",
      "  warnings.warn(f\"Multiple matching tied notes ({matching_notes.index}) found for note index \"\n",
      "/mnt/c/Users/apmcl/Documents/GitHub/harmonic-inference/corpus_utils.py:134: UserWarning: Multiple matching tied notes (MultiIndex([(0, 513),\n",
      "            (0, 514)],\n",
      "           names=['section', 'ix'])) found for note index (198, 0, 509) and duration 1/4. Returning the first one.\n",
      "  warnings.warn(f\"Multiple matching tied notes ({matching_notes.index}) found for note index \"\n",
      "/mnt/c/Users/apmcl/Documents/GitHub/harmonic-inference/corpus_utils.py:134: UserWarning: Multiple matching tied notes (MultiIndex([(0, 513),\n",
      "            (0, 514)],\n",
      "           names=['section', 'ix'])) found for note index (198, 0, 510) and duration 1/4. Returning the first one.\n",
      "  warnings.warn(f\"Multiple matching tied notes ({matching_notes.index}) found for note index \"\n",
      "/mnt/c/Users/apmcl/Documents/GitHub/harmonic-inference/corpus_utils.py:134: UserWarning: Multiple matching tied notes (MultiIndex([(0, 550),\n",
      "            (0, 551)],\n",
      "           names=['section', 'ix'])) found for note index (198, 0, 542) and duration 1/4. Returning the first one.\n",
      "  warnings.warn(f\"Multiple matching tied notes ({matching_notes.index}) found for note index \"\n",
      "/mnt/c/Users/apmcl/Documents/GitHub/harmonic-inference/corpus_utils.py:134: UserWarning: Multiple matching tied notes (MultiIndex([(0, 550),\n",
      "            (0, 551)],\n",
      "           names=['section', 'ix'])) found for note index (198, 0, 543) and duration 1/4. Returning the first one.\n",
      "  warnings.warn(f\"Multiple matching tied notes ({matching_notes.index}) found for note index \"\n"
     ]
    },
    {
     "name": "stdout",
     "output_type": "stream",
     "text": [
      "Index 199 / 696\n",
      "Index 200 / 696\n"
     ]
    },
    {
     "name": "stderr",
     "output_type": "stream",
     "text": [
      "/mnt/c/Users/apmcl/Documents/GitHub/harmonic-inference/corpus_utils.py:134: UserWarning: Multiple matching tied notes (MultiIndex([(0, 391),\n",
      "            (0, 392)],\n",
      "           names=['section', 'ix'])) found for note index (200, 0, 387) and duration 1/4. Returning the first one.\n",
      "  warnings.warn(f\"Multiple matching tied notes ({matching_notes.index}) found for note index \"\n",
      "/mnt/c/Users/apmcl/Documents/GitHub/harmonic-inference/corpus_utils.py:134: UserWarning: Multiple matching tied notes (MultiIndex([(0, 391),\n",
      "            (0, 392)],\n",
      "           names=['section', 'ix'])) found for note index (200, 0, 388) and duration 1/4. Returning the first one.\n",
      "  warnings.warn(f\"Multiple matching tied notes ({matching_notes.index}) found for note index \"\n"
     ]
    },
    {
     "name": "stdout",
     "output_type": "stream",
     "text": [
      "Index 201 / 696\n"
     ]
    },
    {
     "name": "stderr",
     "output_type": "stream",
     "text": [
      "/mnt/c/Users/apmcl/Documents/GitHub/harmonic-inference/corpus_utils.py:134: UserWarning: Multiple matching tied notes (MultiIndex([(0, 179),\n",
      "            (0, 180)],\n",
      "           names=['section', 'ix'])) found for note index (201, 0, 176) and duration 1/2. Returning the first one.\n",
      "  warnings.warn(f\"Multiple matching tied notes ({matching_notes.index}) found for note index \"\n",
      "/mnt/c/Users/apmcl/Documents/GitHub/harmonic-inference/corpus_utils.py:134: UserWarning: Multiple matching tied notes (MultiIndex([(0, 179),\n",
      "            (0, 180)],\n",
      "           names=['section', 'ix'])) found for note index (201, 0, 177) and duration 1/2. Returning the first one.\n",
      "  warnings.warn(f\"Multiple matching tied notes ({matching_notes.index}) found for note index \"\n",
      "/mnt/c/Users/apmcl/Documents/GitHub/harmonic-inference/corpus_utils.py:134: UserWarning: Multiple matching tied notes (MultiIndex([(0, 336),\n",
      "            (0, 337)],\n",
      "           names=['section', 'ix'])) found for note index (201, 0, 332) and duration 1/2. Returning the first one.\n",
      "  warnings.warn(f\"Multiple matching tied notes ({matching_notes.index}) found for note index \"\n",
      "/mnt/c/Users/apmcl/Documents/GitHub/harmonic-inference/corpus_utils.py:134: UserWarning: Multiple matching tied notes (MultiIndex([(0, 336),\n",
      "            (0, 337)],\n",
      "           names=['section', 'ix'])) found for note index (201, 0, 333) and duration 1/2. Returning the first one.\n",
      "  warnings.warn(f\"Multiple matching tied notes ({matching_notes.index}) found for note index \"\n"
     ]
    },
    {
     "name": "stdout",
     "output_type": "stream",
     "text": [
      "Index 202 / 696\n"
     ]
    },
    {
     "name": "stderr",
     "output_type": "stream",
     "text": [
      "/mnt/c/Users/apmcl/Documents/GitHub/harmonic-inference/corpus_utils.py:134: UserWarning: Multiple matching tied notes (MultiIndex([(0, 230),\n",
      "            (0, 231)],\n",
      "           names=['section', 'ix'])) found for note index (202, 0, 203) and duration 3/2. Returning the first one.\n",
      "  warnings.warn(f\"Multiple matching tied notes ({matching_notes.index}) found for note index \"\n",
      "/mnt/c/Users/apmcl/Documents/GitHub/harmonic-inference/corpus_utils.py:134: UserWarning: Multiple matching tied notes (MultiIndex([(0, 230),\n",
      "            (0, 231)],\n",
      "           names=['section', 'ix'])) found for note index (202, 0, 216) and duration 3/4. Returning the first one.\n",
      "  warnings.warn(f\"Multiple matching tied notes ({matching_notes.index}) found for note index \"\n"
     ]
    },
    {
     "name": "stdout",
     "output_type": "stream",
     "text": [
      "Index 203 / 696\n"
     ]
    },
    {
     "name": "stderr",
     "output_type": "stream",
     "text": [
      "/mnt/c/Users/apmcl/Documents/GitHub/harmonic-inference/corpus_utils.py:134: UserWarning: Multiple matching tied notes (MultiIndex([(0, 14),\n",
      "            (0, 15)],\n",
      "           names=['section', 'ix'])) found for note index (203, 0, 8) and duration 1/2. Returning the first one.\n",
      "  warnings.warn(f\"Multiple matching tied notes ({matching_notes.index}) found for note index \"\n",
      "/mnt/c/Users/apmcl/Documents/GitHub/harmonic-inference/corpus_utils.py:134: UserWarning: Multiple matching tied notes (MultiIndex([(0, 14),\n",
      "            (0, 15)],\n",
      "           names=['section', 'ix'])) found for note index (203, 0, 9) and duration 1/2. Returning the first one.\n",
      "  warnings.warn(f\"Multiple matching tied notes ({matching_notes.index}) found for note index \"\n"
     ]
    },
    {
     "name": "stdout",
     "output_type": "stream",
     "text": [
      "Index 204 / 696\n"
     ]
    },
    {
     "name": "stderr",
     "output_type": "stream",
     "text": [
      "/mnt/c/Users/apmcl/Documents/GitHub/harmonic-inference/corpus_utils.py:134: UserWarning: Multiple matching tied notes (MultiIndex([(0, 319),\n",
      "            (0, 320)],\n",
      "           names=['section', 'ix'])) found for note index (204, 0, 315) and duration 1/4. Returning the first one.\n",
      "  warnings.warn(f\"Multiple matching tied notes ({matching_notes.index}) found for note index \"\n",
      "/mnt/c/Users/apmcl/Documents/GitHub/harmonic-inference/corpus_utils.py:134: UserWarning: Multiple matching tied notes (MultiIndex([(0, 319),\n",
      "            (0, 320)],\n",
      "           names=['section', 'ix'])) found for note index (204, 0, 316) and duration 1/4. Returning the first one.\n",
      "  warnings.warn(f\"Multiple matching tied notes ({matching_notes.index}) found for note index \"\n"
     ]
    },
    {
     "name": "stdout",
     "output_type": "stream",
     "text": [
      "Index 205 / 696\n",
      "Index 206 / 696\n"
     ]
    },
    {
     "name": "stderr",
     "output_type": "stream",
     "text": [
      "/mnt/c/Users/apmcl/Documents/GitHub/harmonic-inference/corpus_utils.py:134: UserWarning: Multiple matching tied notes (MultiIndex([(0, 43),\n",
      "            (0, 44)],\n",
      "           names=['section', 'ix'])) found for note index (206, 0, 35) and duration 1/2. Returning the first one.\n",
      "  warnings.warn(f\"Multiple matching tied notes ({matching_notes.index}) found for note index \"\n",
      "/mnt/c/Users/apmcl/Documents/GitHub/harmonic-inference/corpus_utils.py:134: UserWarning: Multiple matching tied notes (MultiIndex([(0, 43),\n",
      "            (0, 44)],\n",
      "           names=['section', 'ix'])) found for note index (206, 0, 36) and duration 1/2. Returning the first one.\n",
      "  warnings.warn(f\"Multiple matching tied notes ({matching_notes.index}) found for note index \"\n",
      "/mnt/c/Users/apmcl/Documents/GitHub/harmonic-inference/corpus_utils.py:134: UserWarning: Multiple matching tied notes (MultiIndex([(0, 254),\n",
      "            (0, 255)],\n",
      "           names=['section', 'ix'])) found for note index (206, 0, 250) and duration 1/4. Returning the first one.\n",
      "  warnings.warn(f\"Multiple matching tied notes ({matching_notes.index}) found for note index \"\n",
      "/mnt/c/Users/apmcl/Documents/GitHub/harmonic-inference/corpus_utils.py:134: UserWarning: Multiple matching tied notes (MultiIndex([(0, 254),\n",
      "            (0, 255)],\n",
      "           names=['section', 'ix'])) found for note index (206, 0, 251) and duration 1/4. Returning the first one.\n",
      "  warnings.warn(f\"Multiple matching tied notes ({matching_notes.index}) found for note index \"\n"
     ]
    },
    {
     "name": "stdout",
     "output_type": "stream",
     "text": [
      "Index 207 / 696\n"
     ]
    },
    {
     "name": "stderr",
     "output_type": "stream",
     "text": [
      "/mnt/c/Users/apmcl/Documents/GitHub/harmonic-inference/corpus_utils.py:134: UserWarning: Multiple matching tied notes (MultiIndex([(0, 18),\n",
      "            (0, 19)],\n",
      "           names=['section', 'ix'])) found for note index (207, 0, 12) and duration 1/4. Returning the first one.\n",
      "  warnings.warn(f\"Multiple matching tied notes ({matching_notes.index}) found for note index \"\n",
      "/mnt/c/Users/apmcl/Documents/GitHub/harmonic-inference/corpus_utils.py:134: UserWarning: Multiple matching tied notes (MultiIndex([(0, 18),\n",
      "            (0, 19)],\n",
      "           names=['section', 'ix'])) found for note index (207, 0, 13) and duration 1/4. Returning the first one.\n",
      "  warnings.warn(f\"Multiple matching tied notes ({matching_notes.index}) found for note index \"\n",
      "/mnt/c/Users/apmcl/Documents/GitHub/harmonic-inference/corpus_utils.py:134: UserWarning: Multiple matching tied notes (MultiIndex([(0, 36),\n",
      "            (0, 37)],\n",
      "           names=['section', 'ix'])) found for note index (207, 0, 30) and duration 1/4. Returning the first one.\n",
      "  warnings.warn(f\"Multiple matching tied notes ({matching_notes.index}) found for note index \"\n",
      "/mnt/c/Users/apmcl/Documents/GitHub/harmonic-inference/corpus_utils.py:134: UserWarning: Multiple matching tied notes (MultiIndex([(0, 36),\n",
      "            (0, 37)],\n",
      "           names=['section', 'ix'])) found for note index (207, 0, 31) and duration 1/4. Returning the first one.\n",
      "  warnings.warn(f\"Multiple matching tied notes ({matching_notes.index}) found for note index \"\n"
     ]
    },
    {
     "name": "stdout",
     "output_type": "stream",
     "text": [
      "Index 208 / 696\n"
     ]
    },
    {
     "name": "stderr",
     "output_type": "stream",
     "text": [
      "/mnt/c/Users/apmcl/Documents/GitHub/harmonic-inference/corpus_utils.py:134: UserWarning: Multiple matching tied notes (MultiIndex([(1, 192),\n",
      "            (1, 193)],\n",
      "           names=['section', 'ix'])) found for note index (208, 1, 184) and duration 3/4. Returning the first one.\n",
      "  warnings.warn(f\"Multiple matching tied notes ({matching_notes.index}) found for note index \"\n",
      "/mnt/c/Users/apmcl/Documents/GitHub/harmonic-inference/corpus_utils.py:134: UserWarning: Multiple matching tied notes (MultiIndex([(1, 200),\n",
      "            (1, 201)],\n",
      "           names=['section', 'ix'])) found for note index (208, 1, 184) and duration 3/2. Returning the first one.\n",
      "  warnings.warn(f\"Multiple matching tied notes ({matching_notes.index}) found for note index \"\n",
      "/mnt/c/Users/apmcl/Documents/GitHub/harmonic-inference/corpus_utils.py:134: UserWarning: Multiple matching tied notes (MultiIndex([(1, 192),\n",
      "            (1, 193)],\n",
      "           names=['section', 'ix'])) found for note index (208, 1, 185) and duration 3/4. Returning the first one.\n",
      "  warnings.warn(f\"Multiple matching tied notes ({matching_notes.index}) found for note index \"\n",
      "/mnt/c/Users/apmcl/Documents/GitHub/harmonic-inference/corpus_utils.py:134: UserWarning: Multiple matching tied notes (MultiIndex([(1, 200),\n",
      "            (1, 201)],\n",
      "           names=['section', 'ix'])) found for note index (208, 1, 185) and duration 3/2. Returning the first one.\n",
      "  warnings.warn(f\"Multiple matching tied notes ({matching_notes.index}) found for note index \"\n",
      "/mnt/c/Users/apmcl/Documents/GitHub/harmonic-inference/corpus_utils.py:134: UserWarning: Multiple matching tied notes (MultiIndex([(1, 230),\n",
      "            (1, 231)],\n",
      "           names=['section', 'ix'])) found for note index (208, 1, 222) and duration 3/4. Returning the first one.\n",
      "  warnings.warn(f\"Multiple matching tied notes ({matching_notes.index}) found for note index \"\n",
      "/mnt/c/Users/apmcl/Documents/GitHub/harmonic-inference/corpus_utils.py:134: UserWarning: Multiple matching tied notes (MultiIndex([(1, 238),\n",
      "            (1, 239)],\n",
      "           names=['section', 'ix'])) found for note index (208, 1, 222) and duration 3/2. Returning the first one.\n",
      "  warnings.warn(f\"Multiple matching tied notes ({matching_notes.index}) found for note index \"\n",
      "/mnt/c/Users/apmcl/Documents/GitHub/harmonic-inference/corpus_utils.py:134: UserWarning: Multiple matching tied notes (MultiIndex([(1, 230),\n",
      "            (1, 231)],\n",
      "           names=['section', 'ix'])) found for note index (208, 1, 223) and duration 3/4. Returning the first one.\n",
      "  warnings.warn(f\"Multiple matching tied notes ({matching_notes.index}) found for note index \"\n",
      "/mnt/c/Users/apmcl/Documents/GitHub/harmonic-inference/corpus_utils.py:134: UserWarning: Multiple matching tied notes (MultiIndex([(1, 238),\n",
      "            (1, 239)],\n",
      "           names=['section', 'ix'])) found for note index (208, 1, 223) and duration 3/2. Returning the first one.\n",
      "  warnings.warn(f\"Multiple matching tied notes ({matching_notes.index}) found for note index \"\n"
     ]
    },
    {
     "name": "stdout",
     "output_type": "stream",
     "text": [
      "Index 209 / 696\n",
      "Index 210 / 696\n",
      "Index 211 / 696\n",
      "Index 212 / 696\n",
      "Index 214 / 696\n"
     ]
    },
    {
     "name": "stderr",
     "output_type": "stream",
     "text": [
      "/mnt/c/Users/apmcl/Documents/GitHub/harmonic-inference/corpus_utils.py:134: UserWarning: Multiple matching tied notes (MultiIndex([(0, 18),\n",
      "            (0, 19)],\n",
      "           names=['section', 'ix'])) found for note index (214, 0, 16) and duration 1/4. Returning the first one.\n",
      "  warnings.warn(f\"Multiple matching tied notes ({matching_notes.index}) found for note index \"\n",
      "/mnt/c/Users/apmcl/Documents/GitHub/harmonic-inference/corpus_utils.py:134: UserWarning: Multiple matching tied notes (MultiIndex([(0, 18),\n",
      "            (0, 19)],\n",
      "           names=['section', 'ix'])) found for note index (214, 0, 17) and duration 1/4. Returning the first one.\n",
      "  warnings.warn(f\"Multiple matching tied notes ({matching_notes.index}) found for note index \"\n",
      "/mnt/c/Users/apmcl/Documents/GitHub/harmonic-inference/corpus_utils.py:134: UserWarning: Multiple matching tied notes (MultiIndex([(0, 139),\n",
      "            (0, 140)],\n",
      "           names=['section', 'ix'])) found for note index (214, 0, 136) and duration 1/4. Returning the first one.\n",
      "  warnings.warn(f\"Multiple matching tied notes ({matching_notes.index}) found for note index \"\n",
      "/mnt/c/Users/apmcl/Documents/GitHub/harmonic-inference/corpus_utils.py:134: UserWarning: Multiple matching tied notes (MultiIndex([(0, 139),\n",
      "            (0, 140)],\n",
      "           names=['section', 'ix'])) found for note index (214, 0, 137) and duration 1/4. Returning the first one.\n",
      "  warnings.warn(f\"Multiple matching tied notes ({matching_notes.index}) found for note index \"\n",
      "/mnt/c/Users/apmcl/Documents/GitHub/harmonic-inference/corpus_utils.py:134: UserWarning: Multiple matching tied notes (MultiIndex([(0, 154),\n",
      "            (0, 155)],\n",
      "           names=['section', 'ix'])) found for note index (214, 0, 150) and duration 1/2. Returning the first one.\n",
      "  warnings.warn(f\"Multiple matching tied notes ({matching_notes.index}) found for note index \"\n",
      "/mnt/c/Users/apmcl/Documents/GitHub/harmonic-inference/corpus_utils.py:134: UserWarning: Multiple matching tied notes (MultiIndex([(0, 154),\n",
      "            (0, 155)],\n",
      "           names=['section', 'ix'])) found for note index (214, 0, 151) and duration 1/2. Returning the first one.\n",
      "  warnings.warn(f\"Multiple matching tied notes ({matching_notes.index}) found for note index \"\n",
      "/mnt/c/Users/apmcl/Documents/GitHub/harmonic-inference/corpus_utils.py:134: UserWarning: Multiple matching tied notes (MultiIndex([(0, 169),\n",
      "            (0, 170)],\n",
      "           names=['section', 'ix'])) found for note index (214, 0, 165) and duration 1/2. Returning the first one.\n",
      "  warnings.warn(f\"Multiple matching tied notes ({matching_notes.index}) found for note index \"\n",
      "/mnt/c/Users/apmcl/Documents/GitHub/harmonic-inference/corpus_utils.py:134: UserWarning: Multiple matching tied notes (MultiIndex([(0, 169),\n",
      "            (0, 170)],\n",
      "           names=['section', 'ix'])) found for note index (214, 0, 166) and duration 1/2. Returning the first one.\n",
      "  warnings.warn(f\"Multiple matching tied notes ({matching_notes.index}) found for note index \"\n"
     ]
    },
    {
     "name": "stdout",
     "output_type": "stream",
     "text": [
      "Index 216 / 696\n"
     ]
    },
    {
     "name": "stderr",
     "output_type": "stream",
     "text": [
      "/mnt/c/Users/apmcl/Documents/GitHub/harmonic-inference/corpus_utils.py:134: UserWarning: Multiple matching tied notes (MultiIndex([(0, 81),\n",
      "            (0, 82)],\n",
      "           names=['section', 'ix'])) found for note index (216, 0, 74) and duration 1/2. Returning the first one.\n",
      "  warnings.warn(f\"Multiple matching tied notes ({matching_notes.index}) found for note index \"\n",
      "/mnt/c/Users/apmcl/Documents/GitHub/harmonic-inference/corpus_utils.py:134: UserWarning: Multiple matching tied notes (MultiIndex([(0, 81),\n",
      "            (0, 82)],\n",
      "           names=['section', 'ix'])) found for note index (216, 0, 75) and duration 1/2. Returning the first one.\n",
      "  warnings.warn(f\"Multiple matching tied notes ({matching_notes.index}) found for note index \"\n",
      "/mnt/c/Users/apmcl/Documents/GitHub/harmonic-inference/corpus_utils.py:134: UserWarning: Multiple matching tied notes (MultiIndex([(0, 94),\n",
      "            (0, 95)],\n",
      "           names=['section', 'ix'])) found for note index (216, 0, 86) and duration 1/2. Returning the first one.\n",
      "  warnings.warn(f\"Multiple matching tied notes ({matching_notes.index}) found for note index \"\n",
      "/mnt/c/Users/apmcl/Documents/GitHub/harmonic-inference/corpus_utils.py:134: UserWarning: Multiple matching tied notes (MultiIndex([(0, 94),\n",
      "            (0, 95)],\n",
      "           names=['section', 'ix'])) found for note index (216, 0, 87) and duration 1/2. Returning the first one.\n",
      "  warnings.warn(f\"Multiple matching tied notes ({matching_notes.index}) found for note index \"\n",
      "/mnt/c/Users/apmcl/Documents/GitHub/harmonic-inference/corpus_utils.py:134: UserWarning: Multiple matching tied notes (MultiIndex([(0, 568),\n",
      "            (0, 569)],\n",
      "           names=['section', 'ix'])) found for note index (216, 0, 560) and duration 1/2. Returning the first one.\n",
      "  warnings.warn(f\"Multiple matching tied notes ({matching_notes.index}) found for note index \"\n",
      "/mnt/c/Users/apmcl/Documents/GitHub/harmonic-inference/corpus_utils.py:134: UserWarning: Multiple matching tied notes (MultiIndex([(0, 568),\n",
      "            (0, 569)],\n",
      "           names=['section', 'ix'])) found for note index (216, 0, 561) and duration 1/2. Returning the first one.\n",
      "  warnings.warn(f\"Multiple matching tied notes ({matching_notes.index}) found for note index \"\n"
     ]
    },
    {
     "name": "stdout",
     "output_type": "stream",
     "text": [
      "Index 217 / 696\n",
      "Index 218 / 696\n"
     ]
    },
    {
     "name": "stderr",
     "output_type": "stream",
     "text": [
      "/mnt/c/Users/apmcl/Documents/GitHub/harmonic-inference/corpus_utils.py:134: UserWarning: Multiple matching tied notes (MultiIndex([(0, 62),\n",
      "            (0, 63)],\n",
      "           names=['section', 'ix'])) found for note index (218, 0, 58) and duration 1/4. Returning the first one.\n",
      "  warnings.warn(f\"Multiple matching tied notes ({matching_notes.index}) found for note index \"\n",
      "/mnt/c/Users/apmcl/Documents/GitHub/harmonic-inference/corpus_utils.py:134: UserWarning: Multiple matching tied notes (MultiIndex([(0, 62),\n",
      "            (0, 63)],\n",
      "           names=['section', 'ix'])) found for note index (218, 0, 59) and duration 1/4. Returning the first one.\n",
      "  warnings.warn(f\"Multiple matching tied notes ({matching_notes.index}) found for note index \"\n",
      "/mnt/c/Users/apmcl/Documents/GitHub/harmonic-inference/corpus_utils.py:134: UserWarning: Multiple matching tied notes (MultiIndex([(0, 105),\n",
      "            (0, 106)],\n",
      "           names=['section', 'ix'])) found for note index (218, 0, 102) and duration 1/4. Returning the first one.\n",
      "  warnings.warn(f\"Multiple matching tied notes ({matching_notes.index}) found for note index \"\n",
      "/mnt/c/Users/apmcl/Documents/GitHub/harmonic-inference/corpus_utils.py:134: UserWarning: Multiple matching tied notes (MultiIndex([(0, 105),\n",
      "            (0, 106)],\n",
      "           names=['section', 'ix'])) found for note index (218, 0, 103) and duration 1/4. Returning the first one.\n",
      "  warnings.warn(f\"Multiple matching tied notes ({matching_notes.index}) found for note index \"\n"
     ]
    },
    {
     "name": "stdout",
     "output_type": "stream",
     "text": [
      "Index 219 / 696\n"
     ]
    },
    {
     "name": "stderr",
     "output_type": "stream",
     "text": [
      "/mnt/c/Users/apmcl/Documents/GitHub/harmonic-inference/corpus_utils.py:134: UserWarning: Multiple matching tied notes (MultiIndex([(0, 16),\n",
      "            (0, 17)],\n",
      "           names=['section', 'ix'])) found for note index (219, 0, 12) and duration 1/4. Returning the first one.\n",
      "  warnings.warn(f\"Multiple matching tied notes ({matching_notes.index}) found for note index \"\n",
      "/mnt/c/Users/apmcl/Documents/GitHub/harmonic-inference/corpus_utils.py:134: UserWarning: Multiple matching tied notes (MultiIndex([(0, 16),\n",
      "            (0, 17)],\n",
      "           names=['section', 'ix'])) found for note index (219, 0, 13) and duration 1/4. Returning the first one.\n",
      "  warnings.warn(f\"Multiple matching tied notes ({matching_notes.index}) found for note index \"\n",
      "/mnt/c/Users/apmcl/Documents/GitHub/harmonic-inference/corpus_utils.py:134: UserWarning: Multiple matching tied notes (MultiIndex([(0, 42),\n",
      "            (0, 43)],\n",
      "           names=['section', 'ix'])) found for note index (219, 0, 38) and duration 1/4. Returning the first one.\n",
      "  warnings.warn(f\"Multiple matching tied notes ({matching_notes.index}) found for note index \"\n",
      "/mnt/c/Users/apmcl/Documents/GitHub/harmonic-inference/corpus_utils.py:134: UserWarning: Multiple matching tied notes (MultiIndex([(0, 42),\n",
      "            (0, 43)],\n",
      "           names=['section', 'ix'])) found for note index (219, 0, 39) and duration 1/4. Returning the first one.\n",
      "  warnings.warn(f\"Multiple matching tied notes ({matching_notes.index}) found for note index \"\n"
     ]
    },
    {
     "name": "stdout",
     "output_type": "stream",
     "text": [
      "Index 220 / 696\n"
     ]
    },
    {
     "name": "stderr",
     "output_type": "stream",
     "text": [
      "/mnt/c/Users/apmcl/Documents/GitHub/harmonic-inference/corpus_utils.py:134: UserWarning: Multiple matching tied notes (MultiIndex([(0, 94),\n",
      "            (0, 95)],\n",
      "           names=['section', 'ix'])) found for note index (220, 0, 90) and duration 1/4. Returning the first one.\n",
      "  warnings.warn(f\"Multiple matching tied notes ({matching_notes.index}) found for note index \"\n",
      "/mnt/c/Users/apmcl/Documents/GitHub/harmonic-inference/corpus_utils.py:134: UserWarning: Multiple matching tied notes (MultiIndex([(0, 94),\n",
      "            (0, 95)],\n",
      "           names=['section', 'ix'])) found for note index (220, 0, 91) and duration 1/4. Returning the first one.\n",
      "  warnings.warn(f\"Multiple matching tied notes ({matching_notes.index}) found for note index \"\n",
      "/mnt/c/Users/apmcl/Documents/GitHub/harmonic-inference/corpus_utils.py:134: UserWarning: Multiple matching tied notes (MultiIndex([(0, 112),\n",
      "            (0, 113)],\n",
      "           names=['section', 'ix'])) found for note index (220, 0, 108) and duration 1/4. Returning the first one.\n",
      "  warnings.warn(f\"Multiple matching tied notes ({matching_notes.index}) found for note index \"\n",
      "/mnt/c/Users/apmcl/Documents/GitHub/harmonic-inference/corpus_utils.py:134: UserWarning: Multiple matching tied notes (MultiIndex([(0, 112),\n",
      "            (0, 113)],\n",
      "           names=['section', 'ix'])) found for note index (220, 0, 109) and duration 1/4. Returning the first one.\n",
      "  warnings.warn(f\"Multiple matching tied notes ({matching_notes.index}) found for note index \"\n"
     ]
    },
    {
     "name": "stdout",
     "output_type": "stream",
     "text": [
      "Index 221 / 696\n",
      "Index 222 / 696\n",
      "Index 223 / 696\n",
      "Index 224 / 696\n",
      "Index 225 / 696\n",
      "Index 226 / 696\n",
      "Index 227 / 696\n",
      "Index 228 / 696\n"
     ]
    },
    {
     "name": "stderr",
     "output_type": "stream",
     "text": [
      "/mnt/c/Users/apmcl/Documents/GitHub/harmonic-inference/corpus_utils.py:128: UserWarning: No matching tied note (MultiIndex([], names=['section', 'ix'])) found for note index (228, 0, 46) and duration 1/24. Returning the first one.\n",
      "  warnings.warn(f\"No matching tied note ({matching_notes.index}) found for note index \"\n",
      "/mnt/c/Users/apmcl/Documents/GitHub/harmonic-inference/corpus_utils.py:128: UserWarning: No matching tied note (MultiIndex([], names=['section', 'ix'])) found for note index (228, 0, 49) and duration 1/6. Returning the first one.\n",
      "  warnings.warn(f\"No matching tied note ({matching_notes.index}) found for note index \"\n",
      "/mnt/c/Users/apmcl/Documents/GitHub/harmonic-inference/corpus_utils.py:128: UserWarning: No matching tied note (MultiIndex([], names=['section', 'ix'])) found for note index (228, 0, 50) and duration 1/8. Returning the first one.\n",
      "  warnings.warn(f\"No matching tied note ({matching_notes.index}) found for note index \"\n",
      "/mnt/c/Users/apmcl/Documents/GitHub/harmonic-inference/corpus_utils.py:128: UserWarning: No matching tied note (MultiIndex([], names=['section', 'ix'])) found for note index (228, 0, 381) and duration 3/16. Returning the first one.\n",
      "  warnings.warn(f\"No matching tied note ({matching_notes.index}) found for note index \"\n"
     ]
    },
    {
     "name": "stdout",
     "output_type": "stream",
     "text": [
      "Index 229 / 696\n"
     ]
    },
    {
     "name": "stderr",
     "output_type": "stream",
     "text": [
      "/mnt/c/Users/apmcl/Documents/GitHub/harmonic-inference/corpus_utils.py:128: UserWarning: No matching tied note (MultiIndex([], names=['section', 'ix'])) found for note index (229, 0, 407) and duration 3/8. Returning the first one.\n",
      "  warnings.warn(f\"No matching tied note ({matching_notes.index}) found for note index \"\n"
     ]
    },
    {
     "name": "stdout",
     "output_type": "stream",
     "text": [
      "Index 230 / 696\n"
     ]
    },
    {
     "name": "stderr",
     "output_type": "stream",
     "text": [
      "/mnt/c/Users/apmcl/Documents/GitHub/harmonic-inference/corpus_utils.py:128: UserWarning: No matching tied note (MultiIndex([], names=['section', 'ix'])) found for note index (230, 0, 199) and duration 1/8. Returning the first one.\n",
      "  warnings.warn(f\"No matching tied note ({matching_notes.index}) found for note index \"\n",
      "/mnt/c/Users/apmcl/Documents/GitHub/harmonic-inference/corpus_utils.py:128: UserWarning: No matching tied note (MultiIndex([], names=['section', 'ix'])) found for note index (230, 0, 200) and duration 1/16. Returning the first one.\n",
      "  warnings.warn(f\"No matching tied note ({matching_notes.index}) found for note index \"\n"
     ]
    },
    {
     "name": "stdout",
     "output_type": "stream",
     "text": [
      "Index 231 / 696\n",
      "Index 232 / 696\n",
      "Index 233 / 696\n"
     ]
    },
    {
     "name": "stderr",
     "output_type": "stream",
     "text": [
      "/mnt/c/Users/apmcl/Documents/GitHub/harmonic-inference/corpus_utils.py:128: UserWarning: No matching tied note (MultiIndex([], names=['section', 'ix'])) found for note index (233, 0, 1605) and duration 1/8. Returning the first one.\n",
      "  warnings.warn(f\"No matching tied note ({matching_notes.index}) found for note index \"\n"
     ]
    },
    {
     "name": "stdout",
     "output_type": "stream",
     "text": [
      "Index 234 / 696\n",
      "Index 235 / 696\n",
      "Index 236 / 696\n",
      "Index 237 / 696\n",
      "Index 238 / 696\n"
     ]
    },
    {
     "name": "stderr",
     "output_type": "stream",
     "text": [
      "/mnt/c/Users/apmcl/Documents/GitHub/harmonic-inference/corpus_utils.py:128: UserWarning: No matching tied note (MultiIndex([], names=['section', 'ix'])) found for note index (238, 0, 197) and duration 1/8. Returning the first one.\n",
      "  warnings.warn(f\"No matching tied note ({matching_notes.index}) found for note index \"\n",
      "/mnt/c/Users/apmcl/Documents/GitHub/harmonic-inference/corpus_utils.py:128: UserWarning: No matching tied note (MultiIndex([], names=['section', 'ix'])) found for note index (238, 0, 653) and duration 1/8. Returning the first one.\n",
      "  warnings.warn(f\"No matching tied note ({matching_notes.index}) found for note index \"\n",
      "/mnt/c/Users/apmcl/Documents/GitHub/harmonic-inference/corpus_utils.py:128: UserWarning: No matching tied note (MultiIndex([], names=['section', 'ix'])) found for note index (238, 0, 655) and duration 1/8. Returning the first one.\n",
      "  warnings.warn(f\"No matching tied note ({matching_notes.index}) found for note index \"\n",
      "/mnt/c/Users/apmcl/Documents/GitHub/harmonic-inference/corpus_utils.py:128: UserWarning: No matching tied note (MultiIndex([], names=['section', 'ix'])) found for note index (238, 0, 656) and duration 1/8. Returning the first one.\n",
      "  warnings.warn(f\"No matching tied note ({matching_notes.index}) found for note index \"\n"
     ]
    },
    {
     "name": "stdout",
     "output_type": "stream",
     "text": [
      "Index 240 / 696\n",
      "Index 241 / 696\n"
     ]
    },
    {
     "name": "stderr",
     "output_type": "stream",
     "text": [
      "/mnt/c/Users/apmcl/Documents/GitHub/harmonic-inference/corpus_utils.py:128: UserWarning: No matching tied note (MultiIndex([], names=['section', 'ix'])) found for note index (241, 0, 523) and duration 3/8. Returning the first one.\n",
      "  warnings.warn(f\"No matching tied note ({matching_notes.index}) found for note index \"\n",
      "/mnt/c/Users/apmcl/Documents/GitHub/harmonic-inference/corpus_utils.py:128: UserWarning: No matching tied note (MultiIndex([], names=['section', 'ix'])) found for note index (241, 0, 833) and duration 1/8. Returning the first one.\n",
      "  warnings.warn(f\"No matching tied note ({matching_notes.index}) found for note index \"\n",
      "/mnt/c/Users/apmcl/Documents/GitHub/harmonic-inference/corpus_utils.py:128: UserWarning: No matching tied note (MultiIndex([], names=['section', 'ix'])) found for note index (241, 0, 834) and duration 1/8. Returning the first one.\n",
      "  warnings.warn(f\"No matching tied note ({matching_notes.index}) found for note index \"\n"
     ]
    },
    {
     "name": "stdout",
     "output_type": "stream",
     "text": [
      "Index 242 / 696\n",
      "Index 245 / 696\n",
      "Index 246 / 696\n"
     ]
    },
    {
     "name": "stderr",
     "output_type": "stream",
     "text": [
      "/mnt/c/Users/apmcl/Documents/GitHub/harmonic-inference/corpus_utils.py:128: UserWarning: No matching tied note (MultiIndex([], names=['section', 'ix'])) found for note index (246, 0, 368) and duration 1/8. Returning the first one.\n",
      "  warnings.warn(f\"No matching tied note ({matching_notes.index}) found for note index \"\n"
     ]
    },
    {
     "name": "stdout",
     "output_type": "stream",
     "text": [
      "Index 248 / 696\n",
      "Index 249 / 696\n",
      "Index 250 / 696\n"
     ]
    },
    {
     "name": "stderr",
     "output_type": "stream",
     "text": [
      "/mnt/c/Users/apmcl/Documents/GitHub/harmonic-inference/corpus_utils.py:134: UserWarning: Multiple matching tied notes (MultiIndex([(0, 413),\n",
      "            (0, 414)],\n",
      "           names=['section', 'ix'])) found for note index (250, 0, 397) and duration 1/2. Returning the first one.\n",
      "  warnings.warn(f\"Multiple matching tied notes ({matching_notes.index}) found for note index \"\n",
      "/mnt/c/Users/apmcl/Documents/GitHub/harmonic-inference/corpus_utils.py:134: UserWarning: Multiple matching tied notes (MultiIndex([(0, 413),\n",
      "            (0, 414)],\n",
      "           names=['section', 'ix'])) found for note index (250, 0, 404) and duration 1/4. Returning the first one.\n",
      "  warnings.warn(f\"Multiple matching tied notes ({matching_notes.index}) found for note index \"\n"
     ]
    },
    {
     "name": "stdout",
     "output_type": "stream",
     "text": [
      "Index 251 / 696\n",
      "Index 252 / 696\n",
      "Index 253 / 696\n"
     ]
    },
    {
     "name": "stderr",
     "output_type": "stream",
     "text": [
      "/mnt/c/Users/apmcl/Documents/GitHub/harmonic-inference/corpus_utils.py:128: UserWarning: No matching tied note (MultiIndex([], names=['section', 'ix'])) found for note index (253, 0, 121) and duration 1/4. Returning the first one.\n",
      "  warnings.warn(f\"No matching tied note ({matching_notes.index}) found for note index \"\n",
      "/mnt/c/Users/apmcl/Documents/GitHub/harmonic-inference/corpus_utils.py:128: UserWarning: No matching tied note (MultiIndex([], names=['section', 'ix'])) found for note index (253, 0, 122) and duration 1/4. Returning the first one.\n",
      "  warnings.warn(f\"No matching tied note ({matching_notes.index}) found for note index \"\n"
     ]
    },
    {
     "name": "stdout",
     "output_type": "stream",
     "text": [
      "Index 255 / 696\n"
     ]
    },
    {
     "name": "stderr",
     "output_type": "stream",
     "text": [
      "/mnt/c/Users/apmcl/Documents/GitHub/harmonic-inference/corpus_utils.py:128: UserWarning: No matching tied note (MultiIndex([], names=['section', 'ix'])) found for note index (255, 0, 185) and duration 1/4. Returning the first one.\n",
      "  warnings.warn(f\"No matching tied note ({matching_notes.index}) found for note index \"\n",
      "/mnt/c/Users/apmcl/Documents/GitHub/harmonic-inference/corpus_utils.py:128: UserWarning: No matching tied note (MultiIndex([], names=['section', 'ix'])) found for note index (255, 0, 187) and duration 1/4. Returning the first one.\n",
      "  warnings.warn(f\"No matching tied note ({matching_notes.index}) found for note index \"\n",
      "/mnt/c/Users/apmcl/Documents/GitHub/harmonic-inference/corpus_utils.py:128: UserWarning: No matching tied note (MultiIndex([], names=['section', 'ix'])) found for note index (255, 0, 380) and duration 1/4. Returning the first one.\n",
      "  warnings.warn(f\"No matching tied note ({matching_notes.index}) found for note index \"\n"
     ]
    },
    {
     "name": "stdout",
     "output_type": "stream",
     "text": [
      "Index 256 / 696\n"
     ]
    },
    {
     "name": "stderr",
     "output_type": "stream",
     "text": [
      "/mnt/c/Users/apmcl/Documents/GitHub/harmonic-inference/corpus_utils.py:134: UserWarning: Multiple matching tied notes (MultiIndex([(1, 93),\n",
      "            (1, 94)],\n",
      "           names=['section', 'ix'])) found for note index (256, 1, 89) and duration 1/4. Returning the first one.\n",
      "  warnings.warn(f\"Multiple matching tied notes ({matching_notes.index}) found for note index \"\n",
      "/mnt/c/Users/apmcl/Documents/GitHub/harmonic-inference/corpus_utils.py:134: UserWarning: Multiple matching tied notes (MultiIndex([(1, 93),\n",
      "            (1, 94)],\n",
      "           names=['section', 'ix'])) found for note index (256, 1, 90) and duration 1/4. Returning the first one.\n",
      "  warnings.warn(f\"Multiple matching tied notes ({matching_notes.index}) found for note index \"\n",
      "/mnt/c/Users/apmcl/Documents/GitHub/harmonic-inference/corpus_utils.py:134: UserWarning: Multiple matching tied notes (MultiIndex([(2, 286),\n",
      "            (2, 287)],\n",
      "           names=['section', 'ix'])) found for note index (256, 2, 282) and duration 1/4. Returning the first one.\n",
      "  warnings.warn(f\"Multiple matching tied notes ({matching_notes.index}) found for note index \"\n",
      "/mnt/c/Users/apmcl/Documents/GitHub/harmonic-inference/corpus_utils.py:134: UserWarning: Multiple matching tied notes (MultiIndex([(2, 286),\n",
      "            (2, 287)],\n",
      "           names=['section', 'ix'])) found for note index (256, 2, 283) and duration 1/4. Returning the first one.\n",
      "  warnings.warn(f\"Multiple matching tied notes ({matching_notes.index}) found for note index \"\n"
     ]
    },
    {
     "name": "stdout",
     "output_type": "stream",
     "text": [
      "Index 257 / 696\n"
     ]
    },
    {
     "name": "stderr",
     "output_type": "stream",
     "text": [
      "/mnt/c/Users/apmcl/Documents/GitHub/harmonic-inference/corpus_utils.py:128: UserWarning: No matching tied note (MultiIndex([], names=['section', 'ix'])) found for note index (257, 0, 55) and duration 1/8. Returning the first one.\n",
      "  warnings.warn(f\"No matching tied note ({matching_notes.index}) found for note index \"\n",
      "/mnt/c/Users/apmcl/Documents/GitHub/harmonic-inference/corpus_utils.py:128: UserWarning: No matching tied note (MultiIndex([], names=['section', 'ix'])) found for note index (257, 0, 56) and duration 1/8. Returning the first one.\n",
      "  warnings.warn(f\"No matching tied note ({matching_notes.index}) found for note index \"\n",
      "/mnt/c/Users/apmcl/Documents/GitHub/harmonic-inference/corpus_utils.py:128: UserWarning: No matching tied note (MultiIndex([], names=['section', 'ix'])) found for note index (257, 0, 57) and duration 1/8. Returning the first one.\n",
      "  warnings.warn(f\"No matching tied note ({matching_notes.index}) found for note index \"\n"
     ]
    },
    {
     "name": "stdout",
     "output_type": "stream",
     "text": [
      "Index 259 / 696\n"
     ]
    },
    {
     "name": "stderr",
     "output_type": "stream",
     "text": [
      "/mnt/c/Users/apmcl/Documents/GitHub/harmonic-inference/corpus_utils.py:128: UserWarning: No matching tied note (MultiIndex([], names=['section', 'ix'])) found for note index (259, 0, 167) and duration 1/4. Returning the first one.\n",
      "  warnings.warn(f\"No matching tied note ({matching_notes.index}) found for note index \"\n",
      "/mnt/c/Users/apmcl/Documents/GitHub/harmonic-inference/corpus_utils.py:128: UserWarning: No matching tied note (MultiIndex([], names=['section', 'ix'])) found for note index (259, 0, 168) and duration 1/4. Returning the first one.\n",
      "  warnings.warn(f\"No matching tied note ({matching_notes.index}) found for note index \"\n",
      "/mnt/c/Users/apmcl/Documents/GitHub/harmonic-inference/corpus_utils.py:128: UserWarning: No matching tied note (MultiIndex([], names=['section', 'ix'])) found for note index (259, 0, 328) and duration 1/4. Returning the first one.\n",
      "  warnings.warn(f\"No matching tied note ({matching_notes.index}) found for note index \"\n",
      "/mnt/c/Users/apmcl/Documents/GitHub/harmonic-inference/corpus_utils.py:128: UserWarning: No matching tied note (MultiIndex([], names=['section', 'ix'])) found for note index (259, 0, 329) and duration 1/4. Returning the first one.\n",
      "  warnings.warn(f\"No matching tied note ({matching_notes.index}) found for note index \"\n",
      "/mnt/c/Users/apmcl/Documents/GitHub/harmonic-inference/corpus_utils.py:128: UserWarning: No matching tied note (MultiIndex([], names=['section', 'ix'])) found for note index (259, 1, 260) and duration 1/4. Returning the first one.\n",
      "  warnings.warn(f\"No matching tied note ({matching_notes.index}) found for note index \"\n",
      "/mnt/c/Users/apmcl/Documents/GitHub/harmonic-inference/corpus_utils.py:128: UserWarning: No matching tied note (MultiIndex([], names=['section', 'ix'])) found for note index (259, 1, 261) and duration 1/4. Returning the first one.\n",
      "  warnings.warn(f\"No matching tied note ({matching_notes.index}) found for note index \"\n"
     ]
    },
    {
     "name": "stdout",
     "output_type": "stream",
     "text": [
      "Index 261 / 696\n"
     ]
    },
    {
     "name": "stderr",
     "output_type": "stream",
     "text": [
      "/mnt/c/Users/apmcl/Documents/GitHub/harmonic-inference/corpus_utils.py:128: UserWarning: No matching tied note (MultiIndex([], names=['section', 'ix'])) found for note index (261, 0, 315) and duration 1/2. Returning the first one.\n",
      "  warnings.warn(f\"No matching tied note ({matching_notes.index}) found for note index \"\n",
      "/mnt/c/Users/apmcl/Documents/GitHub/harmonic-inference/corpus_utils.py:128: UserWarning: No matching tied note (MultiIndex([], names=['section', 'ix'])) found for note index (261, 0, 317) and duration 1/2. Returning the first one.\n",
      "  warnings.warn(f\"No matching tied note ({matching_notes.index}) found for note index \"\n"
     ]
    },
    {
     "name": "stdout",
     "output_type": "stream",
     "text": [
      "Index 262 / 696\n",
      "Index 263 / 696\n",
      "Index 264 / 696\n"
     ]
    },
    {
     "name": "stderr",
     "output_type": "stream",
     "text": [
      "/mnt/c/Users/apmcl/Documents/GitHub/harmonic-inference/corpus_utils.py:128: UserWarning: No matching tied note (MultiIndex([], names=['section', 'ix'])) found for note index (264, 0, 50) and duration 1/4. Returning the first one.\n",
      "  warnings.warn(f\"No matching tied note ({matching_notes.index}) found for note index \"\n",
      "/mnt/c/Users/apmcl/Documents/GitHub/harmonic-inference/corpus_utils.py:128: UserWarning: No matching tied note (MultiIndex([], names=['section', 'ix'])) found for note index (264, 1, 232) and duration 1/4. Returning the first one.\n",
      "  warnings.warn(f\"No matching tied note ({matching_notes.index}) found for note index \"\n",
      "/mnt/c/Users/apmcl/Documents/GitHub/harmonic-inference/corpus_utils.py:128: UserWarning: No matching tied note (MultiIndex([], names=['section', 'ix'])) found for note index (264, 1, 524) and duration 1/4. Returning the first one.\n",
      "  warnings.warn(f\"No matching tied note ({matching_notes.index}) found for note index \"\n"
     ]
    },
    {
     "name": "stdout",
     "output_type": "stream",
     "text": [
      "Index 265 / 696\n",
      "Index 266 / 696\n",
      "Index 268 / 696\n",
      "Index 269 / 696\n",
      "Index 270 / 696\n",
      "Index 271 / 696\n",
      "Index 272 / 696\n",
      "Index 273 / 696\n"
     ]
    },
    {
     "name": "stderr",
     "output_type": "stream",
     "text": [
      "/mnt/c/Users/apmcl/Documents/GitHub/harmonic-inference/corpus_utils.py:128: UserWarning: No matching tied note (MultiIndex([], names=['section', 'ix'])) found for note index (273, 0, 299) and duration 3/4. Returning the first one.\n",
      "  warnings.warn(f\"No matching tied note ({matching_notes.index}) found for note index \"\n",
      "/mnt/c/Users/apmcl/Documents/GitHub/harmonic-inference/corpus_utils.py:128: UserWarning: No matching tied note (MultiIndex([], names=['section', 'ix'])) found for note index (273, 0, 312) and duration 3/4. Returning the first one.\n",
      "  warnings.warn(f\"No matching tied note ({matching_notes.index}) found for note index \"\n",
      "/mnt/c/Users/apmcl/Documents/GitHub/harmonic-inference/corpus_utils.py:128: UserWarning: No matching tied note (MultiIndex([], names=['section', 'ix'])) found for note index (273, 0, 887) and duration 3/4. Returning the first one.\n",
      "  warnings.warn(f\"No matching tied note ({matching_notes.index}) found for note index \"\n",
      "/mnt/c/Users/apmcl/Documents/GitHub/harmonic-inference/corpus_utils.py:128: UserWarning: No matching tied note (MultiIndex([], names=['section', 'ix'])) found for note index (273, 0, 1476) and duration 3/4. Returning the first one.\n",
      "  warnings.warn(f\"No matching tied note ({matching_notes.index}) found for note index \"\n"
     ]
    },
    {
     "name": "stdout",
     "output_type": "stream",
     "text": [
      "Index 274 / 696\n",
      "Index 275 / 696\n",
      "Index 276 / 696\n",
      "Index 277 / 696\n"
     ]
    },
    {
     "name": "stderr",
     "output_type": "stream",
     "text": [
      "/mnt/c/Users/apmcl/Documents/GitHub/harmonic-inference/corpus_utils.py:128: UserWarning: No matching tied note (MultiIndex([], names=['section', 'ix'])) found for note index (277, 0, 25) and duration 1/4. Returning the first one.\n",
      "  warnings.warn(f\"No matching tied note ({matching_notes.index}) found for note index \"\n",
      "/mnt/c/Users/apmcl/Documents/GitHub/harmonic-inference/corpus_utils.py:128: UserWarning: No matching tied note (MultiIndex([], names=['section', 'ix'])) found for note index (277, 0, 50) and duration 1/4. Returning the first one.\n",
      "  warnings.warn(f\"No matching tied note ({matching_notes.index}) found for note index \"\n",
      "/mnt/c/Users/apmcl/Documents/GitHub/harmonic-inference/corpus_utils.py:128: UserWarning: No matching tied note (MultiIndex([], names=['section', 'ix'])) found for note index (277, 0, 209) and duration 1/8. Returning the first one.\n",
      "  warnings.warn(f\"No matching tied note ({matching_notes.index}) found for note index \"\n",
      "/mnt/c/Users/apmcl/Documents/GitHub/harmonic-inference/corpus_utils.py:128: UserWarning: No matching tied note (MultiIndex([], names=['section', 'ix'])) found for note index (277, 0, 210) and duration 1/8. Returning the first one.\n",
      "  warnings.warn(f\"No matching tied note ({matching_notes.index}) found for note index \"\n",
      "/mnt/c/Users/apmcl/Documents/GitHub/harmonic-inference/corpus_utils.py:128: UserWarning: No matching tied note (MultiIndex([], names=['section', 'ix'])) found for note index (277, 0, 213) and duration 1/8. Returning the first one.\n",
      "  warnings.warn(f\"No matching tied note ({matching_notes.index}) found for note index \"\n",
      "/mnt/c/Users/apmcl/Documents/GitHub/harmonic-inference/corpus_utils.py:128: UserWarning: No matching tied note (MultiIndex([], names=['section', 'ix'])) found for note index (277, 0, 214) and duration 1/8. Returning the first one.\n",
      "  warnings.warn(f\"No matching tied note ({matching_notes.index}) found for note index \"\n",
      "/mnt/c/Users/apmcl/Documents/GitHub/harmonic-inference/corpus_utils.py:128: UserWarning: No matching tied note (MultiIndex([], names=['section', 'ix'])) found for note index (277, 0, 232) and duration 1/8. Returning the first one.\n",
      "  warnings.warn(f\"No matching tied note ({matching_notes.index}) found for note index \"\n",
      "/mnt/c/Users/apmcl/Documents/GitHub/harmonic-inference/corpus_utils.py:128: UserWarning: No matching tied note (MultiIndex([], names=['section', 'ix'])) found for note index (277, 0, 271) and duration 1/16. Returning the first one.\n",
      "  warnings.warn(f\"No matching tied note ({matching_notes.index}) found for note index \"\n",
      "/mnt/c/Users/apmcl/Documents/GitHub/harmonic-inference/corpus_utils.py:128: UserWarning: No matching tied note (MultiIndex([], names=['section', 'ix'])) found for note index (277, 0, 411) and duration 1/8. Returning the first one.\n",
      "  warnings.warn(f\"No matching tied note ({matching_notes.index}) found for note index \"\n",
      "/mnt/c/Users/apmcl/Documents/GitHub/harmonic-inference/corpus_utils.py:128: UserWarning: No matching tied note (MultiIndex([], names=['section', 'ix'])) found for note index (277, 0, 433) and duration 1/8. Returning the first one.\n",
      "  warnings.warn(f\"No matching tied note ({matching_notes.index}) found for note index \"\n",
      "/mnt/c/Users/apmcl/Documents/GitHub/harmonic-inference/corpus_utils.py:128: UserWarning: No matching tied note (MultiIndex([], names=['section', 'ix'])) found for note index (277, 0, 515) and duration 1/16. Returning the first one.\n",
      "  warnings.warn(f\"No matching tied note ({matching_notes.index}) found for note index \"\n"
     ]
    },
    {
     "name": "stdout",
     "output_type": "stream",
     "text": [
      "Index 278 / 696\n"
     ]
    },
    {
     "name": "stderr",
     "output_type": "stream",
     "text": [
      "/mnt/c/Users/apmcl/Documents/GitHub/harmonic-inference/corpus_utils.py:128: UserWarning: No matching tied note (MultiIndex([], names=['section', 'ix'])) found for note index (278, 0, 83) and duration 1/4. Returning the first one.\n",
      "  warnings.warn(f\"No matching tied note ({matching_notes.index}) found for note index \"\n"
     ]
    },
    {
     "name": "stdout",
     "output_type": "stream",
     "text": [
      "Index 279 / 696\n"
     ]
    },
    {
     "name": "stderr",
     "output_type": "stream",
     "text": [
      "/mnt/c/Users/apmcl/Documents/GitHub/harmonic-inference/corpus_utils.py:128: UserWarning: No matching tied note (MultiIndex([], names=['section', 'ix'])) found for note index (279, 0, 214) and duration 1/8. Returning the first one.\n",
      "  warnings.warn(f\"No matching tied note ({matching_notes.index}) found for note index \"\n",
      "/mnt/c/Users/apmcl/Documents/GitHub/harmonic-inference/corpus_utils.py:128: UserWarning: No matching tied note (MultiIndex([], names=['section', 'ix'])) found for note index (279, 0, 242) and duration 1/8. Returning the first one.\n",
      "  warnings.warn(f\"No matching tied note ({matching_notes.index}) found for note index \"\n",
      "/mnt/c/Users/apmcl/Documents/GitHub/harmonic-inference/corpus_utils.py:128: UserWarning: No matching tied note (MultiIndex([], names=['section', 'ix'])) found for note index (279, 0, 278) and duration 1/4. Returning the first one.\n",
      "  warnings.warn(f\"No matching tied note ({matching_notes.index}) found for note index \"\n"
     ]
    },
    {
     "name": "stdout",
     "output_type": "stream",
     "text": [
      "Index 280 / 696\n"
     ]
    },
    {
     "name": "stderr",
     "output_type": "stream",
     "text": [
      "/mnt/c/Users/apmcl/Documents/GitHub/harmonic-inference/corpus_utils.py:128: UserWarning: No matching tied note (MultiIndex([], names=['section', 'ix'])) found for note index (280, 0, 52) and duration 3/8. Returning the first one.\n",
      "  warnings.warn(f\"No matching tied note ({matching_notes.index}) found for note index \"\n",
      "/mnt/c/Users/apmcl/Documents/GitHub/harmonic-inference/corpus_utils.py:128: UserWarning: No matching tied note (MultiIndex([], names=['section', 'ix'])) found for note index (280, 0, 119) and duration 3/8. Returning the first one.\n",
      "  warnings.warn(f\"No matching tied note ({matching_notes.index}) found for note index \"\n",
      "/mnt/c/Users/apmcl/Documents/GitHub/harmonic-inference/corpus_utils.py:128: UserWarning: No matching tied note (MultiIndex([], names=['section', 'ix'])) found for note index (280, 1, 62) and duration 1/8. Returning the first one.\n",
      "  warnings.warn(f\"No matching tied note ({matching_notes.index}) found for note index \"\n",
      "/mnt/c/Users/apmcl/Documents/GitHub/harmonic-inference/corpus_utils.py:128: UserWarning: No matching tied note (MultiIndex([], names=['section', 'ix'])) found for note index (280, 1, 276) and duration 3/8. Returning the first one.\n",
      "  warnings.warn(f\"No matching tied note ({matching_notes.index}) found for note index \"\n",
      "/mnt/c/Users/apmcl/Documents/GitHub/harmonic-inference/corpus_utils.py:128: UserWarning: No matching tied note (MultiIndex([], names=['section', 'ix'])) found for note index (280, 1, 277) and duration 3/8. Returning the first one.\n",
      "  warnings.warn(f\"No matching tied note ({matching_notes.index}) found for note index \"\n",
      "/mnt/c/Users/apmcl/Documents/GitHub/harmonic-inference/corpus_utils.py:128: UserWarning: No matching tied note (MultiIndex([], names=['section', 'ix'])) found for note index (280, 1, 278) and duration 3/8. Returning the first one.\n",
      "  warnings.warn(f\"No matching tied note ({matching_notes.index}) found for note index \"\n",
      "/mnt/c/Users/apmcl/Documents/GitHub/harmonic-inference/corpus_utils.py:128: UserWarning: No matching tied note (MultiIndex([], names=['section', 'ix'])) found for note index (280, 2, 59) and duration 1/8. Returning the first one.\n",
      "  warnings.warn(f\"No matching tied note ({matching_notes.index}) found for note index \"\n",
      "/mnt/c/Users/apmcl/Documents/GitHub/harmonic-inference/corpus_utils.py:128: UserWarning: No matching tied note (MultiIndex([], names=['section', 'ix'])) found for note index (280, 2, 60) and duration 1/8. Returning the first one.\n",
      "  warnings.warn(f\"No matching tied note ({matching_notes.index}) found for note index \"\n"
     ]
    },
    {
     "name": "stdout",
     "output_type": "stream",
     "text": [
      "Index 281 / 696\n"
     ]
    },
    {
     "name": "stderr",
     "output_type": "stream",
     "text": [
      "/mnt/c/Users/apmcl/Documents/GitHub/harmonic-inference/corpus_utils.py:128: UserWarning: No matching tied note (MultiIndex([], names=['section', 'ix'])) found for note index (281, 0, 85) and duration 5/4. Returning the first one.\n",
      "  warnings.warn(f\"No matching tied note ({matching_notes.index}) found for note index \"\n",
      "/mnt/c/Users/apmcl/Documents/GitHub/harmonic-inference/corpus_utils.py:128: UserWarning: No matching tied note (MultiIndex([], names=['section', 'ix'])) found for note index (281, 0, 342) and duration 1/16. Returning the first one.\n",
      "  warnings.warn(f\"No matching tied note ({matching_notes.index}) found for note index \"\n",
      "/mnt/c/Users/apmcl/Documents/GitHub/harmonic-inference/corpus_utils.py:128: UserWarning: No matching tied note (MultiIndex([], names=['section', 'ix'])) found for note index (281, 0, 1252) and duration 1/16. Returning the first one.\n",
      "  warnings.warn(f\"No matching tied note ({matching_notes.index}) found for note index \"\n",
      "/mnt/c/Users/apmcl/Documents/GitHub/harmonic-inference/corpus_utils.py:128: UserWarning: No matching tied note (MultiIndex([], names=['section', 'ix'])) found for note index (281, 0, 1301) and duration 1/16. Returning the first one.\n",
      "  warnings.warn(f\"No matching tied note ({matching_notes.index}) found for note index \"\n"
     ]
    },
    {
     "name": "stdout",
     "output_type": "stream",
     "text": [
      "Index 282 / 696\n",
      "Index 283 / 696\n"
     ]
    },
    {
     "name": "stderr",
     "output_type": "stream",
     "text": [
      "/mnt/c/Users/apmcl/Documents/GitHub/harmonic-inference/corpus_utils.py:128: UserWarning: No matching tied note (MultiIndex([], names=['section', 'ix'])) found for note index (283, 0, 111) and duration 1/8. Returning the first one.\n",
      "  warnings.warn(f\"No matching tied note ({matching_notes.index}) found for note index \"\n"
     ]
    },
    {
     "name": "stdout",
     "output_type": "stream",
     "text": [
      "Index 284 / 696\n"
     ]
    },
    {
     "name": "stderr",
     "output_type": "stream",
     "text": [
      "/mnt/c/Users/apmcl/Documents/GitHub/harmonic-inference/corpus_utils.py:128: UserWarning: No matching tied note (MultiIndex([], names=['section', 'ix'])) found for note index (284, 1, 31) and duration 1/4. Returning the first one.\n",
      "  warnings.warn(f\"No matching tied note ({matching_notes.index}) found for note index \"\n",
      "/mnt/c/Users/apmcl/Documents/GitHub/harmonic-inference/corpus_utils.py:128: UserWarning: No matching tied note (MultiIndex([], names=['section', 'ix'])) found for note index (284, 1, 348) and duration 3/4. Returning the first one.\n",
      "  warnings.warn(f\"No matching tied note ({matching_notes.index}) found for note index \"\n",
      "/mnt/c/Users/apmcl/Documents/GitHub/harmonic-inference/corpus_utils.py:128: UserWarning: No matching tied note (MultiIndex([], names=['section', 'ix'])) found for note index (284, 1, 350) and duration 3/4. Returning the first one.\n",
      "  warnings.warn(f\"No matching tied note ({matching_notes.index}) found for note index \"\n",
      "/mnt/c/Users/apmcl/Documents/GitHub/harmonic-inference/corpus_utils.py:128: UserWarning: No matching tied note (MultiIndex([], names=['section', 'ix'])) found for note index (284, 1, 362) and duration 1/2. Returning the first one.\n",
      "  warnings.warn(f\"No matching tied note ({matching_notes.index}) found for note index \"\n",
      "/mnt/c/Users/apmcl/Documents/GitHub/harmonic-inference/corpus_utils.py:128: UserWarning: No matching tied note (MultiIndex([], names=['section', 'ix'])) found for note index (284, 1, 386) and duration 3/4. Returning the first one.\n",
      "  warnings.warn(f\"No matching tied note ({matching_notes.index}) found for note index \"\n",
      "/mnt/c/Users/apmcl/Documents/GitHub/harmonic-inference/corpus_utils.py:128: UserWarning: No matching tied note (MultiIndex([], names=['section', 'ix'])) found for note index (284, 1, 433) and duration 5/4. Returning the first one.\n",
      "  warnings.warn(f\"No matching tied note ({matching_notes.index}) found for note index \"\n",
      "/mnt/c/Users/apmcl/Documents/GitHub/harmonic-inference/corpus_utils.py:128: UserWarning: No matching tied note (MultiIndex([], names=['section', 'ix'])) found for note index (284, 1, 462) and duration 5/4. Returning the first one.\n",
      "  warnings.warn(f\"No matching tied note ({matching_notes.index}) found for note index \"\n",
      "/mnt/c/Users/apmcl/Documents/GitHub/harmonic-inference/corpus_utils.py:128: UserWarning: No matching tied note (MultiIndex([], names=['section', 'ix'])) found for note index (284, 1, 518) and duration 3/4. Returning the first one.\n",
      "  warnings.warn(f\"No matching tied note ({matching_notes.index}) found for note index \"\n",
      "/mnt/c/Users/apmcl/Documents/GitHub/harmonic-inference/corpus_utils.py:128: UserWarning: No matching tied note (MultiIndex([], names=['section', 'ix'])) found for note index (284, 1, 535) and duration 3/4. Returning the first one.\n",
      "  warnings.warn(f\"No matching tied note ({matching_notes.index}) found for note index \"\n",
      "/mnt/c/Users/apmcl/Documents/GitHub/harmonic-inference/corpus_utils.py:128: UserWarning: No matching tied note (MultiIndex([], names=['section', 'ix'])) found for note index (284, 1, 550) and duration 3/4. Returning the first one.\n",
      "  warnings.warn(f\"No matching tied note ({matching_notes.index}) found for note index \"\n",
      "/mnt/c/Users/apmcl/Documents/GitHub/harmonic-inference/corpus_utils.py:128: UserWarning: No matching tied note (MultiIndex([], names=['section', 'ix'])) found for note index (284, 1, 586) and duration 3/4. Returning the first one.\n",
      "  warnings.warn(f\"No matching tied note ({matching_notes.index}) found for note index \"\n",
      "/mnt/c/Users/apmcl/Documents/GitHub/harmonic-inference/corpus_utils.py:128: UserWarning: No matching tied note (MultiIndex([], names=['section', 'ix'])) found for note index (284, 1, 589) and duration 3/4. Returning the first one.\n",
      "  warnings.warn(f\"No matching tied note ({matching_notes.index}) found for note index \"\n",
      "/mnt/c/Users/apmcl/Documents/GitHub/harmonic-inference/corpus_utils.py:128: UserWarning: No matching tied note (MultiIndex([], names=['section', 'ix'])) found for note index (284, 1, 686) and duration 3/4. Returning the first one.\n",
      "  warnings.warn(f\"No matching tied note ({matching_notes.index}) found for note index \"\n",
      "/mnt/c/Users/apmcl/Documents/GitHub/harmonic-inference/corpus_utils.py:128: UserWarning: No matching tied note (MultiIndex([], names=['section', 'ix'])) found for note index (284, 2, 40) and duration 3/4. Returning the first one.\n",
      "  warnings.warn(f\"No matching tied note ({matching_notes.index}) found for note index \"\n"
     ]
    },
    {
     "name": "stdout",
     "output_type": "stream",
     "text": [
      "Index 285 / 696\n",
      "Index 286 / 696\n"
     ]
    },
    {
     "name": "stderr",
     "output_type": "stream",
     "text": [
      "/mnt/c/Users/apmcl/Documents/GitHub/harmonic-inference/corpus_utils.py:128: UserWarning: No matching tied note (MultiIndex([], names=['section', 'ix'])) found for note index (286, 1, 111) and duration 1/2. Returning the first one.\n",
      "  warnings.warn(f\"No matching tied note ({matching_notes.index}) found for note index \"\n",
      "/mnt/c/Users/apmcl/Documents/GitHub/harmonic-inference/corpus_utils.py:128: UserWarning: No matching tied note (MultiIndex([], names=['section', 'ix'])) found for note index (286, 6, 60) and duration 1/4. Returning the first one.\n",
      "  warnings.warn(f\"No matching tied note ({matching_notes.index}) found for note index \"\n",
      "/mnt/c/Users/apmcl/Documents/GitHub/harmonic-inference/corpus_utils.py:128: UserWarning: No matching tied note (MultiIndex([], names=['section', 'ix'])) found for note index (286, 8, 111) and duration 1/2. Returning the first one.\n",
      "  warnings.warn(f\"No matching tied note ({matching_notes.index}) found for note index \"\n"
     ]
    },
    {
     "name": "stdout",
     "output_type": "stream",
     "text": [
      "Index 287 / 696\n"
     ]
    },
    {
     "name": "stderr",
     "output_type": "stream",
     "text": [
      "/mnt/c/Users/apmcl/Documents/GitHub/harmonic-inference/corpus_utils.py:128: UserWarning: No matching tied note (MultiIndex([], names=['section', 'ix'])) found for note index (287, 0, 625) and duration 1/4. Returning the first one.\n",
      "  warnings.warn(f\"No matching tied note ({matching_notes.index}) found for note index \"\n",
      "/mnt/c/Users/apmcl/Documents/GitHub/harmonic-inference/corpus_utils.py:128: UserWarning: No matching tied note (MultiIndex([], names=['section', 'ix'])) found for note index (287, 0, 1231) and duration 1/4. Returning the first one.\n",
      "  warnings.warn(f\"No matching tied note ({matching_notes.index}) found for note index \"\n",
      "/mnt/c/Users/apmcl/Documents/GitHub/harmonic-inference/corpus_utils.py:128: UserWarning: No matching tied note (MultiIndex([], names=['section', 'ix'])) found for note index (287, 0, 1694) and duration 1/4. Returning the first one.\n",
      "  warnings.warn(f\"No matching tied note ({matching_notes.index}) found for note index \"\n"
     ]
    },
    {
     "name": "stdout",
     "output_type": "stream",
     "text": [
      "Index 288 / 696\n"
     ]
    },
    {
     "name": "stderr",
     "output_type": "stream",
     "text": [
      "/mnt/c/Users/apmcl/Documents/GitHub/harmonic-inference/corpus_utils.py:128: UserWarning: No matching tied note (MultiIndex([], names=['section', 'ix'])) found for note index (288, 0, 338) and duration 3/8. Returning the first one.\n",
      "  warnings.warn(f\"No matching tied note ({matching_notes.index}) found for note index \"\n",
      "/mnt/c/Users/apmcl/Documents/GitHub/harmonic-inference/corpus_utils.py:128: UserWarning: No matching tied note (MultiIndex([], names=['section', 'ix'])) found for note index (288, 0, 452) and duration 1/4. Returning the first one.\n",
      "  warnings.warn(f\"No matching tied note ({matching_notes.index}) found for note index \"\n",
      "/mnt/c/Users/apmcl/Documents/GitHub/harmonic-inference/corpus_utils.py:128: UserWarning: No matching tied note (MultiIndex([], names=['section', 'ix'])) found for note index (288, 0, 712) and duration 3/8. Returning the first one.\n",
      "  warnings.warn(f\"No matching tied note ({matching_notes.index}) found for note index \"\n",
      "/mnt/c/Users/apmcl/Documents/GitHub/harmonic-inference/corpus_utils.py:128: UserWarning: No matching tied note (MultiIndex([], names=['section', 'ix'])) found for note index (288, 0, 813) and duration 1/8. Returning the first one.\n",
      "  warnings.warn(f\"No matching tied note ({matching_notes.index}) found for note index \"\n",
      "/mnt/c/Users/apmcl/Documents/GitHub/harmonic-inference/corpus_utils.py:128: UserWarning: No matching tied note (MultiIndex([], names=['section', 'ix'])) found for note index (289, 0, 4) and duration 1. Returning the first one.\n",
      "  warnings.warn(f\"No matching tied note ({matching_notes.index}) found for note index \"\n"
     ]
    },
    {
     "name": "stdout",
     "output_type": "stream",
     "text": [
      "Index 289 / 696\n"
     ]
    },
    {
     "name": "stderr",
     "output_type": "stream",
     "text": [
      "/mnt/c/Users/apmcl/Documents/GitHub/harmonic-inference/corpus_utils.py:128: UserWarning: No matching tied note (MultiIndex([], names=['section', 'ix'])) found for note index (289, 0, 242) and duration 3/4. Returning the first one.\n",
      "  warnings.warn(f\"No matching tied note ({matching_notes.index}) found for note index \"\n",
      "/mnt/c/Users/apmcl/Documents/GitHub/harmonic-inference/corpus_utils.py:128: UserWarning: No matching tied note (MultiIndex([], names=['section', 'ix'])) found for note index (289, 0, 243) and duration 3/4. Returning the first one.\n",
      "  warnings.warn(f\"No matching tied note ({matching_notes.index}) found for note index \"\n",
      "/mnt/c/Users/apmcl/Documents/GitHub/harmonic-inference/corpus_utils.py:128: UserWarning: No matching tied note (MultiIndex([], names=['section', 'ix'])) found for note index (289, 0, 294) and duration 3/4. Returning the first one.\n",
      "  warnings.warn(f\"No matching tied note ({matching_notes.index}) found for note index \"\n",
      "/mnt/c/Users/apmcl/Documents/GitHub/harmonic-inference/corpus_utils.py:128: UserWarning: No matching tied note (MultiIndex([], names=['section', 'ix'])) found for note index (289, 0, 295) and duration 3/4. Returning the first one.\n",
      "  warnings.warn(f\"No matching tied note ({matching_notes.index}) found for note index \"\n",
      "/mnt/c/Users/apmcl/Documents/GitHub/harmonic-inference/corpus_utils.py:128: UserWarning: No matching tied note (MultiIndex([], names=['section', 'ix'])) found for note index (289, 0, 461) and duration 1/2. Returning the first one.\n",
      "  warnings.warn(f\"No matching tied note ({matching_notes.index}) found for note index \"\n",
      "/mnt/c/Users/apmcl/Documents/GitHub/harmonic-inference/corpus_utils.py:128: UserWarning: No matching tied note (MultiIndex([], names=['section', 'ix'])) found for note index (289, 0, 1049) and duration 1. Returning the first one.\n",
      "  warnings.warn(f\"No matching tied note ({matching_notes.index}) found for note index \"\n",
      "/mnt/c/Users/apmcl/Documents/GitHub/harmonic-inference/corpus_utils.py:134: UserWarning: Multiple matching tied notes (MultiIndex([(0, 1179),\n",
      "            (0, 1180)],\n",
      "           names=['section', 'ix'])) found for note index (289, 0, 1174) and duration 1/4. Returning the first one.\n",
      "  warnings.warn(f\"Multiple matching tied notes ({matching_notes.index}) found for note index \"\n",
      "/mnt/c/Users/apmcl/Documents/GitHub/harmonic-inference/corpus_utils.py:134: UserWarning: Multiple matching tied notes (MultiIndex([(0, 1179),\n",
      "            (0, 1180)],\n",
      "           names=['section', 'ix'])) found for note index (289, 0, 1175) and duration 1/4. Returning the first one.\n",
      "  warnings.warn(f\"Multiple matching tied notes ({matching_notes.index}) found for note index \"\n"
     ]
    },
    {
     "name": "stdout",
     "output_type": "stream",
     "text": [
      "Index 290 / 696\n"
     ]
    },
    {
     "name": "stderr",
     "output_type": "stream",
     "text": [
      "/mnt/c/Users/apmcl/Documents/GitHub/harmonic-inference/corpus_utils.py:128: UserWarning: No matching tied note (MultiIndex([], names=['section', 'ix'])) found for note index (290, 0, 437) and duration 3/4. Returning the first one.\n",
      "  warnings.warn(f\"No matching tied note ({matching_notes.index}) found for note index \"\n",
      "/mnt/c/Users/apmcl/Documents/GitHub/harmonic-inference/corpus_utils.py:128: UserWarning: No matching tied note (MultiIndex([], names=['section', 'ix'])) found for note index (290, 0, 953) and duration 1/16. Returning the first one.\n",
      "  warnings.warn(f\"No matching tied note ({matching_notes.index}) found for note index \"\n",
      "/mnt/c/Users/apmcl/Documents/GitHub/harmonic-inference/corpus_utils.py:128: UserWarning: No matching tied note (MultiIndex([], names=['section', 'ix'])) found for note index (290, 0, 954) and duration 1/16. Returning the first one.\n",
      "  warnings.warn(f\"No matching tied note ({matching_notes.index}) found for note index \"\n",
      "/mnt/c/Users/apmcl/Documents/GitHub/harmonic-inference/corpus_utils.py:128: UserWarning: No matching tied note (MultiIndex([], names=['section', 'ix'])) found for note index (290, 0, 1081) and duration 3/4. Returning the first one.\n",
      "  warnings.warn(f\"No matching tied note ({matching_notes.index}) found for note index \"\n",
      "/mnt/c/Users/apmcl/Documents/GitHub/harmonic-inference/corpus_utils.py:128: UserWarning: No matching tied note (MultiIndex([], names=['section', 'ix'])) found for note index (290, 0, 1082) and duration 1/16. Returning the first one.\n",
      "  warnings.warn(f\"No matching tied note ({matching_notes.index}) found for note index \"\n",
      "/mnt/c/Users/apmcl/Documents/GitHub/harmonic-inference/corpus_utils.py:128: UserWarning: No matching tied note (MultiIndex([], names=['section', 'ix'])) found for note index (290, 0, 1299) and duration 1/8. Returning the first one.\n",
      "  warnings.warn(f\"No matching tied note ({matching_notes.index}) found for note index \"\n",
      "/mnt/c/Users/apmcl/Documents/GitHub/harmonic-inference/corpus_utils.py:128: UserWarning: No matching tied note (MultiIndex([], names=['section', 'ix'])) found for note index (290, 0, 1300) and duration 1/8. Returning the first one.\n",
      "  warnings.warn(f\"No matching tied note ({matching_notes.index}) found for note index \"\n"
     ]
    },
    {
     "name": "stdout",
     "output_type": "stream",
     "text": [
      "Index 291 / 696\n"
     ]
    },
    {
     "name": "stderr",
     "output_type": "stream",
     "text": [
      "/mnt/c/Users/apmcl/Documents/GitHub/harmonic-inference/corpus_utils.py:128: UserWarning: No matching tied note (MultiIndex([], names=['section', 'ix'])) found for note index (291, 0, 76) and duration 1/8. Returning the first one.\n",
      "  warnings.warn(f\"No matching tied note ({matching_notes.index}) found for note index \"\n",
      "/mnt/c/Users/apmcl/Documents/GitHub/harmonic-inference/corpus_utils.py:128: UserWarning: No matching tied note (MultiIndex([], names=['section', 'ix'])) found for note index (291, 0, 157) and duration 1/4. Returning the first one.\n",
      "  warnings.warn(f\"No matching tied note ({matching_notes.index}) found for note index \"\n",
      "/mnt/c/Users/apmcl/Documents/GitHub/harmonic-inference/corpus_utils.py:128: UserWarning: No matching tied note (MultiIndex([], names=['section', 'ix'])) found for note index (291, 0, 305) and duration 1/2. Returning the first one.\n",
      "  warnings.warn(f\"No matching tied note ({matching_notes.index}) found for note index \"\n",
      "/mnt/c/Users/apmcl/Documents/GitHub/harmonic-inference/corpus_utils.py:128: UserWarning: No matching tied note (MultiIndex([], names=['section', 'ix'])) found for note index (291, 0, 563) and duration 1/2. Returning the first one.\n",
      "  warnings.warn(f\"No matching tied note ({matching_notes.index}) found for note index \"\n",
      "/mnt/c/Users/apmcl/Documents/GitHub/harmonic-inference/corpus_utils.py:128: UserWarning: No matching tied note (MultiIndex([], names=['section', 'ix'])) found for note index (291, 1, 99) and duration 3/4. Returning the first one.\n",
      "  warnings.warn(f\"No matching tied note ({matching_notes.index}) found for note index \"\n",
      "/mnt/c/Users/apmcl/Documents/GitHub/harmonic-inference/corpus_utils.py:128: UserWarning: No matching tied note (MultiIndex([], names=['section', 'ix'])) found for note index (291, 1, 100) and duration 3/4. Returning the first one.\n",
      "  warnings.warn(f\"No matching tied note ({matching_notes.index}) found for note index \"\n"
     ]
    },
    {
     "name": "stdout",
     "output_type": "stream",
     "text": [
      "Index 292 / 696\n",
      "Index 293 / 696\n"
     ]
    },
    {
     "name": "stderr",
     "output_type": "stream",
     "text": [
      "/mnt/c/Users/apmcl/Documents/GitHub/harmonic-inference/corpus_utils.py:128: UserWarning: No matching tied note (MultiIndex([], names=['section', 'ix'])) found for note index (292, 0, 351) and duration 1/16. Returning the first one.\n",
      "  warnings.warn(f\"No matching tied note ({matching_notes.index}) found for note index \"\n",
      "/mnt/c/Users/apmcl/Documents/GitHub/harmonic-inference/corpus_utils.py:128: UserWarning: No matching tied note (MultiIndex([], names=['section', 'ix'])) found for note index (292, 0, 450) and duration 1/4. Returning the first one.\n",
      "  warnings.warn(f\"No matching tied note ({matching_notes.index}) found for note index \"\n",
      "/mnt/c/Users/apmcl/Documents/GitHub/harmonic-inference/corpus_utils.py:128: UserWarning: No matching tied note (MultiIndex([], names=['section', 'ix'])) found for note index (292, 0, 585) and duration 1/8. Returning the first one.\n",
      "  warnings.warn(f\"No matching tied note ({matching_notes.index}) found for note index \"\n",
      "/mnt/c/Users/apmcl/Documents/GitHub/harmonic-inference/corpus_utils.py:128: UserWarning: No matching tied note (MultiIndex([], names=['section', 'ix'])) found for note index (293, 0, 43) and duration 1/4. Returning the first one.\n",
      "  warnings.warn(f\"No matching tied note ({matching_notes.index}) found for note index \"\n",
      "/mnt/c/Users/apmcl/Documents/GitHub/harmonic-inference/corpus_utils.py:128: UserWarning: No matching tied note (MultiIndex([], names=['section', 'ix'])) found for note index (293, 0, 89) and duration 1/8. Returning the first one.\n",
      "  warnings.warn(f\"No matching tied note ({matching_notes.index}) found for note index \"\n",
      "/mnt/c/Users/apmcl/Documents/GitHub/harmonic-inference/corpus_utils.py:128: UserWarning: No matching tied note (MultiIndex([], names=['section', 'ix'])) found for note index (293, 0, 142) and duration 1/4. Returning the first one.\n",
      "  warnings.warn(f\"No matching tied note ({matching_notes.index}) found for note index \"\n",
      "/mnt/c/Users/apmcl/Documents/GitHub/harmonic-inference/corpus_utils.py:128: UserWarning: No matching tied note (MultiIndex([], names=['section', 'ix'])) found for note index (293, 0, 184) and duration 1/4. Returning the first one.\n",
      "  warnings.warn(f\"No matching tied note ({matching_notes.index}) found for note index \"\n",
      "/mnt/c/Users/apmcl/Documents/GitHub/harmonic-inference/corpus_utils.py:128: UserWarning: No matching tied note (MultiIndex([], names=['section', 'ix'])) found for note index (293, 0, 230) and duration 1/8. Returning the first one.\n",
      "  warnings.warn(f\"No matching tied note ({matching_notes.index}) found for note index \"\n",
      "/mnt/c/Users/apmcl/Documents/GitHub/harmonic-inference/corpus_utils.py:128: UserWarning: No matching tied note (MultiIndex([], names=['section', 'ix'])) found for note index (293, 0, 434) and duration 1/4. Returning the first one.\n",
      "  warnings.warn(f\"No matching tied note ({matching_notes.index}) found for note index \"\n",
      "/mnt/c/Users/apmcl/Documents/GitHub/harmonic-inference/corpus_utils.py:128: UserWarning: No matching tied note (MultiIndex([], names=['section', 'ix'])) found for note index (293, 0, 473) and duration 1. Returning the first one.\n",
      "  warnings.warn(f\"No matching tied note ({matching_notes.index}) found for note index \"\n",
      "/mnt/c/Users/apmcl/Documents/GitHub/harmonic-inference/corpus_utils.py:128: UserWarning: No matching tied note (MultiIndex([], names=['section', 'ix'])) found for note index (293, 0, 477) and duration 1/4. Returning the first one.\n",
      "  warnings.warn(f\"No matching tied note ({matching_notes.index}) found for note index \"\n"
     ]
    },
    {
     "name": "stdout",
     "output_type": "stream",
     "text": [
      "Index 294 / 696\n",
      "Index 295 / 696\n",
      "Index 296 / 696\n"
     ]
    },
    {
     "name": "stderr",
     "output_type": "stream",
     "text": [
      "/mnt/c/Users/apmcl/Documents/GitHub/harmonic-inference/corpus_utils.py:128: UserWarning: No matching tied note (MultiIndex([], names=['section', 'ix'])) found for note index (296, 0, 237) and duration 1/8. Returning the first one.\n",
      "  warnings.warn(f\"No matching tied note ({matching_notes.index}) found for note index \"\n",
      "/mnt/c/Users/apmcl/Documents/GitHub/harmonic-inference/corpus_utils.py:128: UserWarning: No matching tied note (MultiIndex([], names=['section', 'ix'])) found for note index (296, 0, 241) and duration 1/4. Returning the first one.\n",
      "  warnings.warn(f\"No matching tied note ({matching_notes.index}) found for note index \"\n",
      "/mnt/c/Users/apmcl/Documents/GitHub/harmonic-inference/corpus_utils.py:128: UserWarning: No matching tied note (MultiIndex([], names=['section', 'ix'])) found for note index (296, 0, 490) and duration 3/4. Returning the first one.\n",
      "  warnings.warn(f\"No matching tied note ({matching_notes.index}) found for note index \"\n"
     ]
    },
    {
     "name": "stdout",
     "output_type": "stream",
     "text": [
      "Index 297 / 696\n"
     ]
    },
    {
     "name": "stderr",
     "output_type": "stream",
     "text": [
      "/mnt/c/Users/apmcl/Documents/GitHub/harmonic-inference/corpus_utils.py:128: UserWarning: No matching tied note (MultiIndex([], names=['section', 'ix'])) found for note index (297, 2, 275) and duration 1/2. Returning the first one.\n",
      "  warnings.warn(f\"No matching tied note ({matching_notes.index}) found for note index \"\n"
     ]
    },
    {
     "name": "stdout",
     "output_type": "stream",
     "text": [
      "Index 298 / 696\n",
      "Index 299 / 696\n",
      "Index 300 / 696\n",
      "Index 301 / 696\n"
     ]
    },
    {
     "name": "stderr",
     "output_type": "stream",
     "text": [
      "/mnt/c/Users/apmcl/Documents/GitHub/harmonic-inference/corpus_utils.py:128: UserWarning: No matching tied note (MultiIndex([], names=['section', 'ix'])) found for note index (301, 0, 136) and duration 1/16. Returning the first one.\n",
      "  warnings.warn(f\"No matching tied note ({matching_notes.index}) found for note index \"\n",
      "/mnt/c/Users/apmcl/Documents/GitHub/harmonic-inference/corpus_utils.py:128: UserWarning: No matching tied note (MultiIndex([], names=['section', 'ix'])) found for note index (301, 0, 159) and duration 1/16. Returning the first one.\n",
      "  warnings.warn(f\"No matching tied note ({matching_notes.index}) found for note index \"\n",
      "/mnt/c/Users/apmcl/Documents/GitHub/harmonic-inference/corpus_utils.py:128: UserWarning: No matching tied note (MultiIndex([], names=['section', 'ix'])) found for note index (301, 0, 160) and duration 1/16. Returning the first one.\n",
      "  warnings.warn(f\"No matching tied note ({matching_notes.index}) found for note index \"\n",
      "/mnt/c/Users/apmcl/Documents/GitHub/harmonic-inference/corpus_utils.py:128: UserWarning: No matching tied note (MultiIndex([], names=['section', 'ix'])) found for note index (301, 2, 180) and duration 1/16. Returning the first one.\n",
      "  warnings.warn(f\"No matching tied note ({matching_notes.index}) found for note index \"\n",
      "/mnt/c/Users/apmcl/Documents/GitHub/harmonic-inference/corpus_utils.py:128: UserWarning: No matching tied note (MultiIndex([], names=['section', 'ix'])) found for note index (301, 2, 238) and duration 1/16. Returning the first one.\n",
      "  warnings.warn(f\"No matching tied note ({matching_notes.index}) found for note index \"\n"
     ]
    },
    {
     "name": "stdout",
     "output_type": "stream",
     "text": [
      "Index 302 / 696\n",
      "Index 303 / 696\n",
      "Index 304 / 696\n",
      "Index 306 / 696\n"
     ]
    },
    {
     "name": "stderr",
     "output_type": "stream",
     "text": [
      "/mnt/c/Users/apmcl/Documents/GitHub/harmonic-inference/corpus_utils.py:128: UserWarning: No matching tied note (MultiIndex([], names=['section', 'ix'])) found for note index (306, 0, 37) and duration 1/4. Returning the first one.\n",
      "  warnings.warn(f\"No matching tied note ({matching_notes.index}) found for note index \"\n",
      "/mnt/c/Users/apmcl/Documents/GitHub/harmonic-inference/corpus_utils.py:128: UserWarning: No matching tied note (MultiIndex([], names=['section', 'ix'])) found for note index (306, 0, 126) and duration 1/4. Returning the first one.\n",
      "  warnings.warn(f\"No matching tied note ({matching_notes.index}) found for note index \"\n",
      "/mnt/c/Users/apmcl/Documents/GitHub/harmonic-inference/corpus_utils.py:128: UserWarning: No matching tied note (MultiIndex([], names=['section', 'ix'])) found for note index (306, 3, 29) and duration 1/4. Returning the first one.\n",
      "  warnings.warn(f\"No matching tied note ({matching_notes.index}) found for note index \"\n",
      "/mnt/c/Users/apmcl/Documents/GitHub/harmonic-inference/corpus_utils.py:128: UserWarning: No matching tied note (MultiIndex([], names=['section', 'ix'])) found for note index (306, 3, 118) and duration 1/4. Returning the first one.\n",
      "  warnings.warn(f\"No matching tied note ({matching_notes.index}) found for note index \"\n"
     ]
    },
    {
     "name": "stdout",
     "output_type": "stream",
     "text": [
      "Index 307 / 696\n"
     ]
    },
    {
     "name": "stderr",
     "output_type": "stream",
     "text": [
      "/mnt/c/Users/apmcl/Documents/GitHub/harmonic-inference/corpus_utils.py:128: UserWarning: No matching tied note (MultiIndex([], names=['section', 'ix'])) found for note index (307, 0, 195) and duration 1/4. Returning the first one.\n",
      "  warnings.warn(f\"No matching tied note ({matching_notes.index}) found for note index \"\n",
      "/mnt/c/Users/apmcl/Documents/GitHub/harmonic-inference/corpus_utils.py:128: UserWarning: No matching tied note (MultiIndex([], names=['section', 'ix'])) found for note index (307, 0, 227) and duration 1/2. Returning the first one.\n",
      "  warnings.warn(f\"No matching tied note ({matching_notes.index}) found for note index \"\n"
     ]
    },
    {
     "name": "stdout",
     "output_type": "stream",
     "text": [
      "Index 308 / 696\n"
     ]
    },
    {
     "name": "stderr",
     "output_type": "stream",
     "text": [
      "/mnt/c/Users/apmcl/Documents/GitHub/harmonic-inference/corpus_utils.py:128: UserWarning: No matching tied note (MultiIndex([], names=['section', 'ix'])) found for note index (308, 1, 201) and duration 1. Returning the first one.\n",
      "  warnings.warn(f\"No matching tied note ({matching_notes.index}) found for note index \"\n"
     ]
    },
    {
     "name": "stdout",
     "output_type": "stream",
     "text": [
      "Index 309 / 696\n"
     ]
    },
    {
     "name": "stderr",
     "output_type": "stream",
     "text": [
      "/mnt/c/Users/apmcl/Documents/GitHub/harmonic-inference/corpus_utils.py:128: UserWarning: No matching tied note (MultiIndex([], names=['section', 'ix'])) found for note index (309, 2, 162) and duration 1/8. Returning the first one.\n",
      "  warnings.warn(f\"No matching tied note ({matching_notes.index}) found for note index \"\n",
      "/mnt/c/Users/apmcl/Documents/GitHub/harmonic-inference/corpus_utils.py:128: UserWarning: No matching tied note (MultiIndex([], names=['section', 'ix'])) found for note index (309, 2, 498) and duration 1/2. Returning the first one.\n",
      "  warnings.warn(f\"No matching tied note ({matching_notes.index}) found for note index \"\n",
      "/mnt/c/Users/apmcl/Documents/GitHub/harmonic-inference/corpus_utils.py:128: UserWarning: No matching tied note (MultiIndex([], names=['section', 'ix'])) found for note index (309, 2, 499) and duration 1/2. Returning the first one.\n",
      "  warnings.warn(f\"No matching tied note ({matching_notes.index}) found for note index \"\n"
     ]
    },
    {
     "name": "stdout",
     "output_type": "stream",
     "text": [
      "Index 310 / 696\n"
     ]
    },
    {
     "name": "stderr",
     "output_type": "stream",
     "text": [
      "/mnt/c/Users/apmcl/Documents/GitHub/harmonic-inference/corpus_utils.py:128: UserWarning: No matching tied note (MultiIndex([], names=['section', 'ix'])) found for note index (310, 8, 286) and duration 1/4. Returning the first one.\n",
      "  warnings.warn(f\"No matching tied note ({matching_notes.index}) found for note index \"\n"
     ]
    },
    {
     "name": "stdout",
     "output_type": "stream",
     "text": [
      "Index 311 / 696\n"
     ]
    },
    {
     "name": "stderr",
     "output_type": "stream",
     "text": [
      "/mnt/c/Users/apmcl/Documents/GitHub/harmonic-inference/corpus_utils.py:128: UserWarning: No matching tied note (MultiIndex([], names=['section', 'ix'])) found for note index (311, 0, 98) and duration 1/2. Returning the first one.\n",
      "  warnings.warn(f\"No matching tied note ({matching_notes.index}) found for note index \"\n",
      "/mnt/c/Users/apmcl/Documents/GitHub/harmonic-inference/corpus_utils.py:128: UserWarning: No matching tied note (MultiIndex([], names=['section', 'ix'])) found for note index (311, 0, 113) and duration 1/4. Returning the first one.\n",
      "  warnings.warn(f\"No matching tied note ({matching_notes.index}) found for note index \"\n",
      "/mnt/c/Users/apmcl/Documents/GitHub/harmonic-inference/corpus_utils.py:128: UserWarning: No matching tied note (MultiIndex([], names=['section', 'ix'])) found for note index (311, 0, 117) and duration 1/2. Returning the first one.\n",
      "  warnings.warn(f\"No matching tied note ({matching_notes.index}) found for note index \"\n",
      "/mnt/c/Users/apmcl/Documents/GitHub/harmonic-inference/corpus_utils.py:128: UserWarning: No matching tied note (MultiIndex([], names=['section', 'ix'])) found for note index (311, 0, 126) and duration 3/8. Returning the first one.\n",
      "  warnings.warn(f\"No matching tied note ({matching_notes.index}) found for note index \"\n",
      "/mnt/c/Users/apmcl/Documents/GitHub/harmonic-inference/corpus_utils.py:128: UserWarning: No matching tied note (MultiIndex([], names=['section', 'ix'])) found for note index (311, 0, 129) and duration 1/2. Returning the first one.\n",
      "  warnings.warn(f\"No matching tied note ({matching_notes.index}) found for note index \"\n",
      "/mnt/c/Users/apmcl/Documents/GitHub/harmonic-inference/corpus_utils.py:128: UserWarning: No matching tied note (MultiIndex([], names=['section', 'ix'])) found for note index (311, 0, 226) and duration 1/4. Returning the first one.\n",
      "  warnings.warn(f\"No matching tied note ({matching_notes.index}) found for note index \"\n",
      "/mnt/c/Users/apmcl/Documents/GitHub/harmonic-inference/corpus_utils.py:128: UserWarning: No matching tied note (MultiIndex([], names=['section', 'ix'])) found for note index (311, 0, 227) and duration 1/4. Returning the first one.\n",
      "  warnings.warn(f\"No matching tied note ({matching_notes.index}) found for note index \"\n",
      "/mnt/c/Users/apmcl/Documents/GitHub/harmonic-inference/corpus_utils.py:128: UserWarning: No matching tied note (MultiIndex([], names=['section', 'ix'])) found for note index (311, 0, 281) and duration 1/4. Returning the first one.\n",
      "  warnings.warn(f\"No matching tied note ({matching_notes.index}) found for note index \"\n",
      "/mnt/c/Users/apmcl/Documents/GitHub/harmonic-inference/corpus_utils.py:128: UserWarning: No matching tied note (MultiIndex([], names=['section', 'ix'])) found for note index (311, 0, 340) and duration 1/4. Returning the first one.\n",
      "  warnings.warn(f\"No matching tied note ({matching_notes.index}) found for note index \"\n"
     ]
    },
    {
     "name": "stdout",
     "output_type": "stream",
     "text": [
      "Index 312 / 696\n"
     ]
    },
    {
     "name": "stderr",
     "output_type": "stream",
     "text": [
      "/mnt/c/Users/apmcl/Documents/GitHub/harmonic-inference/corpus_utils.py:128: UserWarning: No matching tied note (MultiIndex([], names=['section', 'ix'])) found for note index (312, 1, 600) and duration 1/4. Returning the first one.\n",
      "  warnings.warn(f\"No matching tied note ({matching_notes.index}) found for note index \"\n"
     ]
    },
    {
     "name": "stdout",
     "output_type": "stream",
     "text": [
      "Index 313 / 696\n",
      "Index 314 / 696\n"
     ]
    },
    {
     "name": "stderr",
     "output_type": "stream",
     "text": [
      "/mnt/c/Users/apmcl/Documents/GitHub/harmonic-inference/corpus_utils.py:128: UserWarning: No matching tied note (MultiIndex([], names=['section', 'ix'])) found for note index (314, 1, 30) and duration 1/16. Returning the first one.\n",
      "  warnings.warn(f\"No matching tied note ({matching_notes.index}) found for note index \"\n"
     ]
    },
    {
     "name": "stdout",
     "output_type": "stream",
     "text": [
      "Index 315 / 696\n"
     ]
    },
    {
     "name": "stderr",
     "output_type": "stream",
     "text": [
      "/mnt/c/Users/apmcl/Documents/GitHub/harmonic-inference/corpus_utils.py:128: UserWarning: No matching tied note (MultiIndex([], names=['section', 'ix'])) found for note index (315, 1, 22) and duration 1/2. Returning the first one.\n",
      "  warnings.warn(f\"No matching tied note ({matching_notes.index}) found for note index \"\n",
      "/mnt/c/Users/apmcl/Documents/GitHub/harmonic-inference/corpus_utils.py:128: UserWarning: No matching tied note (MultiIndex([], names=['section', 'ix'])) found for note index (315, 1, 157) and duration 1/4. Returning the first one.\n",
      "  warnings.warn(f\"No matching tied note ({matching_notes.index}) found for note index \"\n"
     ]
    },
    {
     "name": "stdout",
     "output_type": "stream",
     "text": [
      "Index 316 / 696\n"
     ]
    },
    {
     "name": "stderr",
     "output_type": "stream",
     "text": [
      "/mnt/c/Users/apmcl/Documents/GitHub/harmonic-inference/corpus_utils.py:128: UserWarning: No matching tied note (MultiIndex([], names=['section', 'ix'])) found for note index (316, 0, 193) and duration 3/4. Returning the first one.\n",
      "  warnings.warn(f\"No matching tied note ({matching_notes.index}) found for note index \"\n"
     ]
    },
    {
     "name": "stdout",
     "output_type": "stream",
     "text": [
      "Index 322 / 696\n",
      "Index 323 / 696\n",
      "Index 325 / 696\n",
      "Index 326 / 696\n",
      "Index 327 / 696\n",
      "Index 329 / 696\n",
      "Index 330 / 696\n",
      "Index 331 / 696\n",
      "Index 333 / 696\n",
      "Index 334 / 696\n",
      "Index 335 / 696\n",
      "Index 336 / 696\n",
      "Index 337 / 696\n",
      "Index 338 / 696\n",
      "Index 339 / 696\n",
      "Index 340 / 696\n",
      "Index 341 / 696\n",
      "Index 342 / 696\n",
      "Index 343 / 696\n",
      "Index 344 / 696\n",
      "Index 346 / 696\n",
      "Index 347 / 696\n",
      "Index 348 / 696\n",
      "Index 349 / 696\n",
      "Index 350 / 696\n",
      "Index 351 / 696\n",
      "Index 352 / 696\n",
      "Index 353 / 696\n",
      "Index 354 / 696\n",
      "Index 355 / 696\n",
      "Index 356 / 696\n",
      "Index 358 / 696\n",
      "Index 359 / 696\n",
      "Index 361 / 696\n",
      "Index 362 / 696\n",
      "Index 363 / 696\n",
      "Index 364 / 696\n",
      "Index 365 / 696\n"
     ]
    },
    {
     "name": "stderr",
     "output_type": "stream",
     "text": [
      "/mnt/c/Users/apmcl/Documents/GitHub/harmonic-inference/corpus_utils.py:128: UserWarning: No matching tied note (MultiIndex([], names=['section', 'ix'])) found for note index (365, 0, 2390) and duration 1/2. Returning the first one.\n",
      "  warnings.warn(f\"No matching tied note ({matching_notes.index}) found for note index \"\n",
      "/mnt/c/Users/apmcl/Documents/GitHub/harmonic-inference/corpus_utils.py:128: UserWarning: No matching tied note (MultiIndex([], names=['section', 'ix'])) found for note index (365, 0, 2447) and duration 1/2. Returning the first one.\n",
      "  warnings.warn(f\"No matching tied note ({matching_notes.index}) found for note index \"\n"
     ]
    },
    {
     "name": "stdout",
     "output_type": "stream",
     "text": [
      "Index 366 / 696\n"
     ]
    },
    {
     "name": "stderr",
     "output_type": "stream",
     "text": [
      "/mnt/c/Users/apmcl/Documents/GitHub/harmonic-inference/corpus_utils.py:128: UserWarning: No matching tied note (MultiIndex([], names=['section', 'ix'])) found for note index (366, 0, 1004) and duration 1/32. Returning the first one.\n",
      "  warnings.warn(f\"No matching tied note ({matching_notes.index}) found for note index \"\n",
      "/mnt/c/Users/apmcl/Documents/GitHub/harmonic-inference/corpus_utils.py:128: UserWarning: No matching tied note (MultiIndex([], names=['section', 'ix'])) found for note index (366, 0, 1005) and duration 1/32. Returning the first one.\n",
      "  warnings.warn(f\"No matching tied note ({matching_notes.index}) found for note index \"\n",
      "/mnt/c/Users/apmcl/Documents/GitHub/harmonic-inference/corpus_utils.py:128: UserWarning: No matching tied note (MultiIndex([], names=['section', 'ix'])) found for note index (366, 0, 1006) and duration 1/32. Returning the first one.\n",
      "  warnings.warn(f\"No matching tied note ({matching_notes.index}) found for note index \"\n",
      "/mnt/c/Users/apmcl/Documents/GitHub/harmonic-inference/corpus_utils.py:128: UserWarning: No matching tied note (MultiIndex([], names=['section', 'ix'])) found for note index (366, 0, 1038) and duration 1/32. Returning the first one.\n",
      "  warnings.warn(f\"No matching tied note ({matching_notes.index}) found for note index \"\n",
      "/mnt/c/Users/apmcl/Documents/GitHub/harmonic-inference/corpus_utils.py:128: UserWarning: No matching tied note (MultiIndex([], names=['section', 'ix'])) found for note index (366, 0, 1039) and duration 1/32. Returning the first one.\n",
      "  warnings.warn(f\"No matching tied note ({matching_notes.index}) found for note index \"\n",
      "/mnt/c/Users/apmcl/Documents/GitHub/harmonic-inference/corpus_utils.py:128: UserWarning: No matching tied note (MultiIndex([], names=['section', 'ix'])) found for note index (366, 0, 1040) and duration 1/32. Returning the first one.\n",
      "  warnings.warn(f\"No matching tied note ({matching_notes.index}) found for note index \"\n",
      "/mnt/c/Users/apmcl/Documents/GitHub/harmonic-inference/corpus_utils.py:128: UserWarning: No matching tied note (MultiIndex([], names=['section', 'ix'])) found for note index (366, 0, 1137) and duration 1/16. Returning the first one.\n",
      "  warnings.warn(f\"No matching tied note ({matching_notes.index}) found for note index \"\n",
      "/mnt/c/Users/apmcl/Documents/GitHub/harmonic-inference/corpus_utils.py:128: UserWarning: No matching tied note (MultiIndex([], names=['section', 'ix'])) found for note index (366, 0, 1138) and duration 1/16. Returning the first one.\n",
      "  warnings.warn(f\"No matching tied note ({matching_notes.index}) found for note index \"\n"
     ]
    },
    {
     "name": "stdout",
     "output_type": "stream",
     "text": [
      "Index 368 / 696\n",
      "Index 369 / 696\n"
     ]
    },
    {
     "name": "stderr",
     "output_type": "stream",
     "text": [
      "/mnt/c/Users/apmcl/Documents/GitHub/harmonic-inference/corpus_utils.py:134: UserWarning: Multiple matching tied notes (MultiIndex([(4, 1344),\n",
      "            (4, 1345)],\n",
      "           names=['section', 'ix'])) found for note index (369, 4, 1337) and duration 3/8. Returning the first one.\n",
      "  warnings.warn(f\"Multiple matching tied notes ({matching_notes.index}) found for note index \"\n",
      "/mnt/c/Users/apmcl/Documents/GitHub/harmonic-inference/corpus_utils.py:134: UserWarning: Multiple matching tied notes (MultiIndex([(4, 1344),\n",
      "            (4, 1345)],\n",
      "           names=['section', 'ix'])) found for note index (369, 4, 1338) and duration 3/8. Returning the first one.\n",
      "  warnings.warn(f\"Multiple matching tied notes ({matching_notes.index}) found for note index \"\n"
     ]
    },
    {
     "name": "stdout",
     "output_type": "stream",
     "text": [
      "Index 370 / 696\n",
      "Index 371 / 696\n",
      "Index 372 / 696\n",
      "Index 373 / 696\n"
     ]
    },
    {
     "name": "stderr",
     "output_type": "stream",
     "text": [
      "/mnt/c/Users/apmcl/Documents/GitHub/harmonic-inference/corpus_utils.py:128: UserWarning: No matching tied note (MultiIndex([], names=['section', 'ix'])) found for note index (373, 1, 259) and duration 1/2. Returning the first one.\n",
      "  warnings.warn(f\"No matching tied note ({matching_notes.index}) found for note index \"\n",
      "/mnt/c/Users/apmcl/Documents/GitHub/harmonic-inference/corpus_utils.py:128: UserWarning: No matching tied note (MultiIndex([], names=['section', 'ix'])) found for note index (373, 1, 294) and duration 1/2. Returning the first one.\n",
      "  warnings.warn(f\"No matching tied note ({matching_notes.index}) found for note index \"\n",
      "/mnt/c/Users/apmcl/Documents/GitHub/harmonic-inference/corpus_utils.py:128: UserWarning: No matching tied note (MultiIndex([], names=['section', 'ix'])) found for note index (373, 1, 332) and duration 1/2. Returning the first one.\n",
      "  warnings.warn(f\"No matching tied note ({matching_notes.index}) found for note index \"\n",
      "/mnt/c/Users/apmcl/Documents/GitHub/harmonic-inference/corpus_utils.py:128: UserWarning: No matching tied note (MultiIndex([], names=['section', 'ix'])) found for note index (373, 1, 361) and duration 1/2. Returning the first one.\n",
      "  warnings.warn(f\"No matching tied note ({matching_notes.index}) found for note index \"\n",
      "/mnt/c/Users/apmcl/Documents/GitHub/harmonic-inference/corpus_utils.py:128: UserWarning: No matching tied note (MultiIndex([], names=['section', 'ix'])) found for note index (373, 1, 1041) and duration 1/4. Returning the first one.\n",
      "  warnings.warn(f\"No matching tied note ({matching_notes.index}) found for note index \"\n",
      "/mnt/c/Users/apmcl/Documents/GitHub/harmonic-inference/corpus_utils.py:128: UserWarning: No matching tied note (MultiIndex([], names=['section', 'ix'])) found for note index (373, 1, 1042) and duration 1/4. Returning the first one.\n",
      "  warnings.warn(f\"No matching tied note ({matching_notes.index}) found for note index \"\n"
     ]
    },
    {
     "name": "stdout",
     "output_type": "stream",
     "text": [
      "Index 374 / 696\n"
     ]
    },
    {
     "name": "stderr",
     "output_type": "stream",
     "text": [
      "/mnt/c/Users/apmcl/Documents/GitHub/harmonic-inference/corpus_utils.py:128: UserWarning: No matching tied note (MultiIndex([], names=['section', 'ix'])) found for note index (374, 0, 94) and duration 1/8. Returning the first one.\n",
      "  warnings.warn(f\"No matching tied note ({matching_notes.index}) found for note index \"\n",
      "/mnt/c/Users/apmcl/Documents/GitHub/harmonic-inference/corpus_utils.py:128: UserWarning: No matching tied note (MultiIndex([], names=['section', 'ix'])) found for note index (374, 0, 95) and duration 1/8. Returning the first one.\n",
      "  warnings.warn(f\"No matching tied note ({matching_notes.index}) found for note index \"\n",
      "/mnt/c/Users/apmcl/Documents/GitHub/harmonic-inference/corpus_utils.py:128: UserWarning: No matching tied note (MultiIndex([], names=['section', 'ix'])) found for note index (374, 0, 131) and duration 1/8. Returning the first one.\n",
      "  warnings.warn(f\"No matching tied note ({matching_notes.index}) found for note index \"\n",
      "/mnt/c/Users/apmcl/Documents/GitHub/harmonic-inference/corpus_utils.py:128: UserWarning: No matching tied note (MultiIndex([], names=['section', 'ix'])) found for note index (374, 0, 132) and duration 1/8. Returning the first one.\n",
      "  warnings.warn(f\"No matching tied note ({matching_notes.index}) found for note index \"\n"
     ]
    },
    {
     "name": "stdout",
     "output_type": "stream",
     "text": [
      "Index 375 / 696\n",
      "Index 376 / 696\n"
     ]
    },
    {
     "name": "stderr",
     "output_type": "stream",
     "text": [
      "/mnt/c/Users/apmcl/Documents/GitHub/harmonic-inference/corpus_utils.py:128: UserWarning: No matching tied note (MultiIndex([], names=['section', 'ix'])) found for note index (376, 1, 405) and duration 1/16. Returning the first one.\n",
      "  warnings.warn(f\"No matching tied note ({matching_notes.index}) found for note index \"\n",
      "/mnt/c/Users/apmcl/Documents/GitHub/harmonic-inference/corpus_utils.py:128: UserWarning: No matching tied note (MultiIndex([], names=['section', 'ix'])) found for note index (376, 1, 454) and duration 1/16. Returning the first one.\n",
      "  warnings.warn(f\"No matching tied note ({matching_notes.index}) found for note index \"\n",
      "/mnt/c/Users/apmcl/Documents/GitHub/harmonic-inference/corpus_utils.py:128: UserWarning: No matching tied note (MultiIndex([], names=['section', 'ix'])) found for note index (376, 1, 596) and duration 1/16. Returning the first one.\n",
      "  warnings.warn(f\"No matching tied note ({matching_notes.index}) found for note index \"\n"
     ]
    },
    {
     "name": "stdout",
     "output_type": "stream",
     "text": [
      "Index 377 / 696\n"
     ]
    },
    {
     "name": "stderr",
     "output_type": "stream",
     "text": [
      "/mnt/c/Users/apmcl/Documents/GitHub/harmonic-inference/corpus_utils.py:128: UserWarning: No matching tied note (MultiIndex([], names=['section', 'ix'])) found for note index (377, 0, 1159) and duration 1/16. Returning the first one.\n",
      "  warnings.warn(f\"No matching tied note ({matching_notes.index}) found for note index \"\n",
      "/mnt/c/Users/apmcl/Documents/GitHub/harmonic-inference/corpus_utils.py:128: UserWarning: No matching tied note (MultiIndex([], names=['section', 'ix'])) found for note index (377, 0, 1212) and duration 1/8. Returning the first one.\n",
      "  warnings.warn(f\"No matching tied note ({matching_notes.index}) found for note index \"\n"
     ]
    },
    {
     "name": "stdout",
     "output_type": "stream",
     "text": [
      "Index 378 / 696\n"
     ]
    },
    {
     "name": "stderr",
     "output_type": "stream",
     "text": [
      "/mnt/c/Users/apmcl/Documents/GitHub/harmonic-inference/corpus_utils.py:128: UserWarning: No matching tied note (MultiIndex([], names=['section', 'ix'])) found for note index (378, 0, 233) and duration 1/4. Returning the first one.\n",
      "  warnings.warn(f\"No matching tied note ({matching_notes.index}) found for note index \"\n",
      "/mnt/c/Users/apmcl/Documents/GitHub/harmonic-inference/corpus_utils.py:128: UserWarning: No matching tied note (MultiIndex([], names=['section', 'ix'])) found for note index (378, 0, 854) and duration 1/8. Returning the first one.\n",
      "  warnings.warn(f\"No matching tied note ({matching_notes.index}) found for note index \"\n"
     ]
    },
    {
     "name": "stdout",
     "output_type": "stream",
     "text": [
      "Index 379 / 696\n"
     ]
    },
    {
     "name": "stderr",
     "output_type": "stream",
     "text": [
      "/mnt/c/Users/apmcl/Documents/GitHub/harmonic-inference/corpus_utils.py:128: UserWarning: No matching tied note (MultiIndex([], names=['section', 'ix'])) found for note index (379, 0, 39) and duration 1/8. Returning the first one.\n",
      "  warnings.warn(f\"No matching tied note ({matching_notes.index}) found for note index \"\n",
      "/mnt/c/Users/apmcl/Documents/GitHub/harmonic-inference/corpus_utils.py:128: UserWarning: No matching tied note (MultiIndex([], names=['section', 'ix'])) found for note index (379, 0, 63) and duration 1/8. Returning the first one.\n",
      "  warnings.warn(f\"No matching tied note ({matching_notes.index}) found for note index \"\n",
      "/mnt/c/Users/apmcl/Documents/GitHub/harmonic-inference/corpus_utils.py:128: UserWarning: No matching tied note (MultiIndex([], names=['section', 'ix'])) found for note index (379, 0, 137) and duration 1/8. Returning the first one.\n",
      "  warnings.warn(f\"No matching tied note ({matching_notes.index}) found for note index \"\n",
      "/mnt/c/Users/apmcl/Documents/GitHub/harmonic-inference/corpus_utils.py:128: UserWarning: No matching tied note (MultiIndex([], names=['section', 'ix'])) found for note index (379, 0, 212) and duration 1/24. Returning the first one.\n",
      "  warnings.warn(f\"No matching tied note ({matching_notes.index}) found for note index \"\n",
      "/mnt/c/Users/apmcl/Documents/GitHub/harmonic-inference/corpus_utils.py:128: UserWarning: No matching tied note (MultiIndex([], names=['section', 'ix'])) found for note index (379, 0, 426) and duration 1/24. Returning the first one.\n",
      "  warnings.warn(f\"No matching tied note ({matching_notes.index}) found for note index \"\n",
      "/mnt/c/Users/apmcl/Documents/GitHub/harmonic-inference/corpus_utils.py:128: UserWarning: No matching tied note (MultiIndex([], names=['section', 'ix'])) found for note index (379, 0, 430) and duration 1/24. Returning the first one.\n",
      "  warnings.warn(f\"No matching tied note ({matching_notes.index}) found for note index \"\n",
      "/mnt/c/Users/apmcl/Documents/GitHub/harmonic-inference/corpus_utils.py:128: UserWarning: No matching tied note (MultiIndex([], names=['section', 'ix'])) found for note index (379, 0, 447) and duration 1/24. Returning the first one.\n",
      "  warnings.warn(f\"No matching tied note ({matching_notes.index}) found for note index \"\n",
      "/mnt/c/Users/apmcl/Documents/GitHub/harmonic-inference/corpus_utils.py:128: UserWarning: No matching tied note (MultiIndex([], names=['section', 'ix'])) found for note index (379, 0, 482) and duration 1/24. Returning the first one.\n",
      "  warnings.warn(f\"No matching tied note ({matching_notes.index}) found for note index \"\n",
      "/mnt/c/Users/apmcl/Documents/GitHub/harmonic-inference/corpus_utils.py:128: UserWarning: No matching tied note (MultiIndex([], names=['section', 'ix'])) found for note index (379, 0, 500) and duration 1/24. Returning the first one.\n",
      "  warnings.warn(f\"No matching tied note ({matching_notes.index}) found for note index \"\n",
      "/mnt/c/Users/apmcl/Documents/GitHub/harmonic-inference/corpus_utils.py:128: UserWarning: No matching tied note (MultiIndex([], names=['section', 'ix'])) found for note index (379, 0, 507) and duration 1/24. Returning the first one.\n",
      "  warnings.warn(f\"No matching tied note ({matching_notes.index}) found for note index \"\n",
      "/mnt/c/Users/apmcl/Documents/GitHub/harmonic-inference/corpus_utils.py:128: UserWarning: No matching tied note (MultiIndex([], names=['section', 'ix'])) found for note index (379, 0, 522) and duration 1/24. Returning the first one.\n",
      "  warnings.warn(f\"No matching tied note ({matching_notes.index}) found for note index \"\n",
      "/mnt/c/Users/apmcl/Documents/GitHub/harmonic-inference/corpus_utils.py:128: UserWarning: No matching tied note (MultiIndex([], names=['section', 'ix'])) found for note index (379, 0, 775) and duration 1/8. Returning the first one.\n",
      "  warnings.warn(f\"No matching tied note ({matching_notes.index}) found for note index \"\n",
      "/mnt/c/Users/apmcl/Documents/GitHub/harmonic-inference/corpus_utils.py:128: UserWarning: No matching tied note (MultiIndex([], names=['section', 'ix'])) found for note index (379, 0, 799) and duration 1/8. Returning the first one.\n",
      "  warnings.warn(f\"No matching tied note ({matching_notes.index}) found for note index \"\n",
      "/mnt/c/Users/apmcl/Documents/GitHub/harmonic-inference/corpus_utils.py:128: UserWarning: No matching tied note (MultiIndex([], names=['section', 'ix'])) found for note index (379, 0, 956) and duration 1/24. Returning the first one.\n",
      "  warnings.warn(f\"No matching tied note ({matching_notes.index}) found for note index \"\n",
      "/mnt/c/Users/apmcl/Documents/GitHub/harmonic-inference/corpus_utils.py:128: UserWarning: No matching tied note (MultiIndex([], names=['section', 'ix'])) found for note index (379, 0, 964) and duration 1/24. Returning the first one.\n",
      "  warnings.warn(f\"No matching tied note ({matching_notes.index}) found for note index \"\n"
     ]
    },
    {
     "name": "stdout",
     "output_type": "stream",
     "text": [
      "Index 380 / 696\n",
      "Index 381 / 696\n"
     ]
    },
    {
     "name": "stderr",
     "output_type": "stream",
     "text": [
      "/mnt/c/Users/apmcl/Documents/GitHub/harmonic-inference/corpus_utils.py:128: UserWarning: No matching tied note (MultiIndex([], names=['section', 'ix'])) found for note index (381, 0, 1089) and duration 3/16. Returning the first one.\n",
      "  warnings.warn(f\"No matching tied note ({matching_notes.index}) found for note index \"\n",
      "/mnt/c/Users/apmcl/Documents/GitHub/harmonic-inference/corpus_utils.py:128: UserWarning: No matching tied note (MultiIndex([], names=['section', 'ix'])) found for note index (381, 0, 1489) and duration 1/16. Returning the first one.\n",
      "  warnings.warn(f\"No matching tied note ({matching_notes.index}) found for note index \"\n",
      "/mnt/c/Users/apmcl/Documents/GitHub/harmonic-inference/corpus_utils.py:128: UserWarning: No matching tied note (MultiIndex([], names=['section', 'ix'])) found for note index (381, 0, 1494) and duration 1/16. Returning the first one.\n",
      "  warnings.warn(f\"No matching tied note ({matching_notes.index}) found for note index \"\n",
      "/mnt/c/Users/apmcl/Documents/GitHub/harmonic-inference/corpus_utils.py:128: UserWarning: No matching tied note (MultiIndex([], names=['section', 'ix'])) found for note index (381, 0, 1882) and duration 1/8. Returning the first one.\n",
      "  warnings.warn(f\"No matching tied note ({matching_notes.index}) found for note index \"\n"
     ]
    },
    {
     "name": "stdout",
     "output_type": "stream",
     "text": [
      "Index 382 / 696\n"
     ]
    },
    {
     "name": "stderr",
     "output_type": "stream",
     "text": [
      "/mnt/c/Users/apmcl/Documents/GitHub/harmonic-inference/corpus_utils.py:128: UserWarning: No matching tied note (MultiIndex([], names=['section', 'ix'])) found for note index (382, 0, 119) and duration 1/4. Returning the first one.\n",
      "  warnings.warn(f\"No matching tied note ({matching_notes.index}) found for note index \"\n",
      "/mnt/c/Users/apmcl/Documents/GitHub/harmonic-inference/corpus_utils.py:128: UserWarning: No matching tied note (MultiIndex([], names=['section', 'ix'])) found for note index (382, 0, 220) and duration 1/8. Returning the first one.\n",
      "  warnings.warn(f\"No matching tied note ({matching_notes.index}) found for note index \"\n",
      "/mnt/c/Users/apmcl/Documents/GitHub/harmonic-inference/corpus_utils.py:128: UserWarning: No matching tied note (MultiIndex([], names=['section', 'ix'])) found for note index (382, 0, 387) and duration 1/16. Returning the first one.\n",
      "  warnings.warn(f\"No matching tied note ({matching_notes.index}) found for note index \"\n",
      "/mnt/c/Users/apmcl/Documents/GitHub/harmonic-inference/corpus_utils.py:128: UserWarning: No matching tied note (MultiIndex([], names=['section', 'ix'])) found for note index (382, 0, 388) and duration 1/16. Returning the first one.\n",
      "  warnings.warn(f\"No matching tied note ({matching_notes.index}) found for note index \"\n",
      "/mnt/c/Users/apmcl/Documents/GitHub/harmonic-inference/corpus_utils.py:128: UserWarning: No matching tied note (MultiIndex([], names=['section', 'ix'])) found for note index (382, 0, 393) and duration 1/16. Returning the first one.\n",
      "  warnings.warn(f\"No matching tied note ({matching_notes.index}) found for note index \"\n",
      "/mnt/c/Users/apmcl/Documents/GitHub/harmonic-inference/corpus_utils.py:128: UserWarning: No matching tied note (MultiIndex([], names=['section', 'ix'])) found for note index (382, 0, 400) and duration 1/16. Returning the first one.\n",
      "  warnings.warn(f\"No matching tied note ({matching_notes.index}) found for note index \"\n",
      "/mnt/c/Users/apmcl/Documents/GitHub/harmonic-inference/corpus_utils.py:128: UserWarning: No matching tied note (MultiIndex([], names=['section', 'ix'])) found for note index (382, 0, 568) and duration 1/4. Returning the first one.\n",
      "  warnings.warn(f\"No matching tied note ({matching_notes.index}) found for note index \"\n",
      "/mnt/c/Users/apmcl/Documents/GitHub/harmonic-inference/corpus_utils.py:128: UserWarning: No matching tied note (MultiIndex([], names=['section', 'ix'])) found for note index (382, 0, 569) and duration 1/4. Returning the first one.\n",
      "  warnings.warn(f\"No matching tied note ({matching_notes.index}) found for note index \"\n",
      "/mnt/c/Users/apmcl/Documents/GitHub/harmonic-inference/corpus_utils.py:128: UserWarning: No matching tied note (MultiIndex([], names=['section', 'ix'])) found for note index (382, 0, 570) and duration 1/4. Returning the first one.\n",
      "  warnings.warn(f\"No matching tied note ({matching_notes.index}) found for note index \"\n",
      "/mnt/c/Users/apmcl/Documents/GitHub/harmonic-inference/corpus_utils.py:128: UserWarning: No matching tied note (MultiIndex([], names=['section', 'ix'])) found for note index (382, 0, 572) and duration 1/4. Returning the first one.\n",
      "  warnings.warn(f\"No matching tied note ({matching_notes.index}) found for note index \"\n",
      "/mnt/c/Users/apmcl/Documents/GitHub/harmonic-inference/corpus_utils.py:128: UserWarning: No matching tied note (MultiIndex([], names=['section', 'ix'])) found for note index (382, 0, 585) and duration 1/16. Returning the first one.\n",
      "  warnings.warn(f\"No matching tied note ({matching_notes.index}) found for note index \"\n",
      "/mnt/c/Users/apmcl/Documents/GitHub/harmonic-inference/corpus_utils.py:128: UserWarning: No matching tied note (MultiIndex([], names=['section', 'ix'])) found for note index (382, 0, 586) and duration 1/16. Returning the first one.\n",
      "  warnings.warn(f\"No matching tied note ({matching_notes.index}) found for note index \"\n",
      "/mnt/c/Users/apmcl/Documents/GitHub/harmonic-inference/corpus_utils.py:128: UserWarning: No matching tied note (MultiIndex([], names=['section', 'ix'])) found for note index (382, 0, 615) and duration 1/16. Returning the first one.\n",
      "  warnings.warn(f\"No matching tied note ({matching_notes.index}) found for note index \"\n",
      "/mnt/c/Users/apmcl/Documents/GitHub/harmonic-inference/corpus_utils.py:128: UserWarning: No matching tied note (MultiIndex([], names=['section', 'ix'])) found for note index (382, 0, 616) and duration 1/16. Returning the first one.\n",
      "  warnings.warn(f\"No matching tied note ({matching_notes.index}) found for note index \"\n",
      "/mnt/c/Users/apmcl/Documents/GitHub/harmonic-inference/corpus_utils.py:128: UserWarning: No matching tied note (MultiIndex([], names=['section', 'ix'])) found for note index (382, 0, 621) and duration 1/16. Returning the first one.\n",
      "  warnings.warn(f\"No matching tied note ({matching_notes.index}) found for note index \"\n",
      "/mnt/c/Users/apmcl/Documents/GitHub/harmonic-inference/corpus_utils.py:128: UserWarning: No matching tied note (MultiIndex([], names=['section', 'ix'])) found for note index (382, 0, 1742) and duration 1/8. Returning the first one.\n",
      "  warnings.warn(f\"No matching tied note ({matching_notes.index}) found for note index \"\n",
      "/mnt/c/Users/apmcl/Documents/GitHub/harmonic-inference/corpus_utils.py:128: UserWarning: No matching tied note (MultiIndex([], names=['section', 'ix'])) found for note index (382, 0, 1995) and duration 1/4. Returning the first one.\n",
      "  warnings.warn(f\"No matching tied note ({matching_notes.index}) found for note index \"\n",
      "/mnt/c/Users/apmcl/Documents/GitHub/harmonic-inference/corpus_utils.py:128: UserWarning: No matching tied note (MultiIndex([], names=['section', 'ix'])) found for note index (382, 1, 71) and duration 1/8. Returning the first one.\n",
      "  warnings.warn(f\"No matching tied note ({matching_notes.index}) found for note index \"\n"
     ]
    },
    {
     "name": "stdout",
     "output_type": "stream",
     "text": [
      "Index 383 / 696\n"
     ]
    },
    {
     "name": "stderr",
     "output_type": "stream",
     "text": [
      "/mnt/c/Users/apmcl/Documents/GitHub/harmonic-inference/corpus_utils.py:128: UserWarning: No matching tied note (MultiIndex([], names=['section', 'ix'])) found for note index (383, 0, 55) and duration 1/8. Returning the first one.\n",
      "  warnings.warn(f\"No matching tied note ({matching_notes.index}) found for note index \"\n",
      "/mnt/c/Users/apmcl/Documents/GitHub/harmonic-inference/corpus_utils.py:128: UserWarning: No matching tied note (MultiIndex([], names=['section', 'ix'])) found for note index (383, 0, 56) and duration 1/8. Returning the first one.\n",
      "  warnings.warn(f\"No matching tied note ({matching_notes.index}) found for note index \"\n",
      "/mnt/c/Users/apmcl/Documents/GitHub/harmonic-inference/corpus_utils.py:128: UserWarning: No matching tied note (MultiIndex([], names=['section', 'ix'])) found for note index (383, 0, 1368) and duration 1/8. Returning the first one.\n",
      "  warnings.warn(f\"No matching tied note ({matching_notes.index}) found for note index \"\n"
     ]
    },
    {
     "name": "stdout",
     "output_type": "stream",
     "text": [
      "Index 384 / 696\n"
     ]
    },
    {
     "name": "stderr",
     "output_type": "stream",
     "text": [
      "/mnt/c/Users/apmcl/Documents/GitHub/harmonic-inference/corpus_utils.py:128: UserWarning: No matching tied note (MultiIndex([], names=['section', 'ix'])) found for note index (384, 0, 21) and duration 1/16. Returning the first one.\n",
      "  warnings.warn(f\"No matching tied note ({matching_notes.index}) found for note index \"\n",
      "/mnt/c/Users/apmcl/Documents/GitHub/harmonic-inference/corpus_utils.py:134: UserWarning: Multiple matching tied notes (MultiIndex([(0, 761),\n",
      "            (0, 762)],\n",
      "           names=['section', 'ix'])) found for note index (384, 0, 754) and duration 1/4. Returning the first one.\n",
      "  warnings.warn(f\"Multiple matching tied notes ({matching_notes.index}) found for note index \"\n",
      "/mnt/c/Users/apmcl/Documents/GitHub/harmonic-inference/corpus_utils.py:128: UserWarning: No matching tied note (MultiIndex([], names=['section', 'ix'])) found for note index (384, 0, 754) and duration 1/2. Returning the first one.\n",
      "  warnings.warn(f\"No matching tied note ({matching_notes.index}) found for note index \"\n",
      "/mnt/c/Users/apmcl/Documents/GitHub/harmonic-inference/corpus_utils.py:134: UserWarning: Multiple matching tied notes (MultiIndex([(0, 761),\n",
      "            (0, 762)],\n",
      "           names=['section', 'ix'])) found for note index (384, 0, 755) and duration 1/4. Returning the first one.\n",
      "  warnings.warn(f\"Multiple matching tied notes ({matching_notes.index}) found for note index \"\n",
      "/mnt/c/Users/apmcl/Documents/GitHub/harmonic-inference/corpus_utils.py:128: UserWarning: No matching tied note (MultiIndex([], names=['section', 'ix'])) found for note index (384, 0, 755) and duration 1/2. Returning the first one.\n",
      "  warnings.warn(f\"No matching tied note ({matching_notes.index}) found for note index \"\n",
      "/mnt/c/Users/apmcl/Documents/GitHub/harmonic-inference/corpus_utils.py:134: UserWarning: Multiple matching tied notes (MultiIndex([(0, 825),\n",
      "            (0, 826)],\n",
      "           names=['section', 'ix'])) found for note index (384, 0, 818) and duration 1/4. Returning the first one.\n",
      "  warnings.warn(f\"Multiple matching tied notes ({matching_notes.index}) found for note index \"\n",
      "/mnt/c/Users/apmcl/Documents/GitHub/harmonic-inference/corpus_utils.py:134: UserWarning: Multiple matching tied notes (MultiIndex([(0, 825),\n",
      "            (0, 826)],\n",
      "           names=['section', 'ix'])) found for note index (384, 0, 819) and duration 1/4. Returning the first one.\n",
      "  warnings.warn(f\"Multiple matching tied notes ({matching_notes.index}) found for note index \"\n",
      "/mnt/c/Users/apmcl/Documents/GitHub/harmonic-inference/corpus_utils.py:128: UserWarning: No matching tied note (MultiIndex([], names=['section', 'ix'])) found for note index (384, 0, 1778) and duration 1/8. Returning the first one.\n",
      "  warnings.warn(f\"No matching tied note ({matching_notes.index}) found for note index \"\n"
     ]
    },
    {
     "name": "stdout",
     "output_type": "stream",
     "text": [
      "Index 385 / 696\n"
     ]
    },
    {
     "name": "stderr",
     "output_type": "stream",
     "text": [
      "/mnt/c/Users/apmcl/Documents/GitHub/harmonic-inference/corpus_utils.py:128: UserWarning: No matching tied note (MultiIndex([], names=['section', 'ix'])) found for note index (385, 0, 238) and duration 1/8. Returning the first one.\n",
      "  warnings.warn(f\"No matching tied note ({matching_notes.index}) found for note index \"\n",
      "/mnt/c/Users/apmcl/Documents/GitHub/harmonic-inference/corpus_utils.py:128: UserWarning: No matching tied note (MultiIndex([], names=['section', 'ix'])) found for note index (385, 0, 929) and duration 1/16. Returning the first one.\n",
      "  warnings.warn(f\"No matching tied note ({matching_notes.index}) found for note index \"\n",
      "/mnt/c/Users/apmcl/Documents/GitHub/harmonic-inference/corpus_utils.py:128: UserWarning: No matching tied note (MultiIndex([], names=['section', 'ix'])) found for note index (385, 0, 1010) and duration 1/48. Returning the first one.\n",
      "  warnings.warn(f\"No matching tied note ({matching_notes.index}) found for note index \"\n",
      "/mnt/c/Users/apmcl/Documents/GitHub/harmonic-inference/corpus_utils.py:128: UserWarning: No matching tied note (MultiIndex([], names=['section', 'ix'])) found for note index (385, 0, 1532) and duration 1/4. Returning the first one.\n",
      "  warnings.warn(f\"No matching tied note ({matching_notes.index}) found for note index \"\n",
      "/mnt/c/Users/apmcl/Documents/GitHub/harmonic-inference/corpus_utils.py:128: UserWarning: No matching tied note (MultiIndex([], names=['section', 'ix'])) found for note index (385, 0, 1535) and duration 1/4. Returning the first one.\n",
      "  warnings.warn(f\"No matching tied note ({matching_notes.index}) found for note index \"\n",
      "/mnt/c/Users/apmcl/Documents/GitHub/harmonic-inference/corpus_utils.py:128: UserWarning: No matching tied note (MultiIndex([], names=['section', 'ix'])) found for note index (385, 1, 66) and duration 1/32. Returning the first one.\n",
      "  warnings.warn(f\"No matching tied note ({matching_notes.index}) found for note index \"\n"
     ]
    },
    {
     "name": "stdout",
     "output_type": "stream",
     "text": [
      "Index 386 / 696\n"
     ]
    },
    {
     "name": "stderr",
     "output_type": "stream",
     "text": [
      "/mnt/c/Users/apmcl/Documents/GitHub/harmonic-inference/corpus_utils.py:128: UserWarning: No matching tied note (MultiIndex([], names=['section', 'ix'])) found for note index (386, 1, 413) and duration 1/16. Returning the first one.\n",
      "  warnings.warn(f\"No matching tied note ({matching_notes.index}) found for note index \"\n",
      "/mnt/c/Users/apmcl/Documents/GitHub/harmonic-inference/corpus_utils.py:128: UserWarning: No matching tied note (MultiIndex([], names=['section', 'ix'])) found for note index (386, 1, 545) and duration 1/16. Returning the first one.\n",
      "  warnings.warn(f\"No matching tied note ({matching_notes.index}) found for note index \"\n",
      "/mnt/c/Users/apmcl/Documents/GitHub/harmonic-inference/corpus_utils.py:128: UserWarning: No matching tied note (MultiIndex([], names=['section', 'ix'])) found for note index (386, 1, 595) and duration 1/16. Returning the first one.\n",
      "  warnings.warn(f\"No matching tied note ({matching_notes.index}) found for note index \"\n",
      "/mnt/c/Users/apmcl/Documents/GitHub/harmonic-inference/corpus_utils.py:128: UserWarning: No matching tied note (MultiIndex([], names=['section', 'ix'])) found for note index (386, 1, 696) and duration 1/16. Returning the first one.\n",
      "  warnings.warn(f\"No matching tied note ({matching_notes.index}) found for note index \"\n",
      "/mnt/c/Users/apmcl/Documents/GitHub/harmonic-inference/corpus_utils.py:128: UserWarning: No matching tied note (MultiIndex([], names=['section', 'ix'])) found for note index (386, 1, 745) and duration 1/16. Returning the first one.\n",
      "  warnings.warn(f\"No matching tied note ({matching_notes.index}) found for note index \"\n"
     ]
    },
    {
     "name": "stdout",
     "output_type": "stream",
     "text": [
      "Index 387 / 696\n"
     ]
    },
    {
     "name": "stderr",
     "output_type": "stream",
     "text": [
      "/mnt/c/Users/apmcl/Documents/GitHub/harmonic-inference/corpus_utils.py:128: UserWarning: No matching tied note (MultiIndex([], names=['section', 'ix'])) found for note index (387, 2, 336) and duration 1/16. Returning the first one.\n",
      "  warnings.warn(f\"No matching tied note ({matching_notes.index}) found for note index \"\n",
      "/mnt/c/Users/apmcl/Documents/GitHub/harmonic-inference/corpus_utils.py:128: UserWarning: No matching tied note (MultiIndex([], names=['section', 'ix'])) found for note index (387, 3, 471) and duration 1/16. Returning the first one.\n",
      "  warnings.warn(f\"No matching tied note ({matching_notes.index}) found for note index \"\n",
      "/mnt/c/Users/apmcl/Documents/GitHub/harmonic-inference/corpus_utils.py:128: UserWarning: No matching tied note (MultiIndex([], names=['section', 'ix'])) found for note index (387, 3, 653) and duration 1/16. Returning the first one.\n",
      "  warnings.warn(f\"No matching tied note ({matching_notes.index}) found for note index \"\n",
      "/mnt/c/Users/apmcl/Documents/GitHub/harmonic-inference/corpus_utils.py:128: UserWarning: No matching tied note (MultiIndex([], names=['section', 'ix'])) found for note index (387, 3, 1056) and duration 1/8. Returning the first one.\n",
      "  warnings.warn(f\"No matching tied note ({matching_notes.index}) found for note index \"\n",
      "/mnt/c/Users/apmcl/Documents/GitHub/harmonic-inference/corpus_utils.py:134: UserWarning: Multiple matching tied notes (MultiIndex([(3, 1248),\n",
      "            (3, 1249)],\n",
      "           names=['section', 'ix'])) found for note index (387, 3, 1244) and duration 1/16. Returning the first one.\n",
      "  warnings.warn(f\"Multiple matching tied notes ({matching_notes.index}) found for note index \"\n",
      "/mnt/c/Users/apmcl/Documents/GitHub/harmonic-inference/corpus_utils.py:134: UserWarning: Multiple matching tied notes (MultiIndex([(3, 1248),\n",
      "            (3, 1249)],\n",
      "           names=['section', 'ix'])) found for note index (387, 3, 1245) and duration 1/16. Returning the first one.\n",
      "  warnings.warn(f\"Multiple matching tied notes ({matching_notes.index}) found for note index \"\n"
     ]
    },
    {
     "name": "stdout",
     "output_type": "stream",
     "text": [
      "Index 388 / 696\n"
     ]
    },
    {
     "name": "stderr",
     "output_type": "stream",
     "text": [
      "/mnt/c/Users/apmcl/Documents/GitHub/harmonic-inference/corpus_utils.py:128: UserWarning: No matching tied note (MultiIndex([], names=['section', 'ix'])) found for note index (388, 1, 9) and duration 5/4. Returning the first one.\n",
      "  warnings.warn(f\"No matching tied note ({matching_notes.index}) found for note index \"\n",
      "/mnt/c/Users/apmcl/Documents/GitHub/harmonic-inference/corpus_utils.py:128: UserWarning: No matching tied note (MultiIndex([], names=['section', 'ix'])) found for note index (388, 1, 114) and duration 5/16. Returning the first one.\n",
      "  warnings.warn(f\"No matching tied note ({matching_notes.index}) found for note index \"\n",
      "/mnt/c/Users/apmcl/Documents/GitHub/harmonic-inference/corpus_utils.py:128: UserWarning: No matching tied note (MultiIndex([], names=['section', 'ix'])) found for note index (388, 3, 275) and duration 1/16. Returning the first one.\n",
      "  warnings.warn(f\"No matching tied note ({matching_notes.index}) found for note index \"\n"
     ]
    },
    {
     "name": "stdout",
     "output_type": "stream",
     "text": [
      "Index 389 / 696\n"
     ]
    },
    {
     "name": "stderr",
     "output_type": "stream",
     "text": [
      "/mnt/c/Users/apmcl/Documents/GitHub/harmonic-inference/corpus_utils.py:128: UserWarning: No matching tied note (MultiIndex([], names=['section', 'ix'])) found for note index (389, 0, 279) and duration 1/8. Returning the first one.\n",
      "  warnings.warn(f\"No matching tied note ({matching_notes.index}) found for note index \"\n",
      "/mnt/c/Users/apmcl/Documents/GitHub/harmonic-inference/corpus_utils.py:128: UserWarning: No matching tied note (MultiIndex([], names=['section', 'ix'])) found for note index (389, 0, 2661) and duration 1/12. Returning the first one.\n",
      "  warnings.warn(f\"No matching tied note ({matching_notes.index}) found for note index \"\n"
     ]
    },
    {
     "name": "stdout",
     "output_type": "stream",
     "text": [
      "Index 390 / 696\n"
     ]
    },
    {
     "name": "stderr",
     "output_type": "stream",
     "text": [
      "/mnt/c/Users/apmcl/Documents/GitHub/harmonic-inference/corpus_utils.py:128: UserWarning: No matching tied note (MultiIndex([], names=['section', 'ix'])) found for note index (390, 4, 774) and duration 1/4. Returning the first one.\n",
      "  warnings.warn(f\"No matching tied note ({matching_notes.index}) found for note index \"\n"
     ]
    },
    {
     "name": "stdout",
     "output_type": "stream",
     "text": [
      "Index 391 / 696\n",
      "Index 392 / 696\n"
     ]
    },
    {
     "name": "stderr",
     "output_type": "stream",
     "text": [
      "/mnt/c/Users/apmcl/Documents/GitHub/harmonic-inference/corpus_utils.py:128: UserWarning: No matching tied note (MultiIndex([], names=['section', 'ix'])) found for note index (392, 0, 14) and duration 3/8. Returning the first one.\n",
      "  warnings.warn(f\"No matching tied note ({matching_notes.index}) found for note index \"\n",
      "/mnt/c/Users/apmcl/Documents/GitHub/harmonic-inference/corpus_utils.py:128: UserWarning: No matching tied note (MultiIndex([], names=['section', 'ix'])) found for note index (392, 0, 137) and duration 3/8. Returning the first one.\n",
      "  warnings.warn(f\"No matching tied note ({matching_notes.index}) found for note index \"\n",
      "/mnt/c/Users/apmcl/Documents/GitHub/harmonic-inference/corpus_utils.py:128: UserWarning: No matching tied note (MultiIndex([], names=['section', 'ix'])) found for note index (392, 0, 473) and duration 3/8. Returning the first one.\n",
      "  warnings.warn(f\"No matching tied note ({matching_notes.index}) found for note index \"\n",
      "/mnt/c/Users/apmcl/Documents/GitHub/harmonic-inference/corpus_utils.py:128: UserWarning: No matching tied note (MultiIndex([], names=['section', 'ix'])) found for note index (392, 0, 537) and duration 1/16. Returning the first one.\n",
      "  warnings.warn(f\"No matching tied note ({matching_notes.index}) found for note index \"\n",
      "/mnt/c/Users/apmcl/Documents/GitHub/harmonic-inference/corpus_utils.py:128: UserWarning: No matching tied note (MultiIndex([], names=['section', 'ix'])) found for note index (392, 0, 930) and duration 1/8. Returning the first one.\n",
      "  warnings.warn(f\"No matching tied note ({matching_notes.index}) found for note index \"\n",
      "/mnt/c/Users/apmcl/Documents/GitHub/harmonic-inference/corpus_utils.py:128: UserWarning: No matching tied note (MultiIndex([], names=['section', 'ix'])) found for note index (392, 2, 54) and duration 1/8. Returning the first one.\n",
      "  warnings.warn(f\"No matching tied note ({matching_notes.index}) found for note index \"\n",
      "/mnt/c/Users/apmcl/Documents/GitHub/harmonic-inference/corpus_utils.py:128: UserWarning: No matching tied note (MultiIndex([], names=['section', 'ix'])) found for note index (392, 3, 250) and duration 3/8. Returning the first one.\n",
      "  warnings.warn(f\"No matching tied note ({matching_notes.index}) found for note index \"\n",
      "/mnt/c/Users/apmcl/Documents/GitHub/harmonic-inference/corpus_utils.py:128: UserWarning: No matching tied note (MultiIndex([], names=['section', 'ix'])) found for note index (392, 3, 251) and duration 3/8. Returning the first one.\n",
      "  warnings.warn(f\"No matching tied note ({matching_notes.index}) found for note index \"\n",
      "/mnt/c/Users/apmcl/Documents/GitHub/harmonic-inference/corpus_utils.py:128: UserWarning: No matching tied note (MultiIndex([], names=['section', 'ix'])) found for note index (392, 3, 582) and duration 1/6. Returning the first one.\n",
      "  warnings.warn(f\"No matching tied note ({matching_notes.index}) found for note index \"\n",
      "/mnt/c/Users/apmcl/Documents/GitHub/harmonic-inference/corpus_utils.py:128: UserWarning: No matching tied note (MultiIndex([], names=['section', 'ix'])) found for note index (392, 3, 725) and duration 1/16. Returning the first one.\n",
      "  warnings.warn(f\"No matching tied note ({matching_notes.index}) found for note index \"\n",
      "/mnt/c/Users/apmcl/Documents/GitHub/harmonic-inference/corpus_utils.py:128: UserWarning: No matching tied note (MultiIndex([], names=['section', 'ix'])) found for note index (392, 3, 726) and duration 1/16. Returning the first one.\n",
      "  warnings.warn(f\"No matching tied note ({matching_notes.index}) found for note index \"\n",
      "/mnt/c/Users/apmcl/Documents/GitHub/harmonic-inference/corpus_utils.py:128: UserWarning: No matching tied note (MultiIndex([], names=['section', 'ix'])) found for note index (392, 3, 856) and duration 1/16. Returning the first one.\n",
      "  warnings.warn(f\"No matching tied note ({matching_notes.index}) found for note index \"\n",
      "/mnt/c/Users/apmcl/Documents/GitHub/harmonic-inference/corpus_utils.py:128: UserWarning: No matching tied note (MultiIndex([], names=['section', 'ix'])) found for note index (392, 3, 857) and duration 1/16. Returning the first one.\n",
      "  warnings.warn(f\"No matching tied note ({matching_notes.index}) found for note index \"\n",
      "/mnt/c/Users/apmcl/Documents/GitHub/harmonic-inference/corpus_utils.py:128: UserWarning: No matching tied note (MultiIndex([], names=['section', 'ix'])) found for note index (392, 3, 858) and duration 1/16. Returning the first one.\n",
      "  warnings.warn(f\"No matching tied note ({matching_notes.index}) found for note index \"\n"
     ]
    },
    {
     "name": "stdout",
     "output_type": "stream",
     "text": [
      "Index 393 / 696\n"
     ]
    },
    {
     "name": "stderr",
     "output_type": "stream",
     "text": [
      "/mnt/c/Users/apmcl/Documents/GitHub/harmonic-inference/corpus_utils.py:128: UserWarning: No matching tied note (MultiIndex([], names=['section', 'ix'])) found for note index (393, 3, 14) and duration 1/4. Returning the first one.\n",
      "  warnings.warn(f\"No matching tied note ({matching_notes.index}) found for note index \"\n"
     ]
    },
    {
     "name": "stdout",
     "output_type": "stream",
     "text": [
      "Index 394 / 696\n"
     ]
    },
    {
     "name": "stderr",
     "output_type": "stream",
     "text": [
      "/mnt/c/Users/apmcl/Documents/GitHub/harmonic-inference/corpus_utils.py:128: UserWarning: No matching tied note (MultiIndex([], names=['section', 'ix'])) found for note index (394, 0, 1101) and duration 1/8. Returning the first one.\n",
      "  warnings.warn(f\"No matching tied note ({matching_notes.index}) found for note index \"\n",
      "/mnt/c/Users/apmcl/Documents/GitHub/harmonic-inference/corpus_utils.py:128: UserWarning: No matching tied note (MultiIndex([], names=['section', 'ix'])) found for note index (394, 0, 1710) and duration 15/8. Returning the first one.\n",
      "  warnings.warn(f\"No matching tied note ({matching_notes.index}) found for note index \"\n",
      "/mnt/c/Users/apmcl/Documents/GitHub/harmonic-inference/corpus_utils.py:128: UserWarning: No matching tied note (MultiIndex([], names=['section', 'ix'])) found for note index (394, 0, 1976) and duration 5/4. Returning the first one.\n",
      "  warnings.warn(f\"No matching tied note ({matching_notes.index}) found for note index \"\n"
     ]
    },
    {
     "name": "stdout",
     "output_type": "stream",
     "text": [
      "Index 395 / 696\n"
     ]
    },
    {
     "name": "stderr",
     "output_type": "stream",
     "text": [
      "/mnt/c/Users/apmcl/Documents/GitHub/harmonic-inference/corpus_utils.py:128: UserWarning: No matching tied note (MultiIndex([], names=['section', 'ix'])) found for note index (395, 2, 705) and duration 1/2. Returning the first one.\n",
      "  warnings.warn(f\"No matching tied note ({matching_notes.index}) found for note index \"\n"
     ]
    },
    {
     "name": "stdout",
     "output_type": "stream",
     "text": [
      "Index 396 / 696\n"
     ]
    },
    {
     "name": "stderr",
     "output_type": "stream",
     "text": [
      "/mnt/c/Users/apmcl/Documents/GitHub/harmonic-inference/corpus_utils.py:128: UserWarning: No matching tied note (MultiIndex([], names=['section', 'ix'])) found for note index (396, 3, 449) and duration 1/2. Returning the first one.\n",
      "  warnings.warn(f\"No matching tied note ({matching_notes.index}) found for note index \"\n",
      "/mnt/c/Users/apmcl/Documents/GitHub/harmonic-inference/corpus_utils.py:128: UserWarning: No matching tied note (MultiIndex([], names=['section', 'ix'])) found for note index (396, 3, 450) and duration 1/2. Returning the first one.\n",
      "  warnings.warn(f\"No matching tied note ({matching_notes.index}) found for note index \"\n",
      "/mnt/c/Users/apmcl/Documents/GitHub/harmonic-inference/corpus_utils.py:128: UserWarning: No matching tied note (MultiIndex([], names=['section', 'ix'])) found for note index (396, 3, 451) and duration 1/2. Returning the first one.\n",
      "  warnings.warn(f\"No matching tied note ({matching_notes.index}) found for note index \"\n"
     ]
    },
    {
     "name": "stdout",
     "output_type": "stream",
     "text": [
      "Index 397 / 696\n",
      "Index 398 / 696\n"
     ]
    },
    {
     "name": "stderr",
     "output_type": "stream",
     "text": [
      "/mnt/c/Users/apmcl/Documents/GitHub/harmonic-inference/corpus_utils.py:128: UserWarning: No matching tied note (MultiIndex([], names=['section', 'ix'])) found for note index (398, 0, 26) and duration 1/4. Returning the first one.\n",
      "  warnings.warn(f\"No matching tied note ({matching_notes.index}) found for note index \"\n",
      "/mnt/c/Users/apmcl/Documents/GitHub/harmonic-inference/corpus_utils.py:134: UserWarning: Multiple matching tied notes (MultiIndex([(0, 2626),\n",
      "            (0, 2627),\n",
      "            (0, 2628)],\n",
      "           names=['section', 'ix'])) found for note index (398, 0, 2619) and duration 3/2. Returning the first one.\n",
      "  warnings.warn(f\"Multiple matching tied notes ({matching_notes.index}) found for note index \"\n",
      "/mnt/c/Users/apmcl/Documents/GitHub/harmonic-inference/corpus_utils.py:134: UserWarning: Multiple matching tied notes (MultiIndex([(0, 2626),\n",
      "            (0, 2627),\n",
      "            (0, 2628)],\n",
      "           names=['section', 'ix'])) found for note index (398, 0, 2620) and duration 3/2. Returning the first one.\n",
      "  warnings.warn(f\"Multiple matching tied notes ({matching_notes.index}) found for note index \"\n",
      "/mnt/c/Users/apmcl/Documents/GitHub/harmonic-inference/corpus_utils.py:134: UserWarning: Multiple matching tied notes (MultiIndex([(0, 2626),\n",
      "            (0, 2627),\n",
      "            (0, 2628)],\n",
      "           names=['section', 'ix'])) found for note index (398, 0, 2622) and duration 3/2. Returning the first one.\n",
      "  warnings.warn(f\"Multiple matching tied notes ({matching_notes.index}) found for note index \"\n",
      "/mnt/c/Users/apmcl/Documents/GitHub/harmonic-inference/corpus_utils.py:134: UserWarning: Multiple matching tied notes (MultiIndex([(0, 2630),\n",
      "            (0, 2631)],\n",
      "           names=['section', 'ix'])) found for note index (398, 0, 2623) and duration 3/2. Returning the first one.\n",
      "  warnings.warn(f\"Multiple matching tied notes ({matching_notes.index}) found for note index \"\n",
      "/mnt/c/Users/apmcl/Documents/GitHub/harmonic-inference/corpus_utils.py:134: UserWarning: Multiple matching tied notes (MultiIndex([(0, 2630),\n",
      "            (0, 2631)],\n",
      "           names=['section', 'ix'])) found for note index (398, 0, 2624) and duration 3/2. Returning the first one.\n",
      "  warnings.warn(f\"Multiple matching tied notes ({matching_notes.index}) found for note index \"\n",
      "/mnt/c/Users/apmcl/Documents/GitHub/harmonic-inference/corpus_utils.py:134: UserWarning: Multiple matching tied notes (MultiIndex([(1, 11),\n",
      "            (1, 12)],\n",
      "           names=['section', 'ix'])) found for note index (398, 1, 2) and duration 1. Returning the first one.\n",
      "  warnings.warn(f\"Multiple matching tied notes ({matching_notes.index}) found for note index \"\n",
      "/mnt/c/Users/apmcl/Documents/GitHub/harmonic-inference/corpus_utils.py:134: UserWarning: Multiple matching tied notes (MultiIndex([(1, 11),\n",
      "            (1, 12)],\n",
      "           names=['section', 'ix'])) found for note index (398, 1, 3) and duration 1. Returning the first one.\n",
      "  warnings.warn(f\"Multiple matching tied notes ({matching_notes.index}) found for note index \"\n",
      "/mnt/c/Users/apmcl/Documents/GitHub/harmonic-inference/corpus_utils.py:128: UserWarning: No matching tied note (MultiIndex([], names=['section', 'ix'])) found for note index (398, 2, 126) and duration 1/4. Returning the first one.\n",
      "  warnings.warn(f\"No matching tied note ({matching_notes.index}) found for note index \"\n",
      "/mnt/c/Users/apmcl/Documents/GitHub/harmonic-inference/corpus_utils.py:128: UserWarning: No matching tied note (MultiIndex([], names=['section', 'ix'])) found for note index (398, 2, 2259) and duration 1/4. Returning the first one.\n",
      "  warnings.warn(f\"No matching tied note ({matching_notes.index}) found for note index \"\n"
     ]
    },
    {
     "name": "stdout",
     "output_type": "stream",
     "text": [
      "Index 399 / 696\n",
      "Index 400 / 696\n",
      "Index 401 / 696\n",
      "Index 402 / 696\n"
     ]
    },
    {
     "name": "stderr",
     "output_type": "stream",
     "text": [
      "/mnt/c/Users/apmcl/Documents/GitHub/harmonic-inference/corpus_utils.py:134: UserWarning: Multiple matching tied notes (MultiIndex([(0, 2330),\n",
      "            (0, 2331)],\n",
      "           names=['section', 'ix'])) found for note index (402, 0, 2318) and duration 1. Returning the first one.\n",
      "  warnings.warn(f\"Multiple matching tied notes ({matching_notes.index}) found for note index \"\n",
      "/mnt/c/Users/apmcl/Documents/GitHub/harmonic-inference/corpus_utils.py:134: UserWarning: Multiple matching tied notes (MultiIndex([(0, 2330),\n",
      "            (0, 2331)],\n",
      "           names=['section', 'ix'])) found for note index (402, 0, 2319) and duration 1. Returning the first one.\n",
      "  warnings.warn(f\"Multiple matching tied notes ({matching_notes.index}) found for note index \"\n",
      "/mnt/c/Users/apmcl/Documents/GitHub/harmonic-inference/corpus_utils.py:134: UserWarning: Multiple matching tied notes (MultiIndex([(0, 4449),\n",
      "            (0, 4450)],\n",
      "           names=['section', 'ix'])) found for note index (402, 0, 4443) and duration 1/2. Returning the first one.\n",
      "  warnings.warn(f\"Multiple matching tied notes ({matching_notes.index}) found for note index \"\n",
      "/mnt/c/Users/apmcl/Documents/GitHub/harmonic-inference/corpus_utils.py:134: UserWarning: Multiple matching tied notes (MultiIndex([(0, 4449),\n",
      "            (0, 4450)],\n",
      "           names=['section', 'ix'])) found for note index (402, 0, 4446) and duration 1/4. Returning the first one.\n",
      "  warnings.warn(f\"Multiple matching tied notes ({matching_notes.index}) found for note index \"\n",
      "/mnt/c/Users/apmcl/Documents/GitHub/harmonic-inference/corpus_utils.py:134: UserWarning: Multiple matching tied notes (MultiIndex([(0, 5344),\n",
      "            (0, 5345)],\n",
      "           names=['section', 'ix'])) found for note index (402, 0, 5337) and duration 1/2. Returning the first one.\n",
      "  warnings.warn(f\"Multiple matching tied notes ({matching_notes.index}) found for note index \"\n",
      "/mnt/c/Users/apmcl/Documents/GitHub/harmonic-inference/corpus_utils.py:134: UserWarning: Multiple matching tied notes (MultiIndex([(0, 5344),\n",
      "            (0, 5345)],\n",
      "           names=['section', 'ix'])) found for note index (402, 0, 5338) and duration 1/2. Returning the first one.\n",
      "  warnings.warn(f\"Multiple matching tied notes ({matching_notes.index}) found for note index \"\n",
      "/mnt/c/Users/apmcl/Documents/GitHub/harmonic-inference/corpus_utils.py:134: UserWarning: Multiple matching tied notes (MultiIndex([(3, 254),\n",
      "            (3, 255)],\n",
      "           names=['section', 'ix'])) found for note index (402, 3, 246) and duration 1/2. Returning the first one.\n",
      "  warnings.warn(f\"Multiple matching tied notes ({matching_notes.index}) found for note index \"\n",
      "/mnt/c/Users/apmcl/Documents/GitHub/harmonic-inference/corpus_utils.py:134: UserWarning: Multiple matching tied notes (MultiIndex([(3, 260),\n",
      "            (3, 261)],\n",
      "           names=['section', 'ix'])) found for note index (402, 3, 246) and duration 3/4. Returning the first one.\n",
      "  warnings.warn(f\"Multiple matching tied notes ({matching_notes.index}) found for note index \"\n",
      "/mnt/c/Users/apmcl/Documents/GitHub/harmonic-inference/corpus_utils.py:134: UserWarning: Multiple matching tied notes (MultiIndex([(3, 267),\n",
      "            (3, 268)],\n",
      "           names=['section', 'ix'])) found for note index (402, 3, 246) and duration 1. Returning the first one.\n",
      "  warnings.warn(f\"Multiple matching tied notes ({matching_notes.index}) found for note index \"\n",
      "/mnt/c/Users/apmcl/Documents/GitHub/harmonic-inference/corpus_utils.py:134: UserWarning: Multiple matching tied notes (MultiIndex([(3, 254),\n",
      "            (3, 255)],\n",
      "           names=['section', 'ix'])) found for note index (402, 3, 247) and duration 1/2. Returning the first one.\n",
      "  warnings.warn(f\"Multiple matching tied notes ({matching_notes.index}) found for note index \"\n",
      "/mnt/c/Users/apmcl/Documents/GitHub/harmonic-inference/corpus_utils.py:134: UserWarning: Multiple matching tied notes (MultiIndex([(3, 260),\n",
      "            (3, 261)],\n",
      "           names=['section', 'ix'])) found for note index (402, 3, 247) and duration 3/4. Returning the first one.\n",
      "  warnings.warn(f\"Multiple matching tied notes ({matching_notes.index}) found for note index \"\n",
      "/mnt/c/Users/apmcl/Documents/GitHub/harmonic-inference/corpus_utils.py:134: UserWarning: Multiple matching tied notes (MultiIndex([(3, 267),\n",
      "            (3, 268)],\n",
      "           names=['section', 'ix'])) found for note index (402, 3, 247) and duration 1. Returning the first one.\n",
      "  warnings.warn(f\"Multiple matching tied notes ({matching_notes.index}) found for note index \"\n"
     ]
    },
    {
     "name": "stdout",
     "output_type": "stream",
     "text": [
      "Index 403 / 696\n",
      "Index 404 / 696\n"
     ]
    },
    {
     "name": "stderr",
     "output_type": "stream",
     "text": [
      "/mnt/c/Users/apmcl/Documents/GitHub/harmonic-inference/corpus_utils.py:134: UserWarning: Multiple matching tied notes (MultiIndex([(0, 2197),\n",
      "            (0, 2198)],\n",
      "           names=['section', 'ix'])) found for note index (404, 0, 2186) and duration 1/2. Returning the first one.\n",
      "  warnings.warn(f\"Multiple matching tied notes ({matching_notes.index}) found for note index \"\n",
      "/mnt/c/Users/apmcl/Documents/GitHub/harmonic-inference/corpus_utils.py:134: UserWarning: Multiple matching tied notes (MultiIndex([(0, 2197),\n",
      "            (0, 2198)],\n",
      "           names=['section', 'ix'])) found for note index (404, 0, 2187) and duration 1/2. Returning the first one.\n",
      "  warnings.warn(f\"Multiple matching tied notes ({matching_notes.index}) found for note index \"\n"
     ]
    },
    {
     "name": "stdout",
     "output_type": "stream",
     "text": [
      "Index 405 / 696\n",
      "Index 406 / 696\n"
     ]
    },
    {
     "name": "stderr",
     "output_type": "stream",
     "text": [
      "/mnt/c/Users/apmcl/Documents/GitHub/harmonic-inference/corpus_utils.py:134: UserWarning: Multiple matching tied notes (MultiIndex([(0, 1000),\n",
      "            (0, 1001)],\n",
      "           names=['section', 'ix'])) found for note index (406, 0, 997) and duration 1/8. Returning the first one.\n",
      "  warnings.warn(f\"Multiple matching tied notes ({matching_notes.index}) found for note index \"\n",
      "/mnt/c/Users/apmcl/Documents/GitHub/harmonic-inference/corpus_utils.py:134: UserWarning: Multiple matching tied notes (MultiIndex([(0, 1000),\n",
      "            (0, 1001)],\n",
      "           names=['section', 'ix'])) found for note index (406, 0, 998) and duration 1/8. Returning the first one.\n",
      "  warnings.warn(f\"Multiple matching tied notes ({matching_notes.index}) found for note index \"\n",
      "/mnt/c/Users/apmcl/Documents/GitHub/harmonic-inference/corpus_utils.py:128: UserWarning: No matching tied note (MultiIndex([], names=['section', 'ix'])) found for note index (406, 0, 1737) and duration 1/8. Returning the first one.\n",
      "  warnings.warn(f\"No matching tied note ({matching_notes.index}) found for note index \"\n",
      "/mnt/c/Users/apmcl/Documents/GitHub/harmonic-inference/corpus_utils.py:134: UserWarning: Multiple matching tied notes (MultiIndex([(0, 1892),\n",
      "            (0, 1893)],\n",
      "           names=['section', 'ix'])) found for note index (406, 0, 1889) and duration 1/8. Returning the first one.\n",
      "  warnings.warn(f\"Multiple matching tied notes ({matching_notes.index}) found for note index \"\n",
      "/mnt/c/Users/apmcl/Documents/GitHub/harmonic-inference/corpus_utils.py:134: UserWarning: Multiple matching tied notes (MultiIndex([(0, 1892),\n",
      "            (0, 1893)],\n",
      "           names=['section', 'ix'])) found for note index (406, 0, 1890) and duration 1/8. Returning the first one.\n",
      "  warnings.warn(f\"Multiple matching tied notes ({matching_notes.index}) found for note index \"\n",
      "/mnt/c/Users/apmcl/Documents/GitHub/harmonic-inference/corpus_utils.py:134: UserWarning: Multiple matching tied notes (MultiIndex([(0, 1950),\n",
      "            (0, 1951)],\n",
      "           names=['section', 'ix'])) found for note index (406, 0, 1946) and duration 1/8. Returning the first one.\n",
      "  warnings.warn(f\"Multiple matching tied notes ({matching_notes.index}) found for note index \"\n",
      "/mnt/c/Users/apmcl/Documents/GitHub/harmonic-inference/corpus_utils.py:134: UserWarning: Multiple matching tied notes (MultiIndex([(0, 1950),\n",
      "            (0, 1951)],\n",
      "           names=['section', 'ix'])) found for note index (406, 0, 1947) and duration 1/8. Returning the first one.\n",
      "  warnings.warn(f\"Multiple matching tied notes ({matching_notes.index}) found for note index \"\n"
     ]
    },
    {
     "name": "stdout",
     "output_type": "stream",
     "text": [
      "Index 407 / 696\n"
     ]
    },
    {
     "name": "stderr",
     "output_type": "stream",
     "text": [
      "/mnt/c/Users/apmcl/Documents/GitHub/harmonic-inference/corpus_utils.py:134: UserWarning: Multiple matching tied notes (MultiIndex([(0, 3911),\n",
      "            (0, 3912)],\n",
      "           names=['section', 'ix'])) found for note index (407, 0, 3906) and duration 3/4. Returning the first one.\n",
      "  warnings.warn(f\"Multiple matching tied notes ({matching_notes.index}) found for note index \"\n",
      "/mnt/c/Users/apmcl/Documents/GitHub/harmonic-inference/corpus_utils.py:134: UserWarning: Multiple matching tied notes (MultiIndex([(0, 3911),\n",
      "            (0, 3912)],\n",
      "           names=['section', 'ix'])) found for note index (407, 0, 3907) and duration 3/4. Returning the first one.\n",
      "  warnings.warn(f\"Multiple matching tied notes ({matching_notes.index}) found for note index \"\n",
      "/mnt/c/Users/apmcl/Documents/GitHub/harmonic-inference/corpus_utils.py:134: UserWarning: Multiple matching tied notes (MultiIndex([(2, 1071),\n",
      "            (2, 1072)],\n",
      "           names=['section', 'ix'])) found for note index (407, 2, 1060) and duration 3/4. Returning the first one.\n",
      "  warnings.warn(f\"Multiple matching tied notes ({matching_notes.index}) found for note index \"\n",
      "/mnt/c/Users/apmcl/Documents/GitHub/harmonic-inference/corpus_utils.py:134: UserWarning: Multiple matching tied notes (MultiIndex([(2, 1071),\n",
      "            (2, 1072)],\n",
      "           names=['section', 'ix'])) found for note index (407, 2, 1061) and duration 3/4. Returning the first one.\n",
      "  warnings.warn(f\"Multiple matching tied notes ({matching_notes.index}) found for note index \"\n"
     ]
    },
    {
     "name": "stdout",
     "output_type": "stream",
     "text": [
      "Index 412 / 696\n",
      "Index 413 / 696\n",
      "Index 414 / 696\n",
      "Index 415 / 696\n",
      "Index 416 / 696\n",
      "Index 417 / 696\n",
      "Index 418 / 696\n",
      "Index 419 / 696\n"
     ]
    },
    {
     "name": "stderr",
     "output_type": "stream",
     "text": [
      "/mnt/c/Users/apmcl/Documents/GitHub/harmonic-inference/corpus_utils.py:134: UserWarning: Multiple matching tied notes (MultiIndex([(0, 936),\n",
      "            (0, 937)],\n",
      "           names=['section', 'ix'])) found for note index (419, 0, 931) and duration 1/4. Returning the first one.\n",
      "  warnings.warn(f\"Multiple matching tied notes ({matching_notes.index}) found for note index \"\n",
      "/mnt/c/Users/apmcl/Documents/GitHub/harmonic-inference/corpus_utils.py:134: UserWarning: Multiple matching tied notes (MultiIndex([(0, 936),\n",
      "            (0, 937)],\n",
      "           names=['section', 'ix'])) found for note index (419, 0, 932) and duration 1/4. Returning the first one.\n",
      "  warnings.warn(f\"Multiple matching tied notes ({matching_notes.index}) found for note index \"\n"
     ]
    },
    {
     "name": "stdout",
     "output_type": "stream",
     "text": [
      "Index 420 / 696\n"
     ]
    },
    {
     "name": "stderr",
     "output_type": "stream",
     "text": [
      "/mnt/c/Users/apmcl/Documents/GitHub/harmonic-inference/corpus_utils.py:134: UserWarning: Multiple matching tied notes (MultiIndex([(0, 936),\n",
      "            (0, 937)],\n",
      "           names=['section', 'ix'])) found for note index (420, 0, 931) and duration 1/4. Returning the first one.\n",
      "  warnings.warn(f\"Multiple matching tied notes ({matching_notes.index}) found for note index \"\n",
      "/mnt/c/Users/apmcl/Documents/GitHub/harmonic-inference/corpus_utils.py:134: UserWarning: Multiple matching tied notes (MultiIndex([(0, 936),\n",
      "            (0, 937)],\n",
      "           names=['section', 'ix'])) found for note index (420, 0, 932) and duration 1/4. Returning the first one.\n",
      "  warnings.warn(f\"Multiple matching tied notes ({matching_notes.index}) found for note index \"\n"
     ]
    },
    {
     "name": "stdout",
     "output_type": "stream",
     "text": [
      "Index 421 / 696\n"
     ]
    },
    {
     "name": "stderr",
     "output_type": "stream",
     "text": [
      "/mnt/c/Users/apmcl/Documents/GitHub/harmonic-inference/corpus_utils.py:134: UserWarning: Multiple matching tied notes (MultiIndex([(0, 281),\n",
      "            (0, 282)],\n",
      "           names=['section', 'ix'])) found for note index (421, 0, 277) and duration 1/2. Returning the first one.\n",
      "  warnings.warn(f\"Multiple matching tied notes ({matching_notes.index}) found for note index \"\n",
      "/mnt/c/Users/apmcl/Documents/GitHub/harmonic-inference/corpus_utils.py:134: UserWarning: Multiple matching tied notes (MultiIndex([(0, 281),\n",
      "            (0, 282)],\n",
      "           names=['section', 'ix'])) found for note index (421, 0, 278) and duration 1/2. Returning the first one.\n",
      "  warnings.warn(f\"Multiple matching tied notes ({matching_notes.index}) found for note index \"\n"
     ]
    },
    {
     "name": "stdout",
     "output_type": "stream",
     "text": [
      "Index 422 / 696\n",
      "Index 423 / 696\n"
     ]
    },
    {
     "name": "stderr",
     "output_type": "stream",
     "text": [
      "/mnt/c/Users/apmcl/Documents/GitHub/harmonic-inference/corpus_utils.py:134: UserWarning: Multiple matching tied notes (MultiIndex([(0, 495),\n",
      "            (0, 496)],\n",
      "           names=['section', 'ix'])) found for note index (423, 0, 489) and duration 1. Returning the first one.\n",
      "  warnings.warn(f\"Multiple matching tied notes ({matching_notes.index}) found for note index \"\n",
      "/mnt/c/Users/apmcl/Documents/GitHub/harmonic-inference/corpus_utils.py:134: UserWarning: Multiple matching tied notes (MultiIndex([(0, 495),\n",
      "            (0, 496)],\n",
      "           names=['section', 'ix'])) found for note index (423, 0, 491) and duration 1/2. Returning the first one.\n",
      "  warnings.warn(f\"Multiple matching tied notes ({matching_notes.index}) found for note index \"\n",
      "/mnt/c/Users/apmcl/Documents/GitHub/harmonic-inference/corpus_utils.py:134: UserWarning: Multiple matching tied notes (MultiIndex([(0, 815),\n",
      "            (0, 816)],\n",
      "           names=['section', 'ix'])) found for note index (423, 0, 811) and duration 1/2. Returning the first one.\n",
      "  warnings.warn(f\"Multiple matching tied notes ({matching_notes.index}) found for note index \"\n",
      "/mnt/c/Users/apmcl/Documents/GitHub/harmonic-inference/corpus_utils.py:134: UserWarning: Multiple matching tied notes (MultiIndex([(0, 815),\n",
      "            (0, 816)],\n",
      "           names=['section', 'ix'])) found for note index (423, 0, 812) and duration 1/2. Returning the first one.\n",
      "  warnings.warn(f\"Multiple matching tied notes ({matching_notes.index}) found for note index \"\n"
     ]
    },
    {
     "name": "stdout",
     "output_type": "stream",
     "text": [
      "Index 424 / 696\n",
      "Index 425 / 696\n",
      "Index 426 / 696\n",
      "Index 427 / 696\n",
      "Index 428 / 696\n",
      "Index 429 / 696\n",
      "Index 430 / 696\n",
      "Index 431 / 696\n",
      "Index 432 / 696\n",
      "Index 433 / 696\n",
      "Index 434 / 696\n",
      "Index 435 / 696\n"
     ]
    },
    {
     "name": "stderr",
     "output_type": "stream",
     "text": [
      "/mnt/c/Users/apmcl/Documents/GitHub/harmonic-inference/corpus_utils.py:134: UserWarning: Multiple matching tied notes (MultiIndex([(0, 331),\n",
      "            (0, 332)],\n",
      "           names=['section', 'ix'])) found for note index (435, 0, 324) and duration 1. Returning the first one.\n",
      "  warnings.warn(f\"Multiple matching tied notes ({matching_notes.index}) found for note index \"\n",
      "/mnt/c/Users/apmcl/Documents/GitHub/harmonic-inference/corpus_utils.py:134: UserWarning: Multiple matching tied notes (MultiIndex([(0, 331),\n",
      "            (0, 332)],\n",
      "           names=['section', 'ix'])) found for note index (435, 0, 326) and duration 1/2. Returning the first one.\n",
      "  warnings.warn(f\"Multiple matching tied notes ({matching_notes.index}) found for note index \"\n"
     ]
    },
    {
     "name": "stdout",
     "output_type": "stream",
     "text": [
      "Index 436 / 696\n",
      "Index 437 / 696\n",
      "Index 438 / 696\n",
      "Index 439 / 696\n"
     ]
    },
    {
     "name": "stderr",
     "output_type": "stream",
     "text": [
      "/mnt/c/Users/apmcl/Documents/GitHub/harmonic-inference/corpus_utils.py:134: UserWarning: Multiple matching tied notes (MultiIndex([(0, 190),\n",
      "            (0, 191),\n",
      "            (0, 192)],\n",
      "           names=['section', 'ix'])) found for note index (439, 0, 186) and duration 1/2. Returning the first one.\n",
      "  warnings.warn(f\"Multiple matching tied notes ({matching_notes.index}) found for note index \"\n",
      "/mnt/c/Users/apmcl/Documents/GitHub/harmonic-inference/corpus_utils.py:134: UserWarning: Multiple matching tied notes (MultiIndex([(0, 190),\n",
      "            (0, 191),\n",
      "            (0, 192)],\n",
      "           names=['section', 'ix'])) found for note index (439, 0, 187) and duration 1/2. Returning the first one.\n",
      "  warnings.warn(f\"Multiple matching tied notes ({matching_notes.index}) found for note index \"\n"
     ]
    },
    {
     "name": "stdout",
     "output_type": "stream",
     "text": [
      "Index 440 / 696\n"
     ]
    },
    {
     "name": "stderr",
     "output_type": "stream",
     "text": [
      "/mnt/c/Users/apmcl/Documents/GitHub/harmonic-inference/corpus_utils.py:134: UserWarning: Multiple matching tied notes (MultiIndex([(0, 190),\n",
      "            (0, 191),\n",
      "            (0, 192)],\n",
      "           names=['section', 'ix'])) found for note index (439, 0, 188) and duration 1/2. Returning the first one.\n",
      "  warnings.warn(f\"Multiple matching tied notes ({matching_notes.index}) found for note index \"\n",
      "/mnt/c/Users/apmcl/Documents/GitHub/harmonic-inference/corpus_utils.py:134: UserWarning: Multiple matching tied notes (MultiIndex([(0, 250),\n",
      "            (0, 251)],\n",
      "           names=['section', 'ix'])) found for note index (440, 0, 234) and duration 1. Returning the first one.\n",
      "  warnings.warn(f\"Multiple matching tied notes ({matching_notes.index}) found for note index \"\n",
      "/mnt/c/Users/apmcl/Documents/GitHub/harmonic-inference/corpus_utils.py:134: UserWarning: Multiple matching tied notes (MultiIndex([(0, 250),\n",
      "            (0, 251)],\n",
      "           names=['section', 'ix'])) found for note index (440, 0, 235) and duration 1. Returning the first one.\n",
      "  warnings.warn(f\"Multiple matching tied notes ({matching_notes.index}) found for note index \"\n",
      "/mnt/c/Users/apmcl/Documents/GitHub/harmonic-inference/corpus_utils.py:134: UserWarning: Multiple matching tied notes (MultiIndex([(0, 375),\n",
      "            (0, 376)],\n",
      "           names=['section', 'ix'])) found for note index (440, 0, 369) and duration 1. Returning the first one.\n",
      "  warnings.warn(f\"Multiple matching tied notes ({matching_notes.index}) found for note index \"\n",
      "/mnt/c/Users/apmcl/Documents/GitHub/harmonic-inference/corpus_utils.py:134: UserWarning: Multiple matching tied notes (MultiIndex([(0, 375),\n",
      "            (0, 376)],\n",
      "           names=['section', 'ix'])) found for note index (440, 0, 370) and duration 1. Returning the first one.\n",
      "  warnings.warn(f\"Multiple matching tied notes ({matching_notes.index}) found for note index \"\n",
      "/mnt/c/Users/apmcl/Documents/GitHub/harmonic-inference/corpus_utils.py:134: UserWarning: Multiple matching tied notes (MultiIndex([(0, 442),\n",
      "            (0, 443)],\n",
      "           names=['section', 'ix'])) found for note index (440, 0, 432) and duration 1. Returning the first one.\n",
      "  warnings.warn(f\"Multiple matching tied notes ({matching_notes.index}) found for note index \"\n",
      "/mnt/c/Users/apmcl/Documents/GitHub/harmonic-inference/corpus_utils.py:134: UserWarning: Multiple matching tied notes (MultiIndex([(0, 442),\n",
      "            (0, 443)],\n",
      "           names=['section', 'ix'])) found for note index (440, 0, 433) and duration 1. Returning the first one.\n",
      "  warnings.warn(f\"Multiple matching tied notes ({matching_notes.index}) found for note index \"\n",
      "/mnt/c/Users/apmcl/Documents/GitHub/harmonic-inference/corpus_utils.py:134: UserWarning: Multiple matching tied notes (MultiIndex([(0, 594),\n",
      "            (0, 595)],\n",
      "           names=['section', 'ix'])) found for note index (440, 0, 592) and duration 1/2. Returning the first one.\n",
      "  warnings.warn(f\"Multiple matching tied notes ({matching_notes.index}) found for note index \"\n",
      "/mnt/c/Users/apmcl/Documents/GitHub/harmonic-inference/corpus_utils.py:134: UserWarning: Multiple matching tied notes (MultiIndex([(0, 594),\n",
      "            (0, 595)],\n",
      "           names=['section', 'ix'])) found for note index (440, 0, 593) and duration 1/2. Returning the first one.\n",
      "  warnings.warn(f\"Multiple matching tied notes ({matching_notes.index}) found for note index \"\n",
      "/mnt/c/Users/apmcl/Documents/GitHub/harmonic-inference/corpus_utils.py:134: UserWarning: Multiple matching tied notes (MultiIndex([(0, 653),\n",
      "            (0, 654)],\n",
      "           names=['section', 'ix'])) found for note index (440, 0, 649) and duration 1/2. Returning the first one.\n",
      "  warnings.warn(f\"Multiple matching tied notes ({matching_notes.index}) found for note index \"\n",
      "/mnt/c/Users/apmcl/Documents/GitHub/harmonic-inference/corpus_utils.py:134: UserWarning: Multiple matching tied notes (MultiIndex([(0, 653),\n",
      "            (0, 654)],\n",
      "           names=['section', 'ix'])) found for note index (440, 0, 650) and duration 1/2. Returning the first one.\n",
      "  warnings.warn(f\"Multiple matching tied notes ({matching_notes.index}) found for note index \"\n",
      "/mnt/c/Users/apmcl/Documents/GitHub/harmonic-inference/corpus_utils.py:134: UserWarning: Multiple matching tied notes (MultiIndex([(0, 962),\n",
      "            (0, 963)],\n",
      "           names=['section', 'ix'])) found for note index (440, 0, 950) and duration 1. Returning the first one.\n",
      "  warnings.warn(f\"Multiple matching tied notes ({matching_notes.index}) found for note index \"\n",
      "/mnt/c/Users/apmcl/Documents/GitHub/harmonic-inference/corpus_utils.py:134: UserWarning: Multiple matching tied notes (MultiIndex([(0, 962),\n",
      "            (0, 963)],\n",
      "           names=['section', 'ix'])) found for note index (440, 0, 951) and duration 1. Returning the first one.\n",
      "  warnings.warn(f\"Multiple matching tied notes ({matching_notes.index}) found for note index \"\n",
      "/mnt/c/Users/apmcl/Documents/GitHub/harmonic-inference/corpus_utils.py:134: UserWarning: Multiple matching tied notes (MultiIndex([(0, 989),\n",
      "            (0, 990)],\n",
      "           names=['section', 'ix'])) found for note index (440, 0, 979) and duration 1. Returning the first one.\n",
      "  warnings.warn(f\"Multiple matching tied notes ({matching_notes.index}) found for note index \"\n",
      "/mnt/c/Users/apmcl/Documents/GitHub/harmonic-inference/corpus_utils.py:134: UserWarning: Multiple matching tied notes (MultiIndex([(0, 989),\n",
      "            (0, 990)],\n",
      "           names=['section', 'ix'])) found for note index (440, 0, 980) and duration 1. Returning the first one.\n",
      "  warnings.warn(f\"Multiple matching tied notes ({matching_notes.index}) found for note index \"\n",
      "/mnt/c/Users/apmcl/Documents/GitHub/harmonic-inference/corpus_utils.py:134: UserWarning: Multiple matching tied notes (MultiIndex([(0, 1168),\n",
      "            (0, 1169)],\n",
      "           names=['section', 'ix'])) found for note index (440, 0, 1162) and duration 1. Returning the first one.\n",
      "  warnings.warn(f\"Multiple matching tied notes ({matching_notes.index}) found for note index \"\n",
      "/mnt/c/Users/apmcl/Documents/GitHub/harmonic-inference/corpus_utils.py:134: UserWarning: Multiple matching tied notes (MultiIndex([(0, 1168),\n",
      "            (0, 1169)],\n",
      "           names=['section', 'ix'])) found for note index (440, 0, 1163) and duration 1. Returning the first one.\n",
      "  warnings.warn(f\"Multiple matching tied notes ({matching_notes.index}) found for note index \"\n",
      "/mnt/c/Users/apmcl/Documents/GitHub/harmonic-inference/corpus_utils.py:134: UserWarning: Multiple matching tied notes (MultiIndex([(0, 1264),\n",
      "            (0, 1265)],\n",
      "           names=['section', 'ix'])) found for note index (440, 0, 1259) and duration 1/2. Returning the first one.\n",
      "  warnings.warn(f\"Multiple matching tied notes ({matching_notes.index}) found for note index \"\n",
      "/mnt/c/Users/apmcl/Documents/GitHub/harmonic-inference/corpus_utils.py:134: UserWarning: Multiple matching tied notes (MultiIndex([(0, 1264),\n",
      "            (0, 1265)],\n",
      "           names=['section', 'ix'])) found for note index (440, 0, 1260) and duration 1/2. Returning the first one.\n",
      "  warnings.warn(f\"Multiple matching tied notes ({matching_notes.index}) found for note index \"\n"
     ]
    },
    {
     "name": "stdout",
     "output_type": "stream",
     "text": [
      "Index 441 / 696\n"
     ]
    },
    {
     "name": "stderr",
     "output_type": "stream",
     "text": [
      "/mnt/c/Users/apmcl/Documents/GitHub/harmonic-inference/corpus_utils.py:128: UserWarning: No matching tied note (MultiIndex([], names=['section', 'ix'])) found for note index (441, 0, 106) and duration 3/16. Returning the first one.\n",
      "  warnings.warn(f\"No matching tied note ({matching_notes.index}) found for note index \"\n",
      "/mnt/c/Users/apmcl/Documents/GitHub/harmonic-inference/corpus_utils.py:134: UserWarning: Multiple matching tied notes (MultiIndex([(0, 202),\n",
      "            (0, 203)],\n",
      "           names=['section', 'ix'])) found for note index (441, 0, 197) and duration 1/4. Returning the first one.\n",
      "  warnings.warn(f\"Multiple matching tied notes ({matching_notes.index}) found for note index \"\n",
      "/mnt/c/Users/apmcl/Documents/GitHub/harmonic-inference/corpus_utils.py:134: UserWarning: Multiple matching tied notes (MultiIndex([(0, 202),\n",
      "            (0, 203)],\n",
      "           names=['section', 'ix'])) found for note index (441, 0, 198) and duration 1/4. Returning the first one.\n",
      "  warnings.warn(f\"Multiple matching tied notes ({matching_notes.index}) found for note index \"\n"
     ]
    },
    {
     "name": "stdout",
     "output_type": "stream",
     "text": [
      "Index 442 / 696\n"
     ]
    },
    {
     "name": "stderr",
     "output_type": "stream",
     "text": [
      "/mnt/c/Users/apmcl/Documents/GitHub/harmonic-inference/corpus_utils.py:134: UserWarning: Multiple matching tied notes (MultiIndex([(0, 570),\n",
      "            (0, 571)],\n",
      "           names=['section', 'ix'])) found for note index (442, 0, 563) and duration 1/2. Returning the first one.\n",
      "  warnings.warn(f\"Multiple matching tied notes ({matching_notes.index}) found for note index \"\n",
      "/mnt/c/Users/apmcl/Documents/GitHub/harmonic-inference/corpus_utils.py:134: UserWarning: Multiple matching tied notes (MultiIndex([(0, 570),\n",
      "            (0, 571)],\n",
      "           names=['section', 'ix'])) found for note index (442, 0, 566) and duration 1/4. Returning the first one.\n",
      "  warnings.warn(f\"Multiple matching tied notes ({matching_notes.index}) found for note index \"\n",
      "/mnt/c/Users/apmcl/Documents/GitHub/harmonic-inference/corpus_utils.py:134: UserWarning: Multiple matching tied notes (MultiIndex([(2, 208),\n",
      "            (2, 209)],\n",
      "           names=['section', 'ix'])) found for note index (442, 2, 201) and duration 1/2. Returning the first one.\n",
      "  warnings.warn(f\"Multiple matching tied notes ({matching_notes.index}) found for note index \"\n",
      "/mnt/c/Users/apmcl/Documents/GitHub/harmonic-inference/corpus_utils.py:134: UserWarning: Multiple matching tied notes (MultiIndex([(2, 208),\n",
      "            (2, 209)],\n",
      "           names=['section', 'ix'])) found for note index (442, 2, 202) and duration 1/2. Returning the first one.\n",
      "  warnings.warn(f\"Multiple matching tied notes ({matching_notes.index}) found for note index \"\n"
     ]
    },
    {
     "name": "stdout",
     "output_type": "stream",
     "text": [
      "Index 443 / 696\n",
      "Index 444 / 696\n",
      "Index 446 / 696\n",
      "Index 447 / 696\n",
      "Index 448 / 696\n",
      "Index 449 / 696\n",
      "Index 450 / 696\n",
      "Index 451 / 696\n"
     ]
    },
    {
     "name": "stderr",
     "output_type": "stream",
     "text": [
      "/mnt/c/Users/apmcl/Documents/GitHub/harmonic-inference/corpus_utils.py:128: UserWarning: No matching tied note (MultiIndex([], names=['section', 'ix'])) found for note index (451, 0, 580) and duration 1/2. Returning the first one.\n",
      "  warnings.warn(f\"No matching tied note ({matching_notes.index}) found for note index \"\n"
     ]
    },
    {
     "name": "stdout",
     "output_type": "stream",
     "text": [
      "Index 452 / 696\n",
      "Index 453 / 696\n",
      "Index 454 / 696\n",
      "Index 455 / 696\n",
      "Index 456 / 696\n",
      "Index 457 / 696\n",
      "Index 458 / 696\n",
      "Index 459 / 696\n",
      "Index 460 / 696\n"
     ]
    },
    {
     "name": "stderr",
     "output_type": "stream",
     "text": [
      "/mnt/c/Users/apmcl/Documents/GitHub/harmonic-inference/corpus_utils.py:128: UserWarning: No matching tied note (MultiIndex([], names=['section', 'ix'])) found for note index (460, 15, 131) and duration 1/4. Returning the first one.\n",
      "  warnings.warn(f\"No matching tied note ({matching_notes.index}) found for note index \"\n"
     ]
    },
    {
     "name": "stdout",
     "output_type": "stream",
     "text": [
      "Index 461 / 696\n",
      "Index 462 / 696\n",
      "Index 463 / 696\n",
      "Index 464 / 696\n",
      "Index 465 / 696\n",
      "Index 466 / 696\n",
      "Index 468 / 696\n",
      "Index 469 / 696\n",
      "Index 470 / 696\n",
      "Index 471 / 696\n",
      "Index 472 / 696\n",
      "Index 473 / 696\n",
      "Index 474 / 696\n",
      "Index 475 / 696\n",
      "Index 476 / 696\n",
      "Index 477 / 696\n",
      "Index 478 / 696\n",
      "Index 479 / 696\n",
      "Index 480 / 696\n",
      "Index 481 / 696\n",
      "Index 482 / 696\n",
      "Index 483 / 696\n",
      "Index 484 / 696\n",
      "Index 485 / 696\n",
      "Index 486 / 696\n",
      "Index 487 / 696\n",
      "Index 489 / 696\n",
      "Index 491 / 696\n",
      "Index 492 / 696\n"
     ]
    },
    {
     "name": "stderr",
     "output_type": "stream",
     "text": [
      "/mnt/c/Users/apmcl/Documents/GitHub/harmonic-inference/corpus_utils.py:128: UserWarning: No matching tied note (MultiIndex([], names=['section', 'ix'])) found for note index (492, 7, 52) and duration 1/4. Returning the first one.\n",
      "  warnings.warn(f\"No matching tied note ({matching_notes.index}) found for note index \"\n"
     ]
    },
    {
     "name": "stdout",
     "output_type": "stream",
     "text": [
      "Index 493 / 696\n",
      "Index 494 / 696\n",
      "Index 495 / 696\n",
      "Index 496 / 696\n",
      "Index 497 / 696\n",
      "Index 498 / 696\n",
      "Index 499 / 696\n",
      "Index 502 / 696\n"
     ]
    },
    {
     "name": "stderr",
     "output_type": "stream",
     "text": [
      "/mnt/c/Users/apmcl/Documents/GitHub/harmonic-inference/corpus_utils.py:128: UserWarning: No matching tied note (MultiIndex([], names=['section', 'ix'])) found for note index (502, 1, 34) and duration 1/40. Returning the first one.\n",
      "  warnings.warn(f\"No matching tied note ({matching_notes.index}) found for note index \"\n",
      "/mnt/c/Users/apmcl/Documents/GitHub/harmonic-inference/corpus_utils.py:128: UserWarning: No matching tied note (MultiIndex([], names=['section', 'ix'])) found for note index (502, 1, 84) and duration 1/40. Returning the first one.\n",
      "  warnings.warn(f\"No matching tied note ({matching_notes.index}) found for note index \"\n",
      "/mnt/c/Users/apmcl/Documents/GitHub/harmonic-inference/corpus_utils.py:128: UserWarning: No matching tied note (MultiIndex([], names=['section', 'ix'])) found for note index (502, 3, 35) and duration 1/40. Returning the first one.\n",
      "  warnings.warn(f\"No matching tied note ({matching_notes.index}) found for note index \"\n",
      "/mnt/c/Users/apmcl/Documents/GitHub/harmonic-inference/corpus_utils.py:128: UserWarning: No matching tied note (MultiIndex([], names=['section', 'ix'])) found for note index (502, 3, 87) and duration 1/40. Returning the first one.\n",
      "  warnings.warn(f\"No matching tied note ({matching_notes.index}) found for note index \"\n",
      "/mnt/c/Users/apmcl/Documents/GitHub/harmonic-inference/corpus_utils.py:128: UserWarning: No matching tied note (MultiIndex([], names=['section', 'ix'])) found for note index (502, 11, 99) and duration 1/112. Returning the first one.\n",
      "  warnings.warn(f\"No matching tied note ({matching_notes.index}) found for note index \"\n",
      "/mnt/c/Users/apmcl/Documents/GitHub/harmonic-inference/corpus_utils.py:128: UserWarning: No matching tied note (MultiIndex([], names=['section', 'ix'])) found for note index (502, 11, 100) and duration 1/112. Returning the first one.\n",
      "  warnings.warn(f\"No matching tied note ({matching_notes.index}) found for note index \"\n",
      "/mnt/c/Users/apmcl/Documents/GitHub/harmonic-inference/corpus_utils.py:128: UserWarning: No matching tied note (MultiIndex([], names=['section', 'ix'])) found for note index (502, 11, 101) and duration 1/112. Returning the first one.\n",
      "  warnings.warn(f\"No matching tied note ({matching_notes.index}) found for note index \"\n",
      "/mnt/c/Users/apmcl/Documents/GitHub/harmonic-inference/corpus_utils.py:128: UserWarning: No matching tied note (MultiIndex([], names=['section', 'ix'])) found for note index (502, 11, 117) and duration 1/288. Returning the first one.\n",
      "  warnings.warn(f\"No matching tied note ({matching_notes.index}) found for note index \"\n",
      "/mnt/c/Users/apmcl/Documents/GitHub/harmonic-inference/corpus_utils.py:128: UserWarning: No matching tied note (MultiIndex([], names=['section', 'ix'])) found for note index (502, 11, 118) and duration 1/288. Returning the first one.\n",
      "  warnings.warn(f\"No matching tied note ({matching_notes.index}) found for note index \"\n",
      "/mnt/c/Users/apmcl/Documents/GitHub/harmonic-inference/corpus_utils.py:128: UserWarning: No matching tied note (MultiIndex([], names=['section', 'ix'])) found for note index (502, 11, 119) and duration 1/288. Returning the first one.\n",
      "  warnings.warn(f\"No matching tied note ({matching_notes.index}) found for note index \"\n",
      "/mnt/c/Users/apmcl/Documents/GitHub/harmonic-inference/corpus_utils.py:128: UserWarning: No matching tied note (MultiIndex([], names=['section', 'ix'])) found for note index (502, 11, 120) and duration 1/288. Returning the first one.\n",
      "  warnings.warn(f\"No matching tied note ({matching_notes.index}) found for note index \"\n",
      "/mnt/c/Users/apmcl/Documents/GitHub/harmonic-inference/corpus_utils.py:128: UserWarning: No matching tied note (MultiIndex([], names=['section', 'ix'])) found for note index (502, 11, 171) and duration 1/56. Returning the first one.\n",
      "  warnings.warn(f\"No matching tied note ({matching_notes.index}) found for note index \"\n",
      "/mnt/c/Users/apmcl/Documents/GitHub/harmonic-inference/corpus_utils.py:128: UserWarning: No matching tied note (MultiIndex([], names=['section', 'ix'])) found for note index (502, 11, 172) and duration 1/56. Returning the first one.\n",
      "  warnings.warn(f\"No matching tied note ({matching_notes.index}) found for note index \"\n",
      "/mnt/c/Users/apmcl/Documents/GitHub/harmonic-inference/corpus_utils.py:128: UserWarning: No matching tied note (MultiIndex([], names=['section', 'ix'])) found for note index (502, 11, 173) and duration 1/56. Returning the first one.\n",
      "  warnings.warn(f\"No matching tied note ({matching_notes.index}) found for note index \"\n",
      "/mnt/c/Users/apmcl/Documents/GitHub/harmonic-inference/corpus_utils.py:128: UserWarning: No matching tied note (MultiIndex([], names=['section', 'ix'])) found for note index (502, 11, 189) and duration 1/288. Returning the first one.\n",
      "  warnings.warn(f\"No matching tied note ({matching_notes.index}) found for note index \"\n",
      "/mnt/c/Users/apmcl/Documents/GitHub/harmonic-inference/corpus_utils.py:128: UserWarning: No matching tied note (MultiIndex([], names=['section', 'ix'])) found for note index (502, 11, 190) and duration 1/288. Returning the first one.\n",
      "  warnings.warn(f\"No matching tied note ({matching_notes.index}) found for note index \"\n",
      "/mnt/c/Users/apmcl/Documents/GitHub/harmonic-inference/corpus_utils.py:128: UserWarning: No matching tied note (MultiIndex([], names=['section', 'ix'])) found for note index (502, 11, 191) and duration 1/288. Returning the first one.\n",
      "  warnings.warn(f\"No matching tied note ({matching_notes.index}) found for note index \"\n",
      "/mnt/c/Users/apmcl/Documents/GitHub/harmonic-inference/corpus_utils.py:128: UserWarning: No matching tied note (MultiIndex([], names=['section', 'ix'])) found for note index (502, 11, 192) and duration 1/288. Returning the first one.\n",
      "  warnings.warn(f\"No matching tied note ({matching_notes.index}) found for note index \"\n",
      "/mnt/c/Users/apmcl/Documents/GitHub/harmonic-inference/corpus_utils.py:128: UserWarning: No matching tied note (MultiIndex([], names=['section', 'ix'])) found for note index (502, 24, 49) and duration 1/4. Returning the first one.\n",
      "  warnings.warn(f\"No matching tied note ({matching_notes.index}) found for note index \"\n",
      "/mnt/c/Users/apmcl/Documents/GitHub/harmonic-inference/corpus_utils.py:128: UserWarning: No matching tied note (MultiIndex([], names=['section', 'ix'])) found for note index (502, 30, 210) and duration 1/8. Returning the first one.\n",
      "  warnings.warn(f\"No matching tied note ({matching_notes.index}) found for note index \"\n",
      "/mnt/c/Users/apmcl/Documents/GitHub/harmonic-inference/corpus_utils.py:128: UserWarning: No matching tied note (MultiIndex([], names=['section', 'ix'])) found for note index (502, 30, 211) and duration 1/8. Returning the first one.\n",
      "  warnings.warn(f\"No matching tied note ({matching_notes.index}) found for note index \"\n"
     ]
    },
    {
     "name": "stdout",
     "output_type": "stream",
     "text": [
      "Index 503 / 696\n"
     ]
    },
    {
     "name": "stderr",
     "output_type": "stream",
     "text": [
      "/mnt/c/Users/apmcl/Documents/GitHub/harmonic-inference/corpus_utils.py:128: UserWarning: No matching tied note (MultiIndex([], names=['section', 'ix'])) found for note index (503, 0, 149) and duration 1/24. Returning the first one.\n",
      "  warnings.warn(f\"No matching tied note ({matching_notes.index}) found for note index \"\n",
      "/mnt/c/Users/apmcl/Documents/GitHub/harmonic-inference/corpus_utils.py:128: UserWarning: No matching tied note (MultiIndex([], names=['section', 'ix'])) found for note index (503, 1, 1342) and duration 1/8. Returning the first one.\n",
      "  warnings.warn(f\"No matching tied note ({matching_notes.index}) found for note index \"\n",
      "/mnt/c/Users/apmcl/Documents/GitHub/harmonic-inference/corpus_utils.py:128: UserWarning: No matching tied note (MultiIndex([], names=['section', 'ix'])) found for note index (503, 1, 1343) and duration 1/8. Returning the first one.\n",
      "  warnings.warn(f\"No matching tied note ({matching_notes.index}) found for note index \"\n",
      "/mnt/c/Users/apmcl/Documents/GitHub/harmonic-inference/corpus_utils.py:128: UserWarning: No matching tied note (MultiIndex([], names=['section', 'ix'])) found for note index (503, 1, 1344) and duration 1/8. Returning the first one.\n",
      "  warnings.warn(f\"No matching tied note ({matching_notes.index}) found for note index \"\n",
      "/mnt/c/Users/apmcl/Documents/GitHub/harmonic-inference/corpus_utils.py:128: UserWarning: No matching tied note (MultiIndex([], names=['section', 'ix'])) found for note index (503, 1, 1345) and duration 1/8. Returning the first one.\n",
      "  warnings.warn(f\"No matching tied note ({matching_notes.index}) found for note index \"\n",
      "/mnt/c/Users/apmcl/Documents/GitHub/harmonic-inference/corpus_utils.py:128: UserWarning: No matching tied note (MultiIndex([], names=['section', 'ix'])) found for note index (503, 1, 2222) and duration 3/4. Returning the first one.\n",
      "  warnings.warn(f\"No matching tied note ({matching_notes.index}) found for note index \"\n",
      "/mnt/c/Users/apmcl/Documents/GitHub/harmonic-inference/corpus_utils.py:128: UserWarning: No matching tied note (MultiIndex([], names=['section', 'ix'])) found for note index (503, 1, 2223) and duration 3/4. Returning the first one.\n",
      "  warnings.warn(f\"No matching tied note ({matching_notes.index}) found for note index \"\n",
      "/mnt/c/Users/apmcl/Documents/GitHub/harmonic-inference/corpus_utils.py:128: UserWarning: No matching tied note (MultiIndex([], names=['section', 'ix'])) found for note index (503, 1, 2224) and duration 3/4. Returning the first one.\n",
      "  warnings.warn(f\"No matching tied note ({matching_notes.index}) found for note index \"\n",
      "/mnt/c/Users/apmcl/Documents/GitHub/harmonic-inference/corpus_utils.py:128: UserWarning: No matching tied note (MultiIndex([], names=['section', 'ix'])) found for note index (503, 1, 2225) and duration 3/4. Returning the first one.\n",
      "  warnings.warn(f\"No matching tied note ({matching_notes.index}) found for note index \"\n",
      "/mnt/c/Users/apmcl/Documents/GitHub/harmonic-inference/corpus_utils.py:128: UserWarning: No matching tied note (MultiIndex([], names=['section', 'ix'])) found for note index (503, 2, 994) and duration 1/8. Returning the first one.\n",
      "  warnings.warn(f\"No matching tied note ({matching_notes.index}) found for note index \"\n",
      "/mnt/c/Users/apmcl/Documents/GitHub/harmonic-inference/corpus_utils.py:128: UserWarning: No matching tied note (MultiIndex([], names=['section', 'ix'])) found for note index (503, 2, 1032) and duration 1/8. Returning the first one.\n",
      "  warnings.warn(f\"No matching tied note ({matching_notes.index}) found for note index \"\n"
     ]
    },
    {
     "name": "stdout",
     "output_type": "stream",
     "text": [
      "Index 505 / 696\n",
      "Index 507 / 696\n",
      "Index 508 / 696\n"
     ]
    },
    {
     "name": "stderr",
     "output_type": "stream",
     "text": [
      "/mnt/c/Users/apmcl/Documents/GitHub/harmonic-inference/corpus_utils.py:134: UserWarning: Multiple matching tied notes (MultiIndex([(0, 1509),\n",
      "            (0, 1510)],\n",
      "           names=['section', 'ix'])) found for note index (508, 0, 1500) and duration 1/4. Returning the first one.\n",
      "  warnings.warn(f\"Multiple matching tied notes ({matching_notes.index}) found for note index \"\n",
      "/mnt/c/Users/apmcl/Documents/GitHub/harmonic-inference/corpus_utils.py:134: UserWarning: Multiple matching tied notes (MultiIndex([(0, 1509),\n",
      "            (0, 1510)],\n",
      "           names=['section', 'ix'])) found for note index (508, 0, 1501) and duration 1/4. Returning the first one.\n",
      "  warnings.warn(f\"Multiple matching tied notes ({matching_notes.index}) found for note index \"\n"
     ]
    },
    {
     "name": "stdout",
     "output_type": "stream",
     "text": [
      "Index 509 / 696\n"
     ]
    },
    {
     "name": "stderr",
     "output_type": "stream",
     "text": [
      "/mnt/c/Users/apmcl/Documents/GitHub/harmonic-inference/corpus_utils.py:134: UserWarning: Multiple matching tied notes (MultiIndex([(0, 274),\n",
      "            (0, 275)],\n",
      "           names=['section', 'ix'])) found for note index (509, 0, 266) and duration 1/4. Returning the first one.\n",
      "  warnings.warn(f\"Multiple matching tied notes ({matching_notes.index}) found for note index \"\n",
      "/mnt/c/Users/apmcl/Documents/GitHub/harmonic-inference/corpus_utils.py:134: UserWarning: Multiple matching tied notes (MultiIndex([(0, 274),\n",
      "            (0, 275)],\n",
      "           names=['section', 'ix'])) found for note index (509, 0, 267) and duration 1/4. Returning the first one.\n",
      "  warnings.warn(f\"Multiple matching tied notes ({matching_notes.index}) found for note index \"\n",
      "/mnt/c/Users/apmcl/Documents/GitHub/harmonic-inference/corpus_utils.py:134: UserWarning: Multiple matching tied notes (MultiIndex([(0, 438),\n",
      "            (0, 439)],\n",
      "           names=['section', 'ix'])) found for note index (509, 0, 433) and duration 1/4. Returning the first one.\n",
      "  warnings.warn(f\"Multiple matching tied notes ({matching_notes.index}) found for note index \"\n",
      "/mnt/c/Users/apmcl/Documents/GitHub/harmonic-inference/corpus_utils.py:134: UserWarning: Multiple matching tied notes (MultiIndex([(0, 438),\n",
      "            (0, 439)],\n",
      "           names=['section', 'ix'])) found for note index (509, 0, 434) and duration 1/4. Returning the first one.\n",
      "  warnings.warn(f\"Multiple matching tied notes ({matching_notes.index}) found for note index \"\n",
      "/mnt/c/Users/apmcl/Documents/GitHub/harmonic-inference/corpus_utils.py:134: UserWarning: Multiple matching tied notes (MultiIndex([(0, 529),\n",
      "            (0, 530)],\n",
      "           names=['section', 'ix'])) found for note index (509, 0, 523) and duration 1/4. Returning the first one.\n",
      "  warnings.warn(f\"Multiple matching tied notes ({matching_notes.index}) found for note index \"\n",
      "/mnt/c/Users/apmcl/Documents/GitHub/harmonic-inference/corpus_utils.py:134: UserWarning: Multiple matching tied notes (MultiIndex([(0, 529),\n",
      "            (0, 530)],\n",
      "           names=['section', 'ix'])) found for note index (509, 0, 524) and duration 1/4. Returning the first one.\n",
      "  warnings.warn(f\"Multiple matching tied notes ({matching_notes.index}) found for note index \"\n"
     ]
    },
    {
     "name": "stdout",
     "output_type": "stream",
     "text": [
      "Index 510 / 696\n",
      "Index 511 / 696\n",
      "Index 512 / 696\n",
      "Index 513 / 696\n",
      "Index 514 / 696\n",
      "Index 515 / 696\n",
      "Index 516 / 696\n",
      "Index 517 / 696\n",
      "Index 519 / 696\n",
      "Index 520 / 696\n",
      "Index 522 / 696\n",
      "Index 523 / 696\n",
      "Index 525 / 696\n",
      "Index 526 / 696\n",
      "Index 527 / 696\n",
      "Index 528 / 696\n",
      "Index 529 / 696\n",
      "Index 530 / 696\n",
      "Index 531 / 696\n"
     ]
    },
    {
     "name": "stderr",
     "output_type": "stream",
     "text": [
      "/mnt/c/Users/apmcl/Documents/GitHub/harmonic-inference/corpus_utils.py:128: UserWarning: No matching tied note (MultiIndex([], names=['section', 'ix'])) found for note index (531, 2, 117) and duration 1/16. Returning the first one.\n",
      "  warnings.warn(f\"No matching tied note ({matching_notes.index}) found for note index \"\n",
      "/mnt/c/Users/apmcl/Documents/GitHub/harmonic-inference/corpus_utils.py:128: UserWarning: No matching tied note (MultiIndex([], names=['section', 'ix'])) found for note index (531, 2, 119) and duration 1/16. Returning the first one.\n",
      "  warnings.warn(f\"No matching tied note ({matching_notes.index}) found for note index \"\n",
      "/mnt/c/Users/apmcl/Documents/GitHub/harmonic-inference/corpus_utils.py:128: UserWarning: No matching tied note (MultiIndex([], names=['section', 'ix'])) found for note index (531, 2, 120) and duration 1/16. Returning the first one.\n",
      "  warnings.warn(f\"No matching tied note ({matching_notes.index}) found for note index \"\n"
     ]
    },
    {
     "name": "stdout",
     "output_type": "stream",
     "text": [
      "Index 532 / 696\n",
      "Index 534 / 696\n",
      "Index 535 / 696\n"
     ]
    },
    {
     "name": "stderr",
     "output_type": "stream",
     "text": [
      "/mnt/c/Users/apmcl/Documents/GitHub/harmonic-inference/corpus_utils.py:134: UserWarning: Multiple matching tied notes (MultiIndex([(1, 76),\n",
      "            (1, 77)],\n",
      "           names=['section', 'ix'])) found for note index (535, 1, 71) and duration 1/8. Returning the first one.\n",
      "  warnings.warn(f\"Multiple matching tied notes ({matching_notes.index}) found for note index \"\n",
      "/mnt/c/Users/apmcl/Documents/GitHub/harmonic-inference/corpus_utils.py:134: UserWarning: Multiple matching tied notes (MultiIndex([(1, 76),\n",
      "            (1, 77)],\n",
      "           names=['section', 'ix'])) found for note index (535, 1, 72) and duration 1/8. Returning the first one.\n",
      "  warnings.warn(f\"Multiple matching tied notes ({matching_notes.index}) found for note index \"\n"
     ]
    },
    {
     "name": "stdout",
     "output_type": "stream",
     "text": [
      "Index 536 / 696\n",
      "Index 537 / 696\n"
     ]
    },
    {
     "name": "stderr",
     "output_type": "stream",
     "text": [
      "/mnt/c/Users/apmcl/Documents/GitHub/harmonic-inference/corpus_utils.py:128: UserWarning: No matching tied note (MultiIndex([], names=['section', 'ix'])) found for note index (537, 1, 222) and duration 1/16. Returning the first one.\n",
      "  warnings.warn(f\"No matching tied note ({matching_notes.index}) found for note index \"\n",
      "/mnt/c/Users/apmcl/Documents/GitHub/harmonic-inference/corpus_utils.py:128: UserWarning: No matching tied note (MultiIndex([], names=['section', 'ix'])) found for note index (537, 1, 223) and duration 1/32. Returning the first one.\n",
      "  warnings.warn(f\"No matching tied note ({matching_notes.index}) found for note index \"\n"
     ]
    },
    {
     "name": "stdout",
     "output_type": "stream",
     "text": [
      "Index 538 / 696\n",
      "Index 539 / 696\n",
      "Index 540 / 696\n"
     ]
    },
    {
     "name": "stderr",
     "output_type": "stream",
     "text": [
      "/mnt/c/Users/apmcl/Documents/GitHub/harmonic-inference/corpus_utils.py:128: UserWarning: No matching tied note (MultiIndex([], names=['section', 'ix'])) found for note index (540, 0, 148) and duration 1/64. Returning the first one.\n",
      "  warnings.warn(f\"No matching tied note ({matching_notes.index}) found for note index \"\n"
     ]
    },
    {
     "name": "stdout",
     "output_type": "stream",
     "text": [
      "Index 541 / 696\n",
      "Index 542 / 696\n",
      "Index 543 / 696\n",
      "Index 544 / 696\n",
      "Index 545 / 696\n"
     ]
    },
    {
     "name": "stderr",
     "output_type": "stream",
     "text": [
      "/mnt/c/Users/apmcl/Documents/GitHub/harmonic-inference/corpus_utils.py:134: UserWarning: Multiple matching tied notes (MultiIndex([(0, 647),\n",
      "            (0, 648)],\n",
      "           names=['section', 'ix'])) found for note index (545, 0, 644) and duration 1. Returning the first one.\n",
      "  warnings.warn(f\"Multiple matching tied notes ({matching_notes.index}) found for note index \"\n",
      "/mnt/c/Users/apmcl/Documents/GitHub/harmonic-inference/corpus_utils.py:134: UserWarning: Multiple matching tied notes (MultiIndex([(0, 647),\n",
      "            (0, 648)],\n",
      "           names=['section', 'ix'])) found for note index (545, 0, 645) and duration 1. Returning the first one.\n",
      "  warnings.warn(f\"Multiple matching tied notes ({matching_notes.index}) found for note index \"\n"
     ]
    },
    {
     "name": "stdout",
     "output_type": "stream",
     "text": [
      "Index 546 / 696\n"
     ]
    },
    {
     "name": "stderr",
     "output_type": "stream",
     "text": [
      "/mnt/c/Users/apmcl/Documents/GitHub/harmonic-inference/corpus_utils.py:134: UserWarning: Multiple matching tied notes (MultiIndex([(4, 315),\n",
      "            (4, 316)],\n",
      "           names=['section', 'ix'])) found for note index (546, 4, 312) and duration 1. Returning the first one.\n",
      "  warnings.warn(f\"Multiple matching tied notes ({matching_notes.index}) found for note index \"\n",
      "/mnt/c/Users/apmcl/Documents/GitHub/harmonic-inference/corpus_utils.py:134: UserWarning: Multiple matching tied notes (MultiIndex([(4, 315),\n",
      "            (4, 316)],\n",
      "           names=['section', 'ix'])) found for note index (546, 4, 313) and duration 1. Returning the first one.\n",
      "  warnings.warn(f\"Multiple matching tied notes ({matching_notes.index}) found for note index \"\n"
     ]
    },
    {
     "name": "stdout",
     "output_type": "stream",
     "text": [
      "Index 547 / 696\n"
     ]
    },
    {
     "name": "stderr",
     "output_type": "stream",
     "text": [
      "/mnt/c/Users/apmcl/Documents/GitHub/harmonic-inference/corpus_utils.py:134: UserWarning: Multiple matching tied notes (MultiIndex([(0, 522),\n",
      "            (0, 523)],\n",
      "           names=['section', 'ix'])) found for note index (547, 0, 519) and duration 1. Returning the first one.\n",
      "  warnings.warn(f\"Multiple matching tied notes ({matching_notes.index}) found for note index \"\n",
      "/mnt/c/Users/apmcl/Documents/GitHub/harmonic-inference/corpus_utils.py:134: UserWarning: Multiple matching tied notes (MultiIndex([(0, 522),\n",
      "            (0, 523)],\n",
      "           names=['section', 'ix'])) found for note index (547, 0, 520) and duration 1. Returning the first one.\n",
      "  warnings.warn(f\"Multiple matching tied notes ({matching_notes.index}) found for note index \"\n"
     ]
    },
    {
     "name": "stdout",
     "output_type": "stream",
     "text": [
      "Index 548 / 696\n",
      "Index 549 / 696\n",
      "Index 550 / 696\n"
     ]
    },
    {
     "name": "stderr",
     "output_type": "stream",
     "text": [
      "/mnt/c/Users/apmcl/Documents/GitHub/harmonic-inference/corpus_utils.py:134: UserWarning: Multiple matching tied notes (MultiIndex([(0, 304),\n",
      "            (0, 305)],\n",
      "           names=['section', 'ix'])) found for note index (550, 0, 301) and duration 1/2. Returning the first one.\n",
      "  warnings.warn(f\"Multiple matching tied notes ({matching_notes.index}) found for note index \"\n",
      "/mnt/c/Users/apmcl/Documents/GitHub/harmonic-inference/corpus_utils.py:134: UserWarning: Multiple matching tied notes (MultiIndex([(0, 304),\n",
      "            (0, 305)],\n",
      "           names=['section', 'ix'])) found for note index (550, 0, 302) and duration 1/2. Returning the first one.\n",
      "  warnings.warn(f\"Multiple matching tied notes ({matching_notes.index}) found for note index \"\n"
     ]
    },
    {
     "name": "stdout",
     "output_type": "stream",
     "text": [
      "Index 551 / 696\n"
     ]
    },
    {
     "name": "stderr",
     "output_type": "stream",
     "text": [
      "/mnt/c/Users/apmcl/Documents/GitHub/harmonic-inference/corpus_utils.py:134: UserWarning: Multiple matching tied notes (MultiIndex([(0, 2),\n",
      "            (0, 3)],\n",
      "           names=['section', 'ix'])) found for note index (551, 0, 0) and duration 1. Returning the first one.\n",
      "  warnings.warn(f\"Multiple matching tied notes ({matching_notes.index}) found for note index \"\n",
      "/mnt/c/Users/apmcl/Documents/GitHub/harmonic-inference/corpus_utils.py:134: UserWarning: Multiple matching tied notes (MultiIndex([(0, 2),\n",
      "            (0, 3)],\n",
      "           names=['section', 'ix'])) found for note index (551, 0, 1) and duration 1. Returning the first one.\n",
      "  warnings.warn(f\"Multiple matching tied notes ({matching_notes.index}) found for note index \"\n",
      "/mnt/c/Users/apmcl/Documents/GitHub/harmonic-inference/corpus_utils.py:134: UserWarning: Multiple matching tied notes (MultiIndex([(0, 56),\n",
      "            (0, 57)],\n",
      "           names=['section', 'ix'])) found for note index (551, 0, 53) and duration 1. Returning the first one.\n",
      "  warnings.warn(f\"Multiple matching tied notes ({matching_notes.index}) found for note index \"\n",
      "/mnt/c/Users/apmcl/Documents/GitHub/harmonic-inference/corpus_utils.py:134: UserWarning: Multiple matching tied notes (MultiIndex([(0, 56),\n",
      "            (0, 57)],\n",
      "           names=['section', 'ix'])) found for note index (551, 0, 55) and duration 1/2. Returning the first one.\n",
      "  warnings.warn(f\"Multiple matching tied notes ({matching_notes.index}) found for note index \"\n",
      "/mnt/c/Users/apmcl/Documents/GitHub/harmonic-inference/corpus_utils.py:134: UserWarning: Multiple matching tied notes (MultiIndex([(0, 98),\n",
      "            (0, 99)],\n",
      "           names=['section', 'ix'])) found for note index (551, 0, 94) and duration 1. Returning the first one.\n",
      "  warnings.warn(f\"Multiple matching tied notes ({matching_notes.index}) found for note index \"\n",
      "/mnt/c/Users/apmcl/Documents/GitHub/harmonic-inference/corpus_utils.py:134: UserWarning: Multiple matching tied notes (MultiIndex([(0, 98),\n",
      "            (0, 99)],\n",
      "           names=['section', 'ix'])) found for note index (551, 0, 96) and duration 1/2. Returning the first one.\n",
      "  warnings.warn(f\"Multiple matching tied notes ({matching_notes.index}) found for note index \"\n",
      "/mnt/c/Users/apmcl/Documents/GitHub/harmonic-inference/corpus_utils.py:134: UserWarning: Multiple matching tied notes (MultiIndex([(0, 113),\n",
      "            (0, 114)],\n",
      "           names=['section', 'ix'])) found for note index (551, 0, 110) and duration 1/2. Returning the first one.\n",
      "  warnings.warn(f\"Multiple matching tied notes ({matching_notes.index}) found for note index \"\n",
      "/mnt/c/Users/apmcl/Documents/GitHub/harmonic-inference/corpus_utils.py:134: UserWarning: Multiple matching tied notes (MultiIndex([(0, 113),\n",
      "            (0, 114)],\n",
      "           names=['section', 'ix'])) found for note index (551, 0, 111) and duration 1/2. Returning the first one.\n",
      "  warnings.warn(f\"Multiple matching tied notes ({matching_notes.index}) found for note index \"\n",
      "/mnt/c/Users/apmcl/Documents/GitHub/harmonic-inference/corpus_utils.py:128: UserWarning: No matching tied note (MultiIndex([], names=['section', 'ix'])) found for note index (551, 0, 133) and duration 1. Returning the first one.\n",
      "  warnings.warn(f\"No matching tied note ({matching_notes.index}) found for note index \"\n",
      "/mnt/c/Users/apmcl/Documents/GitHub/harmonic-inference/corpus_utils.py:134: UserWarning: Multiple matching tied notes (MultiIndex([(2, 257),\n",
      "            (2, 258)],\n",
      "           names=['section', 'ix'])) found for note index (551, 2, 254) and duration 1. Returning the first one.\n",
      "  warnings.warn(f\"Multiple matching tied notes ({matching_notes.index}) found for note index \"\n",
      "/mnt/c/Users/apmcl/Documents/GitHub/harmonic-inference/corpus_utils.py:134: UserWarning: Multiple matching tied notes (MultiIndex([(2, 257),\n",
      "            (2, 258)],\n",
      "           names=['section', 'ix'])) found for note index (551, 2, 255) and duration 1. Returning the first one.\n",
      "  warnings.warn(f\"Multiple matching tied notes ({matching_notes.index}) found for note index \"\n"
     ]
    },
    {
     "name": "stdout",
     "output_type": "stream",
     "text": [
      "Index 552 / 696\n",
      "Index 553 / 696\n"
     ]
    },
    {
     "name": "stderr",
     "output_type": "stream",
     "text": [
      "/mnt/c/Users/apmcl/Documents/GitHub/harmonic-inference/corpus_utils.py:134: UserWarning: Multiple matching tied notes (MultiIndex([(0, 494),\n",
      "            (0, 495)],\n",
      "           names=['section', 'ix'])) found for note index (553, 0, 491) and duration 1. Returning the first one.\n",
      "  warnings.warn(f\"Multiple matching tied notes ({matching_notes.index}) found for note index \"\n",
      "/mnt/c/Users/apmcl/Documents/GitHub/harmonic-inference/corpus_utils.py:134: UserWarning: Multiple matching tied notes (MultiIndex([(0, 494),\n",
      "            (0, 495)],\n",
      "           names=['section', 'ix'])) found for note index (553, 0, 492) and duration 1. Returning the first one.\n",
      "  warnings.warn(f\"Multiple matching tied notes ({matching_notes.index}) found for note index \"\n"
     ]
    },
    {
     "name": "stdout",
     "output_type": "stream",
     "text": [
      "Index 554 / 696\n",
      "Index 555 / 696\n"
     ]
    },
    {
     "name": "stderr",
     "output_type": "stream",
     "text": [
      "/mnt/c/Users/apmcl/Documents/GitHub/harmonic-inference/corpus_utils.py:134: UserWarning: Multiple matching tied notes (MultiIndex([(0, 2),\n",
      "            (0, 3)],\n",
      "           names=['section', 'ix'])) found for note index (555, 0, 0) and duration 1. Returning the first one.\n",
      "  warnings.warn(f\"Multiple matching tied notes ({matching_notes.index}) found for note index \"\n",
      "/mnt/c/Users/apmcl/Documents/GitHub/harmonic-inference/corpus_utils.py:134: UserWarning: Multiple matching tied notes (MultiIndex([(0, 2),\n",
      "            (0, 3)],\n",
      "           names=['section', 'ix'])) found for note index (555, 0, 1) and duration 1. Returning the first one.\n",
      "  warnings.warn(f\"Multiple matching tied notes ({matching_notes.index}) found for note index \"\n",
      "/mnt/c/Users/apmcl/Documents/GitHub/harmonic-inference/corpus_utils.py:134: UserWarning: Multiple matching tied notes (MultiIndex([(2, 2),\n",
      "            (2, 3)],\n",
      "           names=['section', 'ix'])) found for note index (555, 2, 0) and duration 1. Returning the first one.\n",
      "  warnings.warn(f\"Multiple matching tied notes ({matching_notes.index}) found for note index \"\n",
      "/mnt/c/Users/apmcl/Documents/GitHub/harmonic-inference/corpus_utils.py:134: UserWarning: Multiple matching tied notes (MultiIndex([(2, 2),\n",
      "            (2, 3)],\n",
      "           names=['section', 'ix'])) found for note index (555, 2, 1) and duration 1. Returning the first one.\n",
      "  warnings.warn(f\"Multiple matching tied notes ({matching_notes.index}) found for note index \"\n",
      "/mnt/c/Users/apmcl/Documents/GitHub/harmonic-inference/corpus_utils.py:134: UserWarning: Multiple matching tied notes (MultiIndex([(4, 11),\n",
      "            (4, 12)],\n",
      "           names=['section', 'ix'])) found for note index (555, 4, 9) and duration 1/2. Returning the first one.\n",
      "  warnings.warn(f\"Multiple matching tied notes ({matching_notes.index}) found for note index \"\n",
      "/mnt/c/Users/apmcl/Documents/GitHub/harmonic-inference/corpus_utils.py:134: UserWarning: Multiple matching tied notes (MultiIndex([(4, 11),\n",
      "            (4, 12)],\n",
      "           names=['section', 'ix'])) found for note index (555, 4, 10) and duration 1/2. Returning the first one.\n",
      "  warnings.warn(f\"Multiple matching tied notes ({matching_notes.index}) found for note index \"\n",
      "/mnt/c/Users/apmcl/Documents/GitHub/harmonic-inference/corpus_utils.py:134: UserWarning: Multiple matching tied notes (MultiIndex([(4, 24),\n",
      "            (4, 25)],\n",
      "           names=['section', 'ix'])) found for note index (555, 4, 22) and duration 1/2. Returning the first one.\n",
      "  warnings.warn(f\"Multiple matching tied notes ({matching_notes.index}) found for note index \"\n",
      "/mnt/c/Users/apmcl/Documents/GitHub/harmonic-inference/corpus_utils.py:134: UserWarning: Multiple matching tied notes (MultiIndex([(4, 24),\n",
      "            (4, 25)],\n",
      "           names=['section', 'ix'])) found for note index (555, 4, 23) and duration 1/2. Returning the first one.\n",
      "  warnings.warn(f\"Multiple matching tied notes ({matching_notes.index}) found for note index \"\n",
      "/mnt/c/Users/apmcl/Documents/GitHub/harmonic-inference/corpus_utils.py:134: UserWarning: Multiple matching tied notes (MultiIndex([(4, 37),\n",
      "            (4, 38)],\n",
      "           names=['section', 'ix'])) found for note index (555, 4, 35) and duration 1/2. Returning the first one.\n",
      "  warnings.warn(f\"Multiple matching tied notes ({matching_notes.index}) found for note index \"\n",
      "/mnt/c/Users/apmcl/Documents/GitHub/harmonic-inference/corpus_utils.py:134: UserWarning: Multiple matching tied notes (MultiIndex([(4, 37),\n",
      "            (4, 38)],\n",
      "           names=['section', 'ix'])) found for note index (555, 4, 36) and duration 1/2. Returning the first one.\n",
      "  warnings.warn(f\"Multiple matching tied notes ({matching_notes.index}) found for note index \"\n",
      "/mnt/c/Users/apmcl/Documents/GitHub/harmonic-inference/corpus_utils.py:134: UserWarning: Multiple matching tied notes (MultiIndex([(4, 172),\n",
      "            (4, 173)],\n",
      "           names=['section', 'ix'])) found for note index (555, 4, 170) and duration 1/2. Returning the first one.\n",
      "  warnings.warn(f\"Multiple matching tied notes ({matching_notes.index}) found for note index \"\n",
      "/mnt/c/Users/apmcl/Documents/GitHub/harmonic-inference/corpus_utils.py:134: UserWarning: Multiple matching tied notes (MultiIndex([(4, 172),\n",
      "            (4, 173)],\n",
      "           names=['section', 'ix'])) found for note index (555, 4, 171) and duration 1/2. Returning the first one.\n",
      "  warnings.warn(f\"Multiple matching tied notes ({matching_notes.index}) found for note index \"\n",
      "/mnt/c/Users/apmcl/Documents/GitHub/harmonic-inference/corpus_utils.py:134: UserWarning: Multiple matching tied notes (MultiIndex([(4, 326),\n",
      "            (4, 327)],\n",
      "           names=['section', 'ix'])) found for note index (555, 4, 323) and duration 1/2. Returning the first one.\n",
      "  warnings.warn(f\"Multiple matching tied notes ({matching_notes.index}) found for note index \"\n",
      "/mnt/c/Users/apmcl/Documents/GitHub/harmonic-inference/corpus_utils.py:134: UserWarning: Multiple matching tied notes (MultiIndex([(4, 326),\n",
      "            (4, 327)],\n",
      "           names=['section', 'ix'])) found for note index (555, 4, 324) and duration 1/2. Returning the first one.\n",
      "  warnings.warn(f\"Multiple matching tied notes ({matching_notes.index}) found for note index \"\n",
      "/mnt/c/Users/apmcl/Documents/GitHub/harmonic-inference/corpus_utils.py:134: UserWarning: Multiple matching tied notes (MultiIndex([(4, 477),\n",
      "            (4, 478),\n",
      "            (4, 479)],\n",
      "           names=['section', 'ix'])) found for note index (555, 4, 474) and duration 1. Returning the first one.\n",
      "  warnings.warn(f\"Multiple matching tied notes ({matching_notes.index}) found for note index \"\n",
      "/mnt/c/Users/apmcl/Documents/GitHub/harmonic-inference/corpus_utils.py:134: UserWarning: Multiple matching tied notes (MultiIndex([(4, 477),\n",
      "            (4, 478),\n",
      "            (4, 479)],\n",
      "           names=['section', 'ix'])) found for note index (555, 4, 475) and duration 1. Returning the first one.\n",
      "  warnings.warn(f\"Multiple matching tied notes ({matching_notes.index}) found for note index \"\n",
      "/mnt/c/Users/apmcl/Documents/GitHub/harmonic-inference/corpus_utils.py:134: UserWarning: Multiple matching tied notes (MultiIndex([(4, 477),\n",
      "            (4, 478),\n",
      "            (4, 479)],\n",
      "           names=['section', 'ix'])) found for note index (555, 4, 476) and duration 1. Returning the first one.\n",
      "  warnings.warn(f\"Multiple matching tied notes ({matching_notes.index}) found for note index \"\n"
     ]
    },
    {
     "name": "stdout",
     "output_type": "stream",
     "text": [
      "Index 556 / 696\n",
      "Index 558 / 696\n"
     ]
    },
    {
     "name": "stderr",
     "output_type": "stream",
     "text": [
      "/mnt/c/Users/apmcl/Documents/GitHub/harmonic-inference/corpus_utils.py:134: UserWarning: Multiple matching tied notes (MultiIndex([(0, 91),\n",
      "            (0, 92)],\n",
      "           names=['section', 'ix'])) found for note index (558, 0, 89) and duration 1/2. Returning the first one.\n",
      "  warnings.warn(f\"Multiple matching tied notes ({matching_notes.index}) found for note index \"\n",
      "/mnt/c/Users/apmcl/Documents/GitHub/harmonic-inference/corpus_utils.py:134: UserWarning: Multiple matching tied notes (MultiIndex([(0, 91),\n",
      "            (0, 92)],\n",
      "           names=['section', 'ix'])) found for note index (558, 0, 90) and duration 1/2. Returning the first one.\n",
      "  warnings.warn(f\"Multiple matching tied notes ({matching_notes.index}) found for note index \"\n",
      "/mnt/c/Users/apmcl/Documents/GitHub/harmonic-inference/corpus_utils.py:134: UserWarning: Multiple matching tied notes (MultiIndex([(0, 156),\n",
      "            (0, 157)],\n",
      "           names=['section', 'ix'])) found for note index (558, 0, 152) and duration 1/2. Returning the first one.\n",
      "  warnings.warn(f\"Multiple matching tied notes ({matching_notes.index}) found for note index \"\n",
      "/mnt/c/Users/apmcl/Documents/GitHub/harmonic-inference/corpus_utils.py:134: UserWarning: Multiple matching tied notes (MultiIndex([(0, 156),\n",
      "            (0, 157)],\n",
      "           names=['section', 'ix'])) found for note index (558, 0, 153) and duration 1/2. Returning the first one.\n",
      "  warnings.warn(f\"Multiple matching tied notes ({matching_notes.index}) found for note index \"\n",
      "/mnt/c/Users/apmcl/Documents/GitHub/harmonic-inference/corpus_utils.py:134: UserWarning: Multiple matching tied notes (MultiIndex([(0, 247),\n",
      "            (0, 248)],\n",
      "           names=['section', 'ix'])) found for note index (558, 0, 243) and duration 1/2. Returning the first one.\n",
      "  warnings.warn(f\"Multiple matching tied notes ({matching_notes.index}) found for note index \"\n",
      "/mnt/c/Users/apmcl/Documents/GitHub/harmonic-inference/corpus_utils.py:134: UserWarning: Multiple matching tied notes (MultiIndex([(0, 247),\n",
      "            (0, 248)],\n",
      "           names=['section', 'ix'])) found for note index (558, 0, 244) and duration 1/2. Returning the first one.\n",
      "  warnings.warn(f\"Multiple matching tied notes ({matching_notes.index}) found for note index \"\n",
      "/mnt/c/Users/apmcl/Documents/GitHub/harmonic-inference/corpus_utils.py:134: UserWarning: Multiple matching tied notes (MultiIndex([(0, 328),\n",
      "            (0, 329)],\n",
      "           names=['section', 'ix'])) found for note index (558, 0, 324) and duration 1/2. Returning the first one.\n",
      "  warnings.warn(f\"Multiple matching tied notes ({matching_notes.index}) found for note index \"\n",
      "/mnt/c/Users/apmcl/Documents/GitHub/harmonic-inference/corpus_utils.py:134: UserWarning: Multiple matching tied notes (MultiIndex([(0, 328),\n",
      "            (0, 329)],\n",
      "           names=['section', 'ix'])) found for note index (558, 0, 325) and duration 1/2. Returning the first one.\n",
      "  warnings.warn(f\"Multiple matching tied notes ({matching_notes.index}) found for note index \"\n",
      "/mnt/c/Users/apmcl/Documents/GitHub/harmonic-inference/corpus_utils.py:134: UserWarning: Multiple matching tied notes (MultiIndex([(0, 348),\n",
      "            (0, 349)],\n",
      "           names=['section', 'ix'])) found for note index (558, 0, 344) and duration 1/2. Returning the first one.\n",
      "  warnings.warn(f\"Multiple matching tied notes ({matching_notes.index}) found for note index \"\n",
      "/mnt/c/Users/apmcl/Documents/GitHub/harmonic-inference/corpus_utils.py:134: UserWarning: Multiple matching tied notes (MultiIndex([(0, 348),\n",
      "            (0, 349)],\n",
      "           names=['section', 'ix'])) found for note index (558, 0, 345) and duration 1/2. Returning the first one.\n",
      "  warnings.warn(f\"Multiple matching tied notes ({matching_notes.index}) found for note index \"\n",
      "/mnt/c/Users/apmcl/Documents/GitHub/harmonic-inference/corpus_utils.py:134: UserWarning: Multiple matching tied notes (MultiIndex([(0, 372),\n",
      "            (0, 373)],\n",
      "           names=['section', 'ix'])) found for note index (558, 0, 368) and duration 1. Returning the first one.\n",
      "  warnings.warn(f\"Multiple matching tied notes ({matching_notes.index}) found for note index \"\n",
      "/mnt/c/Users/apmcl/Documents/GitHub/harmonic-inference/corpus_utils.py:134: UserWarning: Multiple matching tied notes (MultiIndex([(0, 372),\n",
      "            (0, 373)],\n",
      "           names=['section', 'ix'])) found for note index (558, 0, 369) and duration 1. Returning the first one.\n",
      "  warnings.warn(f\"Multiple matching tied notes ({matching_notes.index}) found for note index \"\n",
      "/mnt/c/Users/apmcl/Documents/GitHub/harmonic-inference/corpus_utils.py:134: UserWarning: Multiple matching tied notes (MultiIndex([(0, 374),\n",
      "            (0, 375)],\n",
      "           names=['section', 'ix'])) found for note index (558, 0, 370) and duration 1. Returning the first one.\n",
      "  warnings.warn(f\"Multiple matching tied notes ({matching_notes.index}) found for note index \"\n",
      "/mnt/c/Users/apmcl/Documents/GitHub/harmonic-inference/corpus_utils.py:134: UserWarning: Multiple matching tied notes (MultiIndex([(0, 374),\n",
      "            (0, 375)],\n",
      "           names=['section', 'ix'])) found for note index (558, 0, 371) and duration 1. Returning the first one.\n",
      "  warnings.warn(f\"Multiple matching tied notes ({matching_notes.index}) found for note index \"\n"
     ]
    },
    {
     "name": "stdout",
     "output_type": "stream",
     "text": [
      "Index 559 / 696\n"
     ]
    },
    {
     "name": "stderr",
     "output_type": "stream",
     "text": [
      "/mnt/c/Users/apmcl/Documents/GitHub/harmonic-inference/corpus_utils.py:134: UserWarning: Multiple matching tied notes (MultiIndex([(0, 77),\n",
      "            (0, 78)],\n",
      "           names=['section', 'ix'])) found for note index (559, 0, 74) and duration 1/2. Returning the first one.\n",
      "  warnings.warn(f\"Multiple matching tied notes ({matching_notes.index}) found for note index \"\n",
      "/mnt/c/Users/apmcl/Documents/GitHub/harmonic-inference/corpus_utils.py:134: UserWarning: Multiple matching tied notes (MultiIndex([(0, 77),\n",
      "            (0, 78)],\n",
      "           names=['section', 'ix'])) found for note index (559, 0, 75) and duration 1/2. Returning the first one.\n",
      "  warnings.warn(f\"Multiple matching tied notes ({matching_notes.index}) found for note index \"\n",
      "/mnt/c/Users/apmcl/Documents/GitHub/harmonic-inference/corpus_utils.py:134: UserWarning: Multiple matching tied notes (MultiIndex([(0, 444),\n",
      "            (0, 445)],\n",
      "           names=['section', 'ix'])) found for note index (559, 0, 440) and duration 1. Returning the first one.\n",
      "  warnings.warn(f\"Multiple matching tied notes ({matching_notes.index}) found for note index \"\n",
      "/mnt/c/Users/apmcl/Documents/GitHub/harmonic-inference/corpus_utils.py:134: UserWarning: Multiple matching tied notes (MultiIndex([(0, 444),\n",
      "            (0, 445)],\n",
      "           names=['section', 'ix'])) found for note index (559, 0, 441) and duration 1. Returning the first one.\n",
      "  warnings.warn(f\"Multiple matching tied notes ({matching_notes.index}) found for note index \"\n",
      "/mnt/c/Users/apmcl/Documents/GitHub/harmonic-inference/corpus_utils.py:134: UserWarning: Multiple matching tied notes (MultiIndex([(0, 446),\n",
      "            (0, 447)],\n",
      "           names=['section', 'ix'])) found for note index (559, 0, 442) and duration 1. Returning the first one.\n",
      "  warnings.warn(f\"Multiple matching tied notes ({matching_notes.index}) found for note index \"\n",
      "/mnt/c/Users/apmcl/Documents/GitHub/harmonic-inference/corpus_utils.py:134: UserWarning: Multiple matching tied notes (MultiIndex([(0, 446),\n",
      "            (0, 447)],\n",
      "           names=['section', 'ix'])) found for note index (559, 0, 443) and duration 1. Returning the first one.\n",
      "  warnings.warn(f\"Multiple matching tied notes ({matching_notes.index}) found for note index \"\n"
     ]
    },
    {
     "name": "stdout",
     "output_type": "stream",
     "text": [
      "Index 560 / 696\n"
     ]
    },
    {
     "name": "stderr",
     "output_type": "stream",
     "text": [
      "/mnt/c/Users/apmcl/Documents/GitHub/harmonic-inference/corpus_utils.py:134: UserWarning: Multiple matching tied notes (MultiIndex([(1, 20),\n",
      "            (1, 21)],\n",
      "           names=['section', 'ix'])) found for note index (560, 1, 16) and duration 1. Returning the first one.\n",
      "  warnings.warn(f\"Multiple matching tied notes ({matching_notes.index}) found for note index \"\n",
      "/mnt/c/Users/apmcl/Documents/GitHub/harmonic-inference/corpus_utils.py:134: UserWarning: Multiple matching tied notes (MultiIndex([(1, 20),\n",
      "            (1, 21)],\n",
      "           names=['section', 'ix'])) found for note index (560, 1, 17) and duration 1. Returning the first one.\n",
      "  warnings.warn(f\"Multiple matching tied notes ({matching_notes.index}) found for note index \"\n",
      "/mnt/c/Users/apmcl/Documents/GitHub/harmonic-inference/corpus_utils.py:134: UserWarning: Multiple matching tied notes (MultiIndex([(1, 59),\n",
      "            (1, 60)],\n",
      "           names=['section', 'ix'])) found for note index (560, 1, 50) and duration 1. Returning the first one.\n",
      "  warnings.warn(f\"Multiple matching tied notes ({matching_notes.index}) found for note index \"\n",
      "/mnt/c/Users/apmcl/Documents/GitHub/harmonic-inference/corpus_utils.py:134: UserWarning: Multiple matching tied notes (MultiIndex([(1, 59),\n",
      "            (1, 60)],\n",
      "           names=['section', 'ix'])) found for note index (560, 1, 51) and duration 1. Returning the first one.\n",
      "  warnings.warn(f\"Multiple matching tied notes ({matching_notes.index}) found for note index \"\n",
      "/mnt/c/Users/apmcl/Documents/GitHub/harmonic-inference/corpus_utils.py:134: UserWarning: Multiple matching tied notes (MultiIndex([(1, 119),\n",
      "            (1, 120)],\n",
      "           names=['section', 'ix'])) found for note index (560, 1, 108) and duration 1. Returning the first one.\n",
      "  warnings.warn(f\"Multiple matching tied notes ({matching_notes.index}) found for note index \"\n",
      "/mnt/c/Users/apmcl/Documents/GitHub/harmonic-inference/corpus_utils.py:134: UserWarning: Multiple matching tied notes (MultiIndex([(1, 119),\n",
      "            (1, 120)],\n",
      "           names=['section', 'ix'])) found for note index (560, 1, 109) and duration 1. Returning the first one.\n",
      "  warnings.warn(f\"Multiple matching tied notes ({matching_notes.index}) found for note index \"\n",
      "/mnt/c/Users/apmcl/Documents/GitHub/harmonic-inference/corpus_utils.py:134: UserWarning: Multiple matching tied notes (MultiIndex([(1, 168),\n",
      "            (1, 169)],\n",
      "           names=['section', 'ix'])) found for note index (560, 1, 166) and duration 1/2. Returning the first one.\n",
      "  warnings.warn(f\"Multiple matching tied notes ({matching_notes.index}) found for note index \"\n",
      "/mnt/c/Users/apmcl/Documents/GitHub/harmonic-inference/corpus_utils.py:134: UserWarning: Multiple matching tied notes (MultiIndex([(1, 168),\n",
      "            (1, 169)],\n",
      "           names=['section', 'ix'])) found for note index (560, 1, 167) and duration 1/2. Returning the first one.\n",
      "  warnings.warn(f\"Multiple matching tied notes ({matching_notes.index}) found for note index \"\n",
      "/mnt/c/Users/apmcl/Documents/GitHub/harmonic-inference/corpus_utils.py:134: UserWarning: Multiple matching tied notes (MultiIndex([(1, 683),\n",
      "            (1, 684)],\n",
      "           names=['section', 'ix'])) found for note index (560, 1, 678) and duration 1. Returning the first one.\n",
      "  warnings.warn(f\"Multiple matching tied notes ({matching_notes.index}) found for note index \"\n",
      "/mnt/c/Users/apmcl/Documents/GitHub/harmonic-inference/corpus_utils.py:134: UserWarning: Multiple matching tied notes (MultiIndex([(1, 683),\n",
      "            (1, 684)],\n",
      "           names=['section', 'ix'])) found for note index (560, 1, 679) and duration 1. Returning the first one.\n",
      "  warnings.warn(f\"Multiple matching tied notes ({matching_notes.index}) found for note index \"\n"
     ]
    },
    {
     "name": "stdout",
     "output_type": "stream",
     "text": [
      "Index 561 / 696\n"
     ]
    },
    {
     "name": "stderr",
     "output_type": "stream",
     "text": [
      "/mnt/c/Users/apmcl/Documents/GitHub/harmonic-inference/corpus_utils.py:134: UserWarning: Multiple matching tied notes (MultiIndex([(0, 31),\n",
      "            (0, 32)],\n",
      "           names=['section', 'ix'])) found for note index (561, 0, 28) and duration 1/2. Returning the first one.\n",
      "  warnings.warn(f\"Multiple matching tied notes ({matching_notes.index}) found for note index \"\n",
      "/mnt/c/Users/apmcl/Documents/GitHub/harmonic-inference/corpus_utils.py:134: UserWarning: Multiple matching tied notes (MultiIndex([(0, 31),\n",
      "            (0, 32)],\n",
      "           names=['section', 'ix'])) found for note index (561, 0, 29) and duration 1/2. Returning the first one.\n",
      "  warnings.warn(f\"Multiple matching tied notes ({matching_notes.index}) found for note index \"\n",
      "/mnt/c/Users/apmcl/Documents/GitHub/harmonic-inference/corpus_utils.py:134: UserWarning: Multiple matching tied notes (MultiIndex([(0, 93),\n",
      "            (0, 94)],\n",
      "           names=['section', 'ix'])) found for note index (561, 0, 89) and duration 1/2. Returning the first one.\n",
      "  warnings.warn(f\"Multiple matching tied notes ({matching_notes.index}) found for note index \"\n",
      "/mnt/c/Users/apmcl/Documents/GitHub/harmonic-inference/corpus_utils.py:134: UserWarning: Multiple matching tied notes (MultiIndex([(0, 93),\n",
      "            (0, 94)],\n",
      "           names=['section', 'ix'])) found for note index (561, 0, 90) and duration 1/2. Returning the first one.\n",
      "  warnings.warn(f\"Multiple matching tied notes ({matching_notes.index}) found for note index \"\n",
      "/mnt/c/Users/apmcl/Documents/GitHub/harmonic-inference/corpus_utils.py:134: UserWarning: Multiple matching tied notes (MultiIndex([(0, 128),\n",
      "            (0, 129)],\n",
      "           names=['section', 'ix'])) found for note index (561, 0, 123) and duration 3/2. Returning the first one.\n",
      "  warnings.warn(f\"Multiple matching tied notes ({matching_notes.index}) found for note index \"\n",
      "/mnt/c/Users/apmcl/Documents/GitHub/harmonic-inference/corpus_utils.py:134: UserWarning: Multiple matching tied notes (MultiIndex([(0, 128),\n",
      "            (0, 129)],\n",
      "           names=['section', 'ix'])) found for note index (561, 0, 124) and duration 3/2. Returning the first one.\n",
      "  warnings.warn(f\"Multiple matching tied notes ({matching_notes.index}) found for note index \"\n",
      "/mnt/c/Users/apmcl/Documents/GitHub/harmonic-inference/corpus_utils.py:134: UserWarning: Multiple matching tied notes (MultiIndex([(0, 231),\n",
      "            (0, 232)],\n",
      "           names=['section', 'ix'])) found for note index (561, 0, 226) and duration 1/2. Returning the first one.\n",
      "  warnings.warn(f\"Multiple matching tied notes ({matching_notes.index}) found for note index \"\n",
      "/mnt/c/Users/apmcl/Documents/GitHub/harmonic-inference/corpus_utils.py:134: UserWarning: Multiple matching tied notes (MultiIndex([(0, 231),\n",
      "            (0, 232)],\n",
      "           names=['section', 'ix'])) found for note index (561, 0, 227) and duration 1/2. Returning the first one.\n",
      "  warnings.warn(f\"Multiple matching tied notes ({matching_notes.index}) found for note index \"\n",
      "/mnt/c/Users/apmcl/Documents/GitHub/harmonic-inference/corpus_utils.py:134: UserWarning: Multiple matching tied notes (MultiIndex([(3, 8),\n",
      "            (3, 9)],\n",
      "           names=['section', 'ix'])) found for note index (561, 3, 0) and duration 1. Returning the first one.\n",
      "  warnings.warn(f\"Multiple matching tied notes ({matching_notes.index}) found for note index \"\n",
      "/mnt/c/Users/apmcl/Documents/GitHub/harmonic-inference/corpus_utils.py:134: UserWarning: Multiple matching tied notes (MultiIndex([(3, 8),\n",
      "            (3, 9)],\n",
      "           names=['section', 'ix'])) found for note index (561, 3, 1) and duration 1. Returning the first one.\n",
      "  warnings.warn(f\"Multiple matching tied notes ({matching_notes.index}) found for note index \"\n",
      "/mnt/c/Users/apmcl/Documents/GitHub/harmonic-inference/corpus_utils.py:134: UserWarning: Multiple matching tied notes (MultiIndex([(5, 157),\n",
      "            (5, 158)],\n",
      "           names=['section', 'ix'])) found for note index (561, 5, 155) and duration 1/4. Returning the first one.\n",
      "  warnings.warn(f\"Multiple matching tied notes ({matching_notes.index}) found for note index \"\n",
      "/mnt/c/Users/apmcl/Documents/GitHub/harmonic-inference/corpus_utils.py:134: UserWarning: Multiple matching tied notes (MultiIndex([(5, 157),\n",
      "            (5, 158)],\n",
      "           names=['section', 'ix'])) found for note index (561, 5, 156) and duration 1/4. Returning the first one.\n",
      "  warnings.warn(f\"Multiple matching tied notes ({matching_notes.index}) found for note index \"\n",
      "/mnt/c/Users/apmcl/Documents/GitHub/harmonic-inference/corpus_utils.py:134: UserWarning: Multiple matching tied notes (MultiIndex([(5, 214),\n",
      "            (5, 215)],\n",
      "           names=['section', 'ix'])) found for note index (561, 5, 204) and duration 1/2. Returning the first one.\n",
      "  warnings.warn(f\"Multiple matching tied notes ({matching_notes.index}) found for note index \"\n",
      "/mnt/c/Users/apmcl/Documents/GitHub/harmonic-inference/corpus_utils.py:134: UserWarning: Multiple matching tied notes (MultiIndex([(5, 214),\n",
      "            (5, 215)],\n",
      "           names=['section', 'ix'])) found for note index (561, 5, 205) and duration 1/2. Returning the first one.\n",
      "  warnings.warn(f\"Multiple matching tied notes ({matching_notes.index}) found for note index \"\n",
      "/mnt/c/Users/apmcl/Documents/GitHub/harmonic-inference/corpus_utils.py:134: UserWarning: Multiple matching tied notes (MultiIndex([(5, 281),\n",
      "            (5, 282)],\n",
      "           names=['section', 'ix'])) found for note index (561, 5, 272) and duration 1/2. Returning the first one.\n",
      "  warnings.warn(f\"Multiple matching tied notes ({matching_notes.index}) found for note index \"\n",
      "/mnt/c/Users/apmcl/Documents/GitHub/harmonic-inference/corpus_utils.py:134: UserWarning: Multiple matching tied notes (MultiIndex([(5, 281),\n",
      "            (5, 282)],\n",
      "           names=['section', 'ix'])) found for note index (561, 5, 273) and duration 1/2. Returning the first one.\n",
      "  warnings.warn(f\"Multiple matching tied notes ({matching_notes.index}) found for note index \"\n",
      "/mnt/c/Users/apmcl/Documents/GitHub/harmonic-inference/corpus_utils.py:134: UserWarning: Multiple matching tied notes (MultiIndex([(5, 709),\n",
      "            (5, 710)],\n",
      "           names=['section', 'ix'])) found for note index (561, 5, 704) and duration 1. Returning the first one.\n",
      "  warnings.warn(f\"Multiple matching tied notes ({matching_notes.index}) found for note index \"\n",
      "/mnt/c/Users/apmcl/Documents/GitHub/harmonic-inference/corpus_utils.py:134: UserWarning: Multiple matching tied notes (MultiIndex([(5, 709),\n",
      "            (5, 710)],\n",
      "           names=['section', 'ix'])) found for note index (561, 5, 705) and duration 1. Returning the first one.\n",
      "  warnings.warn(f\"Multiple matching tied notes ({matching_notes.index}) found for note index \"\n"
     ]
    },
    {
     "name": "stdout",
     "output_type": "stream",
     "text": [
      "Index 562 / 696\n"
     ]
    },
    {
     "name": "stderr",
     "output_type": "stream",
     "text": [
      "/mnt/c/Users/apmcl/Documents/GitHub/harmonic-inference/corpus_utils.py:134: UserWarning: Multiple matching tied notes (MultiIndex([(0, 463),\n",
      "            (0, 464)],\n",
      "           names=['section', 'ix'])) found for note index (562, 0, 461) and duration 1. Returning the first one.\n",
      "  warnings.warn(f\"Multiple matching tied notes ({matching_notes.index}) found for note index \"\n",
      "/mnt/c/Users/apmcl/Documents/GitHub/harmonic-inference/corpus_utils.py:134: UserWarning: Multiple matching tied notes (MultiIndex([(0, 463),\n",
      "            (0, 464)],\n",
      "           names=['section', 'ix'])) found for note index (562, 0, 462) and duration 1. Returning the first one.\n",
      "  warnings.warn(f\"Multiple matching tied notes ({matching_notes.index}) found for note index \"\n",
      "/mnt/c/Users/apmcl/Documents/GitHub/harmonic-inference/corpus_utils.py:134: UserWarning: Multiple matching tied notes (MultiIndex([(0, 470),\n",
      "            (0, 471)],\n",
      "           names=['section', 'ix'])) found for note index (562, 0, 468) and duration 1/2. Returning the first one.\n",
      "  warnings.warn(f\"Multiple matching tied notes ({matching_notes.index}) found for note index \"\n",
      "/mnt/c/Users/apmcl/Documents/GitHub/harmonic-inference/corpus_utils.py:134: UserWarning: Multiple matching tied notes (MultiIndex([(0, 470),\n",
      "            (0, 471)],\n",
      "           names=['section', 'ix'])) found for note index (562, 0, 469) and duration 1/2. Returning the first one.\n",
      "  warnings.warn(f\"Multiple matching tied notes ({matching_notes.index}) found for note index \"\n",
      "/mnt/c/Users/apmcl/Documents/GitHub/harmonic-inference/corpus_utils.py:134: UserWarning: Multiple matching tied notes (MultiIndex([(0, 512),\n",
      "            (0, 513)],\n",
      "           names=['section', 'ix'])) found for note index (562, 0, 506) and duration 1. Returning the first one.\n",
      "  warnings.warn(f\"Multiple matching tied notes ({matching_notes.index}) found for note index \"\n",
      "/mnt/c/Users/apmcl/Documents/GitHub/harmonic-inference/corpus_utils.py:134: UserWarning: Multiple matching tied notes (MultiIndex([(0, 512),\n",
      "            (0, 513)],\n",
      "           names=['section', 'ix'])) found for note index (562, 0, 507) and duration 1. Returning the first one.\n",
      "  warnings.warn(f\"Multiple matching tied notes ({matching_notes.index}) found for note index \"\n",
      "/mnt/c/Users/apmcl/Documents/GitHub/harmonic-inference/corpus_utils.py:134: UserWarning: Multiple matching tied notes (MultiIndex([(2, 114),\n",
      "            (2, 115)],\n",
      "           names=['section', 'ix'])) found for note index (562, 2, 106) and duration 1. Returning the first one.\n",
      "  warnings.warn(f\"Multiple matching tied notes ({matching_notes.index}) found for note index \"\n",
      "/mnt/c/Users/apmcl/Documents/GitHub/harmonic-inference/corpus_utils.py:134: UserWarning: Multiple matching tied notes (MultiIndex([(2, 114),\n",
      "            (2, 115)],\n",
      "           names=['section', 'ix'])) found for note index (562, 2, 107) and duration 1. Returning the first one.\n",
      "  warnings.warn(f\"Multiple matching tied notes ({matching_notes.index}) found for note index \"\n",
      "/mnt/c/Users/apmcl/Documents/GitHub/harmonic-inference/corpus_utils.py:134: UserWarning: Multiple matching tied notes (MultiIndex([(2, 540),\n",
      "            (2, 541)],\n",
      "           names=['section', 'ix'])) found for note index (562, 2, 535) and duration 1. Returning the first one.\n",
      "  warnings.warn(f\"Multiple matching tied notes ({matching_notes.index}) found for note index \"\n",
      "/mnt/c/Users/apmcl/Documents/GitHub/harmonic-inference/corpus_utils.py:134: UserWarning: Multiple matching tied notes (MultiIndex([(2, 540),\n",
      "            (2, 541)],\n",
      "           names=['section', 'ix'])) found for note index (562, 2, 536) and duration 1. Returning the first one.\n",
      "  warnings.warn(f\"Multiple matching tied notes ({matching_notes.index}) found for note index \"\n"
     ]
    },
    {
     "name": "stdout",
     "output_type": "stream",
     "text": [
      "Index 563 / 696\n"
     ]
    },
    {
     "name": "stderr",
     "output_type": "stream",
     "text": [
      "/mnt/c/Users/apmcl/Documents/GitHub/harmonic-inference/corpus_utils.py:128: UserWarning: No matching tied note (MultiIndex([], names=['section', 'ix'])) found for note index (563, 0, 36) and duration 1/2. Returning the first one.\n",
      "  warnings.warn(f\"No matching tied note ({matching_notes.index}) found for note index \"\n",
      "/mnt/c/Users/apmcl/Documents/GitHub/harmonic-inference/corpus_utils.py:128: UserWarning: No matching tied note (MultiIndex([], names=['section', 'ix'])) found for note index (563, 0, 222) and duration 1/4. Returning the first one.\n",
      "  warnings.warn(f\"No matching tied note ({matching_notes.index}) found for note index \"\n",
      "/mnt/c/Users/apmcl/Documents/GitHub/harmonic-inference/corpus_utils.py:128: UserWarning: No matching tied note (MultiIndex([], names=['section', 'ix'])) found for note index (563, 0, 223) and duration 1/4. Returning the first one.\n",
      "  warnings.warn(f\"No matching tied note ({matching_notes.index}) found for note index \"\n",
      "/mnt/c/Users/apmcl/Documents/GitHub/harmonic-inference/corpus_utils.py:134: UserWarning: Multiple matching tied notes (MultiIndex([(0, 236),\n",
      "            (0, 237)],\n",
      "           names=['section', 'ix'])) found for note index (563, 0, 231) and duration 1/2. Returning the first one.\n",
      "  warnings.warn(f\"Multiple matching tied notes ({matching_notes.index}) found for note index \"\n",
      "/mnt/c/Users/apmcl/Documents/GitHub/harmonic-inference/corpus_utils.py:134: UserWarning: Multiple matching tied notes (MultiIndex([(0, 236),\n",
      "            (0, 237)],\n",
      "           names=['section', 'ix'])) found for note index (563, 0, 232) and duration 1/2. Returning the first one.\n",
      "  warnings.warn(f\"Multiple matching tied notes ({matching_notes.index}) found for note index \"\n",
      "/mnt/c/Users/apmcl/Documents/GitHub/harmonic-inference/corpus_utils.py:134: UserWarning: Multiple matching tied notes (MultiIndex([(0, 430),\n",
      "            (0, 431)],\n",
      "           names=['section', 'ix'])) found for note index (563, 0, 417) and duration 1. Returning the first one.\n",
      "  warnings.warn(f\"Multiple matching tied notes ({matching_notes.index}) found for note index \"\n",
      "/mnt/c/Users/apmcl/Documents/GitHub/harmonic-inference/corpus_utils.py:134: UserWarning: Multiple matching tied notes (MultiIndex([(0, 430),\n",
      "            (0, 431)],\n",
      "           names=['section', 'ix'])) found for note index (563, 0, 418) and duration 1. Returning the first one.\n",
      "  warnings.warn(f\"Multiple matching tied notes ({matching_notes.index}) found for note index \"\n",
      "/mnt/c/Users/apmcl/Documents/GitHub/harmonic-inference/corpus_utils.py:134: UserWarning: Multiple matching tied notes (MultiIndex([(1, 161),\n",
      "            (1, 162)],\n",
      "           names=['section', 'ix'])) found for note index (563, 1, 150) and duration 1. Returning the first one.\n",
      "  warnings.warn(f\"Multiple matching tied notes ({matching_notes.index}) found for note index \"\n",
      "/mnt/c/Users/apmcl/Documents/GitHub/harmonic-inference/corpus_utils.py:134: UserWarning: Multiple matching tied notes (MultiIndex([(1, 161),\n",
      "            (1, 162)],\n",
      "           names=['section', 'ix'])) found for note index (563, 1, 151) and duration 1. Returning the first one.\n",
      "  warnings.warn(f\"Multiple matching tied notes ({matching_notes.index}) found for note index \"\n",
      "/mnt/c/Users/apmcl/Documents/GitHub/harmonic-inference/corpus_utils.py:134: UserWarning: Multiple matching tied notes (MultiIndex([(1, 284),\n",
      "            (1, 285)],\n",
      "           names=['section', 'ix'])) found for note index (563, 1, 276) and duration 1. Returning the first one.\n",
      "  warnings.warn(f\"Multiple matching tied notes ({matching_notes.index}) found for note index \"\n",
      "/mnt/c/Users/apmcl/Documents/GitHub/harmonic-inference/corpus_utils.py:134: UserWarning: Multiple matching tied notes (MultiIndex([(1, 284),\n",
      "            (1, 285)],\n",
      "           names=['section', 'ix'])) found for note index (563, 1, 277) and duration 1. Returning the first one.\n",
      "  warnings.warn(f\"Multiple matching tied notes ({matching_notes.index}) found for note index \"\n",
      "/mnt/c/Users/apmcl/Documents/GitHub/harmonic-inference/corpus_utils.py:134: UserWarning: Multiple matching tied notes (MultiIndex([(1, 306),\n",
      "            (1, 307)],\n",
      "           names=['section', 'ix'])) found for note index (563, 1, 299) and duration 1. Returning the first one.\n",
      "  warnings.warn(f\"Multiple matching tied notes ({matching_notes.index}) found for note index \"\n",
      "/mnt/c/Users/apmcl/Documents/GitHub/harmonic-inference/corpus_utils.py:134: UserWarning: Multiple matching tied notes (MultiIndex([(1, 306),\n",
      "            (1, 307)],\n",
      "           names=['section', 'ix'])) found for note index (563, 1, 300) and duration 1. Returning the first one.\n",
      "  warnings.warn(f\"Multiple matching tied notes ({matching_notes.index}) found for note index \"\n"
     ]
    },
    {
     "name": "stdout",
     "output_type": "stream",
     "text": [
      "Index 564 / 696\n"
     ]
    },
    {
     "name": "stderr",
     "output_type": "stream",
     "text": [
      "/mnt/c/Users/apmcl/Documents/GitHub/harmonic-inference/corpus_utils.py:134: UserWarning: Multiple matching tied notes (MultiIndex([(17, 363),\n",
      "            (17, 364)],\n",
      "           names=['section', 'ix'])) found for note index (564, 17, 343) and duration 1. Returning the first one.\n",
      "  warnings.warn(f\"Multiple matching tied notes ({matching_notes.index}) found for note index \"\n",
      "/mnt/c/Users/apmcl/Documents/GitHub/harmonic-inference/corpus_utils.py:134: UserWarning: Multiple matching tied notes (MultiIndex([(17, 363),\n",
      "            (17, 364)],\n",
      "           names=['section', 'ix'])) found for note index (564, 17, 344) and duration 1. Returning the first one.\n",
      "  warnings.warn(f\"Multiple matching tied notes ({matching_notes.index}) found for note index \"\n",
      "/mnt/c/Users/apmcl/Documents/GitHub/harmonic-inference/corpus_utils.py:134: UserWarning: Multiple matching tied notes (MultiIndex([(17, 380),\n",
      "            (17, 381)],\n",
      "           names=['section', 'ix'])) found for note index (564, 17, 374) and duration 1. Returning the first one.\n",
      "  warnings.warn(f\"Multiple matching tied notes ({matching_notes.index}) found for note index \"\n",
      "/mnt/c/Users/apmcl/Documents/GitHub/harmonic-inference/corpus_utils.py:134: UserWarning: Multiple matching tied notes (MultiIndex([(17, 380),\n",
      "            (17, 381)],\n",
      "           names=['section', 'ix'])) found for note index (564, 17, 375) and duration 1. Returning the first one.\n",
      "  warnings.warn(f\"Multiple matching tied notes ({matching_notes.index}) found for note index \"\n"
     ]
    },
    {
     "name": "stdout",
     "output_type": "stream",
     "text": [
      "Index 565 / 696\n",
      "Index 566 / 696\n",
      "Index 567 / 696\n"
     ]
    },
    {
     "name": "stderr",
     "output_type": "stream",
     "text": [
      "/mnt/c/Users/apmcl/Documents/GitHub/harmonic-inference/corpus_utils.py:128: UserWarning: No matching tied note (MultiIndex([], names=['section', 'ix'])) found for note index (567, 0, 208) and duration 1/8. Returning the first one.\n",
      "  warnings.warn(f\"No matching tied note ({matching_notes.index}) found for note index \"\n"
     ]
    },
    {
     "name": "stdout",
     "output_type": "stream",
     "text": [
      "Index 568 / 696\n",
      "Index 569 / 696\n"
     ]
    },
    {
     "name": "stderr",
     "output_type": "stream",
     "text": [
      "/mnt/c/Users/apmcl/Documents/GitHub/harmonic-inference/corpus_utils.py:134: UserWarning: Multiple matching tied notes (MultiIndex([(6, 17),\n",
      "            (6, 18)],\n",
      "           names=['section', 'ix'])) found for note index (569, 6, 15) and duration 1/4. Returning the first one.\n",
      "  warnings.warn(f\"Multiple matching tied notes ({matching_notes.index}) found for note index \"\n",
      "/mnt/c/Users/apmcl/Documents/GitHub/harmonic-inference/corpus_utils.py:134: UserWarning: Multiple matching tied notes (MultiIndex([(6, 17),\n",
      "            (6, 18)],\n",
      "           names=['section', 'ix'])) found for note index (569, 6, 16) and duration 1/4. Returning the first one.\n",
      "  warnings.warn(f\"Multiple matching tied notes ({matching_notes.index}) found for note index \"\n",
      "/mnt/c/Users/apmcl/Documents/GitHub/harmonic-inference/corpus_utils.py:134: UserWarning: Multiple matching tied notes (MultiIndex([(6, 74),\n",
      "            (6, 75)],\n",
      "           names=['section', 'ix'])) found for note index (569, 6, 72) and duration 1/4. Returning the first one.\n",
      "  warnings.warn(f\"Multiple matching tied notes ({matching_notes.index}) found for note index \"\n",
      "/mnt/c/Users/apmcl/Documents/GitHub/harmonic-inference/corpus_utils.py:134: UserWarning: Multiple matching tied notes (MultiIndex([(6, 74),\n",
      "            (6, 75)],\n",
      "           names=['section', 'ix'])) found for note index (569, 6, 73) and duration 1/4. Returning the first one.\n",
      "  warnings.warn(f\"Multiple matching tied notes ({matching_notes.index}) found for note index \"\n"
     ]
    },
    {
     "name": "stdout",
     "output_type": "stream",
     "text": [
      "Index 570 / 696\n",
      "Index 571 / 696\n",
      "Index 572 / 696\n",
      "Index 573 / 696\n",
      "Index 574 / 696\n",
      "Index 575 / 696\n"
     ]
    },
    {
     "name": "stderr",
     "output_type": "stream",
     "text": [
      "/mnt/c/Users/apmcl/Documents/GitHub/harmonic-inference/corpus_utils.py:134: UserWarning: Multiple matching tied notes (MultiIndex([(0, 140),\n",
      "            (0, 141)],\n",
      "           names=['section', 'ix'])) found for note index (575, 0, 138) and duration 1/2. Returning the first one.\n",
      "  warnings.warn(f\"Multiple matching tied notes ({matching_notes.index}) found for note index \"\n",
      "/mnt/c/Users/apmcl/Documents/GitHub/harmonic-inference/corpus_utils.py:134: UserWarning: Multiple matching tied notes (MultiIndex([(0, 140),\n",
      "            (0, 141)],\n",
      "           names=['section', 'ix'])) found for note index (575, 0, 139) and duration 1/2. Returning the first one.\n",
      "  warnings.warn(f\"Multiple matching tied notes ({matching_notes.index}) found for note index \"\n"
     ]
    },
    {
     "name": "stdout",
     "output_type": "stream",
     "text": [
      "Index 576 / 696\n",
      "Index 577 / 696\n",
      "Index 578 / 696\n"
     ]
    },
    {
     "name": "stderr",
     "output_type": "stream",
     "text": [
      "/mnt/c/Users/apmcl/Documents/GitHub/harmonic-inference/corpus_utils.py:134: UserWarning: Multiple matching tied notes (MultiIndex([(0, 110),\n",
      "            (0, 111)],\n",
      "           names=['section', 'ix'])) found for note index (578, 0, 108) and duration 1/4. Returning the first one.\n",
      "  warnings.warn(f\"Multiple matching tied notes ({matching_notes.index}) found for note index \"\n",
      "/mnt/c/Users/apmcl/Documents/GitHub/harmonic-inference/corpus_utils.py:134: UserWarning: Multiple matching tied notes (MultiIndex([(0, 110),\n",
      "            (0, 111)],\n",
      "           names=['section', 'ix'])) found for note index (578, 0, 109) and duration 1/4. Returning the first one.\n",
      "  warnings.warn(f\"Multiple matching tied notes ({matching_notes.index}) found for note index \"\n",
      "/mnt/c/Users/apmcl/Documents/GitHub/harmonic-inference/corpus_utils.py:134: UserWarning: Multiple matching tied notes (MultiIndex([(0, 408),\n",
      "            (0, 409)],\n",
      "           names=['section', 'ix'])) found for note index (578, 0, 405) and duration 1/2. Returning the first one.\n",
      "  warnings.warn(f\"Multiple matching tied notes ({matching_notes.index}) found for note index \"\n",
      "/mnt/c/Users/apmcl/Documents/GitHub/harmonic-inference/corpus_utils.py:134: UserWarning: Multiple matching tied notes (MultiIndex([(0, 408),\n",
      "            (0, 409)],\n",
      "           names=['section', 'ix'])) found for note index (578, 0, 406) and duration 1/2. Returning the first one.\n",
      "  warnings.warn(f\"Multiple matching tied notes ({matching_notes.index}) found for note index \"\n",
      "/mnt/c/Users/apmcl/Documents/GitHub/harmonic-inference/corpus_utils.py:134: UserWarning: Multiple matching tied notes (MultiIndex([(0, 435),\n",
      "            (0, 436)],\n",
      "           names=['section', 'ix'])) found for note index (578, 0, 433) and duration 1/2. Returning the first one.\n",
      "  warnings.warn(f\"Multiple matching tied notes ({matching_notes.index}) found for note index \"\n",
      "/mnt/c/Users/apmcl/Documents/GitHub/harmonic-inference/corpus_utils.py:134: UserWarning: Multiple matching tied notes (MultiIndex([(0, 435),\n",
      "            (0, 436)],\n",
      "           names=['section', 'ix'])) found for note index (578, 0, 434) and duration 1/2. Returning the first one.\n",
      "  warnings.warn(f\"Multiple matching tied notes ({matching_notes.index}) found for note index \"\n",
      "/mnt/c/Users/apmcl/Documents/GitHub/harmonic-inference/corpus_utils.py:134: UserWarning: Multiple matching tied notes (MultiIndex([(0, 509),\n",
      "            (0, 510)],\n",
      "           names=['section', 'ix'])) found for note index (578, 0, 507) and duration 1/4. Returning the first one.\n",
      "  warnings.warn(f\"Multiple matching tied notes ({matching_notes.index}) found for note index \"\n",
      "/mnt/c/Users/apmcl/Documents/GitHub/harmonic-inference/corpus_utils.py:134: UserWarning: Multiple matching tied notes (MultiIndex([(0, 509),\n",
      "            (0, 510)],\n",
      "           names=['section', 'ix'])) found for note index (578, 0, 508) and duration 1/4. Returning the first one.\n",
      "  warnings.warn(f\"Multiple matching tied notes ({matching_notes.index}) found for note index \"\n"
     ]
    },
    {
     "name": "stdout",
     "output_type": "stream",
     "text": [
      "Index 579 / 696\n"
     ]
    },
    {
     "name": "stderr",
     "output_type": "stream",
     "text": [
      "/mnt/c/Users/apmcl/Documents/GitHub/harmonic-inference/corpus_utils.py:134: UserWarning: Multiple matching tied notes (MultiIndex([(0, 6),\n",
      "            (0, 7)],\n",
      "           names=['section', 'ix'])) found for note index (579, 0, 4) and duration 1/4. Returning the first one.\n",
      "  warnings.warn(f\"Multiple matching tied notes ({matching_notes.index}) found for note index \"\n",
      "/mnt/c/Users/apmcl/Documents/GitHub/harmonic-inference/corpus_utils.py:134: UserWarning: Multiple matching tied notes (MultiIndex([(0, 6),\n",
      "            (0, 7)],\n",
      "           names=['section', 'ix'])) found for note index (579, 0, 5) and duration 1/4. Returning the first one.\n",
      "  warnings.warn(f\"Multiple matching tied notes ({matching_notes.index}) found for note index \"\n",
      "/mnt/c/Users/apmcl/Documents/GitHub/harmonic-inference/corpus_utils.py:134: UserWarning: Multiple matching tied notes (MultiIndex([(0, 54),\n",
      "            (0, 55)],\n",
      "           names=['section', 'ix'])) found for note index (579, 0, 52) and duration 1/4. Returning the first one.\n",
      "  warnings.warn(f\"Multiple matching tied notes ({matching_notes.index}) found for note index \"\n",
      "/mnt/c/Users/apmcl/Documents/GitHub/harmonic-inference/corpus_utils.py:134: UserWarning: Multiple matching tied notes (MultiIndex([(0, 54),\n",
      "            (0, 55)],\n",
      "           names=['section', 'ix'])) found for note index (579, 0, 53) and duration 1/4. Returning the first one.\n",
      "  warnings.warn(f\"Multiple matching tied notes ({matching_notes.index}) found for note index \"\n",
      "/mnt/c/Users/apmcl/Documents/GitHub/harmonic-inference/corpus_utils.py:134: UserWarning: Multiple matching tied notes (MultiIndex([(0, 306),\n",
      "            (0, 307)],\n",
      "           names=['section', 'ix'])) found for note index (579, 0, 303) and duration 1/2. Returning the first one.\n",
      "  warnings.warn(f\"Multiple matching tied notes ({matching_notes.index}) found for note index \"\n",
      "/mnt/c/Users/apmcl/Documents/GitHub/harmonic-inference/corpus_utils.py:134: UserWarning: Multiple matching tied notes (MultiIndex([(0, 306),\n",
      "            (0, 307)],\n",
      "           names=['section', 'ix'])) found for note index (579, 0, 305) and duration 1/4. Returning the first one.\n",
      "  warnings.warn(f\"Multiple matching tied notes ({matching_notes.index}) found for note index \"\n"
     ]
    },
    {
     "name": "stdout",
     "output_type": "stream",
     "text": [
      "Index 580 / 696\n"
     ]
    },
    {
     "name": "stderr",
     "output_type": "stream",
     "text": [
      "/mnt/c/Users/apmcl/Documents/GitHub/harmonic-inference/corpus_utils.py:134: UserWarning: Multiple matching tied notes (MultiIndex([(0, 413),\n",
      "            (0, 414)],\n",
      "           names=['section', 'ix'])) found for note index (580, 0, 407) and duration 1/2. Returning the first one.\n",
      "  warnings.warn(f\"Multiple matching tied notes ({matching_notes.index}) found for note index \"\n",
      "/mnt/c/Users/apmcl/Documents/GitHub/harmonic-inference/corpus_utils.py:134: UserWarning: Multiple matching tied notes (MultiIndex([(0, 413),\n",
      "            (0, 414)],\n",
      "           names=['section', 'ix'])) found for note index (580, 0, 408) and duration 1/2. Returning the first one.\n",
      "  warnings.warn(f\"Multiple matching tied notes ({matching_notes.index}) found for note index \"\n"
     ]
    },
    {
     "name": "stdout",
     "output_type": "stream",
     "text": [
      "Index 581 / 696\n"
     ]
    },
    {
     "name": "stderr",
     "output_type": "stream",
     "text": [
      "/mnt/c/Users/apmcl/Documents/GitHub/harmonic-inference/corpus_utils.py:134: UserWarning: Multiple matching tied notes (MultiIndex([(0, 663),\n",
      "            (0, 664)],\n",
      "           names=['section', 'ix'])) found for note index (581, 0, 653) and duration 1/2. Returning the first one.\n",
      "  warnings.warn(f\"Multiple matching tied notes ({matching_notes.index}) found for note index \"\n",
      "/mnt/c/Users/apmcl/Documents/GitHub/harmonic-inference/corpus_utils.py:134: UserWarning: Multiple matching tied notes (MultiIndex([(0, 663),\n",
      "            (0, 664)],\n",
      "           names=['section', 'ix'])) found for note index (581, 0, 654) and duration 1/2. Returning the first one.\n",
      "  warnings.warn(f\"Multiple matching tied notes ({matching_notes.index}) found for note index \"\n",
      "/mnt/c/Users/apmcl/Documents/GitHub/harmonic-inference/corpus_utils.py:134: UserWarning: Multiple matching tied notes (MultiIndex([(0, 712),\n",
      "            (0, 713)],\n",
      "           names=['section', 'ix'])) found for note index (581, 0, 703) and duration 1/2. Returning the first one.\n",
      "  warnings.warn(f\"Multiple matching tied notes ({matching_notes.index}) found for note index \"\n",
      "/mnt/c/Users/apmcl/Documents/GitHub/harmonic-inference/corpus_utils.py:134: UserWarning: Multiple matching tied notes (MultiIndex([(0, 712),\n",
      "            (0, 713)],\n",
      "           names=['section', 'ix'])) found for note index (581, 0, 704) and duration 1/2. Returning the first one.\n",
      "  warnings.warn(f\"Multiple matching tied notes ({matching_notes.index}) found for note index \"\n"
     ]
    },
    {
     "name": "stdout",
     "output_type": "stream",
     "text": [
      "Index 582 / 696\n"
     ]
    },
    {
     "name": "stderr",
     "output_type": "stream",
     "text": [
      "/mnt/c/Users/apmcl/Documents/GitHub/harmonic-inference/corpus_utils.py:134: UserWarning: Multiple matching tied notes (MultiIndex([(0, 2),\n",
      "            (0, 3)],\n",
      "           names=['section', 'ix'])) found for note index (582, 0, 0) and duration 1. Returning the first one.\n",
      "  warnings.warn(f\"Multiple matching tied notes ({matching_notes.index}) found for note index \"\n",
      "/mnt/c/Users/apmcl/Documents/GitHub/harmonic-inference/corpus_utils.py:134: UserWarning: Multiple matching tied notes (MultiIndex([(0, 2),\n",
      "            (0, 3)],\n",
      "           names=['section', 'ix'])) found for note index (582, 0, 1) and duration 1. Returning the first one.\n",
      "  warnings.warn(f\"Multiple matching tied notes ({matching_notes.index}) found for note index \"\n",
      "/mnt/c/Users/apmcl/Documents/GitHub/harmonic-inference/corpus_utils.py:134: UserWarning: Multiple matching tied notes (MultiIndex([(0, 17),\n",
      "            (0, 18)],\n",
      "           names=['section', 'ix'])) found for note index (582, 0, 14) and duration 1. Returning the first one.\n",
      "  warnings.warn(f\"Multiple matching tied notes ({matching_notes.index}) found for note index \"\n",
      "/mnt/c/Users/apmcl/Documents/GitHub/harmonic-inference/corpus_utils.py:134: UserWarning: Multiple matching tied notes (MultiIndex([(0, 17),\n",
      "            (0, 18)],\n",
      "           names=['section', 'ix'])) found for note index (582, 0, 15) and duration 1. Returning the first one.\n",
      "  warnings.warn(f\"Multiple matching tied notes ({matching_notes.index}) found for note index \"\n",
      "/mnt/c/Users/apmcl/Documents/GitHub/harmonic-inference/corpus_utils.py:134: UserWarning: Multiple matching tied notes (MultiIndex([(0, 128),\n",
      "            (0, 129)],\n",
      "           names=['section', 'ix'])) found for note index (582, 0, 119) and duration 1/2. Returning the first one.\n",
      "  warnings.warn(f\"Multiple matching tied notes ({matching_notes.index}) found for note index \"\n",
      "/mnt/c/Users/apmcl/Documents/GitHub/harmonic-inference/corpus_utils.py:134: UserWarning: Multiple matching tied notes (MultiIndex([(0, 128),\n",
      "            (0, 129)],\n",
      "           names=['section', 'ix'])) found for note index (582, 0, 120) and duration 1/2. Returning the first one.\n",
      "  warnings.warn(f\"Multiple matching tied notes ({matching_notes.index}) found for note index \"\n",
      "/mnt/c/Users/apmcl/Documents/GitHub/harmonic-inference/corpus_utils.py:134: UserWarning: Multiple matching tied notes (MultiIndex([(0, 306),\n",
      "            (0, 307)],\n",
      "           names=['section', 'ix'])) found for note index (582, 0, 299) and duration 1. Returning the first one.\n",
      "  warnings.warn(f\"Multiple matching tied notes ({matching_notes.index}) found for note index \"\n",
      "/mnt/c/Users/apmcl/Documents/GitHub/harmonic-inference/corpus_utils.py:134: UserWarning: Multiple matching tied notes (MultiIndex([(0, 306),\n",
      "            (0, 307)],\n",
      "           names=['section', 'ix'])) found for note index (582, 0, 301) and duration 1/2. Returning the first one.\n",
      "  warnings.warn(f\"Multiple matching tied notes ({matching_notes.index}) found for note index \"\n",
      "/mnt/c/Users/apmcl/Documents/GitHub/harmonic-inference/corpus_utils.py:134: UserWarning: Multiple matching tied notes (MultiIndex([(0, 331),\n",
      "            (0, 332)],\n",
      "           names=['section', 'ix'])) found for note index (582, 0, 325) and duration 1/2. Returning the first one.\n",
      "  warnings.warn(f\"Multiple matching tied notes ({matching_notes.index}) found for note index \"\n",
      "/mnt/c/Users/apmcl/Documents/GitHub/harmonic-inference/corpus_utils.py:134: UserWarning: Multiple matching tied notes (MultiIndex([(0, 331),\n",
      "            (0, 332)],\n",
      "           names=['section', 'ix'])) found for note index (582, 0, 326) and duration 1/2. Returning the first one.\n",
      "  warnings.warn(f\"Multiple matching tied notes ({matching_notes.index}) found for note index \"\n",
      "/mnt/c/Users/apmcl/Documents/GitHub/harmonic-inference/corpus_utils.py:134: UserWarning: Multiple matching tied notes (MultiIndex([(0, 354),\n",
      "            (0, 355)],\n",
      "           names=['section', 'ix'])) found for note index (582, 0, 351) and duration 1/2. Returning the first one.\n",
      "  warnings.warn(f\"Multiple matching tied notes ({matching_notes.index}) found for note index \"\n",
      "/mnt/c/Users/apmcl/Documents/GitHub/harmonic-inference/corpus_utils.py:134: UserWarning: Multiple matching tied notes (MultiIndex([(0, 354),\n",
      "            (0, 355)],\n",
      "           names=['section', 'ix'])) found for note index (582, 0, 352) and duration 1/2. Returning the first one.\n",
      "  warnings.warn(f\"Multiple matching tied notes ({matching_notes.index}) found for note index \"\n",
      "/mnt/c/Users/apmcl/Documents/GitHub/harmonic-inference/corpus_utils.py:134: UserWarning: Multiple matching tied notes (MultiIndex([(0, 455),\n",
      "            (0, 456)],\n",
      "           names=['section', 'ix'])) found for note index (582, 0, 448) and duration 1. Returning the first one.\n",
      "  warnings.warn(f\"Multiple matching tied notes ({matching_notes.index}) found for note index \"\n",
      "/mnt/c/Users/apmcl/Documents/GitHub/harmonic-inference/corpus_utils.py:134: UserWarning: Multiple matching tied notes (MultiIndex([(0, 455),\n",
      "            (0, 456)],\n",
      "           names=['section', 'ix'])) found for note index (582, 0, 449) and duration 1. Returning the first one.\n",
      "  warnings.warn(f\"Multiple matching tied notes ({matching_notes.index}) found for note index \"\n",
      "/mnt/c/Users/apmcl/Documents/GitHub/harmonic-inference/corpus_utils.py:134: UserWarning: Multiple matching tied notes (MultiIndex([(0, 500),\n",
      "            (0, 501)],\n",
      "           names=['section', 'ix'])) found for note index (582, 0, 493) and duration 1. Returning the first one.\n",
      "  warnings.warn(f\"Multiple matching tied notes ({matching_notes.index}) found for note index \"\n",
      "/mnt/c/Users/apmcl/Documents/GitHub/harmonic-inference/corpus_utils.py:134: UserWarning: Multiple matching tied notes (MultiIndex([(0, 500),\n",
      "            (0, 501)],\n",
      "           names=['section', 'ix'])) found for note index (582, 0, 494) and duration 1. Returning the first one.\n",
      "  warnings.warn(f\"Multiple matching tied notes ({matching_notes.index}) found for note index \"\n",
      "/mnt/c/Users/apmcl/Documents/GitHub/harmonic-inference/corpus_utils.py:134: UserWarning: Multiple matching tied notes (MultiIndex([(0, 551),\n",
      "            (0, 552)],\n",
      "           names=['section', 'ix'])) found for note index (582, 0, 544) and duration 1. Returning the first one.\n",
      "  warnings.warn(f\"Multiple matching tied notes ({matching_notes.index}) found for note index \"\n",
      "/mnt/c/Users/apmcl/Documents/GitHub/harmonic-inference/corpus_utils.py:134: UserWarning: Multiple matching tied notes (MultiIndex([(0, 551),\n",
      "            (0, 552)],\n",
      "           names=['section', 'ix'])) found for note index (582, 0, 545) and duration 1. Returning the first one.\n",
      "  warnings.warn(f\"Multiple matching tied notes ({matching_notes.index}) found for note index \"\n",
      "/mnt/c/Users/apmcl/Documents/GitHub/harmonic-inference/corpus_utils.py:134: UserWarning: Multiple matching tied notes (MultiIndex([(0, 619),\n",
      "            (0, 620)],\n",
      "           names=['section', 'ix'])) found for note index (582, 0, 612) and duration 1. Returning the first one.\n",
      "  warnings.warn(f\"Multiple matching tied notes ({matching_notes.index}) found for note index \"\n",
      "/mnt/c/Users/apmcl/Documents/GitHub/harmonic-inference/corpus_utils.py:134: UserWarning: Multiple matching tied notes (MultiIndex([(0, 619),\n",
      "            (0, 620)],\n",
      "           names=['section', 'ix'])) found for note index (582, 0, 613) and duration 1. Returning the first one.\n",
      "  warnings.warn(f\"Multiple matching tied notes ({matching_notes.index}) found for note index \"\n",
      "/mnt/c/Users/apmcl/Documents/GitHub/harmonic-inference/corpus_utils.py:134: UserWarning: Multiple matching tied notes (MultiIndex([(0, 683),\n",
      "            (0, 684)],\n",
      "           names=['section', 'ix'])) found for note index (582, 0, 676) and duration 1. Returning the first one.\n",
      "  warnings.warn(f\"Multiple matching tied notes ({matching_notes.index}) found for note index \"\n",
      "/mnt/c/Users/apmcl/Documents/GitHub/harmonic-inference/corpus_utils.py:134: UserWarning: Multiple matching tied notes (MultiIndex([(0, 683),\n",
      "            (0, 684)],\n",
      "           names=['section', 'ix'])) found for note index (582, 0, 677) and duration 1. Returning the first one.\n",
      "  warnings.warn(f\"Multiple matching tied notes ({matching_notes.index}) found for note index \"\n"
     ]
    },
    {
     "name": "stdout",
     "output_type": "stream",
     "text": [
      "Index 583 / 696\n"
     ]
    },
    {
     "name": "stderr",
     "output_type": "stream",
     "text": [
      "/mnt/c/Users/apmcl/Documents/GitHub/harmonic-inference/corpus_utils.py:134: UserWarning: Multiple matching tied notes (MultiIndex([(0, 1052),\n",
      "            (0, 1053)],\n",
      "           names=['section', 'ix'])) found for note index (583, 0, 1048) and duration 1. Returning the first one.\n",
      "  warnings.warn(f\"Multiple matching tied notes ({matching_notes.index}) found for note index \"\n",
      "/mnt/c/Users/apmcl/Documents/GitHub/harmonic-inference/corpus_utils.py:134: UserWarning: Multiple matching tied notes (MultiIndex([(0, 1052),\n",
      "            (0, 1053)],\n",
      "           names=['section', 'ix'])) found for note index (583, 0, 1049) and duration 1. Returning the first one.\n",
      "  warnings.warn(f\"Multiple matching tied notes ({matching_notes.index}) found for note index \"\n"
     ]
    },
    {
     "name": "stdout",
     "output_type": "stream",
     "text": [
      "Index 584 / 696\n"
     ]
    },
    {
     "name": "stderr",
     "output_type": "stream",
     "text": [
      "/mnt/c/Users/apmcl/Documents/GitHub/harmonic-inference/corpus_utils.py:134: UserWarning: Multiple matching tied notes (MultiIndex([(4, 8),\n",
      "            (4, 9)],\n",
      "           names=['section', 'ix'])) found for note index (584, 4, 0) and duration 1. Returning the first one.\n",
      "  warnings.warn(f\"Multiple matching tied notes ({matching_notes.index}) found for note index \"\n",
      "/mnt/c/Users/apmcl/Documents/GitHub/harmonic-inference/corpus_utils.py:134: UserWarning: Multiple matching tied notes (MultiIndex([(4, 8),\n",
      "            (4, 9)],\n",
      "           names=['section', 'ix'])) found for note index (584, 4, 1) and duration 1. Returning the first one.\n",
      "  warnings.warn(f\"Multiple matching tied notes ({matching_notes.index}) found for note index \"\n"
     ]
    },
    {
     "name": "stdout",
     "output_type": "stream",
     "text": [
      "Index 585 / 696\n"
     ]
    },
    {
     "name": "stderr",
     "output_type": "stream",
     "text": [
      "/mnt/c/Users/apmcl/Documents/GitHub/harmonic-inference/corpus_utils.py:134: UserWarning: Multiple matching tied notes (MultiIndex([(0, 66),\n",
      "            (0, 67)],\n",
      "           names=['section', 'ix'])) found for note index (585, 0, 59) and duration 1. Returning the first one.\n",
      "  warnings.warn(f\"Multiple matching tied notes ({matching_notes.index}) found for note index \"\n",
      "/mnt/c/Users/apmcl/Documents/GitHub/harmonic-inference/corpus_utils.py:134: UserWarning: Multiple matching tied notes (MultiIndex([(0, 66),\n",
      "            (0, 67)],\n",
      "           names=['section', 'ix'])) found for note index (585, 0, 60) and duration 1. Returning the first one.\n",
      "  warnings.warn(f\"Multiple matching tied notes ({matching_notes.index}) found for note index \"\n",
      "/mnt/c/Users/apmcl/Documents/GitHub/harmonic-inference/corpus_utils.py:134: UserWarning: Multiple matching tied notes (MultiIndex([(0, 266),\n",
      "            (0, 267)],\n",
      "           names=['section', 'ix'])) found for note index (585, 0, 258) and duration 1. Returning the first one.\n",
      "  warnings.warn(f\"Multiple matching tied notes ({matching_notes.index}) found for note index \"\n",
      "/mnt/c/Users/apmcl/Documents/GitHub/harmonic-inference/corpus_utils.py:134: UserWarning: Multiple matching tied notes (MultiIndex([(0, 266),\n",
      "            (0, 267)],\n",
      "           names=['section', 'ix'])) found for note index (585, 0, 259) and duration 1. Returning the first one.\n",
      "  warnings.warn(f\"Multiple matching tied notes ({matching_notes.index}) found for note index \"\n"
     ]
    },
    {
     "name": "stdout",
     "output_type": "stream",
     "text": [
      "Index 586 / 696\n"
     ]
    },
    {
     "name": "stderr",
     "output_type": "stream",
     "text": [
      "/mnt/c/Users/apmcl/Documents/GitHub/harmonic-inference/corpus_utils.py:128: UserWarning: No matching tied note (MultiIndex([], names=['section', 'ix'])) found for note index (586, 0, 52) and duration 1/4. Returning the first one.\n",
      "  warnings.warn(f\"No matching tied note ({matching_notes.index}) found for note index \"\n"
     ]
    },
    {
     "name": "stdout",
     "output_type": "stream",
     "text": [
      "Index 587 / 696\n"
     ]
    },
    {
     "name": "stderr",
     "output_type": "stream",
     "text": [
      "/mnt/c/Users/apmcl/Documents/GitHub/harmonic-inference/corpus_utils.py:134: UserWarning: Multiple matching tied notes (MultiIndex([(0, 601),\n",
      "            (0, 602)],\n",
      "           names=['section', 'ix'])) found for note index (587, 0, 599) and duration 1/4. Returning the first one.\n",
      "  warnings.warn(f\"Multiple matching tied notes ({matching_notes.index}) found for note index \"\n",
      "/mnt/c/Users/apmcl/Documents/GitHub/harmonic-inference/corpus_utils.py:134: UserWarning: Multiple matching tied notes (MultiIndex([(0, 601),\n",
      "            (0, 602)],\n",
      "           names=['section', 'ix'])) found for note index (587, 0, 600) and duration 1/4. Returning the first one.\n",
      "  warnings.warn(f\"Multiple matching tied notes ({matching_notes.index}) found for note index \"\n",
      "/mnt/c/Users/apmcl/Documents/GitHub/harmonic-inference/corpus_utils.py:134: UserWarning: Multiple matching tied notes (MultiIndex([(0, 616),\n",
      "            (0, 617)],\n",
      "           names=['section', 'ix'])) found for note index (587, 0, 609) and duration 1/2. Returning the first one.\n",
      "  warnings.warn(f\"Multiple matching tied notes ({matching_notes.index}) found for note index \"\n",
      "/mnt/c/Users/apmcl/Documents/GitHub/harmonic-inference/corpus_utils.py:134: UserWarning: Multiple matching tied notes (MultiIndex([(0, 616),\n",
      "            (0, 617)],\n",
      "           names=['section', 'ix'])) found for note index (587, 0, 610) and duration 1/2. Returning the first one.\n",
      "  warnings.warn(f\"Multiple matching tied notes ({matching_notes.index}) found for note index \"\n",
      "/mnt/c/Users/apmcl/Documents/GitHub/harmonic-inference/corpus_utils.py:134: UserWarning: Multiple matching tied notes (MultiIndex([(0, 630),\n",
      "            (0, 631)],\n",
      "           names=['section', 'ix'])) found for note index (587, 0, 628) and duration 1/4. Returning the first one.\n",
      "  warnings.warn(f\"Multiple matching tied notes ({matching_notes.index}) found for note index \"\n",
      "/mnt/c/Users/apmcl/Documents/GitHub/harmonic-inference/corpus_utils.py:134: UserWarning: Multiple matching tied notes (MultiIndex([(0, 630),\n",
      "            (0, 631)],\n",
      "           names=['section', 'ix'])) found for note index (587, 0, 629) and duration 1/4. Returning the first one.\n",
      "  warnings.warn(f\"Multiple matching tied notes ({matching_notes.index}) found for note index \"\n",
      "/mnt/c/Users/apmcl/Documents/GitHub/harmonic-inference/corpus_utils.py:134: UserWarning: Multiple matching tied notes (MultiIndex([(0, 648),\n",
      "            (0, 649)],\n",
      "           names=['section', 'ix'])) found for note index (587, 0, 639) and duration 1/2. Returning the first one.\n",
      "  warnings.warn(f\"Multiple matching tied notes ({matching_notes.index}) found for note index \"\n",
      "/mnt/c/Users/apmcl/Documents/GitHub/harmonic-inference/corpus_utils.py:134: UserWarning: Multiple matching tied notes (MultiIndex([(0, 648),\n",
      "            (0, 649)],\n",
      "           names=['section', 'ix'])) found for note index (587, 0, 640) and duration 1/2. Returning the first one.\n",
      "  warnings.warn(f\"Multiple matching tied notes ({matching_notes.index}) found for note index \"\n",
      "/mnt/c/Users/apmcl/Documents/GitHub/harmonic-inference/corpus_utils.py:128: UserWarning: No matching tied note (MultiIndex([], names=['section', 'ix'])) found for note index (587, 0, 818) and duration 1/2. Returning the first one.\n",
      "  warnings.warn(f\"No matching tied note ({matching_notes.index}) found for note index \"\n"
     ]
    },
    {
     "name": "stdout",
     "output_type": "stream",
     "text": [
      "Index 588 / 696\n"
     ]
    },
    {
     "name": "stderr",
     "output_type": "stream",
     "text": [
      "/mnt/c/Users/apmcl/Documents/GitHub/harmonic-inference/corpus_utils.py:134: UserWarning: Multiple matching tied notes (MultiIndex([(0, 156),\n",
      "            (0, 157)],\n",
      "           names=['section', 'ix'])) found for note index (588, 0, 150) and duration 1/2. Returning the first one.\n",
      "  warnings.warn(f\"Multiple matching tied notes ({matching_notes.index}) found for note index \"\n",
      "/mnt/c/Users/apmcl/Documents/GitHub/harmonic-inference/corpus_utils.py:134: UserWarning: Multiple matching tied notes (MultiIndex([(0, 156),\n",
      "            (0, 157)],\n",
      "           names=['section', 'ix'])) found for note index (588, 0, 151) and duration 1/2. Returning the first one.\n",
      "  warnings.warn(f\"Multiple matching tied notes ({matching_notes.index}) found for note index \"\n",
      "/mnt/c/Users/apmcl/Documents/GitHub/harmonic-inference/corpus_utils.py:134: UserWarning: Multiple matching tied notes (MultiIndex([(0, 250),\n",
      "            (0, 251)],\n",
      "           names=['section', 'ix'])) found for note index (588, 0, 242) and duration 1/2. Returning the first one.\n",
      "  warnings.warn(f\"Multiple matching tied notes ({matching_notes.index}) found for note index \"\n",
      "/mnt/c/Users/apmcl/Documents/GitHub/harmonic-inference/corpus_utils.py:134: UserWarning: Multiple matching tied notes (MultiIndex([(0, 250),\n",
      "            (0, 251)],\n",
      "           names=['section', 'ix'])) found for note index (588, 0, 243) and duration 1/2. Returning the first one.\n",
      "  warnings.warn(f\"Multiple matching tied notes ({matching_notes.index}) found for note index \"\n",
      "/mnt/c/Users/apmcl/Documents/GitHub/harmonic-inference/corpus_utils.py:134: UserWarning: Multiple matching tied notes (MultiIndex([(0, 503),\n",
      "            (0, 504)],\n",
      "           names=['section', 'ix'])) found for note index (588, 0, 497) and duration 1/2. Returning the first one.\n",
      "  warnings.warn(f\"Multiple matching tied notes ({matching_notes.index}) found for note index \"\n",
      "/mnt/c/Users/apmcl/Documents/GitHub/harmonic-inference/corpus_utils.py:134: UserWarning: Multiple matching tied notes (MultiIndex([(0, 503),\n",
      "            (0, 504)],\n",
      "           names=['section', 'ix'])) found for note index (588, 0, 498) and duration 1/2. Returning the first one.\n",
      "  warnings.warn(f\"Multiple matching tied notes ({matching_notes.index}) found for note index \"\n",
      "/mnt/c/Users/apmcl/Documents/GitHub/harmonic-inference/corpus_utils.py:134: UserWarning: Multiple matching tied notes (MultiIndex([(0, 520),\n",
      "            (0, 521)],\n",
      "           names=['section', 'ix'])) found for note index (588, 0, 513) and duration 1/2. Returning the first one.\n",
      "  warnings.warn(f\"Multiple matching tied notes ({matching_notes.index}) found for note index \"\n",
      "/mnt/c/Users/apmcl/Documents/GitHub/harmonic-inference/corpus_utils.py:134: UserWarning: Multiple matching tied notes (MultiIndex([(0, 520),\n",
      "            (0, 521)],\n",
      "           names=['section', 'ix'])) found for note index (588, 0, 514) and duration 1/2. Returning the first one.\n",
      "  warnings.warn(f\"Multiple matching tied notes ({matching_notes.index}) found for note index \"\n",
      "/mnt/c/Users/apmcl/Documents/GitHub/harmonic-inference/corpus_utils.py:134: UserWarning: Multiple matching tied notes (MultiIndex([(0, 676),\n",
      "            (0, 677)],\n",
      "           names=['section', 'ix'])) found for note index (588, 0, 672) and duration 1/4. Returning the first one.\n",
      "  warnings.warn(f\"Multiple matching tied notes ({matching_notes.index}) found for note index \"\n",
      "/mnt/c/Users/apmcl/Documents/GitHub/harmonic-inference/corpus_utils.py:134: UserWarning: Multiple matching tied notes (MultiIndex([(0, 676),\n",
      "            (0, 677)],\n",
      "           names=['section', 'ix'])) found for note index (588, 0, 673) and duration 1/4. Returning the first one.\n",
      "  warnings.warn(f\"Multiple matching tied notes ({matching_notes.index}) found for note index \"\n"
     ]
    },
    {
     "name": "stdout",
     "output_type": "stream",
     "text": [
      "Index 589 / 696\n"
     ]
    },
    {
     "name": "stderr",
     "output_type": "stream",
     "text": [
      "/mnt/c/Users/apmcl/Documents/GitHub/harmonic-inference/corpus_utils.py:134: UserWarning: Multiple matching tied notes (MultiIndex([(0, 39),\n",
      "            (0, 40)],\n",
      "           names=['section', 'ix'])) found for note index (589, 0, 34) and duration 1/2. Returning the first one.\n",
      "  warnings.warn(f\"Multiple matching tied notes ({matching_notes.index}) found for note index \"\n",
      "/mnt/c/Users/apmcl/Documents/GitHub/harmonic-inference/corpus_utils.py:134: UserWarning: Multiple matching tied notes (MultiIndex([(0, 39),\n",
      "            (0, 40)],\n",
      "           names=['section', 'ix'])) found for note index (589, 0, 35) and duration 1/2. Returning the first one.\n",
      "  warnings.warn(f\"Multiple matching tied notes ({matching_notes.index}) found for note index \"\n",
      "/mnt/c/Users/apmcl/Documents/GitHub/harmonic-inference/corpus_utils.py:134: UserWarning: Multiple matching tied notes (MultiIndex([(0, 226),\n",
      "            (0, 227)],\n",
      "           names=['section', 'ix'])) found for note index (589, 0, 222) and duration 1/2. Returning the first one.\n",
      "  warnings.warn(f\"Multiple matching tied notes ({matching_notes.index}) found for note index \"\n",
      "/mnt/c/Users/apmcl/Documents/GitHub/harmonic-inference/corpus_utils.py:134: UserWarning: Multiple matching tied notes (MultiIndex([(0, 226),\n",
      "            (0, 227)],\n",
      "           names=['section', 'ix'])) found for note index (589, 0, 223) and duration 1/2. Returning the first one.\n",
      "  warnings.warn(f\"Multiple matching tied notes ({matching_notes.index}) found for note index \"\n"
     ]
    },
    {
     "name": "stdout",
     "output_type": "stream",
     "text": [
      "Index 590 / 696\n"
     ]
    },
    {
     "name": "stderr",
     "output_type": "stream",
     "text": [
      "/mnt/c/Users/apmcl/Documents/GitHub/harmonic-inference/corpus_utils.py:134: UserWarning: Multiple matching tied notes (MultiIndex([(0, 120),\n",
      "            (0, 121)],\n",
      "           names=['section', 'ix'])) found for note index (590, 0, 117) and duration 1/2. Returning the first one.\n",
      "  warnings.warn(f\"Multiple matching tied notes ({matching_notes.index}) found for note index \"\n",
      "/mnt/c/Users/apmcl/Documents/GitHub/harmonic-inference/corpus_utils.py:134: UserWarning: Multiple matching tied notes (MultiIndex([(0, 120),\n",
      "            (0, 121)],\n",
      "           names=['section', 'ix'])) found for note index (590, 0, 118) and duration 1/2. Returning the first one.\n",
      "  warnings.warn(f\"Multiple matching tied notes ({matching_notes.index}) found for note index \"\n",
      "/mnt/c/Users/apmcl/Documents/GitHub/harmonic-inference/corpus_utils.py:134: UserWarning: Multiple matching tied notes (MultiIndex([(4, 50),\n",
      "            (4, 51)],\n",
      "           names=['section', 'ix'])) found for note index (590, 4, 45) and duration 1/2. Returning the first one.\n",
      "  warnings.warn(f\"Multiple matching tied notes ({matching_notes.index}) found for note index \"\n",
      "/mnt/c/Users/apmcl/Documents/GitHub/harmonic-inference/corpus_utils.py:134: UserWarning: Multiple matching tied notes (MultiIndex([(4, 50),\n",
      "            (4, 51)],\n",
      "           names=['section', 'ix'])) found for note index (590, 4, 46) and duration 1/2. Returning the first one.\n",
      "  warnings.warn(f\"Multiple matching tied notes ({matching_notes.index}) found for note index \"\n",
      "/mnt/c/Users/apmcl/Documents/GitHub/harmonic-inference/corpus_utils.py:134: UserWarning: Multiple matching tied notes (MultiIndex([(5, 81),\n",
      "            (5, 82)],\n",
      "           names=['section', 'ix'])) found for note index (590, 5, 77) and duration 1/2. Returning the first one.\n",
      "  warnings.warn(f\"Multiple matching tied notes ({matching_notes.index}) found for note index \"\n",
      "/mnt/c/Users/apmcl/Documents/GitHub/harmonic-inference/corpus_utils.py:134: UserWarning: Multiple matching tied notes (MultiIndex([(5, 81),\n",
      "            (5, 82)],\n",
      "           names=['section', 'ix'])) found for note index (590, 5, 78) and duration 1/2. Returning the first one.\n",
      "  warnings.warn(f\"Multiple matching tied notes ({matching_notes.index}) found for note index \"\n",
      "/mnt/c/Users/apmcl/Documents/GitHub/harmonic-inference/corpus_utils.py:134: UserWarning: Multiple matching tied notes (MultiIndex([(6, 10),\n",
      "            (6, 11)],\n",
      "           names=['section', 'ix'])) found for note index (590, 6, 5) and duration 1/4. Returning the first one.\n",
      "  warnings.warn(f\"Multiple matching tied notes ({matching_notes.index}) found for note index \"\n",
      "/mnt/c/Users/apmcl/Documents/GitHub/harmonic-inference/corpus_utils.py:134: UserWarning: Multiple matching tied notes (MultiIndex([(6, 10),\n",
      "            (6, 11)],\n",
      "           names=['section', 'ix'])) found for note index (590, 6, 6) and duration 1/4. Returning the first one.\n",
      "  warnings.warn(f\"Multiple matching tied notes ({matching_notes.index}) found for note index \"\n",
      "/mnt/c/Users/apmcl/Documents/GitHub/harmonic-inference/corpus_utils.py:134: UserWarning: Multiple matching tied notes (MultiIndex([(6, 54),\n",
      "            (6, 55)],\n",
      "           names=['section', 'ix'])) found for note index (590, 6, 49) and duration 1/2. Returning the first one.\n",
      "  warnings.warn(f\"Multiple matching tied notes ({matching_notes.index}) found for note index \"\n",
      "/mnt/c/Users/apmcl/Documents/GitHub/harmonic-inference/corpus_utils.py:134: UserWarning: Multiple matching tied notes (MultiIndex([(6, 54),\n",
      "            (6, 55)],\n",
      "           names=['section', 'ix'])) found for note index (590, 6, 50) and duration 1/2. Returning the first one.\n",
      "  warnings.warn(f\"Multiple matching tied notes ({matching_notes.index}) found for note index \"\n",
      "/mnt/c/Users/apmcl/Documents/GitHub/harmonic-inference/corpus_utils.py:134: UserWarning: Multiple matching tied notes (MultiIndex([(7, 74),\n",
      "            (7, 75)],\n",
      "           names=['section', 'ix'])) found for note index (590, 7, 70) and duration 1/2. Returning the first one.\n",
      "  warnings.warn(f\"Multiple matching tied notes ({matching_notes.index}) found for note index \"\n",
      "/mnt/c/Users/apmcl/Documents/GitHub/harmonic-inference/corpus_utils.py:134: UserWarning: Multiple matching tied notes (MultiIndex([(7, 74),\n",
      "            (7, 75)],\n",
      "           names=['section', 'ix'])) found for note index (590, 7, 71) and duration 1/2. Returning the first one.\n",
      "  warnings.warn(f\"Multiple matching tied notes ({matching_notes.index}) found for note index \"\n",
      "/mnt/c/Users/apmcl/Documents/GitHub/harmonic-inference/corpus_utils.py:134: UserWarning: Multiple matching tied notes (MultiIndex([(7, 120),\n",
      "            (7, 121)],\n",
      "           names=['section', 'ix'])) found for note index (590, 7, 116) and duration 1/2. Returning the first one.\n",
      "  warnings.warn(f\"Multiple matching tied notes ({matching_notes.index}) found for note index \"\n",
      "/mnt/c/Users/apmcl/Documents/GitHub/harmonic-inference/corpus_utils.py:134: UserWarning: Multiple matching tied notes (MultiIndex([(7, 120),\n",
      "            (7, 121)],\n",
      "           names=['section', 'ix'])) found for note index (590, 7, 117) and duration 1/2. Returning the first one.\n",
      "  warnings.warn(f\"Multiple matching tied notes ({matching_notes.index}) found for note index \"\n"
     ]
    },
    {
     "name": "stdout",
     "output_type": "stream",
     "text": [
      "Index 591 / 696\n"
     ]
    },
    {
     "name": "stderr",
     "output_type": "stream",
     "text": [
      "/mnt/c/Users/apmcl/Documents/GitHub/harmonic-inference/corpus_utils.py:128: UserWarning: No matching tied note (MultiIndex([], names=['section', 'ix'])) found for note index (591, 0, 125) and duration 1/8. Returning the first one.\n",
      "  warnings.warn(f\"No matching tied note ({matching_notes.index}) found for note index \"\n",
      "/mnt/c/Users/apmcl/Documents/GitHub/harmonic-inference/corpus_utils.py:128: UserWarning: No matching tied note (MultiIndex([], names=['section', 'ix'])) found for note index (591, 0, 178) and duration 1/4. Returning the first one.\n",
      "  warnings.warn(f\"No matching tied note ({matching_notes.index}) found for note index \"\n"
     ]
    },
    {
     "name": "stdout",
     "output_type": "stream",
     "text": [
      "Index 592 / 696\n"
     ]
    },
    {
     "name": "stderr",
     "output_type": "stream",
     "text": [
      "/mnt/c/Users/apmcl/Documents/GitHub/harmonic-inference/corpus_utils.py:134: UserWarning: Multiple matching tied notes (MultiIndex([(0, 50),\n",
      "            (0, 51)],\n",
      "           names=['section', 'ix'])) found for note index (592, 0, 44) and duration 1/2. Returning the first one.\n",
      "  warnings.warn(f\"Multiple matching tied notes ({matching_notes.index}) found for note index \"\n",
      "/mnt/c/Users/apmcl/Documents/GitHub/harmonic-inference/corpus_utils.py:134: UserWarning: Multiple matching tied notes (MultiIndex([(0, 50),\n",
      "            (0, 51)],\n",
      "           names=['section', 'ix'])) found for note index (592, 0, 45) and duration 1/2. Returning the first one.\n",
      "  warnings.warn(f\"Multiple matching tied notes ({matching_notes.index}) found for note index \"\n",
      "/mnt/c/Users/apmcl/Documents/GitHub/harmonic-inference/corpus_utils.py:128: UserWarning: No matching tied note (MultiIndex([], names=['section', 'ix'])) found for note index (592, 1, 30) and duration 1/2. Returning the first one.\n",
      "  warnings.warn(f\"No matching tied note ({matching_notes.index}) found for note index \"\n",
      "/mnt/c/Users/apmcl/Documents/GitHub/harmonic-inference/corpus_utils.py:134: UserWarning: Multiple matching tied notes (MultiIndex([(2, 50),\n",
      "            (2, 51)],\n",
      "           names=['section', 'ix'])) found for note index (592, 2, 44) and duration 1/2. Returning the first one.\n",
      "  warnings.warn(f\"Multiple matching tied notes ({matching_notes.index}) found for note index \"\n",
      "/mnt/c/Users/apmcl/Documents/GitHub/harmonic-inference/corpus_utils.py:134: UserWarning: Multiple matching tied notes (MultiIndex([(2, 50),\n",
      "            (2, 51)],\n",
      "           names=['section', 'ix'])) found for note index (592, 2, 45) and duration 1/2. Returning the first one.\n",
      "  warnings.warn(f\"Multiple matching tied notes ({matching_notes.index}) found for note index \"\n"
     ]
    },
    {
     "name": "stdout",
     "output_type": "stream",
     "text": [
      "Index 593 / 696\n"
     ]
    },
    {
     "name": "stderr",
     "output_type": "stream",
     "text": [
      "/mnt/c/Users/apmcl/Documents/GitHub/harmonic-inference/corpus_utils.py:134: UserWarning: Multiple matching tied notes (MultiIndex([(0, 49),\n",
      "            (0, 50)],\n",
      "           names=['section', 'ix'])) found for note index (593, 0, 43) and duration 1/2. Returning the first one.\n",
      "  warnings.warn(f\"Multiple matching tied notes ({matching_notes.index}) found for note index \"\n",
      "/mnt/c/Users/apmcl/Documents/GitHub/harmonic-inference/corpus_utils.py:134: UserWarning: Multiple matching tied notes (MultiIndex([(0, 49),\n",
      "            (0, 50)],\n",
      "           names=['section', 'ix'])) found for note index (593, 0, 44) and duration 1/2. Returning the first one.\n",
      "  warnings.warn(f\"Multiple matching tied notes ({matching_notes.index}) found for note index \"\n",
      "/mnt/c/Users/apmcl/Documents/GitHub/harmonic-inference/corpus_utils.py:128: UserWarning: No matching tied note (MultiIndex([], names=['section', 'ix'])) found for note index (593, 1, 190) and duration 1/2. Returning the first one.\n",
      "  warnings.warn(f\"No matching tied note ({matching_notes.index}) found for note index \"\n",
      "/mnt/c/Users/apmcl/Documents/GitHub/harmonic-inference/corpus_utils.py:134: UserWarning: Multiple matching tied notes (MultiIndex([(2, 49),\n",
      "            (2, 50)],\n",
      "           names=['section', 'ix'])) found for note index (593, 2, 43) and duration 1/2. Returning the first one.\n",
      "  warnings.warn(f\"Multiple matching tied notes ({matching_notes.index}) found for note index \"\n",
      "/mnt/c/Users/apmcl/Documents/GitHub/harmonic-inference/corpus_utils.py:134: UserWarning: Multiple matching tied notes (MultiIndex([(2, 49),\n",
      "            (2, 50)],\n",
      "           names=['section', 'ix'])) found for note index (593, 2, 44) and duration 1/2. Returning the first one.\n",
      "  warnings.warn(f\"Multiple matching tied notes ({matching_notes.index}) found for note index \"\n"
     ]
    },
    {
     "name": "stdout",
     "output_type": "stream",
     "text": [
      "Index 594 / 696\n"
     ]
    },
    {
     "name": "stderr",
     "output_type": "stream",
     "text": [
      "/mnt/c/Users/apmcl/Documents/GitHub/harmonic-inference/corpus_utils.py:134: UserWarning: Multiple matching tied notes (MultiIndex([(0, 185),\n",
      "            (0, 186),\n",
      "            (0, 187)],\n",
      "           names=['section', 'ix'])) found for note index (594, 0, 161) and duration 2. Returning the first one.\n",
      "  warnings.warn(f\"Multiple matching tied notes ({matching_notes.index}) found for note index \"\n",
      "/mnt/c/Users/apmcl/Documents/GitHub/harmonic-inference/corpus_utils.py:134: UserWarning: Multiple matching tied notes (MultiIndex([(0, 185),\n",
      "            (0, 186),\n",
      "            (0, 187)],\n",
      "           names=['section', 'ix'])) found for note index (594, 0, 173) and duration 1. Returning the first one.\n",
      "  warnings.warn(f\"Multiple matching tied notes ({matching_notes.index}) found for note index \"\n",
      "/mnt/c/Users/apmcl/Documents/GitHub/harmonic-inference/corpus_utils.py:134: UserWarning: Multiple matching tied notes (MultiIndex([(0, 185),\n",
      "            (0, 186),\n",
      "            (0, 187)],\n",
      "           names=['section', 'ix'])) found for note index (594, 0, 180) and duration 1/2. Returning the first one.\n",
      "  warnings.warn(f\"Multiple matching tied notes ({matching_notes.index}) found for note index \"\n",
      "/mnt/c/Users/apmcl/Documents/GitHub/harmonic-inference/corpus_utils.py:134: UserWarning: Multiple matching tied notes (MultiIndex([(0, 597),\n",
      "            (0, 598)],\n",
      "           names=['section', 'ix'])) found for note index (594, 0, 589) and duration 1/2. Returning the first one.\n",
      "  warnings.warn(f\"Multiple matching tied notes ({matching_notes.index}) found for note index \"\n",
      "/mnt/c/Users/apmcl/Documents/GitHub/harmonic-inference/corpus_utils.py:134: UserWarning: Multiple matching tied notes (MultiIndex([(0, 597),\n",
      "            (0, 598)],\n",
      "           names=['section', 'ix'])) found for note index (594, 0, 590) and duration 1/2. Returning the first one.\n",
      "  warnings.warn(f\"Multiple matching tied notes ({matching_notes.index}) found for note index \"\n",
      "/mnt/c/Users/apmcl/Documents/GitHub/harmonic-inference/corpus_utils.py:134: UserWarning: Multiple matching tied notes (MultiIndex([(0, 661),\n",
      "            (0, 662)],\n",
      "           names=['section', 'ix'])) found for note index (594, 0, 650) and duration 1/2. Returning the first one.\n",
      "  warnings.warn(f\"Multiple matching tied notes ({matching_notes.index}) found for note index \"\n",
      "/mnt/c/Users/apmcl/Documents/GitHub/harmonic-inference/corpus_utils.py:134: UserWarning: Multiple matching tied notes (MultiIndex([(0, 661),\n",
      "            (0, 662)],\n",
      "           names=['section', 'ix'])) found for note index (594, 0, 651) and duration 1/2. Returning the first one.\n",
      "  warnings.warn(f\"Multiple matching tied notes ({matching_notes.index}) found for note index \"\n",
      "/mnt/c/Users/apmcl/Documents/GitHub/harmonic-inference/corpus_utils.py:134: UserWarning: Multiple matching tied notes (MultiIndex([(0, 1235),\n",
      "            (0, 1236),\n",
      "            (0, 1237)],\n",
      "           names=['section', 'ix'])) found for note index (594, 0, 1211) and duration 2. Returning the first one.\n",
      "  warnings.warn(f\"Multiple matching tied notes ({matching_notes.index}) found for note index \"\n",
      "/mnt/c/Users/apmcl/Documents/GitHub/harmonic-inference/corpus_utils.py:134: UserWarning: Multiple matching tied notes (MultiIndex([(0, 1235),\n",
      "            (0, 1236),\n",
      "            (0, 1237)],\n",
      "           names=['section', 'ix'])) found for note index (594, 0, 1223) and duration 1. Returning the first one.\n",
      "  warnings.warn(f\"Multiple matching tied notes ({matching_notes.index}) found for note index \"\n",
      "/mnt/c/Users/apmcl/Documents/GitHub/harmonic-inference/corpus_utils.py:134: UserWarning: Multiple matching tied notes (MultiIndex([(0, 1235),\n",
      "            (0, 1236),\n",
      "            (0, 1237)],\n",
      "           names=['section', 'ix'])) found for note index (594, 0, 1230) and duration 1/2. Returning the first one.\n",
      "  warnings.warn(f\"Multiple matching tied notes ({matching_notes.index}) found for note index \"\n"
     ]
    },
    {
     "name": "stdout",
     "output_type": "stream",
     "text": [
      "Index 595 / 696\n"
     ]
    },
    {
     "name": "stderr",
     "output_type": "stream",
     "text": [
      "/mnt/c/Users/apmcl/Documents/GitHub/harmonic-inference/corpus_utils.py:128: UserWarning: No matching tied note (MultiIndex([], names=['section', 'ix'])) found for note index (595, 0, 139) and duration 1/4. Returning the first one.\n",
      "  warnings.warn(f\"No matching tied note ({matching_notes.index}) found for note index \"\n",
      "/mnt/c/Users/apmcl/Documents/GitHub/harmonic-inference/corpus_utils.py:134: UserWarning: Multiple matching tied notes (MultiIndex([(0, 374),\n",
      "            (0, 375)],\n",
      "           names=['section', 'ix'])) found for note index (595, 0, 366) and duration 1/2. Returning the first one.\n",
      "  warnings.warn(f\"Multiple matching tied notes ({matching_notes.index}) found for note index \"\n",
      "/mnt/c/Users/apmcl/Documents/GitHub/harmonic-inference/corpus_utils.py:134: UserWarning: Multiple matching tied notes (MultiIndex([(0, 374),\n",
      "            (0, 375)],\n",
      "           names=['section', 'ix'])) found for note index (595, 0, 367) and duration 1/2. Returning the first one.\n",
      "  warnings.warn(f\"Multiple matching tied notes ({matching_notes.index}) found for note index \"\n",
      "/mnt/c/Users/apmcl/Documents/GitHub/harmonic-inference/corpus_utils.py:128: UserWarning: No matching tied note (MultiIndex([], names=['section', 'ix'])) found for note index (595, 0, 538) and duration 1/4. Returning the first one.\n",
      "  warnings.warn(f\"No matching tied note ({matching_notes.index}) found for note index \"\n",
      "/mnt/c/Users/apmcl/Documents/GitHub/harmonic-inference/corpus_utils.py:134: UserWarning: Multiple matching tied notes (MultiIndex([(0, 961),\n",
      "            (0, 962),\n",
      "            (0, 963)],\n",
      "           names=['section', 'ix'])) found for note index (595, 0, 955) and duration 1/4. Returning the first one.\n",
      "  warnings.warn(f\"Multiple matching tied notes ({matching_notes.index}) found for note index \"\n",
      "/mnt/c/Users/apmcl/Documents/GitHub/harmonic-inference/corpus_utils.py:134: UserWarning: Multiple matching tied notes (MultiIndex([(0, 961),\n",
      "            (0, 962),\n",
      "            (0, 963)],\n",
      "           names=['section', 'ix'])) found for note index (595, 0, 956) and duration 1/4. Returning the first one.\n",
      "  warnings.warn(f\"Multiple matching tied notes ({matching_notes.index}) found for note index \"\n",
      "/mnt/c/Users/apmcl/Documents/GitHub/harmonic-inference/corpus_utils.py:134: UserWarning: Multiple matching tied notes (MultiIndex([(0, 961),\n",
      "            (0, 962),\n",
      "            (0, 963)],\n",
      "           names=['section', 'ix'])) found for note index (595, 0, 957) and duration 1/4. Returning the first one.\n",
      "  warnings.warn(f\"Multiple matching tied notes ({matching_notes.index}) found for note index \"\n",
      "/mnt/c/Users/apmcl/Documents/GitHub/harmonic-inference/corpus_utils.py:128: UserWarning: No matching tied note (MultiIndex([], names=['section', 'ix'])) found for note index (595, 0, 1052) and duration 1/2. Returning the first one.\n",
      "  warnings.warn(f\"No matching tied note ({matching_notes.index}) found for note index \"\n",
      "/mnt/c/Users/apmcl/Documents/GitHub/harmonic-inference/corpus_utils.py:128: UserWarning: No matching tied note (MultiIndex([], names=['section', 'ix'])) found for note index (595, 0, 1053) and duration 1/4. Returning the first one.\n",
      "  warnings.warn(f\"No matching tied note ({matching_notes.index}) found for note index \"\n",
      "/mnt/c/Users/apmcl/Documents/GitHub/harmonic-inference/corpus_utils.py:128: UserWarning: No matching tied note (MultiIndex([], names=['section', 'ix'])) found for note index (595, 0, 1113) and duration 1/4. Returning the first one.\n",
      "  warnings.warn(f\"No matching tied note ({matching_notes.index}) found for note index \"\n",
      "/mnt/c/Users/apmcl/Documents/GitHub/harmonic-inference/corpus_utils.py:128: UserWarning: No matching tied note (MultiIndex([], names=['section', 'ix'])) found for note index (595, 0, 1158) and duration 1/2. Returning the first one.\n",
      "  warnings.warn(f\"No matching tied note ({matching_notes.index}) found for note index \"\n",
      "/mnt/c/Users/apmcl/Documents/GitHub/harmonic-inference/corpus_utils.py:134: UserWarning: Multiple matching tied notes (MultiIndex([(0, 1502),\n",
      "            (0, 1503)],\n",
      "           names=['section', 'ix'])) found for note index (595, 0, 1493) and duration 1/2. Returning the first one.\n",
      "  warnings.warn(f\"Multiple matching tied notes ({matching_notes.index}) found for note index \"\n",
      "/mnt/c/Users/apmcl/Documents/GitHub/harmonic-inference/corpus_utils.py:134: UserWarning: Multiple matching tied notes (MultiIndex([(0, 1502),\n",
      "            (0, 1503)],\n",
      "           names=['section', 'ix'])) found for note index (595, 0, 1494) and duration 1/2. Returning the first one.\n",
      "  warnings.warn(f\"Multiple matching tied notes ({matching_notes.index}) found for note index \"\n"
     ]
    },
    {
     "name": "stdout",
     "output_type": "stream",
     "text": [
      "Index 596 / 696\n"
     ]
    },
    {
     "name": "stderr",
     "output_type": "stream",
     "text": [
      "/mnt/c/Users/apmcl/Documents/GitHub/harmonic-inference/corpus_utils.py:134: UserWarning: Multiple matching tied notes (MultiIndex([(0, 2141),\n",
      "            (0, 2142)],\n",
      "           names=['section', 'ix'])) found for note index (596, 0, 2135) and duration 1. Returning the first one.\n",
      "  warnings.warn(f\"Multiple matching tied notes ({matching_notes.index}) found for note index \"\n",
      "/mnt/c/Users/apmcl/Documents/GitHub/harmonic-inference/corpus_utils.py:134: UserWarning: Multiple matching tied notes (MultiIndex([(0, 2141),\n",
      "            (0, 2142)],\n",
      "           names=['section', 'ix'])) found for note index (596, 0, 2136) and duration 1. Returning the first one.\n",
      "  warnings.warn(f\"Multiple matching tied notes ({matching_notes.index}) found for note index \"\n"
     ]
    },
    {
     "name": "stdout",
     "output_type": "stream",
     "text": [
      "Index 597 / 696\n"
     ]
    },
    {
     "name": "stderr",
     "output_type": "stream",
     "text": [
      "/mnt/c/Users/apmcl/Documents/GitHub/harmonic-inference/corpus_utils.py:128: UserWarning: No matching tied note (MultiIndex([], names=['section', 'ix'])) found for note index (597, 0, 1385) and duration 1. Returning the first one.\n",
      "  warnings.warn(f\"No matching tied note ({matching_notes.index}) found for note index \"\n",
      "/mnt/c/Users/apmcl/Documents/GitHub/harmonic-inference/corpus_utils.py:128: UserWarning: No matching tied note (MultiIndex([], names=['section', 'ix'])) found for note index (597, 0, 1731) and duration 1/2. Returning the first one.\n",
      "  warnings.warn(f\"No matching tied note ({matching_notes.index}) found for note index \"\n"
     ]
    },
    {
     "name": "stdout",
     "output_type": "stream",
     "text": [
      "Index 601 / 696\n",
      "Index 602 / 696\n"
     ]
    },
    {
     "name": "stderr",
     "output_type": "stream",
     "text": [
      "/mnt/c/Users/apmcl/Documents/GitHub/harmonic-inference/corpus_utils.py:128: UserWarning: No matching tied note (MultiIndex([], names=['section', 'ix'])) found for note index (602, 0, 131) and duration 1/8. Returning the first one.\n",
      "  warnings.warn(f\"No matching tied note ({matching_notes.index}) found for note index \"\n",
      "/mnt/c/Users/apmcl/Documents/GitHub/harmonic-inference/corpus_utils.py:128: UserWarning: No matching tied note (MultiIndex([], names=['section', 'ix'])) found for note index (602, 0, 197) and duration 3/8. Returning the first one.\n",
      "  warnings.warn(f\"No matching tied note ({matching_notes.index}) found for note index \"\n",
      "/mnt/c/Users/apmcl/Documents/GitHub/harmonic-inference/corpus_utils.py:128: UserWarning: No matching tied note (MultiIndex([], names=['section', 'ix'])) found for note index (602, 2, 132) and duration 1/8. Returning the first one.\n",
      "  warnings.warn(f\"No matching tied note ({matching_notes.index}) found for note index \"\n"
     ]
    },
    {
     "name": "stdout",
     "output_type": "stream",
     "text": [
      "Index 603 / 696\n",
      "Index 604 / 696\n",
      "Index 605 / 696\n"
     ]
    },
    {
     "name": "stderr",
     "output_type": "stream",
     "text": [
      "/mnt/c/Users/apmcl/Documents/GitHub/harmonic-inference/corpus_utils.py:128: UserWarning: No matching tied note (MultiIndex([], names=['section', 'ix'])) found for note index (605, 1, 11) and duration 3/4. Returning the first one.\n",
      "  warnings.warn(f\"No matching tied note ({matching_notes.index}) found for note index \"\n",
      "/mnt/c/Users/apmcl/Documents/GitHub/harmonic-inference/corpus_utils.py:128: UserWarning: No matching tied note (MultiIndex([], names=['section', 'ix'])) found for note index (605, 1, 34) and duration 3/4. Returning the first one.\n",
      "  warnings.warn(f\"No matching tied note ({matching_notes.index}) found for note index \"\n",
      "/mnt/c/Users/apmcl/Documents/GitHub/harmonic-inference/corpus_utils.py:128: UserWarning: No matching tied note (MultiIndex([], names=['section', 'ix'])) found for note index (605, 1, 226) and duration 3/4. Returning the first one.\n",
      "  warnings.warn(f\"No matching tied note ({matching_notes.index}) found for note index \"\n"
     ]
    },
    {
     "name": "stdout",
     "output_type": "stream",
     "text": [
      "Index 606 / 696\n",
      "Index 607 / 696\n",
      "Index 608 / 696\n",
      "Index 609 / 696\n",
      "Index 610 / 696\n"
     ]
    },
    {
     "name": "stderr",
     "output_type": "stream",
     "text": [
      "/mnt/c/Users/apmcl/Documents/GitHub/harmonic-inference/corpus_utils.py:128: UserWarning: No matching tied note (MultiIndex([], names=['section', 'ix'])) found for note index (610, 0, 299) and duration 1/4. Returning the first one.\n",
      "  warnings.warn(f\"No matching tied note ({matching_notes.index}) found for note index \"\n",
      "/mnt/c/Users/apmcl/Documents/GitHub/harmonic-inference/corpus_utils.py:128: UserWarning: No matching tied note (MultiIndex([], names=['section', 'ix'])) found for note index (610, 1, 290) and duration 1/4. Returning the first one.\n",
      "  warnings.warn(f\"No matching tied note ({matching_notes.index}) found for note index \"\n"
     ]
    },
    {
     "name": "stdout",
     "output_type": "stream",
     "text": [
      "Index 611 / 696\n"
     ]
    },
    {
     "name": "stderr",
     "output_type": "stream",
     "text": [
      "/mnt/c/Users/apmcl/Documents/GitHub/harmonic-inference/corpus_utils.py:128: UserWarning: No matching tied note (MultiIndex([], names=['section', 'ix'])) found for note index (611, 1, 711) and duration 3/16. Returning the first one.\n",
      "  warnings.warn(f\"No matching tied note ({matching_notes.index}) found for note index \"\n"
     ]
    },
    {
     "name": "stdout",
     "output_type": "stream",
     "text": [
      "Index 612 / 696\n"
     ]
    },
    {
     "name": "stderr",
     "output_type": "stream",
     "text": [
      "/mnt/c/Users/apmcl/Documents/GitHub/harmonic-inference/corpus_utils.py:128: UserWarning: No matching tied note (MultiIndex([], names=['section', 'ix'])) found for note index (612, 1, 904) and duration 1/4. Returning the first one.\n",
      "  warnings.warn(f\"No matching tied note ({matching_notes.index}) found for note index \"\n",
      "/mnt/c/Users/apmcl/Documents/GitHub/harmonic-inference/corpus_utils.py:128: UserWarning: No matching tied note (MultiIndex([], names=['section', 'ix'])) found for note index (612, 1, 963) and duration 1/2. Returning the first one.\n",
      "  warnings.warn(f\"No matching tied note ({matching_notes.index}) found for note index \"\n",
      "/mnt/c/Users/apmcl/Documents/GitHub/harmonic-inference/corpus_utils.py:128: UserWarning: No matching tied note (MultiIndex([], names=['section', 'ix'])) found for note index (612, 2, 361) and duration 3/8. Returning the first one.\n",
      "  warnings.warn(f\"No matching tied note ({matching_notes.index}) found for note index \"\n",
      "/mnt/c/Users/apmcl/Documents/GitHub/harmonic-inference/corpus_utils.py:128: UserWarning: No matching tied note (MultiIndex([], names=['section', 'ix'])) found for note index (612, 2, 626) and duration 1/2. Returning the first one.\n",
      "  warnings.warn(f\"No matching tied note ({matching_notes.index}) found for note index \"\n",
      "/mnt/c/Users/apmcl/Documents/GitHub/harmonic-inference/corpus_utils.py:128: UserWarning: No matching tied note (MultiIndex([], names=['section', 'ix'])) found for note index (612, 2, 1046) and duration 1/4. Returning the first one.\n",
      "  warnings.warn(f\"No matching tied note ({matching_notes.index}) found for note index \"\n"
     ]
    },
    {
     "name": "stdout",
     "output_type": "stream",
     "text": [
      "Index 613 / 696\n"
     ]
    },
    {
     "name": "stderr",
     "output_type": "stream",
     "text": [
      "/mnt/c/Users/apmcl/Documents/GitHub/harmonic-inference/corpus_utils.py:128: UserWarning: No matching tied note (MultiIndex([], names=['section', 'ix'])) found for note index (613, 0, 25) and duration 3/4. Returning the first one.\n",
      "  warnings.warn(f\"No matching tied note ({matching_notes.index}) found for note index \"\n",
      "/mnt/c/Users/apmcl/Documents/GitHub/harmonic-inference/corpus_utils.py:128: UserWarning: No matching tied note (MultiIndex([], names=['section', 'ix'])) found for note index (613, 1, 88) and duration 3/8. Returning the first one.\n",
      "  warnings.warn(f\"No matching tied note ({matching_notes.index}) found for note index \"\n",
      "/mnt/c/Users/apmcl/Documents/GitHub/harmonic-inference/corpus_utils.py:128: UserWarning: No matching tied note (MultiIndex([], names=['section', 'ix'])) found for note index (613, 1, 219) and duration 1/8. Returning the first one.\n",
      "  warnings.warn(f\"No matching tied note ({matching_notes.index}) found for note index \"\n",
      "/mnt/c/Users/apmcl/Documents/GitHub/harmonic-inference/corpus_utils.py:128: UserWarning: No matching tied note (MultiIndex([], names=['section', 'ix'])) found for note index (613, 2, 717) and duration 1/4. Returning the first one.\n",
      "  warnings.warn(f\"No matching tied note ({matching_notes.index}) found for note index \"\n"
     ]
    },
    {
     "name": "stdout",
     "output_type": "stream",
     "text": [
      "Index 614 / 696\n"
     ]
    },
    {
     "name": "stderr",
     "output_type": "stream",
     "text": [
      "/mnt/c/Users/apmcl/Documents/GitHub/harmonic-inference/corpus_utils.py:128: UserWarning: No matching tied note (MultiIndex([], names=['section', 'ix'])) found for note index (614, 0, 15) and duration 1/4. Returning the first one.\n",
      "  warnings.warn(f\"No matching tied note ({matching_notes.index}) found for note index \"\n",
      "/mnt/c/Users/apmcl/Documents/GitHub/harmonic-inference/corpus_utils.py:128: UserWarning: No matching tied note (MultiIndex([], names=['section', 'ix'])) found for note index (614, 0, 16) and duration 1/4. Returning the first one.\n",
      "  warnings.warn(f\"No matching tied note ({matching_notes.index}) found for note index \"\n"
     ]
    },
    {
     "name": "stdout",
     "output_type": "stream",
     "text": [
      "Index 615 / 696\n"
     ]
    },
    {
     "name": "stderr",
     "output_type": "stream",
     "text": [
      "/mnt/c/Users/apmcl/Documents/GitHub/harmonic-inference/corpus_utils.py:128: UserWarning: No matching tied note (MultiIndex([], names=['section', 'ix'])) found for note index (615, 0, 661) and duration 1/16. Returning the first one.\n",
      "  warnings.warn(f\"No matching tied note ({matching_notes.index}) found for note index \"\n"
     ]
    },
    {
     "name": "stdout",
     "output_type": "stream",
     "text": [
      "Index 616 / 696\n",
      "Index 617 / 696\n"
     ]
    },
    {
     "name": "stderr",
     "output_type": "stream",
     "text": [
      "/mnt/c/Users/apmcl/Documents/GitHub/harmonic-inference/corpus_utils.py:128: UserWarning: No matching tied note (MultiIndex([], names=['section', 'ix'])) found for note index (617, 2, 634) and duration 1/8. Returning the first one.\n",
      "  warnings.warn(f\"No matching tied note ({matching_notes.index}) found for note index \"\n"
     ]
    },
    {
     "name": "stdout",
     "output_type": "stream",
     "text": [
      "Index 618 / 696\n"
     ]
    },
    {
     "name": "stderr",
     "output_type": "stream",
     "text": [
      "/mnt/c/Users/apmcl/Documents/GitHub/harmonic-inference/corpus_utils.py:128: UserWarning: No matching tied note (MultiIndex([], names=['section', 'ix'])) found for note index (618, 0, 587) and duration 1/8. Returning the first one.\n",
      "  warnings.warn(f\"No matching tied note ({matching_notes.index}) found for note index \"\n"
     ]
    },
    {
     "name": "stdout",
     "output_type": "stream",
     "text": [
      "Index 619 / 696\n"
     ]
    },
    {
     "name": "stderr",
     "output_type": "stream",
     "text": [
      "/mnt/c/Users/apmcl/Documents/GitHub/harmonic-inference/corpus_utils.py:128: UserWarning: No matching tied note (MultiIndex([], names=['section', 'ix'])) found for note index (619, 0, 1254) and duration 1/16. Returning the first one.\n",
      "  warnings.warn(f\"No matching tied note ({matching_notes.index}) found for note index \"\n",
      "/mnt/c/Users/apmcl/Documents/GitHub/harmonic-inference/corpus_utils.py:128: UserWarning: No matching tied note (MultiIndex([], names=['section', 'ix'])) found for note index (619, 0, 1256) and duration 1/16. Returning the first one.\n",
      "  warnings.warn(f\"No matching tied note ({matching_notes.index}) found for note index \"\n"
     ]
    },
    {
     "name": "stdout",
     "output_type": "stream",
     "text": [
      "Index 620 / 696\n",
      "Index 621 / 696\n",
      "Index 622 / 696\n",
      "Index 623 / 696\n",
      "Index 624 / 696\n"
     ]
    },
    {
     "name": "stderr",
     "output_type": "stream",
     "text": [
      "/mnt/c/Users/apmcl/Documents/GitHub/harmonic-inference/corpus_utils.py:128: UserWarning: No matching tied note (MultiIndex([], names=['section', 'ix'])) found for note index (624, 0, 5) and duration 1/8. Returning the first one.\n",
      "  warnings.warn(f\"No matching tied note ({matching_notes.index}) found for note index \"\n",
      "/mnt/c/Users/apmcl/Documents/GitHub/harmonic-inference/corpus_utils.py:128: UserWarning: No matching tied note (MultiIndex([], names=['section', 'ix'])) found for note index (624, 0, 45) and duration 1/8. Returning the first one.\n",
      "  warnings.warn(f\"No matching tied note ({matching_notes.index}) found for note index \"\n",
      "/mnt/c/Users/apmcl/Documents/GitHub/harmonic-inference/corpus_utils.py:128: UserWarning: No matching tied note (MultiIndex([], names=['section', 'ix'])) found for note index (624, 0, 89) and duration 1/8. Returning the first one.\n",
      "  warnings.warn(f\"No matching tied note ({matching_notes.index}) found for note index \"\n",
      "/mnt/c/Users/apmcl/Documents/GitHub/harmonic-inference/corpus_utils.py:128: UserWarning: No matching tied note (MultiIndex([], names=['section', 'ix'])) found for note index (624, 0, 123) and duration 1/8. Returning the first one.\n",
      "  warnings.warn(f\"No matching tied note ({matching_notes.index}) found for note index \"\n",
      "/mnt/c/Users/apmcl/Documents/GitHub/harmonic-inference/corpus_utils.py:128: UserWarning: No matching tied note (MultiIndex([], names=['section', 'ix'])) found for note index (624, 0, 125) and duration 1/8. Returning the first one.\n",
      "  warnings.warn(f\"No matching tied note ({matching_notes.index}) found for note index \"\n",
      "/mnt/c/Users/apmcl/Documents/GitHub/harmonic-inference/corpus_utils.py:128: UserWarning: No matching tied note (MultiIndex([], names=['section', 'ix'])) found for note index (624, 0, 192) and duration 1/8. Returning the first one.\n",
      "  warnings.warn(f\"No matching tied note ({matching_notes.index}) found for note index \"\n",
      "/mnt/c/Users/apmcl/Documents/GitHub/harmonic-inference/corpus_utils.py:128: UserWarning: No matching tied note (MultiIndex([], names=['section', 'ix'])) found for note index (624, 0, 249) and duration 1/8. Returning the first one.\n",
      "  warnings.warn(f\"No matching tied note ({matching_notes.index}) found for note index \"\n",
      "/mnt/c/Users/apmcl/Documents/GitHub/harmonic-inference/corpus_utils.py:128: UserWarning: No matching tied note (MultiIndex([], names=['section', 'ix'])) found for note index (624, 0, 317) and duration 1/8. Returning the first one.\n",
      "  warnings.warn(f\"No matching tied note ({matching_notes.index}) found for note index \"\n",
      "/mnt/c/Users/apmcl/Documents/GitHub/harmonic-inference/corpus_utils.py:128: UserWarning: No matching tied note (MultiIndex([], names=['section', 'ix'])) found for note index (624, 0, 339) and duration 1/8. Returning the first one.\n",
      "  warnings.warn(f\"No matching tied note ({matching_notes.index}) found for note index \"\n",
      "/mnt/c/Users/apmcl/Documents/GitHub/harmonic-inference/corpus_utils.py:128: UserWarning: No matching tied note (MultiIndex([], names=['section', 'ix'])) found for note index (624, 0, 374) and duration 1/8. Returning the first one.\n",
      "  warnings.warn(f\"No matching tied note ({matching_notes.index}) found for note index \"\n"
     ]
    },
    {
     "name": "stdout",
     "output_type": "stream",
     "text": [
      "Index 625 / 696\n",
      "Index 626 / 696\n"
     ]
    },
    {
     "name": "stderr",
     "output_type": "stream",
     "text": [
      "/mnt/c/Users/apmcl/Documents/GitHub/harmonic-inference/corpus_utils.py:128: UserWarning: No matching tied note (MultiIndex([], names=['section', 'ix'])) found for note index (626, 0, 1286) and duration 1/16. Returning the first one.\n",
      "  warnings.warn(f\"No matching tied note ({matching_notes.index}) found for note index \"\n"
     ]
    },
    {
     "name": "stdout",
     "output_type": "stream",
     "text": [
      "Index 627 / 696\n"
     ]
    },
    {
     "name": "stderr",
     "output_type": "stream",
     "text": [
      "/mnt/c/Users/apmcl/Documents/GitHub/harmonic-inference/corpus_utils.py:134: UserWarning: Multiple matching tied notes (MultiIndex([(0, 4),\n",
      "            (0, 5)],\n",
      "           names=['section', 'ix'])) found for note index (627, 0, 0) and duration 1/4. Returning the first one.\n",
      "  warnings.warn(f\"Multiple matching tied notes ({matching_notes.index}) found for note index \"\n",
      "/mnt/c/Users/apmcl/Documents/GitHub/harmonic-inference/corpus_utils.py:134: UserWarning: Multiple matching tied notes (MultiIndex([(0, 4),\n",
      "            (0, 5)],\n",
      "           names=['section', 'ix'])) found for note index (627, 0, 1) and duration 1/4. Returning the first one.\n",
      "  warnings.warn(f\"Multiple matching tied notes ({matching_notes.index}) found for note index \"\n",
      "/mnt/c/Users/apmcl/Documents/GitHub/harmonic-inference/corpus_utils.py:134: UserWarning: Multiple matching tied notes (MultiIndex([(0, 6),\n",
      "            (0, 7)],\n",
      "           names=['section', 'ix'])) found for note index (627, 0, 2) and duration 1/4. Returning the first one.\n",
      "  warnings.warn(f\"Multiple matching tied notes ({matching_notes.index}) found for note index \"\n",
      "/mnt/c/Users/apmcl/Documents/GitHub/harmonic-inference/corpus_utils.py:134: UserWarning: Multiple matching tied notes (MultiIndex([(0, 6),\n",
      "            (0, 7)],\n",
      "           names=['section', 'ix'])) found for note index (627, 0, 3) and duration 1/4. Returning the first one.\n",
      "  warnings.warn(f\"Multiple matching tied notes ({matching_notes.index}) found for note index \"\n",
      "/mnt/c/Users/apmcl/Documents/GitHub/harmonic-inference/corpus_utils.py:134: UserWarning: Multiple matching tied notes (MultiIndex([(0, 32),\n",
      "            (0, 33)],\n",
      "           names=['section', 'ix'])) found for note index (627, 0, 28) and duration 1/4. Returning the first one.\n",
      "  warnings.warn(f\"Multiple matching tied notes ({matching_notes.index}) found for note index \"\n",
      "/mnt/c/Users/apmcl/Documents/GitHub/harmonic-inference/corpus_utils.py:134: UserWarning: Multiple matching tied notes (MultiIndex([(0, 32),\n",
      "            (0, 33)],\n",
      "           names=['section', 'ix'])) found for note index (627, 0, 29) and duration 1/4. Returning the first one.\n",
      "  warnings.warn(f\"Multiple matching tied notes ({matching_notes.index}) found for note index \"\n",
      "/mnt/c/Users/apmcl/Documents/GitHub/harmonic-inference/corpus_utils.py:134: UserWarning: Multiple matching tied notes (MultiIndex([(0, 34),\n",
      "            (0, 35)],\n",
      "           names=['section', 'ix'])) found for note index (627, 0, 30) and duration 1/4. Returning the first one.\n",
      "  warnings.warn(f\"Multiple matching tied notes ({matching_notes.index}) found for note index \"\n",
      "/mnt/c/Users/apmcl/Documents/GitHub/harmonic-inference/corpus_utils.py:134: UserWarning: Multiple matching tied notes (MultiIndex([(0, 34),\n",
      "            (0, 35)],\n",
      "           names=['section', 'ix'])) found for note index (627, 0, 31) and duration 1/4. Returning the first one.\n",
      "  warnings.warn(f\"Multiple matching tied notes ({matching_notes.index}) found for note index \"\n",
      "/mnt/c/Users/apmcl/Documents/GitHub/harmonic-inference/corpus_utils.py:134: UserWarning: Multiple matching tied notes (MultiIndex([(0, 97),\n",
      "            (0, 98)],\n",
      "           names=['section', 'ix'])) found for note index (627, 0, 93) and duration 1/4. Returning the first one.\n",
      "  warnings.warn(f\"Multiple matching tied notes ({matching_notes.index}) found for note index \"\n",
      "/mnt/c/Users/apmcl/Documents/GitHub/harmonic-inference/corpus_utils.py:134: UserWarning: Multiple matching tied notes (MultiIndex([(0, 97),\n",
      "            (0, 98)],\n",
      "           names=['section', 'ix'])) found for note index (627, 0, 94) and duration 1/4. Returning the first one.\n",
      "  warnings.warn(f\"Multiple matching tied notes ({matching_notes.index}) found for note index \"\n",
      "/mnt/c/Users/apmcl/Documents/GitHub/harmonic-inference/corpus_utils.py:134: UserWarning: Multiple matching tied notes (MultiIndex([(0,  99),\n",
      "            (0, 100)],\n",
      "           names=['section', 'ix'])) found for note index (627, 0, 95) and duration 1/4. Returning the first one.\n",
      "  warnings.warn(f\"Multiple matching tied notes ({matching_notes.index}) found for note index \"\n",
      "/mnt/c/Users/apmcl/Documents/GitHub/harmonic-inference/corpus_utils.py:134: UserWarning: Multiple matching tied notes (MultiIndex([(0,  99),\n",
      "            (0, 100)],\n",
      "           names=['section', 'ix'])) found for note index (627, 0, 96) and duration 1/4. Returning the first one.\n",
      "  warnings.warn(f\"Multiple matching tied notes ({matching_notes.index}) found for note index \"\n",
      "/mnt/c/Users/apmcl/Documents/GitHub/harmonic-inference/corpus_utils.py:134: UserWarning: Multiple matching tied notes (MultiIndex([(0, 125),\n",
      "            (0, 126)],\n",
      "           names=['section', 'ix'])) found for note index (627, 0, 121) and duration 1/4. Returning the first one.\n",
      "  warnings.warn(f\"Multiple matching tied notes ({matching_notes.index}) found for note index \"\n",
      "/mnt/c/Users/apmcl/Documents/GitHub/harmonic-inference/corpus_utils.py:134: UserWarning: Multiple matching tied notes (MultiIndex([(0, 125),\n",
      "            (0, 126)],\n",
      "           names=['section', 'ix'])) found for note index (627, 0, 122) and duration 1/4. Returning the first one.\n",
      "  warnings.warn(f\"Multiple matching tied notes ({matching_notes.index}) found for note index \"\n",
      "/mnt/c/Users/apmcl/Documents/GitHub/harmonic-inference/corpus_utils.py:134: UserWarning: Multiple matching tied notes (MultiIndex([(0, 127),\n",
      "            (0, 128)],\n",
      "           names=['section', 'ix'])) found for note index (627, 0, 123) and duration 1/4. Returning the first one.\n",
      "  warnings.warn(f\"Multiple matching tied notes ({matching_notes.index}) found for note index \"\n",
      "/mnt/c/Users/apmcl/Documents/GitHub/harmonic-inference/corpus_utils.py:134: UserWarning: Multiple matching tied notes (MultiIndex([(0, 127),\n",
      "            (0, 128)],\n",
      "           names=['section', 'ix'])) found for note index (627, 0, 124) and duration 1/4. Returning the first one.\n",
      "  warnings.warn(f\"Multiple matching tied notes ({matching_notes.index}) found for note index \"\n",
      "/mnt/c/Users/apmcl/Documents/GitHub/harmonic-inference/corpus_utils.py:128: UserWarning: No matching tied note (MultiIndex([], names=['section', 'ix'])) found for note index (627, 0, 701) and duration 1/8. Returning the first one.\n",
      "  warnings.warn(f\"No matching tied note ({matching_notes.index}) found for note index \"\n",
      "/mnt/c/Users/apmcl/Documents/GitHub/harmonic-inference/corpus_utils.py:134: UserWarning: Multiple matching tied notes (MultiIndex([(1, 100),\n",
      "            (1, 101)],\n",
      "           names=['section', 'ix'])) found for note index (627, 1, 87) and duration 3/4. Returning the first one.\n",
      "  warnings.warn(f\"Multiple matching tied notes ({matching_notes.index}) found for note index \"\n",
      "/mnt/c/Users/apmcl/Documents/GitHub/harmonic-inference/corpus_utils.py:134: UserWarning: Multiple matching tied notes (MultiIndex([(1, 100),\n",
      "            (1, 101)],\n",
      "           names=['section', 'ix'])) found for note index (627, 1, 88) and duration 3/4. Returning the first one.\n",
      "  warnings.warn(f\"Multiple matching tied notes ({matching_notes.index}) found for note index \"\n",
      "/mnt/c/Users/apmcl/Documents/GitHub/harmonic-inference/corpus_utils.py:128: UserWarning: No matching tied note (MultiIndex([], names=['section', 'ix'])) found for note index (627, 1, 374) and duration 1/4. Returning the first one.\n",
      "  warnings.warn(f\"No matching tied note ({matching_notes.index}) found for note index \"\n",
      "/mnt/c/Users/apmcl/Documents/GitHub/harmonic-inference/corpus_utils.py:128: UserWarning: No matching tied note (MultiIndex([], names=['section', 'ix'])) found for note index (627, 1, 723) and duration 1/2. Returning the first one.\n",
      "  warnings.warn(f\"No matching tied note ({matching_notes.index}) found for note index \"\n",
      "/mnt/c/Users/apmcl/Documents/GitHub/harmonic-inference/corpus_utils.py:128: UserWarning: No matching tied note (MultiIndex([], names=['section', 'ix'])) found for note index (627, 1, 724) and duration 1/2. Returning the first one.\n",
      "  warnings.warn(f\"No matching tied note ({matching_notes.index}) found for note index \"\n",
      "/mnt/c/Users/apmcl/Documents/GitHub/harmonic-inference/corpus_utils.py:128: UserWarning: No matching tied note (MultiIndex([], names=['section', 'ix'])) found for note index (627, 1, 725) and duration 1/2. Returning the first one.\n",
      "  warnings.warn(f\"No matching tied note ({matching_notes.index}) found for note index \"\n"
     ]
    },
    {
     "name": "stderr",
     "output_type": "stream",
     "text": [
      "/mnt/c/Users/apmcl/Documents/GitHub/harmonic-inference/corpus_utils.py:128: UserWarning: No matching tied note (MultiIndex([], names=['section', 'ix'])) found for note index (627, 1, 1235) and duration 3/8. Returning the first one.\n",
      "  warnings.warn(f\"No matching tied note ({matching_notes.index}) found for note index \"\n",
      "/mnt/c/Users/apmcl/Documents/GitHub/harmonic-inference/corpus_utils.py:134: UserWarning: Multiple matching tied notes (MultiIndex([(1, 2276),\n",
      "            (1, 2277)],\n",
      "           names=['section', 'ix'])) found for note index (627, 1, 2272) and duration 3/4. Returning the first one.\n",
      "  warnings.warn(f\"Multiple matching tied notes ({matching_notes.index}) found for note index \"\n",
      "/mnt/c/Users/apmcl/Documents/GitHub/harmonic-inference/corpus_utils.py:134: UserWarning: Multiple matching tied notes (MultiIndex([(1, 2276),\n",
      "            (1, 2277)],\n",
      "           names=['section', 'ix'])) found for note index (627, 1, 2273) and duration 3/4. Returning the first one.\n",
      "  warnings.warn(f\"Multiple matching tied notes ({matching_notes.index}) found for note index \"\n",
      "/mnt/c/Users/apmcl/Documents/GitHub/harmonic-inference/corpus_utils.py:134: UserWarning: Multiple matching tied notes (MultiIndex([(1, 2308),\n",
      "            (1, 2309)],\n",
      "           names=['section', 'ix'])) found for note index (627, 1, 2304) and duration 3/4. Returning the first one.\n",
      "  warnings.warn(f\"Multiple matching tied notes ({matching_notes.index}) found for note index \"\n",
      "/mnt/c/Users/apmcl/Documents/GitHub/harmonic-inference/corpus_utils.py:134: UserWarning: Multiple matching tied notes (MultiIndex([(1, 2308),\n",
      "            (1, 2309)],\n",
      "           names=['section', 'ix'])) found for note index (627, 1, 2305) and duration 3/4. Returning the first one.\n",
      "  warnings.warn(f\"Multiple matching tied notes ({matching_notes.index}) found for note index \"\n"
     ]
    },
    {
     "name": "stdout",
     "output_type": "stream",
     "text": [
      "Index 628 / 696\n"
     ]
    },
    {
     "name": "stderr",
     "output_type": "stream",
     "text": [
      "/mnt/c/Users/apmcl/Documents/GitHub/harmonic-inference/corpus_utils.py:128: UserWarning: No matching tied note (MultiIndex([], names=['section', 'ix'])) found for note index (628, 0, 788) and duration 7/16. Returning the first one.\n",
      "  warnings.warn(f\"No matching tied note ({matching_notes.index}) found for note index \"\n",
      "/mnt/c/Users/apmcl/Documents/GitHub/harmonic-inference/corpus_utils.py:128: UserWarning: No matching tied note (MultiIndex([], names=['section', 'ix'])) found for note index (628, 0, 906) and duration 3/8. Returning the first one.\n",
      "  warnings.warn(f\"No matching tied note ({matching_notes.index}) found for note index \"\n"
     ]
    },
    {
     "name": "stdout",
     "output_type": "stream",
     "text": [
      "Index 629 / 696\n"
     ]
    },
    {
     "name": "stderr",
     "output_type": "stream",
     "text": [
      "/mnt/c/Users/apmcl/Documents/GitHub/harmonic-inference/corpus_utils.py:128: UserWarning: No matching tied note (MultiIndex([], names=['section', 'ix'])) found for note index (629, 0, 160) and duration 1/2. Returning the first one.\n",
      "  warnings.warn(f\"No matching tied note ({matching_notes.index}) found for note index \"\n",
      "/mnt/c/Users/apmcl/Documents/GitHub/harmonic-inference/corpus_utils.py:128: UserWarning: No matching tied note (MultiIndex([], names=['section', 'ix'])) found for note index (629, 0, 315) and duration 1/2. Returning the first one.\n",
      "  warnings.warn(f\"No matching tied note ({matching_notes.index}) found for note index \"\n"
     ]
    },
    {
     "name": "stdout",
     "output_type": "stream",
     "text": [
      "Index 630 / 696\n"
     ]
    },
    {
     "name": "stderr",
     "output_type": "stream",
     "text": [
      "/mnt/c/Users/apmcl/Documents/GitHub/harmonic-inference/corpus_utils.py:134: UserWarning: Multiple matching tied notes (MultiIndex([(0, 401),\n",
      "            (0, 402)],\n",
      "           names=['section', 'ix'])) found for note index (630, 0, 397) and duration 1/4. Returning the first one.\n",
      "  warnings.warn(f\"Multiple matching tied notes ({matching_notes.index}) found for note index \"\n",
      "/mnt/c/Users/apmcl/Documents/GitHub/harmonic-inference/corpus_utils.py:134: UserWarning: Multiple matching tied notes (MultiIndex([(0, 401),\n",
      "            (0, 402)],\n",
      "           names=['section', 'ix'])) found for note index (630, 0, 398) and duration 1/4. Returning the first one.\n",
      "  warnings.warn(f\"Multiple matching tied notes ({matching_notes.index}) found for note index \"\n",
      "/mnt/c/Users/apmcl/Documents/GitHub/harmonic-inference/corpus_utils.py:128: UserWarning: No matching tied note (MultiIndex([], names=['section', 'ix'])) found for note index (630, 0, 657) and duration 1/8. Returning the first one.\n",
      "  warnings.warn(f\"No matching tied note ({matching_notes.index}) found for note index \"\n",
      "/mnt/c/Users/apmcl/Documents/GitHub/harmonic-inference/corpus_utils.py:128: UserWarning: No matching tied note (MultiIndex([], names=['section', 'ix'])) found for note index (630, 0, 676) and duration 1/2. Returning the first one.\n",
      "  warnings.warn(f\"No matching tied note ({matching_notes.index}) found for note index \"\n",
      "/mnt/c/Users/apmcl/Documents/GitHub/harmonic-inference/corpus_utils.py:128: UserWarning: No matching tied note (MultiIndex([], names=['section', 'ix'])) found for note index (630, 0, 2023) and duration 1/4. Returning the first one.\n",
      "  warnings.warn(f\"No matching tied note ({matching_notes.index}) found for note index \"\n",
      "/mnt/c/Users/apmcl/Documents/GitHub/harmonic-inference/corpus_utils.py:128: UserWarning: No matching tied note (MultiIndex([], names=['section', 'ix'])) found for note index (630, 0, 3164) and duration 1/4. Returning the first one.\n",
      "  warnings.warn(f\"No matching tied note ({matching_notes.index}) found for note index \"\n",
      "/mnt/c/Users/apmcl/Documents/GitHub/harmonic-inference/corpus_utils.py:128: UserWarning: No matching tied note (MultiIndex([], names=['section', 'ix'])) found for note index (630, 0, 3165) and duration 1/4. Returning the first one.\n",
      "  warnings.warn(f\"No matching tied note ({matching_notes.index}) found for note index \"\n",
      "/mnt/c/Users/apmcl/Documents/GitHub/harmonic-inference/corpus_utils.py:128: UserWarning: No matching tied note (MultiIndex([], names=['section', 'ix'])) found for note index (630, 0, 3638) and duration 1/8. Returning the first one.\n",
      "  warnings.warn(f\"No matching tied note ({matching_notes.index}) found for note index \"\n",
      "/mnt/c/Users/apmcl/Documents/GitHub/harmonic-inference/corpus_utils.py:134: UserWarning: Multiple matching tied notes (MultiIndex([(0, 3742),\n",
      "            (0, 3743)],\n",
      "           names=['section', 'ix'])) found for note index (630, 0, 3738) and duration 1/4. Returning the first one.\n",
      "  warnings.warn(f\"Multiple matching tied notes ({matching_notes.index}) found for note index \"\n",
      "/mnt/c/Users/apmcl/Documents/GitHub/harmonic-inference/corpus_utils.py:134: UserWarning: Multiple matching tied notes (MultiIndex([(0, 3742),\n",
      "            (0, 3743)],\n",
      "           names=['section', 'ix'])) found for note index (630, 0, 3739) and duration 1/4. Returning the first one.\n",
      "  warnings.warn(f\"Multiple matching tied notes ({matching_notes.index}) found for note index \"\n",
      "/mnt/c/Users/apmcl/Documents/GitHub/harmonic-inference/corpus_utils.py:134: UserWarning: Multiple matching tied notes (MultiIndex([(0, 3744),\n",
      "            (0, 3745)],\n",
      "           names=['section', 'ix'])) found for note index (630, 0, 3740) and duration 1/4. Returning the first one.\n",
      "  warnings.warn(f\"Multiple matching tied notes ({matching_notes.index}) found for note index \"\n",
      "/mnt/c/Users/apmcl/Documents/GitHub/harmonic-inference/corpus_utils.py:134: UserWarning: Multiple matching tied notes (MultiIndex([(0, 3744),\n",
      "            (0, 3745)],\n",
      "           names=['section', 'ix'])) found for note index (630, 0, 3741) and duration 1/4. Returning the first one.\n",
      "  warnings.warn(f\"Multiple matching tied notes ({matching_notes.index}) found for note index \"\n",
      "/mnt/c/Users/apmcl/Documents/GitHub/harmonic-inference/corpus_utils.py:128: UserWarning: No matching tied note (MultiIndex([], names=['section', 'ix'])) found for note index (630, 0, 4044) and duration 1/2. Returning the first one.\n",
      "  warnings.warn(f\"No matching tied note ({matching_notes.index}) found for note index \"\n",
      "/mnt/c/Users/apmcl/Documents/GitHub/harmonic-inference/corpus_utils.py:128: UserWarning: No matching tied note (MultiIndex([], names=['section', 'ix'])) found for note index (630, 0, 5080) and duration 1/4. Returning the first one.\n",
      "  warnings.warn(f\"No matching tied note ({matching_notes.index}) found for note index \"\n",
      "/mnt/c/Users/apmcl/Documents/GitHub/harmonic-inference/corpus_utils.py:128: UserWarning: No matching tied note (MultiIndex([], names=['section', 'ix'])) found for note index (630, 0, 5081) and duration 1/4. Returning the first one.\n",
      "  warnings.warn(f\"No matching tied note ({matching_notes.index}) found for note index \"\n",
      "/mnt/c/Users/apmcl/Documents/GitHub/harmonic-inference/corpus_utils.py:128: UserWarning: No matching tied note (MultiIndex([], names=['section', 'ix'])) found for note index (630, 0, 5254) and duration 1/8. Returning the first one.\n",
      "  warnings.warn(f\"No matching tied note ({matching_notes.index}) found for note index \"\n"
     ]
    },
    {
     "name": "stdout",
     "output_type": "stream",
     "text": [
      "Index 631 / 696\n",
      "Index 632 / 696\n"
     ]
    },
    {
     "name": "stderr",
     "output_type": "stream",
     "text": [
      "/mnt/c/Users/apmcl/Documents/GitHub/harmonic-inference/corpus_utils.py:134: UserWarning: Multiple matching tied notes (MultiIndex([(3, 187),\n",
      "            (3, 188)],\n",
      "           names=['section', 'ix'])) found for note index (632, 3, 181) and duration 1/4. Returning the first one.\n",
      "  warnings.warn(f\"Multiple matching tied notes ({matching_notes.index}) found for note index \"\n",
      "/mnt/c/Users/apmcl/Documents/GitHub/harmonic-inference/corpus_utils.py:134: UserWarning: Multiple matching tied notes (MultiIndex([(3, 187),\n",
      "            (3, 188)],\n",
      "           names=['section', 'ix'])) found for note index (632, 3, 182) and duration 1/4. Returning the first one.\n",
      "  warnings.warn(f\"Multiple matching tied notes ({matching_notes.index}) found for note index \"\n",
      "/mnt/c/Users/apmcl/Documents/GitHub/harmonic-inference/corpus_utils.py:134: UserWarning: Multiple matching tied notes (MultiIndex([(5, 72),\n",
      "            (5, 73)],\n",
      "           names=['section', 'ix'])) found for note index (632, 5, 68) and duration 1/4. Returning the first one.\n",
      "  warnings.warn(f\"Multiple matching tied notes ({matching_notes.index}) found for note index \"\n",
      "/mnt/c/Users/apmcl/Documents/GitHub/harmonic-inference/corpus_utils.py:134: UserWarning: Multiple matching tied notes (MultiIndex([(5, 72),\n",
      "            (5, 73)],\n",
      "           names=['section', 'ix'])) found for note index (632, 5, 69) and duration 1/8. Returning the first one.\n",
      "  warnings.warn(f\"Multiple matching tied notes ({matching_notes.index}) found for note index \"\n",
      "/mnt/c/Users/apmcl/Documents/GitHub/harmonic-inference/corpus_utils.py:128: UserWarning: No matching tied note (MultiIndex([], names=['section', 'ix'])) found for note index (632, 5, 211) and duration 1/32. Returning the first one.\n",
      "  warnings.warn(f\"No matching tied note ({matching_notes.index}) found for note index \"\n"
     ]
    },
    {
     "name": "stdout",
     "output_type": "stream",
     "text": [
      "Index 633 / 696\n",
      "Index 634 / 696\n",
      "Index 635 / 696\n"
     ]
    },
    {
     "name": "stderr",
     "output_type": "stream",
     "text": [
      "/mnt/c/Users/apmcl/Documents/GitHub/harmonic-inference/corpus_utils.py:128: UserWarning: No matching tied note (MultiIndex([], names=['section', 'ix'])) found for note index (635, 1, 1988) and duration 5/2. Returning the first one.\n",
      "  warnings.warn(f\"No matching tied note ({matching_notes.index}) found for note index \"\n",
      "/mnt/c/Users/apmcl/Documents/GitHub/harmonic-inference/corpus_utils.py:134: UserWarning: Multiple matching tied notes (MultiIndex([(1, 2456),\n",
      "            (1, 2457)],\n",
      "           names=['section', 'ix'])) found for note index (635, 1, 2452) and duration 1/4. Returning the first one.\n",
      "  warnings.warn(f\"Multiple matching tied notes ({matching_notes.index}) found for note index \"\n",
      "/mnt/c/Users/apmcl/Documents/GitHub/harmonic-inference/corpus_utils.py:134: UserWarning: Multiple matching tied notes (MultiIndex([(1, 2456),\n",
      "            (1, 2457)],\n",
      "           names=['section', 'ix'])) found for note index (635, 1, 2453) and duration 1/4. Returning the first one.\n",
      "  warnings.warn(f\"Multiple matching tied notes ({matching_notes.index}) found for note index \"\n",
      "/mnt/c/Users/apmcl/Documents/GitHub/harmonic-inference/corpus_utils.py:134: UserWarning: Multiple matching tied notes (MultiIndex([(1, 2464),\n",
      "            (1, 2465)],\n",
      "           names=['section', 'ix'])) found for note index (635, 1, 2460) and duration 1/4. Returning the first one.\n",
      "  warnings.warn(f\"Multiple matching tied notes ({matching_notes.index}) found for note index \"\n",
      "/mnt/c/Users/apmcl/Documents/GitHub/harmonic-inference/corpus_utils.py:134: UserWarning: Multiple matching tied notes (MultiIndex([(1, 2464),\n",
      "            (1, 2465)],\n",
      "           names=['section', 'ix'])) found for note index (635, 1, 2461) and duration 1/4. Returning the first one.\n",
      "  warnings.warn(f\"Multiple matching tied notes ({matching_notes.index}) found for note index \"\n"
     ]
    },
    {
     "name": "stdout",
     "output_type": "stream",
     "text": [
      "Index 636 / 696\n",
      "Index 637 / 696\n",
      "Index 638 / 696\n",
      "Index 639 / 696\n",
      "Index 640 / 696\n",
      "Index 641 / 696\n",
      "Index 642 / 696\n"
     ]
    },
    {
     "name": "stderr",
     "output_type": "stream",
     "text": [
      "/mnt/c/Users/apmcl/Documents/GitHub/harmonic-inference/corpus_utils.py:128: UserWarning: No matching tied note (MultiIndex([], names=['section', 'ix'])) found for note index (642, 3, 137) and duration 1/4. Returning the first one.\n",
      "  warnings.warn(f\"No matching tied note ({matching_notes.index}) found for note index \"\n"
     ]
    },
    {
     "name": "stdout",
     "output_type": "stream",
     "text": [
      "Index 643 / 696\n",
      "Index 644 / 696\n",
      "Index 645 / 696\n"
     ]
    },
    {
     "name": "stderr",
     "output_type": "stream",
     "text": [
      "/mnt/c/Users/apmcl/Documents/GitHub/harmonic-inference/corpus_utils.py:128: UserWarning: No matching tied note (MultiIndex([], names=['section', 'ix'])) found for note index (645, 8, 249) and duration 1/8. Returning the first one.\n",
      "  warnings.warn(f\"No matching tied note ({matching_notes.index}) found for note index \"\n",
      "/mnt/c/Users/apmcl/Documents/GitHub/harmonic-inference/corpus_utils.py:128: UserWarning: No matching tied note (MultiIndex([], names=['section', 'ix'])) found for note index (645, 8, 251) and duration 1/8. Returning the first one.\n",
      "  warnings.warn(f\"No matching tied note ({matching_notes.index}) found for note index \"\n",
      "/mnt/c/Users/apmcl/Documents/GitHub/harmonic-inference/corpus_utils.py:128: UserWarning: No matching tied note (MultiIndex([], names=['section', 'ix'])) found for note index (645, 12, 175) and duration 1/2. Returning the first one.\n",
      "  warnings.warn(f\"No matching tied note ({matching_notes.index}) found for note index \"\n"
     ]
    },
    {
     "name": "stdout",
     "output_type": "stream",
     "text": [
      "Index 646 / 696\n",
      "Index 647 / 696\n",
      "Index 648 / 696\n",
      "Index 649 / 696\n",
      "Index 650 / 696\n",
      "Index 651 / 696\n"
     ]
    },
    {
     "name": "stderr",
     "output_type": "stream",
     "text": [
      "/mnt/c/Users/apmcl/Documents/GitHub/harmonic-inference/corpus_utils.py:128: UserWarning: No matching tied note (MultiIndex([], names=['section', 'ix'])) found for note index (651, 0, 1065) and duration 1/4. Returning the first one.\n",
      "  warnings.warn(f\"No matching tied note ({matching_notes.index}) found for note index \"\n",
      "/mnt/c/Users/apmcl/Documents/GitHub/harmonic-inference/corpus_utils.py:134: UserWarning: Multiple matching tied notes (MultiIndex([(0, 3338),\n",
      "            (0, 3339)],\n",
      "           names=['section', 'ix'])) found for note index (651, 0, 3324) and duration 3/2. Returning the first one.\n",
      "  warnings.warn(f\"Multiple matching tied notes ({matching_notes.index}) found for note index \"\n",
      "/mnt/c/Users/apmcl/Documents/GitHub/harmonic-inference/corpus_utils.py:134: UserWarning: Multiple matching tied notes (MultiIndex([(0, 3338),\n",
      "            (0, 3339)],\n",
      "           names=['section', 'ix'])) found for note index (651, 0, 3334) and duration 1/4. Returning the first one.\n",
      "  warnings.warn(f\"Multiple matching tied notes ({matching_notes.index}) found for note index \"\n",
      "/mnt/c/Users/apmcl/Documents/GitHub/harmonic-inference/corpus_utils.py:134: UserWarning: Multiple matching tied notes (MultiIndex([(0, 3362),\n",
      "            (0, 3363),\n",
      "            (0, 3364)],\n",
      "           names=['section', 'ix'])) found for note index (651, 0, 3358) and duration 1/4. Returning the first one.\n",
      "  warnings.warn(f\"Multiple matching tied notes ({matching_notes.index}) found for note index \"\n",
      "/mnt/c/Users/apmcl/Documents/GitHub/harmonic-inference/corpus_utils.py:134: UserWarning: Multiple matching tied notes (MultiIndex([(0, 3362),\n",
      "            (0, 3363),\n",
      "            (0, 3364)],\n",
      "           names=['section', 'ix'])) found for note index (651, 0, 3359) and duration 1/4. Returning the first one.\n",
      "  warnings.warn(f\"Multiple matching tied notes ({matching_notes.index}) found for note index \"\n",
      "/mnt/c/Users/apmcl/Documents/GitHub/harmonic-inference/corpus_utils.py:134: UserWarning: Multiple matching tied notes (MultiIndex([(0, 3362),\n",
      "            (0, 3363),\n",
      "            (0, 3364)],\n",
      "           names=['section', 'ix'])) found for note index (651, 0, 3360) and duration 1/4. Returning the first one.\n",
      "  warnings.warn(f\"Multiple matching tied notes ({matching_notes.index}) found for note index \"\n"
     ]
    },
    {
     "name": "stdout",
     "output_type": "stream",
     "text": [
      "Index 652 / 696\n"
     ]
    },
    {
     "name": "stderr",
     "output_type": "stream",
     "text": [
      "/mnt/c/Users/apmcl/Documents/GitHub/harmonic-inference/corpus_utils.py:134: UserWarning: Multiple matching tied notes (MultiIndex([(0, 2528),\n",
      "            (0, 2529)],\n",
      "           names=['section', 'ix'])) found for note index (652, 0, 2510) and duration 3/8. Returning the first one.\n",
      "  warnings.warn(f\"Multiple matching tied notes ({matching_notes.index}) found for note index \"\n",
      "/mnt/c/Users/apmcl/Documents/GitHub/harmonic-inference/corpus_utils.py:134: UserWarning: Multiple matching tied notes (MultiIndex([(0, 2546),\n",
      "            (0, 2547)],\n",
      "           names=['section', 'ix'])) found for note index (652, 0, 2510) and duration 3/4. Returning the first one.\n",
      "  warnings.warn(f\"Multiple matching tied notes ({matching_notes.index}) found for note index \"\n",
      "/mnt/c/Users/apmcl/Documents/GitHub/harmonic-inference/corpus_utils.py:134: UserWarning: Multiple matching tied notes (MultiIndex([(0, 2528),\n",
      "            (0, 2529)],\n",
      "           names=['section', 'ix'])) found for note index (652, 0, 2511) and duration 3/8. Returning the first one.\n",
      "  warnings.warn(f\"Multiple matching tied notes ({matching_notes.index}) found for note index \"\n",
      "/mnt/c/Users/apmcl/Documents/GitHub/harmonic-inference/corpus_utils.py:134: UserWarning: Multiple matching tied notes (MultiIndex([(0, 2546),\n",
      "            (0, 2547)],\n",
      "           names=['section', 'ix'])) found for note index (652, 0, 2511) and duration 3/4. Returning the first one.\n",
      "  warnings.warn(f\"Multiple matching tied notes ({matching_notes.index}) found for note index \"\n"
     ]
    },
    {
     "name": "stdout",
     "output_type": "stream",
     "text": [
      "Index 653 / 696\n"
     ]
    },
    {
     "name": "stderr",
     "output_type": "stream",
     "text": [
      "/mnt/c/Users/apmcl/Documents/GitHub/harmonic-inference/corpus_utils.py:128: UserWarning: No matching tied note (MultiIndex([], names=['section', 'ix'])) found for note index (653, 0, 1432) and duration 1/32. Returning the first one.\n",
      "  warnings.warn(f\"No matching tied note ({matching_notes.index}) found for note index \"\n"
     ]
    },
    {
     "name": "stdout",
     "output_type": "stream",
     "text": [
      "Index 654 / 696\n",
      "Index 655 / 696\n"
     ]
    },
    {
     "name": "stderr",
     "output_type": "stream",
     "text": [
      "/mnt/c/Users/apmcl/Documents/GitHub/harmonic-inference/corpus_utils.py:128: UserWarning: No matching tied note (MultiIndex([], names=['section', 'ix'])) found for note index (655, 3, 71) and duration 27/8. Returning the first one.\n",
      "  warnings.warn(f\"No matching tied note ({matching_notes.index}) found for note index \"\n",
      "/mnt/c/Users/apmcl/Documents/GitHub/harmonic-inference/corpus_utils.py:128: UserWarning: No matching tied note (MultiIndex([], names=['section', 'ix'])) found for note index (655, 3, 130) and duration 3/8. Returning the first one.\n",
      "  warnings.warn(f\"No matching tied note ({matching_notes.index}) found for note index \"\n",
      "/mnt/c/Users/apmcl/Documents/GitHub/harmonic-inference/corpus_utils.py:128: UserWarning: No matching tied note (MultiIndex([], names=['section', 'ix'])) found for note index (655, 3, 159) and duration 1/8. Returning the first one.\n",
      "  warnings.warn(f\"No matching tied note ({matching_notes.index}) found for note index \"\n",
      "/mnt/c/Users/apmcl/Documents/GitHub/harmonic-inference/corpus_utils.py:128: UserWarning: No matching tied note (MultiIndex([], names=['section', 'ix'])) found for note index (655, 4, 312) and duration 3/2. Returning the first one.\n",
      "  warnings.warn(f\"No matching tied note ({matching_notes.index}) found for note index \"\n",
      "/mnt/c/Users/apmcl/Documents/GitHub/harmonic-inference/corpus_utils.py:134: UserWarning: Multiple matching tied notes (MultiIndex([(4, 634),\n",
      "            (4, 635),\n",
      "            (4, 636)],\n",
      "           names=['section', 'ix'])) found for note index (655, 4, 629) and duration 3/8. Returning the first one.\n",
      "  warnings.warn(f\"Multiple matching tied notes ({matching_notes.index}) found for note index \"\n",
      "/mnt/c/Users/apmcl/Documents/GitHub/harmonic-inference/corpus_utils.py:134: UserWarning: Multiple matching tied notes (MultiIndex([(4, 634),\n",
      "            (4, 635),\n",
      "            (4, 636)],\n",
      "           names=['section', 'ix'])) found for note index (655, 4, 630) and duration 3/8. Returning the first one.\n",
      "  warnings.warn(f\"Multiple matching tied notes ({matching_notes.index}) found for note index \"\n",
      "/mnt/c/Users/apmcl/Documents/GitHub/harmonic-inference/corpus_utils.py:134: UserWarning: Multiple matching tied notes (MultiIndex([(4, 634),\n",
      "            (4, 635),\n",
      "            (4, 636)],\n",
      "           names=['section', 'ix'])) found for note index (655, 4, 631) and duration 3/8. Returning the first one.\n",
      "  warnings.warn(f\"Multiple matching tied notes ({matching_notes.index}) found for note index \"\n"
     ]
    },
    {
     "name": "stdout",
     "output_type": "stream",
     "text": [
      "Index 656 / 696\n",
      "Index 657 / 696\n"
     ]
    },
    {
     "name": "stderr",
     "output_type": "stream",
     "text": [
      "/mnt/c/Users/apmcl/Documents/GitHub/harmonic-inference/corpus_utils.py:128: UserWarning: No matching tied note (MultiIndex([], names=['section', 'ix'])) found for note index (657, 1, 54) and duration 1/8. Returning the first one.\n",
      "  warnings.warn(f\"No matching tied note ({matching_notes.index}) found for note index \"\n",
      "/mnt/c/Users/apmcl/Documents/GitHub/harmonic-inference/corpus_utils.py:134: UserWarning: Multiple matching tied notes (MultiIndex([(3, 478),\n",
      "            (3, 479)],\n",
      "           names=['section', 'ix'])) found for note index (657, 3, 476) and duration 1/4. Returning the first one.\n",
      "  warnings.warn(f\"Multiple matching tied notes ({matching_notes.index}) found for note index \"\n",
      "/mnt/c/Users/apmcl/Documents/GitHub/harmonic-inference/corpus_utils.py:134: UserWarning: Multiple matching tied notes (MultiIndex([(3, 478),\n",
      "            (3, 479)],\n",
      "           names=['section', 'ix'])) found for note index (657, 3, 477) and duration 1/8. Returning the first one.\n",
      "  warnings.warn(f\"Multiple matching tied notes ({matching_notes.index}) found for note index \"\n"
     ]
    },
    {
     "name": "stdout",
     "output_type": "stream",
     "text": [
      "Index 658 / 696\n",
      "Index 659 / 696\n"
     ]
    },
    {
     "name": "stderr",
     "output_type": "stream",
     "text": [
      "/mnt/c/Users/apmcl/Documents/GitHub/harmonic-inference/corpus_utils.py:128: UserWarning: No matching tied note (MultiIndex([], names=['section', 'ix'])) found for note index (659, 3, 889) and duration 1. Returning the first one.\n",
      "  warnings.warn(f\"No matching tied note ({matching_notes.index}) found for note index \"\n",
      "/mnt/c/Users/apmcl/Documents/GitHub/harmonic-inference/corpus_utils.py:134: UserWarning: Multiple matching tied notes (MultiIndex([(3, 2337),\n",
      "            (3, 2338)],\n",
      "           names=['section', 'ix'])) found for note index (659, 3, 2295) and duration 2. Returning the first one.\n",
      "  warnings.warn(f\"Multiple matching tied notes ({matching_notes.index}) found for note index \"\n",
      "/mnt/c/Users/apmcl/Documents/GitHub/harmonic-inference/corpus_utils.py:134: UserWarning: Multiple matching tied notes (MultiIndex([(3, 2337),\n",
      "            (3, 2338)],\n",
      "           names=['section', 'ix'])) found for note index (659, 3, 2331) and duration 1/4. Returning the first one.\n",
      "  warnings.warn(f\"Multiple matching tied notes ({matching_notes.index}) found for note index \"\n"
     ]
    },
    {
     "name": "stdout",
     "output_type": "stream",
     "text": [
      "Index 660 / 696\n"
     ]
    },
    {
     "name": "stderr",
     "output_type": "stream",
     "text": [
      "/mnt/c/Users/apmcl/Documents/GitHub/harmonic-inference/corpus_utils.py:134: UserWarning: Multiple matching tied notes (MultiIndex([(3, 794),\n",
      "            (3, 795)],\n",
      "           names=['section', 'ix'])) found for note index (660, 3, 790) and duration 1/8. Returning the first one.\n",
      "  warnings.warn(f\"Multiple matching tied notes ({matching_notes.index}) found for note index \"\n",
      "/mnt/c/Users/apmcl/Documents/GitHub/harmonic-inference/corpus_utils.py:134: UserWarning: Multiple matching tied notes (MultiIndex([(3, 794),\n",
      "            (3, 795)],\n",
      "           names=['section', 'ix'])) found for note index (660, 3, 791) and duration 1/8. Returning the first one.\n",
      "  warnings.warn(f\"Multiple matching tied notes ({matching_notes.index}) found for note index \"\n"
     ]
    },
    {
     "name": "stdout",
     "output_type": "stream",
     "text": [
      "Index 661 / 696\n",
      "Index 662 / 696\n"
     ]
    },
    {
     "name": "stderr",
     "output_type": "stream",
     "text": [
      "/mnt/c/Users/apmcl/Documents/GitHub/harmonic-inference/corpus_utils.py:134: UserWarning: Multiple matching tied notes (MultiIndex([(0, 3390),\n",
      "            (0, 3391),\n",
      "            (0, 3392)],\n",
      "           names=['section', 'ix'])) found for note index (662, 0, 3385) and duration 1. Returning the first one.\n",
      "  warnings.warn(f\"Multiple matching tied notes ({matching_notes.index}) found for note index \"\n",
      "/mnt/c/Users/apmcl/Documents/GitHub/harmonic-inference/corpus_utils.py:134: UserWarning: Multiple matching tied notes (MultiIndex([(0, 3390),\n",
      "            (0, 3391),\n",
      "            (0, 3392)],\n",
      "           names=['section', 'ix'])) found for note index (662, 0, 3386) and duration 1. Returning the first one.\n",
      "  warnings.warn(f\"Multiple matching tied notes ({matching_notes.index}) found for note index \"\n",
      "/mnt/c/Users/apmcl/Documents/GitHub/harmonic-inference/corpus_utils.py:134: UserWarning: Multiple matching tied notes (MultiIndex([(0, 3390),\n",
      "            (0, 3391),\n",
      "            (0, 3392)],\n",
      "           names=['section', 'ix'])) found for note index (662, 0, 3387) and duration 1. Returning the first one.\n",
      "  warnings.warn(f\"Multiple matching tied notes ({matching_notes.index}) found for note index \"\n",
      "/mnt/c/Users/apmcl/Documents/GitHub/harmonic-inference/corpus_utils.py:134: UserWarning: Multiple matching tied notes (MultiIndex([(0, 5885),\n",
      "            (0, 5886)],\n",
      "           names=['section', 'ix'])) found for note index (662, 0, 5873) and duration 1. Returning the first one.\n",
      "  warnings.warn(f\"Multiple matching tied notes ({matching_notes.index}) found for note index \"\n",
      "/mnt/c/Users/apmcl/Documents/GitHub/harmonic-inference/corpus_utils.py:134: UserWarning: Multiple matching tied notes (MultiIndex([(0, 5885),\n",
      "            (0, 5886)],\n",
      "           names=['section', 'ix'])) found for note index (662, 0, 5874) and duration 1. Returning the first one.\n",
      "  warnings.warn(f\"Multiple matching tied notes ({matching_notes.index}) found for note index \"\n"
     ]
    },
    {
     "name": "stdout",
     "output_type": "stream",
     "text": [
      "Index 663 / 696\n",
      "Index 664 / 696\n",
      "Index 665 / 696\n",
      "Index 666 / 696\n",
      "Index 667 / 696\n",
      "Index 668 / 696\n",
      "Index 669 / 696\n"
     ]
    },
    {
     "name": "stderr",
     "output_type": "stream",
     "text": [
      "/mnt/c/Users/apmcl/Documents/GitHub/harmonic-inference/corpus_utils.py:134: UserWarning: Multiple matching tied notes (MultiIndex([(1, 2),\n",
      "            (1, 3)],\n",
      "           names=['section', 'ix'])) found for note index (669, 0, 571) and duration 1/2. Returning the first one.\n",
      "  warnings.warn(f\"Multiple matching tied notes ({matching_notes.index}) found for note index \"\n",
      "/mnt/c/Users/apmcl/Documents/GitHub/harmonic-inference/corpus_utils.py:134: UserWarning: Multiple matching tied notes (MultiIndex([(1, 2),\n",
      "            (1, 3)],\n",
      "           names=['section', 'ix'])) found for note index (669, 0, 572) and duration 1/2. Returning the first one.\n",
      "  warnings.warn(f\"Multiple matching tied notes ({matching_notes.index}) found for note index \"\n"
     ]
    },
    {
     "name": "stdout",
     "output_type": "stream",
     "text": [
      "Index 670 / 696\n",
      "Index 671 / 696\n"
     ]
    },
    {
     "name": "stderr",
     "output_type": "stream",
     "text": [
      "/mnt/c/Users/apmcl/Documents/GitHub/harmonic-inference/corpus_utils.py:134: UserWarning: Multiple matching tied notes (MultiIndex([(4, 1),\n",
      "            (4, 2)],\n",
      "           names=['section', 'ix'])) found for note index (671, 3, 99) and duration 1/8. Returning the first one.\n",
      "  warnings.warn(f\"Multiple matching tied notes ({matching_notes.index}) found for note index \"\n",
      "/mnt/c/Users/apmcl/Documents/GitHub/harmonic-inference/corpus_utils.py:134: UserWarning: Multiple matching tied notes (MultiIndex([(4, 1),\n",
      "            (4, 2)],\n",
      "           names=['section', 'ix'])) found for note index (671, 3, 100) and duration 1/8. Returning the first one.\n",
      "  warnings.warn(f\"Multiple matching tied notes ({matching_notes.index}) found for note index \"\n"
     ]
    },
    {
     "name": "stdout",
     "output_type": "stream",
     "text": [
      "Index 672 / 696\n"
     ]
    },
    {
     "name": "stderr",
     "output_type": "stream",
     "text": [
      "/mnt/c/Users/apmcl/Documents/GitHub/harmonic-inference/corpus_utils.py:134: UserWarning: Multiple matching tied notes (MultiIndex([(3, 2),\n",
      "            (3, 3)],\n",
      "           names=['section', 'ix'])) found for note index (672, 2, 1452) and duration 1/8. Returning the first one.\n",
      "  warnings.warn(f\"Multiple matching tied notes ({matching_notes.index}) found for note index \"\n",
      "/mnt/c/Users/apmcl/Documents/GitHub/harmonic-inference/corpus_utils.py:134: UserWarning: Multiple matching tied notes (MultiIndex([(3, 2),\n",
      "            (3, 3)],\n",
      "           names=['section', 'ix'])) found for note index (672, 2, 1453) and duration 1/8. Returning the first one.\n",
      "  warnings.warn(f\"Multiple matching tied notes ({matching_notes.index}) found for note index \"\n",
      "/mnt/c/Users/apmcl/Documents/GitHub/harmonic-inference/corpus_utils.py:134: UserWarning: Multiple matching tied notes (MultiIndex([(3, 35),\n",
      "            (3, 36)],\n",
      "           names=['section', 'ix'])) found for note index (672, 3, 28) and duration 1/4. Returning the first one.\n",
      "  warnings.warn(f\"Multiple matching tied notes ({matching_notes.index}) found for note index \"\n",
      "/mnt/c/Users/apmcl/Documents/GitHub/harmonic-inference/corpus_utils.py:134: UserWarning: Multiple matching tied notes (MultiIndex([(3, 35),\n",
      "            (3, 36)],\n",
      "           names=['section', 'ix'])) found for note index (672, 3, 30) and duration 1/8. Returning the first one.\n",
      "  warnings.warn(f\"Multiple matching tied notes ({matching_notes.index}) found for note index \"\n",
      "/mnt/c/Users/apmcl/Documents/GitHub/harmonic-inference/corpus_utils.py:128: UserWarning: No matching tied note (MultiIndex([], names=['section', 'ix'])) found for note index (672, 4, 839) and duration 1/4. Returning the first one.\n",
      "  warnings.warn(f\"No matching tied note ({matching_notes.index}) found for note index \"\n"
     ]
    },
    {
     "name": "stdout",
     "output_type": "stream",
     "text": [
      "Index 673 / 696\n",
      "Index 674 / 696\n"
     ]
    },
    {
     "name": "stderr",
     "output_type": "stream",
     "text": [
      "/mnt/c/Users/apmcl/Documents/GitHub/harmonic-inference/corpus_utils.py:134: UserWarning: Multiple matching tied notes (MultiIndex([(0, 14),\n",
      "            (0, 15)],\n",
      "           names=['section', 'ix'])) found for note index (674, 0, 10) and duration 1/2. Returning the first one.\n",
      "  warnings.warn(f\"Multiple matching tied notes ({matching_notes.index}) found for note index \"\n",
      "/mnt/c/Users/apmcl/Documents/GitHub/harmonic-inference/corpus_utils.py:134: UserWarning: Multiple matching tied notes (MultiIndex([(0, 14),\n",
      "            (0, 15)],\n",
      "           names=['section', 'ix'])) found for note index (674, 0, 11) and duration 1/2. Returning the first one.\n",
      "  warnings.warn(f\"Multiple matching tied notes ({matching_notes.index}) found for note index \"\n",
      "/mnt/c/Users/apmcl/Documents/GitHub/harmonic-inference/corpus_utils.py:128: UserWarning: No matching tied note (MultiIndex([], names=['section', 'ix'])) found for note index (674, 0, 612) and duration 1/2. Returning the first one.\n",
      "  warnings.warn(f\"No matching tied note ({matching_notes.index}) found for note index \"\n",
      "/mnt/c/Users/apmcl/Documents/GitHub/harmonic-inference/corpus_utils.py:134: UserWarning: Multiple matching tied notes (MultiIndex([(0, 1556),\n",
      "            (0, 1557)],\n",
      "           names=['section', 'ix'])) found for note index (674, 0, 1552) and duration 1/2. Returning the first one.\n",
      "  warnings.warn(f\"Multiple matching tied notes ({matching_notes.index}) found for note index \"\n",
      "/mnt/c/Users/apmcl/Documents/GitHub/harmonic-inference/corpus_utils.py:134: UserWarning: Multiple matching tied notes (MultiIndex([(0, 1556),\n",
      "            (0, 1557)],\n",
      "           names=['section', 'ix'])) found for note index (674, 0, 1553) and duration 1/2. Returning the first one.\n",
      "  warnings.warn(f\"Multiple matching tied notes ({matching_notes.index}) found for note index \"\n"
     ]
    },
    {
     "name": "stdout",
     "output_type": "stream",
     "text": [
      "Index 675 / 696\n"
     ]
    },
    {
     "name": "stderr",
     "output_type": "stream",
     "text": [
      "/mnt/c/Users/apmcl/Documents/GitHub/harmonic-inference/corpus_utils.py:128: UserWarning: No matching tied note (MultiIndex([], names=['section', 'ix'])) found for note index (675, 0, 1793) and duration 1/4. Returning the first one.\n",
      "  warnings.warn(f\"No matching tied note ({matching_notes.index}) found for note index \"\n",
      "/mnt/c/Users/apmcl/Documents/GitHub/harmonic-inference/corpus_utils.py:134: UserWarning: Multiple matching tied notes (MultiIndex([(7, 989),\n",
      "            (7, 990)],\n",
      "           names=['section', 'ix'])) found for note index (675, 7, 985) and duration 1/4. Returning the first one.\n",
      "  warnings.warn(f\"Multiple matching tied notes ({matching_notes.index}) found for note index \"\n",
      "/mnt/c/Users/apmcl/Documents/GitHub/harmonic-inference/corpus_utils.py:134: UserWarning: Multiple matching tied notes (MultiIndex([(7, 989),\n",
      "            (7, 990)],\n",
      "           names=['section', 'ix'])) found for note index (675, 7, 986) and duration 1/4. Returning the first one.\n",
      "  warnings.warn(f\"Multiple matching tied notes ({matching_notes.index}) found for note index \"\n",
      "/mnt/c/Users/apmcl/Documents/GitHub/harmonic-inference/corpus_utils.py:134: UserWarning: Multiple matching tied notes (MultiIndex([(7, 1004),\n",
      "            (7, 1005),\n",
      "            (7, 1006)],\n",
      "           names=['section', 'ix'])) found for note index (675, 7, 1000) and duration 1/4. Returning the first one.\n",
      "  warnings.warn(f\"Multiple matching tied notes ({matching_notes.index}) found for note index \"\n",
      "/mnt/c/Users/apmcl/Documents/GitHub/harmonic-inference/corpus_utils.py:134: UserWarning: Multiple matching tied notes (MultiIndex([(7, 1004),\n",
      "            (7, 1005),\n",
      "            (7, 1006)],\n",
      "           names=['section', 'ix'])) found for note index (675, 7, 1001) and duration 1/4. Returning the first one.\n",
      "  warnings.warn(f\"Multiple matching tied notes ({matching_notes.index}) found for note index \"\n",
      "/mnt/c/Users/apmcl/Documents/GitHub/harmonic-inference/corpus_utils.py:134: UserWarning: Multiple matching tied notes (MultiIndex([(7, 1004),\n",
      "            (7, 1005),\n",
      "            (7, 1006)],\n",
      "           names=['section', 'ix'])) found for note index (675, 7, 1002) and duration 1/4. Returning the first one.\n",
      "  warnings.warn(f\"Multiple matching tied notes ({matching_notes.index}) found for note index \"\n"
     ]
    },
    {
     "name": "stdout",
     "output_type": "stream",
     "text": [
      "Index 676 / 696\n",
      "Index 677 / 696\n"
     ]
    },
    {
     "name": "stderr",
     "output_type": "stream",
     "text": [
      "/mnt/c/Users/apmcl/Documents/GitHub/harmonic-inference/corpus_utils.py:134: UserWarning: Multiple matching tied notes (MultiIndex([(2, 565),\n",
      "            (2, 566)],\n",
      "           names=['section', 'ix'])) found for note index (677, 2, 558) and duration 1/8. Returning the first one.\n",
      "  warnings.warn(f\"Multiple matching tied notes ({matching_notes.index}) found for note index \"\n",
      "/mnt/c/Users/apmcl/Documents/GitHub/harmonic-inference/corpus_utils.py:134: UserWarning: Multiple matching tied notes (MultiIndex([(2, 565),\n",
      "            (2, 566)],\n",
      "           names=['section', 'ix'])) found for note index (677, 2, 559) and duration 1/8. Returning the first one.\n",
      "  warnings.warn(f\"Multiple matching tied notes ({matching_notes.index}) found for note index \"\n"
     ]
    },
    {
     "name": "stdout",
     "output_type": "stream",
     "text": [
      "Index 678 / 696\n",
      "Index 679 / 696\n",
      "Index 680 / 696\n"
     ]
    },
    {
     "name": "stderr",
     "output_type": "stream",
     "text": [
      "/mnt/c/Users/apmcl/Documents/GitHub/harmonic-inference/corpus_utils.py:128: UserWarning: No matching tied note (MultiIndex([], names=['section', 'ix'])) found for note index (680, 3, 679) and duration 1/2. Returning the first one.\n",
      "  warnings.warn(f\"No matching tied note ({matching_notes.index}) found for note index \"\n",
      "/mnt/c/Users/apmcl/Documents/GitHub/harmonic-inference/corpus_utils.py:128: UserWarning: No matching tied note (MultiIndex([], names=['section', 'ix'])) found for note index (680, 3, 682) and duration 1/2. Returning the first one.\n",
      "  warnings.warn(f\"No matching tied note ({matching_notes.index}) found for note index \"\n"
     ]
    },
    {
     "name": "stdout",
     "output_type": "stream",
     "text": [
      "Index 681 / 696\n"
     ]
    },
    {
     "name": "stderr",
     "output_type": "stream",
     "text": [
      "/mnt/c/Users/apmcl/Documents/GitHub/harmonic-inference/corpus_utils.py:128: UserWarning: No matching tied note (MultiIndex([], names=['section', 'ix'])) found for note index (681, 4, 536) and duration 5/4. Returning the first one.\n",
      "  warnings.warn(f\"No matching tied note ({matching_notes.index}) found for note index \"\n"
     ]
    },
    {
     "name": "stdout",
     "output_type": "stream",
     "text": [
      "Index 682 / 696\n",
      "Index 683 / 696\n",
      "Index 684 / 696\n"
     ]
    },
    {
     "name": "stderr",
     "output_type": "stream",
     "text": [
      "/mnt/c/Users/apmcl/Documents/GitHub/harmonic-inference/corpus_utils.py:128: UserWarning: No matching tied note (MultiIndex([], names=['section', 'ix'])) found for note index (684, 0, 499) and duration 7/32. Returning the first one.\n",
      "  warnings.warn(f\"No matching tied note ({matching_notes.index}) found for note index \"\n"
     ]
    },
    {
     "name": "stdout",
     "output_type": "stream",
     "text": [
      "Index 685 / 696\n",
      "Index 686 / 696\n",
      "Index 687 / 696\n",
      "Index 688 / 696\n",
      "Index 689 / 696\n"
     ]
    },
    {
     "name": "stderr",
     "output_type": "stream",
     "text": [
      "/mnt/c/Users/apmcl/Documents/GitHub/harmonic-inference/corpus_utils.py:128: UserWarning: No matching tied note (MultiIndex([], names=['section', 'ix'])) found for note index (689, 6, 9) and duration 1/4. Returning the first one.\n",
      "  warnings.warn(f\"No matching tied note ({matching_notes.index}) found for note index \"\n",
      "/mnt/c/Users/apmcl/Documents/GitHub/harmonic-inference/corpus_utils.py:128: UserWarning: No matching tied note (MultiIndex([], names=['section', 'ix'])) found for note index (689, 6, 25) and duration 1/4. Returning the first one.\n",
      "  warnings.warn(f\"No matching tied note ({matching_notes.index}) found for note index \"\n"
     ]
    },
    {
     "name": "stdout",
     "output_type": "stream",
     "text": [
      "Index 690 / 696\n"
     ]
    },
    {
     "name": "stderr",
     "output_type": "stream",
     "text": [
      "/mnt/c/Users/apmcl/Documents/GitHub/harmonic-inference/corpus_utils.py:134: UserWarning: Multiple matching tied notes (MultiIndex([(2, 369),\n",
      "            (2, 370)],\n",
      "           names=['section', 'ix'])) found for note index (690, 2, 365) and duration 1/4. Returning the first one.\n",
      "  warnings.warn(f\"Multiple matching tied notes ({matching_notes.index}) found for note index \"\n",
      "/mnt/c/Users/apmcl/Documents/GitHub/harmonic-inference/corpus_utils.py:134: UserWarning: Multiple matching tied notes (MultiIndex([(2, 369),\n",
      "            (2, 370)],\n",
      "           names=['section', 'ix'])) found for note index (690, 2, 366) and duration 1/4. Returning the first one.\n",
      "  warnings.warn(f\"Multiple matching tied notes ({matching_notes.index}) found for note index \"\n",
      "/mnt/c/Users/apmcl/Documents/GitHub/harmonic-inference/corpus_utils.py:134: UserWarning: Multiple matching tied notes (MultiIndex([(4, 766),\n",
      "            (4, 767)],\n",
      "           names=['section', 'ix'])) found for note index (690, 4, 761) and duration 1/4. Returning the first one.\n",
      "  warnings.warn(f\"Multiple matching tied notes ({matching_notes.index}) found for note index \"\n",
      "/mnt/c/Users/apmcl/Documents/GitHub/harmonic-inference/corpus_utils.py:134: UserWarning: Multiple matching tied notes (MultiIndex([(4, 766),\n",
      "            (4, 767)],\n",
      "           names=['section', 'ix'])) found for note index (690, 4, 762) and duration 1/4. Returning the first one.\n",
      "  warnings.warn(f\"Multiple matching tied notes ({matching_notes.index}) found for note index \"\n"
     ]
    },
    {
     "name": "stdout",
     "output_type": "stream",
     "text": [
      "Index 691 / 696\n",
      "Index 692 / 696\n"
     ]
    },
    {
     "name": "stderr",
     "output_type": "stream",
     "text": [
      "/mnt/c/Users/apmcl/Documents/GitHub/harmonic-inference/corpus_utils.py:134: UserWarning: Multiple matching tied notes (MultiIndex([(2, 657),\n",
      "            (2, 658)],\n",
      "           names=['section', 'ix'])) found for note index (692, 2, 651) and duration 1/2. Returning the first one.\n",
      "  warnings.warn(f\"Multiple matching tied notes ({matching_notes.index}) found for note index \"\n",
      "/mnt/c/Users/apmcl/Documents/GitHub/harmonic-inference/corpus_utils.py:134: UserWarning: Multiple matching tied notes (MultiIndex([(2, 657),\n",
      "            (2, 658)],\n",
      "           names=['section', 'ix'])) found for note index (692, 2, 652) and duration 1/2. Returning the first one.\n",
      "  warnings.warn(f\"Multiple matching tied notes ({matching_notes.index}) found for note index \"\n"
     ]
    },
    {
     "name": "stdout",
     "output_type": "stream",
     "text": [
      "Index 693 / 696\n"
     ]
    },
    {
     "name": "stderr",
     "output_type": "stream",
     "text": [
      "/mnt/c/Users/apmcl/Documents/GitHub/harmonic-inference/corpus_utils.py:128: UserWarning: No matching tied note (MultiIndex([], names=['section', 'ix'])) found for note index (693, 0, 1138) and duration 3/16. Returning the first one.\n",
      "  warnings.warn(f\"No matching tied note ({matching_notes.index}) found for note index \"\n",
      "/mnt/c/Users/apmcl/Documents/GitHub/harmonic-inference/corpus_utils.py:128: UserWarning: No matching tied note (MultiIndex([], names=['section', 'ix'])) found for note index (693, 0, 1177) and duration 3/16. Returning the first one.\n",
      "  warnings.warn(f\"No matching tied note ({matching_notes.index}) found for note index \"\n",
      "/mnt/c/Users/apmcl/Documents/GitHub/harmonic-inference/corpus_utils.py:128: UserWarning: No matching tied note (MultiIndex([], names=['section', 'ix'])) found for note index (693, 1, 1593) and duration 3/16. Returning the first one.\n",
      "  warnings.warn(f\"No matching tied note ({matching_notes.index}) found for note index \"\n",
      "/mnt/c/Users/apmcl/Documents/GitHub/harmonic-inference/corpus_utils.py:128: UserWarning: No matching tied note (MultiIndex([], names=['section', 'ix'])) found for note index (693, 1, 1634) and duration 3/16. Returning the first one.\n",
      "  warnings.warn(f\"No matching tied note ({matching_notes.index}) found for note index \"\n"
     ]
    },
    {
     "name": "stdout",
     "output_type": "stream",
     "text": [
      "Index 694 / 696\n"
     ]
    },
    {
     "name": "stderr",
     "output_type": "stream",
     "text": [
      "/mnt/c/Users/apmcl/Documents/GitHub/harmonic-inference/corpus_utils.py:134: UserWarning: Multiple matching tied notes (MultiIndex([(5, 22),\n",
      "            (5, 23)],\n",
      "           names=['section', 'ix'])) found for note index (694, 5, 18) and duration 1/8. Returning the first one.\n",
      "  warnings.warn(f\"Multiple matching tied notes ({matching_notes.index}) found for note index \"\n",
      "/mnt/c/Users/apmcl/Documents/GitHub/harmonic-inference/corpus_utils.py:134: UserWarning: Multiple matching tied notes (MultiIndex([(5, 22),\n",
      "            (5, 23)],\n",
      "           names=['section', 'ix'])) found for note index (694, 5, 19) and duration 1/8. Returning the first one.\n",
      "  warnings.warn(f\"Multiple matching tied notes ({matching_notes.index}) found for note index \"\n",
      "/mnt/c/Users/apmcl/Documents/GitHub/harmonic-inference/corpus_utils.py:134: UserWarning: Multiple matching tied notes (MultiIndex([(5, 30),\n",
      "            (5, 31)],\n",
      "           names=['section', 'ix'])) found for note index (694, 5, 26) and duration 1/2. Returning the first one.\n",
      "  warnings.warn(f\"Multiple matching tied notes ({matching_notes.index}) found for note index \"\n",
      "/mnt/c/Users/apmcl/Documents/GitHub/harmonic-inference/corpus_utils.py:134: UserWarning: Multiple matching tied notes (MultiIndex([(5, 30),\n",
      "            (5, 31)],\n",
      "           names=['section', 'ix'])) found for note index (694, 5, 27) and duration 1/2. Returning the first one.\n",
      "  warnings.warn(f\"Multiple matching tied notes ({matching_notes.index}) found for note index \"\n",
      "/mnt/c/Users/apmcl/Documents/GitHub/harmonic-inference/corpus_utils.py:134: UserWarning: Multiple matching tied notes (MultiIndex([(5, 38),\n",
      "            (5, 39)],\n",
      "           names=['section', 'ix'])) found for note index (694, 5, 34) and duration 1/2. Returning the first one.\n",
      "  warnings.warn(f\"Multiple matching tied notes ({matching_notes.index}) found for note index \"\n",
      "/mnt/c/Users/apmcl/Documents/GitHub/harmonic-inference/corpus_utils.py:134: UserWarning: Multiple matching tied notes (MultiIndex([(5, 38),\n",
      "            (5, 39)],\n",
      "           names=['section', 'ix'])) found for note index (694, 5, 35) and duration 1/2. Returning the first one.\n",
      "  warnings.warn(f\"Multiple matching tied notes ({matching_notes.index}) found for note index \"\n",
      "/mnt/c/Users/apmcl/Documents/GitHub/harmonic-inference/corpus_utils.py:134: UserWarning: Multiple matching tied notes (MultiIndex([(5, 46),\n",
      "            (5, 47)],\n",
      "           names=['section', 'ix'])) found for note index (694, 5, 42) and duration 1/2. Returning the first one.\n",
      "  warnings.warn(f\"Multiple matching tied notes ({matching_notes.index}) found for note index \"\n",
      "/mnt/c/Users/apmcl/Documents/GitHub/harmonic-inference/corpus_utils.py:134: UserWarning: Multiple matching tied notes (MultiIndex([(5, 46),\n",
      "            (5, 47)],\n",
      "           names=['section', 'ix'])) found for note index (694, 5, 43) and duration 1/2. Returning the first one.\n",
      "  warnings.warn(f\"Multiple matching tied notes ({matching_notes.index}) found for note index \"\n",
      "/mnt/c/Users/apmcl/Documents/GitHub/harmonic-inference/corpus_utils.py:134: UserWarning: Multiple matching tied notes (MultiIndex([(5, 54),\n",
      "            (5, 55)],\n",
      "           names=['section', 'ix'])) found for note index (694, 5, 50) and duration 1/2. Returning the first one.\n",
      "  warnings.warn(f\"Multiple matching tied notes ({matching_notes.index}) found for note index \"\n",
      "/mnt/c/Users/apmcl/Documents/GitHub/harmonic-inference/corpus_utils.py:134: UserWarning: Multiple matching tied notes (MultiIndex([(5, 54),\n",
      "            (5, 55)],\n",
      "           names=['section', 'ix'])) found for note index (694, 5, 51) and duration 1/2. Returning the first one.\n",
      "  warnings.warn(f\"Multiple matching tied notes ({matching_notes.index}) found for note index \"\n",
      "/mnt/c/Users/apmcl/Documents/GitHub/harmonic-inference/corpus_utils.py:134: UserWarning: Multiple matching tied notes (MultiIndex([(5, 60),\n",
      "            (5, 61)],\n",
      "           names=['section', 'ix'])) found for note index (694, 5, 56) and duration 1/2. Returning the first one.\n",
      "  warnings.warn(f\"Multiple matching tied notes ({matching_notes.index}) found for note index \"\n",
      "/mnt/c/Users/apmcl/Documents/GitHub/harmonic-inference/corpus_utils.py:134: UserWarning: Multiple matching tied notes (MultiIndex([(5, 60),\n",
      "            (5, 61)],\n",
      "           names=['section', 'ix'])) found for note index (694, 5, 57) and duration 1/2. Returning the first one.\n",
      "  warnings.warn(f\"Multiple matching tied notes ({matching_notes.index}) found for note index \"\n",
      "/mnt/c/Users/apmcl/Documents/GitHub/harmonic-inference/corpus_utils.py:134: UserWarning: Multiple matching tied notes (MultiIndex([(5, 68),\n",
      "            (5, 69)],\n",
      "           names=['section', 'ix'])) found for note index (694, 5, 64) and duration 1/2. Returning the first one.\n",
      "  warnings.warn(f\"Multiple matching tied notes ({matching_notes.index}) found for note index \"\n",
      "/mnt/c/Users/apmcl/Documents/GitHub/harmonic-inference/corpus_utils.py:134: UserWarning: Multiple matching tied notes (MultiIndex([(5, 68),\n",
      "            (5, 69)],\n",
      "           names=['section', 'ix'])) found for note index (694, 5, 65) and duration 1/2. Returning the first one.\n",
      "  warnings.warn(f\"Multiple matching tied notes ({matching_notes.index}) found for note index \"\n",
      "/mnt/c/Users/apmcl/Documents/GitHub/harmonic-inference/corpus_utils.py:134: UserWarning: Multiple matching tied notes (MultiIndex([(5, 76),\n",
      "            (5, 77)],\n",
      "           names=['section', 'ix'])) found for note index (694, 5, 72) and duration 1/2. Returning the first one.\n",
      "  warnings.warn(f\"Multiple matching tied notes ({matching_notes.index}) found for note index \"\n",
      "/mnt/c/Users/apmcl/Documents/GitHub/harmonic-inference/corpus_utils.py:134: UserWarning: Multiple matching tied notes (MultiIndex([(5, 76),\n",
      "            (5, 77)],\n",
      "           names=['section', 'ix'])) found for note index (694, 5, 73) and duration 1/2. Returning the first one.\n",
      "  warnings.warn(f\"Multiple matching tied notes ({matching_notes.index}) found for note index \"\n"
     ]
    },
    {
     "name": "stdout",
     "output_type": "stream",
     "text": [
      "Index 695 / 696\n",
      "Index 696 / 696\n"
     ]
    },
    {
     "name": "stderr",
     "output_type": "stream",
     "text": [
      "/mnt/c/Users/apmcl/Documents/GitHub/harmonic-inference/corpus_utils.py:128: UserWarning: No matching tied note (MultiIndex([], names=['section', 'ix'])) found for note index (696, 6, 170) and duration 1/2. Returning the first one.\n",
      "  warnings.warn(f\"No matching tied note ({matching_notes.index}) found for note index \"\n"
     ]
    },
    {
     "name": "stdout",
     "output_type": "stream",
     "text": [
      "Index 274 / 696\n",
      "Index 462 / 696\n"
     ]
    }
   ],
   "source": [
    "import corpus_utils\n",
    "import importlib\n",
    "importlib.reload(corpus_utils)\n",
    "\n",
    "notes = notes.assign(offset_mc=offset_mc, offset_beat=offset_beat)\n",
    "merged_notes = corpus_utils.merge_ties(notes, measures=measures)"
   ]
  },
  {
   "cell_type": "code",
   "execution_count": 38,
   "metadata": {},
   "outputs": [
    {
     "data": {
      "text/html": [
       "<div>\n",
       "<style scoped>\n",
       "    .dataframe tbody tr th:only-of-type {\n",
       "        vertical-align: middle;\n",
       "    }\n",
       "\n",
       "    .dataframe tbody tr th {\n",
       "        vertical-align: top;\n",
       "    }\n",
       "\n",
       "    .dataframe thead th {\n",
       "        text-align: right;\n",
       "    }\n",
       "</style>\n",
       "<table border=\"1\" class=\"dataframe\">\n",
       "  <thead>\n",
       "    <tr style=\"text-align: right;\">\n",
       "      <th></th>\n",
       "      <th></th>\n",
       "      <th></th>\n",
       "      <th>mc</th>\n",
       "      <th>mn</th>\n",
       "      <th>onset</th>\n",
       "      <th>duration</th>\n",
       "      <th>gracenote</th>\n",
       "      <th>nominal_duration</th>\n",
       "      <th>scalar</th>\n",
       "      <th>tied</th>\n",
       "      <th>tpc</th>\n",
       "      <th>midi</th>\n",
       "      <th>staff</th>\n",
       "      <th>voice</th>\n",
       "      <th>volta</th>\n",
       "      <th>octaves</th>\n",
       "      <th>note_names</th>\n",
       "      <th>keysig</th>\n",
       "      <th>timesig</th>\n",
       "      <th>beats</th>\n",
       "      <th>offset_mc</th>\n",
       "      <th>offset_beat</th>\n",
       "    </tr>\n",
       "    <tr>\n",
       "      <th>id</th>\n",
       "      <th>section</th>\n",
       "      <th>ix</th>\n",
       "      <th></th>\n",
       "      <th></th>\n",
       "      <th></th>\n",
       "      <th></th>\n",
       "      <th></th>\n",
       "      <th></th>\n",
       "      <th></th>\n",
       "      <th></th>\n",
       "      <th></th>\n",
       "      <th></th>\n",
       "      <th></th>\n",
       "      <th></th>\n",
       "      <th></th>\n",
       "      <th></th>\n",
       "      <th></th>\n",
       "      <th></th>\n",
       "      <th></th>\n",
       "      <th></th>\n",
       "      <th></th>\n",
       "      <th></th>\n",
       "    </tr>\n",
       "  </thead>\n",
       "  <tbody>\n",
       "    <tr>\n",
       "      <th rowspan=\"5\" valign=\"top\">0</th>\n",
       "      <th rowspan=\"5\" valign=\"top\">0</th>\n",
       "      <th>0</th>\n",
       "      <td>0</td>\n",
       "      <td>1</td>\n",
       "      <td>0</td>\n",
       "      <td>1/16</td>\n",
       "      <td>&lt;NA&gt;</td>\n",
       "      <td>1/16</td>\n",
       "      <td>1</td>\n",
       "      <td>&lt;NA&gt;</td>\n",
       "      <td>3</td>\n",
       "      <td>45</td>\n",
       "      <td>2</td>\n",
       "      <td>2</td>\n",
       "      <td>&lt;NA&gt;</td>\n",
       "      <td>2</td>\n",
       "      <td>A</td>\n",
       "      <td>3</td>\n",
       "      <td>12/8</td>\n",
       "      <td>1</td>\n",
       "      <td>0</td>\n",
       "      <td>1/16</td>\n",
       "    </tr>\n",
       "    <tr>\n",
       "      <th>1</th>\n",
       "      <td>0</td>\n",
       "      <td>1</td>\n",
       "      <td>1/16</td>\n",
       "      <td>1/16</td>\n",
       "      <td>&lt;NA&gt;</td>\n",
       "      <td>1/16</td>\n",
       "      <td>1</td>\n",
       "      <td>&lt;NA&gt;</td>\n",
       "      <td>7</td>\n",
       "      <td>49</td>\n",
       "      <td>2</td>\n",
       "      <td>2</td>\n",
       "      <td>&lt;NA&gt;</td>\n",
       "      <td>3</td>\n",
       "      <td>C#</td>\n",
       "      <td>3</td>\n",
       "      <td>12/8</td>\n",
       "      <td>1.1/6</td>\n",
       "      <td>0</td>\n",
       "      <td>1/8</td>\n",
       "    </tr>\n",
       "    <tr>\n",
       "      <th>2</th>\n",
       "      <td>0</td>\n",
       "      <td>1</td>\n",
       "      <td>1/8</td>\n",
       "      <td>1/16</td>\n",
       "      <td>&lt;NA&gt;</td>\n",
       "      <td>1/16</td>\n",
       "      <td>1</td>\n",
       "      <td>&lt;NA&gt;</td>\n",
       "      <td>4</td>\n",
       "      <td>52</td>\n",
       "      <td>2</td>\n",
       "      <td>2</td>\n",
       "      <td>&lt;NA&gt;</td>\n",
       "      <td>3</td>\n",
       "      <td>E</td>\n",
       "      <td>3</td>\n",
       "      <td>12/8</td>\n",
       "      <td>1.1/3</td>\n",
       "      <td>0</td>\n",
       "      <td>3/16</td>\n",
       "    </tr>\n",
       "    <tr>\n",
       "      <th>3</th>\n",
       "      <td>0</td>\n",
       "      <td>1</td>\n",
       "      <td>3/16</td>\n",
       "      <td>1/16</td>\n",
       "      <td>&lt;NA&gt;</td>\n",
       "      <td>1/16</td>\n",
       "      <td>1</td>\n",
       "      <td>&lt;NA&gt;</td>\n",
       "      <td>3</td>\n",
       "      <td>57</td>\n",
       "      <td>2</td>\n",
       "      <td>1</td>\n",
       "      <td>&lt;NA&gt;</td>\n",
       "      <td>3</td>\n",
       "      <td>A</td>\n",
       "      <td>3</td>\n",
       "      <td>12/8</td>\n",
       "      <td>1.1/2</td>\n",
       "      <td>0</td>\n",
       "      <td>1/4</td>\n",
       "    </tr>\n",
       "    <tr>\n",
       "      <th>4</th>\n",
       "      <td>0</td>\n",
       "      <td>1</td>\n",
       "      <td>1/4</td>\n",
       "      <td>1/16</td>\n",
       "      <td>&lt;NA&gt;</td>\n",
       "      <td>1/16</td>\n",
       "      <td>1</td>\n",
       "      <td>&lt;NA&gt;</td>\n",
       "      <td>8</td>\n",
       "      <td>56</td>\n",
       "      <td>2</td>\n",
       "      <td>1</td>\n",
       "      <td>&lt;NA&gt;</td>\n",
       "      <td>3</td>\n",
       "      <td>G#</td>\n",
       "      <td>3</td>\n",
       "      <td>12/8</td>\n",
       "      <td>1.2/3</td>\n",
       "      <td>0</td>\n",
       "      <td>5/16</td>\n",
       "    </tr>\n",
       "    <tr>\n",
       "      <th>...</th>\n",
       "      <th>...</th>\n",
       "      <th>...</th>\n",
       "      <td>...</td>\n",
       "      <td>...</td>\n",
       "      <td>...</td>\n",
       "      <td>...</td>\n",
       "      <td>...</td>\n",
       "      <td>...</td>\n",
       "      <td>...</td>\n",
       "      <td>...</td>\n",
       "      <td>...</td>\n",
       "      <td>...</td>\n",
       "      <td>...</td>\n",
       "      <td>...</td>\n",
       "      <td>...</td>\n",
       "      <td>...</td>\n",
       "      <td>...</td>\n",
       "      <td>...</td>\n",
       "      <td>...</td>\n",
       "      <td>...</td>\n",
       "      <td>...</td>\n",
       "      <td>...</td>\n",
       "    </tr>\n",
       "    <tr>\n",
       "      <th rowspan=\"5\" valign=\"top\">696</th>\n",
       "      <th rowspan=\"5\" valign=\"top\">13</th>\n",
       "      <th>309</th>\n",
       "      <td>282</td>\n",
       "      <td>283</td>\n",
       "      <td>0</td>\n",
       "      <td>1/4</td>\n",
       "      <td>&lt;NA&gt;</td>\n",
       "      <td>1/4</td>\n",
       "      <td>1</td>\n",
       "      <td>&lt;NA&gt;</td>\n",
       "      <td>-1</td>\n",
       "      <td>53</td>\n",
       "      <td>3</td>\n",
       "      <td>1</td>\n",
       "      <td>&lt;NA&gt;</td>\n",
       "      <td>3</td>\n",
       "      <td>F</td>\n",
       "      <td>-1</td>\n",
       "      <td>4/4</td>\n",
       "      <td>1</td>\n",
       "      <td>282</td>\n",
       "      <td>1/4</td>\n",
       "    </tr>\n",
       "    <tr>\n",
       "      <th>310</th>\n",
       "      <td>282</td>\n",
       "      <td>283</td>\n",
       "      <td>0</td>\n",
       "      <td>1/4</td>\n",
       "      <td>&lt;NA&gt;</td>\n",
       "      <td>1/4</td>\n",
       "      <td>1</td>\n",
       "      <td>&lt;NA&gt;</td>\n",
       "      <td>3</td>\n",
       "      <td>69</td>\n",
       "      <td>1</td>\n",
       "      <td>1</td>\n",
       "      <td>&lt;NA&gt;</td>\n",
       "      <td>4</td>\n",
       "      <td>A</td>\n",
       "      <td>-1</td>\n",
       "      <td>4/4</td>\n",
       "      <td>1</td>\n",
       "      <td>282</td>\n",
       "      <td>1/4</td>\n",
       "    </tr>\n",
       "    <tr>\n",
       "      <th>311</th>\n",
       "      <td>282</td>\n",
       "      <td>283</td>\n",
       "      <td>0</td>\n",
       "      <td>1/4</td>\n",
       "      <td>&lt;NA&gt;</td>\n",
       "      <td>1/4</td>\n",
       "      <td>1</td>\n",
       "      <td>&lt;NA&gt;</td>\n",
       "      <td>3</td>\n",
       "      <td>69</td>\n",
       "      <td>2</td>\n",
       "      <td>1</td>\n",
       "      <td>&lt;NA&gt;</td>\n",
       "      <td>4</td>\n",
       "      <td>A</td>\n",
       "      <td>-1</td>\n",
       "      <td>4/4</td>\n",
       "      <td>1</td>\n",
       "      <td>282</td>\n",
       "      <td>1/4</td>\n",
       "    </tr>\n",
       "    <tr>\n",
       "      <th>312</th>\n",
       "      <td>282</td>\n",
       "      <td>283</td>\n",
       "      <td>0</td>\n",
       "      <td>1/4</td>\n",
       "      <td>&lt;NA&gt;</td>\n",
       "      <td>1/4</td>\n",
       "      <td>1</td>\n",
       "      <td>&lt;NA&gt;</td>\n",
       "      <td>-1</td>\n",
       "      <td>77</td>\n",
       "      <td>2</td>\n",
       "      <td>1</td>\n",
       "      <td>&lt;NA&gt;</td>\n",
       "      <td>5</td>\n",
       "      <td>F</td>\n",
       "      <td>-1</td>\n",
       "      <td>4/4</td>\n",
       "      <td>1</td>\n",
       "      <td>282</td>\n",
       "      <td>1/4</td>\n",
       "    </tr>\n",
       "    <tr>\n",
       "      <th>313</th>\n",
       "      <td>282</td>\n",
       "      <td>283</td>\n",
       "      <td>0</td>\n",
       "      <td>1/4</td>\n",
       "      <td>&lt;NA&gt;</td>\n",
       "      <td>1/4</td>\n",
       "      <td>1</td>\n",
       "      <td>&lt;NA&gt;</td>\n",
       "      <td>-1</td>\n",
       "      <td>89</td>\n",
       "      <td>1</td>\n",
       "      <td>1</td>\n",
       "      <td>&lt;NA&gt;</td>\n",
       "      <td>6</td>\n",
       "      <td>F</td>\n",
       "      <td>-1</td>\n",
       "      <td>4/4</td>\n",
       "      <td>1</td>\n",
       "      <td>282</td>\n",
       "      <td>1/4</td>\n",
       "    </tr>\n",
       "  </tbody>\n",
       "</table>\n",
       "<p>1047036 rows × 20 columns</p>\n",
       "</div>"
      ],
      "text/plain": [
       "                  mc   mn onset duration gracenote nominal_duration scalar  \\\n",
       "id  section ix                                                               \n",
       "0   0       0      0    1     0     1/16      <NA>             1/16      1   \n",
       "            1      0    1  1/16     1/16      <NA>             1/16      1   \n",
       "            2      0    1   1/8     1/16      <NA>             1/16      1   \n",
       "            3      0    1  3/16     1/16      <NA>             1/16      1   \n",
       "            4      0    1   1/4     1/16      <NA>             1/16      1   \n",
       "...              ...  ...   ...      ...       ...              ...    ...   \n",
       "696 13      309  282  283     0      1/4      <NA>              1/4      1   \n",
       "            310  282  283     0      1/4      <NA>              1/4      1   \n",
       "            311  282  283     0      1/4      <NA>              1/4      1   \n",
       "            312  282  283     0      1/4      <NA>              1/4      1   \n",
       "            313  282  283     0      1/4      <NA>              1/4      1   \n",
       "\n",
       "                 tied  tpc  midi  staff  voice  volta  octaves note_names  \\\n",
       "id  section ix                                                              \n",
       "0   0       0    <NA>    3    45      2      2   <NA>        2          A   \n",
       "            1    <NA>    7    49      2      2   <NA>        3         C#   \n",
       "            2    <NA>    4    52      2      2   <NA>        3          E   \n",
       "            3    <NA>    3    57      2      1   <NA>        3          A   \n",
       "            4    <NA>    8    56      2      1   <NA>        3         G#   \n",
       "...               ...  ...   ...    ...    ...    ...      ...        ...   \n",
       "696 13      309  <NA>   -1    53      3      1   <NA>        3          F   \n",
       "            310  <NA>    3    69      1      1   <NA>        4          A   \n",
       "            311  <NA>    3    69      2      1   <NA>        4          A   \n",
       "            312  <NA>   -1    77      2      1   <NA>        5          F   \n",
       "            313  <NA>   -1    89      1      1   <NA>        6          F   \n",
       "\n",
       "                 keysig timesig  beats offset_mc offset_beat  \n",
       "id  section ix                                                \n",
       "0   0       0         3    12/8      1         0        1/16  \n",
       "            1         3    12/8  1.1/6         0         1/8  \n",
       "            2         3    12/8  1.1/3         0        3/16  \n",
       "            3         3    12/8  1.1/2         0         1/4  \n",
       "            4         3    12/8  1.2/3         0        5/16  \n",
       "...                 ...     ...    ...       ...         ...  \n",
       "696 13      309      -1     4/4      1       282         1/4  \n",
       "            310      -1     4/4      1       282         1/4  \n",
       "            311      -1     4/4      1       282         1/4  \n",
       "            312      -1     4/4      1       282         1/4  \n",
       "            313      -1     4/4      1       282         1/4  \n",
       "\n",
       "[1047036 rows x 20 columns]"
      ]
     },
     "execution_count": 38,
     "metadata": {},
     "output_type": "execute_result"
    }
   ],
   "source": [
    "merged_notes"
   ]
  },
  {
   "cell_type": "code",
   "execution_count": 42,
   "metadata": {},
   "outputs": [
    {
     "data": {
      "text/html": [
       "<div>\n",
       "<style scoped>\n",
       "    .dataframe tbody tr th:only-of-type {\n",
       "        vertical-align: middle;\n",
       "    }\n",
       "\n",
       "    .dataframe tbody tr th {\n",
       "        vertical-align: top;\n",
       "    }\n",
       "\n",
       "    .dataframe thead th {\n",
       "        text-align: right;\n",
       "    }\n",
       "</style>\n",
       "<table border=\"1\" class=\"dataframe\">\n",
       "  <thead>\n",
       "    <tr style=\"text-align: right;\">\n",
       "      <th></th>\n",
       "      <th></th>\n",
       "      <th></th>\n",
       "      <th>mc</th>\n",
       "      <th>mn</th>\n",
       "      <th>onset</th>\n",
       "      <th>duration</th>\n",
       "      <th>gracenote</th>\n",
       "      <th>nominal_duration</th>\n",
       "      <th>scalar</th>\n",
       "      <th>tied</th>\n",
       "      <th>tpc</th>\n",
       "      <th>midi</th>\n",
       "      <th>staff</th>\n",
       "      <th>voice</th>\n",
       "      <th>volta</th>\n",
       "      <th>octaves</th>\n",
       "      <th>note_names</th>\n",
       "      <th>keysig</th>\n",
       "      <th>timesig</th>\n",
       "      <th>beats</th>\n",
       "      <th>offset_mc</th>\n",
       "      <th>offset_beat</th>\n",
       "    </tr>\n",
       "    <tr>\n",
       "      <th>id</th>\n",
       "      <th>section</th>\n",
       "      <th>ix</th>\n",
       "      <th></th>\n",
       "      <th></th>\n",
       "      <th></th>\n",
       "      <th></th>\n",
       "      <th></th>\n",
       "      <th></th>\n",
       "      <th></th>\n",
       "      <th></th>\n",
       "      <th></th>\n",
       "      <th></th>\n",
       "      <th></th>\n",
       "      <th></th>\n",
       "      <th></th>\n",
       "      <th></th>\n",
       "      <th></th>\n",
       "      <th></th>\n",
       "      <th></th>\n",
       "      <th></th>\n",
       "      <th></th>\n",
       "      <th></th>\n",
       "    </tr>\n",
       "  </thead>\n",
       "  <tbody>\n",
       "    <tr>\n",
       "      <th rowspan=\"4\" valign=\"top\">274</th>\n",
       "      <th rowspan=\"4\" valign=\"top\">1</th>\n",
       "      <th>270</th>\n",
       "      <td>36</td>\n",
       "      <td>37</td>\n",
       "      <td>0</td>\n",
       "      <td>23/8</td>\n",
       "      <td>&lt;NA&gt;</td>\n",
       "      <td>1/2</td>\n",
       "      <td>3/2</td>\n",
       "      <td>0</td>\n",
       "      <td>0</td>\n",
       "      <td>36</td>\n",
       "      <td>2</td>\n",
       "      <td>2</td>\n",
       "      <td>&lt;NA&gt;</td>\n",
       "      <td>2</td>\n",
       "      <td>C</td>\n",
       "      <td>-1</td>\n",
       "      <td>6/8</td>\n",
       "      <td>1</td>\n",
       "      <td>39</td>\n",
       "      <td>5/8</td>\n",
       "    </tr>\n",
       "    <tr>\n",
       "      <th>272</th>\n",
       "      <td>36</td>\n",
       "      <td>37</td>\n",
       "      <td>0</td>\n",
       "      <td>23/8</td>\n",
       "      <td>&lt;NA&gt;</td>\n",
       "      <td>1/2</td>\n",
       "      <td>3/2</td>\n",
       "      <td>0</td>\n",
       "      <td>0</td>\n",
       "      <td>48</td>\n",
       "      <td>2</td>\n",
       "      <td>2</td>\n",
       "      <td>&lt;NA&gt;</td>\n",
       "      <td>3</td>\n",
       "      <td>C</td>\n",
       "      <td>-1</td>\n",
       "      <td>6/8</td>\n",
       "      <td>1</td>\n",
       "      <td>39</td>\n",
       "      <td>5/8</td>\n",
       "    </tr>\n",
       "    <tr>\n",
       "      <th>922</th>\n",
       "      <td>89</td>\n",
       "      <td>90</td>\n",
       "      <td>0</td>\n",
       "      <td>23/8</td>\n",
       "      <td>&lt;NA&gt;</td>\n",
       "      <td>1/2</td>\n",
       "      <td>3/2</td>\n",
       "      <td>0</td>\n",
       "      <td>0</td>\n",
       "      <td>36</td>\n",
       "      <td>2</td>\n",
       "      <td>2</td>\n",
       "      <td>&lt;NA&gt;</td>\n",
       "      <td>2</td>\n",
       "      <td>C</td>\n",
       "      <td>-1</td>\n",
       "      <td>6/8</td>\n",
       "      <td>1</td>\n",
       "      <td>92</td>\n",
       "      <td>5/8</td>\n",
       "    </tr>\n",
       "    <tr>\n",
       "      <th>924</th>\n",
       "      <td>89</td>\n",
       "      <td>90</td>\n",
       "      <td>0</td>\n",
       "      <td>23/8</td>\n",
       "      <td>&lt;NA&gt;</td>\n",
       "      <td>1/2</td>\n",
       "      <td>3/2</td>\n",
       "      <td>0</td>\n",
       "      <td>0</td>\n",
       "      <td>48</td>\n",
       "      <td>2</td>\n",
       "      <td>2</td>\n",
       "      <td>&lt;NA&gt;</td>\n",
       "      <td>3</td>\n",
       "      <td>C</td>\n",
       "      <td>-1</td>\n",
       "      <td>6/8</td>\n",
       "      <td>1</td>\n",
       "      <td>92</td>\n",
       "      <td>5/8</td>\n",
       "    </tr>\n",
       "    <tr>\n",
       "      <th rowspan=\"2\" valign=\"top\">462</th>\n",
       "      <th rowspan=\"2\" valign=\"top\">0</th>\n",
       "      <th>237</th>\n",
       "      <td>16</td>\n",
       "      <td>17</td>\n",
       "      <td>1/4</td>\n",
       "      <td>3/8</td>\n",
       "      <td>&lt;NA&gt;</td>\n",
       "      <td>1/4</td>\n",
       "      <td>1</td>\n",
       "      <td>0</td>\n",
       "      <td>-1</td>\n",
       "      <td>53</td>\n",
       "      <td>2</td>\n",
       "      <td>2</td>\n",
       "      <td>&lt;NA&gt;</td>\n",
       "      <td>3</td>\n",
       "      <td>F</td>\n",
       "      <td>-1</td>\n",
       "      <td>3/4</td>\n",
       "      <td>2</td>\n",
       "      <td>16</td>\n",
       "      <td>5/8</td>\n",
       "    </tr>\n",
       "    <tr>\n",
       "      <th>253</th>\n",
       "      <td>17</td>\n",
       "      <td>18</td>\n",
       "      <td>1/4</td>\n",
       "      <td>3/8</td>\n",
       "      <td>&lt;NA&gt;</td>\n",
       "      <td>1/4</td>\n",
       "      <td>1</td>\n",
       "      <td>0</td>\n",
       "      <td>3</td>\n",
       "      <td>57</td>\n",
       "      <td>2</td>\n",
       "      <td>2</td>\n",
       "      <td>&lt;NA&gt;</td>\n",
       "      <td>3</td>\n",
       "      <td>A</td>\n",
       "      <td>-1</td>\n",
       "      <td>3/4</td>\n",
       "      <td>2</td>\n",
       "      <td>17</td>\n",
       "      <td>5/8</td>\n",
       "    </tr>\n",
       "  </tbody>\n",
       "</table>\n",
       "</div>"
      ],
      "text/plain": [
       "                 mc  mn onset duration gracenote nominal_duration scalar  \\\n",
       "id  section ix                                                             \n",
       "274 1       270  36  37     0     23/8      <NA>              1/2    3/2   \n",
       "            272  36  37     0     23/8      <NA>              1/2    3/2   \n",
       "            922  89  90     0     23/8      <NA>              1/2    3/2   \n",
       "            924  89  90     0     23/8      <NA>              1/2    3/2   \n",
       "462 0       237  16  17   1/4      3/8      <NA>              1/4      1   \n",
       "            253  17  18   1/4      3/8      <NA>              1/4      1   \n",
       "\n",
       "                 tied  tpc  midi  staff  voice  volta  octaves note_names  \\\n",
       "id  section ix                                                              \n",
       "274 1       270     0    0    36      2      2   <NA>        2          C   \n",
       "            272     0    0    48      2      2   <NA>        3          C   \n",
       "            922     0    0    36      2      2   <NA>        2          C   \n",
       "            924     0    0    48      2      2   <NA>        3          C   \n",
       "462 0       237     0   -1    53      2      2   <NA>        3          F   \n",
       "            253     0    3    57      2      2   <NA>        3          A   \n",
       "\n",
       "                 keysig timesig beats offset_mc offset_beat  \n",
       "id  section ix                                               \n",
       "274 1       270      -1     6/8     1        39         5/8  \n",
       "            272      -1     6/8     1        39         5/8  \n",
       "            922      -1     6/8     1        92         5/8  \n",
       "            924      -1     6/8     1        92         5/8  \n",
       "462 0       237      -1     3/4     2        16         5/8  \n",
       "            253      -1     3/4     2        17         5/8  "
      ]
     },
     "execution_count": 42,
     "metadata": {},
     "output_type": "execute_result"
    }
   ],
   "source": [
    "merged_notes.loc[merged_notes.tied.isin([0, -1])]"
   ]
  },
  {
   "cell_type": "code",
   "execution_count": 40,
   "metadata": {},
   "outputs": [
    {
     "data": {
      "text/plain": [
       "1079574"
      ]
     },
     "execution_count": 40,
     "metadata": {},
     "output_type": "execute_result"
    }
   ],
   "source": [
    "len(notes)"
   ]
  },
  {
   "cell_type": "code",
   "execution_count": null,
   "metadata": {},
   "outputs": [],
   "source": []
  }
 ],
 "metadata": {
  "kernelspec": {
   "display_name": "Python 3",
   "language": "python",
   "name": "python3"
  },
  "language_info": {
   "codemirror_mode": {
    "name": "ipython",
    "version": 3
   },
   "file_extension": ".py",
   "mimetype": "text/x-python",
   "name": "python",
   "nbconvert_exporter": "python",
   "pygments_lexer": "ipython3",
   "version": "3.8.2"
  }
 },
 "nbformat": 4,
 "nbformat_minor": 4
}
