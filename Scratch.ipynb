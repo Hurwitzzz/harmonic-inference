{
 "cells": [
  {
   "cell_type": "code",
   "execution_count": 1,
   "metadata": {},
   "outputs": [],
   "source": [
    "import pandas as pd\n",
    "import numpy as np"
   ]
  },
  {
   "cell_type": "code",
   "execution_count": 2,
   "metadata": {
    "tags": []
   },
   "outputs": [
    {
     "output_type": "stream",
     "name": "stderr",
     "text": "100%|██████████| 749/749 [00:29<00:00, 25.55it/s]\n"
    }
   ],
   "source": [
    "from harmonic_inference.data.corpus_reading import aggregate_annotation_dfs\n",
    "from pathlib import Path\n",
    "\n",
    "ANNOTATIONS_PATH = Path('../corpora/annotations')\n",
    "OUT_DIR = Path('corpus_data')\n",
    "\n",
    "aggregate_annotation_dfs(ANNOTATIONS_PATH, OUT_DIR)"
   ]
  },
  {
   "cell_type": "code",
   "execution_count": 2,
   "metadata": {},
   "outputs": [],
   "source": [
    "from harmonic_inference.data.corpus_reading import read_dump\n",
    "from pathlib import Path\n",
    "\n",
    "files_df = read_dump(Path('corpus_data', 'files.tsv'), index_col=0)\n",
    "measures_df = read_dump(Path('corpus_data', 'measures.tsv'))\n",
    "chords_df = read_dump(Path('corpus_data', 'chords.tsv'))\n",
    "notes_df = read_dump(Path('corpus_data', 'notes.tsv'))"
   ]
  },
  {
   "cell_type": "code",
   "execution_count": 3,
   "metadata": {
    "tags": []
   },
   "outputs": [],
   "source": [
    "from harmonic_inference.utils import corpus_utils as cu\n",
    "import importlib\n",
    "importlib.reload(cu)\n",
    "\n",
    "# Remove measure repeats\n",
    "if isinstance(measures_df.iloc[0].next, tuple):\n",
    "    measures_df = cu.remove_repeats(measures_df)\n",
    "\n",
    "# Add offsets\n",
    "if not all([column in notes_df.columns for column in ['offset_beat', 'offset_mc']]):\n",
    "    notes_df_offsets = cu.add_note_offsets(notes_df, measures_df)\n",
    "\n",
    "# Merge ties\n",
    "notes_df_merged = cu.merge_ties(notes_df_offsets, measures=measures_df)\n"
   ]
  },
  {
   "cell_type": "code",
   "execution_count": 4,
   "metadata": {},
   "outputs": [
    {
     "output_type": "execute_result",
     "data": {
      "text/plain": "                  mc   mn  onset duration gracenote nominal_duration scalar  \\\nfile_id note_id                                                               \n0       37         2    2    3/4      7/8       NaN              1/4    3/2   \n        41         2    2      1      3/4       NaN              1/8      1   \n        43         2    2    9/8      5/8       NaN              1/4    3/2   \n        50         2    2   11/8      3/8       NaN              1/8      1   \n        51         2    2  23/16     5/16       NaN             1/16      1   \n...              ...  ...    ...      ...       ...              ...    ...   \n748     1636     108  108    1/4     7/12       NaN              1/4    2/3   \n        1638     108  108   5/12      1/6       NaN              1/8    2/3   \n        1648     108  108    3/4      1/2       NaN              1/4      1   \n        1662     109  109    3/4      1/3       NaN              1/4      1   \n        1664     110  110      0      3/4       NaN              1/2      1   \n\n                 tied  tpc  midi  staff  voice  volta  offset_mc offset_beat  \nfile_id note_id                                                               \n0       37          1    3    81      1      1   <NA>          3         1/8  \n        41          1    4    76      2      1   <NA>          3         1/4  \n        43          1    7    73      2      2   <NA>          3         1/4  \n        50          1    3    69      1      3   <NA>          3         1/4  \n        51          1    4    64      1      2   <NA>          3         1/4  \n...               ...  ...   ...    ...    ...    ...        ...         ...  \n748     1636        1    9    63      1      1   <NA>        108         5/6  \n        1638        1    1    55      2      1   <NA>        108        7/12  \n        1648        1    3    57      2      1   <NA>        109         1/4  \n        1662        1    1    55      2      1   <NA>        110        1/12  \n        1664        1    2    50      2      2   <NA>        110         3/4  \n\n[26046 rows x 15 columns]",
      "text/html": "<div>\n<style scoped>\n    .dataframe tbody tr th:only-of-type {\n        vertical-align: middle;\n    }\n\n    .dataframe tbody tr th {\n        vertical-align: top;\n    }\n\n    .dataframe thead th {\n        text-align: right;\n    }\n</style>\n<table border=\"1\" class=\"dataframe\">\n  <thead>\n    <tr style=\"text-align: right;\">\n      <th></th>\n      <th></th>\n      <th>mc</th>\n      <th>mn</th>\n      <th>onset</th>\n      <th>duration</th>\n      <th>gracenote</th>\n      <th>nominal_duration</th>\n      <th>scalar</th>\n      <th>tied</th>\n      <th>tpc</th>\n      <th>midi</th>\n      <th>staff</th>\n      <th>voice</th>\n      <th>volta</th>\n      <th>offset_mc</th>\n      <th>offset_beat</th>\n    </tr>\n    <tr>\n      <th>file_id</th>\n      <th>note_id</th>\n      <th></th>\n      <th></th>\n      <th></th>\n      <th></th>\n      <th></th>\n      <th></th>\n      <th></th>\n      <th></th>\n      <th></th>\n      <th></th>\n      <th></th>\n      <th></th>\n      <th></th>\n      <th></th>\n      <th></th>\n    </tr>\n  </thead>\n  <tbody>\n    <tr>\n      <th rowspan=\"5\" valign=\"top\">0</th>\n      <th>37</th>\n      <td>2</td>\n      <td>2</td>\n      <td>3/4</td>\n      <td>7/8</td>\n      <td>NaN</td>\n      <td>1/4</td>\n      <td>3/2</td>\n      <td>1</td>\n      <td>3</td>\n      <td>81</td>\n      <td>1</td>\n      <td>1</td>\n      <td>&lt;NA&gt;</td>\n      <td>3</td>\n      <td>1/8</td>\n    </tr>\n    <tr>\n      <th>41</th>\n      <td>2</td>\n      <td>2</td>\n      <td>1</td>\n      <td>3/4</td>\n      <td>NaN</td>\n      <td>1/8</td>\n      <td>1</td>\n      <td>1</td>\n      <td>4</td>\n      <td>76</td>\n      <td>2</td>\n      <td>1</td>\n      <td>&lt;NA&gt;</td>\n      <td>3</td>\n      <td>1/4</td>\n    </tr>\n    <tr>\n      <th>43</th>\n      <td>2</td>\n      <td>2</td>\n      <td>9/8</td>\n      <td>5/8</td>\n      <td>NaN</td>\n      <td>1/4</td>\n      <td>3/2</td>\n      <td>1</td>\n      <td>7</td>\n      <td>73</td>\n      <td>2</td>\n      <td>2</td>\n      <td>&lt;NA&gt;</td>\n      <td>3</td>\n      <td>1/4</td>\n    </tr>\n    <tr>\n      <th>50</th>\n      <td>2</td>\n      <td>2</td>\n      <td>11/8</td>\n      <td>3/8</td>\n      <td>NaN</td>\n      <td>1/8</td>\n      <td>1</td>\n      <td>1</td>\n      <td>3</td>\n      <td>69</td>\n      <td>1</td>\n      <td>3</td>\n      <td>&lt;NA&gt;</td>\n      <td>3</td>\n      <td>1/4</td>\n    </tr>\n    <tr>\n      <th>51</th>\n      <td>2</td>\n      <td>2</td>\n      <td>23/16</td>\n      <td>5/16</td>\n      <td>NaN</td>\n      <td>1/16</td>\n      <td>1</td>\n      <td>1</td>\n      <td>4</td>\n      <td>64</td>\n      <td>1</td>\n      <td>2</td>\n      <td>&lt;NA&gt;</td>\n      <td>3</td>\n      <td>1/4</td>\n    </tr>\n    <tr>\n      <th>...</th>\n      <th>...</th>\n      <td>...</td>\n      <td>...</td>\n      <td>...</td>\n      <td>...</td>\n      <td>...</td>\n      <td>...</td>\n      <td>...</td>\n      <td>...</td>\n      <td>...</td>\n      <td>...</td>\n      <td>...</td>\n      <td>...</td>\n      <td>...</td>\n      <td>...</td>\n      <td>...</td>\n    </tr>\n    <tr>\n      <th rowspan=\"5\" valign=\"top\">748</th>\n      <th>1636</th>\n      <td>108</td>\n      <td>108</td>\n      <td>1/4</td>\n      <td>7/12</td>\n      <td>NaN</td>\n      <td>1/4</td>\n      <td>2/3</td>\n      <td>1</td>\n      <td>9</td>\n      <td>63</td>\n      <td>1</td>\n      <td>1</td>\n      <td>&lt;NA&gt;</td>\n      <td>108</td>\n      <td>5/6</td>\n    </tr>\n    <tr>\n      <th>1638</th>\n      <td>108</td>\n      <td>108</td>\n      <td>5/12</td>\n      <td>1/6</td>\n      <td>NaN</td>\n      <td>1/8</td>\n      <td>2/3</td>\n      <td>1</td>\n      <td>1</td>\n      <td>55</td>\n      <td>2</td>\n      <td>1</td>\n      <td>&lt;NA&gt;</td>\n      <td>108</td>\n      <td>7/12</td>\n    </tr>\n    <tr>\n      <th>1648</th>\n      <td>108</td>\n      <td>108</td>\n      <td>3/4</td>\n      <td>1/2</td>\n      <td>NaN</td>\n      <td>1/4</td>\n      <td>1</td>\n      <td>1</td>\n      <td>3</td>\n      <td>57</td>\n      <td>2</td>\n      <td>1</td>\n      <td>&lt;NA&gt;</td>\n      <td>109</td>\n      <td>1/4</td>\n    </tr>\n    <tr>\n      <th>1662</th>\n      <td>109</td>\n      <td>109</td>\n      <td>3/4</td>\n      <td>1/3</td>\n      <td>NaN</td>\n      <td>1/4</td>\n      <td>1</td>\n      <td>1</td>\n      <td>1</td>\n      <td>55</td>\n      <td>2</td>\n      <td>1</td>\n      <td>&lt;NA&gt;</td>\n      <td>110</td>\n      <td>1/12</td>\n    </tr>\n    <tr>\n      <th>1664</th>\n      <td>110</td>\n      <td>110</td>\n      <td>0</td>\n      <td>3/4</td>\n      <td>NaN</td>\n      <td>1/2</td>\n      <td>1</td>\n      <td>1</td>\n      <td>2</td>\n      <td>50</td>\n      <td>2</td>\n      <td>2</td>\n      <td>&lt;NA&gt;</td>\n      <td>110</td>\n      <td>3/4</td>\n    </tr>\n  </tbody>\n</table>\n<p>26046 rows × 15 columns</p>\n</div>"
     },
     "metadata": {},
     "execution_count": 4
    }
   ],
   "source": [
    "notes_df_merged.loc[~notes_df_merged.tied.isna()]"
   ]
  },
  {
   "cell_type": "code",
   "execution_count": 5,
   "metadata": {},
   "outputs": [
    {
     "output_type": "execute_result",
     "data": {
      "text/plain": "         mc  mn onset duration gracenote nominal_duration scalar  tied  tpc  \\\nnote_id                                                                       \n383      28  28     0      1/4       NaN              1/4      1     1    9   \n384      28  28     0      1/4       NaN              1/4      1     1    3   \n385      28  28     0     1/12       NaN              1/8    2/3  <NA>    7   \n386      28  28  1/12     1/12       NaN              1/8    2/3  <NA>    6   \n387      28  28   1/6     1/12       NaN              1/8    2/3  <NA>    7   \n388      28  28   1/4     1/12       NaN              1/8    2/3    -1    9   \n389      28  28   1/4     3/16       NaN              1/8    3/2    -1    3   \n390      28  28   1/4      1/4       NaN              1/4      1     1    7   \n391      28  28   1/3     1/12       NaN              1/8    2/3  <NA>    6   \n392      28  28  5/12     1/12       NaN              1/8    2/3  <NA>    9   \n393      28  28  7/16     1/16       NaN             1/16      1  <NA>    3   \n394      28  28   1/2      1/4       NaN              1/4      1  <NA>    9   \n395      28  28   1/2      1/4       NaN              1/4      1     1    3   \n396      28  28   1/2     1/12       NaN              1/8    2/3    -1    7   \n397      28  28  7/12     1/12       NaN              1/8    2/3  <NA>    6   \n398      28  28   2/3     1/12       NaN              1/8    2/3  <NA>    7   \n399      28  28   3/4      1/4       NaN              1/4      1  <NA>    9   \n400      28  28   3/4      1/4       NaN              1/4      1     1    7   \n\n         midi  staff  voice  volta  offset_mc offset_beat  \nnote_id                                                    \n383        51      2      1   <NA>         28         1/4  \n384        69      1      2   <NA>         28         1/4  \n385        73      1      1   <NA>         28        1/12  \n386        78      1      1   <NA>         28         1/6  \n387        73      1      1   <NA>         28         1/4  \n388        51      2      1   <NA>         28         1/3  \n389        69      1      2   <NA>         28        7/16  \n390        73      1      1   <NA>         28         1/2  \n391        42      2      1   <NA>         28        5/12  \n392        51      2      1   <NA>         28         1/2  \n393        69      1      2   <NA>         28         1/2  \n394        51      2      1   <NA>         28         3/4  \n395        69      1      2   <NA>         28         3/4  \n396        73      1      1   <NA>         28        7/12  \n397        78      1      1   <NA>         28         2/3  \n398        73      1      1   <NA>         28         3/4  \n399        51      2      1   <NA>         29           0  \n400        73      1      1   <NA>         29           0  ",
      "text/html": "<div>\n<style scoped>\n    .dataframe tbody tr th:only-of-type {\n        vertical-align: middle;\n    }\n\n    .dataframe tbody tr th {\n        vertical-align: top;\n    }\n\n    .dataframe thead th {\n        text-align: right;\n    }\n</style>\n<table border=\"1\" class=\"dataframe\">\n  <thead>\n    <tr style=\"text-align: right;\">\n      <th></th>\n      <th>mc</th>\n      <th>mn</th>\n      <th>onset</th>\n      <th>duration</th>\n      <th>gracenote</th>\n      <th>nominal_duration</th>\n      <th>scalar</th>\n      <th>tied</th>\n      <th>tpc</th>\n      <th>midi</th>\n      <th>staff</th>\n      <th>voice</th>\n      <th>volta</th>\n      <th>offset_mc</th>\n      <th>offset_beat</th>\n    </tr>\n    <tr>\n      <th>note_id</th>\n      <th></th>\n      <th></th>\n      <th></th>\n      <th></th>\n      <th></th>\n      <th></th>\n      <th></th>\n      <th></th>\n      <th></th>\n      <th></th>\n      <th></th>\n      <th></th>\n      <th></th>\n      <th></th>\n      <th></th>\n    </tr>\n  </thead>\n  <tbody>\n    <tr>\n      <th>383</th>\n      <td>28</td>\n      <td>28</td>\n      <td>0</td>\n      <td>1/4</td>\n      <td>NaN</td>\n      <td>1/4</td>\n      <td>1</td>\n      <td>1</td>\n      <td>9</td>\n      <td>51</td>\n      <td>2</td>\n      <td>1</td>\n      <td>&lt;NA&gt;</td>\n      <td>28</td>\n      <td>1/4</td>\n    </tr>\n    <tr>\n      <th>384</th>\n      <td>28</td>\n      <td>28</td>\n      <td>0</td>\n      <td>1/4</td>\n      <td>NaN</td>\n      <td>1/4</td>\n      <td>1</td>\n      <td>1</td>\n      <td>3</td>\n      <td>69</td>\n      <td>1</td>\n      <td>2</td>\n      <td>&lt;NA&gt;</td>\n      <td>28</td>\n      <td>1/4</td>\n    </tr>\n    <tr>\n      <th>385</th>\n      <td>28</td>\n      <td>28</td>\n      <td>0</td>\n      <td>1/12</td>\n      <td>NaN</td>\n      <td>1/8</td>\n      <td>2/3</td>\n      <td>&lt;NA&gt;</td>\n      <td>7</td>\n      <td>73</td>\n      <td>1</td>\n      <td>1</td>\n      <td>&lt;NA&gt;</td>\n      <td>28</td>\n      <td>1/12</td>\n    </tr>\n    <tr>\n      <th>386</th>\n      <td>28</td>\n      <td>28</td>\n      <td>1/12</td>\n      <td>1/12</td>\n      <td>NaN</td>\n      <td>1/8</td>\n      <td>2/3</td>\n      <td>&lt;NA&gt;</td>\n      <td>6</td>\n      <td>78</td>\n      <td>1</td>\n      <td>1</td>\n      <td>&lt;NA&gt;</td>\n      <td>28</td>\n      <td>1/6</td>\n    </tr>\n    <tr>\n      <th>387</th>\n      <td>28</td>\n      <td>28</td>\n      <td>1/6</td>\n      <td>1/12</td>\n      <td>NaN</td>\n      <td>1/8</td>\n      <td>2/3</td>\n      <td>&lt;NA&gt;</td>\n      <td>7</td>\n      <td>73</td>\n      <td>1</td>\n      <td>1</td>\n      <td>&lt;NA&gt;</td>\n      <td>28</td>\n      <td>1/4</td>\n    </tr>\n    <tr>\n      <th>388</th>\n      <td>28</td>\n      <td>28</td>\n      <td>1/4</td>\n      <td>1/12</td>\n      <td>NaN</td>\n      <td>1/8</td>\n      <td>2/3</td>\n      <td>-1</td>\n      <td>9</td>\n      <td>51</td>\n      <td>2</td>\n      <td>1</td>\n      <td>&lt;NA&gt;</td>\n      <td>28</td>\n      <td>1/3</td>\n    </tr>\n    <tr>\n      <th>389</th>\n      <td>28</td>\n      <td>28</td>\n      <td>1/4</td>\n      <td>3/16</td>\n      <td>NaN</td>\n      <td>1/8</td>\n      <td>3/2</td>\n      <td>-1</td>\n      <td>3</td>\n      <td>69</td>\n      <td>1</td>\n      <td>2</td>\n      <td>&lt;NA&gt;</td>\n      <td>28</td>\n      <td>7/16</td>\n    </tr>\n    <tr>\n      <th>390</th>\n      <td>28</td>\n      <td>28</td>\n      <td>1/4</td>\n      <td>1/4</td>\n      <td>NaN</td>\n      <td>1/4</td>\n      <td>1</td>\n      <td>1</td>\n      <td>7</td>\n      <td>73</td>\n      <td>1</td>\n      <td>1</td>\n      <td>&lt;NA&gt;</td>\n      <td>28</td>\n      <td>1/2</td>\n    </tr>\n    <tr>\n      <th>391</th>\n      <td>28</td>\n      <td>28</td>\n      <td>1/3</td>\n      <td>1/12</td>\n      <td>NaN</td>\n      <td>1/8</td>\n      <td>2/3</td>\n      <td>&lt;NA&gt;</td>\n      <td>6</td>\n      <td>42</td>\n      <td>2</td>\n      <td>1</td>\n      <td>&lt;NA&gt;</td>\n      <td>28</td>\n      <td>5/12</td>\n    </tr>\n    <tr>\n      <th>392</th>\n      <td>28</td>\n      <td>28</td>\n      <td>5/12</td>\n      <td>1/12</td>\n      <td>NaN</td>\n      <td>1/8</td>\n      <td>2/3</td>\n      <td>&lt;NA&gt;</td>\n      <td>9</td>\n      <td>51</td>\n      <td>2</td>\n      <td>1</td>\n      <td>&lt;NA&gt;</td>\n      <td>28</td>\n      <td>1/2</td>\n    </tr>\n    <tr>\n      <th>393</th>\n      <td>28</td>\n      <td>28</td>\n      <td>7/16</td>\n      <td>1/16</td>\n      <td>NaN</td>\n      <td>1/16</td>\n      <td>1</td>\n      <td>&lt;NA&gt;</td>\n      <td>3</td>\n      <td>69</td>\n      <td>1</td>\n      <td>2</td>\n      <td>&lt;NA&gt;</td>\n      <td>28</td>\n      <td>1/2</td>\n    </tr>\n    <tr>\n      <th>394</th>\n      <td>28</td>\n      <td>28</td>\n      <td>1/2</td>\n      <td>1/4</td>\n      <td>NaN</td>\n      <td>1/4</td>\n      <td>1</td>\n      <td>&lt;NA&gt;</td>\n      <td>9</td>\n      <td>51</td>\n      <td>2</td>\n      <td>1</td>\n      <td>&lt;NA&gt;</td>\n      <td>28</td>\n      <td>3/4</td>\n    </tr>\n    <tr>\n      <th>395</th>\n      <td>28</td>\n      <td>28</td>\n      <td>1/2</td>\n      <td>1/4</td>\n      <td>NaN</td>\n      <td>1/4</td>\n      <td>1</td>\n      <td>1</td>\n      <td>3</td>\n      <td>69</td>\n      <td>1</td>\n      <td>2</td>\n      <td>&lt;NA&gt;</td>\n      <td>28</td>\n      <td>3/4</td>\n    </tr>\n    <tr>\n      <th>396</th>\n      <td>28</td>\n      <td>28</td>\n      <td>1/2</td>\n      <td>1/12</td>\n      <td>NaN</td>\n      <td>1/8</td>\n      <td>2/3</td>\n      <td>-1</td>\n      <td>7</td>\n      <td>73</td>\n      <td>1</td>\n      <td>1</td>\n      <td>&lt;NA&gt;</td>\n      <td>28</td>\n      <td>7/12</td>\n    </tr>\n    <tr>\n      <th>397</th>\n      <td>28</td>\n      <td>28</td>\n      <td>7/12</td>\n      <td>1/12</td>\n      <td>NaN</td>\n      <td>1/8</td>\n      <td>2/3</td>\n      <td>&lt;NA&gt;</td>\n      <td>6</td>\n      <td>78</td>\n      <td>1</td>\n      <td>1</td>\n      <td>&lt;NA&gt;</td>\n      <td>28</td>\n      <td>2/3</td>\n    </tr>\n    <tr>\n      <th>398</th>\n      <td>28</td>\n      <td>28</td>\n      <td>2/3</td>\n      <td>1/12</td>\n      <td>NaN</td>\n      <td>1/8</td>\n      <td>2/3</td>\n      <td>&lt;NA&gt;</td>\n      <td>7</td>\n      <td>73</td>\n      <td>1</td>\n      <td>1</td>\n      <td>&lt;NA&gt;</td>\n      <td>28</td>\n      <td>3/4</td>\n    </tr>\n    <tr>\n      <th>399</th>\n      <td>28</td>\n      <td>28</td>\n      <td>3/4</td>\n      <td>1/4</td>\n      <td>NaN</td>\n      <td>1/4</td>\n      <td>1</td>\n      <td>&lt;NA&gt;</td>\n      <td>9</td>\n      <td>51</td>\n      <td>2</td>\n      <td>1</td>\n      <td>&lt;NA&gt;</td>\n      <td>29</td>\n      <td>0</td>\n    </tr>\n    <tr>\n      <th>400</th>\n      <td>28</td>\n      <td>28</td>\n      <td>3/4</td>\n      <td>1/4</td>\n      <td>NaN</td>\n      <td>1/4</td>\n      <td>1</td>\n      <td>1</td>\n      <td>7</td>\n      <td>73</td>\n      <td>1</td>\n      <td>1</td>\n      <td>&lt;NA&gt;</td>\n      <td>29</td>\n      <td>0</td>\n    </tr>\n  </tbody>\n</table>\n</div>"
     },
     "metadata": {},
     "execution_count": 5
    }
   ],
   "source": [
    "notes_df_offsets.loc[748].loc[notes_df_offsets.loc[748].mc == 28]"
   ]
  },
  {
   "cell_type": "code",
   "execution_count": 9,
   "metadata": {},
   "outputs": [
    {
     "output_type": "execute_result",
     "data": {
      "text/plain": "                     mc   mn  keysig timesig act_dur offset       repeats  \\\nfile_id measure_id                                                          \n0       0             1    1       3    12/8     3/2      0  firstMeasure   \n        1             2    2       3    12/8     3/2      0           NaN   \n        2             3    3       3    12/8     3/2      0           NaN   \n        3             4    4       3    12/8     3/2      0           NaN   \n        4             5    5       3    12/8     3/2      0           NaN   \n...                 ...  ...     ...     ...     ...    ...           ...   \n748     105         106  106       2     2/2       1      0           NaN   \n        106         107  107       2     2/2       1      0           NaN   \n        107         108  108       2     2/2       1      0           NaN   \n        108         109  109       2     2/2       1      0           NaN   \n        109         110  110       2     2/2     3/4      0     endRepeat   \n\n                    volta barline  numbering_offset  dont_count  next  \nfile_id measure_id                                                     \n0       0            <NA>     NaN              <NA>        <NA>     2  \n        1            <NA>     NaN              <NA>        <NA>     3  \n        2            <NA>     NaN              <NA>        <NA>     4  \n        3            <NA>     NaN              <NA>        <NA>     5  \n        4            <NA>     NaN              <NA>        <NA>     6  \n...                   ...     ...               ...         ...   ...  \n748     105          <NA>     NaN              <NA>        <NA>   107  \n        106          <NA>     NaN              <NA>        <NA>   108  \n        107          <NA>     NaN              <NA>        <NA>   109  \n        108          <NA>     NaN              <NA>        <NA>   110  \n        109          <NA>     NaN              <NA>        <NA>  None  \n\n[71004 rows x 12 columns]",
      "text/html": "<div>\n<style scoped>\n    .dataframe tbody tr th:only-of-type {\n        vertical-align: middle;\n    }\n\n    .dataframe tbody tr th {\n        vertical-align: top;\n    }\n\n    .dataframe thead th {\n        text-align: right;\n    }\n</style>\n<table border=\"1\" class=\"dataframe\">\n  <thead>\n    <tr style=\"text-align: right;\">\n      <th></th>\n      <th></th>\n      <th>mc</th>\n      <th>mn</th>\n      <th>keysig</th>\n      <th>timesig</th>\n      <th>act_dur</th>\n      <th>offset</th>\n      <th>repeats</th>\n      <th>volta</th>\n      <th>barline</th>\n      <th>numbering_offset</th>\n      <th>dont_count</th>\n      <th>next</th>\n    </tr>\n    <tr>\n      <th>file_id</th>\n      <th>measure_id</th>\n      <th></th>\n      <th></th>\n      <th></th>\n      <th></th>\n      <th></th>\n      <th></th>\n      <th></th>\n      <th></th>\n      <th></th>\n      <th></th>\n      <th></th>\n      <th></th>\n    </tr>\n  </thead>\n  <tbody>\n    <tr>\n      <th rowspan=\"5\" valign=\"top\">0</th>\n      <th>0</th>\n      <td>1</td>\n      <td>1</td>\n      <td>3</td>\n      <td>12/8</td>\n      <td>3/2</td>\n      <td>0</td>\n      <td>firstMeasure</td>\n      <td>&lt;NA&gt;</td>\n      <td>NaN</td>\n      <td>&lt;NA&gt;</td>\n      <td>&lt;NA&gt;</td>\n      <td>2</td>\n    </tr>\n    <tr>\n      <th>1</th>\n      <td>2</td>\n      <td>2</td>\n      <td>3</td>\n      <td>12/8</td>\n      <td>3/2</td>\n      <td>0</td>\n      <td>NaN</td>\n      <td>&lt;NA&gt;</td>\n      <td>NaN</td>\n      <td>&lt;NA&gt;</td>\n      <td>&lt;NA&gt;</td>\n      <td>3</td>\n    </tr>\n    <tr>\n      <th>2</th>\n      <td>3</td>\n      <td>3</td>\n      <td>3</td>\n      <td>12/8</td>\n      <td>3/2</td>\n      <td>0</td>\n      <td>NaN</td>\n      <td>&lt;NA&gt;</td>\n      <td>NaN</td>\n      <td>&lt;NA&gt;</td>\n      <td>&lt;NA&gt;</td>\n      <td>4</td>\n    </tr>\n    <tr>\n      <th>3</th>\n      <td>4</td>\n      <td>4</td>\n      <td>3</td>\n      <td>12/8</td>\n      <td>3/2</td>\n      <td>0</td>\n      <td>NaN</td>\n      <td>&lt;NA&gt;</td>\n      <td>NaN</td>\n      <td>&lt;NA&gt;</td>\n      <td>&lt;NA&gt;</td>\n      <td>5</td>\n    </tr>\n    <tr>\n      <th>4</th>\n      <td>5</td>\n      <td>5</td>\n      <td>3</td>\n      <td>12/8</td>\n      <td>3/2</td>\n      <td>0</td>\n      <td>NaN</td>\n      <td>&lt;NA&gt;</td>\n      <td>NaN</td>\n      <td>&lt;NA&gt;</td>\n      <td>&lt;NA&gt;</td>\n      <td>6</td>\n    </tr>\n    <tr>\n      <th>...</th>\n      <th>...</th>\n      <td>...</td>\n      <td>...</td>\n      <td>...</td>\n      <td>...</td>\n      <td>...</td>\n      <td>...</td>\n      <td>...</td>\n      <td>...</td>\n      <td>...</td>\n      <td>...</td>\n      <td>...</td>\n      <td>...</td>\n    </tr>\n    <tr>\n      <th rowspan=\"5\" valign=\"top\">748</th>\n      <th>105</th>\n      <td>106</td>\n      <td>106</td>\n      <td>2</td>\n      <td>2/2</td>\n      <td>1</td>\n      <td>0</td>\n      <td>NaN</td>\n      <td>&lt;NA&gt;</td>\n      <td>NaN</td>\n      <td>&lt;NA&gt;</td>\n      <td>&lt;NA&gt;</td>\n      <td>107</td>\n    </tr>\n    <tr>\n      <th>106</th>\n      <td>107</td>\n      <td>107</td>\n      <td>2</td>\n      <td>2/2</td>\n      <td>1</td>\n      <td>0</td>\n      <td>NaN</td>\n      <td>&lt;NA&gt;</td>\n      <td>NaN</td>\n      <td>&lt;NA&gt;</td>\n      <td>&lt;NA&gt;</td>\n      <td>108</td>\n    </tr>\n    <tr>\n      <th>107</th>\n      <td>108</td>\n      <td>108</td>\n      <td>2</td>\n      <td>2/2</td>\n      <td>1</td>\n      <td>0</td>\n      <td>NaN</td>\n      <td>&lt;NA&gt;</td>\n      <td>NaN</td>\n      <td>&lt;NA&gt;</td>\n      <td>&lt;NA&gt;</td>\n      <td>109</td>\n    </tr>\n    <tr>\n      <th>108</th>\n      <td>109</td>\n      <td>109</td>\n      <td>2</td>\n      <td>2/2</td>\n      <td>1</td>\n      <td>0</td>\n      <td>NaN</td>\n      <td>&lt;NA&gt;</td>\n      <td>NaN</td>\n      <td>&lt;NA&gt;</td>\n      <td>&lt;NA&gt;</td>\n      <td>110</td>\n    </tr>\n    <tr>\n      <th>109</th>\n      <td>110</td>\n      <td>110</td>\n      <td>2</td>\n      <td>2/2</td>\n      <td>3/4</td>\n      <td>0</td>\n      <td>endRepeat</td>\n      <td>&lt;NA&gt;</td>\n      <td>NaN</td>\n      <td>&lt;NA&gt;</td>\n      <td>&lt;NA&gt;</td>\n      <td>None</td>\n    </tr>\n  </tbody>\n</table>\n<p>71004 rows × 12 columns</p>\n</div>"
     },
     "metadata": {},
     "execution_count": 9
    }
   ],
   "source": [
    "measures_df"
   ]
  },
  {
   "cell_type": "code",
   "execution_count": 6,
   "metadata": {},
   "outputs": [
    {
     "output_type": "execute_result",
     "data": {
      "text/plain": "        corpus_name                        file_name\n0       Bach-Suites            BWV806_01_Prélude.tsv\n1       Bach-Suites          BWV806_02_Allemande.tsv\n2       Bach-Suites         BWV806_03_Courante_I.tsv\n3       Bach-Suites        BWV806_04_Courante_II.tsv\n4       Bach-Suites           BWV806_05_Double_I.tsv\n..              ...                              ...\n744  WFBach-Sonatas     Bach_WF_F02_Sonate_C-Dur.tsv\n745  WFBach-Sonatas     Bach_WF_F03_Sonate_D-Dur.tsv\n746  WFBach-Sonatas  Bach_WF_F03_Sonate_D-Dur_01.tsv\n747  WFBach-Sonatas  Bach_WF_F03_Sonate_D-Dur_02.tsv\n748  WFBach-Sonatas  Bach_WF_F03_Sonate_D-Dur_03.tsv\n\n[749 rows x 2 columns]",
      "text/html": "<div>\n<style scoped>\n    .dataframe tbody tr th:only-of-type {\n        vertical-align: middle;\n    }\n\n    .dataframe tbody tr th {\n        vertical-align: top;\n    }\n\n    .dataframe thead th {\n        text-align: right;\n    }\n</style>\n<table border=\"1\" class=\"dataframe\">\n  <thead>\n    <tr style=\"text-align: right;\">\n      <th></th>\n      <th>corpus_name</th>\n      <th>file_name</th>\n    </tr>\n  </thead>\n  <tbody>\n    <tr>\n      <th>0</th>\n      <td>Bach-Suites</td>\n      <td>BWV806_01_Prélude.tsv</td>\n    </tr>\n    <tr>\n      <th>1</th>\n      <td>Bach-Suites</td>\n      <td>BWV806_02_Allemande.tsv</td>\n    </tr>\n    <tr>\n      <th>2</th>\n      <td>Bach-Suites</td>\n      <td>BWV806_03_Courante_I.tsv</td>\n    </tr>\n    <tr>\n      <th>3</th>\n      <td>Bach-Suites</td>\n      <td>BWV806_04_Courante_II.tsv</td>\n    </tr>\n    <tr>\n      <th>4</th>\n      <td>Bach-Suites</td>\n      <td>BWV806_05_Double_I.tsv</td>\n    </tr>\n    <tr>\n      <th>...</th>\n      <td>...</td>\n      <td>...</td>\n    </tr>\n    <tr>\n      <th>744</th>\n      <td>WFBach-Sonatas</td>\n      <td>Bach_WF_F02_Sonate_C-Dur.tsv</td>\n    </tr>\n    <tr>\n      <th>745</th>\n      <td>WFBach-Sonatas</td>\n      <td>Bach_WF_F03_Sonate_D-Dur.tsv</td>\n    </tr>\n    <tr>\n      <th>746</th>\n      <td>WFBach-Sonatas</td>\n      <td>Bach_WF_F03_Sonate_D-Dur_01.tsv</td>\n    </tr>\n    <tr>\n      <th>747</th>\n      <td>WFBach-Sonatas</td>\n      <td>Bach_WF_F03_Sonate_D-Dur_02.tsv</td>\n    </tr>\n    <tr>\n      <th>748</th>\n      <td>WFBach-Sonatas</td>\n      <td>Bach_WF_F03_Sonate_D-Dur_03.tsv</td>\n    </tr>\n  </tbody>\n</table>\n<p>749 rows × 2 columns</p>\n</div>"
     },
     "metadata": {},
     "execution_count": 6
    }
   ],
   "source": [
    "files_df"
   ]
  },
  {
   "cell_type": "code",
   "execution_count": 15,
   "metadata": {},
   "outputs": [
    {
     "output_type": "execute_result",
     "data": {
      "text/plain": "mc                            1\nmn                            1\nonset                         0\nlabel                      .A.I\nalt_label                   NaN\nglobalkey                     A\nlocalkey                      I\npedal                       NaN\nchord                         I\nnumeral                       I\nform                        NaN\nfigbass                     NaN\nchanges                     NaN\nrelativeroot                NaN\nphraseend                   NaN\nchord_type                    M\nglobalkey_is_minor        False\nlocalkey_is_minor         False\nchord_tones           (0, 4, 1)\nadded_tones                  ()\nroot                          0\nbass_note                     0\nvolta                      <NA>\nspecial                     NaN\nName: (0, 0), dtype: object"
     },
     "metadata": {},
     "execution_count": 15
    }
   ],
   "source": [
    "chords_df.iloc[0]"
   ]
  },
  {
   "cell_type": "code",
   "execution_count": 9,
   "metadata": {},
   "outputs": [
    {
     "output_type": "execute_result",
     "data": {
      "text/plain": "                     mc   mn  keysig timesig act_dur offset       repeats  \\\nfile_id measure_id                                                          \n0       0             1    1       3    12/8     3/2      0  firstMeasure   \n        1             2    2       3    12/8     3/2      0           NaN   \n        2             3    3       3    12/8     3/2      0           NaN   \n        3             4    4       3    12/8     3/2      0           NaN   \n        4             5    5       3    12/8     3/2      0           NaN   \n...                 ...  ...     ...     ...     ...    ...           ...   \n748     105         106  106       2     2/2       1      0           NaN   \n        106         107  107       2     2/2       1      0           NaN   \n        107         108  108       2     2/2       1      0           NaN   \n        108         109  109       2     2/2       1      0           NaN   \n        109         110  110       2     2/2     3/4      0     endRepeat   \n\n                    volta barline  numbering_offset  dont_count  next  \nfile_id measure_id                                                     \n0       0            <NA>     NaN              <NA>        <NA>     2  \n        1            <NA>     NaN              <NA>        <NA>     3  \n        2            <NA>     NaN              <NA>        <NA>     4  \n        3            <NA>     NaN              <NA>        <NA>     5  \n        4            <NA>     NaN              <NA>        <NA>     6  \n...                   ...     ...               ...         ...   ...  \n748     105          <NA>     NaN              <NA>        <NA>   107  \n        106          <NA>     NaN              <NA>        <NA>   108  \n        107          <NA>     NaN              <NA>        <NA>   109  \n        108          <NA>     NaN              <NA>        <NA>   110  \n        109          <NA>     NaN              <NA>        <NA>  None  \n\n[71004 rows x 12 columns]",
      "text/html": "<div>\n<style scoped>\n    .dataframe tbody tr th:only-of-type {\n        vertical-align: middle;\n    }\n\n    .dataframe tbody tr th {\n        vertical-align: top;\n    }\n\n    .dataframe thead th {\n        text-align: right;\n    }\n</style>\n<table border=\"1\" class=\"dataframe\">\n  <thead>\n    <tr style=\"text-align: right;\">\n      <th></th>\n      <th></th>\n      <th>mc</th>\n      <th>mn</th>\n      <th>keysig</th>\n      <th>timesig</th>\n      <th>act_dur</th>\n      <th>offset</th>\n      <th>repeats</th>\n      <th>volta</th>\n      <th>barline</th>\n      <th>numbering_offset</th>\n      <th>dont_count</th>\n      <th>next</th>\n    </tr>\n    <tr>\n      <th>file_id</th>\n      <th>measure_id</th>\n      <th></th>\n      <th></th>\n      <th></th>\n      <th></th>\n      <th></th>\n      <th></th>\n      <th></th>\n      <th></th>\n      <th></th>\n      <th></th>\n      <th></th>\n      <th></th>\n    </tr>\n  </thead>\n  <tbody>\n    <tr>\n      <th rowspan=\"5\" valign=\"top\">0</th>\n      <th>0</th>\n      <td>1</td>\n      <td>1</td>\n      <td>3</td>\n      <td>12/8</td>\n      <td>3/2</td>\n      <td>0</td>\n      <td>firstMeasure</td>\n      <td>&lt;NA&gt;</td>\n      <td>NaN</td>\n      <td>&lt;NA&gt;</td>\n      <td>&lt;NA&gt;</td>\n      <td>2</td>\n    </tr>\n    <tr>\n      <th>1</th>\n      <td>2</td>\n      <td>2</td>\n      <td>3</td>\n      <td>12/8</td>\n      <td>3/2</td>\n      <td>0</td>\n      <td>NaN</td>\n      <td>&lt;NA&gt;</td>\n      <td>NaN</td>\n      <td>&lt;NA&gt;</td>\n      <td>&lt;NA&gt;</td>\n      <td>3</td>\n    </tr>\n    <tr>\n      <th>2</th>\n      <td>3</td>\n      <td>3</td>\n      <td>3</td>\n      <td>12/8</td>\n      <td>3/2</td>\n      <td>0</td>\n      <td>NaN</td>\n      <td>&lt;NA&gt;</td>\n      <td>NaN</td>\n      <td>&lt;NA&gt;</td>\n      <td>&lt;NA&gt;</td>\n      <td>4</td>\n    </tr>\n    <tr>\n      <th>3</th>\n      <td>4</td>\n      <td>4</td>\n      <td>3</td>\n      <td>12/8</td>\n      <td>3/2</td>\n      <td>0</td>\n      <td>NaN</td>\n      <td>&lt;NA&gt;</td>\n      <td>NaN</td>\n      <td>&lt;NA&gt;</td>\n      <td>&lt;NA&gt;</td>\n      <td>5</td>\n    </tr>\n    <tr>\n      <th>4</th>\n      <td>5</td>\n      <td>5</td>\n      <td>3</td>\n      <td>12/8</td>\n      <td>3/2</td>\n      <td>0</td>\n      <td>NaN</td>\n      <td>&lt;NA&gt;</td>\n      <td>NaN</td>\n      <td>&lt;NA&gt;</td>\n      <td>&lt;NA&gt;</td>\n      <td>6</td>\n    </tr>\n    <tr>\n      <th>...</th>\n      <th>...</th>\n      <td>...</td>\n      <td>...</td>\n      <td>...</td>\n      <td>...</td>\n      <td>...</td>\n      <td>...</td>\n      <td>...</td>\n      <td>...</td>\n      <td>...</td>\n      <td>...</td>\n      <td>...</td>\n      <td>...</td>\n    </tr>\n    <tr>\n      <th rowspan=\"5\" valign=\"top\">748</th>\n      <th>105</th>\n      <td>106</td>\n      <td>106</td>\n      <td>2</td>\n      <td>2/2</td>\n      <td>1</td>\n      <td>0</td>\n      <td>NaN</td>\n      <td>&lt;NA&gt;</td>\n      <td>NaN</td>\n      <td>&lt;NA&gt;</td>\n      <td>&lt;NA&gt;</td>\n      <td>107</td>\n    </tr>\n    <tr>\n      <th>106</th>\n      <td>107</td>\n      <td>107</td>\n      <td>2</td>\n      <td>2/2</td>\n      <td>1</td>\n      <td>0</td>\n      <td>NaN</td>\n      <td>&lt;NA&gt;</td>\n      <td>NaN</td>\n      <td>&lt;NA&gt;</td>\n      <td>&lt;NA&gt;</td>\n      <td>108</td>\n    </tr>\n    <tr>\n      <th>107</th>\n      <td>108</td>\n      <td>108</td>\n      <td>2</td>\n      <td>2/2</td>\n      <td>1</td>\n      <td>0</td>\n      <td>NaN</td>\n      <td>&lt;NA&gt;</td>\n      <td>NaN</td>\n      <td>&lt;NA&gt;</td>\n      <td>&lt;NA&gt;</td>\n      <td>109</td>\n    </tr>\n    <tr>\n      <th>108</th>\n      <td>109</td>\n      <td>109</td>\n      <td>2</td>\n      <td>2/2</td>\n      <td>1</td>\n      <td>0</td>\n      <td>NaN</td>\n      <td>&lt;NA&gt;</td>\n      <td>NaN</td>\n      <td>&lt;NA&gt;</td>\n      <td>&lt;NA&gt;</td>\n      <td>110</td>\n    </tr>\n    <tr>\n      <th>109</th>\n      <td>110</td>\n      <td>110</td>\n      <td>2</td>\n      <td>2/2</td>\n      <td>3/4</td>\n      <td>0</td>\n      <td>endRepeat</td>\n      <td>&lt;NA&gt;</td>\n      <td>NaN</td>\n      <td>&lt;NA&gt;</td>\n      <td>&lt;NA&gt;</td>\n      <td>None</td>\n    </tr>\n  </tbody>\n</table>\n<p>71004 rows × 12 columns</p>\n</div>"
     },
     "metadata": {},
     "execution_count": 9
    }
   ],
   "source": [
    "measures_df"
   ]
  },
  {
   "cell_type": "code",
   "execution_count": 10,
   "metadata": {},
   "outputs": [
    {
     "output_type": "execute_result",
     "data": {
      "text/plain": "                  mc   mn onset duration gracenote nominal_duration scalar  \\\nfile_id note_id                                                              \n0       0          1    1     0     1/16       NaN             1/16      1   \n        1          1    1  1/16     1/16       NaN             1/16      1   \n        2          1    1   1/8     1/16       NaN             1/16      1   \n        3          1    1  3/16     1/16       NaN             1/16      1   \n        4          1    1   1/4     1/16       NaN             1/16      1   \n...              ...  ...   ...      ...       ...              ...    ...   \n748     1675     110  110  5/12     1/12       NaN              1/8    2/3   \n        1676     110  110  5/12     1/12       NaN              1/8    2/3   \n        1677     110  110   1/2      1/4       NaN              1/4      1   \n        1678     110  110   1/2      1/4       NaN              1/4      1   \n        1679     110  110   1/2      1/4       NaN              1/4      1   \n\n                 tied  tpc  midi  staff  voice  volta  \nfile_id note_id                                        \n0       0        <NA>    3    45      2      2   <NA>  \n        1        <NA>    7    49      2      2   <NA>  \n        2        <NA>    4    52      2      2   <NA>  \n        3        <NA>    3    57      2      1   <NA>  \n        4        <NA>    8    56      2      1   <NA>  \n...               ...  ...   ...    ...    ...    ...  \n748     1675     <NA>    3    57      2      1   <NA>  \n        1676     <NA>    7    61      1      1   <NA>  \n        1677       -1    2    50      2      2   <NA>  \n        1678     <NA>    6    54      2      1   <NA>  \n        1679     <NA>    2    62      1      1   <NA>  \n\n[1004360 rows x 13 columns]",
      "text/html": "<div>\n<style scoped>\n    .dataframe tbody tr th:only-of-type {\n        vertical-align: middle;\n    }\n\n    .dataframe tbody tr th {\n        vertical-align: top;\n    }\n\n    .dataframe thead th {\n        text-align: right;\n    }\n</style>\n<table border=\"1\" class=\"dataframe\">\n  <thead>\n    <tr style=\"text-align: right;\">\n      <th></th>\n      <th></th>\n      <th>mc</th>\n      <th>mn</th>\n      <th>onset</th>\n      <th>duration</th>\n      <th>gracenote</th>\n      <th>nominal_duration</th>\n      <th>scalar</th>\n      <th>tied</th>\n      <th>tpc</th>\n      <th>midi</th>\n      <th>staff</th>\n      <th>voice</th>\n      <th>volta</th>\n    </tr>\n    <tr>\n      <th>file_id</th>\n      <th>note_id</th>\n      <th></th>\n      <th></th>\n      <th></th>\n      <th></th>\n      <th></th>\n      <th></th>\n      <th></th>\n      <th></th>\n      <th></th>\n      <th></th>\n      <th></th>\n      <th></th>\n      <th></th>\n    </tr>\n  </thead>\n  <tbody>\n    <tr>\n      <th rowspan=\"5\" valign=\"top\">0</th>\n      <th>0</th>\n      <td>1</td>\n      <td>1</td>\n      <td>0</td>\n      <td>1/16</td>\n      <td>NaN</td>\n      <td>1/16</td>\n      <td>1</td>\n      <td>&lt;NA&gt;</td>\n      <td>3</td>\n      <td>45</td>\n      <td>2</td>\n      <td>2</td>\n      <td>&lt;NA&gt;</td>\n    </tr>\n    <tr>\n      <th>1</th>\n      <td>1</td>\n      <td>1</td>\n      <td>1/16</td>\n      <td>1/16</td>\n      <td>NaN</td>\n      <td>1/16</td>\n      <td>1</td>\n      <td>&lt;NA&gt;</td>\n      <td>7</td>\n      <td>49</td>\n      <td>2</td>\n      <td>2</td>\n      <td>&lt;NA&gt;</td>\n    </tr>\n    <tr>\n      <th>2</th>\n      <td>1</td>\n      <td>1</td>\n      <td>1/8</td>\n      <td>1/16</td>\n      <td>NaN</td>\n      <td>1/16</td>\n      <td>1</td>\n      <td>&lt;NA&gt;</td>\n      <td>4</td>\n      <td>52</td>\n      <td>2</td>\n      <td>2</td>\n      <td>&lt;NA&gt;</td>\n    </tr>\n    <tr>\n      <th>3</th>\n      <td>1</td>\n      <td>1</td>\n      <td>3/16</td>\n      <td>1/16</td>\n      <td>NaN</td>\n      <td>1/16</td>\n      <td>1</td>\n      <td>&lt;NA&gt;</td>\n      <td>3</td>\n      <td>57</td>\n      <td>2</td>\n      <td>1</td>\n      <td>&lt;NA&gt;</td>\n    </tr>\n    <tr>\n      <th>4</th>\n      <td>1</td>\n      <td>1</td>\n      <td>1/4</td>\n      <td>1/16</td>\n      <td>NaN</td>\n      <td>1/16</td>\n      <td>1</td>\n      <td>&lt;NA&gt;</td>\n      <td>8</td>\n      <td>56</td>\n      <td>2</td>\n      <td>1</td>\n      <td>&lt;NA&gt;</td>\n    </tr>\n    <tr>\n      <th>...</th>\n      <th>...</th>\n      <td>...</td>\n      <td>...</td>\n      <td>...</td>\n      <td>...</td>\n      <td>...</td>\n      <td>...</td>\n      <td>...</td>\n      <td>...</td>\n      <td>...</td>\n      <td>...</td>\n      <td>...</td>\n      <td>...</td>\n      <td>...</td>\n    </tr>\n    <tr>\n      <th rowspan=\"5\" valign=\"top\">748</th>\n      <th>1675</th>\n      <td>110</td>\n      <td>110</td>\n      <td>5/12</td>\n      <td>1/12</td>\n      <td>NaN</td>\n      <td>1/8</td>\n      <td>2/3</td>\n      <td>&lt;NA&gt;</td>\n      <td>3</td>\n      <td>57</td>\n      <td>2</td>\n      <td>1</td>\n      <td>&lt;NA&gt;</td>\n    </tr>\n    <tr>\n      <th>1676</th>\n      <td>110</td>\n      <td>110</td>\n      <td>5/12</td>\n      <td>1/12</td>\n      <td>NaN</td>\n      <td>1/8</td>\n      <td>2/3</td>\n      <td>&lt;NA&gt;</td>\n      <td>7</td>\n      <td>61</td>\n      <td>1</td>\n      <td>1</td>\n      <td>&lt;NA&gt;</td>\n    </tr>\n    <tr>\n      <th>1677</th>\n      <td>110</td>\n      <td>110</td>\n      <td>1/2</td>\n      <td>1/4</td>\n      <td>NaN</td>\n      <td>1/4</td>\n      <td>1</td>\n      <td>-1</td>\n      <td>2</td>\n      <td>50</td>\n      <td>2</td>\n      <td>2</td>\n      <td>&lt;NA&gt;</td>\n    </tr>\n    <tr>\n      <th>1678</th>\n      <td>110</td>\n      <td>110</td>\n      <td>1/2</td>\n      <td>1/4</td>\n      <td>NaN</td>\n      <td>1/4</td>\n      <td>1</td>\n      <td>&lt;NA&gt;</td>\n      <td>6</td>\n      <td>54</td>\n      <td>2</td>\n      <td>1</td>\n      <td>&lt;NA&gt;</td>\n    </tr>\n    <tr>\n      <th>1679</th>\n      <td>110</td>\n      <td>110</td>\n      <td>1/2</td>\n      <td>1/4</td>\n      <td>NaN</td>\n      <td>1/4</td>\n      <td>1</td>\n      <td>&lt;NA&gt;</td>\n      <td>2</td>\n      <td>62</td>\n      <td>1</td>\n      <td>1</td>\n      <td>&lt;NA&gt;</td>\n    </tr>\n  </tbody>\n</table>\n<p>1004360 rows × 13 columns</p>\n</div>"
     },
     "metadata": {},
     "execution_count": 10
    }
   ],
   "source": [
    "notes_df"
   ]
  },
  {
   "cell_type": "code",
   "execution_count": 11,
   "metadata": {
    "tags": []
   },
   "outputs": [
    {
     "output_type": "stream",
     "name": "stdout",
     "text": "A KeyMode.MAJOR\nD KeyMode.MAJOR\nA KeyMode.MAJOR\nD KeyMode.MAJOR\nE KeyMode.MAJOR\nA KeyMode.MAJOR\nE KeyMode.MAJOR\nA KeyMode.MAJOR\nE KeyMode.MAJOR\nA KeyMode.MAJOR\nE KeyMode.MAJOR\nA KeyMode.MAJOR\nE KeyMode.MAJOR\nA KeyMode.MAJOR\nE KeyMode.MAJOR\nA KeyMode.MAJOR\nE KeyMode.MAJOR\nA KeyMode.MAJOR\nE KeyMode.MAJOR\nA KeyMode.MAJOR\nE KeyMode.MAJOR\nA KeyMode.MAJOR\nE KeyMode.MAJOR\nA KeyMode.MAJOR\nD KeyMode.MAJOR\nA KeyMode.MAJOR\nF# KeyMode.MINOR\nA KeyMode.MAJOR\nF# KeyMode.MINOR\nA KeyMode.MAJOR\nE KeyMode.MAJOR\nA KeyMode.MAJOR\nF# KeyMode.MINOR\nA KeyMode.MAJOR\nF# KeyMode.MINOR\nA KeyMode.MAJOR\nF# KeyMode.MINOR\nB KeyMode.MINOR\nA KeyMode.MAJOR\nB KeyMode.MINOR\nA KeyMode.MAJOR\nB KeyMode.MINOR\nF# KeyMode.MINOR\nB KeyMode.MINOR\nA KeyMode.MAJOR\nB KeyMode.MINOR\nF# KeyMode.MINOR\nB KeyMode.MINOR\nA KeyMode.MAJOR\nB KeyMode.MINOR\nA KeyMode.MAJOR\nB KeyMode.MINOR\nA KeyMode.MAJOR\nB KeyMode.MINOR\nA KeyMode.MAJOR\nB KeyMode.MINOR\nA KeyMode.MAJOR\nE KeyMode.MAJOR\nB KeyMode.MINOR\nA KeyMode.MAJOR\nB KeyMode.MINOR\nE KeyMode.MAJOR\nA KeyMode.MAJOR\nE KeyMode.MAJOR\nA KeyMode.MAJOR\nE KeyMode.MAJOR\nA KeyMode.MAJOR\nE KeyMode.MAJOR\nA KeyMode.MAJOR\nE KeyMode.MAJOR\nA KeyMode.MAJOR\nE KeyMode.MAJOR\nA KeyMode.MAJOR\nD KeyMode.MAJOR\nA KeyMode.MAJOR\nD KeyMode.MAJOR\nA KeyMode.MAJOR\nD KeyMode.MAJOR\nA KeyMode.MAJOR\nD KeyMode.MAJOR\nA KeyMode.MAJOR\nD KeyMode.MAJOR\nA KeyMode.MAJOR\nE KeyMode.MAJOR\nA KeyMode.MAJOR\nD KeyMode.MAJOR\nA KeyMode.MAJOR\n"
    }
   ],
   "source": [
    "import harmonic_inference.data.piece as piece\n",
    "import harmonic_inference.utils.harmonic_utils as hu\n",
    "\n",
    "import importlib\n",
    "importlib.reload(piece)\n",
    "importlib.reload(hu)\n",
    "\n",
    "score_piece = piece.ScorePiece(notes_df.loc[0], chords_df.loc[0], measures_df.loc[0])\n",
    "for key in score_piece.get_keys():\n",
    "    print(key)"
   ]
  },
  {
   "cell_type": "code",
   "execution_count": 9,
   "metadata": {
    "tags": []
   },
   "outputs": [
    {
     "output_type": "execute_result",
     "data": {
      "text/plain": "          mc  mn onset      chords       chord key pedal numeral  form  \\\nchord_id                                                                 \n14695     71  72     0  #viio6/III  #viio6/III   I  <NA>    #vii     o   \n14696     71  72   1/4         III         III   I  <NA>     III  <NA>   \n14697     71  72  7/16        V7/V        V7/V   I  <NA>       V  <NA>   \n\n         figbass  ... relativeroot phraseend globalkey bass_step mc_next  \\\nchord_id          ...                                                      \n14695          6  ...          III      <NA>         E       ##4      71   \n14696       <NA>  ...         <NA>      <NA>         E         3      71   \n14697          7  ...            V      <NA>         E         2      72   \n\n          onset_next next_chord_id  chord_length globalminor  localminor  \nchord_id                                                                  \n14695            1/4         14696           1/4       False       False  \n14696           7/16         14697          3/16       False       False  \n14697           1/16         14698           1/8       False       False  \n\n[3 rows x 21 columns]",
      "text/html": "<div>\n<style scoped>\n    .dataframe tbody tr th:only-of-type {\n        vertical-align: middle;\n    }\n\n    .dataframe tbody tr th {\n        vertical-align: top;\n    }\n\n    .dataframe thead th {\n        text-align: right;\n    }\n</style>\n<table border=\"1\" class=\"dataframe\">\n  <thead>\n    <tr style=\"text-align: right;\">\n      <th></th>\n      <th>mc</th>\n      <th>mn</th>\n      <th>onset</th>\n      <th>chords</th>\n      <th>chord</th>\n      <th>key</th>\n      <th>pedal</th>\n      <th>numeral</th>\n      <th>form</th>\n      <th>figbass</th>\n      <th>...</th>\n      <th>relativeroot</th>\n      <th>phraseend</th>\n      <th>globalkey</th>\n      <th>bass_step</th>\n      <th>mc_next</th>\n      <th>onset_next</th>\n      <th>next_chord_id</th>\n      <th>chord_length</th>\n      <th>globalminor</th>\n      <th>localminor</th>\n    </tr>\n    <tr>\n      <th>chord_id</th>\n      <th></th>\n      <th></th>\n      <th></th>\n      <th></th>\n      <th></th>\n      <th></th>\n      <th></th>\n      <th></th>\n      <th></th>\n      <th></th>\n      <th></th>\n      <th></th>\n      <th></th>\n      <th></th>\n      <th></th>\n      <th></th>\n      <th></th>\n      <th></th>\n      <th></th>\n      <th></th>\n      <th></th>\n    </tr>\n  </thead>\n  <tbody>\n    <tr>\n      <th>14695</th>\n      <td>71</td>\n      <td>72</td>\n      <td>0</td>\n      <td>#viio6/III</td>\n      <td>#viio6/III</td>\n      <td>I</td>\n      <td>&lt;NA&gt;</td>\n      <td>#vii</td>\n      <td>o</td>\n      <td>6</td>\n      <td>...</td>\n      <td>III</td>\n      <td>&lt;NA&gt;</td>\n      <td>E</td>\n      <td>##4</td>\n      <td>71</td>\n      <td>1/4</td>\n      <td>14696</td>\n      <td>1/4</td>\n      <td>False</td>\n      <td>False</td>\n    </tr>\n    <tr>\n      <th>14696</th>\n      <td>71</td>\n      <td>72</td>\n      <td>1/4</td>\n      <td>III</td>\n      <td>III</td>\n      <td>I</td>\n      <td>&lt;NA&gt;</td>\n      <td>III</td>\n      <td>&lt;NA&gt;</td>\n      <td>&lt;NA&gt;</td>\n      <td>...</td>\n      <td>&lt;NA&gt;</td>\n      <td>&lt;NA&gt;</td>\n      <td>E</td>\n      <td>3</td>\n      <td>71</td>\n      <td>7/16</td>\n      <td>14697</td>\n      <td>3/16</td>\n      <td>False</td>\n      <td>False</td>\n    </tr>\n    <tr>\n      <th>14697</th>\n      <td>71</td>\n      <td>72</td>\n      <td>7/16</td>\n      <td>V7/V</td>\n      <td>V7/V</td>\n      <td>I</td>\n      <td>&lt;NA&gt;</td>\n      <td>V</td>\n      <td>&lt;NA&gt;</td>\n      <td>7</td>\n      <td>...</td>\n      <td>V</td>\n      <td>&lt;NA&gt;</td>\n      <td>E</td>\n      <td>2</td>\n      <td>72</td>\n      <td>1/16</td>\n      <td>14698</td>\n      <td>1/8</td>\n      <td>False</td>\n      <td>False</td>\n    </tr>\n  </tbody>\n</table>\n<p>3 rows × 21 columns</p>\n</div>"
     },
     "metadata": {},
     "execution_count": 9
    }
   ],
   "source": [
    "chords_df.loc[94].loc[chords_df.loc[94].mc == 71]"
   ]
  },
  {
   "cell_type": "code",
   "execution_count": 16,
   "metadata": {},
   "outputs": [
    {
     "output_type": "execute_result",
     "data": {
      "text/plain": "extension                               .mscx\nfilename                            08-1.mscx\nmd5          b69eef6286168c9d334cd29ce4bae9dd\nname                                     08-1\nrel_path        annotations/Beethoven-Sonatas\nsubcorpus                   Beethoven-Sonatas\nName: 102, dtype: object"
     },
     "metadata": {},
     "execution_count": 16
    }
   ],
   "source": [
    "files_df.loc[102]"
   ]
  },
  {
   "cell_type": "code",
   "execution_count": null,
   "metadata": {},
   "outputs": [],
   "source": [
    "import harmonic_inference_data as hid\n",
    "import importlib\n",
    "importlib.reload(hid)\n",
    "\n",
    "datasets = {'global': {},\n",
    "            'local': {},\n",
    "            'none': {}}\n",
    "\n",
    "datasets['global']['train'], datasets['global']['valid'], datasets['global']['test'] = hid.get_train_valid_test_splits(\n",
    "    chords_df=chords_df, notes_df=notes_df, measures_df=measures_df, files_df=files_df,\n",
    "    seed=0, h5_directory='data', h5_prefix='globalkey_811split', make_dfs=True, transpose_global=True\n",
    ")\n",
    "\n",
    "datasets['local']['train'], datasets['local']['valid'], datasets['local']['test'] = hid.get_train_valid_test_splits(\n",
    "    chords_df=chords_df, notes_df=notes_df, measures_df=measures_df, files_df=files_df,\n",
    "    seed=0, h5_directory='data', h5_prefix='localkey_811split', make_dfs=True, transpose_local=True\n",
    ")\n",
    "\n",
    "datasets['none']['train'], datasets['none']['valid'], datasets['none']['test'] = hid.get_train_valid_test_splits(\n",
    "    chords_df=chords_df, notes_df=notes_df, measures_df=measures_df, files_df=files_df,\n",
    "    seed=0, h5_directory='data', h5_prefix='811split', make_dfs=True\n",
    ")"
   ]
  },
  {
   "cell_type": "code",
   "execution_count": null,
   "metadata": {},
   "outputs": [],
   "source": [
    "import harmonic_inference_models as him\n",
    "import harmonic_utils\n",
    "import importlib\n",
    "importlib.reload(him)\n",
    "from ablation import get_masks_and_names\n",
    "import torch\n",
    "import os\n",
    "\n",
    "masks, mask_names = get_masks_and_names()\n",
    "dir_name = 'results'\n",
    "\n",
    "data = 'local'\n",
    "index = -1\n",
    "prefix = (data + '_') if data != 'none' else ''\n",
    "\n",
    "mask = torch.tensor(masks[index])\n",
    "mask_name = mask_names[index]\n",
    "checkpoint_dir = os.path.join(dir_name, prefix + mask_name)\n",
    "log_file_name = os.path.join(dir_name, prefix + mask_name + '.log')\n",
    "\n",
    "model = him.MusicScoreModel(len(datasets[data]['test'][0]['notes'][0]), len(harmonic_utils.CHORD_TYPES) * 12,\n",
    "                            dropout=0.2, input_mask=mask)\n",
    "\n",
    "print(mask_name)\n",
    "print(checkpoint_dir)"
   ]
  },
  {
   "cell_type": "code",
   "execution_count": null,
   "metadata": {},
   "outputs": [],
   "source": [
    "import os\n",
    "import model_trainer\n",
    "import importlib\n",
    "importlib.reload(model_trainer)\n",
    "\n",
    "from torch.optim import Adam\n",
    "from torch.nn import CrossEntropyLoss\n",
    "from torch.optim.lr_scheduler import ReduceLROnPlateau, StepLR\n",
    "\n",
    "optimizer = Adam(model.parameters(), lr=0.001, betas=(0.9, 0.999), eps=1e-08, weight_decay=0.001)\n",
    "criterion = CrossEntropyLoss()\n",
    "scheduler = ReduceLROnPlateau(optimizer, mode='min', factor=0.1, patience=10)\n",
    "schedule_var = 'valid_loss'\n",
    "\n",
    "trainer = model_trainer.ModelTrainer(model, train_dataset=datasets[data]['train'], valid_dataset=datasets[data]['valid'],\n",
    "                                     test_dataset=datasets[data]['test'], seed=0, num_epochs=100, early_stopping=20,\n",
    "                                     optimizer=optimizer, scheduler=scheduler, schedule_var=schedule_var,\n",
    "                                     criterion=criterion,\n",
    "                                     log_every=1, log_file_name=log_file_name,\n",
    "                                     save_every=10, save_dir=checkpoint_dir, save_prefix='checkpoint',\n",
    "                                     resume=os.path.join(checkpoint_dir, 'best.pth.tar'))"
   ]
  },
  {
   "cell_type": "code",
   "execution_count": null,
   "metadata": {},
   "outputs": [],
   "source": [
    "trainer.train()"
   ]
  },
  {
   "cell_type": "code",
   "execution_count": null,
   "metadata": {},
   "outputs": [],
   "source": [
    "trainer = model_trainer.ModelTrainer(model, train_dataset=datasets[data]['train'], valid_dataset=datasets[data]['valid'],\n",
    "                                     test_dataset=datasets[data]['test'], seed=0, num_epochs=100, early_stopping=20,\n",
    "                                     optimizer=optimizer, scheduler=scheduler, schedule_var=schedule_var,\n",
    "                                     criterion=criterion,\n",
    "                                     log_every=1, log_file_name=log_file_name,\n",
    "                                     save_every=10, save_dir=checkpoint_dir, save_prefix='checkpoint',\n",
    "                                     resume=os.path.join(checkpoint_dir, 'best.pth.tar'))\n",
    "\n",
    "loss, acc, outputs, labels = trainer.evaluate(valid=False)\n",
    "print(loss, acc)"
   ]
  },
  {
   "cell_type": "code",
   "execution_count": null,
   "metadata": {},
   "outputs": [],
   "source": [
    "import eval_utils as eu\n",
    "import harmonic_utils as hu\n",
    "import matplotlib.pyplot as plt\n",
    "\n",
    "label_strings = hu.get_one_hot_labels()\n",
    "conf_mat = eu.get_conf_mat(labels, outputs)\n",
    "\n",
    "plt.figure(figsize=(30,30))\n",
    "plt.imshow(conf_mat, interpolation='none')\n",
    "plt.colorbar()\n",
    "plt.xticks(ticks=list(range(len(label_strings))), labels=label_strings, rotation=90, fontsize=10)\n",
    "plt.yticks(ticks=list(range(len(label_strings))), labels=label_strings, fontsize=10)\n",
    "plt.show()"
   ]
  },
  {
   "cell_type": "code",
   "execution_count": null,
   "metadata": {},
   "outputs": [],
   "source": [
    "import eval_utils as eu\n",
    "\n",
    "correct, incorrect = eu.get_correct_and_incorrect_indexes(labels, outputs)\n",
    "print('Correct: ' + str(len(correct)))\n",
    "print('Incorrect: ' + str(len(incorrect)))"
   ]
  },
  {
   "cell_type": "code",
   "execution_count": null,
   "metadata": {},
   "outputs": [],
   "source": [
    "import eval_utils as eu\n",
    "    \n",
    "eu.print_result(incorrect[0], labels, outputs, limit=10, prob=False)"
   ]
  },
  {
   "cell_type": "code",
   "execution_count": null,
   "metadata": {},
   "outputs": [],
   "source": [
    "import eval_utils as eu\n",
    "\n",
    "chord, onset_notes, all_notes = eu.get_input_df_rows(incorrect[0], datasets[data]['test'])\n",
    "\n",
    "print(chord)\n",
    "print(\"USED NOTES:\")\n",
    "print(onset_notes)\n",
    "print()\n",
    "print(\"ALL NOTES:\")\n",
    "print(all_notes)"
   ]
  },
  {
   "cell_type": "code",
   "execution_count": null,
   "metadata": {},
   "outputs": [],
   "source": [
    "import matplotlib.pyplot as plt\n",
    "import eval_utils as eu\n",
    "\n",
    "correct_ranks, indexes_by_rank = eu.get_correct_ranks(labels, outputs)\n",
    "    \n",
    "plt.figure(figsize=(30,30))\n",
    "plt.bar(range(len(outputs[0])), [len(indexes) for indexes in indexes_by_rank])"
   ]
  },
  {
   "cell_type": "code",
   "execution_count": null,
   "metadata": {},
   "outputs": [],
   "source": [
    "import eval_utils as eu\n",
    "import importlib\n",
    "importlib.reload(eu)\n",
    "\n",
    "eval_df = eu.get_eval_df(labels, outputs, datasets[data]['test'])\n",
    "eval_df"
   ]
  },
  {
   "cell_type": "code",
   "execution_count": null,
   "metadata": {},
   "outputs": [],
   "source": [
    "import ablation\n",
    "import importlib\n",
    "importlib.reload(ablation)\n",
    "\n",
    "dfs = ablation.load_all_ablated_dfs(directory='results', prefix=prefix[:-1] if len(prefix) > 0 else None)\n",
    "_, mask_names = ablation.get_masks_and_names()"
   ]
  },
  {
   "cell_type": "code",
   "execution_count": null,
   "metadata": {},
   "outputs": [],
   "source": [
    "import pandas as pd\n",
    "import os\n",
    "\n",
    "logs = []\n",
    "for mask_name in mask_names:\n",
    "    logs.append(pd.read_csv(os.path.join(os.path.join('results', prefix + mask_name + '.log'))))"
   ]
  },
  {
   "cell_type": "code",
   "execution_count": null,
   "metadata": {},
   "outputs": [],
   "source": [
    "for df, log, mask_name in zip(dfs, logs, mask_names):\n",
    "    print(f\"{mask_name} Acc: {100 * df.correct.sum() / len(df)}\")\n",
    "    print(log.iloc[-1])"
   ]
  },
  {
   "cell_type": "code",
   "execution_count": null,
   "metadata": {},
   "outputs": [],
   "source": [
    "import eval_utils as eu\n",
    "\n",
    "global_df = eu.load_eval_df('results/global_no_ablation.csv')\n",
    "local_df = eu.load_eval_df('results/local_no_ablation.csv')\n",
    "none_df = eu.load_eval_df('results/no_ablation.csv')"
   ]
  },
  {
   "cell_type": "code",
   "execution_count": null,
   "metadata": {},
   "outputs": [],
   "source": [
    "global_df"
   ]
  },
  {
   "cell_type": "code",
   "execution_count": null,
   "metadata": {},
   "outputs": [],
   "source": [
    "global_counts = global_df.groupby(['correct_chord'])['correct'].agg(['mean', 'count']).sort_values('count', ascending=False)\n",
    "local_counts = local_df.groupby(['correct_chord'])['correct'].agg(['mean', 'count']).sort_values('count', ascending=False)\n",
    "none_counts = none_df.groupby(['correct_chord'])['correct'].agg(['mean', 'count']).sort_values('count', ascending=False)"
   ]
  },
  {
   "cell_type": "code",
   "execution_count": null,
   "metadata": {},
   "outputs": [],
   "source": [
    "import matplotlib.pyplot as plt\n",
    "\n",
    "plt.figure(figsize=(12,5))\n",
    "plt.scatter(global_counts['count'], global_counts['mean'], color='red', label='Global key')\n",
    "plt.scatter(local_counts['count'], local_counts['mean'], color='blue', label='Local key')\n",
    "plt.scatter(none_counts['count'], none_counts['mean'], color='yellow', label='No transposition')\n",
    "plt.title('Global key transposed')\n",
    "plt.xlabel('Count')\n",
    "plt.ylabel('Accuracy')\n",
    "plt.legend()\n",
    "plt.show()"
   ]
  },
  {
   "cell_type": "code",
   "execution_count": null,
   "metadata": {},
   "outputs": [],
   "source": []
  }
 ],
 "metadata": {
  "kernelspec": {
   "display_name": "Python 3",
   "language": "python",
   "name": "python3"
  },
  "language_info": {
   "codemirror_mode": {
    "name": "ipython",
    "version": 3
   },
   "file_extension": ".py",
   "mimetype": "text/x-python",
   "name": "python",
   "nbconvert_exporter": "python",
   "pygments_lexer": "ipython3",
   "version": "3.8.3-final"
  }
 },
 "nbformat": 4,
 "nbformat_minor": 4
}