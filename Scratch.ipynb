{
 "cells": [
  {
   "cell_type": "code",
   "execution_count": null,
   "metadata": {},
   "outputs": [],
   "source": [
    "import pandas as pd\n",
    "import numpy as np"
   ]
  },
  {
   "cell_type": "code",
   "execution_count": null,
   "metadata": {},
   "outputs": [],
   "source": [
    "from corpus_reading import read_dump\n",
    "\n",
    "chords_tsv = 'data/chord_list.tsv'\n",
    "notes_tsv = 'data/note_list.tsv'\n",
    "measures_tsv = 'data/measure_list.tsv'\n",
    "files_tsv = 'data/file_list.tsv'\n",
    "\n",
    "chords_df = read_dump(chords_tsv)\n",
    "notes_df = read_dump(notes_tsv, index_col=[0,1,2])\n",
    "measures_df = read_dump(measures_tsv)\n",
    "files_df = read_dump(files_tsv, index_col=0)\n",
    "\n",
    "# Bugfixes\n",
    "measures_df.loc[(685, 487), 'next'][0] = 488"
   ]
  },
  {
   "cell_type": "code",
   "execution_count": null,
   "metadata": {},
   "outputs": [],
   "source": [
    "files_df"
   ]
  },
  {
   "cell_type": "code",
   "execution_count": null,
   "metadata": {},
   "outputs": [],
   "source": [
    "chords_df"
   ]
  },
  {
   "cell_type": "code",
   "execution_count": null,
   "metadata": {},
   "outputs": [],
   "source": [
    "measures_df"
   ]
  },
  {
   "cell_type": "code",
   "execution_count": null,
   "metadata": {},
   "outputs": [],
   "source": [
    "notes_df"
   ]
  },
  {
   "cell_type": "code",
   "execution_count": null,
   "metadata": {},
   "outputs": [],
   "source": [
    "import harmonic_inference_data as hid\n",
    "import importlib\n",
    "importlib.reload(hid)\n",
    "\n",
    "train_dataset, valid_dataset, test_dataset = hid.get_train_valid_test_splits(\n",
    "    chords_df=chords_df, notes_df=notes_df, measures_df=measures_df, files_df=files_df,\n",
    "    seed=0, h5_directory='data', h5_prefix='811split'\n",
    ")"
   ]
  },
  {
   "cell_type": "code",
   "execution_count": null,
   "metadata": {},
   "outputs": [],
   "source": [
    "import harmonic_inference_models as him\n",
    "import harmonic_utils\n",
    "import importlib\n",
    "importlib.reload(him)\n",
    "\n",
    "model = him.MusicScoreModel(len(train_dataset[0]['notes'][0]), len(harmonic_utils.CHORD_TYPES) * 12)"
   ]
  },
  {
   "cell_type": "code",
   "execution_count": null,
   "metadata": {},
   "outputs": [],
   "source": [
    "import model_trainer\n",
    "import importlib\n",
    "importlib.reload(model_trainer)\n",
    "\n",
    "from torch.optim import Adam\n",
    "from torch.nn import CrossEntropyLoss\n",
    "from torch.optim.lr_scheduler import ReduceLROnPlateau, StepLR\n",
    "\n",
    "optimizer = Adam(model.parameters(), lr=0.001, betas=(0.9, 0.999), eps=1e-08, weight_decay=0.001)\n",
    "criterion = CrossEntropyLoss()\n",
    "scheduler = ReduceLROnPlateau(optimizer, mode='min', factor=0.1, patience=10)\n",
    "schedule_var = 'valid_loss'\n",
    "\n",
    "trainer = model_trainer.ModelTrainer(model, train_dataset=train_dataset, valid_dataset=valid_dataset,\n",
    "                                     test_dataset=test_dataset, seed=0, num_epochs=100, early_stopping=20,\n",
    "                                     optimizer=optimizer, scheduler=scheduler, schedule_var=schedule_var,\n",
    "                                     criterion=criterion,\n",
    "                                     log_every=1, log_file=None,\n",
    "                                     save_every=10, save_dir='checkpoints', save_prefix='checkpoint',\n",
    "                                     resume=None)"
   ]
  },
  {
   "cell_type": "code",
   "execution_count": null,
   "metadata": {},
   "outputs": [],
   "source": [
    "trainer.train()"
   ]
  },
  {
   "cell_type": "code",
   "execution_count": null,
   "metadata": {},
   "outputs": [],
   "source": []
  }
 ],
 "metadata": {
  "kernelspec": {
   "display_name": "Python 3",
   "language": "python",
   "name": "python3"
  },
  "language_info": {
   "codemirror_mode": {
    "name": "ipython",
    "version": 3
   },
   "file_extension": ".py",
   "mimetype": "text/x-python",
   "name": "python",
   "nbconvert_exporter": "python",
   "pygments_lexer": "ipython3",
   "version": "3.8.2"
  }
 },
 "nbformat": 4,
 "nbformat_minor": 4
}
