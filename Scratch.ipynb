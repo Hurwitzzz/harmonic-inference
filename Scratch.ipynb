{
 "cells": [
  {
   "cell_type": "code",
   "execution_count": 1,
   "metadata": {},
   "outputs": [],
   "source": [
    "import pandas as pd\n",
    "import numpy as np"
   ]
  },
  {
   "cell_type": "code",
   "execution_count": null,
   "metadata": {
    "tags": []
   },
   "outputs": [],
   "source": [
    "from harmonic_inference.data.corpus_reading import aggregate_annotation_dfs\n",
    "from pathlib import Path\n",
    "\n",
    "ANNOTATIONS_PATH = Path('../corpora/annotations')\n",
    "OUT_DIR = Path('corpus_data')\n",
    "\n",
    "aggregate_annotation_dfs(ANNOTATIONS_PATH, OUT_DIR)"
   ]
  },
  {
   "cell_type": "code",
   "execution_count": 39,
   "metadata": {},
   "outputs": [],
   "source": [
    "from harmonic_inference.data.corpus_reading import read_dump\n",
    "from pathlib import Path\n",
    "\n",
    "files_df = read_dump(Path('corpus_data', 'files.tsv'), index_col=0)\n",
    "measures_df = read_dump(Path('corpus_data', 'measures.tsv'))\n",
    "chords_df = read_dump(Path('corpus_data', 'chords.tsv'))\n",
    "notes_df = read_dump(Path('corpus_data', 'notes.tsv'))"
   ]
  },
  {
   "cell_type": "code",
   "execution_count": 47,
   "metadata": {
    "tags": []
   },
   "outputs": [],
   "source": [
    "from harmonic_inference.utils import corpus_utils as cu\n",
    "import importlib\n",
    "importlib.reload(cu)\n",
    "\n",
    "# Remove measure repeats\n",
    "if isinstance(measures_df.iloc[0].next, tuple):\n",
    "    measures_df = cu.remove_repeats(measures_df)\n",
    "\n",
    "# Add offsets\n",
    "if not all([column in notes_df.columns for column in ['offset_beat', 'offset_mc']]):\n",
    "    notes_df = cu.add_note_offsets(notes_df, measures_df)\n",
    "\n",
    "# Merge ties\n",
    "#notes_df = cu.merge_ties(notes_df, measures=measures_df)\n",
    "\n",
    "# Add chord metrical info\n",
    "#chords_df = cu.add_chord_metrical_data(chords_df, measures_df)"
   ]
  },
  {
   "cell_type": "code",
   "execution_count": 48,
   "metadata": {},
   "outputs": [
    {
     "output_type": "execute_result",
     "data": {
      "text/plain": "        corpus_name                        file_name\n0       Bach-Suites            BWV806_01_Prélude.tsv\n1       Bach-Suites          BWV806_02_Allemande.tsv\n2       Bach-Suites         BWV806_03_Courante_I.tsv\n3       Bach-Suites        BWV806_04_Courante_II.tsv\n4       Bach-Suites           BWV806_05_Double_I.tsv\n..              ...                              ...\n744  WFBach-Sonatas     Bach_WF_F02_Sonate_C-Dur.tsv\n745  WFBach-Sonatas     Bach_WF_F03_Sonate_D-Dur.tsv\n746  WFBach-Sonatas  Bach_WF_F03_Sonate_D-Dur_01.tsv\n747  WFBach-Sonatas  Bach_WF_F03_Sonate_D-Dur_02.tsv\n748  WFBach-Sonatas  Bach_WF_F03_Sonate_D-Dur_03.tsv\n\n[749 rows x 2 columns]",
      "text/html": "<div>\n<style scoped>\n    .dataframe tbody tr th:only-of-type {\n        vertical-align: middle;\n    }\n\n    .dataframe tbody tr th {\n        vertical-align: top;\n    }\n\n    .dataframe thead th {\n        text-align: right;\n    }\n</style>\n<table border=\"1\" class=\"dataframe\">\n  <thead>\n    <tr style=\"text-align: right;\">\n      <th></th>\n      <th>corpus_name</th>\n      <th>file_name</th>\n    </tr>\n  </thead>\n  <tbody>\n    <tr>\n      <th>0</th>\n      <td>Bach-Suites</td>\n      <td>BWV806_01_Prélude.tsv</td>\n    </tr>\n    <tr>\n      <th>1</th>\n      <td>Bach-Suites</td>\n      <td>BWV806_02_Allemande.tsv</td>\n    </tr>\n    <tr>\n      <th>2</th>\n      <td>Bach-Suites</td>\n      <td>BWV806_03_Courante_I.tsv</td>\n    </tr>\n    <tr>\n      <th>3</th>\n      <td>Bach-Suites</td>\n      <td>BWV806_04_Courante_II.tsv</td>\n    </tr>\n    <tr>\n      <th>4</th>\n      <td>Bach-Suites</td>\n      <td>BWV806_05_Double_I.tsv</td>\n    </tr>\n    <tr>\n      <th>...</th>\n      <td>...</td>\n      <td>...</td>\n    </tr>\n    <tr>\n      <th>744</th>\n      <td>WFBach-Sonatas</td>\n      <td>Bach_WF_F02_Sonate_C-Dur.tsv</td>\n    </tr>\n    <tr>\n      <th>745</th>\n      <td>WFBach-Sonatas</td>\n      <td>Bach_WF_F03_Sonate_D-Dur.tsv</td>\n    </tr>\n    <tr>\n      <th>746</th>\n      <td>WFBach-Sonatas</td>\n      <td>Bach_WF_F03_Sonate_D-Dur_01.tsv</td>\n    </tr>\n    <tr>\n      <th>747</th>\n      <td>WFBach-Sonatas</td>\n      <td>Bach_WF_F03_Sonate_D-Dur_02.tsv</td>\n    </tr>\n    <tr>\n      <th>748</th>\n      <td>WFBach-Sonatas</td>\n      <td>Bach_WF_F03_Sonate_D-Dur_03.tsv</td>\n    </tr>\n  </tbody>\n</table>\n<p>749 rows × 2 columns</p>\n</div>"
     },
     "metadata": {},
     "execution_count": 48
    }
   ],
   "source": [
    "files_df"
   ]
  },
  {
   "cell_type": "code",
   "execution_count": 49,
   "metadata": {},
   "outputs": [
    {
     "output_type": "execute_result",
     "data": {
      "text/plain": "                   mc   mn  onset          label alt_label globalkey localkey  \\\nfile_id chord_id                                                                \n90      158        51   50      0  empty_harmony       NaN         F        I   \n93      119        54   54      0  empty_harmony       NaN         C        V   \n        217       109  108   9/16              ]       NaN         C       II   \n        367       178  177      0           V[\\\\       NaN         C        i   \n        369       178  177  15/16             /V       NaN         C        i   \n...               ...  ...    ...            ...       ...       ...      ...   \n748     430       110  110    1/6          V7/IV       NaN       NaN      NaN   \n        431       110  110    1/4             IV       NaN       NaN      NaN   \n        432       110  110    1/3             ii       NaN       NaN      NaN   \n        433       110  110   5/12              V       NaN       NaN      NaN   \n        434       110  110    1/2           I]\\\\       NaN       NaN      NaN   \n\n                 pedal chord numeral  ... phraseend chord_type  \\\nfile_id chord_id                      ...                        \n90      158        NaN   NaN     NaN  ...       NaN        NaN   \n93      119        NaN   NaN     NaN  ...       NaN        NaN   \n        217        VII   NaN     NaN  ...       NaN        NaN   \n        367          V   NaN     NaN  ...       NaN        NaN   \n        369          V   NaN     NaN  ...       NaN        NaN   \n...                ...   ...     ...  ...       ...        ...   \n748     430        NaN   NaN     NaN  ...       NaN        NaN   \n        431        NaN   NaN     NaN  ...       NaN        NaN   \n        432        NaN   NaN     NaN  ...       NaN        NaN   \n        433        NaN   NaN     NaN  ...       NaN        NaN   \n        434        NaN   NaN     NaN  ...       NaN        NaN   \n\n                 globalkey_is_minor localkey_is_minor chord_tones added_tones  \\\nfile_id chord_id                                                                \n90      158                   False             False          ()          ()   \n93      119                   False             False          ()          ()   \n        217                   False             False          ()          ()   \n        367                   False              True          ()          ()   \n        369                   False              True          ()          ()   \n...                             ...               ...         ...         ...   \n748     430                                                    ()          ()   \n        431                                                    ()          ()   \n        432                                                    ()          ()   \n        433                                                    ()          ()   \n        434                                                    ()          ()   \n\n                  root bass_note volta special  \nfile_id chord_id                                \n90      158       <NA>      <NA>  <NA>     NaN  \n93      119       <NA>      <NA>  <NA>     NaN  \n        217       <NA>      <NA>  <NA>     NaN  \n        367       <NA>      <NA>  <NA>     NaN  \n        369       <NA>      <NA>  <NA>     NaN  \n...                ...       ...   ...     ...  \n748     430       <NA>      <NA>  <NA>     NaN  \n        431       <NA>      <NA>  <NA>     NaN  \n        432       <NA>      <NA>  <NA>     NaN  \n        433       <NA>      <NA>  <NA>     NaN  \n        434       <NA>      <NA>  <NA>     NaN  \n\n[2122 rows x 24 columns]",
      "text/html": "<div>\n<style scoped>\n    .dataframe tbody tr th:only-of-type {\n        vertical-align: middle;\n    }\n\n    .dataframe tbody tr th {\n        vertical-align: top;\n    }\n\n    .dataframe thead th {\n        text-align: right;\n    }\n</style>\n<table border=\"1\" class=\"dataframe\">\n  <thead>\n    <tr style=\"text-align: right;\">\n      <th></th>\n      <th></th>\n      <th>mc</th>\n      <th>mn</th>\n      <th>onset</th>\n      <th>label</th>\n      <th>alt_label</th>\n      <th>globalkey</th>\n      <th>localkey</th>\n      <th>pedal</th>\n      <th>chord</th>\n      <th>numeral</th>\n      <th>...</th>\n      <th>phraseend</th>\n      <th>chord_type</th>\n      <th>globalkey_is_minor</th>\n      <th>localkey_is_minor</th>\n      <th>chord_tones</th>\n      <th>added_tones</th>\n      <th>root</th>\n      <th>bass_note</th>\n      <th>volta</th>\n      <th>special</th>\n    </tr>\n    <tr>\n      <th>file_id</th>\n      <th>chord_id</th>\n      <th></th>\n      <th></th>\n      <th></th>\n      <th></th>\n      <th></th>\n      <th></th>\n      <th></th>\n      <th></th>\n      <th></th>\n      <th></th>\n      <th></th>\n      <th></th>\n      <th></th>\n      <th></th>\n      <th></th>\n      <th></th>\n      <th></th>\n      <th></th>\n      <th></th>\n      <th></th>\n      <th></th>\n    </tr>\n  </thead>\n  <tbody>\n    <tr>\n      <th>90</th>\n      <th>158</th>\n      <td>51</td>\n      <td>50</td>\n      <td>0</td>\n      <td>empty_harmony</td>\n      <td>NaN</td>\n      <td>F</td>\n      <td>I</td>\n      <td>NaN</td>\n      <td>NaN</td>\n      <td>NaN</td>\n      <td>...</td>\n      <td>NaN</td>\n      <td>NaN</td>\n      <td>False</td>\n      <td>False</td>\n      <td>()</td>\n      <td>()</td>\n      <td>&lt;NA&gt;</td>\n      <td>&lt;NA&gt;</td>\n      <td>&lt;NA&gt;</td>\n      <td>NaN</td>\n    </tr>\n    <tr>\n      <th rowspan=\"4\" valign=\"top\">93</th>\n      <th>119</th>\n      <td>54</td>\n      <td>54</td>\n      <td>0</td>\n      <td>empty_harmony</td>\n      <td>NaN</td>\n      <td>C</td>\n      <td>V</td>\n      <td>NaN</td>\n      <td>NaN</td>\n      <td>NaN</td>\n      <td>...</td>\n      <td>NaN</td>\n      <td>NaN</td>\n      <td>False</td>\n      <td>False</td>\n      <td>()</td>\n      <td>()</td>\n      <td>&lt;NA&gt;</td>\n      <td>&lt;NA&gt;</td>\n      <td>&lt;NA&gt;</td>\n      <td>NaN</td>\n    </tr>\n    <tr>\n      <th>217</th>\n      <td>109</td>\n      <td>108</td>\n      <td>9/16</td>\n      <td>]</td>\n      <td>NaN</td>\n      <td>C</td>\n      <td>II</td>\n      <td>VII</td>\n      <td>NaN</td>\n      <td>NaN</td>\n      <td>...</td>\n      <td>NaN</td>\n      <td>NaN</td>\n      <td>False</td>\n      <td>False</td>\n      <td>()</td>\n      <td>()</td>\n      <td>&lt;NA&gt;</td>\n      <td>&lt;NA&gt;</td>\n      <td>&lt;NA&gt;</td>\n      <td>NaN</td>\n    </tr>\n    <tr>\n      <th>367</th>\n      <td>178</td>\n      <td>177</td>\n      <td>0</td>\n      <td>V[\\\\</td>\n      <td>NaN</td>\n      <td>C</td>\n      <td>i</td>\n      <td>V</td>\n      <td>NaN</td>\n      <td>NaN</td>\n      <td>...</td>\n      <td>NaN</td>\n      <td>NaN</td>\n      <td>False</td>\n      <td>True</td>\n      <td>()</td>\n      <td>()</td>\n      <td>&lt;NA&gt;</td>\n      <td>&lt;NA&gt;</td>\n      <td>&lt;NA&gt;</td>\n      <td>NaN</td>\n    </tr>\n    <tr>\n      <th>369</th>\n      <td>178</td>\n      <td>177</td>\n      <td>15/16</td>\n      <td>/V</td>\n      <td>NaN</td>\n      <td>C</td>\n      <td>i</td>\n      <td>V</td>\n      <td>NaN</td>\n      <td>NaN</td>\n      <td>...</td>\n      <td>NaN</td>\n      <td>NaN</td>\n      <td>False</td>\n      <td>True</td>\n      <td>()</td>\n      <td>()</td>\n      <td>&lt;NA&gt;</td>\n      <td>&lt;NA&gt;</td>\n      <td>&lt;NA&gt;</td>\n      <td>NaN</td>\n    </tr>\n    <tr>\n      <th>...</th>\n      <th>...</th>\n      <td>...</td>\n      <td>...</td>\n      <td>...</td>\n      <td>...</td>\n      <td>...</td>\n      <td>...</td>\n      <td>...</td>\n      <td>...</td>\n      <td>...</td>\n      <td>...</td>\n      <td>...</td>\n      <td>...</td>\n      <td>...</td>\n      <td>...</td>\n      <td>...</td>\n      <td>...</td>\n      <td>...</td>\n      <td>...</td>\n      <td>...</td>\n      <td>...</td>\n      <td>...</td>\n    </tr>\n    <tr>\n      <th rowspan=\"5\" valign=\"top\">748</th>\n      <th>430</th>\n      <td>110</td>\n      <td>110</td>\n      <td>1/6</td>\n      <td>V7/IV</td>\n      <td>NaN</td>\n      <td>NaN</td>\n      <td>NaN</td>\n      <td>NaN</td>\n      <td>NaN</td>\n      <td>NaN</td>\n      <td>...</td>\n      <td>NaN</td>\n      <td>NaN</td>\n      <td></td>\n      <td></td>\n      <td>()</td>\n      <td>()</td>\n      <td>&lt;NA&gt;</td>\n      <td>&lt;NA&gt;</td>\n      <td>&lt;NA&gt;</td>\n      <td>NaN</td>\n    </tr>\n    <tr>\n      <th>431</th>\n      <td>110</td>\n      <td>110</td>\n      <td>1/4</td>\n      <td>IV</td>\n      <td>NaN</td>\n      <td>NaN</td>\n      <td>NaN</td>\n      <td>NaN</td>\n      <td>NaN</td>\n      <td>NaN</td>\n      <td>...</td>\n      <td>NaN</td>\n      <td>NaN</td>\n      <td></td>\n      <td></td>\n      <td>()</td>\n      <td>()</td>\n      <td>&lt;NA&gt;</td>\n      <td>&lt;NA&gt;</td>\n      <td>&lt;NA&gt;</td>\n      <td>NaN</td>\n    </tr>\n    <tr>\n      <th>432</th>\n      <td>110</td>\n      <td>110</td>\n      <td>1/3</td>\n      <td>ii</td>\n      <td>NaN</td>\n      <td>NaN</td>\n      <td>NaN</td>\n      <td>NaN</td>\n      <td>NaN</td>\n      <td>NaN</td>\n      <td>...</td>\n      <td>NaN</td>\n      <td>NaN</td>\n      <td></td>\n      <td></td>\n      <td>()</td>\n      <td>()</td>\n      <td>&lt;NA&gt;</td>\n      <td>&lt;NA&gt;</td>\n      <td>&lt;NA&gt;</td>\n      <td>NaN</td>\n    </tr>\n    <tr>\n      <th>433</th>\n      <td>110</td>\n      <td>110</td>\n      <td>5/12</td>\n      <td>V</td>\n      <td>NaN</td>\n      <td>NaN</td>\n      <td>NaN</td>\n      <td>NaN</td>\n      <td>NaN</td>\n      <td>NaN</td>\n      <td>...</td>\n      <td>NaN</td>\n      <td>NaN</td>\n      <td></td>\n      <td></td>\n      <td>()</td>\n      <td>()</td>\n      <td>&lt;NA&gt;</td>\n      <td>&lt;NA&gt;</td>\n      <td>&lt;NA&gt;</td>\n      <td>NaN</td>\n    </tr>\n    <tr>\n      <th>434</th>\n      <td>110</td>\n      <td>110</td>\n      <td>1/2</td>\n      <td>I]\\\\</td>\n      <td>NaN</td>\n      <td>NaN</td>\n      <td>NaN</td>\n      <td>NaN</td>\n      <td>NaN</td>\n      <td>NaN</td>\n      <td>...</td>\n      <td>NaN</td>\n      <td>NaN</td>\n      <td></td>\n      <td></td>\n      <td>()</td>\n      <td>()</td>\n      <td>&lt;NA&gt;</td>\n      <td>&lt;NA&gt;</td>\n      <td>&lt;NA&gt;</td>\n      <td>NaN</td>\n    </tr>\n  </tbody>\n</table>\n<p>2122 rows × 24 columns</p>\n</div>"
     },
     "metadata": {},
     "execution_count": 49
    }
   ],
   "source": [
    "chords_df.loc[(chords_df.numeral == '@none') | chords_df.numeral.isnull()]"
   ]
  },
  {
   "cell_type": "code",
   "execution_count": 19,
   "metadata": {},
   "outputs": [
    {
     "output_type": "error",
     "ename": "AttributeError",
     "evalue": "'DataFrame' object has no attribute 'mc_next'",
     "traceback": [
      "\u001b[0;31m---------------------------------------------------------------------------\u001b[0m",
      "\u001b[0;31mAttributeError\u001b[0m                            Traceback (most recent call last)",
      "\u001b[0;32m<ipython-input-19-93b47a0ec496>\u001b[0m in \u001b[0;36m<module>\u001b[0;34m\u001b[0m\n\u001b[0;32m----> 1\u001b[0;31m \u001b[0mchords_df\u001b[0m\u001b[0;34m.\u001b[0m\u001b[0mloc\u001b[0m\u001b[0;34m[\u001b[0m\u001b[0;36m748\u001b[0m\u001b[0;34m]\u001b[0m\u001b[0;34m.\u001b[0m\u001b[0mloc\u001b[0m\u001b[0;34m[\u001b[0m\u001b[0mchords_df\u001b[0m\u001b[0;34m.\u001b[0m\u001b[0mloc\u001b[0m\u001b[0;34m[\u001b[0m\u001b[0;36m748\u001b[0m\u001b[0;34m]\u001b[0m\u001b[0;34m.\u001b[0m\u001b[0mmc_next\u001b[0m \u001b[0;34m==\u001b[0m \u001b[0;36m45\u001b[0m\u001b[0;34m]\u001b[0m\u001b[0;34m\u001b[0m\u001b[0;34m\u001b[0m\u001b[0m\n\u001b[0m",
      "\u001b[0;32m~/anaconda3/envs/harmony/lib/python3.8/site-packages/pandas/core/generic.py\u001b[0m in \u001b[0;36m__getattr__\u001b[0;34m(self, name)\u001b[0m\n\u001b[1;32m   5272\u001b[0m             \u001b[0;32mif\u001b[0m \u001b[0mself\u001b[0m\u001b[0;34m.\u001b[0m\u001b[0m_info_axis\u001b[0m\u001b[0;34m.\u001b[0m\u001b[0m_can_hold_identifiers_and_holds_name\u001b[0m\u001b[0;34m(\u001b[0m\u001b[0mname\u001b[0m\u001b[0;34m)\u001b[0m\u001b[0;34m:\u001b[0m\u001b[0;34m\u001b[0m\u001b[0;34m\u001b[0m\u001b[0m\n\u001b[1;32m   5273\u001b[0m                 \u001b[0;32mreturn\u001b[0m \u001b[0mself\u001b[0m\u001b[0;34m[\u001b[0m\u001b[0mname\u001b[0m\u001b[0;34m]\u001b[0m\u001b[0;34m\u001b[0m\u001b[0;34m\u001b[0m\u001b[0m\n\u001b[0;32m-> 5274\u001b[0;31m             \u001b[0;32mreturn\u001b[0m \u001b[0mobject\u001b[0m\u001b[0;34m.\u001b[0m\u001b[0m__getattribute__\u001b[0m\u001b[0;34m(\u001b[0m\u001b[0mself\u001b[0m\u001b[0;34m,\u001b[0m \u001b[0mname\u001b[0m\u001b[0;34m)\u001b[0m\u001b[0;34m\u001b[0m\u001b[0;34m\u001b[0m\u001b[0m\n\u001b[0m\u001b[1;32m   5275\u001b[0m \u001b[0;34m\u001b[0m\u001b[0m\n\u001b[1;32m   5276\u001b[0m     \u001b[0;32mdef\u001b[0m \u001b[0m__setattr__\u001b[0m\u001b[0;34m(\u001b[0m\u001b[0mself\u001b[0m\u001b[0;34m,\u001b[0m \u001b[0mname\u001b[0m\u001b[0;34m:\u001b[0m \u001b[0mstr\u001b[0m\u001b[0;34m,\u001b[0m \u001b[0mvalue\u001b[0m\u001b[0;34m)\u001b[0m \u001b[0;34m->\u001b[0m \u001b[0;32mNone\u001b[0m\u001b[0;34m:\u001b[0m\u001b[0;34m\u001b[0m\u001b[0;34m\u001b[0m\u001b[0m\n",
      "\u001b[0;31mAttributeError\u001b[0m: 'DataFrame' object has no attribute 'mc_next'"
     ]
    }
   ],
   "source": [
    "chords_df.loc[748].loc[chords_df.loc[748].mc_next == 45]"
   ]
  },
  {
   "cell_type": "code",
   "execution_count": 50,
   "metadata": {},
   "outputs": [
    {
     "output_type": "execute_result",
     "data": {
      "text/plain": "            mc  mn  keysig timesig act_dur offset      repeats  volta  \\\nmeasure_id                                                              \n42          43  43       2     2/2     3/4      0    endRepeat   <NA>   \n43          44  44       2     2/2     3/8    3/4  startRepeat   <NA>   \n44          45  45       2     2/2       1      0          NaN   <NA>   \n\n                 barline  numbering_offset  dont_count next  \nmeasure_id                                                   \n42                   NaN              <NA>        <NA>   44  \n43          start-repeat              <NA>        <NA>   45  \n44                   NaN              <NA>        <NA>   46  ",
      "text/html": "<div>\n<style scoped>\n    .dataframe tbody tr th:only-of-type {\n        vertical-align: middle;\n    }\n\n    .dataframe tbody tr th {\n        vertical-align: top;\n    }\n\n    .dataframe thead th {\n        text-align: right;\n    }\n</style>\n<table border=\"1\" class=\"dataframe\">\n  <thead>\n    <tr style=\"text-align: right;\">\n      <th></th>\n      <th>mc</th>\n      <th>mn</th>\n      <th>keysig</th>\n      <th>timesig</th>\n      <th>act_dur</th>\n      <th>offset</th>\n      <th>repeats</th>\n      <th>volta</th>\n      <th>barline</th>\n      <th>numbering_offset</th>\n      <th>dont_count</th>\n      <th>next</th>\n    </tr>\n    <tr>\n      <th>measure_id</th>\n      <th></th>\n      <th></th>\n      <th></th>\n      <th></th>\n      <th></th>\n      <th></th>\n      <th></th>\n      <th></th>\n      <th></th>\n      <th></th>\n      <th></th>\n      <th></th>\n    </tr>\n  </thead>\n  <tbody>\n    <tr>\n      <th>42</th>\n      <td>43</td>\n      <td>43</td>\n      <td>2</td>\n      <td>2/2</td>\n      <td>3/4</td>\n      <td>0</td>\n      <td>endRepeat</td>\n      <td>&lt;NA&gt;</td>\n      <td>NaN</td>\n      <td>&lt;NA&gt;</td>\n      <td>&lt;NA&gt;</td>\n      <td>44</td>\n    </tr>\n    <tr>\n      <th>43</th>\n      <td>44</td>\n      <td>44</td>\n      <td>2</td>\n      <td>2/2</td>\n      <td>3/8</td>\n      <td>3/4</td>\n      <td>startRepeat</td>\n      <td>&lt;NA&gt;</td>\n      <td>start-repeat</td>\n      <td>&lt;NA&gt;</td>\n      <td>&lt;NA&gt;</td>\n      <td>45</td>\n    </tr>\n    <tr>\n      <th>44</th>\n      <td>45</td>\n      <td>45</td>\n      <td>2</td>\n      <td>2/2</td>\n      <td>1</td>\n      <td>0</td>\n      <td>NaN</td>\n      <td>&lt;NA&gt;</td>\n      <td>NaN</td>\n      <td>&lt;NA&gt;</td>\n      <td>&lt;NA&gt;</td>\n      <td>46</td>\n    </tr>\n  </tbody>\n</table>\n</div>"
     },
     "metadata": {},
     "execution_count": 50
    }
   ],
   "source": [
    "measures_df.loc[748].loc[measures_df.loc[748].mc.isin([43, 44, 45])]"
   ]
  },
  {
   "cell_type": "code",
   "execution_count": 51,
   "metadata": {},
   "outputs": [
    {
     "output_type": "execute_result",
     "data": {
      "text/plain": "                         label         chord numeral relativeroot\nfile_id chord_id                                                 \n93      307         viio6/V/IV    viio6/V/IV     vii         V/IV\n        314          viio/V/II     viio/V/II     vii         V/II\n97      459            .Fr6/iv        Fr6/iv       V         V/iv\n        460           .Ger6/iv       Ger6/iv     vii         V/iv\n        461            .It6/iv        It6/iv     vii         V/iv\n...                        ...           ...     ...          ...\n747     187           V6/V/III      V6/V/III       V        V/III\n        188          V65/V/III     V65/V/III       V        V/III\n        229       #viio7/V/III  #viio7/V/III    #vii        V/III\n        230           V6/V/III      V6/V/III       V        V/III\n        231          V65/V/III     V65/V/III       V        V/III\n\n[269 rows x 4 columns]",
      "text/html": "<div>\n<style scoped>\n    .dataframe tbody tr th:only-of-type {\n        vertical-align: middle;\n    }\n\n    .dataframe tbody tr th {\n        vertical-align: top;\n    }\n\n    .dataframe thead th {\n        text-align: right;\n    }\n</style>\n<table border=\"1\" class=\"dataframe\">\n  <thead>\n    <tr style=\"text-align: right;\">\n      <th></th>\n      <th></th>\n      <th>label</th>\n      <th>chord</th>\n      <th>numeral</th>\n      <th>relativeroot</th>\n    </tr>\n    <tr>\n      <th>file_id</th>\n      <th>chord_id</th>\n      <th></th>\n      <th></th>\n      <th></th>\n      <th></th>\n    </tr>\n  </thead>\n  <tbody>\n    <tr>\n      <th rowspan=\"2\" valign=\"top\">93</th>\n      <th>307</th>\n      <td>viio6/V/IV</td>\n      <td>viio6/V/IV</td>\n      <td>vii</td>\n      <td>V/IV</td>\n    </tr>\n    <tr>\n      <th>314</th>\n      <td>viio/V/II</td>\n      <td>viio/V/II</td>\n      <td>vii</td>\n      <td>V/II</td>\n    </tr>\n    <tr>\n      <th rowspan=\"3\" valign=\"top\">97</th>\n      <th>459</th>\n      <td>.Fr6/iv</td>\n      <td>Fr6/iv</td>\n      <td>V</td>\n      <td>V/iv</td>\n    </tr>\n    <tr>\n      <th>460</th>\n      <td>.Ger6/iv</td>\n      <td>Ger6/iv</td>\n      <td>vii</td>\n      <td>V/iv</td>\n    </tr>\n    <tr>\n      <th>461</th>\n      <td>.It6/iv</td>\n      <td>It6/iv</td>\n      <td>vii</td>\n      <td>V/iv</td>\n    </tr>\n    <tr>\n      <th>...</th>\n      <th>...</th>\n      <td>...</td>\n      <td>...</td>\n      <td>...</td>\n      <td>...</td>\n    </tr>\n    <tr>\n      <th rowspan=\"5\" valign=\"top\">747</th>\n      <th>187</th>\n      <td>V6/V/III</td>\n      <td>V6/V/III</td>\n      <td>V</td>\n      <td>V/III</td>\n    </tr>\n    <tr>\n      <th>188</th>\n      <td>V65/V/III</td>\n      <td>V65/V/III</td>\n      <td>V</td>\n      <td>V/III</td>\n    </tr>\n    <tr>\n      <th>229</th>\n      <td>#viio7/V/III</td>\n      <td>#viio7/V/III</td>\n      <td>#vii</td>\n      <td>V/III</td>\n    </tr>\n    <tr>\n      <th>230</th>\n      <td>V6/V/III</td>\n      <td>V6/V/III</td>\n      <td>V</td>\n      <td>V/III</td>\n    </tr>\n    <tr>\n      <th>231</th>\n      <td>V65/V/III</td>\n      <td>V65/V/III</td>\n      <td>V</td>\n      <td>V/III</td>\n    </tr>\n  </tbody>\n</table>\n<p>269 rows × 4 columns</p>\n</div>"
     },
     "metadata": {},
     "execution_count": 51
    }
   ],
   "source": [
    "chords_df.loc[~chords_df.relativeroot.isnull() & chords_df.relativeroot.str.contains('/')].loc[:, ['label', 'chord', 'numeral','relativeroot']]"
   ]
  },
  {
   "cell_type": "code",
   "execution_count": 52,
   "metadata": {},
   "outputs": [
    {
     "output_type": "execute_result",
     "data": {
      "text/plain": "            mc  mn  keysig timesig act_dur offset       repeats  volta  \\\nmeasure_id                                                               \n0            1   0       3     4/4    1/16  15/16  firstMeasure   <NA>   \n1            2   1       3     4/4       1      0           NaN   <NA>   \n2            3   2       3     4/4       1      0           NaN   <NA>   \n3            4   3       3     4/4       1      0           NaN   <NA>   \n4            5   4       3     4/4       1      0           NaN   <NA>   \n5            6   5       3     4/4       1      0           NaN   <NA>   \n6            7   6       3     4/4       1      0           NaN   <NA>   \n7            8   7       3     4/4       1      0           NaN   <NA>   \n8            9   8       3     4/4       1      0           NaN   <NA>   \n9           10   9       3     4/4       1      0           NaN   <NA>   \n10          11  10       3     4/4       1      0           NaN   <NA>   \n11          12  11       3     4/4       1      0           NaN   <NA>   \n12          13  12       3     4/4       1      0           NaN   <NA>   \n13          14  13       3     4/4       1      0           NaN   <NA>   \n14          15  14       3     4/4       1      0           NaN   <NA>   \n15          16  15       3     4/4       1      0           NaN   <NA>   \n16          17  16       3     4/4   15/16      0     endRepeat   <NA>   \n17          18  16       3     4/4    1/16  15/16   startRepeat   <NA>   \n18          19  17       3     4/4       1      0           NaN   <NA>   \n19          20  18       3     4/4       1      0           NaN   <NA>   \n20          21  19       3     4/4       1      0           NaN   <NA>   \n21          22  20       3     4/4       1      0           NaN   <NA>   \n22          23  21       3     4/4       1      0           NaN   <NA>   \n23          24  22       3     4/4       1      0           NaN   <NA>   \n24          25  23       3     4/4       1      0           NaN   <NA>   \n25          26  24       3     4/4       1      0           NaN   <NA>   \n26          27  25       3     4/4       1      0           NaN   <NA>   \n27          28  26       3     4/4       1      0           NaN   <NA>   \n28          29  27       3     4/4       1      0           NaN   <NA>   \n29          30  28       3     4/4       1      0           NaN   <NA>   \n30          31  29       3     4/4       1      0           NaN   <NA>   \n31          32  30       3     4/4       1      0           NaN   <NA>   \n32          33  31       3     4/4       1      0           NaN   <NA>   \n33          34  32       3     4/4   15/16      0     endRepeat   <NA>   \n\n                 barline  numbering_offset  dont_count  next  \nmeasure_id                                                    \n0                    NaN              <NA>           1     2  \n1                    NaN              <NA>        <NA>     3  \n2                    NaN              <NA>        <NA>     4  \n3                    NaN              <NA>        <NA>     5  \n4                    NaN              <NA>        <NA>     6  \n5                    NaN              <NA>        <NA>     7  \n6                    NaN              <NA>        <NA>     8  \n7                    NaN              <NA>        <NA>     9  \n8                    NaN              <NA>        <NA>    10  \n9                    NaN              <NA>        <NA>    11  \n10                   NaN              <NA>        <NA>    12  \n11                   NaN              <NA>        <NA>    13  \n12                   NaN              <NA>        <NA>    14  \n13                   NaN              <NA>        <NA>    15  \n14                   NaN              <NA>        <NA>    16  \n15                   NaN              <NA>        <NA>    17  \n16                   NaN              <NA>        <NA>    18  \n17          start-repeat              <NA>           1    19  \n18                   NaN              <NA>        <NA>    20  \n19                   NaN              <NA>        <NA>    21  \n20                   NaN              <NA>        <NA>    22  \n21                   NaN              <NA>        <NA>    23  \n22                   NaN              <NA>        <NA>    24  \n23                   NaN              <NA>        <NA>    25  \n24                   NaN              <NA>        <NA>    26  \n25                   NaN              <NA>        <NA>    27  \n26                   NaN              <NA>        <NA>    28  \n27                   NaN              <NA>        <NA>    29  \n28                   NaN              <NA>        <NA>    30  \n29                   NaN              <NA>        <NA>    31  \n30                   NaN              <NA>        <NA>    32  \n31                   NaN              <NA>        <NA>    33  \n32                   NaN              <NA>        <NA>    34  \n33                   NaN              <NA>        <NA>  None  ",
      "text/html": "<div>\n<style scoped>\n    .dataframe tbody tr th:only-of-type {\n        vertical-align: middle;\n    }\n\n    .dataframe tbody tr th {\n        vertical-align: top;\n    }\n\n    .dataframe thead th {\n        text-align: right;\n    }\n</style>\n<table border=\"1\" class=\"dataframe\">\n  <thead>\n    <tr style=\"text-align: right;\">\n      <th></th>\n      <th>mc</th>\n      <th>mn</th>\n      <th>keysig</th>\n      <th>timesig</th>\n      <th>act_dur</th>\n      <th>offset</th>\n      <th>repeats</th>\n      <th>volta</th>\n      <th>barline</th>\n      <th>numbering_offset</th>\n      <th>dont_count</th>\n      <th>next</th>\n    </tr>\n    <tr>\n      <th>measure_id</th>\n      <th></th>\n      <th></th>\n      <th></th>\n      <th></th>\n      <th></th>\n      <th></th>\n      <th></th>\n      <th></th>\n      <th></th>\n      <th></th>\n      <th></th>\n      <th></th>\n    </tr>\n  </thead>\n  <tbody>\n    <tr>\n      <th>0</th>\n      <td>1</td>\n      <td>0</td>\n      <td>3</td>\n      <td>4/4</td>\n      <td>1/16</td>\n      <td>15/16</td>\n      <td>firstMeasure</td>\n      <td>&lt;NA&gt;</td>\n      <td>NaN</td>\n      <td>&lt;NA&gt;</td>\n      <td>1</td>\n      <td>2</td>\n    </tr>\n    <tr>\n      <th>1</th>\n      <td>2</td>\n      <td>1</td>\n      <td>3</td>\n      <td>4/4</td>\n      <td>1</td>\n      <td>0</td>\n      <td>NaN</td>\n      <td>&lt;NA&gt;</td>\n      <td>NaN</td>\n      <td>&lt;NA&gt;</td>\n      <td>&lt;NA&gt;</td>\n      <td>3</td>\n    </tr>\n    <tr>\n      <th>2</th>\n      <td>3</td>\n      <td>2</td>\n      <td>3</td>\n      <td>4/4</td>\n      <td>1</td>\n      <td>0</td>\n      <td>NaN</td>\n      <td>&lt;NA&gt;</td>\n      <td>NaN</td>\n      <td>&lt;NA&gt;</td>\n      <td>&lt;NA&gt;</td>\n      <td>4</td>\n    </tr>\n    <tr>\n      <th>3</th>\n      <td>4</td>\n      <td>3</td>\n      <td>3</td>\n      <td>4/4</td>\n      <td>1</td>\n      <td>0</td>\n      <td>NaN</td>\n      <td>&lt;NA&gt;</td>\n      <td>NaN</td>\n      <td>&lt;NA&gt;</td>\n      <td>&lt;NA&gt;</td>\n      <td>5</td>\n    </tr>\n    <tr>\n      <th>4</th>\n      <td>5</td>\n      <td>4</td>\n      <td>3</td>\n      <td>4/4</td>\n      <td>1</td>\n      <td>0</td>\n      <td>NaN</td>\n      <td>&lt;NA&gt;</td>\n      <td>NaN</td>\n      <td>&lt;NA&gt;</td>\n      <td>&lt;NA&gt;</td>\n      <td>6</td>\n    </tr>\n    <tr>\n      <th>5</th>\n      <td>6</td>\n      <td>5</td>\n      <td>3</td>\n      <td>4/4</td>\n      <td>1</td>\n      <td>0</td>\n      <td>NaN</td>\n      <td>&lt;NA&gt;</td>\n      <td>NaN</td>\n      <td>&lt;NA&gt;</td>\n      <td>&lt;NA&gt;</td>\n      <td>7</td>\n    </tr>\n    <tr>\n      <th>6</th>\n      <td>7</td>\n      <td>6</td>\n      <td>3</td>\n      <td>4/4</td>\n      <td>1</td>\n      <td>0</td>\n      <td>NaN</td>\n      <td>&lt;NA&gt;</td>\n      <td>NaN</td>\n      <td>&lt;NA&gt;</td>\n      <td>&lt;NA&gt;</td>\n      <td>8</td>\n    </tr>\n    <tr>\n      <th>7</th>\n      <td>8</td>\n      <td>7</td>\n      <td>3</td>\n      <td>4/4</td>\n      <td>1</td>\n      <td>0</td>\n      <td>NaN</td>\n      <td>&lt;NA&gt;</td>\n      <td>NaN</td>\n      <td>&lt;NA&gt;</td>\n      <td>&lt;NA&gt;</td>\n      <td>9</td>\n    </tr>\n    <tr>\n      <th>8</th>\n      <td>9</td>\n      <td>8</td>\n      <td>3</td>\n      <td>4/4</td>\n      <td>1</td>\n      <td>0</td>\n      <td>NaN</td>\n      <td>&lt;NA&gt;</td>\n      <td>NaN</td>\n      <td>&lt;NA&gt;</td>\n      <td>&lt;NA&gt;</td>\n      <td>10</td>\n    </tr>\n    <tr>\n      <th>9</th>\n      <td>10</td>\n      <td>9</td>\n      <td>3</td>\n      <td>4/4</td>\n      <td>1</td>\n      <td>0</td>\n      <td>NaN</td>\n      <td>&lt;NA&gt;</td>\n      <td>NaN</td>\n      <td>&lt;NA&gt;</td>\n      <td>&lt;NA&gt;</td>\n      <td>11</td>\n    </tr>\n    <tr>\n      <th>10</th>\n      <td>11</td>\n      <td>10</td>\n      <td>3</td>\n      <td>4/4</td>\n      <td>1</td>\n      <td>0</td>\n      <td>NaN</td>\n      <td>&lt;NA&gt;</td>\n      <td>NaN</td>\n      <td>&lt;NA&gt;</td>\n      <td>&lt;NA&gt;</td>\n      <td>12</td>\n    </tr>\n    <tr>\n      <th>11</th>\n      <td>12</td>\n      <td>11</td>\n      <td>3</td>\n      <td>4/4</td>\n      <td>1</td>\n      <td>0</td>\n      <td>NaN</td>\n      <td>&lt;NA&gt;</td>\n      <td>NaN</td>\n      <td>&lt;NA&gt;</td>\n      <td>&lt;NA&gt;</td>\n      <td>13</td>\n    </tr>\n    <tr>\n      <th>12</th>\n      <td>13</td>\n      <td>12</td>\n      <td>3</td>\n      <td>4/4</td>\n      <td>1</td>\n      <td>0</td>\n      <td>NaN</td>\n      <td>&lt;NA&gt;</td>\n      <td>NaN</td>\n      <td>&lt;NA&gt;</td>\n      <td>&lt;NA&gt;</td>\n      <td>14</td>\n    </tr>\n    <tr>\n      <th>13</th>\n      <td>14</td>\n      <td>13</td>\n      <td>3</td>\n      <td>4/4</td>\n      <td>1</td>\n      <td>0</td>\n      <td>NaN</td>\n      <td>&lt;NA&gt;</td>\n      <td>NaN</td>\n      <td>&lt;NA&gt;</td>\n      <td>&lt;NA&gt;</td>\n      <td>15</td>\n    </tr>\n    <tr>\n      <th>14</th>\n      <td>15</td>\n      <td>14</td>\n      <td>3</td>\n      <td>4/4</td>\n      <td>1</td>\n      <td>0</td>\n      <td>NaN</td>\n      <td>&lt;NA&gt;</td>\n      <td>NaN</td>\n      <td>&lt;NA&gt;</td>\n      <td>&lt;NA&gt;</td>\n      <td>16</td>\n    </tr>\n    <tr>\n      <th>15</th>\n      <td>16</td>\n      <td>15</td>\n      <td>3</td>\n      <td>4/4</td>\n      <td>1</td>\n      <td>0</td>\n      <td>NaN</td>\n      <td>&lt;NA&gt;</td>\n      <td>NaN</td>\n      <td>&lt;NA&gt;</td>\n      <td>&lt;NA&gt;</td>\n      <td>17</td>\n    </tr>\n    <tr>\n      <th>16</th>\n      <td>17</td>\n      <td>16</td>\n      <td>3</td>\n      <td>4/4</td>\n      <td>15/16</td>\n      <td>0</td>\n      <td>endRepeat</td>\n      <td>&lt;NA&gt;</td>\n      <td>NaN</td>\n      <td>&lt;NA&gt;</td>\n      <td>&lt;NA&gt;</td>\n      <td>18</td>\n    </tr>\n    <tr>\n      <th>17</th>\n      <td>18</td>\n      <td>16</td>\n      <td>3</td>\n      <td>4/4</td>\n      <td>1/16</td>\n      <td>15/16</td>\n      <td>startRepeat</td>\n      <td>&lt;NA&gt;</td>\n      <td>start-repeat</td>\n      <td>&lt;NA&gt;</td>\n      <td>1</td>\n      <td>19</td>\n    </tr>\n    <tr>\n      <th>18</th>\n      <td>19</td>\n      <td>17</td>\n      <td>3</td>\n      <td>4/4</td>\n      <td>1</td>\n      <td>0</td>\n      <td>NaN</td>\n      <td>&lt;NA&gt;</td>\n      <td>NaN</td>\n      <td>&lt;NA&gt;</td>\n      <td>&lt;NA&gt;</td>\n      <td>20</td>\n    </tr>\n    <tr>\n      <th>19</th>\n      <td>20</td>\n      <td>18</td>\n      <td>3</td>\n      <td>4/4</td>\n      <td>1</td>\n      <td>0</td>\n      <td>NaN</td>\n      <td>&lt;NA&gt;</td>\n      <td>NaN</td>\n      <td>&lt;NA&gt;</td>\n      <td>&lt;NA&gt;</td>\n      <td>21</td>\n    </tr>\n    <tr>\n      <th>20</th>\n      <td>21</td>\n      <td>19</td>\n      <td>3</td>\n      <td>4/4</td>\n      <td>1</td>\n      <td>0</td>\n      <td>NaN</td>\n      <td>&lt;NA&gt;</td>\n      <td>NaN</td>\n      <td>&lt;NA&gt;</td>\n      <td>&lt;NA&gt;</td>\n      <td>22</td>\n    </tr>\n    <tr>\n      <th>21</th>\n      <td>22</td>\n      <td>20</td>\n      <td>3</td>\n      <td>4/4</td>\n      <td>1</td>\n      <td>0</td>\n      <td>NaN</td>\n      <td>&lt;NA&gt;</td>\n      <td>NaN</td>\n      <td>&lt;NA&gt;</td>\n      <td>&lt;NA&gt;</td>\n      <td>23</td>\n    </tr>\n    <tr>\n      <th>22</th>\n      <td>23</td>\n      <td>21</td>\n      <td>3</td>\n      <td>4/4</td>\n      <td>1</td>\n      <td>0</td>\n      <td>NaN</td>\n      <td>&lt;NA&gt;</td>\n      <td>NaN</td>\n      <td>&lt;NA&gt;</td>\n      <td>&lt;NA&gt;</td>\n      <td>24</td>\n    </tr>\n    <tr>\n      <th>23</th>\n      <td>24</td>\n      <td>22</td>\n      <td>3</td>\n      <td>4/4</td>\n      <td>1</td>\n      <td>0</td>\n      <td>NaN</td>\n      <td>&lt;NA&gt;</td>\n      <td>NaN</td>\n      <td>&lt;NA&gt;</td>\n      <td>&lt;NA&gt;</td>\n      <td>25</td>\n    </tr>\n    <tr>\n      <th>24</th>\n      <td>25</td>\n      <td>23</td>\n      <td>3</td>\n      <td>4/4</td>\n      <td>1</td>\n      <td>0</td>\n      <td>NaN</td>\n      <td>&lt;NA&gt;</td>\n      <td>NaN</td>\n      <td>&lt;NA&gt;</td>\n      <td>&lt;NA&gt;</td>\n      <td>26</td>\n    </tr>\n    <tr>\n      <th>25</th>\n      <td>26</td>\n      <td>24</td>\n      <td>3</td>\n      <td>4/4</td>\n      <td>1</td>\n      <td>0</td>\n      <td>NaN</td>\n      <td>&lt;NA&gt;</td>\n      <td>NaN</td>\n      <td>&lt;NA&gt;</td>\n      <td>&lt;NA&gt;</td>\n      <td>27</td>\n    </tr>\n    <tr>\n      <th>26</th>\n      <td>27</td>\n      <td>25</td>\n      <td>3</td>\n      <td>4/4</td>\n      <td>1</td>\n      <td>0</td>\n      <td>NaN</td>\n      <td>&lt;NA&gt;</td>\n      <td>NaN</td>\n      <td>&lt;NA&gt;</td>\n      <td>&lt;NA&gt;</td>\n      <td>28</td>\n    </tr>\n    <tr>\n      <th>27</th>\n      <td>28</td>\n      <td>26</td>\n      <td>3</td>\n      <td>4/4</td>\n      <td>1</td>\n      <td>0</td>\n      <td>NaN</td>\n      <td>&lt;NA&gt;</td>\n      <td>NaN</td>\n      <td>&lt;NA&gt;</td>\n      <td>&lt;NA&gt;</td>\n      <td>29</td>\n    </tr>\n    <tr>\n      <th>28</th>\n      <td>29</td>\n      <td>27</td>\n      <td>3</td>\n      <td>4/4</td>\n      <td>1</td>\n      <td>0</td>\n      <td>NaN</td>\n      <td>&lt;NA&gt;</td>\n      <td>NaN</td>\n      <td>&lt;NA&gt;</td>\n      <td>&lt;NA&gt;</td>\n      <td>30</td>\n    </tr>\n    <tr>\n      <th>29</th>\n      <td>30</td>\n      <td>28</td>\n      <td>3</td>\n      <td>4/4</td>\n      <td>1</td>\n      <td>0</td>\n      <td>NaN</td>\n      <td>&lt;NA&gt;</td>\n      <td>NaN</td>\n      <td>&lt;NA&gt;</td>\n      <td>&lt;NA&gt;</td>\n      <td>31</td>\n    </tr>\n    <tr>\n      <th>30</th>\n      <td>31</td>\n      <td>29</td>\n      <td>3</td>\n      <td>4/4</td>\n      <td>1</td>\n      <td>0</td>\n      <td>NaN</td>\n      <td>&lt;NA&gt;</td>\n      <td>NaN</td>\n      <td>&lt;NA&gt;</td>\n      <td>&lt;NA&gt;</td>\n      <td>32</td>\n    </tr>\n    <tr>\n      <th>31</th>\n      <td>32</td>\n      <td>30</td>\n      <td>3</td>\n      <td>4/4</td>\n      <td>1</td>\n      <td>0</td>\n      <td>NaN</td>\n      <td>&lt;NA&gt;</td>\n      <td>NaN</td>\n      <td>&lt;NA&gt;</td>\n      <td>&lt;NA&gt;</td>\n      <td>33</td>\n    </tr>\n    <tr>\n      <th>32</th>\n      <td>33</td>\n      <td>31</td>\n      <td>3</td>\n      <td>4/4</td>\n      <td>1</td>\n      <td>0</td>\n      <td>NaN</td>\n      <td>&lt;NA&gt;</td>\n      <td>NaN</td>\n      <td>&lt;NA&gt;</td>\n      <td>&lt;NA&gt;</td>\n      <td>34</td>\n    </tr>\n    <tr>\n      <th>33</th>\n      <td>34</td>\n      <td>32</td>\n      <td>3</td>\n      <td>4/4</td>\n      <td>15/16</td>\n      <td>0</td>\n      <td>endRepeat</td>\n      <td>&lt;NA&gt;</td>\n      <td>NaN</td>\n      <td>&lt;NA&gt;</td>\n      <td>&lt;NA&gt;</td>\n      <td>None</td>\n    </tr>\n  </tbody>\n</table>\n</div>"
     },
     "metadata": {},
     "execution_count": 52
    }
   ],
   "source": [
    "measures_df.loc[1]"
   ]
  },
  {
   "cell_type": "code",
   "execution_count": 53,
   "metadata": {},
   "outputs": [
    {
     "output_type": "execute_result",
     "data": {
      "text/plain": "         mc  mn  onset duration gracenote nominal_duration scalar  tied  tpc  \\\nnote_id                                                                        \n459      17  16      0      1/2       NaN              1/2      1  <NA>    4   \n460      17  16      0      1/8       NaN              1/8      1    -1    3   \n461      17  16      0     1/16       NaN             1/16      1    -1    5   \n462      17  16      0      1/4       NaN              1/4      1  <NA>    4   \n463      17  16   1/16     1/16       NaN             1/16      1  <NA>    5   \n464      17  16    1/8      1/8       NaN              1/8      1     1    8   \n465      17  16    1/8     1/16       NaN             1/16      1  <NA>    7   \n466      17  16   3/16     1/16       NaN             1/16      1  <NA>    2   \n467      17  16    1/4     1/16       NaN             1/16      1    -1    8   \n468      17  16    1/4     3/16       NaN              1/8    3/2  <NA>    7   \n469      17  16    1/4     3/16       NaN              1/8    3/2  <NA>    4   \n470      17  16   5/16     1/16       NaN             1/16      1  <NA>    3   \n471      17  16    3/8      1/8       NaN              1/8      1  <NA>    6   \n472      17  16   7/16     1/16       NaN             1/16      1  <NA>    3   \n473      17  16   7/16     1/16       NaN             1/16      1  <NA>    0   \n474      17  16   7/16     1/16       NaN             1/16      1  <NA>    9   \n475      17  16    1/2     1/16       NaN             1/16      1  <NA>    4   \n476      17  16    1/2      1/4       NaN              1/4      1  <NA>    4   \n477      17  16    1/2      3/8       NaN              1/4    3/2  <NA>    8   \n478      17  16    1/2      3/8       NaN              1/4    3/2  <NA>    5   \n479      17  16    1/2      3/8       NaN              1/4    3/2  <NA>    4   \n480      17  16   9/16     1/16       NaN             1/16      1  <NA>    4   \n481      17  16   9/16     3/16       NaN              1/8    3/2     1    4   \n482      17  16    5/8     1/16       NaN             1/16      1  <NA>    8   \n483      17  16    5/8      1/8       NaN              1/8      1  <NA>    8   \n484      17  16  11/16     1/16       NaN             1/16      1     1    5   \n485      17  16    3/4     3/16       NaN              1/8    3/2    -1    4   \n486      17  16    3/4     3/16       NaN              1/8    3/2    -1    5   \n487      17  16    3/4     3/16       NaN              1/8    3/2  <NA>    4   \n488      18  16  15/16     1/16       NaN             1/16      1  <NA>    5   \n\n         midi  staff  voice  volta  offset_mc offset_beat  \nnote_id                                                    \n459        52      2      2   <NA>         17         1/2  \n460        57      2      1   <NA>         17         1/8  \n461        59      1      2   <NA>         17        1/16  \n462        64      1      1   <NA>         17         1/4  \n463        59      1      2   <NA>         17         1/8  \n464        56      2      1   <NA>         17         1/4  \n465        61      1      2   <NA>         17        3/16  \n466        62      1      2   <NA>         17         1/4  \n467        56      2      1   <NA>         17        5/16  \n468        61      1      2   <NA>         17        7/16  \n469        64      1      1   <NA>         17        7/16  \n470        57      2      1   <NA>         17         3/8  \n471        54      2      1   <NA>         17         1/2  \n472        57      1      2   <NA>         17         1/2  \n473        60      1      2   <NA>         17         1/2  \n474        63      1      1   <NA>         17         1/2  \n475        52      2      2   <NA>         17        9/16  \n476        52      2      1   <NA>         17         3/4  \n477        56      1      2   <NA>         17         7/8  \n478        59      1      2   <NA>         17         7/8  \n479        64      1      1   <NA>         17         7/8  \n480        40      2      2   <NA>         17         5/8  \n481        40      2      4   <NA>         17         3/4  \n482        44      2      2   <NA>         17       11/16  \n483        44      2      3   <NA>         17         3/4  \n484        47      2      2   <NA>         17         3/4  \n485        40      2      4   <NA>         18       15/16  \n486        47      2      2   <NA>         18       15/16  \n487        52      2      1   <NA>         18       15/16  \n488        71      1      1   <NA>         19           0  ",
      "text/html": "<div>\n<style scoped>\n    .dataframe tbody tr th:only-of-type {\n        vertical-align: middle;\n    }\n\n    .dataframe tbody tr th {\n        vertical-align: top;\n    }\n\n    .dataframe thead th {\n        text-align: right;\n    }\n</style>\n<table border=\"1\" class=\"dataframe\">\n  <thead>\n    <tr style=\"text-align: right;\">\n      <th></th>\n      <th>mc</th>\n      <th>mn</th>\n      <th>onset</th>\n      <th>duration</th>\n      <th>gracenote</th>\n      <th>nominal_duration</th>\n      <th>scalar</th>\n      <th>tied</th>\n      <th>tpc</th>\n      <th>midi</th>\n      <th>staff</th>\n      <th>voice</th>\n      <th>volta</th>\n      <th>offset_mc</th>\n      <th>offset_beat</th>\n    </tr>\n    <tr>\n      <th>note_id</th>\n      <th></th>\n      <th></th>\n      <th></th>\n      <th></th>\n      <th></th>\n      <th></th>\n      <th></th>\n      <th></th>\n      <th></th>\n      <th></th>\n      <th></th>\n      <th></th>\n      <th></th>\n      <th></th>\n      <th></th>\n    </tr>\n  </thead>\n  <tbody>\n    <tr>\n      <th>459</th>\n      <td>17</td>\n      <td>16</td>\n      <td>0</td>\n      <td>1/2</td>\n      <td>NaN</td>\n      <td>1/2</td>\n      <td>1</td>\n      <td>&lt;NA&gt;</td>\n      <td>4</td>\n      <td>52</td>\n      <td>2</td>\n      <td>2</td>\n      <td>&lt;NA&gt;</td>\n      <td>17</td>\n      <td>1/2</td>\n    </tr>\n    <tr>\n      <th>460</th>\n      <td>17</td>\n      <td>16</td>\n      <td>0</td>\n      <td>1/8</td>\n      <td>NaN</td>\n      <td>1/8</td>\n      <td>1</td>\n      <td>-1</td>\n      <td>3</td>\n      <td>57</td>\n      <td>2</td>\n      <td>1</td>\n      <td>&lt;NA&gt;</td>\n      <td>17</td>\n      <td>1/8</td>\n    </tr>\n    <tr>\n      <th>461</th>\n      <td>17</td>\n      <td>16</td>\n      <td>0</td>\n      <td>1/16</td>\n      <td>NaN</td>\n      <td>1/16</td>\n      <td>1</td>\n      <td>-1</td>\n      <td>5</td>\n      <td>59</td>\n      <td>1</td>\n      <td>2</td>\n      <td>&lt;NA&gt;</td>\n      <td>17</td>\n      <td>1/16</td>\n    </tr>\n    <tr>\n      <th>462</th>\n      <td>17</td>\n      <td>16</td>\n      <td>0</td>\n      <td>1/4</td>\n      <td>NaN</td>\n      <td>1/4</td>\n      <td>1</td>\n      <td>&lt;NA&gt;</td>\n      <td>4</td>\n      <td>64</td>\n      <td>1</td>\n      <td>1</td>\n      <td>&lt;NA&gt;</td>\n      <td>17</td>\n      <td>1/4</td>\n    </tr>\n    <tr>\n      <th>463</th>\n      <td>17</td>\n      <td>16</td>\n      <td>1/16</td>\n      <td>1/16</td>\n      <td>NaN</td>\n      <td>1/16</td>\n      <td>1</td>\n      <td>&lt;NA&gt;</td>\n      <td>5</td>\n      <td>59</td>\n      <td>1</td>\n      <td>2</td>\n      <td>&lt;NA&gt;</td>\n      <td>17</td>\n      <td>1/8</td>\n    </tr>\n    <tr>\n      <th>464</th>\n      <td>17</td>\n      <td>16</td>\n      <td>1/8</td>\n      <td>1/8</td>\n      <td>NaN</td>\n      <td>1/8</td>\n      <td>1</td>\n      <td>1</td>\n      <td>8</td>\n      <td>56</td>\n      <td>2</td>\n      <td>1</td>\n      <td>&lt;NA&gt;</td>\n      <td>17</td>\n      <td>1/4</td>\n    </tr>\n    <tr>\n      <th>465</th>\n      <td>17</td>\n      <td>16</td>\n      <td>1/8</td>\n      <td>1/16</td>\n      <td>NaN</td>\n      <td>1/16</td>\n      <td>1</td>\n      <td>&lt;NA&gt;</td>\n      <td>7</td>\n      <td>61</td>\n      <td>1</td>\n      <td>2</td>\n      <td>&lt;NA&gt;</td>\n      <td>17</td>\n      <td>3/16</td>\n    </tr>\n    <tr>\n      <th>466</th>\n      <td>17</td>\n      <td>16</td>\n      <td>3/16</td>\n      <td>1/16</td>\n      <td>NaN</td>\n      <td>1/16</td>\n      <td>1</td>\n      <td>&lt;NA&gt;</td>\n      <td>2</td>\n      <td>62</td>\n      <td>1</td>\n      <td>2</td>\n      <td>&lt;NA&gt;</td>\n      <td>17</td>\n      <td>1/4</td>\n    </tr>\n    <tr>\n      <th>467</th>\n      <td>17</td>\n      <td>16</td>\n      <td>1/4</td>\n      <td>1/16</td>\n      <td>NaN</td>\n      <td>1/16</td>\n      <td>1</td>\n      <td>-1</td>\n      <td>8</td>\n      <td>56</td>\n      <td>2</td>\n      <td>1</td>\n      <td>&lt;NA&gt;</td>\n      <td>17</td>\n      <td>5/16</td>\n    </tr>\n    <tr>\n      <th>468</th>\n      <td>17</td>\n      <td>16</td>\n      <td>1/4</td>\n      <td>3/16</td>\n      <td>NaN</td>\n      <td>1/8</td>\n      <td>3/2</td>\n      <td>&lt;NA&gt;</td>\n      <td>7</td>\n      <td>61</td>\n      <td>1</td>\n      <td>2</td>\n      <td>&lt;NA&gt;</td>\n      <td>17</td>\n      <td>7/16</td>\n    </tr>\n    <tr>\n      <th>469</th>\n      <td>17</td>\n      <td>16</td>\n      <td>1/4</td>\n      <td>3/16</td>\n      <td>NaN</td>\n      <td>1/8</td>\n      <td>3/2</td>\n      <td>&lt;NA&gt;</td>\n      <td>4</td>\n      <td>64</td>\n      <td>1</td>\n      <td>1</td>\n      <td>&lt;NA&gt;</td>\n      <td>17</td>\n      <td>7/16</td>\n    </tr>\n    <tr>\n      <th>470</th>\n      <td>17</td>\n      <td>16</td>\n      <td>5/16</td>\n      <td>1/16</td>\n      <td>NaN</td>\n      <td>1/16</td>\n      <td>1</td>\n      <td>&lt;NA&gt;</td>\n      <td>3</td>\n      <td>57</td>\n      <td>2</td>\n      <td>1</td>\n      <td>&lt;NA&gt;</td>\n      <td>17</td>\n      <td>3/8</td>\n    </tr>\n    <tr>\n      <th>471</th>\n      <td>17</td>\n      <td>16</td>\n      <td>3/8</td>\n      <td>1/8</td>\n      <td>NaN</td>\n      <td>1/8</td>\n      <td>1</td>\n      <td>&lt;NA&gt;</td>\n      <td>6</td>\n      <td>54</td>\n      <td>2</td>\n      <td>1</td>\n      <td>&lt;NA&gt;</td>\n      <td>17</td>\n      <td>1/2</td>\n    </tr>\n    <tr>\n      <th>472</th>\n      <td>17</td>\n      <td>16</td>\n      <td>7/16</td>\n      <td>1/16</td>\n      <td>NaN</td>\n      <td>1/16</td>\n      <td>1</td>\n      <td>&lt;NA&gt;</td>\n      <td>3</td>\n      <td>57</td>\n      <td>1</td>\n      <td>2</td>\n      <td>&lt;NA&gt;</td>\n      <td>17</td>\n      <td>1/2</td>\n    </tr>\n    <tr>\n      <th>473</th>\n      <td>17</td>\n      <td>16</td>\n      <td>7/16</td>\n      <td>1/16</td>\n      <td>NaN</td>\n      <td>1/16</td>\n      <td>1</td>\n      <td>&lt;NA&gt;</td>\n      <td>0</td>\n      <td>60</td>\n      <td>1</td>\n      <td>2</td>\n      <td>&lt;NA&gt;</td>\n      <td>17</td>\n      <td>1/2</td>\n    </tr>\n    <tr>\n      <th>474</th>\n      <td>17</td>\n      <td>16</td>\n      <td>7/16</td>\n      <td>1/16</td>\n      <td>NaN</td>\n      <td>1/16</td>\n      <td>1</td>\n      <td>&lt;NA&gt;</td>\n      <td>9</td>\n      <td>63</td>\n      <td>1</td>\n      <td>1</td>\n      <td>&lt;NA&gt;</td>\n      <td>17</td>\n      <td>1/2</td>\n    </tr>\n    <tr>\n      <th>475</th>\n      <td>17</td>\n      <td>16</td>\n      <td>1/2</td>\n      <td>1/16</td>\n      <td>NaN</td>\n      <td>1/16</td>\n      <td>1</td>\n      <td>&lt;NA&gt;</td>\n      <td>4</td>\n      <td>52</td>\n      <td>2</td>\n      <td>2</td>\n      <td>&lt;NA&gt;</td>\n      <td>17</td>\n      <td>9/16</td>\n    </tr>\n    <tr>\n      <th>476</th>\n      <td>17</td>\n      <td>16</td>\n      <td>1/2</td>\n      <td>1/4</td>\n      <td>NaN</td>\n      <td>1/4</td>\n      <td>1</td>\n      <td>&lt;NA&gt;</td>\n      <td>4</td>\n      <td>52</td>\n      <td>2</td>\n      <td>1</td>\n      <td>&lt;NA&gt;</td>\n      <td>17</td>\n      <td>3/4</td>\n    </tr>\n    <tr>\n      <th>477</th>\n      <td>17</td>\n      <td>16</td>\n      <td>1/2</td>\n      <td>3/8</td>\n      <td>NaN</td>\n      <td>1/4</td>\n      <td>3/2</td>\n      <td>&lt;NA&gt;</td>\n      <td>8</td>\n      <td>56</td>\n      <td>1</td>\n      <td>2</td>\n      <td>&lt;NA&gt;</td>\n      <td>17</td>\n      <td>7/8</td>\n    </tr>\n    <tr>\n      <th>478</th>\n      <td>17</td>\n      <td>16</td>\n      <td>1/2</td>\n      <td>3/8</td>\n      <td>NaN</td>\n      <td>1/4</td>\n      <td>3/2</td>\n      <td>&lt;NA&gt;</td>\n      <td>5</td>\n      <td>59</td>\n      <td>1</td>\n      <td>2</td>\n      <td>&lt;NA&gt;</td>\n      <td>17</td>\n      <td>7/8</td>\n    </tr>\n    <tr>\n      <th>479</th>\n      <td>17</td>\n      <td>16</td>\n      <td>1/2</td>\n      <td>3/8</td>\n      <td>NaN</td>\n      <td>1/4</td>\n      <td>3/2</td>\n      <td>&lt;NA&gt;</td>\n      <td>4</td>\n      <td>64</td>\n      <td>1</td>\n      <td>1</td>\n      <td>&lt;NA&gt;</td>\n      <td>17</td>\n      <td>7/8</td>\n    </tr>\n    <tr>\n      <th>480</th>\n      <td>17</td>\n      <td>16</td>\n      <td>9/16</td>\n      <td>1/16</td>\n      <td>NaN</td>\n      <td>1/16</td>\n      <td>1</td>\n      <td>&lt;NA&gt;</td>\n      <td>4</td>\n      <td>40</td>\n      <td>2</td>\n      <td>2</td>\n      <td>&lt;NA&gt;</td>\n      <td>17</td>\n      <td>5/8</td>\n    </tr>\n    <tr>\n      <th>481</th>\n      <td>17</td>\n      <td>16</td>\n      <td>9/16</td>\n      <td>3/16</td>\n      <td>NaN</td>\n      <td>1/8</td>\n      <td>3/2</td>\n      <td>1</td>\n      <td>4</td>\n      <td>40</td>\n      <td>2</td>\n      <td>4</td>\n      <td>&lt;NA&gt;</td>\n      <td>17</td>\n      <td>3/4</td>\n    </tr>\n    <tr>\n      <th>482</th>\n      <td>17</td>\n      <td>16</td>\n      <td>5/8</td>\n      <td>1/16</td>\n      <td>NaN</td>\n      <td>1/16</td>\n      <td>1</td>\n      <td>&lt;NA&gt;</td>\n      <td>8</td>\n      <td>44</td>\n      <td>2</td>\n      <td>2</td>\n      <td>&lt;NA&gt;</td>\n      <td>17</td>\n      <td>11/16</td>\n    </tr>\n    <tr>\n      <th>483</th>\n      <td>17</td>\n      <td>16</td>\n      <td>5/8</td>\n      <td>1/8</td>\n      <td>NaN</td>\n      <td>1/8</td>\n      <td>1</td>\n      <td>&lt;NA&gt;</td>\n      <td>8</td>\n      <td>44</td>\n      <td>2</td>\n      <td>3</td>\n      <td>&lt;NA&gt;</td>\n      <td>17</td>\n      <td>3/4</td>\n    </tr>\n    <tr>\n      <th>484</th>\n      <td>17</td>\n      <td>16</td>\n      <td>11/16</td>\n      <td>1/16</td>\n      <td>NaN</td>\n      <td>1/16</td>\n      <td>1</td>\n      <td>1</td>\n      <td>5</td>\n      <td>47</td>\n      <td>2</td>\n      <td>2</td>\n      <td>&lt;NA&gt;</td>\n      <td>17</td>\n      <td>3/4</td>\n    </tr>\n    <tr>\n      <th>485</th>\n      <td>17</td>\n      <td>16</td>\n      <td>3/4</td>\n      <td>3/16</td>\n      <td>NaN</td>\n      <td>1/8</td>\n      <td>3/2</td>\n      <td>-1</td>\n      <td>4</td>\n      <td>40</td>\n      <td>2</td>\n      <td>4</td>\n      <td>&lt;NA&gt;</td>\n      <td>18</td>\n      <td>15/16</td>\n    </tr>\n    <tr>\n      <th>486</th>\n      <td>17</td>\n      <td>16</td>\n      <td>3/4</td>\n      <td>3/16</td>\n      <td>NaN</td>\n      <td>1/8</td>\n      <td>3/2</td>\n      <td>-1</td>\n      <td>5</td>\n      <td>47</td>\n      <td>2</td>\n      <td>2</td>\n      <td>&lt;NA&gt;</td>\n      <td>18</td>\n      <td>15/16</td>\n    </tr>\n    <tr>\n      <th>487</th>\n      <td>17</td>\n      <td>16</td>\n      <td>3/4</td>\n      <td>3/16</td>\n      <td>NaN</td>\n      <td>1/8</td>\n      <td>3/2</td>\n      <td>&lt;NA&gt;</td>\n      <td>4</td>\n      <td>52</td>\n      <td>2</td>\n      <td>1</td>\n      <td>&lt;NA&gt;</td>\n      <td>18</td>\n      <td>15/16</td>\n    </tr>\n    <tr>\n      <th>488</th>\n      <td>18</td>\n      <td>16</td>\n      <td>15/16</td>\n      <td>1/16</td>\n      <td>NaN</td>\n      <td>1/16</td>\n      <td>1</td>\n      <td>&lt;NA&gt;</td>\n      <td>5</td>\n      <td>71</td>\n      <td>1</td>\n      <td>1</td>\n      <td>&lt;NA&gt;</td>\n      <td>19</td>\n      <td>0</td>\n    </tr>\n  </tbody>\n</table>\n</div>"
     },
     "metadata": {},
     "execution_count": 53
    }
   ],
   "source": [
    "notes_df.loc[1].loc[notes_df.loc[1].mc.isin([17, 18])]"
   ]
  },
  {
   "cell_type": "code",
   "execution_count": 9,
   "metadata": {
    "tags": []
   },
   "outputs": [
    {
     "output_type": "stream",
     "name": "stderr",
     "text": "100%|██████████| 749/749 [04:54<00:00,  2.54it/s]\n"
    }
   ],
   "source": [
    "import harmonic_inference.data.piece as piece\n",
    "import harmonic_inference.utils.harmonic_utils as hu\n",
    "from tqdm import tqdm\n",
    "\n",
    "\n",
    "import logging\n",
    "logging.basicConfig(filename='parsing.log', level=logging.INFO, filemode='w')\n",
    "\n",
    "import importlib\n",
    "importlib.reload(piece)\n",
    "importlib.reload(hu)\n",
    "\n",
    "for i in tqdm(files_df.index):\n",
    "    logging.info(f\"Parsing file id {i}\")\n",
    "    try:\n",
    "        chords = chords_df.loc[i]\n",
    "        notes = notes_df.loc[i]\n",
    "        measures = measures_df.loc[i]\n",
    "    except BaseException as e:\n",
    "        logging.error(f\"Error getting data for index {i}: {e}\")\n",
    "        continue\n",
    "\n",
    "    try:\n",
    "        score_piece = piece.ScorePiece(notes, chords, measures)\n",
    "    except BaseException as e:\n",
    "        logging.error(f\"Error parsing index {i}: {e}\")\n",
    "        continue"
   ]
  },
  {
   "cell_type": "code",
   "execution_count": null,
   "metadata": {
    "tags": []
   },
   "outputs": [],
   "source": [
    "chords_df.loc[94].loc[chords_df.loc[94].mc == 71]"
   ]
  },
  {
   "cell_type": "code",
   "execution_count": 17,
   "metadata": {},
   "outputs": [
    {
     "output_type": "execute_result",
     "data": {
      "text/plain": "           mc   mn onset  label alt_label globalkey localkey pedal  chord  \\\nchord_id                                                                    \n0           1    0   3/8   .F.V       NaN         F        I   NaN      V   \n1           2    1     0      I       NaN         F        I   NaN      I   \n2           2    1   3/8      V       NaN         F        I   NaN      V   \n3           3    2     0     I6       NaN         F        I   NaN     I6   \n4           3    2   3/8      I       NaN         F        I   NaN      I   \n...       ...  ...   ...    ...       ...       ...      ...   ...    ...   \n304       150  148     0     V7       NaN         F        I   NaN     V7   \n305       150  148   1/8  V(64)       NaN         F        I   NaN  V(64)   \n306       150  148   1/4   ii64       NaN         F        I   NaN   ii64   \n307       150  148   3/8     V6       NaN         F        I   NaN     V6   \n308       151  149     0    I\\\\       NaN         F        I   NaN      I   \n\n         numeral  ... localkey_is_minor    chord_tones added_tones root  \\\nchord_id          ...                                                     \n0              V  ...             False      (1, 5, 2)          ()    1   \n1              I  ...             False      (0, 4, 1)          ()    0   \n2              V  ...             False      (1, 5, 2)          ()    1   \n3              I  ...             False      (4, 1, 0)          ()    0   \n4              I  ...             False      (0, 4, 1)          ()    0   \n...          ...  ...               ...            ...         ...  ...   \n304            V  ...             False  (1, 5, 2, -1)          ()    1   \n305            V  ...             False      (1, 0, 4)          ()    1   \n306           ii  ...             False     (3, 2, -1)          ()    2   \n307            V  ...             False      (5, 2, 1)          ()    1   \n308            I  ...             False      (0, 4, 1)          ()    0   \n\n         bass_note volta special mc_next onset_next duration  \nchord_id                                                      \n0                1  <NA>     NaN       2          0     -1/4  \n1                0  <NA>     NaN       2        3/8      3/8  \n2                1  <NA>     NaN       3          0      1/8  \n3                4  <NA>     NaN       3        3/8      3/8  \n4                0  <NA>     NaN       4          0      1/8  \n...            ...   ...     ...     ...        ...      ...  \n304              1  <NA>     NaN     150        1/8      1/8  \n305              1  <NA>     NaN     150        1/4      1/8  \n306              3  <NA>     NaN     150        3/8      1/8  \n307              5  <NA>     NaN     151          0      1/8  \n308              0  <NA>     NaN     152        3/8      7/8  \n\n[309 rows x 27 columns]",
      "text/html": "<div>\n<style scoped>\n    .dataframe tbody tr th:only-of-type {\n        vertical-align: middle;\n    }\n\n    .dataframe tbody tr th {\n        vertical-align: top;\n    }\n\n    .dataframe thead th {\n        text-align: right;\n    }\n</style>\n<table border=\"1\" class=\"dataframe\">\n  <thead>\n    <tr style=\"text-align: right;\">\n      <th></th>\n      <th>mc</th>\n      <th>mn</th>\n      <th>onset</th>\n      <th>label</th>\n      <th>alt_label</th>\n      <th>globalkey</th>\n      <th>localkey</th>\n      <th>pedal</th>\n      <th>chord</th>\n      <th>numeral</th>\n      <th>...</th>\n      <th>localkey_is_minor</th>\n      <th>chord_tones</th>\n      <th>added_tones</th>\n      <th>root</th>\n      <th>bass_note</th>\n      <th>volta</th>\n      <th>special</th>\n      <th>mc_next</th>\n      <th>onset_next</th>\n      <th>duration</th>\n    </tr>\n    <tr>\n      <th>chord_id</th>\n      <th></th>\n      <th></th>\n      <th></th>\n      <th></th>\n      <th></th>\n      <th></th>\n      <th></th>\n      <th></th>\n      <th></th>\n      <th></th>\n      <th></th>\n      <th></th>\n      <th></th>\n      <th></th>\n      <th></th>\n      <th></th>\n      <th></th>\n      <th></th>\n      <th></th>\n      <th></th>\n      <th></th>\n    </tr>\n  </thead>\n  <tbody>\n    <tr>\n      <th>0</th>\n      <td>1</td>\n      <td>0</td>\n      <td>3/8</td>\n      <td>.F.V</td>\n      <td>NaN</td>\n      <td>F</td>\n      <td>I</td>\n      <td>NaN</td>\n      <td>V</td>\n      <td>V</td>\n      <td>...</td>\n      <td>False</td>\n      <td>(1, 5, 2)</td>\n      <td>()</td>\n      <td>1</td>\n      <td>1</td>\n      <td>&lt;NA&gt;</td>\n      <td>NaN</td>\n      <td>2</td>\n      <td>0</td>\n      <td>-1/4</td>\n    </tr>\n    <tr>\n      <th>1</th>\n      <td>2</td>\n      <td>1</td>\n      <td>0</td>\n      <td>I</td>\n      <td>NaN</td>\n      <td>F</td>\n      <td>I</td>\n      <td>NaN</td>\n      <td>I</td>\n      <td>I</td>\n      <td>...</td>\n      <td>False</td>\n      <td>(0, 4, 1)</td>\n      <td>()</td>\n      <td>0</td>\n      <td>0</td>\n      <td>&lt;NA&gt;</td>\n      <td>NaN</td>\n      <td>2</td>\n      <td>3/8</td>\n      <td>3/8</td>\n    </tr>\n    <tr>\n      <th>2</th>\n      <td>2</td>\n      <td>1</td>\n      <td>3/8</td>\n      <td>V</td>\n      <td>NaN</td>\n      <td>F</td>\n      <td>I</td>\n      <td>NaN</td>\n      <td>V</td>\n      <td>V</td>\n      <td>...</td>\n      <td>False</td>\n      <td>(1, 5, 2)</td>\n      <td>()</td>\n      <td>1</td>\n      <td>1</td>\n      <td>&lt;NA&gt;</td>\n      <td>NaN</td>\n      <td>3</td>\n      <td>0</td>\n      <td>1/8</td>\n    </tr>\n    <tr>\n      <th>3</th>\n      <td>3</td>\n      <td>2</td>\n      <td>0</td>\n      <td>I6</td>\n      <td>NaN</td>\n      <td>F</td>\n      <td>I</td>\n      <td>NaN</td>\n      <td>I6</td>\n      <td>I</td>\n      <td>...</td>\n      <td>False</td>\n      <td>(4, 1, 0)</td>\n      <td>()</td>\n      <td>0</td>\n      <td>4</td>\n      <td>&lt;NA&gt;</td>\n      <td>NaN</td>\n      <td>3</td>\n      <td>3/8</td>\n      <td>3/8</td>\n    </tr>\n    <tr>\n      <th>4</th>\n      <td>3</td>\n      <td>2</td>\n      <td>3/8</td>\n      <td>I</td>\n      <td>NaN</td>\n      <td>F</td>\n      <td>I</td>\n      <td>NaN</td>\n      <td>I</td>\n      <td>I</td>\n      <td>...</td>\n      <td>False</td>\n      <td>(0, 4, 1)</td>\n      <td>()</td>\n      <td>0</td>\n      <td>0</td>\n      <td>&lt;NA&gt;</td>\n      <td>NaN</td>\n      <td>4</td>\n      <td>0</td>\n      <td>1/8</td>\n    </tr>\n    <tr>\n      <th>...</th>\n      <td>...</td>\n      <td>...</td>\n      <td>...</td>\n      <td>...</td>\n      <td>...</td>\n      <td>...</td>\n      <td>...</td>\n      <td>...</td>\n      <td>...</td>\n      <td>...</td>\n      <td>...</td>\n      <td>...</td>\n      <td>...</td>\n      <td>...</td>\n      <td>...</td>\n      <td>...</td>\n      <td>...</td>\n      <td>...</td>\n      <td>...</td>\n      <td>...</td>\n      <td>...</td>\n    </tr>\n    <tr>\n      <th>304</th>\n      <td>150</td>\n      <td>148</td>\n      <td>0</td>\n      <td>V7</td>\n      <td>NaN</td>\n      <td>F</td>\n      <td>I</td>\n      <td>NaN</td>\n      <td>V7</td>\n      <td>V</td>\n      <td>...</td>\n      <td>False</td>\n      <td>(1, 5, 2, -1)</td>\n      <td>()</td>\n      <td>1</td>\n      <td>1</td>\n      <td>&lt;NA&gt;</td>\n      <td>NaN</td>\n      <td>150</td>\n      <td>1/8</td>\n      <td>1/8</td>\n    </tr>\n    <tr>\n      <th>305</th>\n      <td>150</td>\n      <td>148</td>\n      <td>1/8</td>\n      <td>V(64)</td>\n      <td>NaN</td>\n      <td>F</td>\n      <td>I</td>\n      <td>NaN</td>\n      <td>V(64)</td>\n      <td>V</td>\n      <td>...</td>\n      <td>False</td>\n      <td>(1, 0, 4)</td>\n      <td>()</td>\n      <td>1</td>\n      <td>1</td>\n      <td>&lt;NA&gt;</td>\n      <td>NaN</td>\n      <td>150</td>\n      <td>1/4</td>\n      <td>1/8</td>\n    </tr>\n    <tr>\n      <th>306</th>\n      <td>150</td>\n      <td>148</td>\n      <td>1/4</td>\n      <td>ii64</td>\n      <td>NaN</td>\n      <td>F</td>\n      <td>I</td>\n      <td>NaN</td>\n      <td>ii64</td>\n      <td>ii</td>\n      <td>...</td>\n      <td>False</td>\n      <td>(3, 2, -1)</td>\n      <td>()</td>\n      <td>2</td>\n      <td>3</td>\n      <td>&lt;NA&gt;</td>\n      <td>NaN</td>\n      <td>150</td>\n      <td>3/8</td>\n      <td>1/8</td>\n    </tr>\n    <tr>\n      <th>307</th>\n      <td>150</td>\n      <td>148</td>\n      <td>3/8</td>\n      <td>V6</td>\n      <td>NaN</td>\n      <td>F</td>\n      <td>I</td>\n      <td>NaN</td>\n      <td>V6</td>\n      <td>V</td>\n      <td>...</td>\n      <td>False</td>\n      <td>(5, 2, 1)</td>\n      <td>()</td>\n      <td>1</td>\n      <td>5</td>\n      <td>&lt;NA&gt;</td>\n      <td>NaN</td>\n      <td>151</td>\n      <td>0</td>\n      <td>1/8</td>\n    </tr>\n    <tr>\n      <th>308</th>\n      <td>151</td>\n      <td>149</td>\n      <td>0</td>\n      <td>I\\\\</td>\n      <td>NaN</td>\n      <td>F</td>\n      <td>I</td>\n      <td>NaN</td>\n      <td>I</td>\n      <td>I</td>\n      <td>...</td>\n      <td>False</td>\n      <td>(0, 4, 1)</td>\n      <td>()</td>\n      <td>0</td>\n      <td>0</td>\n      <td>&lt;NA&gt;</td>\n      <td>NaN</td>\n      <td>152</td>\n      <td>3/8</td>\n      <td>7/8</td>\n    </tr>\n  </tbody>\n</table>\n<p>309 rows × 27 columns</p>\n</div>"
     },
     "metadata": {},
     "execution_count": 17
    }
   ],
   "source": [
    "chords_df.loc[102]"
   ]
  },
  {
   "cell_type": "code",
   "execution_count": null,
   "metadata": {},
   "outputs": [],
   "source": [
    "import harmonic_inference_data as hid\n",
    "import importlib\n",
    "importlib.reload(hid)\n",
    "\n",
    "datasets = {'global': {},\n",
    "            'local': {},\n",
    "            'none': {}}\n",
    "\n",
    "datasets['global']['train'], datasets['global']['valid'], datasets['global']['test'] = hid.get_train_valid_test_splits(\n",
    "    chords_df=chords_df, notes_df=notes_df, measures_df=measures_df, files_df=files_df,\n",
    "    seed=0, h5_directory='data', h5_prefix='globalkey_811split', make_dfs=True, transpose_global=True\n",
    ")\n",
    "\n",
    "datasets['local']['train'], datasets['local']['valid'], datasets['local']['test'] = hid.get_train_valid_test_splits(\n",
    "    chords_df=chords_df, notes_df=notes_df, measures_df=measures_df, files_df=files_df,\n",
    "    seed=0, h5_directory='data', h5_prefix='localkey_811split', make_dfs=True, transpose_local=True\n",
    ")\n",
    "\n",
    "datasets['none']['train'], datasets['none']['valid'], datasets['none']['test'] = hid.get_train_valid_test_splits(\n",
    "    chords_df=chords_df, notes_df=notes_df, measures_df=measures_df, files_df=files_df,\n",
    "    seed=0, h5_directory='data', h5_prefix='811split', make_dfs=True\n",
    ")"
   ]
  },
  {
   "cell_type": "code",
   "execution_count": null,
   "metadata": {},
   "outputs": [],
   "source": [
    "import harmonic_inference_models as him\n",
    "import harmonic_utils\n",
    "import importlib\n",
    "importlib.reload(him)\n",
    "from ablation import get_masks_and_names\n",
    "import torch\n",
    "import os\n",
    "\n",
    "masks, mask_names = get_masks_and_names()\n",
    "dir_name = 'results'\n",
    "\n",
    "data = 'local'\n",
    "index = -1\n",
    "prefix = (data + '_') if data != 'none' else ''\n",
    "\n",
    "mask = torch.tensor(masks[index])\n",
    "mask_name = mask_names[index]\n",
    "checkpoint_dir = os.path.join(dir_name, prefix + mask_name)\n",
    "log_file_name = os.path.join(dir_name, prefix + mask_name + '.log')\n",
    "\n",
    "model = him.MusicScoreModel(len(datasets[data]['test'][0]['notes'][0]), len(harmonic_utils.CHORD_TYPES) * 12,\n",
    "                            dropout=0.2, input_mask=mask)\n",
    "\n",
    "print(mask_name)\n",
    "print(checkpoint_dir)"
   ]
  },
  {
   "cell_type": "code",
   "execution_count": null,
   "metadata": {},
   "outputs": [],
   "source": [
    "import os\n",
    "import model_trainer\n",
    "import importlib\n",
    "importlib.reload(model_trainer)\n",
    "\n",
    "from torch.optim import Adam\n",
    "from torch.nn import CrossEntropyLoss\n",
    "from torch.optim.lr_scheduler import ReduceLROnPlateau, StepLR\n",
    "\n",
    "optimizer = Adam(model.parameters(), lr=0.001, betas=(0.9, 0.999), eps=1e-08, weight_decay=0.001)\n",
    "criterion = CrossEntropyLoss()\n",
    "scheduler = ReduceLROnPlateau(optimizer, mode='min', factor=0.1, patience=10)\n",
    "schedule_var = 'valid_loss'\n",
    "\n",
    "trainer = model_trainer.ModelTrainer(model, train_dataset=datasets[data]['train'], valid_dataset=datasets[data]['valid'],\n",
    "                                     test_dataset=datasets[data]['test'], seed=0, num_epochs=100, early_stopping=20,\n",
    "                                     optimizer=optimizer, scheduler=scheduler, schedule_var=schedule_var,\n",
    "                                     criterion=criterion,\n",
    "                                     log_every=1, log_file_name=log_file_name,\n",
    "                                     save_every=10, save_dir=checkpoint_dir, save_prefix='checkpoint',\n",
    "                                     resume=os.path.join(checkpoint_dir, 'best.pth.tar'))"
   ]
  },
  {
   "cell_type": "code",
   "execution_count": null,
   "metadata": {},
   "outputs": [],
   "source": [
    "trainer.train()"
   ]
  },
  {
   "cell_type": "code",
   "execution_count": null,
   "metadata": {},
   "outputs": [],
   "source": [
    "trainer = model_trainer.ModelTrainer(model, train_dataset=datasets[data]['train'], valid_dataset=datasets[data]['valid'],\n",
    "                                     test_dataset=datasets[data]['test'], seed=0, num_epochs=100, early_stopping=20,\n",
    "                                     optimizer=optimizer, scheduler=scheduler, schedule_var=schedule_var,\n",
    "                                     criterion=criterion,\n",
    "                                     log_every=1, log_file_name=log_file_name,\n",
    "                                     save_every=10, save_dir=checkpoint_dir, save_prefix='checkpoint',\n",
    "                                     resume=os.path.join(checkpoint_dir, 'best.pth.tar'))\n",
    "\n",
    "loss, acc, outputs, labels = trainer.evaluate(valid=False)\n",
    "print(loss, acc)"
   ]
  },
  {
   "cell_type": "code",
   "execution_count": null,
   "metadata": {},
   "outputs": [],
   "source": [
    "import eval_utils as eu\n",
    "import harmonic_utils as hu\n",
    "import matplotlib.pyplot as plt\n",
    "\n",
    "label_strings = hu.get_one_hot_labels()\n",
    "conf_mat = eu.get_conf_mat(labels, outputs)\n",
    "\n",
    "plt.figure(figsize=(30,30))\n",
    "plt.imshow(conf_mat, interpolation='none')\n",
    "plt.colorbar()\n",
    "plt.xticks(ticks=list(range(len(label_strings))), labels=label_strings, rotation=90, fontsize=10)\n",
    "plt.yticks(ticks=list(range(len(label_strings))), labels=label_strings, fontsize=10)\n",
    "plt.show()"
   ]
  },
  {
   "cell_type": "code",
   "execution_count": null,
   "metadata": {},
   "outputs": [],
   "source": [
    "import eval_utils as eu\n",
    "\n",
    "correct, incorrect = eu.get_correct_and_incorrect_indexes(labels, outputs)\n",
    "print('Correct: ' + str(len(correct)))\n",
    "print('Incorrect: ' + str(len(incorrect)))"
   ]
  },
  {
   "cell_type": "code",
   "execution_count": null,
   "metadata": {},
   "outputs": [],
   "source": [
    "import eval_utils as eu\n",
    "    \n",
    "eu.print_result(incorrect[0], labels, outputs, limit=10, prob=False)"
   ]
  },
  {
   "cell_type": "code",
   "execution_count": null,
   "metadata": {},
   "outputs": [],
   "source": [
    "import eval_utils as eu\n",
    "\n",
    "chord, onset_notes, all_notes = eu.get_input_df_rows(incorrect[0], datasets[data]['test'])\n",
    "\n",
    "print(chord)\n",
    "print(\"USED NOTES:\")\n",
    "print(onset_notes)\n",
    "print()\n",
    "print(\"ALL NOTES:\")\n",
    "print(all_notes)"
   ]
  },
  {
   "cell_type": "code",
   "execution_count": null,
   "metadata": {},
   "outputs": [],
   "source": [
    "import matplotlib.pyplot as plt\n",
    "import eval_utils as eu\n",
    "\n",
    "correct_ranks, indexes_by_rank = eu.get_correct_ranks(labels, outputs)\n",
    "    \n",
    "plt.figure(figsize=(30,30))\n",
    "plt.bar(range(len(outputs[0])), [len(indexes) for indexes in indexes_by_rank])"
   ]
  },
  {
   "cell_type": "code",
   "execution_count": null,
   "metadata": {},
   "outputs": [],
   "source": [
    "import eval_utils as eu\n",
    "import importlib\n",
    "importlib.reload(eu)\n",
    "\n",
    "eval_df = eu.get_eval_df(labels, outputs, datasets[data]['test'])\n",
    "eval_df"
   ]
  },
  {
   "cell_type": "code",
   "execution_count": null,
   "metadata": {},
   "outputs": [],
   "source": [
    "import ablation\n",
    "import importlib\n",
    "importlib.reload(ablation)\n",
    "\n",
    "dfs = ablation.load_all_ablated_dfs(directory='results', prefix=prefix[:-1] if len(prefix) > 0 else None)\n",
    "_, mask_names = ablation.get_masks_and_names()"
   ]
  },
  {
   "cell_type": "code",
   "execution_count": null,
   "metadata": {},
   "outputs": [],
   "source": [
    "import pandas as pd\n",
    "import os\n",
    "\n",
    "logs = []\n",
    "for mask_name in mask_names:\n",
    "    logs.append(pd.read_csv(os.path.join(os.path.join('results', prefix + mask_name + '.log'))))"
   ]
  },
  {
   "cell_type": "code",
   "execution_count": null,
   "metadata": {},
   "outputs": [],
   "source": [
    "for df, log, mask_name in zip(dfs, logs, mask_names):\n",
    "    print(f\"{mask_name} Acc: {100 * df.correct.sum() / len(df)}\")\n",
    "    print(log.iloc[-1])"
   ]
  },
  {
   "cell_type": "code",
   "execution_count": null,
   "metadata": {},
   "outputs": [],
   "source": [
    "import eval_utils as eu\n",
    "\n",
    "global_df = eu.load_eval_df('results/global_no_ablation.csv')\n",
    "local_df = eu.load_eval_df('results/local_no_ablation.csv')\n",
    "none_df = eu.load_eval_df('results/no_ablation.csv')"
   ]
  },
  {
   "cell_type": "code",
   "execution_count": null,
   "metadata": {},
   "outputs": [],
   "source": [
    "global_df"
   ]
  },
  {
   "cell_type": "code",
   "execution_count": null,
   "metadata": {},
   "outputs": [],
   "source": [
    "global_counts = global_df.groupby(['correct_chord'])['correct'].agg(['mean', 'count']).sort_values('count', ascending=False)\n",
    "local_counts = local_df.groupby(['correct_chord'])['correct'].agg(['mean', 'count']).sort_values('count', ascending=False)\n",
    "none_counts = none_df.groupby(['correct_chord'])['correct'].agg(['mean', 'count']).sort_values('count', ascending=False)"
   ]
  },
  {
   "cell_type": "code",
   "execution_count": null,
   "metadata": {},
   "outputs": [],
   "source": [
    "import matplotlib.pyplot as plt\n",
    "\n",
    "plt.figure(figsize=(12,5))\n",
    "plt.scatter(global_counts['count'], global_counts['mean'], color='red', label='Global key')\n",
    "plt.scatter(local_counts['count'], local_counts['mean'], color='blue', label='Local key')\n",
    "plt.scatter(none_counts['count'], none_counts['mean'], color='yellow', label='No transposition')\n",
    "plt.title('Global key transposed')\n",
    "plt.xlabel('Count')\n",
    "plt.ylabel('Accuracy')\n",
    "plt.legend()\n",
    "plt.show()"
   ]
  },
  {
   "cell_type": "code",
   "execution_count": null,
   "metadata": {},
   "outputs": [],
   "source": []
  }
 ],
 "metadata": {
  "kernelspec": {
   "display_name": "Python 3",
   "language": "python",
   "name": "python3"
  },
  "language_info": {
   "codemirror_mode": {
    "name": "ipython",
    "version": 3
   },
   "file_extension": ".py",
   "mimetype": "text/x-python",
   "name": "python",
   "nbconvert_exporter": "python",
   "pygments_lexer": "ipython3",
   "version": "3.8.3-final"
  }
 },
 "nbformat": 4,
 "nbformat_minor": 4
}