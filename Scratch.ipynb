{
 "cells": [
  {
   "cell_type": "code",
   "execution_count": null,
   "metadata": {},
   "outputs": [],
   "source": [
    "import pandas as pd\n",
    "import numpy as np"
   ]
  },
  {
   "cell_type": "code",
   "execution_count": null,
   "metadata": {},
   "outputs": [],
   "source": [
    "from corpus_reading import read_dump\n",
    "\n",
    "chords_tsv = 'data/chord_list.tsv'\n",
    "notes_tsv = 'data/note_list.tsv'\n",
    "measures_tsv = 'data/measure_list.tsv'\n",
    "files_tsv = 'data/file_list.tsv'\n",
    "\n",
    "chords_df = read_dump(chords_tsv)\n",
    "notes_df = read_dump(notes_tsv, index_col=[0,1,2])\n",
    "measures_df = read_dump(measures_tsv)\n",
    "files_df = read_dump(files_tsv, index_col=0)\n",
    "\n",
    "# Bugfixes\n",
    "measures_df.loc[(685, 487), 'next'][0] = 488"
   ]
  },
  {
   "cell_type": "code",
   "execution_count": null,
   "metadata": {},
   "outputs": [],
   "source": [
    "files_df"
   ]
  },
  {
   "cell_type": "code",
   "execution_count": null,
   "metadata": {},
   "outputs": [],
   "source": [
    "chords_df"
   ]
  },
  {
   "cell_type": "code",
   "execution_count": null,
   "metadata": {},
   "outputs": [],
   "source": [
    "measures_df"
   ]
  },
  {
   "cell_type": "code",
   "execution_count": null,
   "metadata": {},
   "outputs": [],
   "source": [
    "notes_df"
   ]
  },
  {
   "cell_type": "code",
   "execution_count": null,
   "metadata": {},
   "outputs": [],
   "source": [
    "import corpus_utils\n",
    "import importlib\n",
    "importlib.reload(corpus_utils)\n",
    "\n",
    "measures_removed_df = corpus_utils.remove_repeats(measures_df)\n",
    "offset_mc, offset_beat = corpus_utils.get_offsets(notes_df, measures_removed_df)\n",
    "offset_df = notes_df.assign(offset_mc=offset_mc, offset_beat=offset_beat)\n",
    "merged_notes_df = corpus_utils.merge_ties(offset_df, measures=measures_removed_df)"
   ]
  },
  {
   "cell_type": "code",
   "execution_count": null,
   "metadata": {},
   "outputs": [],
   "source": [
    "import corpus_utils\n",
    "import harmonic_inference_data as hid\n",
    "import importlib\n",
    "importlib.reload(hid)\n",
    "importlib.reload(corpus_utils)\n",
    "\n",
    "dataset = hid.MusicScoreDataset(chords_df=chords_df, notes_df=merged_notes_df,\n",
    "                                measures_df=measures_removed_df, files_df=files_df,\n",
    "                                merge_ties=False)"
   ]
  },
  {
   "cell_type": "code",
   "execution_count": null,
   "metadata": {},
   "outputs": [],
   "source": [
    "# np.concatenate((np.array([midi_pitch_norm]), tpc_one_hot, octave_one_hot,\n",
    "#                               np.array([onset_level]), np.array([offset_level]),\n",
    "#                               np.array([float(onset)]), np.array([float(offset)]), np.array([float(duration)]),\n",
    "#                               np.array([is_lowest])))\n",
    "notes = np.vstack([data['notes'] for data in dataset])"
   ]
  },
  {
   "cell_type": "code",
   "execution_count": null,
   "metadata": {},
   "outputs": [],
   "source": [
    "from tqdm import tqdm\n",
    "\n",
    "for data in tqdm(dataset):\n",
    "    pass"
   ]
  },
  {
   "cell_type": "code",
   "execution_count": null,
   "metadata": {},
   "outputs": [],
   "source": [
    "print(dataset[1001])"
   ]
  },
  {
   "cell_type": "code",
   "execution_count": null,
   "metadata": {},
   "outputs": [],
   "source": [
    "print(chords_df.iloc[1001])"
   ]
  },
  {
   "cell_type": "code",
   "execution_count": null,
   "metadata": {},
   "outputs": [],
   "source": [
    "def next2sequence(nxt):\n",
    "    \"\"\"Turns a pd.Series of lists into a sequence of elements.\"\"\"\n",
    "    i = nxt.index[0]\n",
    "    last_i = nxt.index[-1]\n",
    "    acc = [i]\n",
    "    nxt = nxt.to_dict()\n",
    "    flag = 0\n",
    "    nxt_list = nxt[i]\n",
    "    l = len(nxt_list)\n",
    "    while i <= last_i:\n",
    "        if i == last_i:\n",
    "            if flag or l == 0:\n",
    "                break\n",
    "            elif l == 1: # last mc has repeat sign\n",
    "                i = nxt_list[0]\n",
    "                flag = 1\n",
    "            else:\n",
    "                raise NotImplementedError\n",
    "        elif l == 1:\n",
    "            i = nxt_list[0]\n",
    "        elif l == 2:\n",
    "            i = nxt_list[flag]\n",
    "            flag = int(not flag)\n",
    "        else:\n",
    "            raise NotImplementedError(\"More than two voltas.\")\n",
    "        acc.append(i)\n",
    "        nxt_list = nxt[i]\n",
    "        l = len(nxt_list)\n",
    "    return acc"
   ]
  },
  {
   "cell_type": "code",
   "execution_count": null,
   "metadata": {},
   "outputs": [],
   "source": []
  }
 ],
 "metadata": {
  "kernelspec": {
   "display_name": "Python 3",
   "language": "python",
   "name": "python3"
  },
  "language_info": {
   "codemirror_mode": {
    "name": "ipython",
    "version": 3
   },
   "file_extension": ".py",
   "mimetype": "text/x-python",
   "name": "python",
   "nbconvert_exporter": "python",
   "pygments_lexer": "ipython3",
   "version": "3.8.2"
  }
 },
 "nbformat": 4,
 "nbformat_minor": 4
}
