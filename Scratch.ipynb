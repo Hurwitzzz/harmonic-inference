{
 "cells": [
  {
   "cell_type": "code",
   "execution_count": null,
   "metadata": {},
   "outputs": [],
   "source": [
    "import pandas as pd\n",
    "import numpy as np"
   ]
  },
  {
   "cell_type": "code",
   "execution_count": null,
   "metadata": {},
   "outputs": [],
   "source": [
    "files = pd.read_csv('data/selected_files.tsv', sep='\\t', na_filter=False)\n",
    "files"
   ]
  },
  {
   "cell_type": "code",
   "execution_count": null,
   "metadata": {},
   "outputs": [],
   "source": [
    "chords = pd.read_csv('data/chord_list.tsv', sep='\\t', na_filter=False)\n",
    "chords"
   ]
  },
  {
   "cell_type": "code",
   "execution_count": null,
   "metadata": {},
   "outputs": [],
   "source": [
    "notes = pd.read_csv('data/chord_notes.tsv', sep='\\t', na_filter=False)\n",
    "notes"
   ]
  },
  {
   "cell_type": "code",
   "execution_count": null,
   "metadata": {},
   "outputs": [],
   "source": [
    "def get_notes_in_chord(notes, chords, chord_id):\n",
    "    \"\"\"\n",
    "    Get a DataFrame of the notes belonging to a chord with the given chord_id.\n",
    "    \n",
    "    Parameters\n",
    "    ----------\n",
    "    notes : pd.DataFrame\n",
    "        The notes DataFrame.\n",
    "        \n",
    "    chords : pd.DataFrame\n",
    "        The chords DataFrame.\n",
    "        \n",
    "    chord_id : int\n",
    "        The id of the chord whose notes we want.\n",
    "        \n",
    "    Returns\n",
    "    -------\n",
    "    chord_notes : pd.DataFrame\n",
    "        A DataFrame containing the notes withing the chord with the given chord_id.\n",
    "    \"\"\"\n",
    "    return notes.loc[notes.chord_id == chord_id]"
   ]
  },
  {
   "cell_type": "code",
   "execution_count": null,
   "metadata": {},
   "outputs": [],
   "source": [
    "chord_notes = get_notes_in_chord(notes, chords, 0)\n",
    "chord_notes"
   ]
  },
  {
   "cell_type": "code",
   "execution_count": null,
   "metadata": {},
   "outputs": [],
   "source": [
    "def get_note_vector(note):\n",
    "    \"\"\"\n",
    "    Get the vector representation of a given note.\n",
    "    \n",
    "    Parameters\n",
    "    ----------\n",
    "    note : dict\n",
    "        The pandas row of a musical note.\n",
    "        \n",
    "    Returns\n",
    "    -------\n",
    "    vector : np.array\n",
    "        The vector representation of the given note.\n",
    "    \"\"\"\n",
    "    pass"
   ]
  },
  {
   "cell_type": "code",
   "execution_count": null,
   "metadata": {},
   "outputs": [],
   "source": [
    "def get_chord_vector(chord):\n",
    "    \"\"\"\n",
    "    Get the vector representation of a given chord.\n",
    "    \n",
    "    Parameters\n",
    "    ----------\n",
    "    chord : pd.Series\n",
    "        The pandas row of a chord.\n",
    "        \n",
    "    Returns\n",
    "    -------\n",
    "    vector : np.array\n",
    "        The vector representation of the given chord.\n",
    "    \"\"\"\n",
    "    pass"
   ]
  },
  {
   "cell_type": "code",
   "execution_count": null,
   "metadata": {},
   "outputs": [],
   "source": [
    "def get_data(chords, notes, chord_id):\n",
    "    \"\"\"\n",
    "    Get the X and Y data points for the chord with the given ID.\n",
    "    \n",
    "    Parameters\n",
    "    ----------\n",
    "    notes : pd.DataFrame\n",
    "        The notes DataFrame.\n",
    "        \n",
    "    chords : pd.DataFrame\n",
    "        The chords DataFrame.\n",
    "        \n",
    "    chord_id : int\n",
    "        The id of the chord whose notes we want.\n",
    "        \n",
    "    Returns\n",
    "    -------\n",
    "    x : np.ndarray\n",
    "        An array of note vectors according to the notes of the given chord.\n",
    "        \n",
    "    y : np.array\n",
    "        The vector representation of the given chord.\n",
    "    \"\"\"\n",
    "    y = get_chord_vector(chords.loc[chords.chord_id == chord_id])\n",
    "    x = np.array([get_note_vector(note) for note in notes.loc[notes.chord_id == chord_id].iterrows()])\n",
    "    \n",
    "    return x, y"
   ]
  },
  {
   "cell_type": "code",
   "execution_count": null,
   "metadata": {},
   "outputs": [],
   "source": []
  }
 ],
 "metadata": {
  "kernelspec": {
   "display_name": "Python 3",
   "language": "python",
   "name": "python3"
  },
  "language_info": {
   "codemirror_mode": {
    "name": "ipython",
    "version": 3
   },
   "file_extension": ".py",
   "mimetype": "text/x-python",
   "name": "python",
   "nbconvert_exporter": "python",
   "pygments_lexer": "ipython3",
   "version": "3.8.2"
  }
 },
 "nbformat": 4,
 "nbformat_minor": 4
}
