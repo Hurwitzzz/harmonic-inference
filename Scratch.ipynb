{
 "cells": [
  {
   "cell_type": "code",
   "execution_count": 1,
   "metadata": {},
   "outputs": [],
   "source": [
    "import pandas as pd\n",
    "import numpy as np"
   ]
  },
  {
   "cell_type": "code",
   "execution_count": 3,
   "metadata": {
    "tags": []
   },
   "outputs": [
    {
     "output_type": "stream",
     "name": "stderr",
     "text": "100%|██████████| 749/749 [00:26<00:00, 28.32it/s]\n"
    }
   ],
   "source": [
    "from harmonic_inference.data.corpus_reading import aggregate_annotation_dfs\n",
    "from pathlib import Path\n",
    "\n",
    "ANNOTATIONS_PATH = Path('../corpora/annotations')\n",
    "OUT_DIR = Path('corpus_data')\n",
    "\n",
    "aggregate_annotation_dfs(ANNOTATIONS_PATH, OUT_DIR)"
   ]
  },
  {
   "cell_type": "code",
   "execution_count": 2,
   "metadata": {},
   "outputs": [],
   "source": [
    "from harmonic_inference.data.corpus_reading import read_dump\n",
    "from pathlib import Path\n",
    "\n",
    "files_df = read_dump(Path('corpus_data', 'files.tsv'), index_col=0)\n",
    "measures_df = read_dump(Path('corpus_data', 'measures.tsv'))\n",
    "chords_df = read_dump(Path('corpus_data', 'chords.tsv'))\n",
    "notes_df = read_dump(Path('corpus_data', 'notes.tsv'))"
   ]
  },
  {
   "cell_type": "code",
   "execution_count": 3,
   "metadata": {},
   "outputs": [],
   "source": [
    "from harmonic_inference.utils import corpus_utils as cu\n",
    "import importlib\n",
    "importlib.reload(cu)\n",
    "\n",
    "# Remove measure repeats\n",
    "if isinstance(measures_df.iloc[0].next, tuple):\n",
    "    measures_df = cu.remove_repeats(measures_df)\n",
    "\n",
    "# Add offsets\n",
    "if not all([column in notes_df.columns for column in ['offset_beat', 'offset_mc']]):\n",
    "    offset_mc, offset_beat = cu.get_offsets(notes_df, measures_df)\n",
    "    notes_df = notes_df.assign(offset_mc=offset_mc, offset_beat=offset_beat)\n",
    "\n"
   ]
  },
  {
   "cell_type": "code",
   "execution_count": 2,
   "metadata": {},
   "outputs": [],
   "source": [
    "from harmonic_inference.data.corpus_reading import read_dump\n",
    "from harmonic_inference.utils import corpus_utils as cu\n",
    "\n",
    "chords_tsv = 'data/chord_list.tsv'\n",
    "notes_tsv = 'data/note_list.tsv'\n",
    "measures_tsv = 'data/measure_list.tsv'\n",
    "files_tsv = 'data/file_list.tsv'\n",
    "\n",
    "chords_df = read_dump(chords_tsv)\n",
    "notes_df = read_dump(notes_tsv, index_col=[0,1,2])\n",
    "measures_df = read_dump(measures_tsv)\n",
    "files_df = read_dump(files_tsv, index_col=0)\n",
    "\n",
    "# Bugfixes\n",
    "measures_df.loc[(685, 487), 'next'][0] = 488\n",
    "\n",
    "# Remove measure repeats\n",
    "if isinstance(measures_df.iloc[0].next, list):\n",
    "    measures_df = cu.remove_repeats(measures_df)\n",
    "\n",
    "# Add offsets\n",
    "if not all([column in notes_df.columns for column in ['offset_beat', 'offset_mc']]):\n",
    "    offset_mc, offset_beat = cu.get_offsets(notes_df, measures_df)\n",
    "    notes_df = notes_df.assign(offset_mc=offset_mc, offset_beat=offset_beat)\n",
    "\n",
    "# Merge ties\n",
    "notes_df = cu.merge_ties(notes_df, measures=measures_df)"
   ]
  },
  {
   "cell_type": "code",
   "execution_count": 3,
   "metadata": {},
   "outputs": [
    {
     "output_type": "execute_result",
     "data": {
      "text/plain": "extension                                     .mscx\nfilename                     BWV806_01_Prélude.mscx\nmd5                e81d2b409a3c696e733ac86b86f522ee\nname                              BWV806_01_Prélude\nrel_path     annotations/Bach_Suites/English Suites\nsubcorpus                            English Suites\nName: 0, dtype: object"
     },
     "metadata": {},
     "execution_count": 3
    }
   ],
   "source": [
    "files_df.loc[0]"
   ]
  },
  {
   "cell_type": "code",
   "execution_count": 4,
   "metadata": {},
   "outputs": [
    {
     "output_type": "execute_result",
     "data": {
      "text/plain": "          mc  mn onset chords chord key pedal numeral  form figbass  ...  \\\nchord_id                                                             ...   \n0          0   1     0   .A.I     I   I  <NA>       I  <NA>    <NA>  ...   \n1          0   1   3/8     V7    V7   I  <NA>       V  <NA>       7  ...   \n2          0   1   3/4      I     I   I  <NA>       I  <NA>    <NA>  ...   \n3          0   1   9/8     V7    V7   I  <NA>       V  <NA>       7  ...   \n4          1   2     0      I     I   I  <NA>       I  <NA>    <NA>  ...   \n...       ..  ..   ...    ...   ...  ..   ...     ...   ...     ...  ...   \n228       36  37     0    IV6   IV6   I  <NA>      IV  <NA>       6  ...   \n229       36  37   3/8   IV64  IV64   I  <NA>      IV  <NA>      64  ...   \n230       36  37   1/2      I     I   I  <NA>       I  <NA>    <NA>  ...   \n231       36  37   5/8    ii7   ii7   I  <NA>      ii  <NA>       7  ...   \n232       36  37   3/4   I]\\\\     I   I  <NA>       I  <NA>    <NA>  ...   \n\n         relativeroot phraseend globalkey bass_step mc_next  onset_next  \\\nchord_id                                                                  \n0                <NA>      <NA>         A         1       0         3/8   \n1                <NA>      <NA>         A         5       0         3/4   \n2                <NA>      <NA>         A         1       0         9/8   \n3                <NA>      <NA>         A         5       1           0   \n4                <NA>      <NA>         A         1       1         3/8   \n...               ...       ...       ...       ...     ...         ...   \n228              <NA>      <NA>         A         6      36         3/8   \n229              <NA>      <NA>         A         1      36         1/2   \n230              <NA>      <NA>         A         1      36         5/8   \n231              <NA>      <NA>         A         2      36         3/4   \n232              <NA>        \\\\         A         1      37           0   \n\n         next_chord_id  chord_length globalminor  localminor  \nchord_id                                                      \n0                    1           3/8       False       False  \n1                    2           3/8       False       False  \n2                    3           3/8       False       False  \n3                    4           3/8       False       False  \n4                    5           3/8       False       False  \n...                ...           ...         ...         ...  \n228                229           3/8       False       False  \n229                230           1/8       False       False  \n230                231           1/8       False       False  \n231                232           1/8       False       False  \n232               <NA>           3/4       False       False  \n\n[233 rows x 21 columns]",
      "text/html": "<div>\n<style scoped>\n    .dataframe tbody tr th:only-of-type {\n        vertical-align: middle;\n    }\n\n    .dataframe tbody tr th {\n        vertical-align: top;\n    }\n\n    .dataframe thead th {\n        text-align: right;\n    }\n</style>\n<table border=\"1\" class=\"dataframe\">\n  <thead>\n    <tr style=\"text-align: right;\">\n      <th></th>\n      <th>mc</th>\n      <th>mn</th>\n      <th>onset</th>\n      <th>chords</th>\n      <th>chord</th>\n      <th>key</th>\n      <th>pedal</th>\n      <th>numeral</th>\n      <th>form</th>\n      <th>figbass</th>\n      <th>...</th>\n      <th>relativeroot</th>\n      <th>phraseend</th>\n      <th>globalkey</th>\n      <th>bass_step</th>\n      <th>mc_next</th>\n      <th>onset_next</th>\n      <th>next_chord_id</th>\n      <th>chord_length</th>\n      <th>globalminor</th>\n      <th>localminor</th>\n    </tr>\n    <tr>\n      <th>chord_id</th>\n      <th></th>\n      <th></th>\n      <th></th>\n      <th></th>\n      <th></th>\n      <th></th>\n      <th></th>\n      <th></th>\n      <th></th>\n      <th></th>\n      <th></th>\n      <th></th>\n      <th></th>\n      <th></th>\n      <th></th>\n      <th></th>\n      <th></th>\n      <th></th>\n      <th></th>\n      <th></th>\n      <th></th>\n    </tr>\n  </thead>\n  <tbody>\n    <tr>\n      <th>0</th>\n      <td>0</td>\n      <td>1</td>\n      <td>0</td>\n      <td>.A.I</td>\n      <td>I</td>\n      <td>I</td>\n      <td>&lt;NA&gt;</td>\n      <td>I</td>\n      <td>&lt;NA&gt;</td>\n      <td>&lt;NA&gt;</td>\n      <td>...</td>\n      <td>&lt;NA&gt;</td>\n      <td>&lt;NA&gt;</td>\n      <td>A</td>\n      <td>1</td>\n      <td>0</td>\n      <td>3/8</td>\n      <td>1</td>\n      <td>3/8</td>\n      <td>False</td>\n      <td>False</td>\n    </tr>\n    <tr>\n      <th>1</th>\n      <td>0</td>\n      <td>1</td>\n      <td>3/8</td>\n      <td>V7</td>\n      <td>V7</td>\n      <td>I</td>\n      <td>&lt;NA&gt;</td>\n      <td>V</td>\n      <td>&lt;NA&gt;</td>\n      <td>7</td>\n      <td>...</td>\n      <td>&lt;NA&gt;</td>\n      <td>&lt;NA&gt;</td>\n      <td>A</td>\n      <td>5</td>\n      <td>0</td>\n      <td>3/4</td>\n      <td>2</td>\n      <td>3/8</td>\n      <td>False</td>\n      <td>False</td>\n    </tr>\n    <tr>\n      <th>2</th>\n      <td>0</td>\n      <td>1</td>\n      <td>3/4</td>\n      <td>I</td>\n      <td>I</td>\n      <td>I</td>\n      <td>&lt;NA&gt;</td>\n      <td>I</td>\n      <td>&lt;NA&gt;</td>\n      <td>&lt;NA&gt;</td>\n      <td>...</td>\n      <td>&lt;NA&gt;</td>\n      <td>&lt;NA&gt;</td>\n      <td>A</td>\n      <td>1</td>\n      <td>0</td>\n      <td>9/8</td>\n      <td>3</td>\n      <td>3/8</td>\n      <td>False</td>\n      <td>False</td>\n    </tr>\n    <tr>\n      <th>3</th>\n      <td>0</td>\n      <td>1</td>\n      <td>9/8</td>\n      <td>V7</td>\n      <td>V7</td>\n      <td>I</td>\n      <td>&lt;NA&gt;</td>\n      <td>V</td>\n      <td>&lt;NA&gt;</td>\n      <td>7</td>\n      <td>...</td>\n      <td>&lt;NA&gt;</td>\n      <td>&lt;NA&gt;</td>\n      <td>A</td>\n      <td>5</td>\n      <td>1</td>\n      <td>0</td>\n      <td>4</td>\n      <td>3/8</td>\n      <td>False</td>\n      <td>False</td>\n    </tr>\n    <tr>\n      <th>4</th>\n      <td>1</td>\n      <td>2</td>\n      <td>0</td>\n      <td>I</td>\n      <td>I</td>\n      <td>I</td>\n      <td>&lt;NA&gt;</td>\n      <td>I</td>\n      <td>&lt;NA&gt;</td>\n      <td>&lt;NA&gt;</td>\n      <td>...</td>\n      <td>&lt;NA&gt;</td>\n      <td>&lt;NA&gt;</td>\n      <td>A</td>\n      <td>1</td>\n      <td>1</td>\n      <td>3/8</td>\n      <td>5</td>\n      <td>3/8</td>\n      <td>False</td>\n      <td>False</td>\n    </tr>\n    <tr>\n      <th>...</th>\n      <td>...</td>\n      <td>...</td>\n      <td>...</td>\n      <td>...</td>\n      <td>...</td>\n      <td>...</td>\n      <td>...</td>\n      <td>...</td>\n      <td>...</td>\n      <td>...</td>\n      <td>...</td>\n      <td>...</td>\n      <td>...</td>\n      <td>...</td>\n      <td>...</td>\n      <td>...</td>\n      <td>...</td>\n      <td>...</td>\n      <td>...</td>\n      <td>...</td>\n      <td>...</td>\n    </tr>\n    <tr>\n      <th>228</th>\n      <td>36</td>\n      <td>37</td>\n      <td>0</td>\n      <td>IV6</td>\n      <td>IV6</td>\n      <td>I</td>\n      <td>&lt;NA&gt;</td>\n      <td>IV</td>\n      <td>&lt;NA&gt;</td>\n      <td>6</td>\n      <td>...</td>\n      <td>&lt;NA&gt;</td>\n      <td>&lt;NA&gt;</td>\n      <td>A</td>\n      <td>6</td>\n      <td>36</td>\n      <td>3/8</td>\n      <td>229</td>\n      <td>3/8</td>\n      <td>False</td>\n      <td>False</td>\n    </tr>\n    <tr>\n      <th>229</th>\n      <td>36</td>\n      <td>37</td>\n      <td>3/8</td>\n      <td>IV64</td>\n      <td>IV64</td>\n      <td>I</td>\n      <td>&lt;NA&gt;</td>\n      <td>IV</td>\n      <td>&lt;NA&gt;</td>\n      <td>64</td>\n      <td>...</td>\n      <td>&lt;NA&gt;</td>\n      <td>&lt;NA&gt;</td>\n      <td>A</td>\n      <td>1</td>\n      <td>36</td>\n      <td>1/2</td>\n      <td>230</td>\n      <td>1/8</td>\n      <td>False</td>\n      <td>False</td>\n    </tr>\n    <tr>\n      <th>230</th>\n      <td>36</td>\n      <td>37</td>\n      <td>1/2</td>\n      <td>I</td>\n      <td>I</td>\n      <td>I</td>\n      <td>&lt;NA&gt;</td>\n      <td>I</td>\n      <td>&lt;NA&gt;</td>\n      <td>&lt;NA&gt;</td>\n      <td>...</td>\n      <td>&lt;NA&gt;</td>\n      <td>&lt;NA&gt;</td>\n      <td>A</td>\n      <td>1</td>\n      <td>36</td>\n      <td>5/8</td>\n      <td>231</td>\n      <td>1/8</td>\n      <td>False</td>\n      <td>False</td>\n    </tr>\n    <tr>\n      <th>231</th>\n      <td>36</td>\n      <td>37</td>\n      <td>5/8</td>\n      <td>ii7</td>\n      <td>ii7</td>\n      <td>I</td>\n      <td>&lt;NA&gt;</td>\n      <td>ii</td>\n      <td>&lt;NA&gt;</td>\n      <td>7</td>\n      <td>...</td>\n      <td>&lt;NA&gt;</td>\n      <td>&lt;NA&gt;</td>\n      <td>A</td>\n      <td>2</td>\n      <td>36</td>\n      <td>3/4</td>\n      <td>232</td>\n      <td>1/8</td>\n      <td>False</td>\n      <td>False</td>\n    </tr>\n    <tr>\n      <th>232</th>\n      <td>36</td>\n      <td>37</td>\n      <td>3/4</td>\n      <td>I]\\\\</td>\n      <td>I</td>\n      <td>I</td>\n      <td>&lt;NA&gt;</td>\n      <td>I</td>\n      <td>&lt;NA&gt;</td>\n      <td>&lt;NA&gt;</td>\n      <td>...</td>\n      <td>&lt;NA&gt;</td>\n      <td>\\\\</td>\n      <td>A</td>\n      <td>1</td>\n      <td>37</td>\n      <td>0</td>\n      <td>&lt;NA&gt;</td>\n      <td>3/4</td>\n      <td>False</td>\n      <td>False</td>\n    </tr>\n  </tbody>\n</table>\n<p>233 rows × 21 columns</p>\n</div>"
     },
     "metadata": {},
     "execution_count": 4
    }
   ],
   "source": [
    "chords_df.loc[0]"
   ]
  },
  {
   "cell_type": "code",
   "execution_count": 5,
   "metadata": {},
   "outputs": [
    {
     "output_type": "execute_result",
     "data": {
      "text/plain": "    section  keysig timesig duration act_dur offset  voices       repeats  \\\nmc                                                                          \n0         0       3    12/8      3/2     3/2      0       4  firstMeasure   \n1         0       3    12/8      3/2     3/2      0       5          <NA>   \n2         0       3    12/8      3/2     3/2      0       6          <NA>   \n3         0       3    12/8      3/2     3/2      0       3          <NA>   \n4         0       3    12/8      3/2     3/2      0       4          <NA>   \n5         0       3    12/8      3/2     3/2      0       4          <NA>   \n6         0       3    12/8      3/2     3/2      0       3          <NA>   \n7         0       3    12/8      3/2     3/2      0       4          <NA>   \n8         0       3    12/8      3/2     3/2      0       4          <NA>   \n9         0       3    12/8      3/2     3/2      0       4          <NA>   \n10        0       3    12/8      3/2     3/2      0       3          <NA>   \n11        0       3    12/8      3/2     3/2      0       3          <NA>   \n12        0       3    12/8      3/2     3/2      0       3          <NA>   \n13        0       3    12/8      3/2     3/2      0       3          <NA>   \n14        0       3    12/8      3/2     3/2      0       3          <NA>   \n15        0       3    12/8      3/2     3/2      0       5          <NA>   \n16        0       3    12/8      3/2     3/2      0       4          <NA>   \n17        0       3    12/8      3/2     3/2      0       4          <NA>   \n18        0       3    12/8      3/2     3/2      0       3          <NA>   \n19        0       3    12/8      3/2     3/2      0       3          <NA>   \n20        0       3    12/8      3/2     3/2      0       3          <NA>   \n21        0       3    12/8      3/2     3/2      0       3          <NA>   \n22        0       3    12/8      3/2     3/2      0       4          <NA>   \n23        0       3    12/8      3/2     3/2      0       5          <NA>   \n24        0       3    12/8      3/2     3/2      0       4          <NA>   \n25        0       3    12/8      3/2     3/2      0       4          <NA>   \n26        0       3    12/8      3/2     3/2      0       3          <NA>   \n27        0       3    12/8      3/2     3/2      0       3          <NA>   \n28        0       3    12/8      3/2     3/2      0       3          <NA>   \n29        0       3    12/8      3/2     3/2      0       3          <NA>   \n30        0       3    12/8      3/2     3/2      0       4          <NA>   \n31        0       3    12/8      3/2     3/2      0       4          <NA>   \n32        0       3    12/8      3/2     3/2      0       3          <NA>   \n33        0       3    12/8      3/2     3/2      0       4          <NA>   \n34        0       3    12/8      3/2     3/2      0       4          <NA>   \n35        0       3    12/8      3/2     3/2      0       5          <NA>   \n36        0       3    12/8      3/2     3/2      0       5     endRepeat   \n\n    volta barline  numbering_offset  dont_count marker  mn  next  \nmc                                                                \n0    <NA>    <NA>              <NA>        <NA>   <NA>   1     1  \n1    <NA>    <NA>              <NA>        <NA>   <NA>   2     2  \n2    <NA>    <NA>              <NA>        <NA>   <NA>   3     3  \n3    <NA>    <NA>              <NA>        <NA>   <NA>   4     4  \n4    <NA>    <NA>              <NA>        <NA>   <NA>   5     5  \n5    <NA>    <NA>              <NA>        <NA>   <NA>   6     6  \n6    <NA>    <NA>              <NA>        <NA>   <NA>   7     7  \n7    <NA>    <NA>              <NA>        <NA>   <NA>   8     8  \n8    <NA>    <NA>              <NA>        <NA>   <NA>   9     9  \n9    <NA>    <NA>              <NA>        <NA>   <NA>  10    10  \n10   <NA>    <NA>              <NA>        <NA>   <NA>  11    11  \n11   <NA>    <NA>              <NA>        <NA>   <NA>  12    12  \n12   <NA>    <NA>              <NA>        <NA>   <NA>  13    13  \n13   <NA>    <NA>              <NA>        <NA>   <NA>  14    14  \n14   <NA>    <NA>              <NA>        <NA>   <NA>  15    15  \n15   <NA>    <NA>              <NA>        <NA>   <NA>  16    16  \n16   <NA>    <NA>              <NA>        <NA>   <NA>  17    17  \n17   <NA>    <NA>              <NA>        <NA>   <NA>  18    18  \n18   <NA>    <NA>              <NA>        <NA>   <NA>  19    19  \n19   <NA>    <NA>              <NA>        <NA>   <NA>  20    20  \n20   <NA>    <NA>              <NA>        <NA>   <NA>  21    21  \n21   <NA>    <NA>              <NA>        <NA>   <NA>  22    22  \n22   <NA>    <NA>              <NA>        <NA>   <NA>  23    23  \n23   <NA>    <NA>              <NA>        <NA>   <NA>  24    24  \n24   <NA>    <NA>              <NA>        <NA>   <NA>  25    25  \n25   <NA>    <NA>              <NA>        <NA>   <NA>  26    26  \n26   <NA>    <NA>              <NA>        <NA>   <NA>  27    27  \n27   <NA>    <NA>              <NA>        <NA>   <NA>  28    28  \n28   <NA>    <NA>              <NA>        <NA>   <NA>  29    29  \n29   <NA>    <NA>              <NA>        <NA>   <NA>  30    30  \n30   <NA>    <NA>              <NA>        <NA>   <NA>  31    31  \n31   <NA>    <NA>              <NA>        <NA>   <NA>  32    32  \n32   <NA>    <NA>              <NA>        <NA>   <NA>  33    33  \n33   <NA>    <NA>              <NA>        <NA>   <NA>  34    34  \n34   <NA>    <NA>              <NA>        <NA>   <NA>  35    35  \n35   <NA>    <NA>              <NA>        <NA>   <NA>  36    36  \n36   <NA>    <NA>              <NA>        <NA>   <NA>  37  None  ",
      "text/html": "<div>\n<style scoped>\n    .dataframe tbody tr th:only-of-type {\n        vertical-align: middle;\n    }\n\n    .dataframe tbody tr th {\n        vertical-align: top;\n    }\n\n    .dataframe thead th {\n        text-align: right;\n    }\n</style>\n<table border=\"1\" class=\"dataframe\">\n  <thead>\n    <tr style=\"text-align: right;\">\n      <th></th>\n      <th>section</th>\n      <th>keysig</th>\n      <th>timesig</th>\n      <th>duration</th>\n      <th>act_dur</th>\n      <th>offset</th>\n      <th>voices</th>\n      <th>repeats</th>\n      <th>volta</th>\n      <th>barline</th>\n      <th>numbering_offset</th>\n      <th>dont_count</th>\n      <th>marker</th>\n      <th>mn</th>\n      <th>next</th>\n    </tr>\n    <tr>\n      <th>mc</th>\n      <th></th>\n      <th></th>\n      <th></th>\n      <th></th>\n      <th></th>\n      <th></th>\n      <th></th>\n      <th></th>\n      <th></th>\n      <th></th>\n      <th></th>\n      <th></th>\n      <th></th>\n      <th></th>\n      <th></th>\n    </tr>\n  </thead>\n  <tbody>\n    <tr>\n      <th>0</th>\n      <td>0</td>\n      <td>3</td>\n      <td>12/8</td>\n      <td>3/2</td>\n      <td>3/2</td>\n      <td>0</td>\n      <td>4</td>\n      <td>firstMeasure</td>\n      <td>&lt;NA&gt;</td>\n      <td>&lt;NA&gt;</td>\n      <td>&lt;NA&gt;</td>\n      <td>&lt;NA&gt;</td>\n      <td>&lt;NA&gt;</td>\n      <td>1</td>\n      <td>1</td>\n    </tr>\n    <tr>\n      <th>1</th>\n      <td>0</td>\n      <td>3</td>\n      <td>12/8</td>\n      <td>3/2</td>\n      <td>3/2</td>\n      <td>0</td>\n      <td>5</td>\n      <td>&lt;NA&gt;</td>\n      <td>&lt;NA&gt;</td>\n      <td>&lt;NA&gt;</td>\n      <td>&lt;NA&gt;</td>\n      <td>&lt;NA&gt;</td>\n      <td>&lt;NA&gt;</td>\n      <td>2</td>\n      <td>2</td>\n    </tr>\n    <tr>\n      <th>2</th>\n      <td>0</td>\n      <td>3</td>\n      <td>12/8</td>\n      <td>3/2</td>\n      <td>3/2</td>\n      <td>0</td>\n      <td>6</td>\n      <td>&lt;NA&gt;</td>\n      <td>&lt;NA&gt;</td>\n      <td>&lt;NA&gt;</td>\n      <td>&lt;NA&gt;</td>\n      <td>&lt;NA&gt;</td>\n      <td>&lt;NA&gt;</td>\n      <td>3</td>\n      <td>3</td>\n    </tr>\n    <tr>\n      <th>3</th>\n      <td>0</td>\n      <td>3</td>\n      <td>12/8</td>\n      <td>3/2</td>\n      <td>3/2</td>\n      <td>0</td>\n      <td>3</td>\n      <td>&lt;NA&gt;</td>\n      <td>&lt;NA&gt;</td>\n      <td>&lt;NA&gt;</td>\n      <td>&lt;NA&gt;</td>\n      <td>&lt;NA&gt;</td>\n      <td>&lt;NA&gt;</td>\n      <td>4</td>\n      <td>4</td>\n    </tr>\n    <tr>\n      <th>4</th>\n      <td>0</td>\n      <td>3</td>\n      <td>12/8</td>\n      <td>3/2</td>\n      <td>3/2</td>\n      <td>0</td>\n      <td>4</td>\n      <td>&lt;NA&gt;</td>\n      <td>&lt;NA&gt;</td>\n      <td>&lt;NA&gt;</td>\n      <td>&lt;NA&gt;</td>\n      <td>&lt;NA&gt;</td>\n      <td>&lt;NA&gt;</td>\n      <td>5</td>\n      <td>5</td>\n    </tr>\n    <tr>\n      <th>5</th>\n      <td>0</td>\n      <td>3</td>\n      <td>12/8</td>\n      <td>3/2</td>\n      <td>3/2</td>\n      <td>0</td>\n      <td>4</td>\n      <td>&lt;NA&gt;</td>\n      <td>&lt;NA&gt;</td>\n      <td>&lt;NA&gt;</td>\n      <td>&lt;NA&gt;</td>\n      <td>&lt;NA&gt;</td>\n      <td>&lt;NA&gt;</td>\n      <td>6</td>\n      <td>6</td>\n    </tr>\n    <tr>\n      <th>6</th>\n      <td>0</td>\n      <td>3</td>\n      <td>12/8</td>\n      <td>3/2</td>\n      <td>3/2</td>\n      <td>0</td>\n      <td>3</td>\n      <td>&lt;NA&gt;</td>\n      <td>&lt;NA&gt;</td>\n      <td>&lt;NA&gt;</td>\n      <td>&lt;NA&gt;</td>\n      <td>&lt;NA&gt;</td>\n      <td>&lt;NA&gt;</td>\n      <td>7</td>\n      <td>7</td>\n    </tr>\n    <tr>\n      <th>7</th>\n      <td>0</td>\n      <td>3</td>\n      <td>12/8</td>\n      <td>3/2</td>\n      <td>3/2</td>\n      <td>0</td>\n      <td>4</td>\n      <td>&lt;NA&gt;</td>\n      <td>&lt;NA&gt;</td>\n      <td>&lt;NA&gt;</td>\n      <td>&lt;NA&gt;</td>\n      <td>&lt;NA&gt;</td>\n      <td>&lt;NA&gt;</td>\n      <td>8</td>\n      <td>8</td>\n    </tr>\n    <tr>\n      <th>8</th>\n      <td>0</td>\n      <td>3</td>\n      <td>12/8</td>\n      <td>3/2</td>\n      <td>3/2</td>\n      <td>0</td>\n      <td>4</td>\n      <td>&lt;NA&gt;</td>\n      <td>&lt;NA&gt;</td>\n      <td>&lt;NA&gt;</td>\n      <td>&lt;NA&gt;</td>\n      <td>&lt;NA&gt;</td>\n      <td>&lt;NA&gt;</td>\n      <td>9</td>\n      <td>9</td>\n    </tr>\n    <tr>\n      <th>9</th>\n      <td>0</td>\n      <td>3</td>\n      <td>12/8</td>\n      <td>3/2</td>\n      <td>3/2</td>\n      <td>0</td>\n      <td>4</td>\n      <td>&lt;NA&gt;</td>\n      <td>&lt;NA&gt;</td>\n      <td>&lt;NA&gt;</td>\n      <td>&lt;NA&gt;</td>\n      <td>&lt;NA&gt;</td>\n      <td>&lt;NA&gt;</td>\n      <td>10</td>\n      <td>10</td>\n    </tr>\n    <tr>\n      <th>10</th>\n      <td>0</td>\n      <td>3</td>\n      <td>12/8</td>\n      <td>3/2</td>\n      <td>3/2</td>\n      <td>0</td>\n      <td>3</td>\n      <td>&lt;NA&gt;</td>\n      <td>&lt;NA&gt;</td>\n      <td>&lt;NA&gt;</td>\n      <td>&lt;NA&gt;</td>\n      <td>&lt;NA&gt;</td>\n      <td>&lt;NA&gt;</td>\n      <td>11</td>\n      <td>11</td>\n    </tr>\n    <tr>\n      <th>11</th>\n      <td>0</td>\n      <td>3</td>\n      <td>12/8</td>\n      <td>3/2</td>\n      <td>3/2</td>\n      <td>0</td>\n      <td>3</td>\n      <td>&lt;NA&gt;</td>\n      <td>&lt;NA&gt;</td>\n      <td>&lt;NA&gt;</td>\n      <td>&lt;NA&gt;</td>\n      <td>&lt;NA&gt;</td>\n      <td>&lt;NA&gt;</td>\n      <td>12</td>\n      <td>12</td>\n    </tr>\n    <tr>\n      <th>12</th>\n      <td>0</td>\n      <td>3</td>\n      <td>12/8</td>\n      <td>3/2</td>\n      <td>3/2</td>\n      <td>0</td>\n      <td>3</td>\n      <td>&lt;NA&gt;</td>\n      <td>&lt;NA&gt;</td>\n      <td>&lt;NA&gt;</td>\n      <td>&lt;NA&gt;</td>\n      <td>&lt;NA&gt;</td>\n      <td>&lt;NA&gt;</td>\n      <td>13</td>\n      <td>13</td>\n    </tr>\n    <tr>\n      <th>13</th>\n      <td>0</td>\n      <td>3</td>\n      <td>12/8</td>\n      <td>3/2</td>\n      <td>3/2</td>\n      <td>0</td>\n      <td>3</td>\n      <td>&lt;NA&gt;</td>\n      <td>&lt;NA&gt;</td>\n      <td>&lt;NA&gt;</td>\n      <td>&lt;NA&gt;</td>\n      <td>&lt;NA&gt;</td>\n      <td>&lt;NA&gt;</td>\n      <td>14</td>\n      <td>14</td>\n    </tr>\n    <tr>\n      <th>14</th>\n      <td>0</td>\n      <td>3</td>\n      <td>12/8</td>\n      <td>3/2</td>\n      <td>3/2</td>\n      <td>0</td>\n      <td>3</td>\n      <td>&lt;NA&gt;</td>\n      <td>&lt;NA&gt;</td>\n      <td>&lt;NA&gt;</td>\n      <td>&lt;NA&gt;</td>\n      <td>&lt;NA&gt;</td>\n      <td>&lt;NA&gt;</td>\n      <td>15</td>\n      <td>15</td>\n    </tr>\n    <tr>\n      <th>15</th>\n      <td>0</td>\n      <td>3</td>\n      <td>12/8</td>\n      <td>3/2</td>\n      <td>3/2</td>\n      <td>0</td>\n      <td>5</td>\n      <td>&lt;NA&gt;</td>\n      <td>&lt;NA&gt;</td>\n      <td>&lt;NA&gt;</td>\n      <td>&lt;NA&gt;</td>\n      <td>&lt;NA&gt;</td>\n      <td>&lt;NA&gt;</td>\n      <td>16</td>\n      <td>16</td>\n    </tr>\n    <tr>\n      <th>16</th>\n      <td>0</td>\n      <td>3</td>\n      <td>12/8</td>\n      <td>3/2</td>\n      <td>3/2</td>\n      <td>0</td>\n      <td>4</td>\n      <td>&lt;NA&gt;</td>\n      <td>&lt;NA&gt;</td>\n      <td>&lt;NA&gt;</td>\n      <td>&lt;NA&gt;</td>\n      <td>&lt;NA&gt;</td>\n      <td>&lt;NA&gt;</td>\n      <td>17</td>\n      <td>17</td>\n    </tr>\n    <tr>\n      <th>17</th>\n      <td>0</td>\n      <td>3</td>\n      <td>12/8</td>\n      <td>3/2</td>\n      <td>3/2</td>\n      <td>0</td>\n      <td>4</td>\n      <td>&lt;NA&gt;</td>\n      <td>&lt;NA&gt;</td>\n      <td>&lt;NA&gt;</td>\n      <td>&lt;NA&gt;</td>\n      <td>&lt;NA&gt;</td>\n      <td>&lt;NA&gt;</td>\n      <td>18</td>\n      <td>18</td>\n    </tr>\n    <tr>\n      <th>18</th>\n      <td>0</td>\n      <td>3</td>\n      <td>12/8</td>\n      <td>3/2</td>\n      <td>3/2</td>\n      <td>0</td>\n      <td>3</td>\n      <td>&lt;NA&gt;</td>\n      <td>&lt;NA&gt;</td>\n      <td>&lt;NA&gt;</td>\n      <td>&lt;NA&gt;</td>\n      <td>&lt;NA&gt;</td>\n      <td>&lt;NA&gt;</td>\n      <td>19</td>\n      <td>19</td>\n    </tr>\n    <tr>\n      <th>19</th>\n      <td>0</td>\n      <td>3</td>\n      <td>12/8</td>\n      <td>3/2</td>\n      <td>3/2</td>\n      <td>0</td>\n      <td>3</td>\n      <td>&lt;NA&gt;</td>\n      <td>&lt;NA&gt;</td>\n      <td>&lt;NA&gt;</td>\n      <td>&lt;NA&gt;</td>\n      <td>&lt;NA&gt;</td>\n      <td>&lt;NA&gt;</td>\n      <td>20</td>\n      <td>20</td>\n    </tr>\n    <tr>\n      <th>20</th>\n      <td>0</td>\n      <td>3</td>\n      <td>12/8</td>\n      <td>3/2</td>\n      <td>3/2</td>\n      <td>0</td>\n      <td>3</td>\n      <td>&lt;NA&gt;</td>\n      <td>&lt;NA&gt;</td>\n      <td>&lt;NA&gt;</td>\n      <td>&lt;NA&gt;</td>\n      <td>&lt;NA&gt;</td>\n      <td>&lt;NA&gt;</td>\n      <td>21</td>\n      <td>21</td>\n    </tr>\n    <tr>\n      <th>21</th>\n      <td>0</td>\n      <td>3</td>\n      <td>12/8</td>\n      <td>3/2</td>\n      <td>3/2</td>\n      <td>0</td>\n      <td>3</td>\n      <td>&lt;NA&gt;</td>\n      <td>&lt;NA&gt;</td>\n      <td>&lt;NA&gt;</td>\n      <td>&lt;NA&gt;</td>\n      <td>&lt;NA&gt;</td>\n      <td>&lt;NA&gt;</td>\n      <td>22</td>\n      <td>22</td>\n    </tr>\n    <tr>\n      <th>22</th>\n      <td>0</td>\n      <td>3</td>\n      <td>12/8</td>\n      <td>3/2</td>\n      <td>3/2</td>\n      <td>0</td>\n      <td>4</td>\n      <td>&lt;NA&gt;</td>\n      <td>&lt;NA&gt;</td>\n      <td>&lt;NA&gt;</td>\n      <td>&lt;NA&gt;</td>\n      <td>&lt;NA&gt;</td>\n      <td>&lt;NA&gt;</td>\n      <td>23</td>\n      <td>23</td>\n    </tr>\n    <tr>\n      <th>23</th>\n      <td>0</td>\n      <td>3</td>\n      <td>12/8</td>\n      <td>3/2</td>\n      <td>3/2</td>\n      <td>0</td>\n      <td>5</td>\n      <td>&lt;NA&gt;</td>\n      <td>&lt;NA&gt;</td>\n      <td>&lt;NA&gt;</td>\n      <td>&lt;NA&gt;</td>\n      <td>&lt;NA&gt;</td>\n      <td>&lt;NA&gt;</td>\n      <td>24</td>\n      <td>24</td>\n    </tr>\n    <tr>\n      <th>24</th>\n      <td>0</td>\n      <td>3</td>\n      <td>12/8</td>\n      <td>3/2</td>\n      <td>3/2</td>\n      <td>0</td>\n      <td>4</td>\n      <td>&lt;NA&gt;</td>\n      <td>&lt;NA&gt;</td>\n      <td>&lt;NA&gt;</td>\n      <td>&lt;NA&gt;</td>\n      <td>&lt;NA&gt;</td>\n      <td>&lt;NA&gt;</td>\n      <td>25</td>\n      <td>25</td>\n    </tr>\n    <tr>\n      <th>25</th>\n      <td>0</td>\n      <td>3</td>\n      <td>12/8</td>\n      <td>3/2</td>\n      <td>3/2</td>\n      <td>0</td>\n      <td>4</td>\n      <td>&lt;NA&gt;</td>\n      <td>&lt;NA&gt;</td>\n      <td>&lt;NA&gt;</td>\n      <td>&lt;NA&gt;</td>\n      <td>&lt;NA&gt;</td>\n      <td>&lt;NA&gt;</td>\n      <td>26</td>\n      <td>26</td>\n    </tr>\n    <tr>\n      <th>26</th>\n      <td>0</td>\n      <td>3</td>\n      <td>12/8</td>\n      <td>3/2</td>\n      <td>3/2</td>\n      <td>0</td>\n      <td>3</td>\n      <td>&lt;NA&gt;</td>\n      <td>&lt;NA&gt;</td>\n      <td>&lt;NA&gt;</td>\n      <td>&lt;NA&gt;</td>\n      <td>&lt;NA&gt;</td>\n      <td>&lt;NA&gt;</td>\n      <td>27</td>\n      <td>27</td>\n    </tr>\n    <tr>\n      <th>27</th>\n      <td>0</td>\n      <td>3</td>\n      <td>12/8</td>\n      <td>3/2</td>\n      <td>3/2</td>\n      <td>0</td>\n      <td>3</td>\n      <td>&lt;NA&gt;</td>\n      <td>&lt;NA&gt;</td>\n      <td>&lt;NA&gt;</td>\n      <td>&lt;NA&gt;</td>\n      <td>&lt;NA&gt;</td>\n      <td>&lt;NA&gt;</td>\n      <td>28</td>\n      <td>28</td>\n    </tr>\n    <tr>\n      <th>28</th>\n      <td>0</td>\n      <td>3</td>\n      <td>12/8</td>\n      <td>3/2</td>\n      <td>3/2</td>\n      <td>0</td>\n      <td>3</td>\n      <td>&lt;NA&gt;</td>\n      <td>&lt;NA&gt;</td>\n      <td>&lt;NA&gt;</td>\n      <td>&lt;NA&gt;</td>\n      <td>&lt;NA&gt;</td>\n      <td>&lt;NA&gt;</td>\n      <td>29</td>\n      <td>29</td>\n    </tr>\n    <tr>\n      <th>29</th>\n      <td>0</td>\n      <td>3</td>\n      <td>12/8</td>\n      <td>3/2</td>\n      <td>3/2</td>\n      <td>0</td>\n      <td>3</td>\n      <td>&lt;NA&gt;</td>\n      <td>&lt;NA&gt;</td>\n      <td>&lt;NA&gt;</td>\n      <td>&lt;NA&gt;</td>\n      <td>&lt;NA&gt;</td>\n      <td>&lt;NA&gt;</td>\n      <td>30</td>\n      <td>30</td>\n    </tr>\n    <tr>\n      <th>30</th>\n      <td>0</td>\n      <td>3</td>\n      <td>12/8</td>\n      <td>3/2</td>\n      <td>3/2</td>\n      <td>0</td>\n      <td>4</td>\n      <td>&lt;NA&gt;</td>\n      <td>&lt;NA&gt;</td>\n      <td>&lt;NA&gt;</td>\n      <td>&lt;NA&gt;</td>\n      <td>&lt;NA&gt;</td>\n      <td>&lt;NA&gt;</td>\n      <td>31</td>\n      <td>31</td>\n    </tr>\n    <tr>\n      <th>31</th>\n      <td>0</td>\n      <td>3</td>\n      <td>12/8</td>\n      <td>3/2</td>\n      <td>3/2</td>\n      <td>0</td>\n      <td>4</td>\n      <td>&lt;NA&gt;</td>\n      <td>&lt;NA&gt;</td>\n      <td>&lt;NA&gt;</td>\n      <td>&lt;NA&gt;</td>\n      <td>&lt;NA&gt;</td>\n      <td>&lt;NA&gt;</td>\n      <td>32</td>\n      <td>32</td>\n    </tr>\n    <tr>\n      <th>32</th>\n      <td>0</td>\n      <td>3</td>\n      <td>12/8</td>\n      <td>3/2</td>\n      <td>3/2</td>\n      <td>0</td>\n      <td>3</td>\n      <td>&lt;NA&gt;</td>\n      <td>&lt;NA&gt;</td>\n      <td>&lt;NA&gt;</td>\n      <td>&lt;NA&gt;</td>\n      <td>&lt;NA&gt;</td>\n      <td>&lt;NA&gt;</td>\n      <td>33</td>\n      <td>33</td>\n    </tr>\n    <tr>\n      <th>33</th>\n      <td>0</td>\n      <td>3</td>\n      <td>12/8</td>\n      <td>3/2</td>\n      <td>3/2</td>\n      <td>0</td>\n      <td>4</td>\n      <td>&lt;NA&gt;</td>\n      <td>&lt;NA&gt;</td>\n      <td>&lt;NA&gt;</td>\n      <td>&lt;NA&gt;</td>\n      <td>&lt;NA&gt;</td>\n      <td>&lt;NA&gt;</td>\n      <td>34</td>\n      <td>34</td>\n    </tr>\n    <tr>\n      <th>34</th>\n      <td>0</td>\n      <td>3</td>\n      <td>12/8</td>\n      <td>3/2</td>\n      <td>3/2</td>\n      <td>0</td>\n      <td>4</td>\n      <td>&lt;NA&gt;</td>\n      <td>&lt;NA&gt;</td>\n      <td>&lt;NA&gt;</td>\n      <td>&lt;NA&gt;</td>\n      <td>&lt;NA&gt;</td>\n      <td>&lt;NA&gt;</td>\n      <td>35</td>\n      <td>35</td>\n    </tr>\n    <tr>\n      <th>35</th>\n      <td>0</td>\n      <td>3</td>\n      <td>12/8</td>\n      <td>3/2</td>\n      <td>3/2</td>\n      <td>0</td>\n      <td>5</td>\n      <td>&lt;NA&gt;</td>\n      <td>&lt;NA&gt;</td>\n      <td>&lt;NA&gt;</td>\n      <td>&lt;NA&gt;</td>\n      <td>&lt;NA&gt;</td>\n      <td>&lt;NA&gt;</td>\n      <td>36</td>\n      <td>36</td>\n    </tr>\n    <tr>\n      <th>36</th>\n      <td>0</td>\n      <td>3</td>\n      <td>12/8</td>\n      <td>3/2</td>\n      <td>3/2</td>\n      <td>0</td>\n      <td>5</td>\n      <td>endRepeat</td>\n      <td>&lt;NA&gt;</td>\n      <td>&lt;NA&gt;</td>\n      <td>&lt;NA&gt;</td>\n      <td>&lt;NA&gt;</td>\n      <td>&lt;NA&gt;</td>\n      <td>37</td>\n      <td>None</td>\n    </tr>\n  </tbody>\n</table>\n</div>"
     },
     "metadata": {},
     "execution_count": 5
    }
   ],
   "source": [
    "measures_df.loc[0]"
   ]
  },
  {
   "cell_type": "code",
   "execution_count": 6,
   "metadata": {},
   "outputs": [
    {
     "output_type": "execute_result",
     "data": {
      "text/plain": "             mc  mn onset duration gracenote nominal_duration scalar  tied  \\\nsection ix                                                                   \n0       0     0   1     0     1/16      <NA>             1/16      1  <NA>   \n        1     0   1  1/16     1/16      <NA>             1/16      1  <NA>   \n        2     0   1   1/8     1/16      <NA>             1/16      1  <NA>   \n        3     0   1  3/16     1/16      <NA>             1/16      1  <NA>   \n        4     0   1   1/4     1/16      <NA>             1/16      1  <NA>   \n...          ..  ..   ...      ...       ...              ...    ...   ...   \n        860  36  37   5/8      1/8      <NA>              1/8      1  <NA>   \n        861  36  37   5/8      1/8      <NA>              1/8      1  <NA>   \n        862  36  37   3/4      3/4      <NA>              1/2    3/2  <NA>   \n        864  36  37   3/4      3/4      <NA>              1/2    3/2  <NA>   \n        865  36  37   3/4      3/4      <NA>              1/2    3/2  <NA>   \n\n             tpc  midi  staff  voice  volta  octaves note_names  keysig  \\\nsection ix                                                                \n0       0      3    45      2      2   <NA>        2          A       3   \n        1      7    49      2      2   <NA>        3         C#       3   \n        2      4    52      2      2   <NA>        3          E       3   \n        3      3    57      2      1   <NA>        3          A       3   \n        4      8    56      2      1   <NA>        3         G#       3   \n...          ...   ...    ...    ...    ...      ...        ...     ...   \n        860    5    71      1      2   <NA>        4          B       3   \n        861    2    74      1      3   <NA>        5          D       3   \n        862    3    45      2      2   <NA>        2          A       3   \n        864    7    73      1      2   <NA>        5         C#       3   \n        865    4    76      1      3   <NA>        5          E       3   \n\n            timesig  beats offset_mc offset_beat  \nsection ix                                        \n0       0      12/8      1         0        1/16  \n        1      12/8  1.1/6         0         1/8  \n        2      12/8  1.1/3         0        3/16  \n        3      12/8  1.1/2         0         1/4  \n        4      12/8  1.2/3         0        5/16  \n...             ...    ...       ...         ...  \n        860    12/8  2.2/3        36         3/4  \n        861    12/8  2.2/3        36         3/4  \n        862    12/8      3        36         3/2  \n        864    12/8      3        36         3/2  \n        865    12/8      3        36         3/2  \n\n[774 rows x 20 columns]",
      "text/html": "<div>\n<style scoped>\n    .dataframe tbody tr th:only-of-type {\n        vertical-align: middle;\n    }\n\n    .dataframe tbody tr th {\n        vertical-align: top;\n    }\n\n    .dataframe thead th {\n        text-align: right;\n    }\n</style>\n<table border=\"1\" class=\"dataframe\">\n  <thead>\n    <tr style=\"text-align: right;\">\n      <th></th>\n      <th></th>\n      <th>mc</th>\n      <th>mn</th>\n      <th>onset</th>\n      <th>duration</th>\n      <th>gracenote</th>\n      <th>nominal_duration</th>\n      <th>scalar</th>\n      <th>tied</th>\n      <th>tpc</th>\n      <th>midi</th>\n      <th>staff</th>\n      <th>voice</th>\n      <th>volta</th>\n      <th>octaves</th>\n      <th>note_names</th>\n      <th>keysig</th>\n      <th>timesig</th>\n      <th>beats</th>\n      <th>offset_mc</th>\n      <th>offset_beat</th>\n    </tr>\n    <tr>\n      <th>section</th>\n      <th>ix</th>\n      <th></th>\n      <th></th>\n      <th></th>\n      <th></th>\n      <th></th>\n      <th></th>\n      <th></th>\n      <th></th>\n      <th></th>\n      <th></th>\n      <th></th>\n      <th></th>\n      <th></th>\n      <th></th>\n      <th></th>\n      <th></th>\n      <th></th>\n      <th></th>\n      <th></th>\n      <th></th>\n    </tr>\n  </thead>\n  <tbody>\n    <tr>\n      <th rowspan=\"11\" valign=\"top\">0</th>\n      <th>0</th>\n      <td>0</td>\n      <td>1</td>\n      <td>0</td>\n      <td>1/16</td>\n      <td>&lt;NA&gt;</td>\n      <td>1/16</td>\n      <td>1</td>\n      <td>&lt;NA&gt;</td>\n      <td>3</td>\n      <td>45</td>\n      <td>2</td>\n      <td>2</td>\n      <td>&lt;NA&gt;</td>\n      <td>2</td>\n      <td>A</td>\n      <td>3</td>\n      <td>12/8</td>\n      <td>1</td>\n      <td>0</td>\n      <td>1/16</td>\n    </tr>\n    <tr>\n      <th>1</th>\n      <td>0</td>\n      <td>1</td>\n      <td>1/16</td>\n      <td>1/16</td>\n      <td>&lt;NA&gt;</td>\n      <td>1/16</td>\n      <td>1</td>\n      <td>&lt;NA&gt;</td>\n      <td>7</td>\n      <td>49</td>\n      <td>2</td>\n      <td>2</td>\n      <td>&lt;NA&gt;</td>\n      <td>3</td>\n      <td>C#</td>\n      <td>3</td>\n      <td>12/8</td>\n      <td>1.1/6</td>\n      <td>0</td>\n      <td>1/8</td>\n    </tr>\n    <tr>\n      <th>2</th>\n      <td>0</td>\n      <td>1</td>\n      <td>1/8</td>\n      <td>1/16</td>\n      <td>&lt;NA&gt;</td>\n      <td>1/16</td>\n      <td>1</td>\n      <td>&lt;NA&gt;</td>\n      <td>4</td>\n      <td>52</td>\n      <td>2</td>\n      <td>2</td>\n      <td>&lt;NA&gt;</td>\n      <td>3</td>\n      <td>E</td>\n      <td>3</td>\n      <td>12/8</td>\n      <td>1.1/3</td>\n      <td>0</td>\n      <td>3/16</td>\n    </tr>\n    <tr>\n      <th>3</th>\n      <td>0</td>\n      <td>1</td>\n      <td>3/16</td>\n      <td>1/16</td>\n      <td>&lt;NA&gt;</td>\n      <td>1/16</td>\n      <td>1</td>\n      <td>&lt;NA&gt;</td>\n      <td>3</td>\n      <td>57</td>\n      <td>2</td>\n      <td>1</td>\n      <td>&lt;NA&gt;</td>\n      <td>3</td>\n      <td>A</td>\n      <td>3</td>\n      <td>12/8</td>\n      <td>1.1/2</td>\n      <td>0</td>\n      <td>1/4</td>\n    </tr>\n    <tr>\n      <th>4</th>\n      <td>0</td>\n      <td>1</td>\n      <td>1/4</td>\n      <td>1/16</td>\n      <td>&lt;NA&gt;</td>\n      <td>1/16</td>\n      <td>1</td>\n      <td>&lt;NA&gt;</td>\n      <td>8</td>\n      <td>56</td>\n      <td>2</td>\n      <td>1</td>\n      <td>&lt;NA&gt;</td>\n      <td>3</td>\n      <td>G#</td>\n      <td>3</td>\n      <td>12/8</td>\n      <td>1.2/3</td>\n      <td>0</td>\n      <td>5/16</td>\n    </tr>\n    <tr>\n      <th>...</th>\n      <td>...</td>\n      <td>...</td>\n      <td>...</td>\n      <td>...</td>\n      <td>...</td>\n      <td>...</td>\n      <td>...</td>\n      <td>...</td>\n      <td>...</td>\n      <td>...</td>\n      <td>...</td>\n      <td>...</td>\n      <td>...</td>\n      <td>...</td>\n      <td>...</td>\n      <td>...</td>\n      <td>...</td>\n      <td>...</td>\n      <td>...</td>\n      <td>...</td>\n    </tr>\n    <tr>\n      <th>860</th>\n      <td>36</td>\n      <td>37</td>\n      <td>5/8</td>\n      <td>1/8</td>\n      <td>&lt;NA&gt;</td>\n      <td>1/8</td>\n      <td>1</td>\n      <td>&lt;NA&gt;</td>\n      <td>5</td>\n      <td>71</td>\n      <td>1</td>\n      <td>2</td>\n      <td>&lt;NA&gt;</td>\n      <td>4</td>\n      <td>B</td>\n      <td>3</td>\n      <td>12/8</td>\n      <td>2.2/3</td>\n      <td>36</td>\n      <td>3/4</td>\n    </tr>\n    <tr>\n      <th>861</th>\n      <td>36</td>\n      <td>37</td>\n      <td>5/8</td>\n      <td>1/8</td>\n      <td>&lt;NA&gt;</td>\n      <td>1/8</td>\n      <td>1</td>\n      <td>&lt;NA&gt;</td>\n      <td>2</td>\n      <td>74</td>\n      <td>1</td>\n      <td>3</td>\n      <td>&lt;NA&gt;</td>\n      <td>5</td>\n      <td>D</td>\n      <td>3</td>\n      <td>12/8</td>\n      <td>2.2/3</td>\n      <td>36</td>\n      <td>3/4</td>\n    </tr>\n    <tr>\n      <th>862</th>\n      <td>36</td>\n      <td>37</td>\n      <td>3/4</td>\n      <td>3/4</td>\n      <td>&lt;NA&gt;</td>\n      <td>1/2</td>\n      <td>3/2</td>\n      <td>&lt;NA&gt;</td>\n      <td>3</td>\n      <td>45</td>\n      <td>2</td>\n      <td>2</td>\n      <td>&lt;NA&gt;</td>\n      <td>2</td>\n      <td>A</td>\n      <td>3</td>\n      <td>12/8</td>\n      <td>3</td>\n      <td>36</td>\n      <td>3/2</td>\n    </tr>\n    <tr>\n      <th>864</th>\n      <td>36</td>\n      <td>37</td>\n      <td>3/4</td>\n      <td>3/4</td>\n      <td>&lt;NA&gt;</td>\n      <td>1/2</td>\n      <td>3/2</td>\n      <td>&lt;NA&gt;</td>\n      <td>7</td>\n      <td>73</td>\n      <td>1</td>\n      <td>2</td>\n      <td>&lt;NA&gt;</td>\n      <td>5</td>\n      <td>C#</td>\n      <td>3</td>\n      <td>12/8</td>\n      <td>3</td>\n      <td>36</td>\n      <td>3/2</td>\n    </tr>\n    <tr>\n      <th>865</th>\n      <td>36</td>\n      <td>37</td>\n      <td>3/4</td>\n      <td>3/4</td>\n      <td>&lt;NA&gt;</td>\n      <td>1/2</td>\n      <td>3/2</td>\n      <td>&lt;NA&gt;</td>\n      <td>4</td>\n      <td>76</td>\n      <td>1</td>\n      <td>3</td>\n      <td>&lt;NA&gt;</td>\n      <td>5</td>\n      <td>E</td>\n      <td>3</td>\n      <td>12/8</td>\n      <td>3</td>\n      <td>36</td>\n      <td>3/2</td>\n    </tr>\n  </tbody>\n</table>\n<p>774 rows × 20 columns</p>\n</div>"
     },
     "metadata": {},
     "execution_count": 6
    }
   ],
   "source": [
    "notes_df.loc[0]"
   ]
  },
  {
   "cell_type": "code",
   "execution_count": 11,
   "metadata": {
    "tags": []
   },
   "outputs": [
    {
     "output_type": "stream",
     "name": "stdout",
     "text": "A KeyMode.MAJOR\nD KeyMode.MAJOR\nA KeyMode.MAJOR\nD KeyMode.MAJOR\nE KeyMode.MAJOR\nA KeyMode.MAJOR\nE KeyMode.MAJOR\nA KeyMode.MAJOR\nE KeyMode.MAJOR\nA KeyMode.MAJOR\nE KeyMode.MAJOR\nA KeyMode.MAJOR\nE KeyMode.MAJOR\nA KeyMode.MAJOR\nE KeyMode.MAJOR\nA KeyMode.MAJOR\nE KeyMode.MAJOR\nA KeyMode.MAJOR\nE KeyMode.MAJOR\nA KeyMode.MAJOR\nE KeyMode.MAJOR\nA KeyMode.MAJOR\nE KeyMode.MAJOR\nA KeyMode.MAJOR\nD KeyMode.MAJOR\nA KeyMode.MAJOR\nF# KeyMode.MINOR\nA KeyMode.MAJOR\nF# KeyMode.MINOR\nA KeyMode.MAJOR\nE KeyMode.MAJOR\nA KeyMode.MAJOR\nF# KeyMode.MINOR\nA KeyMode.MAJOR\nF# KeyMode.MINOR\nA KeyMode.MAJOR\nF# KeyMode.MINOR\nB KeyMode.MINOR\nA KeyMode.MAJOR\nB KeyMode.MINOR\nA KeyMode.MAJOR\nB KeyMode.MINOR\nF# KeyMode.MINOR\nB KeyMode.MINOR\nA KeyMode.MAJOR\nB KeyMode.MINOR\nF# KeyMode.MINOR\nB KeyMode.MINOR\nA KeyMode.MAJOR\nB KeyMode.MINOR\nA KeyMode.MAJOR\nB KeyMode.MINOR\nA KeyMode.MAJOR\nB KeyMode.MINOR\nA KeyMode.MAJOR\nB KeyMode.MINOR\nA KeyMode.MAJOR\nE KeyMode.MAJOR\nB KeyMode.MINOR\nA KeyMode.MAJOR\nB KeyMode.MINOR\nE KeyMode.MAJOR\nA KeyMode.MAJOR\nE KeyMode.MAJOR\nA KeyMode.MAJOR\nE KeyMode.MAJOR\nA KeyMode.MAJOR\nE KeyMode.MAJOR\nA KeyMode.MAJOR\nE KeyMode.MAJOR\nA KeyMode.MAJOR\nE KeyMode.MAJOR\nA KeyMode.MAJOR\nD KeyMode.MAJOR\nA KeyMode.MAJOR\nD KeyMode.MAJOR\nA KeyMode.MAJOR\nD KeyMode.MAJOR\nA KeyMode.MAJOR\nD KeyMode.MAJOR\nA KeyMode.MAJOR\nD KeyMode.MAJOR\nA KeyMode.MAJOR\nE KeyMode.MAJOR\nA KeyMode.MAJOR\nD KeyMode.MAJOR\nA KeyMode.MAJOR\n"
    }
   ],
   "source": [
    "import harmonic_inference.data.piece as piece\n",
    "import harmonic_inference.utils.harmonic_utils as hu\n",
    "\n",
    "import importlib\n",
    "importlib.reload(piece)\n",
    "importlib.reload(hu)\n",
    "\n",
    "score_piece = piece.ScorePiece(notes_df.loc[0], chords_df.loc[0], measures_df.loc[0])\n",
    "for key in score_piece.get_keys():\n",
    "    print(key)"
   ]
  },
  {
   "cell_type": "code",
   "execution_count": 9,
   "metadata": {
    "tags": []
   },
   "outputs": [
    {
     "output_type": "execute_result",
     "data": {
      "text/plain": "          mc  mn onset      chords       chord key pedal numeral  form  \\\nchord_id                                                                 \n14695     71  72     0  #viio6/III  #viio6/III   I  <NA>    #vii     o   \n14696     71  72   1/4         III         III   I  <NA>     III  <NA>   \n14697     71  72  7/16        V7/V        V7/V   I  <NA>       V  <NA>   \n\n         figbass  ... relativeroot phraseend globalkey bass_step mc_next  \\\nchord_id          ...                                                      \n14695          6  ...          III      <NA>         E       ##4      71   \n14696       <NA>  ...         <NA>      <NA>         E         3      71   \n14697          7  ...            V      <NA>         E         2      72   \n\n          onset_next next_chord_id  chord_length globalminor  localminor  \nchord_id                                                                  \n14695            1/4         14696           1/4       False       False  \n14696           7/16         14697          3/16       False       False  \n14697           1/16         14698           1/8       False       False  \n\n[3 rows x 21 columns]",
      "text/html": "<div>\n<style scoped>\n    .dataframe tbody tr th:only-of-type {\n        vertical-align: middle;\n    }\n\n    .dataframe tbody tr th {\n        vertical-align: top;\n    }\n\n    .dataframe thead th {\n        text-align: right;\n    }\n</style>\n<table border=\"1\" class=\"dataframe\">\n  <thead>\n    <tr style=\"text-align: right;\">\n      <th></th>\n      <th>mc</th>\n      <th>mn</th>\n      <th>onset</th>\n      <th>chords</th>\n      <th>chord</th>\n      <th>key</th>\n      <th>pedal</th>\n      <th>numeral</th>\n      <th>form</th>\n      <th>figbass</th>\n      <th>...</th>\n      <th>relativeroot</th>\n      <th>phraseend</th>\n      <th>globalkey</th>\n      <th>bass_step</th>\n      <th>mc_next</th>\n      <th>onset_next</th>\n      <th>next_chord_id</th>\n      <th>chord_length</th>\n      <th>globalminor</th>\n      <th>localminor</th>\n    </tr>\n    <tr>\n      <th>chord_id</th>\n      <th></th>\n      <th></th>\n      <th></th>\n      <th></th>\n      <th></th>\n      <th></th>\n      <th></th>\n      <th></th>\n      <th></th>\n      <th></th>\n      <th></th>\n      <th></th>\n      <th></th>\n      <th></th>\n      <th></th>\n      <th></th>\n      <th></th>\n      <th></th>\n      <th></th>\n      <th></th>\n      <th></th>\n    </tr>\n  </thead>\n  <tbody>\n    <tr>\n      <th>14695</th>\n      <td>71</td>\n      <td>72</td>\n      <td>0</td>\n      <td>#viio6/III</td>\n      <td>#viio6/III</td>\n      <td>I</td>\n      <td>&lt;NA&gt;</td>\n      <td>#vii</td>\n      <td>o</td>\n      <td>6</td>\n      <td>...</td>\n      <td>III</td>\n      <td>&lt;NA&gt;</td>\n      <td>E</td>\n      <td>##4</td>\n      <td>71</td>\n      <td>1/4</td>\n      <td>14696</td>\n      <td>1/4</td>\n      <td>False</td>\n      <td>False</td>\n    </tr>\n    <tr>\n      <th>14696</th>\n      <td>71</td>\n      <td>72</td>\n      <td>1/4</td>\n      <td>III</td>\n      <td>III</td>\n      <td>I</td>\n      <td>&lt;NA&gt;</td>\n      <td>III</td>\n      <td>&lt;NA&gt;</td>\n      <td>&lt;NA&gt;</td>\n      <td>...</td>\n      <td>&lt;NA&gt;</td>\n      <td>&lt;NA&gt;</td>\n      <td>E</td>\n      <td>3</td>\n      <td>71</td>\n      <td>7/16</td>\n      <td>14697</td>\n      <td>3/16</td>\n      <td>False</td>\n      <td>False</td>\n    </tr>\n    <tr>\n      <th>14697</th>\n      <td>71</td>\n      <td>72</td>\n      <td>7/16</td>\n      <td>V7/V</td>\n      <td>V7/V</td>\n      <td>I</td>\n      <td>&lt;NA&gt;</td>\n      <td>V</td>\n      <td>&lt;NA&gt;</td>\n      <td>7</td>\n      <td>...</td>\n      <td>V</td>\n      <td>&lt;NA&gt;</td>\n      <td>E</td>\n      <td>2</td>\n      <td>72</td>\n      <td>1/16</td>\n      <td>14698</td>\n      <td>1/8</td>\n      <td>False</td>\n      <td>False</td>\n    </tr>\n  </tbody>\n</table>\n<p>3 rows × 21 columns</p>\n</div>"
     },
     "metadata": {},
     "execution_count": 9
    }
   ],
   "source": [
    "chords_df.loc[94].loc[chords_df.loc[94].mc == 71]"
   ]
  },
  {
   "cell_type": "code",
   "execution_count": 16,
   "metadata": {},
   "outputs": [
    {
     "output_type": "execute_result",
     "data": {
      "text/plain": "extension                               .mscx\nfilename                            08-1.mscx\nmd5          b69eef6286168c9d334cd29ce4bae9dd\nname                                     08-1\nrel_path        annotations/Beethoven-Sonatas\nsubcorpus                   Beethoven-Sonatas\nName: 102, dtype: object"
     },
     "metadata": {},
     "execution_count": 16
    }
   ],
   "source": [
    "files_df.loc[102]"
   ]
  },
  {
   "cell_type": "code",
   "execution_count": null,
   "metadata": {},
   "outputs": [],
   "source": [
    "import harmonic_inference_data as hid\n",
    "import importlib\n",
    "importlib.reload(hid)\n",
    "\n",
    "datasets = {'global': {},\n",
    "            'local': {},\n",
    "            'none': {}}\n",
    "\n",
    "datasets['global']['train'], datasets['global']['valid'], datasets['global']['test'] = hid.get_train_valid_test_splits(\n",
    "    chords_df=chords_df, notes_df=notes_df, measures_df=measures_df, files_df=files_df,\n",
    "    seed=0, h5_directory='data', h5_prefix='globalkey_811split', make_dfs=True, transpose_global=True\n",
    ")\n",
    "\n",
    "datasets['local']['train'], datasets['local']['valid'], datasets['local']['test'] = hid.get_train_valid_test_splits(\n",
    "    chords_df=chords_df, notes_df=notes_df, measures_df=measures_df, files_df=files_df,\n",
    "    seed=0, h5_directory='data', h5_prefix='localkey_811split', make_dfs=True, transpose_local=True\n",
    ")\n",
    "\n",
    "datasets['none']['train'], datasets['none']['valid'], datasets['none']['test'] = hid.get_train_valid_test_splits(\n",
    "    chords_df=chords_df, notes_df=notes_df, measures_df=measures_df, files_df=files_df,\n",
    "    seed=0, h5_directory='data', h5_prefix='811split', make_dfs=True\n",
    ")"
   ]
  },
  {
   "cell_type": "code",
   "execution_count": null,
   "metadata": {},
   "outputs": [],
   "source": [
    "import harmonic_inference_models as him\n",
    "import harmonic_utils\n",
    "import importlib\n",
    "importlib.reload(him)\n",
    "from ablation import get_masks_and_names\n",
    "import torch\n",
    "import os\n",
    "\n",
    "masks, mask_names = get_masks_and_names()\n",
    "dir_name = 'results'\n",
    "\n",
    "data = 'local'\n",
    "index = -1\n",
    "prefix = (data + '_') if data != 'none' else ''\n",
    "\n",
    "mask = torch.tensor(masks[index])\n",
    "mask_name = mask_names[index]\n",
    "checkpoint_dir = os.path.join(dir_name, prefix + mask_name)\n",
    "log_file_name = os.path.join(dir_name, prefix + mask_name + '.log')\n",
    "\n",
    "model = him.MusicScoreModel(len(datasets[data]['test'][0]['notes'][0]), len(harmonic_utils.CHORD_TYPES) * 12,\n",
    "                            dropout=0.2, input_mask=mask)\n",
    "\n",
    "print(mask_name)\n",
    "print(checkpoint_dir)"
   ]
  },
  {
   "cell_type": "code",
   "execution_count": null,
   "metadata": {},
   "outputs": [],
   "source": [
    "import os\n",
    "import model_trainer\n",
    "import importlib\n",
    "importlib.reload(model_trainer)\n",
    "\n",
    "from torch.optim import Adam\n",
    "from torch.nn import CrossEntropyLoss\n",
    "from torch.optim.lr_scheduler import ReduceLROnPlateau, StepLR\n",
    "\n",
    "optimizer = Adam(model.parameters(), lr=0.001, betas=(0.9, 0.999), eps=1e-08, weight_decay=0.001)\n",
    "criterion = CrossEntropyLoss()\n",
    "scheduler = ReduceLROnPlateau(optimizer, mode='min', factor=0.1, patience=10)\n",
    "schedule_var = 'valid_loss'\n",
    "\n",
    "trainer = model_trainer.ModelTrainer(model, train_dataset=datasets[data]['train'], valid_dataset=datasets[data]['valid'],\n",
    "                                     test_dataset=datasets[data]['test'], seed=0, num_epochs=100, early_stopping=20,\n",
    "                                     optimizer=optimizer, scheduler=scheduler, schedule_var=schedule_var,\n",
    "                                     criterion=criterion,\n",
    "                                     log_every=1, log_file_name=log_file_name,\n",
    "                                     save_every=10, save_dir=checkpoint_dir, save_prefix='checkpoint',\n",
    "                                     resume=os.path.join(checkpoint_dir, 'best.pth.tar'))"
   ]
  },
  {
   "cell_type": "code",
   "execution_count": null,
   "metadata": {},
   "outputs": [],
   "source": [
    "trainer.train()"
   ]
  },
  {
   "cell_type": "code",
   "execution_count": null,
   "metadata": {},
   "outputs": [],
   "source": [
    "trainer = model_trainer.ModelTrainer(model, train_dataset=datasets[data]['train'], valid_dataset=datasets[data]['valid'],\n",
    "                                     test_dataset=datasets[data]['test'], seed=0, num_epochs=100, early_stopping=20,\n",
    "                                     optimizer=optimizer, scheduler=scheduler, schedule_var=schedule_var,\n",
    "                                     criterion=criterion,\n",
    "                                     log_every=1, log_file_name=log_file_name,\n",
    "                                     save_every=10, save_dir=checkpoint_dir, save_prefix='checkpoint',\n",
    "                                     resume=os.path.join(checkpoint_dir, 'best.pth.tar'))\n",
    "\n",
    "loss, acc, outputs, labels = trainer.evaluate(valid=False)\n",
    "print(loss, acc)"
   ]
  },
  {
   "cell_type": "code",
   "execution_count": null,
   "metadata": {},
   "outputs": [],
   "source": [
    "import eval_utils as eu\n",
    "import harmonic_utils as hu\n",
    "import matplotlib.pyplot as plt\n",
    "\n",
    "label_strings = hu.get_one_hot_labels()\n",
    "conf_mat = eu.get_conf_mat(labels, outputs)\n",
    "\n",
    "plt.figure(figsize=(30,30))\n",
    "plt.imshow(conf_mat, interpolation='none')\n",
    "plt.colorbar()\n",
    "plt.xticks(ticks=list(range(len(label_strings))), labels=label_strings, rotation=90, fontsize=10)\n",
    "plt.yticks(ticks=list(range(len(label_strings))), labels=label_strings, fontsize=10)\n",
    "plt.show()"
   ]
  },
  {
   "cell_type": "code",
   "execution_count": null,
   "metadata": {},
   "outputs": [],
   "source": [
    "import eval_utils as eu\n",
    "\n",
    "correct, incorrect = eu.get_correct_and_incorrect_indexes(labels, outputs)\n",
    "print('Correct: ' + str(len(correct)))\n",
    "print('Incorrect: ' + str(len(incorrect)))"
   ]
  },
  {
   "cell_type": "code",
   "execution_count": null,
   "metadata": {},
   "outputs": [],
   "source": [
    "import eval_utils as eu\n",
    "    \n",
    "eu.print_result(incorrect[0], labels, outputs, limit=10, prob=False)"
   ]
  },
  {
   "cell_type": "code",
   "execution_count": null,
   "metadata": {},
   "outputs": [],
   "source": [
    "import eval_utils as eu\n",
    "\n",
    "chord, onset_notes, all_notes = eu.get_input_df_rows(incorrect[0], datasets[data]['test'])\n",
    "\n",
    "print(chord)\n",
    "print(\"USED NOTES:\")\n",
    "print(onset_notes)\n",
    "print()\n",
    "print(\"ALL NOTES:\")\n",
    "print(all_notes)"
   ]
  },
  {
   "cell_type": "code",
   "execution_count": null,
   "metadata": {},
   "outputs": [],
   "source": [
    "import matplotlib.pyplot as plt\n",
    "import eval_utils as eu\n",
    "\n",
    "correct_ranks, indexes_by_rank = eu.get_correct_ranks(labels, outputs)\n",
    "    \n",
    "plt.figure(figsize=(30,30))\n",
    "plt.bar(range(len(outputs[0])), [len(indexes) for indexes in indexes_by_rank])"
   ]
  },
  {
   "cell_type": "code",
   "execution_count": null,
   "metadata": {},
   "outputs": [],
   "source": [
    "import eval_utils as eu\n",
    "import importlib\n",
    "importlib.reload(eu)\n",
    "\n",
    "eval_df = eu.get_eval_df(labels, outputs, datasets[data]['test'])\n",
    "eval_df"
   ]
  },
  {
   "cell_type": "code",
   "execution_count": null,
   "metadata": {},
   "outputs": [],
   "source": [
    "import ablation\n",
    "import importlib\n",
    "importlib.reload(ablation)\n",
    "\n",
    "dfs = ablation.load_all_ablated_dfs(directory='results', prefix=prefix[:-1] if len(prefix) > 0 else None)\n",
    "_, mask_names = ablation.get_masks_and_names()"
   ]
  },
  {
   "cell_type": "code",
   "execution_count": null,
   "metadata": {},
   "outputs": [],
   "source": [
    "import pandas as pd\n",
    "import os\n",
    "\n",
    "logs = []\n",
    "for mask_name in mask_names:\n",
    "    logs.append(pd.read_csv(os.path.join(os.path.join('results', prefix + mask_name + '.log'))))"
   ]
  },
  {
   "cell_type": "code",
   "execution_count": null,
   "metadata": {},
   "outputs": [],
   "source": [
    "for df, log, mask_name in zip(dfs, logs, mask_names):\n",
    "    print(f\"{mask_name} Acc: {100 * df.correct.sum() / len(df)}\")\n",
    "    print(log.iloc[-1])"
   ]
  },
  {
   "cell_type": "code",
   "execution_count": null,
   "metadata": {},
   "outputs": [],
   "source": [
    "import eval_utils as eu\n",
    "\n",
    "global_df = eu.load_eval_df('results/global_no_ablation.csv')\n",
    "local_df = eu.load_eval_df('results/local_no_ablation.csv')\n",
    "none_df = eu.load_eval_df('results/no_ablation.csv')"
   ]
  },
  {
   "cell_type": "code",
   "execution_count": null,
   "metadata": {},
   "outputs": [],
   "source": [
    "global_df"
   ]
  },
  {
   "cell_type": "code",
   "execution_count": null,
   "metadata": {},
   "outputs": [],
   "source": [
    "global_counts = global_df.groupby(['correct_chord'])['correct'].agg(['mean', 'count']).sort_values('count', ascending=False)\n",
    "local_counts = local_df.groupby(['correct_chord'])['correct'].agg(['mean', 'count']).sort_values('count', ascending=False)\n",
    "none_counts = none_df.groupby(['correct_chord'])['correct'].agg(['mean', 'count']).sort_values('count', ascending=False)"
   ]
  },
  {
   "cell_type": "code",
   "execution_count": null,
   "metadata": {},
   "outputs": [],
   "source": [
    "import matplotlib.pyplot as plt\n",
    "\n",
    "plt.figure(figsize=(12,5))\n",
    "plt.scatter(global_counts['count'], global_counts['mean'], color='red', label='Global key')\n",
    "plt.scatter(local_counts['count'], local_counts['mean'], color='blue', label='Local key')\n",
    "plt.scatter(none_counts['count'], none_counts['mean'], color='yellow', label='No transposition')\n",
    "plt.title('Global key transposed')\n",
    "plt.xlabel('Count')\n",
    "plt.ylabel('Accuracy')\n",
    "plt.legend()\n",
    "plt.show()"
   ]
  },
  {
   "cell_type": "code",
   "execution_count": null,
   "metadata": {},
   "outputs": [],
   "source": []
  }
 ],
 "metadata": {
  "kernelspec": {
   "display_name": "Python 3",
   "language": "python",
   "name": "python3"
  },
  "language_info": {
   "codemirror_mode": {
    "name": "ipython",
    "version": 3
   },
   "file_extension": ".py",
   "mimetype": "text/x-python",
   "name": "python",
   "nbconvert_exporter": "python",
   "pygments_lexer": "ipython3",
   "version": "3.8.3"
  }
 },
 "nbformat": 4,
 "nbformat_minor": 4
}