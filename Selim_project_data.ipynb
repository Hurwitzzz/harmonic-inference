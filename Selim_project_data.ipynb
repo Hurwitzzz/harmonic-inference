{
 "metadata": {
  "language_info": {
   "codemirror_mode": {
    "name": "ipython",
    "version": 3
   },
   "file_extension": ".py",
   "mimetype": "text/x-python",
   "name": "python",
   "nbconvert_exporter": "python",
   "pygments_lexer": "ipython3",
   "version": "3.9.5"
  },
  "orig_nbformat": 2,
  "kernelspec": {
   "name": "python3",
   "display_name": "Python 3.9.5 64-bit ('harmony': conda)"
  },
  "interpreter": {
   "hash": "a57f58e30d212928e74c5602bd4e8e4f092b6859f430ed58a42bf66140f5df95"
  }
 },
 "nbformat": 4,
 "nbformat_minor": 2,
 "cells": [
  {
   "cell_type": "code",
   "execution_count": null,
   "source": [
    "import logging\n",
    "from pathlib import Path\n",
    "\n",
    "from tqdm import tqdm\n",
    "import pandas as pd\n",
    "\n",
    "from harmonic_inference.data.data_types import PitchType, NO_REDUCTION\n",
    "from harmonic_inference.data.piece import get_score_piece_from_data_frames\n",
    "from harmonic_inference.data.corpus_reading import load_clean_corpus_dfs\n",
    "import harmonic_inference.utils.harmonic_utils as hu\n",
    "\n",
    "logging.basicConfig(level=logging.DEBUG)"
   ],
   "outputs": [],
   "metadata": {}
  },
  {
   "cell_type": "code",
   "execution_count": null,
   "source": [
    "files_df, measures_df, chords_df, notes_df = load_clean_corpus_dfs('corpus_data')"
   ],
   "outputs": [],
   "metadata": {}
  },
  {
   "cell_type": "code",
   "execution_count": null,
   "source": [
    "files_df"
   ],
   "outputs": [],
   "metadata": {}
  },
  {
   "cell_type": "code",
   "execution_count": null,
   "source": [
    "measures_df"
   ],
   "outputs": [],
   "metadata": {}
  },
  {
   "cell_type": "code",
   "execution_count": null,
   "source": [
    "chords_df"
   ],
   "outputs": [],
   "metadata": {}
  },
  {
   "cell_type": "code",
   "execution_count": null,
   "source": [
    "notes_df"
   ],
   "outputs": [],
   "metadata": {}
  },
  {
   "cell_type": "code",
   "execution_count": null,
   "source": [
    "composers = sorted(set(name.split('-')[0].strip() for name in files_df.corpus_name.unique()))\n",
    "composers"
   ],
   "outputs": [],
   "metadata": {}
  },
  {
   "cell_type": "code",
   "execution_count": null,
   "source": [
    "# Make data directory\n",
    "base_dir = Path(\"Selim_data\")\n",
    "base_dir.mkdir(parents=True, exist_ok=True)"
   ],
   "outputs": [],
   "metadata": {}
  },
  {
   "cell_type": "code",
   "execution_count": null,
   "source": [
    "chord_reduction = NO_REDUCTION\n",
    "use_inversions = True\n",
    "\n",
    "for file_id, file_row in tqdm(files_df.iterrows(), desc=\"Loading pieces\", total=len(files_df)):\n",
    "    name = file_row[\"corpus_name\"] + \"..\" + file_row[\"file_name\"]\n",
    "\n",
    "    try:\n",
    "        relative_piece = get_score_piece_from_data_frames(\n",
    "            notes_df.loc[file_id],\n",
    "            chords_df.loc[file_id],\n",
    "            measures_df.loc[file_id],\n",
    "            chord_reduction=chord_reduction,\n",
    "            use_inversions=use_inversions,\n",
    "            use_relative=True,\n",
    "            name=name,\n",
    "            use_suspensions=False,\n",
    "        )\n",
    "        local_piece = get_score_piece_from_data_frames(\n",
    "            notes_df.loc[file_id],\n",
    "            chords_df.loc[file_id],\n",
    "            measures_df.loc[file_id],\n",
    "            chord_reduction=chord_reduction,\n",
    "            use_inversions=use_inversions,\n",
    "            use_relative=False,\n",
    "            name=name,\n",
    "            use_suspensions=False,\n",
    "        )\n",
    "    except Exception as e:\n",
    "        logging.error(f\"No data created for file_id {file_id}\")\n",
    "        logging.exception(e)\n",
    "        continue\n",
    "\n",
    "    chord_data = {\n",
    "        \"root\": [],  # MIDI, Absolute\n",
    "        \"relative_root\": [],  # MIDI, Absolute\n",
    "        \"relative_mode\": [],  # Categorical\n",
    "        \"type\": [],  # Categorical\n",
    "        \"inversion\": [],  # Categorical\n",
    "        \"tonic\": [],  # MIDI, Absolute\n",
    "        \"mode\": [],  # Categorical\n",
    "    }\n",
    "\n",
    "    assert len(relative_piece.get_chords()) == len(local_piece.get_chords())\n",
    "\n",
    "    for chord, local_chord in zip(relative_piece.get_chords(), local_piece.get_chords()):\n",
    "        chord = chord.to_pitch_type(PitchType.MIDI)\n",
    "        local_chord = local_chord.to_pitch_type(PitchType.MIDI)\n",
    "\n",
    "        chord_data[\"root\"].append(chord.root)\n",
    "        chord_data[\"relative_root\"].append(chord.key_tonic),\n",
    "        chord_data[\"relative_mode\"].append(chord.key_mode),\n",
    "        chord_data[\"type\"].append(hu.hc.CHORD_TYPE_TO_STRING[chord.chord_type]),\n",
    "        chord_data[\"inversion\"].append(chord.inversion)\n",
    "        chord_data[\"tonic\"].append(local_chord.key_tonic)\n",
    "        chord_data[\"mode\"].append(local_chord.key_mode)\n",
    "        \n",
    "    df = pd.DataFrame(chord_data)\n",
    "    df.to_csv(str(base_dir / name), sep=\"\\t\", index=False)"
   ],
   "outputs": [],
   "metadata": {}
  }
 ]
}