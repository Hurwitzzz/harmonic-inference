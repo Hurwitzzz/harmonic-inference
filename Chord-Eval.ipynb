{
 "cells": [
  {
   "cell_type": "markdown",
   "source": [
    "# Aligned Beethoven Sonata Data for chord-eval"
   ],
   "metadata": {}
  },
  {
   "cell_type": "code",
   "execution_count": null,
   "source": [
    "from glob import glob\n",
    "import logging\n",
    "from pathlib import Path\n",
    "from tqdm import tqdm\n",
    "\n",
    "import harmonic_inference.data.piece as piece\n",
    "from harmonic_inference.utils.eval_utils import get_labels_df\n",
    "\n",
    "OUTPUT_DIR = Path(\"Beethoven-labels\")\n",
    "if not OUTPUT_DIR.exists():\n",
    "    OUTPUT_DIR.mkdir(parents=True, exist_ok=True)"
   ],
   "outputs": [],
   "metadata": {}
  },
  {
   "cell_type": "code",
   "execution_count": null,
   "source": [
    "from harmonic_inference.data.corpus_reading import load_clean_corpus_dfs\n",
    "\n",
    "files_df, measures_df, chords_df, notes_df = load_clean_corpus_dfs('corpus_data')"
   ],
   "outputs": [],
   "metadata": {}
  },
  {
   "cell_type": "code",
   "execution_count": null,
   "source": [
    "file_ids = list(files_df.loc[files_df[\"corpus_name\"] == \"Beethoven-Sonatas\"].index)\n",
    "print(files_df.loc[92])\n",
    "chords_beethoven = chords_df.loc[file_ids]\n",
    "\n",
    "chords_beethoven.loc[chords_beethoven[\"changes\"] == \"#6\", [\"label\", \"numeral\", \"chord_tones\", \"globalkey\", \"localkey\"]]\n",
    "# chords_beethoven[\"changes\"].value_counts().index"
   ],
   "outputs": [],
   "metadata": {}
  },
  {
   "cell_type": "code",
   "execution_count": null,
   "source": [
    "for fh_filename in tqdm(glob(str(Path(\"../functional-harmony/data/BPS/scores/*.mxl\")))):\n",
    "    music_xml_path = Path(fh_filename)\n",
    "    label_csv_path = (\n",
    "        music_xml_path.parent.parent /\n",
    "        \"chords\" /\n",
    "        Path(str(music_xml_path.stem) + \".csv\")\n",
    "    )\n",
    "\n",
    "    if not label_csv_path.exists():\n",
    "        logging.error(f\"Label file {label_csv_path} does not exist. Skipping.\")\n",
    "        continue\n",
    "\n",
    "    fh_score = piece.get_score_piece_from_music_xml(music_xml_path, label_csv_path)\n",
    "\n",
    "    _, number, movement = music_xml_path.stem.split(\"_\")\n",
    "\n",
    "    dcml_corpus = \"Beethoven-Sonatas\"\n",
    "    dcml_file_name = f\"{number}-{movement[-1]}.tsv\"\n",
    "\n",
    "    df = files_df.loc[(files_df[\"corpus_name\"] == dcml_corpus) & (files_df[\"file_name\"] == dcml_file_name)]\n",
    "\n",
    "    if len(df) == 0:\n",
    "        logging.error(f\"No matching df file_id found for score {music_xml_path}. Skipping.\")\n",
    "        continue\n",
    "\n",
    "    if len(df) > 1:\n",
    "        logging.error(f\"Multiple matching df file_ids found for score {music_xml_path}: {df}.\\nUsing the first.\")\n",
    "\n",
    "    file_id = df.index[0]\n",
    "    \n",
    "    try:\n",
    "        dcml_score = piece.get_score_piece_from_data_frames(\n",
    "            notes_df.loc[file_id],\n",
    "            chords_df.loc[file_id],\n",
    "            measures_df.loc[file_id],\n",
    "            use_suspensions=True,\n",
    "        )\n",
    "    except KeyError:\n",
    "        logging.error(f\"No matching chord_df data found for score {music_xml_path} (file_id {file_id}). Skipping.\")\n",
    "        continue\n",
    "\n",
    "    fh_label_df = get_labels_df(fh_score, tpc_c=0)\n",
    "    fh_label_df.to_csv(OUTPUT_DIR / f\"fh-{number}-{movement[-1]}.tsv\", index=False, sep=\"\\t\")\n",
    "\n",
    "    dcml_label_df = get_labels_df(dcml_score, tpc_c=0)\n",
    "    dcml_label_df.to_csv(OUTPUT_DIR / f\"dcml-{number}-{movement[-1]}.tsv\", index=False, sep=\"\\t\")"
   ],
   "outputs": [],
   "metadata": {}
  }
 ],
 "metadata": {
  "orig_nbformat": 4,
  "language_info": {
   "name": "python",
   "version": "3.9.5",
   "mimetype": "text/x-python",
   "codemirror_mode": {
    "name": "ipython",
    "version": 3
   },
   "pygments_lexer": "ipython3",
   "nbconvert_exporter": "python",
   "file_extension": ".py"
  },
  "kernelspec": {
   "name": "python3",
   "display_name": "Python 3.9.5 64-bit ('harmony': conda)"
  },
  "interpreter": {
   "hash": "a57f58e30d212928e74c5602bd4e8e4f092b6859f430ed58a42bf66140f5df95"
  }
 },
 "nbformat": 4,
 "nbformat_minor": 2
}