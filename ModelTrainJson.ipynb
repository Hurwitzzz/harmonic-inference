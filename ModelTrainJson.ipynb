{
 "metadata": {
  "language_info": {
   "codemirror_mode": {
    "name": "ipython",
    "version": 3
   },
   "file_extension": ".py",
   "mimetype": "text/x-python",
   "name": "python",
   "nbconvert_exporter": "python",
   "pygments_lexer": "ipython3",
   "version": "3.7.9"
  },
  "orig_nbformat": 2,
  "kernelspec": {
   "name": "python3",
   "display_name": "Python 3.7.9 64-bit ('harmony': conda)",
   "metadata": {
    "interpreter": {
     "hash": "a191b7ca072ee042befe415e9c73f471d3b801044783c4feae37afcfb1965ba9"
    }
   }
  }
 },
 "nbformat": 4,
 "nbformat_minor": 2,
 "cells": [
  {
   "cell_type": "code",
   "execution_count": null,
   "metadata": {},
   "outputs": [],
   "source": [
    "import json\n",
    "import itertools"
   ]
  },
  {
   "cell_type": "code",
   "execution_count": null,
   "metadata": {},
   "outputs": [],
   "source": [
    "model = \"ctm\"\n",
    "\n",
    "params = {\n",
    "    \"embed_dim\": [64, 128],\n",
    "    \"lstm_layers\": [1, 2, 3],\n",
    "    \"hidden_dim\": [64, 128],\n",
    "    \"lstm_hidden_dim\": [128, 256],\n",
    "}\n",
    "\n",
    "for i, param_tuple in enumerate(itertools.product(*params.values())):\n",
    "    this_param = {key: value for key, value in zip(params.keys(), param_tuple)}\n",
    "\n",
    "    with open(os.path.join(\"model_jsons\", model, f\"{model}-{i}.json\"), \"w\") as fp:\n",
    "        json.dump(this_param, fp, indent=4)"
   ]
  },
  {
   "cell_type": "code",
   "execution_count": null,
   "metadata": {},
   "outputs": [],
   "source": [
    "model = \"ccm\"\n",
    "\n",
    "params = {\n",
    "    \"lstm_layers\": [1, 2, 3],\n",
    "    \"hidden_dim\": [128, 256],\n",
    "    \"lstm_hidden_dim\": [128, 256],\n",
    "}\n",
    "\n",
    "for i, param_tuple in enumerate(itertools.product(*params.values())):\n",
    "    this_param = {key: value for key, value in zip(params.keys(), param_tuple)}\n",
    "\n",
    "    with open(os.path.join(\"model_jsons\", model, f\"{model}-{i}.json\"), \"w\") as fp:\n",
    "        json.dump(this_param, fp, indent=4)"
   ]
  },
  {
   "cell_type": "code",
   "execution_count": null,
   "metadata": {},
   "outputs": [],
   "source": [
    "model = \"csm\"\n",
    "\n",
    "params = {\n",
    "    \"embed_dim\": [64, 128],\n",
    "    \"lstm_layers\": [1, 2, 3],\n",
    "    \"hidden_dim\": [256, 512],\n",
    "    \"lstm_hidden_dim\": [128, 256],\n",
    "    \"use_output_inversions\": [True, False],\n",
    "}\n",
    "\n",
    "for i, param_tuple in enumerate(itertools.product(*params.values())):\n",
    "    this_param = {key: value for key, value in zip(params.keys(), param_tuple)}\n",
    "\n",
    "    with open(os.path.join(\"model_jsons\", model, f\"{model}-{i}.json\"), \"w\") as fp:\n",
    "        json.dump(this_param, fp, indent=4)"
   ]
  },
  {
   "cell_type": "code",
   "execution_count": null,
   "metadata": {},
   "outputs": [],
   "source": [
    "model = \"ksm\"\n",
    "\n",
    "params = {\n",
    "    \"embed_dim\": [64, 128],\n",
    "    \"lstm_layers\": [1, 2, 3],\n",
    "    \"hidden_dim\": [128, 256],\n",
    "    \"lstm_hidden_dim\": [128, 256],\n",
    "}\n",
    "\n",
    "for i, param_tuple in enumerate(itertools.product(*params.values())):\n",
    "    this_param = {key: value for key, value in zip(params.keys(), param_tuple)}\n",
    "\n",
    "    with open(os.path.join(\"model_jsons\", model, f\"{model}-{i}.json\"), \"w\") as fp:\n",
    "        json.dump(this_param, fp, indent=4)"
   ]
  },
  {
   "cell_type": "code",
   "execution_count": null,
   "metadata": {},
   "outputs": [],
   "source": [
    "model = \"ktm\"\n",
    "\n",
    "params = {\n",
    "    \"embed_dim\": [64, 128],\n",
    "    \"lstm_layers\": [1, 2, 3],\n",
    "    \"hidden_dim\": [128, 256],\n",
    "    \"lstm_hidden_dim\": [128, 256],\n",
    "}\n",
    "\n",
    "for i, param_tuple in enumerate(itertools.product(*params.values())):\n",
    "    this_param = {key: value for key, value in zip(params.keys(), param_tuple)}\n",
    "\n",
    "    with open(os.path.join(\"model_jsons\", model, f\"{model}-{i}.json\"), \"w\") as fp:\n",
    "        json.dump(this_param, fp, indent=4)"
   ]
  }
 ]
}